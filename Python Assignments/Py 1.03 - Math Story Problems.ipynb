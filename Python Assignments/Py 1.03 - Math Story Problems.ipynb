{
 "cells": [
  {
   "cell_type": "markdown",
   "metadata": {
    "deletable": false,
    "editable": false,
    "run_control": {
     "frozen": true
    }
   },
   "source": [
    "# Py 1.03 - Math Story Problems\n",
    "___"
   ]
  },
  {
   "cell_type": "code",
   "execution_count": null,
   "metadata": {},
   "outputs": [],
   "source": [
    "name = \"Your name here\"\n",
    "print(\"Name:\", name.upper())"
   ]
  },
  {
   "cell_type": "markdown",
   "metadata": {
    "deletable": false,
    "editable": false,
    "run_control": {
     "frozen": true
    }
   },
   "source": [
    "## Purpose and Instructions:\n",
    "\n",
    "Explore the use of *Python’s* elementary arithmetic and math functions to solve problems and display results.\n",
    "\n",
    "1. Replace \"Your name here\" in the cell below the assignment title with your first and last names and then execute the cell using \"Shift-Enter\"\n",
    "3. Complete the calculations for each of the following math \"story problems\" using *Python* by first assigning values to variables and then using the variables in your calculations\n",
    "    - Don’t worry if you make a mistake. Fix the mistake, execute the cell again, and keep going\n",
    "    - Enter and execute the necessary command(s) for each problem in the provided code cell(s) below the problem statement.\n",
    "    - The expected results (with fewer decimal places than you should get) are given next to each problem number\n",
    "    - **Important:** Do not type answers from one calculation into another. Use variables instead.\n",
    "4. Finish the assignment by executing the date stamp cell at the end of the document and submitting your saved `.ipynb` file to *Canvas*"
   ]
  },
  {
   "cell_type": "markdown",
   "metadata": {
    "deletable": false,
    "editable": false,
    "run_control": {
     "frozen": true
    }
   },
   "source": [
    ">**Do this first!** \n",
    ">\n",
    "> Execute the following cell first in order to be able to use `math` module functions. If you close and then re-open this document, you will need to re-execute the cell again in order for the `math` module functions to be available."
   ]
  },
  {
   "cell_type": "code",
   "execution_count": null,
   "metadata": {
    "deletable": false,
    "editable": false
   },
   "outputs": [],
   "source": [
    "import math     # Execute this cell first in order to use math module functions"
   ]
  },
  {
   "cell_type": "markdown",
   "metadata": {
    "deletable": false,
    "editable": false,
    "run_control": {
     "frozen": true
    }
   },
   "source": [
    "**Exercise 1**, `c = 3.2494`\n",
    "\n",
    "A non-right triangle has sides named $a$, $b$, and $c$. The vertices opposite the three sides are named $A$, $B$, and $C$ respectively. The angles at each of the vertices are named $\\alpha$, $\\beta$, and $\\gamma$ respectively.\n",
    "\n",
    "For a triangle with $a=5 $, $b=7 $, and $\\gamma=25^{\\circ}$, calculate the length of side $c$ using the Law of Cosines: \n",
    "\n",
    "$\\qquad\\displaystyle c^2 = a^2 + b^2 -2ab\\cos{\\gamma}$"
   ]
  },
  {
   "cell_type": "code",
   "execution_count": null,
   "metadata": {},
   "outputs": [],
   "source": []
  },
  {
   "cell_type": "markdown",
   "metadata": {
    "deletable": false,
    "editable": false,
    "run_control": {
     "frozen": true
    }
   },
   "source": [
    "**Exercise 2**, `alpha = 40.565, beta = 114.44`\n",
    "\n",
    "Using the values from *Exercise 1* (no need to re-define the variables), calculate the angles $\\alpha$ and $\\beta$ in degrees using the Law of Sines. Recall that the three angles of a triangle must add up to 180˚. Be watchful of the ambiguous case.\n",
    "\n",
    "$\\qquad\\displaystyle \\frac{\\sin{\\alpha}}{a}= \\frac{\\sin{\\beta}}{b}=\\frac{\\sin{\\gamma}}{c}$"
   ]
  },
  {
   "cell_type": "code",
   "execution_count": null,
   "metadata": {},
   "outputs": [],
   "source": []
  },
  {
   "cell_type": "markdown",
   "metadata": {
    "deletable": false,
    "editable": false,
    "run_control": {
     "frozen": true
    }
   },
   "source": [
    "**Exercise 3**, answer = `-0.16667` for both sides\n",
    "\n",
    "Using the values from *Exercise 1* and results from *Exercise 2*, verify the Law of Tangents by calulating the left and right sides of the equation separately:\n",
    "\n",
    "$\\qquad\\displaystyle \\frac{a-b}{a+b} = \\frac{\\tan\\left({\\frac{1}{2}}{(\\alpha-\\beta\\,)} \\right)}{\\tan\\left({\\frac{1}{2}}{(\\alpha+\\beta\\,)} \\right)}$"
   ]
  },
  {
   "cell_type": "code",
   "execution_count": null,
   "metadata": {},
   "outputs": [],
   "source": [
    "# left side"
   ]
  },
  {
   "cell_type": "code",
   "execution_count": null,
   "metadata": {},
   "outputs": [],
   "source": [
    "# right side"
   ]
  },
  {
   "cell_type": "markdown",
   "metadata": {
    "deletable": false,
    "editable": false,
    "run_control": {
     "frozen": true
    }
   },
   "source": [
    "**Exercise 4**, `c = 55.337`\n",
    "\n",
    "A non-right triangle similar to that from *Exercise 1* with $a=48$, $b=34$, and $\\gamma=83^{\\circ}$ is inscribed in a circle of radius $r$. Using variable assignments for $a$, $b$, and $\\gamma$, calculate $c$ using the Law of Cosines."
   ]
  },
  {
   "cell_type": "code",
   "execution_count": null,
   "metadata": {},
   "outputs": [],
   "source": []
  },
  {
   "cell_type": "markdown",
   "metadata": {
    "deletable": false,
    "editable": false,
    "run_control": {
     "frozen": true
    }
   },
   "source": [
    "**Exercise 5**, `s = 68.669, r = 27.876`\n",
    "\n",
    "Using the values and results from *Exercise 4*, calculate the radius $r$ of the circle circumscribing the triangle using the following formula:\n",
    "\n",
    "$\\qquad\\displaystyle r= \\frac{abc}{4\\sqrt{s(s-a)(s-b)(s-c)}} $\n",
    "\n",
    "where\n",
    "\n",
    "$\\qquad\\displaystyle s=(a+b+c)/2 $"
   ]
  },
  {
   "cell_type": "code",
   "execution_count": null,
   "metadata": {},
   "outputs": [],
   "source": []
  },
  {
   "cell_type": "markdown",
   "metadata": {
    "deletable": false,
    "editable": false,
    "run_control": {
     "frozen": true
    }
   },
   "source": [
    "**Exercise 6**, `C = 85.552`\n",
    "\n",
    "The circumference of an ellipse can be approximated by: \n",
    " \n",
    "$\\qquad\\displaystyle C=\\pi\\left( 3(a+b) - \\sqrt{(3a+b)(a+3b)} \\,\\right) $\n",
    " \n",
    "Calculate the circumference of an ellipse where $a=16$ and $b=11$\n"
   ]
  },
  {
   "cell_type": "code",
   "execution_count": null,
   "metadata": {},
   "outputs": [],
   "source": []
  },
  {
   "cell_type": "markdown",
   "metadata": {
    "deletable": false,
    "editable": false,
    "run_control": {
     "frozen": true
    }
   },
   "source": [
    "**Exercise 7**, `18 empty seats, 9 buses, 333 total if all full`\n",
    "\n",
    "315 people have to be transported using buses that have a capacity of 37 seats. Using a single line expression that includes the `ceil` command from the `math` library, calculate how many seats will remain empty if enough buses are ordered to transport all of the people.\n",
    "\n",
    "How many buses are required?\n",
    "\n",
    "How many people could be transported if all buses were filled? \n"
   ]
  },
  {
   "cell_type": "code",
   "execution_count": null,
   "metadata": {},
   "outputs": [],
   "source": []
  },
  {
   "cell_type": "code",
   "execution_count": null,
   "metadata": {},
   "outputs": [],
   "source": []
  },
  {
   "cell_type": "code",
   "execution_count": null,
   "metadata": {},
   "outputs": [],
   "source": []
  },
  {
   "cell_type": "markdown",
   "metadata": {
    "deletable": false,
    "editable": false,
    "run_control": {
     "frozen": true
    }
   },
   "source": [
    "**Exercise 8**, `37 leftover apples`\n",
    "\n",
    "739 apples are to be packed and shipped such that 54 are placed in a box. By typing a single line expression that uses integer division `//`, calculate how many apples will remain unpacked if only full boxes can be shipped.\n",
    "\n",
    "Calculate it a second time using remainder division `%`."
   ]
  },
  {
   "cell_type": "code",
   "execution_count": null,
   "metadata": {},
   "outputs": [],
   "source": []
  },
  {
   "cell_type": "code",
   "execution_count": null,
   "metadata": {},
   "outputs": [],
   "source": []
  },
  {
   "cell_type": "markdown",
   "metadata": {
    "deletable": false,
    "editable": false,
    "run_control": {
     "frozen": true
    }
   },
   "source": [
    "**Exercise 9**, `316501.67 & 317000`\n",
    "\n",
    "Assign the number $316,501.673$ to a variable and then perform each of the following rounding operations. Ask for help on the `round` function by typing `help(round)` before doing any rounding.\n",
    "\n",
    "* Round to the nearest hundredth\n",
    " \n",
    "* Round to the nearest thousand"
   ]
  },
  {
   "cell_type": "code",
   "execution_count": null,
   "metadata": {},
   "outputs": [],
   "source": []
  },
  {
   "cell_type": "code",
   "execution_count": null,
   "metadata": {},
   "outputs": [],
   "source": []
  },
  {
   "cell_type": "code",
   "execution_count": null,
   "metadata": {},
   "outputs": [],
   "source": []
  },
  {
   "cell_type": "markdown",
   "metadata": {
    "deletable": false,
    "editable": false,
    "run_control": {
     "frozen": true
    }
   },
   "source": [
    "**Exercise 10**, `Vab = 0.10793`\n",
    "\n",
    "The voltage difference $V_{ab}$ between points $a$ and $b$ on a Wheatstone bridge circuit is:\n",
    "\n",
    "$\\qquad\\displaystyle V_{ab}=V \\left( \\frac{R_1 R_3 - R_2 R_4}{(R_1 + R_2)(R_3 + R_4)} \\right)$\n",
    "\n",
    "Calculate the voltage difference when $V = 14 \\text{ volts}$, $R_1 = 120.6 \\text{ ohms}$, $R_2 = 119.3 \\text{ ohms}$, $R_3 = 121.2 \\text{ ohms}$, and $R_4 = 118.8 \\text{ ohms}$. Assign the given values descriptive variables, like `V` or `R1`, before performing the voltage difference calculation."
   ]
  },
  {
   "cell_type": "code",
   "execution_count": null,
   "metadata": {},
   "outputs": [],
   "source": []
  },
  {
   "cell_type": "code",
   "execution_count": null,
   "metadata": {},
   "outputs": [],
   "source": []
  },
  {
   "cell_type": "markdown",
   "metadata": {
    "deletable": false,
    "editable": false,
    "run_control": {
     "frozen": true
    }
   },
   "source": [
    "**Exercise 11**, `C49_6 = 1.3984e+07`\n",
    "\n",
    "The number of combinations $C_{n,r}$ of taking $r$ objects out of $n$ objects is given by:\n",
    "\n",
    "$\\qquad\\displaystyle C_{n,r} = \\frac{n!}{r!(n-r)!} $\n",
    "\n",
    "Using variables for $n$ and $r$ and `math.factorial()`, determine how many combinations are possible in a lottery game for selecting 6 numbers that are drawn out of 49. You might want to use the command `from math import factorial` so that you can use `factorial()` instead of `math.factorial()` in your calculations."
   ]
  },
  {
   "cell_type": "code",
   "execution_count": null,
   "metadata": {},
   "outputs": [],
   "source": []
  },
  {
   "cell_type": "markdown",
   "metadata": {
    "deletable": false,
    "editable": false,
    "run_control": {
     "frozen": true
    }
   },
   "source": [
    "**Exercise 12**, answer = `0.13238`\n",
    "\n",
    "Using the expression given in *Exercise 11* and the expression given below, use variables to determine the probability of guessing two out of six drawn numbers.\n",
    "\n",
    "$\\qquad\\displaystyle \\frac{C_{6,2}C_{43,4}}{C_{49,6}} $"
   ]
  },
  {
   "cell_type": "code",
   "execution_count": null,
   "metadata": {},
   "outputs": [],
   "source": []
  },
  {
   "cell_type": "markdown",
   "metadata": {
    "deletable": false,
    "editable": false,
    "run_control": {
     "frozen": true
    }
   },
   "source": [
    "**Exercise 13**, answer = `-1.7782`\n",
    "\n",
    "The formula for changing the base of a logarithm is:\n",
    "\n",
    "$\\qquad\\displaystyle \\log_a{N} = \\frac{\\log_b{N}}{\\log_b{a}}$\n",
    "\n",
    "Use `math.log()` in the above expression to calculate $\\log_4(0.085)$ and test the result in the second code cell using `math.log(0.085,4)`."
   ]
  },
  {
   "cell_type": "code",
   "execution_count": null,
   "metadata": {},
   "outputs": [],
   "source": []
  },
  {
   "cell_type": "code",
   "execution_count": null,
   "metadata": {},
   "outputs": [],
   "source": []
  },
  {
   "cell_type": "markdown",
   "metadata": {
    "deletable": false,
    "editable": false,
    "run_control": {
     "frozen": true
    }
   },
   "source": [
    "**Exercise 14**, answer = `4.0816`\n",
    "\n",
    "Use the same methods as used for *Exercise 13* except use the `math.log10()` function to calculate $\\log_6(1500)$. Test the result in the second code cell using the same method as for *Exercise 13*."
   ]
  },
  {
   "cell_type": "code",
   "execution_count": null,
   "metadata": {},
   "outputs": [],
   "source": []
  },
  {
   "cell_type": "code",
   "execution_count": null,
   "metadata": {},
   "outputs": [],
   "source": []
  },
  {
   "cell_type": "markdown",
   "metadata": {
    "deletable": false,
    "editable": false,
    "run_control": {
     "frozen": true
    }
   },
   "source": [
    "**Exercise 15**, `Req = 29.495`\n",
    "\n",
    "The equivalent resistance $R_{eq}$ of four resistors ($R_1$, $R_2$, $R_3$, and $R_4$) connected in parallel is given by:\n",
    "\n",
    "$\\qquad\\displaystyle R_{eq} =\\frac{1}{\\large \\frac{1}{R_1}+\\frac{1}{R_2}+\\frac{1}{R_3}+\\frac{1}{R_4}} $\n",
    "\n",
    "Assign and use variables for each resistance to calculate $R_{eq}$ if $R_1 = 120\\Omega$, $R_2 = 220\\Omega$, $R_3 = 75\\Omega$, and $R_4 = 130\\Omega$."
   ]
  },
  {
   "cell_type": "code",
   "execution_count": null,
   "metadata": {},
   "outputs": [],
   "source": []
  },
  {
   "cell_type": "code",
   "execution_count": null,
   "metadata": {},
   "outputs": [],
   "source": []
  },
  {
   "cell_type": "markdown",
   "metadata": {
    "deletable": false,
    "editable": false,
    "run_control": {
     "frozen": true
    }
   },
   "source": [
    "**Exercise 16**, `B1 = 89414.22, B2 = 89525.47, 111.25 more`\n",
    "\n",
    "The value $B$ of a principal $P$ that is deposited in a saving account with a fixed annual interest rate $r$ after $n$ years can be calculated by the formula:\n",
    "\n",
    "$\\qquad\\displaystyle B = P\\left(1 + \\frac{r}{m} \\right)^{mn} $\n",
    " \n",
    "where $m$ is the number of times that the interest is compounded annually. Consider a $\\$80,000$ deposit for $5$ years with an annual interest rate of $2.25\\%$. Using variables, determine how much more money will be earned if the interest is compounded daily instead of yearly. Keep in mind that $2.25\\%$ must be entered as `0.0225` in *Python*.\n",
    "\n",
    "Use the `print()` function with f-strings to display results with a leading $\\$ $, a comma separator, and two decimal-places. We will learn more about this later. For now, use expressions such as `print(f\"B1 = ${B1:,.2f}\")` and `print(f\"${dollars_more:,.2f} more\")` to display your final results."
   ]
  },
  {
   "cell_type": "code",
   "execution_count": null,
   "metadata": {},
   "outputs": [],
   "source": []
  },
  {
   "cell_type": "markdown",
   "metadata": {
    "deletable": false,
    "editable": false,
    "run_control": {
     "frozen": true
    }
   },
   "source": [
    "**Exercise 17**, answer = `79/24`\n",
    "\n",
    "*Python* has a `fractions` library that includes a `Fraction()` function. Run the `from fractions import Fraction as F` cell before answering this problem. Once executed, you can enter `F(7,8)` to create the fraction $7/8$. You can also determine the fractional equivalent of a decimal value such as $\\pi$ using the same function; `F(math.pi)`. If you add the `.limit_denominator()` method to the function, you can change the value of the calculated fraction. For example `F(math.pi).limit_denominator(5000)` will convert $\\pi$ to a fraction and limit the denominator to a value less than 5000. You can perform math on fractional objects as long as all objects are either fractions or integers.\n",
    "\n",
    "Use `F()` and a `print()` command to calculate $5/8 + 16/6$ and display the result as a fraction.\n"
   ]
  },
  {
   "cell_type": "code",
   "execution_count": null,
   "metadata": {},
   "outputs": [],
   "source": [
    "from fractions import Fraction as F"
   ]
  },
  {
   "cell_type": "code",
   "execution_count": null,
   "metadata": {},
   "outputs": [],
   "source": []
  },
  {
   "cell_type": "markdown",
   "metadata": {
    "deletable": false,
    "editable": false,
    "run_control": {
     "frozen": true
    }
   },
   "source": [
    "**Exercise 18**, answer = `26431/3900`\n",
    "\n",
    "Use `F()` and a `print()` command to calculate $1/3 - 11/13 + 2.7^2$ and display the result as a fraction. You will need to limit the denominator to 5000 for the $2.7^2$ term."
   ]
  },
  {
   "cell_type": "code",
   "execution_count": null,
   "metadata": {},
   "outputs": [],
   "source": []
  },
  {
   "cell_type": "markdown",
   "metadata": {
    "deletable": false,
    "editable": false,
    "run_control": {
     "frozen": true
    }
   },
   "source": [
    "**Exercise 19**, `Error = 0.0041577`\n",
    "\n",
    "Stirling's approximation for large factorials is given by:\n",
    "\n",
    "$\\qquad\\displaystyle n! = \\sqrt{2\\,\\pi\\, n}\\left( \\frac{n}{e} \\right)^n $\n",
    "\n",
    "Use the above formula for calculating $20!$. Calculate the error between using Stirling's approximation and the true value (which can be found with `math.factorial()`) with the following formula:\n",
    " \n",
    "$\\qquad\\displaystyle \\text{Error} = \\frac{\\text{True Value} - \\text{Approximate Value}}{\\text{True Value}}$"
   ]
  },
  {
   "cell_type": "code",
   "execution_count": null,
   "metadata": {},
   "outputs": [],
   "source": []
  },
  {
   "cell_type": "markdown",
   "metadata": {
    "deletable": false,
    "editable": false,
    "run_control": {
     "frozen": true
    }
   },
   "source": [
    ">**Wrap it up**\n",
    ">\n",
    ">Execute the time stamp code cell below to show the time and date you finished and tested this script.\n",
    ">\n",
    ">Click on the **Save** button and then **Close and halt** from the **File** menu when you are done. **Submit this notebook to *Canvas* before the due date/time to receive credit.**"
   ]
  },
  {
   "cell_type": "code",
   "execution_count": null,
   "metadata": {
    "deletable": false,
    "editable": false
   },
   "outputs": [],
   "source": [
    "from datetime import datetime\n",
    "from pytz import timezone\n",
    "print(datetime.now(timezone(\"US/Eastern\")))"
   ]
  }
 ],
 "metadata": {
  "kernel_info": {
   "name": "python3"
  },
  "kernelspec": {
   "display_name": "Python 3",
   "language": "python",
   "name": "python3"
  },
  "language_info": {
   "codemirror_mode": {
    "name": "ipython",
    "version": 3
   },
   "file_extension": ".py",
   "mimetype": "text/x-python",
   "name": "python",
   "nbconvert_exporter": "python",
   "pygments_lexer": "ipython3",
   "version": "3.7.4"
  },
  "nteract": {
   "version": "0.15.0"
  },
  "varInspector": {
   "cols": {
    "lenName": 16,
    "lenType": 16,
    "lenVar": 40
   },
   "kernels_config": {
    "python": {
     "delete_cmd_postfix": "",
     "delete_cmd_prefix": "del ",
     "library": "var_list.py",
     "varRefreshCmd": "print(var_dic_list())"
    },
    "r": {
     "delete_cmd_postfix": ") ",
     "delete_cmd_prefix": "rm(",
     "library": "var_list.r",
     "varRefreshCmd": "cat(var_dic_list()) "
    }
   },
   "types_to_exclude": [
    "module",
    "function",
    "builtin_function_or_method",
    "instance",
    "_Feature"
   ],
   "window_display": false
  }
 },
 "nbformat": 4,
 "nbformat_minor": 1
}
