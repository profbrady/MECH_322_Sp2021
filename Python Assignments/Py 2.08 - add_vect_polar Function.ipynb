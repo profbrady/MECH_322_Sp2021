{
 "cells": [
  {
   "cell_type": "markdown",
   "metadata": {
    "deletable": false,
    "editable": false,
    "run_control": {
     "frozen": true
    }
   },
   "source": [
    "# Py 2.08 - `add_vect_polar` Function\n",
    "___"
   ]
  },
  {
   "cell_type": "code",
   "execution_count": null,
   "metadata": {},
   "outputs": [],
   "source": [
    "name = \"Your name here\"\n",
    "print(\"Name:\", name.upper())"
   ]
  },
  {
   "cell_type": "markdown",
   "metadata": {
    "deletable": false,
    "editable": false,
    "run_control": {
     "frozen": true
    }
   },
   "source": [
    "Create a *Python* file named **`py208.py`** and in it define a function called **`add_vect_polar(r1, theta1, r2, theta2)`** that adds two vectors that are given in polar notation $(r,\\theta)$. The function arguments should be **`(r1, theta1, r2, theta2)`** where the angles are given in degrees. The function should **return** the resultant as the tuple **`(r, theta)`** where the angle is also in degrees. This function is also a good candidate for using `math.atan2()` to calculate the resultant angle. Make sure you `import` the `math` module as part of the function. Include a docstring with the function.\n",
    "\n",
    "Test this function with the following vector pairs:\n",
    "- $v_1 = (5,23^{\\circ})$ and $v_2 = (12,40^{\\circ})$\n",
    "- $v_1 = (6,80^{\\circ})$ and $v_2 = (15,125^{\\circ})$\n",
    "\n",
    "The result for the first  vector pair should be close to $(16.8451, 35.0215)$"
   ]
  },
  {
   "cell_type": "markdown",
   "metadata": {
    "deletable": false,
    "editable": false,
    "run_control": {
     "frozen": true
    }
   },
   "source": [
    "#### Import your function definition in the first code cell using `from py208 import add_vect_polar` and test it in the remaining code cells by calling the function."
   ]
  },
  {
   "cell_type": "code",
   "execution_count": null,
   "metadata": {},
   "outputs": [],
   "source": []
  },
  {
   "cell_type": "code",
   "execution_count": null,
   "metadata": {},
   "outputs": [],
   "source": []
  },
  {
   "cell_type": "code",
   "execution_count": null,
   "metadata": {},
   "outputs": [],
   "source": []
  },
  {
   "cell_type": "markdown",
   "metadata": {
    "deletable": false,
    "editable": false,
    "run_control": {
     "frozen": true
    }
   },
   "source": [
    ">**Wrap it up**\n",
    ">\n",
    ">Execute the time stamp code cell below to show the time and date you finished and tested this script.\n",
    ">\n",
    ">Click on the **Save** button and then the **Close and halt** button when you are done. **Submit this notebook and the file containing your function to *Canvas* before the due date/time to receive credit.**"
   ]
  },
  {
   "cell_type": "code",
   "execution_count": null,
   "metadata": {
    "deletable": false,
    "editable": false
   },
   "outputs": [],
   "source": [
    "from datetime import datetime\n",
    "from pytz import timezone\n",
    "print(datetime.now(timezone('US/Eastern')))"
   ]
  }
 ],
 "metadata": {
  "kernelspec": {
   "display_name": "Python 3",
   "language": "python",
   "name": "python3"
  },
  "language_info": {
   "codemirror_mode": {
    "name": "ipython",
    "version": 3
   },
   "file_extension": ".py",
   "mimetype": "text/x-python",
   "name": "python",
   "nbconvert_exporter": "python",
   "pygments_lexer": "ipython3",
   "version": "3.7.5"
  },
  "varInspector": {
   "cols": {
    "lenName": 16,
    "lenType": 16,
    "lenVar": 40
   },
   "kernels_config": {
    "python": {
     "delete_cmd_postfix": "",
     "delete_cmd_prefix": "del ",
     "library": "var_list.py",
     "varRefreshCmd": "print(var_dic_list())"
    },
    "r": {
     "delete_cmd_postfix": ") ",
     "delete_cmd_prefix": "rm(",
     "library": "var_list.r",
     "varRefreshCmd": "cat(var_dic_list()) "
    }
   },
   "types_to_exclude": [
    "module",
    "function",
    "builtin_function_or_method",
    "instance",
    "_Feature"
   ],
   "window_display": false
  }
 },
 "nbformat": 4,
 "nbformat_minor": 1
}
