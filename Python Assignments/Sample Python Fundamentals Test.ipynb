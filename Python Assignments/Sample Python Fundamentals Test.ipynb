{
 "cells": [
  {
   "cell_type": "markdown",
   "metadata": {
    "deletable": false,
    "editable": false,
    "run_control": {
     "frozen": true
    }
   },
   "source": [
    "# Python Fundamentals Test\n",
    "___"
   ]
  },
  {
   "cell_type": "code",
   "execution_count": null,
   "metadata": {},
   "outputs": [],
   "source": [
    "name = \"Your name here\"\n",
    "print(\"Name:\", name.upper())"
   ]
  },
  {
   "cell_type": "markdown",
   "metadata": {
    "deletable": false,
    "editable": false,
    "run_control": {
     "frozen": true
    }
   },
   "source": [
    "**1. Getting Started (4 points)**\n",
    "\n",
    "- Edit and execute the cell above so that it has your first and last name instead of `Your name here`"
   ]
  },
  {
   "cell_type": "markdown",
   "metadata": {
    "deletable": false,
    "editable": false,
    "run_control": {
     "frozen": true
    }
   },
   "source": [
    "- Execute the following code cell to create a date stamp for when you started the test."
   ]
  },
  {
   "cell_type": "code",
   "execution_count": null,
   "metadata": {
    "deletable": false,
    "editable": false
   },
   "outputs": [],
   "source": [
    "from datetime import datetime\n",
    "from pytz import timezone\n",
    "print(datetime.now(timezone('US/Eastern')))"
   ]
  },
  {
   "cell_type": "markdown",
   "metadata": {
    "deletable": false,
    "editable": false,
    "run_control": {
     "frozen": true
    }
   },
   "source": [
    "- Add the following as a **comment** in the following empty code cell: **The answers provided in this test are mine and were generated without assistance from anybody else**"
   ]
  },
  {
   "cell_type": "code",
   "execution_count": null,
   "metadata": {},
   "outputs": [],
   "source": []
  },
  {
   "cell_type": "markdown",
   "metadata": {
    "deletable": false,
    "editable": false,
    "run_control": {
     "frozen": true
    }
   },
   "source": [
    "- Add a comment with your class meeting time in the empty code cell below"
   ]
  },
  {
   "cell_type": "code",
   "execution_count": null,
   "metadata": {},
   "outputs": [],
   "source": []
  },
  {
   "cell_type": "markdown",
   "metadata": {
    "deletable": false,
    "editable": false,
    "run_control": {
     "frozen": true
    }
   },
   "source": [
    "- Import the `math` module in the following code cell"
   ]
  },
  {
   "cell_type": "code",
   "execution_count": null,
   "metadata": {},
   "outputs": [],
   "source": []
  },
  {
   "cell_type": "markdown",
   "metadata": {
    "deletable": false,
    "editable": false,
    "run_control": {
     "frozen": true
    }
   },
   "source": [
    "**2. Mathematical Expressions (4 points)**\n",
    "\n",
    "Perform each calculation in its own code cell.\n",
    "\n",
    "**Part a (2 points):**\n",
    "$$16\\left(\\frac{4.2^2 + \\sqrt{11}}{\\log_{10}{(1884)}+3.1}\\right)$$"
   ]
  },
  {
   "cell_type": "code",
   "execution_count": null,
   "metadata": {},
   "outputs": [],
   "source": []
  },
  {
   "cell_type": "markdown",
   "metadata": {
    "deletable": false,
    "editable": false,
    "run_control": {
     "frozen": true
    }
   },
   "source": [
    "**Part b (2 points):**\n",
    "\n",
    "$$\\sqrt[4]{2019} + \\frac{4.1^3\\left(16-\\Large{\\frac{197}{23}}\\right)}{2.3^4+24}$$"
   ]
  },
  {
   "cell_type": "code",
   "execution_count": null,
   "metadata": {},
   "outputs": [],
   "source": []
  },
  {
   "cell_type": "markdown",
   "metadata": {
    "deletable": false,
    "editable": false,
    "run_control": {
     "frozen": true
    }
   },
   "source": [
    "**3. Current in a Switch Circuit (3 points)**\n",
    "\n",
    "The current $I $ (in amps) $t $ seconds after closing the switch in a particular electrical circuit is determined from the following equation.\n",
    "\n",
    "$$I = \\frac{V}{R}\\left(1 - e^{-(R/L)t}\\right)$$\n",
    "\n",
    "Use variables to calculate the current at a time $0.015$ seconds after the switch is closed when $V=118 \\text{ volts}$, $R = 340\\text{ ohms}$, and $L=0.6\\text{ henrys}$. Round the final result to 3 decimal places and print it."
   ]
  },
  {
   "cell_type": "code",
   "execution_count": null,
   "metadata": {},
   "outputs": [],
   "source": []
  },
  {
   "cell_type": "markdown",
   "metadata": {
    "deletable": false,
    "editable": false,
    "run_control": {
     "frozen": true
    }
   },
   "source": [
    "**4. Earthquake Energy (4 points)**\n",
    "\n",
    "The Moment Magnitude Scale (MMS), denoted by $M_W$, is used to measure earthquake magnitude per the following equation:\n",
    "\n",
    "$$ M_W = \\frac{2}{3}\\log_{10}(M_0) - 10.7 $$\n",
    "\n",
    "$M_0$, the energy released during an earthquake, can be calculated by manipulating the above expression:\n",
    "\n",
    "$$  M_0 = \\large{10^{\\frac{3}{2}(M_W + 10.7)}} $$\n",
    "\n",
    "Assign all values to variables, included calculated values, and print the final results for each part."
   ]
  },
  {
   "cell_type": "markdown",
   "metadata": {
    "deletable": false,
    "editable": false,
    "run_control": {
     "frozen": true
    }
   },
   "source": [
    "**Part a (2 points):**\n",
    "\n",
    "Calculate the amount of energy released by the 1906 San Francisco, California earthquake where $M_W = 7.9$"
   ]
  },
  {
   "cell_type": "code",
   "execution_count": null,
   "metadata": {},
   "outputs": [],
   "source": []
  },
  {
   "cell_type": "markdown",
   "metadata": {
    "deletable": false,
    "editable": false,
    "run_control": {
     "frozen": true
    }
   },
   "source": [
    "**Part b (2 points):**\n",
    "\n",
    "Calculate the magnitude ($M_W$) of the 2007 Sumatra, Indonesia earthquake which released $6.3096\\times10^{28}$ Joules of energy."
   ]
  },
  {
   "cell_type": "code",
   "execution_count": null,
   "metadata": {},
   "outputs": [],
   "source": []
  },
  {
   "cell_type": "markdown",
   "metadata": {
    "deletable": false,
    "editable": false,
    "run_control": {
     "frozen": true
    }
   },
   "source": [
    "**5. FIFA World Cup List (6 points)**\n",
    "\n",
    "Assuming that the FIFA Men's and Women's World Cups will each continue to be held on four year cycles, create two lists using `range()` that contain the years for the **next 10** FIFA World Cups for men and women. One list will contain the next 10 Women's World Cups (last held in 2015) and the other list the next 10 Men's World Cups (last held in 2018). Assign appropriate variable names to each list. Use the `print()`, `zip()`, and `tabulate()` functions to print the two lists in columns with Women in the first column and Men in the second. Include appropriate headings above each column."
   ]
  },
  {
   "cell_type": "code",
   "execution_count": null,
   "metadata": {},
   "outputs": [],
   "source": [
    "from tabulate import tabulate\n",
    "\n",
    "# Place your code here\n",
    "\n",
    "# Put the correct expressions in place of the two \"< >\" groups below\n",
    "print(tabulate(<zipped lists>, <list with headings>))"
   ]
  },
  {
   "cell_type": "markdown",
   "metadata": {
    "deletable": false,
    "editable": false,
    "run_control": {
     "frozen": true
    }
   },
   "source": [
    "**6. Projectile (10 points)**\n",
    "\n",
    "A projectile is launched on level ground at an initial angle of $\\theta_0$ and velocity of $V_0$. The projectile's time in the air $t_{travel}$, horizontal distance traveled $x_{max}$, and maximum height $h_{max}$ can be calculated using the following formulas:\n",
    "\n",
    "$$ t_{travel} = 2\\frac{V_0}{g}\\sin{\\theta_0} \\qquad x_{max} = 2\\frac{V_0^2}{g} \\sin{\\theta_0}\\cos{\\theta_0} \\qquad h_{max} = 2\\frac{V_0^2}{g}\\sin^2{\\theta_0}$$\n",
    "\n",
    "where $g = 9.81 \\text{m/s}^2$\n",
    "\n",
    "Define the function **`projectile(angle, velocity)`** that accepts two arguments, `angle` in degrees and `velocity` in meters per second and returns the time in the air (seconds), horizontal distance traveled (meters), and maximimum height (meters) of a projectile (in the order listed)."
   ]
  },
  {
   "cell_type": "code",
   "execution_count": null,
   "metadata": {},
   "outputs": [],
   "source": []
  },
  {
   "cell_type": "markdown",
   "metadata": {
    "deletable": false,
    "editable": false,
    "run_control": {
     "frozen": true
    }
   },
   "source": [
    "- Test the function with an initial velocity of $320$ m/s at an angle of $30^{\\circ}$ in the following cell."
   ]
  },
  {
   "cell_type": "code",
   "execution_count": null,
   "metadata": {},
   "outputs": [],
   "source": []
  },
  {
   "cell_type": "markdown",
   "metadata": {
    "deletable": false,
    "editable": false,
    "run_control": {
     "frozen": true
    }
   },
   "source": [
    "- Test the function with an initial velocity of $175$ m/s at an angle of $45^{\\circ}$ in the following cell."
   ]
  },
  {
   "cell_type": "code",
   "execution_count": null,
   "metadata": {},
   "outputs": [],
   "source": []
  },
  {
   "cell_type": "markdown",
   "metadata": {
    "deletable": false,
    "editable": false,
    "run_control": {
     "frozen": true
    }
   },
   "source": [
    "**7. Approaching 2 (6 points)**\n",
    "\n",
    "Demonstrate that the mathematical expression  $\\displaystyle \\lim_{x \\to 1}\\frac{x^2 - 1}{x - 1} = 2$ is true.\n",
    "\n",
    "**Part a (1 point):**\n",
    "\n",
    "Start by creating a list `x` that has the values $[5, 3, 2, 1.5, 1.1, 1.01, 1.001, 1.0001, 1.00001, 1.000001]$"
   ]
  },
  {
   "cell_type": "code",
   "execution_count": null,
   "metadata": {},
   "outputs": [],
   "source": []
  },
  {
   "cell_type": "markdown",
   "metadata": {
    "deletable": false,
    "editable": false,
    "run_control": {
     "frozen": true
    }
   },
   "source": [
    "**Part b (3 points):**\n",
    "\n",
    "Create a second list `y` that uses the values from `x` and $\\displaystyle \\frac{x^2 - 1}{x - 1}$ to calculate its values. Use a `for` loop or list comprehesion. Print the resulting list."
   ]
  },
  {
   "cell_type": "code",
   "execution_count": null,
   "metadata": {},
   "outputs": [],
   "source": []
  },
  {
   "cell_type": "markdown",
   "metadata": {
    "deletable": false,
    "editable": false,
    "run_control": {
     "frozen": true
    }
   },
   "source": [
    "**Part c (2 points):**\n",
    "\n",
    "Use another `for` loop or list comprehension statement to calculate the absolute value of the difference between the values in list `y` and the number $2$ and places the differences in a list that is assigned to a variable name. Print the resulting list."
   ]
  },
  {
   "cell_type": "code",
   "execution_count": null,
   "metadata": {},
   "outputs": [],
   "source": []
  },
  {
   "cell_type": "markdown",
   "metadata": {
    "deletable": false,
    "editable": false,
    "run_control": {
     "frozen": true
    }
   },
   "source": [
    "**8. Heron's Formula (15 points total)**\n",
    "\n",
    "Heron's Formula can be used to find the area of any triangle with known side lengths $a$, $b$, and $c$:\n",
    "\n",
    "$$ A = \\sqrt{s(s-a)(s-b)(s-c)} \\quad \\text{where}\\,s = \\frac{a+b+c}{2}$$\n",
    "\n",
    "The $(x,y,z)$ coordinates for the points (i.e. vertices or corners) of a particular triangle that exists in 3D space are given as:\n",
    "\n",
    "- Point 1 = $(0, -4, 7)$\n",
    "- Point 2 = $(13, 6, -5)$\n",
    "- Point 3 = $(7, 20, -8)$\n",
    "\n",
    "The length of any side of a generic triangle can be calculated using the $(x, y, z)$ values of the two points (vertices) at the ends of the side in question using the following:\n",
    "\n",
    "$$ \\text{side length} = \\sqrt{(x_1 - x_0)^2 + (y_1 - y_0)^2 + (z_1 - z_0)^2}$$\n",
    "\n",
    "where $(x_0, y_0, z_0)$ are the coordinates of one point and $(x_1, y_1, z_1)$ are the coordinates of the second point."
   ]
  },
  {
   "cell_type": "markdown",
   "metadata": {
    "deletable": false,
    "editable": false,
    "run_control": {
     "frozen": true
    }
   },
   "source": [
    "**Part a (3 points):**\n",
    "\n",
    "Create and name the tuples or lists `p1`, `p2`, and `p3` for the three points (vertices) in the order given above"
   ]
  },
  {
   "cell_type": "code",
   "execution_count": null,
   "metadata": {},
   "outputs": [],
   "source": []
  },
  {
   "cell_type": "markdown",
   "metadata": {
    "deletable": false,
    "editable": false,
    "run_control": {
     "frozen": true
    }
   },
   "source": [
    "**Part b (9 points):**\n",
    "\n",
    "Calculate the side lengths `a`, `b`, and `c` using the provided side length formula. Use indexing to access the appropriate values from `p1`, `p2`, and `p3` when performing your calculations. Use the following vertex pairs to create each side of the triangle. Define and print each side in a separate code cell. *Hint: once you set up the formula for the first side, copy and paste it into the next two cells and simply change the names for the sides and the points being used.*\n",
    "\n",
    "  - Side `a` uses points `p1` and `p2`\n",
    "  - Side `b` uses points `p2` and `p3`\n",
    "  - Side `c` uses points `p1` and `p3`"
   ]
  },
  {
   "cell_type": "code",
   "execution_count": null,
   "metadata": {},
   "outputs": [],
   "source": []
  },
  {
   "cell_type": "code",
   "execution_count": null,
   "metadata": {},
   "outputs": [],
   "source": []
  },
  {
   "cell_type": "code",
   "execution_count": null,
   "metadata": {},
   "outputs": [],
   "source": []
  },
  {
   "cell_type": "markdown",
   "metadata": {
    "deletable": false,
    "editable": false,
    "run_control": {
     "frozen": true
    }
   },
   "source": [
    "**Part c (3 points):** \n",
    "\n",
    "Use the calculated side lengths to calculate the area of the triangle using Heron's Formula. Assign the results of the calculation to `A` and print the result."
   ]
  },
  {
   "cell_type": "code",
   "execution_count": null,
   "metadata": {},
   "outputs": [],
   "source": []
  },
  {
   "cell_type": "markdown",
   "metadata": {
    "deletable": false,
    "editable": false,
    "run_control": {
     "frozen": true
    }
   },
   "source": [
    "**9. List Manipulation (12 points)**\n",
    "\n",
    "Perform the following list manipulations. Keep in mind that if you mess up a step and then fix it, you may need to re-execute all of the cells before that step to get the correct results."
   ]
  },
  {
   "cell_type": "markdown",
   "metadata": {
    "deletable": false,
    "editable": false,
    "run_control": {
     "frozen": true
    }
   },
   "source": [
    "**Part a (2 points):** \n",
    "\n",
    "Add the appropriate arguments to `range( )` in the following command such that only even integers from $20$ to $50$ (inclusive) are included in the range and assign the command to the variable `num_list`. Print or display your list to make sure that all of the values fall within the desired range."
   ]
  },
  {
   "cell_type": "code",
   "execution_count": null,
   "metadata": {},
   "outputs": [],
   "source": [
    "import random\n",
    "random.sample(range( ),10)"
   ]
  },
  {
   "cell_type": "markdown",
   "metadata": {
    "deletable": false,
    "editable": false,
    "run_control": {
     "frozen": true
    }
   },
   "source": [
    "**Part b (1 point):** \n",
    "\n",
    "Add the values $13$ and $99$ to the end of `num_list` then print or display the list."
   ]
  },
  {
   "cell_type": "code",
   "execution_count": null,
   "metadata": {},
   "outputs": [],
   "source": []
  },
  {
   "cell_type": "markdown",
   "metadata": {
    "deletable": false,
    "editable": false,
    "run_control": {
     "frozen": true
    }
   },
   "source": [
    "**Part c (1 point):** \n",
    "\n",
    "Insert $55$ into `num_list` so that it will end up being the 7th item (6th index position) in the list then print or display the list."
   ]
  },
  {
   "cell_type": "code",
   "execution_count": null,
   "metadata": {},
   "outputs": [],
   "source": []
  },
  {
   "cell_type": "markdown",
   "metadata": {
    "deletable": false,
    "editable": false,
    "run_control": {
     "frozen": true
    }
   },
   "source": [
    "**Part d (1 point):**\n",
    "\n",
    "Sort `num_list` in **descending** order then print or display it."
   ]
  },
  {
   "cell_type": "code",
   "execution_count": null,
   "metadata": {},
   "outputs": [],
   "source": []
  },
  {
   "cell_type": "markdown",
   "metadata": {
    "deletable": false,
    "editable": false,
    "run_control": {
     "frozen": true
    }
   },
   "source": [
    "**Part e (1 point):**\n",
    "\n",
    "Find the location (index position) of $55$ in `num_list` and assign the location to a variable name. Print or display the variable name to make sure it contains the correct value."
   ]
  },
  {
   "cell_type": "code",
   "execution_count": null,
   "metadata": {},
   "outputs": [],
   "source": []
  },
  {
   "cell_type": "markdown",
   "metadata": {
    "deletable": false,
    "editable": false,
    "run_control": {
     "frozen": true
    }
   },
   "source": [
    "**Part f (2 points):**\n",
    "\n",
    "Replace the value $13$ in `num_list` with the value $1000$ and then print or display the list."
   ]
  },
  {
   "cell_type": "code",
   "execution_count": null,
   "metadata": {},
   "outputs": [],
   "source": []
  },
  {
   "cell_type": "markdown",
   "metadata": {
    "deletable": false,
    "editable": false,
    "run_control": {
     "frozen": true
    }
   },
   "source": [
    "**Part g (1 point):** \n",
    "\n",
    "Sort `num_list` again, but in **ascending** order this time. Print or display the list after sorting."
   ]
  },
  {
   "cell_type": "code",
   "execution_count": null,
   "metadata": {},
   "outputs": [],
   "source": []
  },
  {
   "cell_type": "markdown",
   "metadata": {
    "deletable": false,
    "editable": false,
    "run_control": {
     "frozen": true
    }
   },
   "source": [
    "**Part h (1 point):**\n",
    "\n",
    "Create the list `short_list` that contains only the last three numbers from `num_list` by slicing the original list. Print or display `short_list`."
   ]
  },
  {
   "cell_type": "code",
   "execution_count": null,
   "metadata": {},
   "outputs": [],
   "source": []
  },
  {
   "cell_type": "markdown",
   "metadata": {
    "deletable": false,
    "editable": false,
    "run_control": {
     "frozen": true
    }
   },
   "source": [
    "**Part i (2 points):**\n",
    "\n",
    "Use list functions to find the average of the values in `num_list` and assign the result to a variable, then print or display the variable."
   ]
  },
  {
   "cell_type": "code",
   "execution_count": null,
   "metadata": {},
   "outputs": [],
   "source": []
  },
  {
   "cell_type": "markdown",
   "metadata": {
    "deletable": false,
    "editable": false,
    "run_control": {
     "frozen": true
    }
   },
   "source": [
    "**10. String Manipulation (8 points)**\n",
    "\n",
    "***Print the results of each step of this problem after performing the requested actions.***\n",
    "\n",
    "**Part a (1 point):**\n",
    "\n",
    "Assign the following string to the variable `test_string` and execute the cell"
   ]
  },
  {
   "cell_type": "code",
   "execution_count": null,
   "metadata": {},
   "outputs": [],
   "source": [
    "\"The quick brown fox jumps over the lazy dog\""
   ]
  },
  {
   "cell_type": "markdown",
   "metadata": {
    "deletable": false,
    "editable": false,
    "run_control": {
     "frozen": true
    }
   },
   "source": [
    "**Part b (1 point):** \n",
    "\n",
    "Make `test_string` all uppercase letters"
   ]
  },
  {
   "cell_type": "code",
   "execution_count": null,
   "metadata": {},
   "outputs": [],
   "source": []
  },
  {
   "cell_type": "markdown",
   "metadata": {
    "deletable": false,
    "editable": false,
    "run_control": {
     "frozen": true
    }
   },
   "source": [
    "**Part c (3 points):**\n",
    "\n",
    "Replace all instances of the following letters in `test_string` with the numbers or symbols given and name the resulting string `new_string`. \n",
    "\n",
    "*Hint: remember that strings are immutable, you will have to do this in multiple steps.*\n",
    "\n",
    "`'O'` with `'@'`\n",
    "\n",
    "`'E'` with `'3'`\n",
    "\n",
    "`'S'` with `'$'`"
   ]
  },
  {
   "cell_type": "code",
   "execution_count": null,
   "metadata": {},
   "outputs": [],
   "source": []
  },
  {
   "cell_type": "markdown",
   "metadata": {
    "deletable": false,
    "editable": false,
    "run_control": {
     "frozen": true
    }
   },
   "source": [
    "**Part d (1 point):**\n",
    "\n",
    "Split `new_string` into a list of words and assign the list to the variable `word_list`"
   ]
  },
  {
   "cell_type": "code",
   "execution_count": null,
   "metadata": {},
   "outputs": [],
   "source": []
  },
  {
   "cell_type": "markdown",
   "metadata": {
    "deletable": false,
    "editable": false,
    "run_control": {
     "frozen": true
    }
   },
   "source": [
    "**Part e (2 points):**\n",
    "\n",
    "Use a `for` loop to print each word in `word_list` on its own line"
   ]
  },
  {
   "cell_type": "code",
   "execution_count": null,
   "metadata": {},
   "outputs": [],
   "source": []
  },
  {
   "cell_type": "markdown",
   "metadata": {},
   "source": [
    "**11. Geometric Series (12 points)**\n",
    "\n",
    "The sum of the values in a particular geometric series $(r^0, r^1, r^3, r^4, \\ldots ,r^x)$ approaches $\\displaystyle \\frac{1}{1-r}$ for values of $0 \\leq r < 1$ as $x \\to \\infty$. This series is generally written as shown below:\n",
    "\n",
    "$$ \\sum_{n=0}^{\\infty}{r^n} = \\frac{1}{1-r}$$\n",
    "\n",
    "Complete the body of the following function definition to compute the series using $r$ with a maximum exponent of $x$. Follow the instructions provided by the comments in the function. Execute the function definition when completed."
   ]
  },
  {
   "cell_type": "code",
   "execution_count": null,
   "metadata": {},
   "outputs": [],
   "source": [
    "def gseries(r, x):\n",
    "    \"\"\"Approximates the series sum of r^n from r^0 to r^x and\n",
    "    compares it to 1/(1-r)\n",
    "    \n",
    "    'r' must be greater than or equal to zero and less than 1\n",
    "    'x' is the desired exponent for the last term in the series\n",
    "    \"\"\"\n",
    "    # test if 'r' is outside the range for this approximation.\n",
    "    # if so, print a statement that 'r' is invalid and return None\n",
    "    \n",
    "    # create an empty list named 'r_to_n'\n",
    "    \n",
    "    # add the correct argument(s) for 'range()' in the 'for' statement below\n",
    "    for n in range():\n",
    "        # calculate each term and add it to list 'r_to_n'\n",
    "        \n",
    "        \n",
    "    # add up all values in list 'r_to_n' and assign to the variable 'sum_r_to_n'\n",
    "    # use a built-in function that works on lists\n",
    "    sum_r_to_n = \n",
    "    \n",
    "    # calculate the expected result of the series\n",
    "    expected = \n",
    "    \n",
    "    # calculate the absolute difference between 'sum_r_to_n' and 'expected'\n",
    "    difference = \n",
    "    \n",
    "    # add variables and formatting in the correct locations of the provided\n",
    "    # f-string in the following print command such that the summation and\n",
    "    # difference are each displayed with 16-decimal places\n",
    "    \n",
    "    print(f'The summation of the series is {}, which differs from 1/(1 - {}) by {}')\n",
    "    \n",
    "    # return the sum_r_to_n summation value\n",
    "    "
   ]
  },
  {
   "cell_type": "markdown",
   "metadata": {
    "deletable": false,
    "editable": false,
    "run_control": {
     "frozen": true
    }
   },
   "source": [
    "- Test the function with $r=0.5$ and $x=10$"
   ]
  },
  {
   "cell_type": "code",
   "execution_count": null,
   "metadata": {},
   "outputs": [],
   "source": []
  },
  {
   "cell_type": "markdown",
   "metadata": {
    "deletable": false,
    "editable": false,
    "run_control": {
     "frozen": true
    }
   },
   "source": [
    "- Test the function with $r=0.75$ and $x=10$ then with $x=100$"
   ]
  },
  {
   "cell_type": "code",
   "execution_count": null,
   "metadata": {},
   "outputs": [],
   "source": []
  },
  {
   "cell_type": "code",
   "execution_count": null,
   "metadata": {},
   "outputs": [],
   "source": []
  },
  {
   "cell_type": "markdown",
   "metadata": {
    "deletable": false,
    "editable": false,
    "run_control": {
     "frozen": true
    }
   },
   "source": [
    "- Test the function with $r=1.1$ and $x=10$"
   ]
  },
  {
   "cell_type": "code",
   "execution_count": null,
   "metadata": {},
   "outputs": [],
   "source": []
  },
  {
   "cell_type": "markdown",
   "metadata": {
    "deletable": false,
    "editable": false,
    "run_control": {
     "frozen": true
    }
   },
   "source": [
    "**12. Four-Bar Classifier (15 points)**\n",
    "\n",
    "Complete the following function definition used to classify the type of motion generated by four-bar mechanisms (Grashof's Criteria). The function accepts the four link lengths $L_1$, $L_2$, $L_3$, and $L_4$ as arguments.\n",
    "\n",
    "| Case | Criteria | Shortest Link | Classification |\n",
    "|:---:|:----------|:---------------|:----------------|\n",
    "| 1 | long + short < sum of other two | $L_1$ (frame) | Double crank |\n",
    "| 2 | long + short < sum of other two | $L_2$ (input) or $L_4$ (output) | Crank rocker |\n",
    "| 3 | long + short < sum of other two | $L_3$ (coupler) | Double rocker |\n",
    "| 4 | long + short = sum of other two | Any | Change point |\n",
    "| 5 | long + short > sum of other two | Any | Triple rocker |"
   ]
  },
  {
   "cell_type": "code",
   "execution_count": null,
   "metadata": {},
   "outputs": [],
   "source": [
    "def grashof(L1, L2, L3, L4):\n",
    "    \"\"\"Classify four-bar mechanisms using Grashof's Criteria, where...\n",
    "    L1 = link 1 length = frame\n",
    "    L2 = link 2 length = input link (i.e. crank)\n",
    "    L3 = link 3 length = coupler\n",
    "    L4 = link 4 length = output link\n",
    "    \n",
    "    Returns a tuple that contains the case number as an integer\n",
    "    (1 thru 5) and a classification string\n",
    "    \"\"\"\n",
    "    # use if-elif-else statement groups to determine the \n",
    "    # classification based on the provided table (above)\n",
    "    \n",
    "    # hints:\n",
    "    #     - Put the link lengths in a list\n",
    "    #     - Find the location of the minimum value (shortest link)\n",
    "    #       in the list\n",
    "    #     - Sort the list\n",
    "    #     - Use indexing to grab the shortest, longest, and other \n",
    "    #       link lengths from the sorted list for comparisons\n",
    "    #     - Set up if-elif-else command groups using the above values\n",
    "    #       to assign appropriate values to the variables 'case' and\n",
    "    #       'classification' based upon the conditions given in the\n",
    "    #       provided table\n",
    "    #\n",
    "    # WRITE YOUR CODE BELOW THE LINE\n",
    "    # ____________________________________________________________\n",
    "    \n",
    "    \n",
    "    return case, classification"
   ]
  },
  {
   "cell_type": "markdown",
   "metadata": {
    "deletable": false,
    "editable": false,
    "run_control": {
     "frozen": true
    }
   },
   "source": [
    "Test the following cases of `(L1, L2, L3, L4)`. They should each result in the case numbers shown before the values.\n",
    "\n",
    "Case 1: $(2.5, 3.75, 4, 3.5)$"
   ]
  },
  {
   "cell_type": "code",
   "execution_count": null,
   "metadata": {},
   "outputs": [],
   "source": []
  },
  {
   "cell_type": "markdown",
   "metadata": {
    "deletable": false,
    "editable": false,
    "run_control": {
     "frozen": true
    }
   },
   "source": [
    "Case 2: $(5, 1.5, 4, 3)$"
   ]
  },
  {
   "cell_type": "code",
   "execution_count": null,
   "metadata": {},
   "outputs": [],
   "source": []
  },
  {
   "cell_type": "markdown",
   "metadata": {
    "deletable": false,
    "editable": false,
    "run_control": {
     "frozen": true
    }
   },
   "source": [
    "Case 3. $(3, 3.75, 2.5, 3.5)$"
   ]
  },
  {
   "cell_type": "code",
   "execution_count": null,
   "metadata": {},
   "outputs": [],
   "source": []
  },
  {
   "cell_type": "markdown",
   "metadata": {
    "deletable": false,
    "editable": false,
    "run_control": {
     "frozen": true
    }
   },
   "source": [
    "Case 4. $(1.5, 4, 4.5, 2)$"
   ]
  },
  {
   "cell_type": "code",
   "execution_count": null,
   "metadata": {},
   "outputs": [],
   "source": []
  },
  {
   "cell_type": "markdown",
   "metadata": {
    "deletable": false,
    "editable": false,
    "run_control": {
     "frozen": true
    }
   },
   "source": [
    "Case 5. $(4, 6, 3, 4.5)$"
   ]
  },
  {
   "cell_type": "code",
   "execution_count": null,
   "metadata": {},
   "outputs": [],
   "source": []
  },
  {
   "cell_type": "markdown",
   "metadata": {
    "deletable": false,
    "editable": false,
    "run_control": {
     "frozen": true
    }
   },
   "source": [
    "**Wrap it up (1 point)**\n",
    "\n",
    "Execute the code cell below to show the time and date you finished the test."
   ]
  },
  {
   "cell_type": "code",
   "execution_count": null,
   "metadata": {
    "deletable": false,
    "editable": false
   },
   "outputs": [],
   "source": [
    "from datetime import datetime\n",
    "from pytz import timezone\n",
    "print(datetime.now(timezone('US/Eastern')))"
   ]
  },
  {
   "cell_type": "markdown",
   "metadata": {
    "deletable": false,
    "editable": false,
    "run_control": {
     "frozen": true
    }
   },
   "source": [
    "Click on the **Save** button and then **Close and halt** from the **File** menu when you are done. **This test must be completed before the end of the lab session in order to receive credit.** Submit your completed notebook to *Canvas*."
   ]
  }
 ],
 "metadata": {
  "kernelspec": {
   "display_name": "Python 3",
   "language": "python",
   "name": "python3"
  },
  "language_info": {
   "codemirror_mode": {
    "name": "ipython",
    "version": 3
   },
   "file_extension": ".py",
   "mimetype": "text/x-python",
   "name": "python",
   "nbconvert_exporter": "python",
   "pygments_lexer": "ipython3",
   "version": "3.7.5"
  },
  "varInspector": {
   "cols": {
    "lenName": 16,
    "lenType": 16,
    "lenVar": 40
   },
   "kernels_config": {
    "python": {
     "delete_cmd_postfix": "",
     "delete_cmd_prefix": "del ",
     "library": "var_list.py",
     "varRefreshCmd": "print(var_dic_list())"
    },
    "r": {
     "delete_cmd_postfix": ") ",
     "delete_cmd_prefix": "rm(",
     "library": "var_list.r",
     "varRefreshCmd": "cat(var_dic_list()) "
    }
   },
   "types_to_exclude": [
    "module",
    "function",
    "builtin_function_or_method",
    "instance",
    "_Feature"
   ],
   "window_display": false
  }
 },
 "nbformat": 4,
 "nbformat_minor": 1
}
