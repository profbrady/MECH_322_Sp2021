{
 "cells": [
  {
   "cell_type": "markdown",
   "metadata": {
    "deletable": false,
    "editable": false,
    "run_control": {
     "frozen": true
    }
   },
   "source": [
    "# Py 1.01 - Math Practice\n",
    "___"
   ]
  },
  {
   "cell_type": "code",
   "execution_count": null,
   "metadata": {},
   "outputs": [],
   "source": [
    "name = \"Your name here\"\n",
    "print(\"Name:\", name.upper())"
   ]
  },
  {
   "cell_type": "markdown",
   "metadata": {
    "deletable": false,
    "editable": false,
    "run_control": {
     "frozen": true
    }
   },
   "source": [
    "## Purpose and Instructions:\n",
    "\n",
    "Explore the use of *Python’s* elementary arithmetic and math functions\n",
    "\n",
    "1. Replace \"Your name here\" in the cell below the assignment title with your first and last names and then execute the cell using \"Shift-Enter\"\n",
    "3. Complete each calculation with *Python* using a single expression in its own code cell. Use \"Shift-Enter\" to execute each cell.\n",
    "    - Don’t worry if you make a mistake. Fix the mistake, execute the cell again, and keep going\n",
    "    - Enter and execute the necessary command(s) for each problem in the provided code cell(s) below the problem statement.\n",
    "    - The expected results (with fewer decimal places than you should get) are given next to each problem number\n",
    "    - **Important:** Do not type answers from one calculation into another\n",
    "4. Finish the assignment by executing the date stamp cell at the end of the document and submitting your saved `.ipynb` file to *Canvas*"
   ]
  },
  {
   "cell_type": "markdown",
   "metadata": {
    "deletable": false,
    "editable": false,
    "run_control": {
     "frozen": true
    }
   },
   "source": [
    ">**Do this first!** \n",
    ">\n",
    "> Execute the following cell first in order to be able to use `math` module functions. If you close and then re-open this document, you will need to re-execute the cell again in order for the `math` module functions to be available."
   ]
  },
  {
   "cell_type": "code",
   "execution_count": null,
   "metadata": {
    "deletable": false,
    "editable": false
   },
   "outputs": [],
   "source": [
    "import math     # Execute this cell first in order to use math module functions"
   ]
  },
  {
   "cell_type": "markdown",
   "metadata": {
    "deletable": false,
    "editable": false,
    "run_control": {
     "frozen": true
    }
   },
   "source": [
    "**Exercise 1**, answer = `0.84934`\n",
    "\n",
    "$\\qquad\\displaystyle \\frac{\\sqrt{41^2-5.2^2}}{e^5-100.53}$"
   ]
  },
  {
   "cell_type": "code",
   "execution_count": null,
   "metadata": {},
   "outputs": [],
   "source": []
  },
  {
   "cell_type": "markdown",
   "metadata": {
    "deletable": false,
    "editable": false,
    "run_control": {
     "frozen": true
    }
   },
   "source": [
    "**Exercise 2**, answer = `5.8685`\n",
    "\n",
    "$\\qquad\\displaystyle\\sqrt[3]{132}+\\frac{\\ln{(500)}}{8} $"
   ]
  },
  {
   "cell_type": "code",
   "execution_count": null,
   "metadata": {},
   "outputs": [],
   "source": []
  },
  {
   "cell_type": "markdown",
   "metadata": {
    "deletable": false,
    "editable": false,
    "run_control": {
     "frozen": true
    }
   },
   "source": [
    "**Exercise 3**, answer = `2362.6`\n",
    "\n",
    "$\\qquad\\displaystyle \\frac{24.5+64/3.5^2+8.3\\cdot 12.5^3}{\\sqrt{76.4}-28/15} $"
   ]
  },
  {
   "cell_type": "code",
   "execution_count": null,
   "metadata": {},
   "outputs": [],
   "source": []
  },
  {
   "cell_type": "markdown",
   "metadata": {
    "deletable": false,
    "editable": false,
    "run_control": {
     "frozen": true
    }
   },
   "source": [
    "**Exercise 4**, answer = `18.955`\n",
    "\n",
    "$\\qquad\\displaystyle (5.9^2 - 2.4^2)/3 + \\left( \\frac{\\log_{10}{12890}}{e^{0.3}} \\right)^2 $"
   ]
  },
  {
   "cell_type": "code",
   "execution_count": null,
   "metadata": {},
   "outputs": [],
   "source": []
  },
  {
   "cell_type": "markdown",
   "metadata": {
    "deletable": false,
    "editable": false,
    "run_control": {
     "frozen": true
    }
   },
   "source": [
    "**Exercise 5**, answer =  `1.6965`\n",
    "\n",
    "$\\qquad\\displaystyle \\cos{\\left( \\frac{7\\pi}{9} \\right)} + \\tan{\\left( \\frac{7}{15}\\pi \\right)} \\sin(15 ^{\\circ}) $"
   ]
  },
  {
   "cell_type": "code",
   "execution_count": null,
   "metadata": {},
   "outputs": [],
   "source": []
  },
  {
   "cell_type": "markdown",
   "metadata": {
    "deletable": false,
    "editable": false,
    "run_control": {
     "frozen": true
    }
   },
   "source": [
    "**Exercise 6**, answer = `-0.64732`\n",
    "\n",
    "$\\qquad\\displaystyle \\sin^2{80^{\\circ}} - \\frac{(\\cos{14^{\\circ}}\\sin{80^{\\circ}})^2}{\\sqrt[3]{0.18}} $"
   ]
  },
  {
   "cell_type": "code",
   "execution_count": null,
   "metadata": {},
   "outputs": [],
   "source": []
  },
  {
   "cell_type": "markdown",
   "metadata": {
    "deletable": false,
    "editable": false,
    "run_control": {
     "frozen": true
    }
   },
   "source": [
    ">**Wrap it up**\n",
    ">\n",
    ">Execute the time stamp code cell below to show the time and date you finished and tested this script.\n",
    ">\n",
    ">Click on the **Save** button and then **Close and halt** from the **File** menu when you are done. **Submit this notebook to *Canvas* before the due date/time to receive credit.**"
   ]
  },
  {
   "cell_type": "code",
   "execution_count": null,
   "metadata": {
    "deletable": false,
    "editable": false
   },
   "outputs": [],
   "source": [
    "from datetime import datetime\n",
    "from pytz import timezone\n",
    "print(datetime.now(timezone(\"US/Eastern\")))"
   ]
  }
 ],
 "metadata": {
  "kernel_info": {
   "name": "python3"
  },
  "kernelspec": {
   "display_name": "Python 3",
   "language": "python",
   "name": "python3"
  },
  "language_info": {
   "codemirror_mode": {
    "name": "ipython",
    "version": 3
   },
   "file_extension": ".py",
   "mimetype": "text/x-python",
   "name": "python",
   "nbconvert_exporter": "python",
   "pygments_lexer": "ipython3",
   "version": "3.7.4"
  },
  "nteract": {
   "version": "0.15.0"
  },
  "varInspector": {
   "cols": {
    "lenName": 16,
    "lenType": 16,
    "lenVar": 40
   },
   "kernels_config": {
    "python": {
     "delete_cmd_postfix": "",
     "delete_cmd_prefix": "del ",
     "library": "var_list.py",
     "varRefreshCmd": "print(var_dic_list())"
    },
    "r": {
     "delete_cmd_postfix": ") ",
     "delete_cmd_prefix": "rm(",
     "library": "var_list.r",
     "varRefreshCmd": "cat(var_dic_list()) "
    }
   },
   "types_to_exclude": [
    "module",
    "function",
    "builtin_function_or_method",
    "instance",
    "_Feature"
   ],
   "window_display": false
  }
 },
 "nbformat": 4,
 "nbformat_minor": 1
}
