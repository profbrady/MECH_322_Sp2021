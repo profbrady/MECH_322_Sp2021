{
 "cells": [
  {
   "cell_type": "markdown",
   "metadata": {
    "deletable": false,
    "editable": false,
    "run_control": {
     "frozen": true
    }
   },
   "source": [
    "# Python Fundamentals Test\n",
    "___"
   ]
  },
  {
   "cell_type": "code",
   "execution_count": 1,
   "metadata": {},
   "outputs": [
    {
     "name": "stdout",
     "output_type": "stream",
     "text": [
      "Name: SOLUTION\n"
     ]
    }
   ],
   "source": [
    "name = \"solution\"\n",
    "print(\"Name:\", name.upper())"
   ]
  },
  {
   "cell_type": "markdown",
   "metadata": {
    "deletable": false,
    "editable": false,
    "run_control": {
     "frozen": true
    }
   },
   "source": [
    "**1. Getting Started (4 points)**\n",
    "\n",
    "- Edit and execute the cell above so that it has your first and last name instead of `Your name here`"
   ]
  },
  {
   "cell_type": "markdown",
   "metadata": {
    "deletable": false,
    "editable": false,
    "run_control": {
     "frozen": true
    }
   },
   "source": [
    "- Execute the following code cell to create a date stamp for when you started the test."
   ]
  },
  {
   "cell_type": "code",
   "execution_count": 2,
   "metadata": {
    "deletable": false,
    "editable": false
   },
   "outputs": [
    {
     "name": "stdout",
     "output_type": "stream",
     "text": [
      "2020-02-19 12:12:22.549308-05:00\n"
     ]
    }
   ],
   "source": [
    "from datetime import datetime\n",
    "from pytz import timezone\n",
    "print(datetime.now(timezone('US/Eastern')))"
   ]
  },
  {
   "cell_type": "markdown",
   "metadata": {
    "deletable": false,
    "editable": false,
    "run_control": {
     "frozen": true
    }
   },
   "source": [
    "- Add the following as a **comment** in the following empty code cell: **The answers provided in this test are mine and were generated without assistance from anybody else**"
   ]
  },
  {
   "cell_type": "code",
   "execution_count": 3,
   "metadata": {},
   "outputs": [],
   "source": [
    "# The answers provided in this test are mine and were generated without assistance from anybody else"
   ]
  },
  {
   "cell_type": "markdown",
   "metadata": {
    "deletable": false,
    "editable": false,
    "run_control": {
     "frozen": true
    }
   },
   "source": [
    "- Add a comment with your class meeting time in the empty code cell below"
   ]
  },
  {
   "cell_type": "code",
   "execution_count": 4,
   "metadata": {},
   "outputs": [],
   "source": [
    "# All sections - this is a solution"
   ]
  },
  {
   "cell_type": "markdown",
   "metadata": {
    "deletable": false,
    "editable": false,
    "run_control": {
     "frozen": true
    }
   },
   "source": [
    "- Import the `math` module in the following code cell"
   ]
  },
  {
   "cell_type": "code",
   "execution_count": 5,
   "metadata": {},
   "outputs": [],
   "source": [
    "import math"
   ]
  },
  {
   "cell_type": "markdown",
   "metadata": {
    "deletable": false,
    "editable": false,
    "run_control": {
     "frozen": true
    }
   },
   "source": [
    "**2. Mathematical Expressions (4 points)**\n",
    "\n",
    "Perform each calculation in its own code cell.\n",
    "\n",
    "**Part a (2 points):**\n",
    "$$16\\left(\\frac{4.2^2 + \\sqrt{11}}{\\log_{10}{(1884)}+3.1}\\right)$$"
   ]
  },
  {
   "cell_type": "code",
   "execution_count": 6,
   "metadata": {},
   "outputs": [
    {
     "data": {
      "text/plain": [
       "52.59635163639256"
      ]
     },
     "execution_count": 6,
     "metadata": {},
     "output_type": "execute_result"
    }
   ],
   "source": [
    "16*(4.2**2 + math.sqrt(11))/(math.log10(1884) + 3.1)"
   ]
  },
  {
   "cell_type": "markdown",
   "metadata": {
    "deletable": false,
    "editable": false,
    "run_control": {
     "frozen": true
    }
   },
   "source": [
    "**Part b (2 points):**\n",
    "\n",
    "$$\\sqrt[4]{2019} + \\frac{4.1^3\\left(16-\\Large{\\frac{197}{23}}\\right)}{2.3^4+24}$$"
   ]
  },
  {
   "cell_type": "code",
   "execution_count": 7,
   "metadata": {},
   "outputs": [
    {
     "data": {
      "text/plain": [
       "16.56033282565834"
      ]
     },
     "execution_count": 7,
     "metadata": {},
     "output_type": "execute_result"
    }
   ],
   "source": [
    "2019**(1/4) + 4.1**3*(16 - 197/23)/(2.3**4 + 24)"
   ]
  },
  {
   "cell_type": "markdown",
   "metadata": {
    "deletable": false,
    "editable": false,
    "run_control": {
     "frozen": true
    }
   },
   "source": [
    "**3. Current in a Switch Circuit (3 points)**\n",
    "\n",
    "The current $I $ (in amps) $t $ seconds after closing the switch in a particular electrical circuit is determined from the following equation.\n",
    "\n",
    "$$I = \\frac{V}{R}\\left(1 - e^{-(R/L)t}\\right)$$\n",
    "\n",
    "Use variables to calculate the current at a time $0.015$ seconds after the switch is closed when $V=118 \\text{ volts}$, $R = 340\\text{ ohms}$, and $L=0.6\\text{ henrys}$. Round the final result to 3 decimal places and print it."
   ]
  },
  {
   "cell_type": "code",
   "execution_count": 8,
   "metadata": {},
   "outputs": [
    {
     "name": "stdout",
     "output_type": "stream",
     "text": [
      "0.347\n"
     ]
    }
   ],
   "source": [
    "t = 0.015\n",
    "V = 118\n",
    "R = 340\n",
    "L = 0.6\n",
    "I = round(V/R*(1 - math.exp(-(R/L)*t)), 3)\n",
    "print(I)"
   ]
  },
  {
   "cell_type": "markdown",
   "metadata": {
    "deletable": false,
    "editable": false,
    "run_control": {
     "frozen": true
    }
   },
   "source": [
    "**4. Earthquake Energy (4 points)**\n",
    "\n",
    "The Moment Magnitude Scale (MMS), denoted by $M_W$, is used to measure earthquake magnitude per the following equation:\n",
    "\n",
    "$$ M_W = \\frac{2}{3}\\log_{10}(M_0) - 10.7 $$\n",
    "\n",
    "$M_0$, the energy released during an earthquake, can be calculated by manipulating the above expression:\n",
    "\n",
    "$$  M_0 = \\large{10^{\\frac{3}{2}(M_W + 10.7)}} $$\n",
    "\n",
    "Assign all values to variables, included calculated values, and print the final results for each part."
   ]
  },
  {
   "cell_type": "markdown",
   "metadata": {
    "deletable": false,
    "editable": false,
    "run_control": {
     "frozen": true
    }
   },
   "source": [
    "**Part a (2 points):**\n",
    "\n",
    "Calculate the amount of energy released by the 1906 San Francisco, California earthquake where $M_W = 7.9$"
   ]
  },
  {
   "cell_type": "code",
   "execution_count": 9,
   "metadata": {},
   "outputs": [
    {
     "name": "stdout",
     "output_type": "stream",
     "text": [
      "7.943282347242854e+27\n"
     ]
    }
   ],
   "source": [
    "M_W_sf = 7.9\n",
    "M_0_sf = 10**(3/2*(M_W_sf + 10.7))\n",
    "print(M_0_sf)"
   ]
  },
  {
   "cell_type": "markdown",
   "metadata": {
    "deletable": false,
    "editable": false,
    "run_control": {
     "frozen": true
    }
   },
   "source": [
    "**Part b (2 points):**\n",
    "\n",
    "Calculate the magnitude ($M_W$) of the 2007 Sumatra, Indonesia earthquake which released $6.3096\\times10^{28}$ Joules of energy."
   ]
  },
  {
   "cell_type": "code",
   "execution_count": 11,
   "metadata": {},
   "outputs": [
    {
     "name": "stdout",
     "output_type": "stream",
     "text": [
      "8.50000121854531\n"
     ]
    }
   ],
   "source": [
    "M_0_su = 6.3096E28\n",
    "M_W_su = 2/3*math.log10(M_0_su) - 10.7\n",
    "print(M_W_su)"
   ]
  },
  {
   "cell_type": "markdown",
   "metadata": {
    "deletable": false,
    "editable": false,
    "run_control": {
     "frozen": true
    }
   },
   "source": [
    "**5. FIFA World Cup List (6 points)**\n",
    "\n",
    "Assuming that the FIFA Men's and Women's World Cups will each continue to be held on four year cycles, create two lists using `range()` that contain the years for the **next 10** FIFA World Cups for men and women. One list will contain the next 10 Women's World Cups (last held in 2015) and the other list the next 10 Men's World Cups (last held in 2018). Assign appropriate variable names to each list. Use the `print()`, `zip()`, and `tabulate()` functions to print the two lists in columns with Women in the first column and Men in the second. Include appropriate headings above each column."
   ]
  },
  {
   "cell_type": "code",
   "execution_count": 13,
   "metadata": {},
   "outputs": [
    {
     "name": "stdout",
     "output_type": "stream",
     "text": [
      "  Women    Men\n",
      "-------  -----\n",
      "   2023   2022\n",
      "   2027   2026\n",
      "   2031   2030\n",
      "   2035   2034\n",
      "   2039   2038\n",
      "   2043   2042\n",
      "   2047   2046\n",
      "   2051   2050\n",
      "   2055   2054\n",
      "   2059   2058\n"
     ]
    }
   ],
   "source": [
    "from tabulate import tabulate\n",
    "\n",
    "# Place your code here\n",
    "prev_w = 2015\n",
    "women = list(range(prev_w + 8, prev_w + 12*4, 4))\n",
    "\n",
    "prev_m = 2018\n",
    "men = list(range(prev_m + 4, prev_m + 11* 4, 4))\n",
    "\n",
    "\n",
    "# Put the correct expressions in place of the two \"< >\" groups below\n",
    "print(tabulate(zip(women, men), ['Women', 'Men']))"
   ]
  },
  {
   "cell_type": "markdown",
   "metadata": {
    "deletable": false,
    "editable": false,
    "run_control": {
     "frozen": true
    }
   },
   "source": [
    "**6. Projectile (10 points)**\n",
    "\n",
    "A projectile is launched on level ground at an initial angle of $\\theta_0$ and velocity of $V_0$. The projectile's time in the air $t_{travel}$, horizontal distance traveled $x_{max}$, and maximum height $h_{max}$ can be calculated using the following formulas:\n",
    "\n",
    "$$ t_{travel} = 2\\frac{V_0}{g}\\sin{\\theta_0} \\qquad x_{max} = 2\\frac{V_0^2}{g} \\sin{\\theta_0}\\cos{\\theta_0} \\qquad h_{max} = 2\\frac{V_0^2}{g}\\sin^2{\\theta_0}$$\n",
    "\n",
    "where $g = 9.81 \\text{m/s}^2$\n",
    "\n",
    "Define the function **`projectile(angle, velocity)`** that accepts two arguments, `angle` in degrees and `velocity` in meters per second and returns the time in the air (seconds), horizontal distance traveled (meters), and maximimum height (meters) of a projectile (in the order listed)."
   ]
  },
  {
   "cell_type": "code",
   "execution_count": 14,
   "metadata": {},
   "outputs": [],
   "source": [
    "def projectile(angle, velocity):\n",
    "    from math import sin, cos, radians\n",
    "    g = 9.81\n",
    "    t_travel = 2*velocity/g*sin(radians(angle))\n",
    "    x_max = 2*velocity**2/g*sin(radians(angle))*cos(radians(angle))\n",
    "    h_max = 2*velocity**2/g*sin(radians(angle))**2\n",
    "    return t_travel, x_max, h_max"
   ]
  },
  {
   "cell_type": "markdown",
   "metadata": {
    "deletable": false,
    "editable": false,
    "run_control": {
     "frozen": true
    }
   },
   "source": [
    "- Test the function with an initial velocity of $320$ m/s at an angle of $30^{\\circ}$ in the following cell."
   ]
  },
  {
   "cell_type": "code",
   "execution_count": 15,
   "metadata": {},
   "outputs": [
    {
     "data": {
      "text/plain": [
       "(32.619775739041785, 9039.85742584368, 5219.164118246686)"
      ]
     },
     "execution_count": 15,
     "metadata": {},
     "output_type": "execute_result"
    }
   ],
   "source": [
    "projectile(30, 320)"
   ]
  },
  {
   "cell_type": "markdown",
   "metadata": {
    "deletable": false,
    "editable": false,
    "run_control": {
     "frozen": true
    }
   },
   "source": [
    "- Test the function with an initial velocity of $175$ m/s at an angle of $45^{\\circ}$ in the following cell."
   ]
  },
  {
   "cell_type": "code",
   "execution_count": 16,
   "metadata": {},
   "outputs": [
    {
     "data": {
      "text/plain": [
       "(25.228070684535332, 3121.814475025484, 3121.8144750254833)"
      ]
     },
     "execution_count": 16,
     "metadata": {},
     "output_type": "execute_result"
    }
   ],
   "source": [
    "projectile(45, 175)"
   ]
  },
  {
   "cell_type": "markdown",
   "metadata": {
    "deletable": false,
    "editable": false,
    "run_control": {
     "frozen": true
    }
   },
   "source": [
    "**7. Approaching 2 (6 points)**\n",
    "\n",
    "Demonstrate that the mathematical expression  $\\displaystyle \\lim_{x \\to 1}\\frac{x^2 - 1}{x - 1} = 2$ is true.\n",
    "\n",
    "**Part a (1 point):**\n",
    "\n",
    "Start by creating a list `x` that has the values $[5, 3, 2, 1.5, 1.1, 1.01, 1.001, 1.0001, 1.00001, 1.000001]$"
   ]
  },
  {
   "cell_type": "code",
   "execution_count": 17,
   "metadata": {},
   "outputs": [],
   "source": [
    "x = [5, 3, 2, 1.5, 1.1, 1.01, 1.001, 1.0001, 1.00001, 1.000001]"
   ]
  },
  {
   "cell_type": "markdown",
   "metadata": {
    "deletable": false,
    "editable": false,
    "run_control": {
     "frozen": true
    }
   },
   "source": [
    "**Part b (3 points):**\n",
    "\n",
    "Create a second list `y` that uses the values from `x` and $\\displaystyle \\frac{x^2 - 1}{x - 1}$ to calculate its values. Use a `for` loop or list comprehesion. Print the resulting list."
   ]
  },
  {
   "cell_type": "code",
   "execution_count": 18,
   "metadata": {},
   "outputs": [
    {
     "name": "stdout",
     "output_type": "stream",
     "text": [
      "[6.0, 4.0, 3.0, 2.5, 2.1, 2.009999999999999, 2.0009999999999177, 2.0000999999993923, 2.0000100000008274, 2.0000010000889006]\n"
     ]
    }
   ],
   "source": [
    "y = [(x**2 - 1)/(x - 1) for x in x]\n",
    "print(y)"
   ]
  },
  {
   "cell_type": "markdown",
   "metadata": {
    "deletable": false,
    "editable": false,
    "run_control": {
     "frozen": true
    }
   },
   "source": [
    "**Part c (2 points):**\n",
    "\n",
    "Use another `for` loop or list comprehension statement to calculate the absolute value of the difference between the values in list `y` and the number $2$ and places the differences in a list that is assigned to a variable name. Print the resulting list."
   ]
  },
  {
   "cell_type": "code",
   "execution_count": 19,
   "metadata": {},
   "outputs": [
    {
     "name": "stdout",
     "output_type": "stream",
     "text": [
      "[4.0, 2.0, 1.0, 0.5, 0.10000000000000009, 0.009999999999998899, 0.0009999999999177334, 9.99999993922529e-05, 1.000000082740371e-05, 1.000088900582341e-06]\n"
     ]
    }
   ],
   "source": [
    "difference = [abs(y - 2) for y in y]\n",
    "print(difference)"
   ]
  },
  {
   "cell_type": "markdown",
   "metadata": {
    "deletable": false,
    "editable": false,
    "run_control": {
     "frozen": true
    }
   },
   "source": [
    "**8. Heron's Formula (15 points total)**\n",
    "\n",
    "Heron's Formula can be used to find the area of any triangle with known side lengths $a$, $b$, and $c$:\n",
    "\n",
    "$$ A = \\sqrt{s(s-a)(s-b)(s-c)} \\quad \\text{where}\\,s = \\frac{a+b+c}{2}$$\n",
    "\n",
    "The $(x,y,z)$ coordinates for the points (i.e. vertices or corners) of a particular triangle that exists in 3D space are given as:\n",
    "\n",
    "- Point 1 = $(0, -4, 7)$\n",
    "- Point 2 = $(13, 6, -5)$\n",
    "- Point 3 = $(7, 20, -8)$\n",
    "\n",
    "The length of any side of a generic triangle can be calculated using the $(x, y, z)$ values of the two points (vertices) at the ends of the side in question using the following:\n",
    "\n",
    "$$ \\text{side length} = \\sqrt{(x_1 - x_0)^2 + (y_1 - y_0)^2 + (z_1 - z_0)^2}$$\n",
    "\n",
    "where $(x_0, y_0, z_0)$ are the coordinates of one point and $(x_1, y_1, z_1)$ are the coordinates of the second point."
   ]
  },
  {
   "cell_type": "markdown",
   "metadata": {
    "deletable": false,
    "editable": false,
    "run_control": {
     "frozen": true
    }
   },
   "source": [
    "**Part a (3 points):**\n",
    "\n",
    "Create and name the tuples or lists `p1`, `p2`, and `p3` for the three points (vertices) in the order given above"
   ]
  },
  {
   "cell_type": "code",
   "execution_count": 20,
   "metadata": {},
   "outputs": [],
   "source": [
    "p1 = (0, -4, 7)\n",
    "p2 = (13, 6, -5)\n",
    "p3 = (7, 20, -8)"
   ]
  },
  {
   "cell_type": "markdown",
   "metadata": {
    "deletable": false,
    "editable": false,
    "run_control": {
     "frozen": true
    }
   },
   "source": [
    "**Part b (9 points):**\n",
    "\n",
    "Calculate the side lengths `a`, `b`, and `c` using the provided side length formula. Use indexing to access the appropriate values from `p1`, `p2`, and `p3` when performing your calculations. Use the following vertex pairs to create each side of the triangle. Define and print each side in a separate code cell. *Hint: once you set up the formula for the first side, copy and paste it into the next two cells and simply change the names for the sides and the points being used.*\n",
    "\n",
    "  - Side `a` uses points `p1` and `p2`\n",
    "  - Side `b` uses points `p2` and `p3`\n",
    "  - Side `c` uses points `p1` and `p3`"
   ]
  },
  {
   "cell_type": "code",
   "execution_count": 21,
   "metadata": {},
   "outputs": [
    {
     "name": "stdout",
     "output_type": "stream",
     "text": [
      "20.322401432901575\n"
     ]
    }
   ],
   "source": [
    "a = math.sqrt((p1[0] - p2[0])**2 + (p1[1] - p2[1])**2 + (p1[2] - p2[2])**2)\n",
    "print(a)"
   ]
  },
  {
   "cell_type": "code",
   "execution_count": 22,
   "metadata": {},
   "outputs": [
    {
     "name": "stdout",
     "output_type": "stream",
     "text": [
      "15.524174696260024\n"
     ]
    }
   ],
   "source": [
    "b = math.sqrt((p3[0] - p2[0])**2 + (p3[1] - p2[1])**2 + (p3[2] - p2[2])**2)\n",
    "print(b)"
   ]
  },
  {
   "cell_type": "code",
   "execution_count": 23,
   "metadata": {},
   "outputs": [
    {
     "name": "stdout",
     "output_type": "stream",
     "text": [
      "29.154759474226502\n"
     ]
    }
   ],
   "source": [
    "c = math.sqrt((p1[0] - p3[0])**2 + (p1[1] - p3[1])**2 + (p1[2] - p3[2])**2)\n",
    "print(c)"
   ]
  },
  {
   "cell_type": "markdown",
   "metadata": {
    "deletable": false,
    "editable": false,
    "run_control": {
     "frozen": true
    }
   },
   "source": [
    "**Part c (3 points):** \n",
    "\n",
    "Use the calculated side lengths to calculate the area of the triangle using Heron's Formula. Assign the results of the calculation to `A` and print the result."
   ]
  },
  {
   "cell_type": "code",
   "execution_count": 24,
   "metadata": {},
   "outputs": [
    {
     "name": "stdout",
     "output_type": "stream",
     "text": [
      "149.94082165974677\n"
     ]
    }
   ],
   "source": [
    "s = (a + b + c)/2\n",
    "A = math.sqrt(s*(s - a)*(s - b)*(s - c))\n",
    "print(A)"
   ]
  },
  {
   "cell_type": "markdown",
   "metadata": {
    "deletable": false,
    "editable": false,
    "run_control": {
     "frozen": true
    }
   },
   "source": [
    "**9. List Manipulation (12 points)**\n",
    "\n",
    "Perform the following list manipulations. Keep in mind that if you mess up a step and then fix it, you may need to re-execute all of the cells before that step to get the correct results."
   ]
  },
  {
   "cell_type": "markdown",
   "metadata": {
    "deletable": false,
    "editable": false,
    "run_control": {
     "frozen": true
    }
   },
   "source": [
    "**Part a (2 points):** \n",
    "\n",
    "Add the appropriate arguments to `range( )` in the following command such that only even integers from $20$ to $50$ (inclusive) are included in the range and assign the command to the variable `num_list`. Print or display your list to make sure that all of the values fall within the desired range."
   ]
  },
  {
   "cell_type": "code",
   "execution_count": 27,
   "metadata": {},
   "outputs": [
    {
     "name": "stdout",
     "output_type": "stream",
     "text": [
      "[34, 36, 20, 28, 40, 24, 22, 32, 50, 30]\n"
     ]
    }
   ],
   "source": [
    "import random\n",
    "num_list = random.sample(range(20, 51, 2),10)\n",
    "print(num_list)"
   ]
  },
  {
   "cell_type": "markdown",
   "metadata": {
    "deletable": false,
    "editable": false,
    "run_control": {
     "frozen": true
    }
   },
   "source": [
    "**Part b (1 point):** \n",
    "\n",
    "Add the values $13$ and $99$ to the end of `num_list` then print or display the list."
   ]
  },
  {
   "cell_type": "code",
   "execution_count": 28,
   "metadata": {},
   "outputs": [
    {
     "data": {
      "text/plain": [
       "[34, 36, 20, 28, 40, 24, 22, 32, 50, 30, 13, 99]"
      ]
     },
     "execution_count": 28,
     "metadata": {},
     "output_type": "execute_result"
    }
   ],
   "source": [
    "num_list.extend([13, 99])\n",
    "num_list"
   ]
  },
  {
   "cell_type": "markdown",
   "metadata": {
    "deletable": false,
    "editable": false,
    "run_control": {
     "frozen": true
    }
   },
   "source": [
    "**Part c (1 point):** \n",
    "\n",
    "Insert $55$ into `num_list` so that it will end up being the 7th item (6th index position) in the list then print or display the list."
   ]
  },
  {
   "cell_type": "code",
   "execution_count": 29,
   "metadata": {},
   "outputs": [
    {
     "data": {
      "text/plain": [
       "[34, 36, 20, 28, 40, 24, 55, 22, 32, 50, 30, 13, 99]"
      ]
     },
     "execution_count": 29,
     "metadata": {},
     "output_type": "execute_result"
    }
   ],
   "source": [
    "num_list.insert(6, 55)\n",
    "num_list"
   ]
  },
  {
   "cell_type": "markdown",
   "metadata": {
    "deletable": false,
    "editable": false,
    "run_control": {
     "frozen": true
    }
   },
   "source": [
    "**Part d (1 point):**\n",
    "\n",
    "Sort `num_list` in **descending** order then print or display it."
   ]
  },
  {
   "cell_type": "code",
   "execution_count": 31,
   "metadata": {},
   "outputs": [
    {
     "data": {
      "text/plain": [
       "[99, 55, 50, 40, 36, 34, 32, 30, 28, 24, 22, 20, 13]"
      ]
     },
     "execution_count": 31,
     "metadata": {},
     "output_type": "execute_result"
    }
   ],
   "source": [
    "num_list.sort(reverse=True)\n",
    "num_list"
   ]
  },
  {
   "cell_type": "markdown",
   "metadata": {
    "deletable": false,
    "editable": false,
    "run_control": {
     "frozen": true
    }
   },
   "source": [
    "**Part e (1 point):**\n",
    "\n",
    "Find the location (index position) of $55$ in `num_list` and assign the location to a variable name. Print or display the variable name to make sure it contains the correct value."
   ]
  },
  {
   "cell_type": "code",
   "execution_count": 32,
   "metadata": {},
   "outputs": [
    {
     "data": {
      "text/plain": [
       "1"
      ]
     },
     "execution_count": 32,
     "metadata": {},
     "output_type": "execute_result"
    }
   ],
   "source": [
    "n = num_list.index(55)\n",
    "n"
   ]
  },
  {
   "cell_type": "markdown",
   "metadata": {
    "deletable": false,
    "editable": false,
    "run_control": {
     "frozen": true
    }
   },
   "source": [
    "**Part f (2 points):**\n",
    "\n",
    "Replace the value $13$ in `num_list` with the value $1000$ and then print or display the list."
   ]
  },
  {
   "cell_type": "code",
   "execution_count": 33,
   "metadata": {},
   "outputs": [
    {
     "data": {
      "text/plain": [
       "[99, 55, 50, 40, 36, 34, 32, 30, 28, 24, 22, 20, 1000]"
      ]
     },
     "execution_count": 33,
     "metadata": {},
     "output_type": "execute_result"
    }
   ],
   "source": [
    "num_list[num_list.index(13)] = 1000\n",
    "num_list"
   ]
  },
  {
   "cell_type": "markdown",
   "metadata": {
    "deletable": false,
    "editable": false,
    "run_control": {
     "frozen": true
    }
   },
   "source": [
    "**Part g (1 point):** \n",
    "\n",
    "Sort `num_list` again, but in **ascending** order this time. Print or display the list after sorting."
   ]
  },
  {
   "cell_type": "code",
   "execution_count": 34,
   "metadata": {},
   "outputs": [
    {
     "data": {
      "text/plain": [
       "[20, 22, 24, 28, 30, 32, 34, 36, 40, 50, 55, 99, 1000]"
      ]
     },
     "execution_count": 34,
     "metadata": {},
     "output_type": "execute_result"
    }
   ],
   "source": [
    "num_list.sort()\n",
    "num_list"
   ]
  },
  {
   "cell_type": "markdown",
   "metadata": {
    "deletable": false,
    "editable": false,
    "run_control": {
     "frozen": true
    }
   },
   "source": [
    "**Part h (1 point):**\n",
    "\n",
    "Create the list `short_list` that contains only the last three numbers from `num_list` by slicing the original list. Print or display `short_list`."
   ]
  },
  {
   "cell_type": "code",
   "execution_count": 35,
   "metadata": {},
   "outputs": [
    {
     "data": {
      "text/plain": [
       "[55, 99, 1000]"
      ]
     },
     "execution_count": 35,
     "metadata": {},
     "output_type": "execute_result"
    }
   ],
   "source": [
    "short_list = num_list[-3:]\n",
    "short_list"
   ]
  },
  {
   "cell_type": "markdown",
   "metadata": {
    "deletable": false,
    "editable": false,
    "run_control": {
     "frozen": true
    }
   },
   "source": [
    "**Part i (2 points):**\n",
    "\n",
    "Use list functions to find the average of the values in `num_list` and assign the result to a variable, then print or display the variable."
   ]
  },
  {
   "cell_type": "code",
   "execution_count": 36,
   "metadata": {},
   "outputs": [
    {
     "data": {
      "text/plain": [
       "113.07692307692308"
      ]
     },
     "execution_count": 36,
     "metadata": {},
     "output_type": "execute_result"
    }
   ],
   "source": [
    "avg = sum(num_list)/len(num_list)\n",
    "avg"
   ]
  },
  {
   "cell_type": "markdown",
   "metadata": {
    "deletable": false,
    "editable": false,
    "run_control": {
     "frozen": true
    }
   },
   "source": [
    "**10. String Manipulation (8 points)**\n",
    "\n",
    "***Print the results of each step of this problem after performing the requested actions.***\n",
    "\n",
    "**Part a (1 point):**\n",
    "\n",
    "Assign the following string to the variable `test_string` and execute the cell"
   ]
  },
  {
   "cell_type": "code",
   "execution_count": 37,
   "metadata": {},
   "outputs": [],
   "source": [
    "test_string = \"The quick brown fox jumps over the lazy dog\""
   ]
  },
  {
   "cell_type": "markdown",
   "metadata": {
    "deletable": false,
    "editable": false,
    "run_control": {
     "frozen": true
    }
   },
   "source": [
    "**Part b (1 point):** \n",
    "\n",
    "Make `test_string` all uppercase letters"
   ]
  },
  {
   "cell_type": "code",
   "execution_count": 38,
   "metadata": {},
   "outputs": [
    {
     "name": "stdout",
     "output_type": "stream",
     "text": [
      "THE QUICK BROWN FOX JUMPS OVER THE LAZY DOG\n"
     ]
    }
   ],
   "source": [
    "test_string = test_string.upper()\n",
    "print(test_string)"
   ]
  },
  {
   "cell_type": "markdown",
   "metadata": {
    "deletable": false,
    "editable": false,
    "run_control": {
     "frozen": true
    }
   },
   "source": [
    "**Part c (3 points):**\n",
    "\n",
    "Replace all instances of the following letters in `test_string` with the numbers or symbols given and name the resulting string `new_string`. \n",
    "\n",
    "*Hint: remember that strings are immutable, you will have to do this in multiple steps.*\n",
    "\n",
    "`'O'` with `'@'`\n",
    "\n",
    "`'E'` with `'3'`\n",
    "\n",
    "`'S'` with `'$'`"
   ]
  },
  {
   "cell_type": "code",
   "execution_count": 40,
   "metadata": {},
   "outputs": [
    {
     "name": "stdout",
     "output_type": "stream",
     "text": [
      "TH3 QUICK BR@WN F@X JUMP$ @V3R TH3 LAZY D@G\n"
     ]
    }
   ],
   "source": [
    "new_string = test_string.replace(\"O\", \"@\")\n",
    "new_string = new_string.replace(\"E\", \"3\")\n",
    "new_string = new_string.replace(\"S\", \"$\")\n",
    "print(new_string)"
   ]
  },
  {
   "cell_type": "markdown",
   "metadata": {
    "deletable": false,
    "editable": false,
    "run_control": {
     "frozen": true
    }
   },
   "source": [
    "**Part d (1 point):**\n",
    "\n",
    "Split `new_string` into a list of words and assign the list to the variable `word_list`"
   ]
  },
  {
   "cell_type": "code",
   "execution_count": 41,
   "metadata": {},
   "outputs": [],
   "source": [
    "word_list = new_string.split()"
   ]
  },
  {
   "cell_type": "markdown",
   "metadata": {
    "deletable": false,
    "editable": false,
    "run_control": {
     "frozen": true
    }
   },
   "source": [
    "**Part e (2 points):**\n",
    "\n",
    "Use a `for` loop to print each word in `word_list` on its own line"
   ]
  },
  {
   "cell_type": "code",
   "execution_count": 42,
   "metadata": {},
   "outputs": [
    {
     "name": "stdout",
     "output_type": "stream",
     "text": [
      "TH3\n",
      "QUICK\n",
      "BR@WN\n",
      "F@X\n",
      "JUMP$\n",
      "@V3R\n",
      "TH3\n",
      "LAZY\n",
      "D@G\n"
     ]
    }
   ],
   "source": [
    "for word in word_list:\n",
    "    print(word)"
   ]
  },
  {
   "cell_type": "markdown",
   "metadata": {},
   "source": [
    "**11. Geometric Series (12 points)**\n",
    "\n",
    "The sum of the values in a particular geometric series $(r^0, r^1, r^3, r^4, \\ldots ,r^x)$ approaches $\\displaystyle \\frac{1}{1-r}$ for values of $0 \\leq r < 1$ as $x \\to \\infty$. This series is generally written as shown below:\n",
    "\n",
    "$$ \\sum_{n=0}^{\\infty}{r^n} = \\frac{1}{1-r}$$\n",
    "\n",
    "Complete the body of the following function definition to compute the series using $r$ with a maximum exponent of $x$. Follow the instructions provided by the comments in the function. Execute the function definition when completed."
   ]
  },
  {
   "cell_type": "code",
   "execution_count": 43,
   "metadata": {},
   "outputs": [],
   "source": [
    "def gseries(r, x):\n",
    "    \"\"\"Approximates the series sum of r^n from r^0 to r^x and\n",
    "    compares it to 1/(1-r)\n",
    "    \n",
    "    'r' must be greater than or equal to zero and less than 1\n",
    "    'x' is the desired exponent for the last term in the series\n",
    "    \"\"\"\n",
    "    # test if 'r' is outside the range for this approximation.\n",
    "    # if so, print a statement that 'r' is invalid and return None\n",
    "    if r < 0 or r >= 1:\n",
    "        print(\"Invalid 'r' value\")\n",
    "        return None\n",
    "    \n",
    "    # create an empty list named 'r_to_n'\n",
    "    r_to_n = []\n",
    "    \n",
    "    # add the correct argument(s) for 'range()' in the 'for' statement below\n",
    "    for n in range(x + 1):\n",
    "        # calculate each term and add it to list 'r_to_n'\n",
    "        r_to_n.append(r**n)\n",
    "        \n",
    "    # add up all values in list 'r_to_n' and assign to the variable 'sum_r_to_n'\n",
    "    # use a built-in function that works on lists\n",
    "    sum_r_to_n = sum(r_to_n)\n",
    "    \n",
    "    # calculate the expected result of the series\n",
    "    expected = 1/(1 - r)\n",
    "    \n",
    "    # calculate the absolute difference between 'sum_r_to_n' and 'expected'\n",
    "    difference = abs(sum_r_to_n - expected)\n",
    "    \n",
    "    # add variables and formatting in the correct locations of the provided\n",
    "    # f-string in the following print command such that the summation and\n",
    "    # difference are each displayed with 16-decimal places\n",
    "    \n",
    "    print(f'The summation of the series is {sum_r_to_n:.16f}, which differs from 1/(1 - {r}) by {difference:.16f}')\n",
    "    \n",
    "    # return the sum_r_to_n summation value\n",
    "    return sum_r_to_n"
   ]
  },
  {
   "cell_type": "markdown",
   "metadata": {
    "deletable": false,
    "editable": false,
    "run_control": {
     "frozen": true
    }
   },
   "source": [
    "- Test the function with $r=0.5$ and $x=10$"
   ]
  },
  {
   "cell_type": "code",
   "execution_count": 44,
   "metadata": {},
   "outputs": [
    {
     "name": "stdout",
     "output_type": "stream",
     "text": [
      "The summation of the series is 1.9990234375000000, which differs from 1/(1 - 0.5) by 0.0009765625000000\n"
     ]
    },
    {
     "data": {
      "text/plain": [
       "1.9990234375"
      ]
     },
     "execution_count": 44,
     "metadata": {},
     "output_type": "execute_result"
    }
   ],
   "source": [
    "gseries(0.5, 10)"
   ]
  },
  {
   "cell_type": "markdown",
   "metadata": {
    "deletable": false,
    "editable": false,
    "run_control": {
     "frozen": true
    }
   },
   "source": [
    "- Test the function with $r=0.75$ and $x=10$ then with $x=100$"
   ]
  },
  {
   "cell_type": "code",
   "execution_count": 45,
   "metadata": {},
   "outputs": [
    {
     "name": "stdout",
     "output_type": "stream",
     "text": [
      "The summation of the series is 3.8310594558715820, which differs from 1/(1 - 0.75) by 0.1689405441284180\n"
     ]
    },
    {
     "data": {
      "text/plain": [
       "3.831059455871582"
      ]
     },
     "execution_count": 45,
     "metadata": {},
     "output_type": "execute_result"
    }
   ],
   "source": [
    "gseries(0.75, 10)"
   ]
  },
  {
   "cell_type": "code",
   "execution_count": 46,
   "metadata": {},
   "outputs": [
    {
     "name": "stdout",
     "output_type": "stream",
     "text": [
      "The summation of the series is 3.9999999999990368, which differs from 1/(1 - 0.75) by 0.0000000000009632\n"
     ]
    },
    {
     "data": {
      "text/plain": [
       "3.9999999999990368"
      ]
     },
     "execution_count": 46,
     "metadata": {},
     "output_type": "execute_result"
    }
   ],
   "source": [
    "gseries(0.75, 100)"
   ]
  },
  {
   "cell_type": "markdown",
   "metadata": {
    "deletable": false,
    "editable": false,
    "run_control": {
     "frozen": true
    }
   },
   "source": [
    "- Test the function with $r=1.1$ and $x=10$"
   ]
  },
  {
   "cell_type": "code",
   "execution_count": 47,
   "metadata": {},
   "outputs": [
    {
     "name": "stdout",
     "output_type": "stream",
     "text": [
      "Invalid 'r' value\n"
     ]
    }
   ],
   "source": [
    "gseries(1.1, 10)"
   ]
  },
  {
   "cell_type": "markdown",
   "metadata": {
    "deletable": false,
    "editable": false,
    "run_control": {
     "frozen": true
    }
   },
   "source": [
    "**12. Four-Bar Classifier (15 points)**\n",
    "\n",
    "Complete the following function definition used to classify the type of motion generated by four-bar mechanisms (Grashof's Criteria). The function accepts the four link lengths $L_1$, $L_2$, $L_3$, and $L_4$ as arguments.\n",
    "\n",
    "| Case | Criteria | Shortest Link | Classification |\n",
    "|:---:|:----------|:---------------|:----------------|\n",
    "| 1 | long + short < sum of other two | $L_1$ (frame) | Double crank |\n",
    "| 2 | long + short < sum of other two | $L_2$ (input) or $L_4$ (output) | Crank rocker |\n",
    "| 3 | long + short < sum of other two | $L_3$ (coupler) | Double rocker |\n",
    "| 4 | long + short = sum of other two | Any | Change point |\n",
    "| 5 | long + short > sum of other two | Any | Triple rocker |"
   ]
  },
  {
   "cell_type": "code",
   "execution_count": 48,
   "metadata": {},
   "outputs": [],
   "source": [
    "def grashof(L1, L2, L3, L4):\n",
    "    \"\"\"Classify four-bar mechanisms using Grashof's Criteria, where...\n",
    "    L1 = link 1 length = frame\n",
    "    L2 = link 2 length = input link (i.e. crank)\n",
    "    L3 = link 3 length = coupler\n",
    "    L4 = link 4 length = output link\n",
    "    \n",
    "    Returns a tuple that contains the case number as an integer\n",
    "    (1 thru 5) and a classification string\n",
    "    \"\"\"\n",
    "    # use if-elif-else statement groups to determine the \n",
    "    # classification based on the provided table (above)\n",
    "    \n",
    "    # hints:\n",
    "    #     - Put the link lengths in a list\n",
    "    #     - Find the location of the minimum value (shortest link)\n",
    "    #       in the list\n",
    "    #     - Sort the list\n",
    "    #     - Use indexing to grab the shortest, longest, and other \n",
    "    #       link lengths from the sorted list for comparisons\n",
    "    #     - Set up if-elif-else command groups using the above values\n",
    "    #       to assign appropriate values to the variables 'case' and\n",
    "    #       'classification' based upon the conditions given in the\n",
    "    #       provided table\n",
    "    #\n",
    "    # WRITE YOUR CODE BELOW THE LINE\n",
    "    # ____________________________________________________________\n",
    "    \n",
    "    links = [L1, L2, L3, L4]\n",
    "    short_index = links.index(min(links))\n",
    "    links.sort()\n",
    "    short = links[0]\n",
    "    long = links[-1]\n",
    "    other = sum(links[1:3])\n",
    "    \n",
    "    if long + short < other and short_index == 0:\n",
    "        case = 1\n",
    "        classification = \"Double Crank\"\n",
    "    elif long + short < other and (short_index == 1 or short_index == 3):\n",
    "        case = 2\n",
    "        classification = \"Crank Rocker\"\n",
    "    elif long + short < other and short_index == 2:\n",
    "        case = 3\n",
    "        classification = \"Double Rocker\"\n",
    "    elif long + short == other:\n",
    "        case = 4\n",
    "        classification = \"Change Point\"\n",
    "    else:\n",
    "        case = 5\n",
    "        classification = \"Triple rocker\"\n",
    "    \n",
    "    return case, classification"
   ]
  },
  {
   "cell_type": "markdown",
   "metadata": {
    "deletable": false,
    "editable": false,
    "run_control": {
     "frozen": true
    }
   },
   "source": [
    "Test the following cases of `(L1, L2, L3, L4)`. They should each result in the case numbers shown before the values.\n",
    "\n",
    "Case 1: $(2.5, 3.75, 4, 3.5)$"
   ]
  },
  {
   "cell_type": "code",
   "execution_count": 49,
   "metadata": {},
   "outputs": [
    {
     "data": {
      "text/plain": [
       "(1, 'Double Crank')"
      ]
     },
     "execution_count": 49,
     "metadata": {},
     "output_type": "execute_result"
    }
   ],
   "source": [
    "grashof(2.5, 3.75, 4, 3.5)"
   ]
  },
  {
   "cell_type": "markdown",
   "metadata": {
    "deletable": false,
    "editable": false,
    "run_control": {
     "frozen": true
    }
   },
   "source": [
    "Case 2: $(5, 1.5, 4, 3)$"
   ]
  },
  {
   "cell_type": "code",
   "execution_count": 50,
   "metadata": {},
   "outputs": [
    {
     "data": {
      "text/plain": [
       "(2, 'Crank Rocker')"
      ]
     },
     "execution_count": 50,
     "metadata": {},
     "output_type": "execute_result"
    }
   ],
   "source": [
    "grashof(5, 1.5, 4, 3)"
   ]
  },
  {
   "cell_type": "markdown",
   "metadata": {
    "deletable": false,
    "editable": false,
    "run_control": {
     "frozen": true
    }
   },
   "source": [
    "Case 3. $(3, 3.75, 2.5, 3.5)$"
   ]
  },
  {
   "cell_type": "code",
   "execution_count": 51,
   "metadata": {},
   "outputs": [
    {
     "data": {
      "text/plain": [
       "(3, 'Double Rocker')"
      ]
     },
     "execution_count": 51,
     "metadata": {},
     "output_type": "execute_result"
    }
   ],
   "source": [
    "grashof(3, 3.75, 2.5, 3.5)"
   ]
  },
  {
   "cell_type": "markdown",
   "metadata": {
    "deletable": false,
    "editable": false,
    "run_control": {
     "frozen": true
    }
   },
   "source": [
    "Case 4. $(1.5, 4, 4.5, 2)$"
   ]
  },
  {
   "cell_type": "code",
   "execution_count": 52,
   "metadata": {},
   "outputs": [
    {
     "data": {
      "text/plain": [
       "(4, 'Change Point')"
      ]
     },
     "execution_count": 52,
     "metadata": {},
     "output_type": "execute_result"
    }
   ],
   "source": [
    "grashof(1.5, 4, 4.5, 2)"
   ]
  },
  {
   "cell_type": "markdown",
   "metadata": {
    "deletable": false,
    "editable": false,
    "run_control": {
     "frozen": true
    }
   },
   "source": [
    "Case 5. $(4, 6, 3, 4.5)$"
   ]
  },
  {
   "cell_type": "code",
   "execution_count": 53,
   "metadata": {},
   "outputs": [
    {
     "data": {
      "text/plain": [
       "(5, 'Triple rocker')"
      ]
     },
     "execution_count": 53,
     "metadata": {},
     "output_type": "execute_result"
    }
   ],
   "source": [
    "grashof(4, 6, 3, 4.5)"
   ]
  },
  {
   "cell_type": "markdown",
   "metadata": {
    "deletable": false,
    "editable": false,
    "run_control": {
     "frozen": true
    }
   },
   "source": [
    "**Wrap it up (1 point)**\n",
    "\n",
    "Execute the code cell below to show the time and date you finished the test."
   ]
  },
  {
   "cell_type": "code",
   "execution_count": 54,
   "metadata": {
    "deletable": false,
    "editable": false
   },
   "outputs": [
    {
     "name": "stdout",
     "output_type": "stream",
     "text": [
      "2020-02-19 12:57:22.033809-05:00\n"
     ]
    }
   ],
   "source": [
    "from datetime import datetime\n",
    "from pytz import timezone\n",
    "print(datetime.now(timezone('US/Eastern')))"
   ]
  },
  {
   "cell_type": "markdown",
   "metadata": {
    "deletable": false,
    "editable": false,
    "run_control": {
     "frozen": true
    }
   },
   "source": [
    "Click on the **Save** button and then **Close and halt** from the **File** menu when you are done. **This test must be completed before the end of the lab session in order to receive credit.** Submit your completed notebook to *Canvas*."
   ]
  }
 ],
 "metadata": {
  "kernelspec": {
   "display_name": "Python 3",
   "language": "python",
   "name": "python3"
  },
  "language_info": {
   "codemirror_mode": {
    "name": "ipython",
    "version": 3
   },
   "file_extension": ".py",
   "mimetype": "text/x-python",
   "name": "python",
   "nbconvert_exporter": "python",
   "pygments_lexer": "ipython3",
   "version": "3.7.5"
  },
  "varInspector": {
   "cols": {
    "lenName": 16,
    "lenType": 16,
    "lenVar": 40
   },
   "kernels_config": {
    "python": {
     "delete_cmd_postfix": "",
     "delete_cmd_prefix": "del ",
     "library": "var_list.py",
     "varRefreshCmd": "print(var_dic_list())"
    },
    "r": {
     "delete_cmd_postfix": ") ",
     "delete_cmd_prefix": "rm(",
     "library": "var_list.r",
     "varRefreshCmd": "cat(var_dic_list()) "
    }
   },
   "types_to_exclude": [
    "module",
    "function",
    "builtin_function_or_method",
    "instance",
    "_Feature"
   ],
   "window_display": false
  }
 },
 "nbformat": 4,
 "nbformat_minor": 1
}
