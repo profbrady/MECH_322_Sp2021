{
 "cells": [
  {
   "cell_type": "markdown",
   "metadata": {
    "deletable": false,
    "editable": false,
    "run_control": {
     "frozen": true
    }
   },
   "source": [
    "# Py 3.02 - `quadroots` Script\n",
    "___"
   ]
  },
  {
   "cell_type": "code",
   "execution_count": null,
   "metadata": {},
   "outputs": [],
   "source": [
    "name = \"Your name here\"\n",
    "print(\"Name:\", name.upper())"
   ]
  },
  {
   "cell_type": "markdown",
   "metadata": {
    "deletable": false,
    "editable": false,
    "run_control": {
     "frozen": true
    }
   },
   "source": [
    "Write a script that determines the real roots of a quadratic equation $ax^2+bx+c=0$. Name your script **`quadroots.py`**. When the script runs, is should ask the user to enter the values of the constants $a$, $b$, and $c$ (in that order) using separate commands. Keep in mind that the input values do not necessarily have to be integers. To determine the number of roots, use the discriminant $D$:\n",
    "\n",
    "$\\qquad\\displaystyle D = b^2 -4ac$\n",
    "\n",
    "- If $D>0$, display the message \"The equation has two real roots\" and print the roots on the next line.\n",
    "- If $D=0$, display the message \"The equation has one real root\" and print the root on the next line.\n",
    "- If $D<0$, display the message \"The equation has no real roots\".\n",
    "    \n",
    "Test the script in the following code cells for:\n",
    "- $3x^2 + 6x + 3 =0$\n",
    "- $-3x^2 + 4x -6 = 0$\n",
    "- $-3x^2 + 7x + 5 = 0$"
   ]
  },
  {
   "cell_type": "code",
   "execution_count": null,
   "metadata": {},
   "outputs": [],
   "source": [
    "# The following framework may be used to create your script\n",
    "\n",
    "# import all necessary math commands or the math module inside each script and function\n",
    "\n",
    "# ask user to enter a, b, and c. use separate commands for each.\n",
    "\n",
    "# calculate the discriminant D\n",
    "\n",
    "# if D > 0, print that there are two real roots and calculate/print the two roots (quadratic equation anybody?)\n",
    "\n",
    "# elif D < 0, print that there are no real roots\n",
    "\n",
    "# else, print that there is one real root and calculate/print the root\n"
   ]
  },
  {
   "cell_type": "code",
   "execution_count": null,
   "metadata": {},
   "outputs": [],
   "source": []
  },
  {
   "cell_type": "code",
   "execution_count": null,
   "metadata": {},
   "outputs": [],
   "source": []
  },
  {
   "cell_type": "code",
   "execution_count": null,
   "metadata": {},
   "outputs": [],
   "source": []
  },
  {
   "cell_type": "markdown",
   "metadata": {
    "deletable": false,
    "editable": false,
    "run_control": {
     "frozen": true
    }
   },
   "source": [
    ">**Wrap it up**\n",
    ">\n",
    ">Execute the time stamp code cell below to show the time and date you finished and tested this script.\n",
    ">\n",
    ">Click on the **Save** button and then the **Close and halt** button when you are done. **Submit this notebook and your script file to *Canvas* before the due date/time to receive credit.**"
   ]
  },
  {
   "cell_type": "code",
   "execution_count": null,
   "metadata": {
    "deletable": false,
    "editable": false
   },
   "outputs": [],
   "source": [
    "from datetime import datetime\n",
    "from pytz import timezone\n",
    "print(datetime.now(timezone('US/Eastern')))"
   ]
  }
 ],
 "metadata": {
  "kernelspec": {
   "display_name": "Python 3",
   "language": "python",
   "name": "python3"
  },
  "language_info": {
   "codemirror_mode": {
    "name": "ipython",
    "version": 3
   },
   "file_extension": ".py",
   "mimetype": "text/x-python",
   "name": "python",
   "nbconvert_exporter": "python",
   "pygments_lexer": "ipython3",
   "version": "3.7.5"
  },
  "varInspector": {
   "cols": {
    "lenName": 16,
    "lenType": 16,
    "lenVar": 40
   },
   "kernels_config": {
    "python": {
     "delete_cmd_postfix": "",
     "delete_cmd_prefix": "del ",
     "library": "var_list.py",
     "varRefreshCmd": "print(var_dic_list())"
    },
    "r": {
     "delete_cmd_postfix": ") ",
     "delete_cmd_prefix": "rm(",
     "library": "var_list.r",
     "varRefreshCmd": "cat(var_dic_list()) "
    }
   },
   "types_to_exclude": [
    "module",
    "function",
    "builtin_function_or_method",
    "instance",
    "_Feature"
   ],
   "window_display": false
  }
 },
 "nbformat": 4,
 "nbformat_minor": 1
}
