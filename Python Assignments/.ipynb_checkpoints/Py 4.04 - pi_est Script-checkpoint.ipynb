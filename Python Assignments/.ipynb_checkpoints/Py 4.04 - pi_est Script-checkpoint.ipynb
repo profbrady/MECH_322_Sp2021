{
 "cells": [
  {
   "cell_type": "markdown",
   "metadata": {
    "deletable": false,
    "editable": false,
    "run_control": {
     "frozen": true
    }
   },
   "source": [
    "# Py 4.04 - `pi_est` Script\n",
    "___"
   ]
  },
  {
   "cell_type": "code",
   "execution_count": null,
   "metadata": {},
   "outputs": [],
   "source": [
    "name = \"Your name here\"\n",
    "print(\"Name:\", name.upper())"
   ]
  },
  {
   "cell_type": "markdown",
   "metadata": {
    "deletable": false,
    "editable": false
   },
   "source": [
    "**NOTE:** Be sure to `import` any modules or commands from modules that are required for a function or script within the function or script, not outside of it."
   ]
  },
  {
   "cell_type": "markdown",
   "metadata": {},
   "source": [
    "The value of $\\pi$ can be estimated from the following expression:\n",
    "\n",
    "$\\displaystyle\\frac{2}{\\pi} \\approx \\frac{\\sqrt{2}}{2}\\cdot \\frac{\\sqrt{2+\\sqrt{2}}}{2}\\cdot \\frac{\\sqrt{2+\\sqrt{2+\\sqrt{2}}}}{2}\\cdot\\ldots $\n",
    "\n",
    "Write a script named `pi_est.py` that estimates $\\pi$ for any number of terms. Ask the user for the number of terms. Your script should print the resulting estimate in a statement like `The estimate for pi is x.xxx` with 16-decimal place accuracy for the estimated $\\pi$. It should also print a statement that says `The difference between the estimate and pi is x.xxx` with 16-decimal place accuracy. Use `math.pi` and the absolute value function to calculate the difference.\n",
    "\n",
    "You must use a `for` loop in the script.\n",
    "\n",
    "Test your script in the following code cells with $5$, $10$, and $20$ terms.\n",
    "    \n",
    "*Hints*:\n",
    "- Assign the value of the numerator (top) of the first term to a variable before the loop\n",
    "- Calculate the value of the first term using the numerator that was just calculated and assign the value to a different variable\n",
    "- Each time through the loop:\n",
    "    - Use the previous term's numerator value to calculate the numerator of the \"current\" term and assign it to a variable (this variable will be overwritten each time through the loop)\n",
    "    - Use this numerator to calculate the value of the current term and assign it to a variable (also overwritten each time through the loop)\n",
    "    - Multiply the value of the current term by the previous term and assign to a variable (overwriting the previous value for this variable)\n",
    "- After exiting the loop, perform the math required to solve for the estimated $\\pi$ using the last value calculated in the loop (the right side of the expression)"
   ]
  },
  {
   "cell_type": "code",
   "execution_count": null,
   "metadata": {},
   "outputs": [],
   "source": []
  },
  {
   "cell_type": "code",
   "execution_count": null,
   "metadata": {},
   "outputs": [],
   "source": []
  },
  {
   "cell_type": "code",
   "execution_count": null,
   "metadata": {},
   "outputs": [],
   "source": []
  },
  {
   "cell_type": "code",
   "execution_count": null,
   "metadata": {},
   "outputs": [],
   "source": []
  },
  {
   "cell_type": "markdown",
   "metadata": {
    "deletable": false,
    "editable": false,
    "run_control": {
     "frozen": true
    }
   },
   "source": [
    ">**Wrap it up**\n",
    ">\n",
    ">Execute the time stamp code cell below to show the time and date you finished and tested this script.\n",
    ">\n",
    ">Click on the **Save** button and then the **Close and halt** button when you are done. **Submit this notebook and your script file to *Canvas* before the due date/time to receive credit.**"
   ]
  },
  {
   "cell_type": "code",
   "execution_count": null,
   "metadata": {
    "deletable": false,
    "editable": false
   },
   "outputs": [],
   "source": [
    "from datetime import datetime\n",
    "from pytz import timezone\n",
    "print(datetime.now(timezone('US/Eastern')))"
   ]
  }
 ],
 "metadata": {
  "kernelspec": {
   "display_name": "Python 3",
   "language": "python",
   "name": "python3"
  },
  "language_info": {
   "codemirror_mode": {
    "name": "ipython",
    "version": 3
   },
   "file_extension": ".py",
   "mimetype": "text/x-python",
   "name": "python",
   "nbconvert_exporter": "python",
   "pygments_lexer": "ipython3",
   "version": "3.7.4"
  },
  "varInspector": {
   "cols": {
    "lenName": 16,
    "lenType": 16,
    "lenVar": 40
   },
   "kernels_config": {
    "python": {
     "delete_cmd_postfix": "",
     "delete_cmd_prefix": "del ",
     "library": "var_list.py",
     "varRefreshCmd": "print(var_dic_list())"
    },
    "r": {
     "delete_cmd_postfix": ") ",
     "delete_cmd_prefix": "rm(",
     "library": "var_list.r",
     "varRefreshCmd": "cat(var_dic_list()) "
    }
   },
   "types_to_exclude": [
    "module",
    "function",
    "builtin_function_or_method",
    "instance",
    "_Feature"
   ],
   "window_display": false
  }
 },
 "nbformat": 4,
 "nbformat_minor": 1
}
