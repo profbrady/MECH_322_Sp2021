{
 "cells": [
  {
   "cell_type": "markdown",
   "metadata": {
    "deletable": false,
    "editable": false,
    "run_control": {
     "frozen": true
    }
   },
   "source": [
    "# Py 1.02 - Math with Variables Practice\n",
    "___"
   ]
  },
  {
   "cell_type": "code",
   "execution_count": null,
   "metadata": {},
   "outputs": [],
   "source": [
    "name = \"Your name here\"\n",
    "print(\"Name:\", name.upper())"
   ]
  },
  {
   "cell_type": "markdown",
   "metadata": {
    "deletable": false,
    "editable": false,
    "run_control": {
     "frozen": true
    }
   },
   "source": [
    "## Purpose and Instructions:\n",
    "\n",
    "Explore the use of *Python’s* elementary arithmetic and math functions to solve problems and display results.\n",
    "\n",
    "1. Replace \"Your name here\" in the cell below the assignment title with your first and last names and then execute the cell using \"Shift-Enter\"\n",
    "3. Complete each of the following calculations using *Python* by first assigning values to variables and then using the variables in your calculations\n",
    "    - Don’t worry if you make a mistake. Fix the mistake, execute the cell again, and keep going\n",
    "    - Enter and execute the necessary command(s) for each problem in the provided code cell(s) below the problem statement.\n",
    "    - The expected results (with fewer decimal places than you should get) are given next to each problem number\n",
    "    - **Important:** Do not type answers from one calculation into another. Use variables instead.\n",
    "4. Finish the assignment by executing the date stamp cell at the end of the document and submitting your saved `.ipynb` file to *Canvas*"
   ]
  },
  {
   "cell_type": "markdown",
   "metadata": {
    "deletable": false,
    "editable": false,
    "run_control": {
     "frozen": true
    }
   },
   "source": [
    ">**Do this first!** \n",
    ">\n",
    "> Execute the following cell first in order to be able to use `math` module functions. If you close and then re-open this document, you will need to re-execute the cell again in order for the `math` module functions to be available."
   ]
  },
  {
   "cell_type": "code",
   "execution_count": null,
   "metadata": {},
   "outputs": [],
   "source": [
    "import math     # Execute this cell first in order to use math module functions"
   ]
  },
  {
   "cell_type": "markdown",
   "metadata": {
    "deletable": false,
    "editable": false,
    "run_control": {
     "frozen": true
    }
   },
   "source": [
    "**Exercise 1**, answer = `128.97`\n",
    "\n",
    "$\\qquad{\\displaystyle t=3.2\\\\[0.1cm] \\displaystyle56t-9.81\\frac{t^2}{2}}$"
   ]
  },
  {
   "cell_type": "code",
   "execution_count": null,
   "metadata": {},
   "outputs": [],
   "source": []
  },
  {
   "cell_type": "markdown",
   "metadata": {
    "deletable": false,
    "editable": false,
    "run_control": {
     "frozen": true
    }
   },
   "source": [
    "**Exercise 2**, answer = `9.6685`\n",
    "\n",
    "Note: You do not need to re-assign a value to `t` again. Aariable assignments are remembered from one cell to the next in the same sessions.\n",
    " \n",
    "$\\qquad\\displaystyle 14e^{-0.1t}\\sin(2\\pi t)$"
   ]
  },
  {
   "cell_type": "code",
   "execution_count": null,
   "metadata": {},
   "outputs": [],
   "source": []
  },
  {
   "cell_type": "markdown",
   "metadata": {
    "deletable": false,
    "editable": false,
    "run_control": {
     "frozen": true
    }
   },
   "source": [
    "**Exercise 3**, answer = `18.669`\n",
    "\n",
    "$\\qquad{\\displaystyle x=5.1 \\qquad y = 4.2 \\\\[0.25cm] \\displaystyle\\frac{3}{4}xy - \\frac{7x}{y^2} + \\sqrt{xy}}$"
   ]
  },
  {
   "cell_type": "code",
   "execution_count": null,
   "metadata": {},
   "outputs": [],
   "source": []
  },
  {
   "cell_type": "markdown",
   "metadata": {
    "deletable": false,
    "editable": false,
    "run_control": {
     "frozen": true
    }
   },
   "source": [
    "**Exercise 4**, answer = `448.58`\n",
    "\n",
    "$\\qquad\\displaystyle (xy)^2 - \\frac{x+y}{(x-y)^2} + \\sqrt{\\frac{x+y}{2x-y}}$"
   ]
  },
  {
   "cell_type": "code",
   "execution_count": null,
   "metadata": {},
   "outputs": [],
   "source": []
  },
  {
   "cell_type": "markdown",
   "metadata": {
    "deletable": false,
    "editable": false,
    "run_control": {
     "frozen": true
    }
   },
   "source": [
    "**Exercise 5**, answer = `-0.14587`\n",
    "\n",
    "$\\qquad{\\displaystyle a=12 \\qquad b=5.6 \\\\[0.25cm]\n",
    "\\displaystyle c=\\frac{3a}{b^2}\\\\[0.5cm]\n",
    "\\displaystyle d=\\frac{(a-b)^c}{c} \\\\[0.5cm] \\displaystyle\\frac{a}{b} + \\frac{d-c}{d+c}-(d-b)^2 }$"
   ]
  },
  {
   "cell_type": "code",
   "execution_count": null,
   "metadata": {},
   "outputs": [],
   "source": []
  },
  {
   "cell_type": "markdown",
   "metadata": {
    "deletable": false,
    "editable": false,
    "run_control": {
     "frozen": true
    }
   },
   "source": [
    "**Exercise 6**, answer = `2292.5`\n",
    "\n",
    "$\\qquad\\displaystyle {\\large e}^{\\Large{\\left(\\frac{d-c}{a-2b}\\right)}} + \\ln\\left( \\left| c - d + \\frac{b}{a} \\right| \\right)$"
   ]
  },
  {
   "cell_type": "code",
   "execution_count": null,
   "metadata": {},
   "outputs": [],
   "source": []
  },
  {
   "cell_type": "markdown",
   "metadata": {
    "deletable": false,
    "editable": false,
    "run_control": {
     "frozen": true
    }
   },
   "source": [
    "**Exercise 7**, answer = `0.96593` for both sides\n",
    "\n",
    "Verify the following trigonometric identity by calculating the values of the left and right sides of the equation separataely using $x={\\pi}/{12}$\n",
    " \n",
    "$\\qquad\\displaystyle \\sin{(5x)}= 5\\sin{x} - 20\\sin^3{x} + 16\\sin^5{x} $"
   ]
  },
  {
   "cell_type": "code",
   "execution_count": null,
   "metadata": {},
   "outputs": [],
   "source": [
    "# left side"
   ]
  },
  {
   "cell_type": "code",
   "execution_count": null,
   "metadata": {},
   "outputs": [],
   "source": [
    "# right side"
   ]
  },
  {
   "cell_type": "markdown",
   "metadata": {},
   "source": [
    "**Exercise 8**, answer = `0.062500` for both sides\n",
    "\n",
    "Verify the following trigonometric identity by calculating the values of the left and right sides of the equation separately using $x={\\pi}/{12}$\n",
    " \n",
    "$\\qquad\\displaystyle \\sin^2{x}\\cos^2{x}= \\frac{1-\\cos{(4x)}}{8} $"
   ]
  },
  {
   "cell_type": "code",
   "execution_count": null,
   "metadata": {},
   "outputs": [],
   "source": [
    "# left side"
   ]
  },
  {
   "cell_type": "code",
   "execution_count": null,
   "metadata": {},
   "outputs": [],
   "source": [
    "# right side"
   ]
  },
  {
   "cell_type": "markdown",
   "metadata": {
    "deletable": false,
    "editable": false,
    "run_control": {
     "frozen": true
    }
   },
   "source": [
    "**Exercise 9**, answer = `3.0777` for both sides\n",
    "\n",
    "Verify the following trigonometric identity by calculating the values of the left and right sides of the equation separately using $x=24^{\\circ}$\n",
    " \n",
    "$\\qquad\\displaystyle \\tan(3x)= \\frac{3\\tan{x}-\\tan^3{x}}{1-3\\tan^2{x}} $"
   ]
  },
  {
   "cell_type": "code",
   "execution_count": null,
   "metadata": {},
   "outputs": [],
   "source": [
    "# left side"
   ]
  },
  {
   "cell_type": "code",
   "execution_count": null,
   "metadata": {},
   "outputs": [],
   "source": [
    "# right side"
   ]
  },
  {
   "cell_type": "markdown",
   "metadata": {
    "deletable": false,
    "editable": false,
    "run_control": {
     "frozen": true
    }
   },
   "source": [
    "**Exercise 10**, answer = `-0.10453` for both sides\n",
    "\n",
    "Verify the following trigonometric identity by calculating the values of the left and right sides of the equation separately using $x=24^{\\circ}$\n",
    " \n",
    "$\\qquad\\displaystyle \\cos{(4x)}= 8(\\cos^4{x} - \\cos^2{x}) + 1 $"
   ]
  },
  {
   "cell_type": "code",
   "execution_count": null,
   "metadata": {},
   "outputs": [],
   "source": [
    "# left side"
   ]
  },
  {
   "cell_type": "code",
   "execution_count": null,
   "metadata": {},
   "outputs": [],
   "source": [
    "# right side"
   ]
  },
  {
   "cell_type": "markdown",
   "metadata": {
    "deletable": false,
    "editable": false,
    "run_control": {
     "frozen": true
    }
   },
   "source": [
    "**Exercise 11**, answer = `1.4239` for both sides\n",
    "\n",
    "Define two variables: `alpha`$ = \\pi / 6$ and `beta` $ =3\\pi / 8$. Using these variables, show that the following trigonometric identity is correct by calculating the values of the left and right sides of the equation separately.\n",
    " \n",
    "$\\qquad\\displaystyle \\sin{\\alpha}+\\sin{\\beta} = 2\\sin\\left( \\frac{\\alpha + \\beta}{2} \\right)\\cos\\left( \\frac{\\alpha - \\beta}{2} \\right)$"
   ]
  },
  {
   "cell_type": "code",
   "execution_count": null,
   "metadata": {},
   "outputs": [],
   "source": [
    "# left side"
   ]
  },
  {
   "cell_type": "code",
   "execution_count": null,
   "metadata": {},
   "outputs": [],
   "source": [
    "# right side"
   ]
  },
  {
   "cell_type": "markdown",
   "metadata": {
    "deletable": false,
    "editable": false,
    "run_control": {
     "frozen": true
    }
   },
   "source": [
    "**Exercise 12**, answer = `8.1072`\n",
    "\n",
    "Given the following integral:\n",
    " \n",
    "$\\qquad\\displaystyle \\int{x\\sin{ax}\\,dx} = \\frac{\\sin{ax}}{a^2}-\\frac{x\\cos{ax}}{a}$\n",
    "\n",
    "Use *Python's* elementary arithmetic and math functions to calculate the result of the following definite integral. \n",
    " \n",
    "$\\qquad\\displaystyle \\int^{\\Large{\\frac{3\\pi}{2}}}_{\\Large{\\frac{\\pi}{3}}}{x\\sin(0.6x)\\,dx}$\n",
    "\n",
    "**Note:** you already have the solution to the indefinte integral above, so you do not need to integrate anything. Simply apply calculus principles to find the result of the definite integral."
   ]
  },
  {
   "cell_type": "code",
   "execution_count": null,
   "metadata": {},
   "outputs": [],
   "source": []
  },
  {
   "cell_type": "markdown",
   "metadata": {
    "deletable": false,
    "editable": false,
    "run_control": {
     "frozen": true
    }
   },
   "source": [
    ">**Wrap it up**\n",
    ">\n",
    ">Execute the time stamp code cell below to show the time and date you finished and tested this script.\n",
    ">\n",
    ">Click on the **Save** button and then **Close and halt** from the **File** menu when you are done. **Submit this notebook to *Canvas* before the due date/time to receive credit.**"
   ]
  },
  {
   "cell_type": "code",
   "execution_count": null,
   "metadata": {
    "deletable": false,
    "editable": false
   },
   "outputs": [],
   "source": [
    "from datetime import datetime\n",
    "from pytz import timezone\n",
    "print(datetime.now(timezone(\"US/Eastern\")))"
   ]
  }
 ],
 "metadata": {
  "kernel_info": {
   "name": "python3"
  },
  "kernelspec": {
   "display_name": "Python 3",
   "language": "python",
   "name": "python3"
  },
  "language_info": {
   "codemirror_mode": {
    "name": "ipython",
    "version": 3
   },
   "file_extension": ".py",
   "mimetype": "text/x-python",
   "name": "python",
   "nbconvert_exporter": "python",
   "pygments_lexer": "ipython3",
   "version": "3.7.4"
  },
  "nteract": {
   "version": "0.15.0"
  },
  "varInspector": {
   "cols": {
    "lenName": 16,
    "lenType": 16,
    "lenVar": 40
   },
   "kernels_config": {
    "python": {
     "delete_cmd_postfix": "",
     "delete_cmd_prefix": "del ",
     "library": "var_list.py",
     "varRefreshCmd": "print(var_dic_list())"
    },
    "r": {
     "delete_cmd_postfix": ") ",
     "delete_cmd_prefix": "rm(",
     "library": "var_list.r",
     "varRefreshCmd": "cat(var_dic_list()) "
    }
   },
   "types_to_exclude": [
    "module",
    "function",
    "builtin_function_or_method",
    "instance",
    "_Feature"
   ],
   "window_display": false
  }
 },
 "nbformat": 4,
 "nbformat_minor": 1
}
