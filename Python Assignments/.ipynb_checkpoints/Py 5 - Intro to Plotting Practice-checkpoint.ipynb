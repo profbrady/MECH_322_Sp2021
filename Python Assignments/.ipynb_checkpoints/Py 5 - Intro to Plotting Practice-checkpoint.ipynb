{
 "cells": [
  {
   "cell_type": "markdown",
   "metadata": {
    "deletable": false,
    "editable": false,
    "run_control": {
     "frozen": true
    }
   },
   "source": [
    "# Py 5 - Intro to Plotting Practice\n",
    "___"
   ]
  },
  {
   "cell_type": "code",
   "execution_count": null,
   "metadata": {},
   "outputs": [],
   "source": [
    "name = \"Your name here\"\n",
    "print(\"Name:\", name.upper())"
   ]
  },
  {
   "cell_type": "markdown",
   "metadata": {
    "deletable": false,
    "editable": false,
    "run_control": {
     "frozen": true
    }
   },
   "source": [
    "## Defining functions and using them in list comprehensions\n",
    "\n",
    "1. Define a function that returns a calculated value\n",
    "2. Create a list of $x $-values\n",
    "3. Create a list of $y $-values with a list comprehension that calls the function"
   ]
  },
  {
   "cell_type": "markdown",
   "metadata": {
    "deletable": false,
    "editable": false
   },
   "source": [
    "<div class=exercise>\n",
    "    \n",
    "Execute the following four code cells to create a function, a list of $x $-values, and a list of $y $-values using the $x $-values and the function that was defined.\n",
    "</div>"
   ]
  },
  {
   "cell_type": "code",
   "execution_count": null,
   "metadata": {},
   "outputs": [],
   "source": [
    "# Step 1: Function\n",
    "def f(x):\n",
    "    return x**2 - 2*x + 5"
   ]
  },
  {
   "cell_type": "code",
   "execution_count": null,
   "metadata": {},
   "outputs": [],
   "source": [
    "# Step 2: x-values\n",
    "x = range(11)"
   ]
  },
  {
   "cell_type": "code",
   "execution_count": null,
   "metadata": {},
   "outputs": [],
   "source": [
    "# Step 3: y-values\n",
    "y = [f(x) for x in x]"
   ]
  },
  {
   "cell_type": "code",
   "execution_count": null,
   "metadata": {},
   "outputs": [],
   "source": [
    "# Check the results\n",
    "print(x)\n",
    "print(y)"
   ]
  },
  {
   "cell_type": "markdown",
   "metadata": {
    "deletable": false,
    "editable": false
   },
   "source": [
    "## Exercises"
   ]
  },
  {
   "cell_type": "markdown",
   "metadata": {
    "deletable": false,
    "editable": false,
    "run_control": {
     "frozen": true
    }
   },
   "source": [
    "**Exercise 1**\n",
    "\n",
    "Plot the function $\\displaystyle f(x) = \\frac{x^2 -3x +7}{\\sqrt{2x+5}}\\,\\,$ for $-1\\leq x \\leq 5$\n",
    "\n",
    "Use 100 values. It might be a good idea to use the `frange()` function that we previously created together in class."
   ]
  },
  {
   "cell_type": "code",
   "execution_count": null,
   "metadata": {},
   "outputs": [],
   "source": []
  },
  {
   "cell_type": "markdown",
   "metadata": {
    "deletable": false,
    "editable": false,
    "run_control": {
     "frozen": true
    }
   },
   "source": [
    "**Exercise 2**\n",
    "\n",
    "Plot the function $\\displaystyle f(x) = (\\sin{2x} + \\cos^2{5x})e^{-0.2x} \\,\\,$ for $-6\\leq x \\leq 6$\n",
    "\n",
    "Use 100 values."
   ]
  },
  {
   "cell_type": "code",
   "execution_count": null,
   "metadata": {},
   "outputs": [],
   "source": []
  },
  {
   "cell_type": "markdown",
   "metadata": {
    "deletable": false,
    "editable": false,
    "run_control": {
     "frozen": true
    }
   },
   "source": [
    "**Exercise 3**\n",
    "\n",
    "A parametric equation is given by:\n",
    "\n",
    "$\\displaystyle x = \\sin(t)\\cos(t) \\, , \\,\\,\\, y = 1.5\\cos(t)$\n",
    "\n",
    "Plot the function for the range $-\\pi \\leq t \\leq \\pi$. Use $100$ values for $t$ and then use $t$ to calculate $x$ and $y$. Format the plot such that both axes have a range of $-2$ to $2$."
   ]
  },
  {
   "cell_type": "code",
   "execution_count": null,
   "metadata": {},
   "outputs": [],
   "source": []
  },
  {
   "cell_type": "markdown",
   "metadata": {
    "deletable": false,
    "editable": false,
    "run_control": {
     "frozen": true
    }
   },
   "source": [
    "**Exercise 4**\n",
    "\n",
    "Plot the function $\\displaystyle f(x) = \\frac{x^2 - 5x - 12}{x^2 - x - 6}$ in the domain $-1 \\leq x \\leq 7$.\n",
    "\n",
    "Notice that the function has a vertical asymptote at $x=3$. Plot the function by creating two lists for the domain of $x$. One list `x1` has a range from $-1$ to $2.9$ and the second list `x2` has a range from $3.1$ to $7$. Use 50 values for each range. Calculate the $y $ value lists `y1` and `y2` using `x1` and `x2`. Format the plot such that the $y$-axis has a range from $-20$ to $20$."
   ]
  },
  {
   "cell_type": "code",
   "execution_count": null,
   "metadata": {},
   "outputs": [],
   "source": []
  },
  {
   "cell_type": "markdown",
   "metadata": {
    "deletable": false,
    "editable": false,
    "run_control": {
     "frozen": true
    }
   },
   "source": [
    "**Exercise 5**\n",
    "\n",
    "An epicycloid is a curve obtained by tracing a point on a circle that rolls around a fixed circle. The parametric equation of a cycloid is given by:\n",
    "\n",
    "$\\displaystyle x = 13\\cos(t) - 2\\cos(6.5t)\\\\\n",
    " y = 13\\sin(t) - 2\\sin(6.5t)$\n",
    "\n",
    "\n",
    "Plot the cycloid for a domain of $0 \\leq t \\leq 4\\pi$ using $400$ values for $t$.\n",
    "\n",
    "Use the `.axis('equal')` method on your axes object to make the two axes equal in size."
   ]
  },
  {
   "cell_type": "code",
   "execution_count": null,
   "metadata": {},
   "outputs": [],
   "source": []
  },
  {
   "cell_type": "markdown",
   "metadata": {
    "deletable": false,
    "editable": false,
    "run_control": {
     "frozen": true
    }
   },
   "source": [
    "**Exercise 6**\n",
    "\n",
    "Make a polar plot of the function $r = 2\\sin(3\\theta)\\sin\\theta$ for $0 \\leq \\theta \\leq 2\\pi$. Use $200$ values for $\\theta$."
   ]
  },
  {
   "cell_type": "code",
   "execution_count": null,
   "metadata": {},
   "outputs": [],
   "source": []
  },
  {
   "cell_type": "markdown",
   "metadata": {
    "deletable": false,
    "editable": false,
    "run_control": {
     "frozen": true
    }
   },
   "source": [
    "**Exercise 7**\n",
    "\n",
    "The resonant frequency $f$ (in Hz) for a particular circuit is given by:\n",
    "\n",
    "$\\displaystyle f = \\frac{1}{2\\pi}\\sqrt{LC\\frac{R_1^2C-L}{R_2^2C-L}}$\n",
    "\n",
    "Given $L=0.2\\text{ H}$, $C=2\\times10^{-6}\\text{ F}$, make the following plots:\n",
    "- $f$ versus $R_2$ for $500 \\leq R_2 \\leq 2000\\, \\Omega$, given $R_1 = 1500\\,\\Omega$\n",
    "- $f$ versus $R_1$ for $500 \\leq R_1 \\leq 2000\\, \\Omega$, given $R_2 = 1500\\,\\Omega$\n",
    "\n",
    "Plot both plots on the same page (subplots) where the plots are vertically stacked. Include a axes labels for both subplots; $x $-axes \"Resistance in Ohms\" and $y $-axes \"Frequency in Hz\". Set the color for the top plot to blue and the bottom plot to red and use a line width of 3 for both subplots. Turn on grids for both. Include a title above the top plot that says \"Resonant Frequency of a Circuit.\"\n",
    "\n",
    "Include the command `plt.tight_layout()` just before `plt.show()` to make the spacing between subplots look more presentable."
   ]
  },
  {
   "cell_type": "code",
   "execution_count": null,
   "metadata": {},
   "outputs": [],
   "source": []
  },
  {
   "cell_type": "markdown",
   "metadata": {
    "deletable": false,
    "editable": false,
    "run_control": {
     "frozen": true
    }
   },
   "source": [
    ">**Wrap it up**\n",
    ">\n",
    ">Execute the time stamp code cell below to show the time and date you finished and tested this script.\n",
    ">\n",
    ">Click on the **Save** button and then the **Close and halt** button when you are done. **Submit this notebook to *Canvas* before the due date/time to receive credit.**"
   ]
  },
  {
   "cell_type": "code",
   "execution_count": null,
   "metadata": {
    "deletable": false,
    "editable": false
   },
   "outputs": [],
   "source": [
    "from datetime import datetime\n",
    "from pytz import timezone\n",
    "print(datetime.now(timezone('US/Eastern')))"
   ]
  }
 ],
 "metadata": {
  "kernelspec": {
   "display_name": "Python 3",
   "language": "python",
   "name": "python3"
  },
  "language_info": {
   "codemirror_mode": {
    "name": "ipython",
    "version": 3
   },
   "file_extension": ".py",
   "mimetype": "text/x-python",
   "name": "python",
   "nbconvert_exporter": "python",
   "pygments_lexer": "ipython3",
   "version": "3.7.4"
  },
  "varInspector": {
   "cols": {
    "lenName": 16,
    "lenType": 16,
    "lenVar": 40
   },
   "kernels_config": {
    "python": {
     "delete_cmd_postfix": "",
     "delete_cmd_prefix": "del ",
     "library": "var_list.py",
     "varRefreshCmd": "print(var_dic_list())"
    },
    "r": {
     "delete_cmd_postfix": ") ",
     "delete_cmd_prefix": "rm(",
     "library": "var_list.r",
     "varRefreshCmd": "cat(var_dic_list()) "
    }
   },
   "types_to_exclude": [
    "module",
    "function",
    "builtin_function_or_method",
    "instance",
    "_Feature"
   ],
   "window_display": false
  }
 },
 "nbformat": 4,
 "nbformat_minor": 1
}
