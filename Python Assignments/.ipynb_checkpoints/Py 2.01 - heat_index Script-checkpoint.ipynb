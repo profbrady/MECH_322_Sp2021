{
 "cells": [
  {
   "cell_type": "markdown",
   "metadata": {
    "deletable": false,
    "editable": false,
    "run_control": {
     "frozen": true
    }
   },
   "source": [
    "# Py 2.01 - `heat_index` Script\n",
    "___"
   ]
  },
  {
   "cell_type": "code",
   "execution_count": null,
   "metadata": {},
   "outputs": [],
   "source": [
    "name = \"Your name here\"\n",
    "print(\"Name:\", name.upper())"
   ]
  },
  {
   "cell_type": "markdown",
   "metadata": {
    "deletable": false,
    "editable": false,
    "run_control": {
     "frozen": true
    }
   },
   "source": [
    "The heat index $HI$ is calculated from the air temperature and relative humidity. You hear this term a lot on weather forecasts for hot summer days. The equation used by the National Weather Service to calculate $HI$ is:\n",
    "\n",
    "$\\qquad{\\displaystyle HI = -42.379 + 2.04901523\\,T + 10.14333127\\,R - 0.22475541\\,T\\,R - 6.83783\\times10^{-3}\\,T^2\\\\ - 5.481717\\times10^{-2}\\,R^2\n",
    "+ 1.22874\\times10^{-3}\\,T^2\\,R + 8.5282\\times10^{-4}\\,T\\,R^2 - 1.99\\times10^{-6}\\,T^2\\,R^2 }$\n",
    "\n",
    "where $T$ is the air temperature in $^{\\circ}\\text{F}$ and $R$ is the relative humidity value without the percent symbol, (i.e. $89\\%$ is $89$).\n",
    "\n",
    "Write a script named **`heat_index.py`** that calculates $HI$. Ask the user for the temperature in degrees F and the relative humidity expressed without the percent symbol. Please ask for the temperature first and humidity second. Create a message that says **The Heat Index is: XX.X** ,where **XX.X** is the calculated $HI$ displayed with one decimal place. Use either an \"*f-string*\" or the `.format()` string method when printing your result statement.\n",
    "\n",
    "Test the script below using a temperature of $90^{\\circ}\\text{F}$ and humidity of $90\\%$ (resulting in a heat index of 121.9)."
   ]
  },
  {
   "cell_type": "code",
   "execution_count": null,
   "metadata": {},
   "outputs": [],
   "source": []
  },
  {
   "cell_type": "markdown",
   "metadata": {
    "deletable": false,
    "editable": false,
    "run_control": {
     "frozen": true
    }
   },
   "source": [
    ">**Wrap it up**\n",
    ">\n",
    ">Execute the time stamp code cell below to show the time and date you finished and tested this script.\n",
    ">\n",
    ">Click on the **Save** button and then the **Close and halt** button when you are done. **Submit this notebook and your script file to *Canvas* before the due date/time to receive credit.**"
   ]
  },
  {
   "cell_type": "code",
   "execution_count": null,
   "metadata": {
    "deletable": false,
    "editable": false
   },
   "outputs": [],
   "source": [
    "from datetime import datetime\n",
    "from pytz import timezone\n",
    "print(datetime.now(timezone('US/Eastern')))"
   ]
  }
 ],
 "metadata": {
  "kernelspec": {
   "display_name": "Python 3",
   "language": "python",
   "name": "python3"
  },
  "language_info": {
   "codemirror_mode": {
    "name": "ipython",
    "version": 3
   },
   "file_extension": ".py",
   "mimetype": "text/x-python",
   "name": "python",
   "nbconvert_exporter": "python",
   "pygments_lexer": "ipython3",
   "version": "3.7.5"
  },
  "varInspector": {
   "cols": {
    "lenName": 16,
    "lenType": 16,
    "lenVar": 40
   },
   "kernels_config": {
    "python": {
     "delete_cmd_postfix": "",
     "delete_cmd_prefix": "del ",
     "library": "var_list.py",
     "varRefreshCmd": "print(var_dic_list())"
    },
    "r": {
     "delete_cmd_postfix": ") ",
     "delete_cmd_prefix": "rm(",
     "library": "var_list.r",
     "varRefreshCmd": "cat(var_dic_list()) "
    }
   },
   "types_to_exclude": [
    "module",
    "function",
    "builtin_function_or_method",
    "instance",
    "_Feature"
   ],
   "window_display": false
  }
 },
 "nbformat": 4,
 "nbformat_minor": 1
}
