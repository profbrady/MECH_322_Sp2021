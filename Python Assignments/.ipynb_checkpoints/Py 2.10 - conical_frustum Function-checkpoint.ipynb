{
 "cells": [
  {
   "cell_type": "markdown",
   "metadata": {
    "deletable": false,
    "editable": false,
    "run_control": {
     "frozen": true
    }
   },
   "source": [
    "# Py 2.10 - `conical_frustum` Function\n",
    "___"
   ]
  },
  {
   "cell_type": "code",
   "execution_count": null,
   "metadata": {},
   "outputs": [],
   "source": [
    "name = \"Your name here\"\n",
    "print(\"Name:\", name.upper())"
   ]
  },
  {
   "cell_type": "markdown",
   "metadata": {
    "deletable": false,
    "editable": false,
    "run_control": {
     "frozen": true
    }
   },
   "source": [
    "A conical frustum is a truncated cone. The volume $V$ and surface area $SA$ of a conical frustum are:\n",
    "\n",
    "$\\qquad\\displaystyle V={\\frac {\\pi h}{3}}\\left(r_{1}^{2}+r_{1}r_{2}+r_{2}^{2}\\right)$\n",
    "\n",
    "$\\qquad\\displaystyle SA = \\pi\\left[(r_1 + r_2) \\sqrt{(r_2-r_1)^2 + h^2} + r_1^2 + r_2^2 \\right] $\n",
    "\n",
    "where $h$ is the height, $r_1$ is the radius of one circular end, and $r_2$ is the radius of the other circular end.\n",
    "\n",
    "Create a *Python* file named **`py210.py`** and in it define a function named **`conical_frustum(r1, r2, height)`** that calculates the volume and surface area of a conical fustrum. It should accept three arguments **`(r1, r2, height)`** and return **`V`** and **`SA`** (in that order). Include a docstring in your function.\n",
    "\n",
    "Test your function with the following dimensions:\n",
    "- $r_1 = 10\\,\\text{in}$, $r_2 = 14\\,\\text{in}$, and $h = 8.5\\,\\text{in}$\n",
    "- $r_1 = 6.2\\,\\text{in}$, $r_2 = 8.4\\,\\text{in}$, and $h = 12\\,\\text{in}$\n",
    "\n",
    "The result for the first frustum should be close to $(3880.95, 1638.2)$"
   ]
  },
  {
   "cell_type": "markdown",
   "metadata": {
    "deletable": false,
    "editable": false,
    "run_control": {
     "frozen": true
    }
   },
   "source": [
    "#### Import your function definition in the first code cell using `from py210 import conical_frustum` and test it in the remaining code cells by calling the function."
   ]
  },
  {
   "cell_type": "code",
   "execution_count": null,
   "metadata": {},
   "outputs": [],
   "source": []
  },
  {
   "cell_type": "code",
   "execution_count": null,
   "metadata": {},
   "outputs": [],
   "source": []
  },
  {
   "cell_type": "code",
   "execution_count": null,
   "metadata": {},
   "outputs": [],
   "source": []
  },
  {
   "cell_type": "markdown",
   "metadata": {
    "deletable": false,
    "editable": false,
    "run_control": {
     "frozen": true
    }
   },
   "source": [
    ">**Wrap it up**\n",
    ">\n",
    ">Execute the time stamp code cell below to show the time and date you finished and tested this script.\n",
    ">\n",
    ">Click on the **Save** button and then the **Close and halt** button when you are done. **Submit this notebook and the file containing your function to *Canvas* before the due date/time to receive credit.**"
   ]
  },
  {
   "cell_type": "code",
   "execution_count": null,
   "metadata": {
    "deletable": false,
    "editable": false
   },
   "outputs": [],
   "source": [
    "from datetime import datetime\n",
    "from pytz import timezone\n",
    "print(datetime.now(timezone('US/Eastern')))"
   ]
  }
 ],
 "metadata": {
  "kernelspec": {
   "display_name": "Python 3",
   "language": "python",
   "name": "python3"
  },
  "language_info": {
   "codemirror_mode": {
    "name": "ipython",
    "version": 3
   },
   "file_extension": ".py",
   "mimetype": "text/x-python",
   "name": "python",
   "nbconvert_exporter": "python",
   "pygments_lexer": "ipython3",
   "version": "3.7.5"
  },
  "varInspector": {
   "cols": {
    "lenName": 16,
    "lenType": 16,
    "lenVar": 40
   },
   "kernels_config": {
    "python": {
     "delete_cmd_postfix": "",
     "delete_cmd_prefix": "del ",
     "library": "var_list.py",
     "varRefreshCmd": "print(var_dic_list())"
    },
    "r": {
     "delete_cmd_postfix": ") ",
     "delete_cmd_prefix": "rm(",
     "library": "var_list.r",
     "varRefreshCmd": "cat(var_dic_list()) "
    }
   },
   "types_to_exclude": [
    "module",
    "function",
    "builtin_function_or_method",
    "instance",
    "_Feature"
   ],
   "window_display": false
  }
 },
 "nbformat": 4,
 "nbformat_minor": 1
}
