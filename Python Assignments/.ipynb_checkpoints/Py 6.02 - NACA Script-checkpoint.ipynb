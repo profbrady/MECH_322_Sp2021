{
 "cells": [
  {
   "cell_type": "markdown",
   "metadata": {
    "deletable": false,
    "editable": false,
    "run_control": {
     "frozen": true
    }
   },
   "source": [
    "# Py 6.02 - `NACA` Script\n",
    "___"
   ]
  },
  {
   "cell_type": "code",
   "execution_count": null,
   "metadata": {},
   "outputs": [],
   "source": [
    "name = \"Your name here\"\n",
    "print(\"Name:\", name.upper())"
   ]
  },
  {
   "cell_type": "markdown",
   "metadata": {
    "deletable": false,
    "editable": false,
    "run_control": {
     "frozen": true
    }
   },
   "source": [
    "## General Script Instructions\n",
    "\n",
    "- Include comments in your script with your name and the script purpose (not just the name of the script)\n",
    "- Include nicely formatted title lines in your script that display the script name and your name before asking for any input or showing any results\n",
    "- Provide the requested results in addition to any required plot(s)\n",
    "- You must use variables (not numbers) in your calculations where variables are provided in the problem statement\n",
    "- Your script must be self-contained, meaning you need to import all external modules and define all functions needed within the script"
   ]
  },
  {
   "cell_type": "markdown",
   "metadata": {
    "deletable": false,
    "editable": false,
    "run_control": {
     "frozen": true
    }
   },
   "source": [
    "## `NACA.py`\n",
    "\n",
    "The shape of a symmetrical four-digit NACA airfoil is described by the equation\n",
    "\n",
    "$\\displaystyle y = \\pm \\frac{tc}{0.2}\\left[0.2969\\sqrt{\\frac{x}{c}} - 0.1260\\frac{x}{c} - 0.3516\\left(\\frac{x}{c} \\right)^2 + 0.2843\\left(\\frac{x}{c} \\right)^3 - 0.1015\\left(\\frac{x}{c} \\right)^4 \\right]$\n",
    "\n",
    "where $c$ is the chord length and $t$ is the maximum thickness as a fraction of the chord length ($t\\cdot c$ = maximum thickness). Symmetrical four-digit NACA airfoils are designated $\\text{NACA }00\\text{XX}$, where $\\text{XX}$ is $100\\cdot t$. For example, $\\text{NACA }00\\text{12}$ has $t=0.12$ meters.\n",
    "\n",
    "Prompt the user for the NACA number and chord length $c$ in meters. Use $\\text{NACA }0020$ and a chord length of $1.5\\text{ m}$ to test your script.\n",
    "\n",
    "**Plot details**\n",
    "- Use enough data points for a smooth curve\n",
    "- Solid green line\n",
    "- Line width of 3\n",
    "- Title that includes the NACA number from the user input\n",
    "- Axes labels with units\n",
    "- Use the `.axis('equal')` method on your axes object so the $x$ and $y$ scales match"
   ]
  },
  {
   "cell_type": "code",
   "execution_count": null,
   "metadata": {},
   "outputs": [],
   "source": [
    "# execute/test your script here"
   ]
  },
  {
   "cell_type": "markdown",
   "metadata": {
    "deletable": false,
    "editable": false,
    "run_control": {
     "frozen": true
    }
   },
   "source": [
    ">**Wrap it up**\n",
    ">\n",
    ">Execute the time stamp code cell below to show the time and date you finished and tested this script.\n",
    ">\n",
    ">Click on the **Save** button and then the **Close and halt** button when you are done. **Submit this notebook and your script file to *Canvas* before the due date/time to receive credit.**"
   ]
  },
  {
   "cell_type": "code",
   "execution_count": null,
   "metadata": {
    "deletable": false,
    "editable": false
   },
   "outputs": [],
   "source": [
    "from datetime import datetime\n",
    "from pytz import timezone\n",
    "print(datetime.now(timezone('US/Eastern')))"
   ]
  },
  {
   "cell_type": "markdown",
   "metadata": {
    "deletable": false,
    "editable": false,
    "run_control": {
     "frozen": true
    }
   },
   "source": [
    "## Functions for Lists of Floats with Step Size or Number of Values\n",
    "\n",
    "The `range()` function only works with integer values for the starting, ending, and step size values. When plotting or creating a list of calculated values, we often desire a list with a particular non-integer step size. The following function definition was created with that task in mind. Lists created by `step_range(start, stop, step)` will end at the closest full `step` at or before the `stop` value. This means that the `stop` value will be included in the list if `step` divides evenly into `stop - step`. The function rounds the results to 8-decimal places.\n",
    "\n",
    "Feel free to add the function definition near the top of your script if this funcionality is required."
   ]
  },
  {
   "cell_type": "code",
   "execution_count": null,
   "metadata": {},
   "outputs": [],
   "source": [
    "def step_range(start, stop, step):\n",
    "    \"\"\"Create a list of floats beginning with the 'start' value and having an\n",
    "    increment equal to the 'step' value and ending at the last full increment\n",
    "    before (or including) the 'stop' value.\n",
    "    \"\"\"\n",
    "    n = int((stop - start)/step + 1)\n",
    "    stop = (n-1)*step + start\n",
    "    return [round((stop - start)*i/(n-1) + start, 8) for i in range(n)]"
   ]
  },
  {
   "cell_type": "markdown",
   "metadata": {
    "deletable": false,
    "editable": false,
    "run_control": {
     "frozen": true
    }
   },
   "source": [
    "Don't forget the `frange()` function we created together previously. Use it if you need to use a specific number of values instead of a particular step size. Copy the function definition into your script if this functionality is required."
   ]
  },
  {
   "cell_type": "code",
   "execution_count": null,
   "metadata": {},
   "outputs": [],
   "source": [
    "def frange(lower, upper, n=100):\n",
    "    \"\"\"Create a list of 'n' floats between 'lower' and 'upper' (inclusive)\"\"\"\n",
    "    return [(upper - lower)*i/(n-1) + lower for i in range(n)]"
   ]
  },
  {
   "cell_type": "markdown",
   "metadata": {
    "deletable": false,
    "editable": false,
    "run_control": {
     "frozen": true
    }
   },
   "source": [
    "## Special Function to Input a List of Floats\n",
    "\n",
    "Copy the following custom function definition into your script if you need users to enter a list of floats. Place the function near the top of the script. This function will allow a user to enter more than one numeric value separated by spaces (or any other separator) and convert the input to a list of floating point values. Remember that the `input()` function on its own returns a string.\n",
    "\n",
    "This function is defined with default prompt and separator strings. Either or both of these can be overwritten by including arguments for either or both in the function call. The following call utilizes the default prompt and expects spaces between input values.\n",
    "```\n",
    "my_list = input_list()\n",
    "```\n",
    "The following call uses a custom prompt that is included in the function call and expects the values to be separated by commas.\n",
    "```\n",
    "my_list = input_list(\"Enter a list of temperatures (degrees F): \", sep=\",\")\n",
    "```"
   ]
  },
  {
   "cell_type": "code",
   "execution_count": null,
   "metadata": {},
   "outputs": [],
   "source": [
    "def input_list(prompt=\"Input a list of numeric values separated by spaces: \", sep=\" \"):\n",
    "    \"\"\"Returns a list of floats. 'prompt' is a string. `sep` is the separator.\n",
    "    User input must be numeric values separated by spaces by default.\n",
    "    If the 'sep' keyword argument is used, a different separator my be specified.\n",
    "    i.e. sep=\",\" will use a comma as the separator instead of a space.\n",
    "    \"\"\"\n",
    "    return [float(x) for x in input(prompt).split(sep)]"
   ]
  }
 ],
 "metadata": {
  "kernelspec": {
   "display_name": "Python 3",
   "language": "python",
   "name": "python3"
  },
  "language_info": {
   "codemirror_mode": {
    "name": "ipython",
    "version": 3
   },
   "file_extension": ".py",
   "mimetype": "text/x-python",
   "name": "python",
   "nbconvert_exporter": "python",
   "pygments_lexer": "ipython3",
   "version": "3.7.4"
  },
  "latex_envs": {
   "bibliofile": "biblio.bib",
   "cite_by": "apalike",
   "current_citInitial": 1,
   "eqLabelWithNumbers": true,
   "eqNumInitial": 0
  },
  "toc": {
   "nav_menu": {
    "height": "334px",
    "width": "252px"
   },
   "navigate_menu": true,
   "number_sections": true,
   "sideBar": true,
   "threshold": 4,
   "toc_cell": false,
   "toc_section_display": "block",
   "toc_window_display": false
  },
  "varInspector": {
   "cols": {
    "lenName": 16,
    "lenType": 16,
    "lenVar": 40
   },
   "kernels_config": {
    "python": {
     "delete_cmd_postfix": "",
     "delete_cmd_prefix": "del ",
     "library": "var_list.py",
     "varRefreshCmd": "print(var_dic_list())"
    },
    "r": {
     "delete_cmd_postfix": ") ",
     "delete_cmd_prefix": "rm(",
     "library": "var_list.r",
     "varRefreshCmd": "cat(var_dic_list()) "
    }
   },
   "types_to_exclude": [
    "module",
    "function",
    "builtin_function_or_method",
    "instance",
    "_Feature"
   ],
   "window_display": false
  }
 },
 "nbformat": 4,
 "nbformat_minor": 1
}
