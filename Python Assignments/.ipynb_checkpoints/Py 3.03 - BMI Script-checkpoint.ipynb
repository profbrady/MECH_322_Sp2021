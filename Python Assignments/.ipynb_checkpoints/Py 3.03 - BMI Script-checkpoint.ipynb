{
 "cells": [
  {
   "cell_type": "markdown",
   "metadata": {
    "deletable": false,
    "editable": false,
    "run_control": {
     "frozen": true
    }
   },
   "source": [
    "# Py 3.03 - `BMI` Script\n",
    "___"
   ]
  },
  {
   "cell_type": "code",
   "execution_count": null,
   "metadata": {},
   "outputs": [],
   "source": [
    "name = \"Your name here\"\n",
    "print(\"Name:\", name.upper())"
   ]
  },
  {
   "cell_type": "markdown",
   "metadata": {
    "deletable": false,
    "editable": false,
    "run_control": {
     "frozen": true
    }
   },
   "source": [
    "Body Mass Index (BMI) is an imperfect measure of obesity. In standard units, it is calculated by the formula:\n",
    "\n",
    "$\\qquad\\displaystyle BMI = 703\\frac{W}{H^2}$\n",
    "\n",
    "where $W$ is weight in pounds and $H$ is height in inches. The BMI classifications when **rounded to one-decimal place** are:\n",
    "\n",
    "| BMI    |  Classification|\n",
    "|:------:|:-----------:|\n",
    "| Below 18.5 | Underweight |\n",
    "|18.5 to 24.9 | Normal |\n",
    "|25 to 29.9 | Overweight |\n",
    "| 30 and above | Obese |\n",
    "\n",
    "Define a script called **`BMI.py`** that asks the user for their weight in pounds and their height in inches. The script should respond with a sentence that reads: **Your BMI value is XX.X, which classifies you as SSSS** where XX.X is the rounded BMI calculation and SSSS is the classification from the table.\n",
    "\n",
    "Test your script for the following cases:\n",
    "- A person 6 ft. 2 in. tall with a weight of 180 lb.\n",
    "- A person 5 ft. 1 in. tall with a weight of 150 lb."
   ]
  },
  {
   "cell_type": "code",
   "execution_count": null,
   "metadata": {},
   "outputs": [],
   "source": [
    "# Hints: Start with lower values of BMI.\n",
    "#        Use one 'if' statement, two 'elif' statements, and one 'else' statement.\n",
    "#        Assign the classification string to a variable for each case and use a single print statement at the end.\n",
    "#        Don't forget that 'else' statements do not have conditionals"
   ]
  },
  {
   "cell_type": "code",
   "execution_count": null,
   "metadata": {},
   "outputs": [],
   "source": []
  },
  {
   "cell_type": "code",
   "execution_count": null,
   "metadata": {},
   "outputs": [],
   "source": []
  },
  {
   "cell_type": "markdown",
   "metadata": {
    "deletable": false,
    "editable": false,
    "run_control": {
     "frozen": true
    }
   },
   "source": [
    ">**Wrap it up**\n",
    ">\n",
    ">Execute the time stamp code cell below to show the time and date you finished and tested this script.\n",
    ">\n",
    ">Click on the **Save** button and then the **Close and halt** button when you are done. **Submit this notebook and your script file to *Canvas* before the due date/time to receive credit.**"
   ]
  },
  {
   "cell_type": "code",
   "execution_count": null,
   "metadata": {
    "deletable": false,
    "editable": false
   },
   "outputs": [],
   "source": [
    "from datetime import datetime\n",
    "from pytz import timezone\n",
    "print(datetime.now(timezone('US/Eastern')))"
   ]
  }
 ],
 "metadata": {
  "kernelspec": {
   "display_name": "Python 3",
   "language": "python",
   "name": "python3"
  },
  "language_info": {
   "codemirror_mode": {
    "name": "ipython",
    "version": 3
   },
   "file_extension": ".py",
   "mimetype": "text/x-python",
   "name": "python",
   "nbconvert_exporter": "python",
   "pygments_lexer": "ipython3",
   "version": "3.7.5"
  },
  "varInspector": {
   "cols": {
    "lenName": 16,
    "lenType": 16,
    "lenVar": 40
   },
   "kernels_config": {
    "python": {
     "delete_cmd_postfix": "",
     "delete_cmd_prefix": "del ",
     "library": "var_list.py",
     "varRefreshCmd": "print(var_dic_list())"
    },
    "r": {
     "delete_cmd_postfix": ") ",
     "delete_cmd_prefix": "rm(",
     "library": "var_list.r",
     "varRefreshCmd": "cat(var_dic_list()) "
    }
   },
   "types_to_exclude": [
    "module",
    "function",
    "builtin_function_or_method",
    "instance",
    "_Feature"
   ],
   "window_display": false
  }
 },
 "nbformat": 4,
 "nbformat_minor": 1
}
