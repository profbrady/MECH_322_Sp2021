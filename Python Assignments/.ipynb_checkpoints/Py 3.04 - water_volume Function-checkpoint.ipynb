{
 "cells": [
  {
   "cell_type": "markdown",
   "metadata": {
    "deletable": false,
    "editable": false,
    "run_control": {
     "frozen": true
    }
   },
   "source": [
    "# Py 3.04 - `water_volume` Function\n",
    "___"
   ]
  },
  {
   "cell_type": "code",
   "execution_count": null,
   "metadata": {},
   "outputs": [],
   "source": [
    "name = \"Your name here\"\n",
    "print(\"Name:\", name.upper())"
   ]
  },
  {
   "cell_type": "markdown",
   "metadata": {
    "deletable": false,
    "editable": false,
    "run_control": {
     "frozen": true
    }
   },
   "source": [
    "A large water tank located near a golf course has a peculiar geometry. It looks like a truncated cone sitting atop a cylinder, somewhat like a golf tee. Inside the tank there is a float switch that indicates the level of the water.\n",
    "\n",
    "Create a *Python* file named **`py304.py`** and in it define a function called **`water_volume(h)`** in the following cell that calculates and **returns** a numeric value for the water volume based on the height and the following rules.\n",
    "\n",
    "- If $0\\leq h \\leq 19\\text{m}$ the volume of water is given by the volume of a cylinder with height $h$: \n",
    "\n",
    "$\\qquad\\displaystyle V=\\pi12.5^2h$\n",
    "- If $19 \\lt h \\leq 33\\text{m}$ the volume of water is given by adding the volume of a cylinder of $h=19\\text{m}$ and the volume of water in the truncated cone:\n",
    "\n",
    "$\\qquad\\displaystyle r_h = 12.5 + \\frac{10.5}{14}(h-19)$\n",
    "    \n",
    "$\\qquad\\displaystyle V = \\pi12.5^2\\cdot 19 + \\frac{1}{3}\\pi(h-19)(12.5^2 + 12.5\\cdot r_h + r_h^2)$\n",
    "\n",
    "- If $h \\lt 0$ or $h\\gt 33$, **return** a value of $-1$, otherwise **return** the calculated value based on the above cases.\n",
    "\n",
    "Write you function in the cell below (some hints are provided).\n",
    "\n",
    "Test your function with float heights of $8\\text{ m}$, $25.7\\text{ m}$, and $35\\text{ m}$."
   ]
  },
  {
   "cell_type": "code",
   "execution_count": null,
   "metadata": {},
   "outputs": [],
   "source": [
    "# HINTS\n",
    "# this one should just need one 'if', one 'elif', and one 'else'\n",
    "# it's okay to have a separate return for each case"
   ]
  },
  {
   "cell_type": "markdown",
   "metadata": {
    "deletable": false,
    "editable": false,
    "run_control": {
     "frozen": true
    }
   },
   "source": [
    "#### Import your function definition in the first code cell using `from py304 import water_volume` and test it in the remaining code cells by calling the function."
   ]
  },
  {
   "cell_type": "code",
   "execution_count": null,
   "metadata": {},
   "outputs": [],
   "source": []
  },
  {
   "cell_type": "code",
   "execution_count": null,
   "metadata": {},
   "outputs": [],
   "source": []
  },
  {
   "cell_type": "code",
   "execution_count": null,
   "metadata": {},
   "outputs": [],
   "source": []
  },
  {
   "cell_type": "markdown",
   "metadata": {
    "deletable": false,
    "editable": false,
    "run_control": {
     "frozen": true
    }
   },
   "source": [
    ">**Wrap it up**\n",
    ">\n",
    ">Execute the time stamp code cell below to show the time and date you finished and tested this script.\n",
    ">\n",
    ">Click on the **Save** button and then the **Close and halt** button when you are done. **Submit this notebook and the file containing your function to *Canvas* before the due date/time to receive credit.**"
   ]
  },
  {
   "cell_type": "code",
   "execution_count": null,
   "metadata": {
    "deletable": false,
    "editable": false
   },
   "outputs": [],
   "source": [
    "from datetime import datetime\n",
    "from pytz import timezone\n",
    "print(datetime.now(timezone('US/Eastern')))"
   ]
  }
 ],
 "metadata": {
  "kernelspec": {
   "display_name": "Python 3",
   "language": "python",
   "name": "python3"
  },
  "language_info": {
   "codemirror_mode": {
    "name": "ipython",
    "version": 3
   },
   "file_extension": ".py",
   "mimetype": "text/x-python",
   "name": "python",
   "nbconvert_exporter": "python",
   "pygments_lexer": "ipython3",
   "version": "3.7.5"
  },
  "varInspector": {
   "cols": {
    "lenName": 16,
    "lenType": 16,
    "lenVar": 40
   },
   "kernels_config": {
    "python": {
     "delete_cmd_postfix": "",
     "delete_cmd_prefix": "del ",
     "library": "var_list.py",
     "varRefreshCmd": "print(var_dic_list())"
    },
    "r": {
     "delete_cmd_postfix": ") ",
     "delete_cmd_prefix": "rm(",
     "library": "var_list.r",
     "varRefreshCmd": "cat(var_dic_list()) "
    }
   },
   "types_to_exclude": [
    "module",
    "function",
    "builtin_function_or_method",
    "instance",
    "_Feature"
   ],
   "window_display": false
  }
 },
 "nbformat": 4,
 "nbformat_minor": 1
}
