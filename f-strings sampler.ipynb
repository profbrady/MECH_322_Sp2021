{
 "cells": [
  {
   "cell_type": "markdown",
   "metadata": {},
   "source": [
    "# \"f-Strings\""
   ]
  },
  {
   "cell_type": "code",
   "execution_count": 18,
   "metadata": {},
   "outputs": [],
   "source": [
    "import math"
   ]
  },
  {
   "cell_type": "markdown",
   "metadata": {},
   "source": [
    "No formatting"
   ]
  },
  {
   "cell_type": "code",
   "execution_count": 2,
   "metadata": {},
   "outputs": [
    {
     "name": "stdout",
     "output_type": "stream",
     "text": [
      "Have some 3.141592653589793\n"
     ]
    }
   ],
   "source": [
    "print(f\"Have some {math.pi}\")"
   ]
  },
  {
   "cell_type": "markdown",
   "metadata": {},
   "source": [
    "Floating point with 6-decimal places (the value is rounded at the 6th place)"
   ]
  },
  {
   "cell_type": "code",
   "execution_count": 3,
   "metadata": {},
   "outputs": [
    {
     "name": "stdout",
     "output_type": "stream",
     "text": [
      "Have some 3.141593\n"
     ]
    }
   ],
   "source": [
    "print(f\"Have some {math.pi:.6f}\")"
   ]
  },
  {
   "cell_type": "markdown",
   "metadata": {},
   "source": [
    "Padding floating point values (without and with leading zeros)"
   ]
  },
  {
   "cell_type": "code",
   "execution_count": 19,
   "metadata": {},
   "outputs": [
    {
     "name": "stdout",
     "output_type": "stream",
     "text": [
      "Have some       3.14159265\n"
     ]
    }
   ],
   "source": [
    "print(f\"Have some {math.pi:16.8f}\")"
   ]
  },
  {
   "cell_type": "code",
   "execution_count": 20,
   "metadata": {},
   "outputs": [
    {
     "name": "stdout",
     "output_type": "stream",
     "text": [
      "Have some 0000003.14159265\n"
     ]
    }
   ],
   "source": [
    "print(f\"Have some {math.pi:016.8f}\")"
   ]
  },
  {
   "cell_type": "markdown",
   "metadata": {},
   "source": [
    "Padding strings - left, right, or centered"
   ]
  },
  {
   "cell_type": "code",
   "execution_count": 9,
   "metadata": {},
   "outputs": [
    {
     "name": "stdout",
     "output_type": "stream",
     "text": [
      ">|LEFT        |<\n"
     ]
    }
   ],
   "source": [
    "print(f\">|{'LEFT':<12}|<\")"
   ]
  },
  {
   "cell_type": "code",
   "execution_count": 10,
   "metadata": {},
   "outputs": [
    {
     "name": "stdout",
     "output_type": "stream",
     "text": [
      ">|       RIGHT|<\n"
     ]
    }
   ],
   "source": [
    "print(f\">|{'RIGHT':>12}|<\")"
   ]
  },
  {
   "cell_type": "code",
   "execution_count": 11,
   "metadata": {
    "scrolled": true
   },
   "outputs": [
    {
     "name": "stdout",
     "output_type": "stream",
     "text": [
      ">|   CENTER   |<\n"
     ]
    }
   ],
   "source": [
    "print(f\">|{'CENTER':^12}|<\")"
   ]
  },
  {
   "cell_type": "markdown",
   "metadata": {},
   "source": [
    "Padding with characters other than spaces"
   ]
  },
  {
   "cell_type": "code",
   "execution_count": 2,
   "metadata": {},
   "outputs": [
    {
     "name": "stdout",
     "output_type": "stream",
     "text": [
      ">|LEFT********|<\n"
     ]
    }
   ],
   "source": [
    "print(f\">|{'LEFT':*<12}|<\")"
   ]
  },
  {
   "cell_type": "code",
   "execution_count": 3,
   "metadata": {},
   "outputs": [
    {
     "name": "stdout",
     "output_type": "stream",
     "text": [
      ">|_______RIGHT|<\n"
     ]
    }
   ],
   "source": [
    "print(f\">|{'RIGHT':_>12}|<\")"
   ]
  },
  {
   "cell_type": "code",
   "execution_count": 4,
   "metadata": {
    "scrolled": true
   },
   "outputs": [
    {
     "name": "stdout",
     "output_type": "stream",
     "text": [
      ">|+++CENTER+++|<\n"
     ]
    }
   ],
   "source": [
    "print(f\">|{'CENTER':+^12}|<\")"
   ]
  },
  {
   "cell_type": "markdown",
   "metadata": {},
   "source": [
    "Truncating long strings. The `:.16` formatter here acts differently than on floating point values."
   ]
  },
  {
   "cell_type": "code",
   "execution_count": 8,
   "metadata": {},
   "outputs": [
    {
     "name": "stdout",
     "output_type": "stream",
     "text": [
      ">|My name is Inigo|<\n"
     ]
    }
   ],
   "source": [
    "print(f\">|{'My name is Inigo Montoya':.16}|<\")"
   ]
  },
  {
   "cell_type": "markdown",
   "metadata": {},
   "source": [
    "However, if `:16` is used, the string is not truncated. Instead it \"overflows\" the space that is set aside for the string."
   ]
  },
  {
   "cell_type": "code",
   "execution_count": 9,
   "metadata": {},
   "outputs": [
    {
     "name": "stdout",
     "output_type": "stream",
     "text": [
      ">|My name is Inigo Montoya|<\n"
     ]
    }
   ],
   "source": [
    "print(f\">|{'My name is Inigo Montoya':16}|<\")"
   ]
  },
  {
   "cell_type": "markdown",
   "metadata": {},
   "source": [
    "Pad and truncate at the same time using `:24.16`"
   ]
  },
  {
   "cell_type": "code",
   "execution_count": 12,
   "metadata": {},
   "outputs": [
    {
     "name": "stdout",
     "output_type": "stream",
     "text": [
      ">|My name is Inigo        |<\n"
     ]
    }
   ],
   "source": [
    "print(f\">|{'My name is Inigo Montoya':<24.16}|<\")"
   ]
  },
  {
   "cell_type": "markdown",
   "metadata": {},
   "source": [
    "Pad integer values. The default is right padding for integers."
   ]
  },
  {
   "cell_type": "code",
   "execution_count": 13,
   "metadata": {},
   "outputs": [
    {
     "name": "stdout",
     "output_type": "stream",
     "text": [
      ">|      42|<\n"
     ]
    }
   ],
   "source": [
    "print(f\">|{42:8d}|<\")"
   ]
  },
  {
   "cell_type": "code",
   "execution_count": 14,
   "metadata": {},
   "outputs": [
    {
     "name": "stdout",
     "output_type": "stream",
     "text": [
      ">|42      |<\n"
     ]
    }
   ],
   "source": [
    "print(f\">|{42:<8d}|<\")"
   ]
  },
  {
   "cell_type": "code",
   "execution_count": 15,
   "metadata": {},
   "outputs": [
    {
     "name": "stdout",
     "output_type": "stream",
     "text": [
      ">|   42   |<\n"
     ]
    }
   ],
   "source": [
    "print(f\">|{42:^8d}|<\")"
   ]
  },
  {
   "cell_type": "markdown",
   "metadata": {},
   "source": [
    "Pad with leading zeros"
   ]
  },
  {
   "cell_type": "code",
   "execution_count": 16,
   "metadata": {},
   "outputs": [
    {
     "name": "stdout",
     "output_type": "stream",
     "text": [
      ">|00000042|<\n"
     ]
    }
   ],
   "source": [
    "print(f\">|{42:08d}|<\")"
   ]
  },
  {
   "cell_type": "markdown",
   "metadata": {},
   "source": [
    "Pad with sign. If `-` is used, a minus sign will be included as necessary but not a plus sign. Using `+` will result in a sign always being included."
   ]
  },
  {
   "cell_type": "code",
   "execution_count": 23,
   "metadata": {},
   "outputs": [
    {
     "name": "stdout",
     "output_type": "stream",
     "text": [
      ">|      42|<\n"
     ]
    }
   ],
   "source": [
    "print(f\">|{42:-8d}|<\")"
   ]
  },
  {
   "cell_type": "code",
   "execution_count": 24,
   "metadata": {},
   "outputs": [
    {
     "name": "stdout",
     "output_type": "stream",
     "text": [
      ">|     -42|<\n"
     ]
    }
   ],
   "source": [
    "print(f\">|{-42:-8d}|<\")"
   ]
  },
  {
   "cell_type": "code",
   "execution_count": 25,
   "metadata": {},
   "outputs": [
    {
     "name": "stdout",
     "output_type": "stream",
     "text": [
      ">|     +42|<\n"
     ]
    }
   ],
   "source": [
    "print(f\">|{42:+8d}|<\")"
   ]
  },
  {
   "cell_type": "markdown",
   "metadata": {},
   "source": [
    "Place the sign at the beginning of the padding by adding `=` to the formatter"
   ]
  },
  {
   "cell_type": "code",
   "execution_count": 26,
   "metadata": {},
   "outputs": [
    {
     "name": "stdout",
     "output_type": "stream",
     "text": [
      ">|+     42|<\n"
     ]
    }
   ],
   "source": [
    "print(f\">|{42:=+8d}|<\")"
   ]
  },
  {
   "cell_type": "markdown",
   "metadata": {},
   "source": [
    "Using a list comprehension to print all objects in a list using f-string formatting. Note the semi-colon at the end; this is only to keep from displaying a list of `None` objects when using Jupyter or the REPL. "
   ]
  },
  {
   "cell_type": "code",
   "execution_count": 54,
   "metadata": {},
   "outputs": [
    {
     "name": "stdout",
     "output_type": "stream",
     "text": [
      "  1  2  3  4  5"
     ]
    }
   ],
   "source": [
    "my_list = [1, 2, 3, 4, 5]\n",
    "[print(f'{item:3d}', end=\"\") for item in my_list];"
   ]
  },
  {
   "cell_type": "markdown",
   "metadata": {},
   "source": [
    "Creating your own table. Both values in the f-string are right justified integers with 2 and 3 places."
   ]
  },
  {
   "cell_type": "code",
   "execution_count": 12,
   "metadata": {},
   "outputs": [
    {
     "name": "stdout",
     "output_type": "stream",
     "text": [
      "|no. |squared|\n",
      "+------------+\n",
      "|  0 |    0  |\n",
      "|  1 |    1  |\n",
      "|  2 |    4  |\n",
      "|  3 |    9  |\n",
      "|  4 |   16  |\n",
      "|  5 |   25  |\n",
      "|  6 |   36  |\n",
      "|  7 |   49  |\n",
      "|  8 |   64  |\n",
      "|  9 |   81  |\n"
     ]
    }
   ],
   "source": [
    "print(\"|no. |squared|\")\n",
    "print(\"+------------+\")\n",
    "for i in range(10):\n",
    "    print(f\"| {i:>2d} |  {i**2:>3d}  |\")"
   ]
  },
  {
   "cell_type": "markdown",
   "metadata": {},
   "source": [
    "Date and time formatting can be mixed with f-string formatting\n",
    "\n",
    "- `%a` = abbreviated weekday name, i.e. Mon\n",
    "- `%A` = full weekday name\n",
    "- `%w` = weekday as decimal number where Sunday = 0\n",
    "- `%d` = day of the month as a two digit integer, i.e. 01 or 31\n",
    "- `%b` = abbreviated month name, i.e. Jan\n",
    "- `%B` = full month name\n",
    "- `%m` = month number as a two digit integer, i.e. January = 01\n",
    "- `%y` = last two digits of the year\n",
    "- `%Y` = full year\n",
    "- `%H` = hour as two digit integer using 24-hour clock from 00 to 23\n",
    "- `%I` = hour as two digit integer using 12-hour clock from 01 to 12\n",
    "- `%p` = abbreviation for AM or PM\n",
    "- `%M` = minute as a two digit integer from 00 to 59\n",
    "- `%S` = second as a two digit integer from 00 to 59\n",
    "- `%z` = UTC offset\n",
    "- `%Z` = time zone name\n",
    "- `%j` = day of the year as a three digit integer from 001 to 365 (or 366)\n",
    "- `%U` = week number with Sunday as the first day of the week from 00 to 53\n",
    "- `%W` = week number with Monday as the first day of the week\n",
    "- `%c` = locale appropriate date and time representation\n",
    "- `%x` = locale appropriate date representation\n",
    "- `%X` = locale appropriate time representation"
   ]
  },
  {
   "cell_type": "code",
   "execution_count": 73,
   "metadata": {},
   "outputs": [],
   "source": [
    "from datetime import datetime\n",
    "from pytz import timezone\n",
    "dt = datetime.now(timezone('US/Eastern'))"
   ]
  },
  {
   "cell_type": "code",
   "execution_count": 77,
   "metadata": {},
   "outputs": [
    {
     "name": "stdout",
     "output_type": "stream",
     "text": [
      "January 21, 2020 10:59 AM\n"
     ]
    }
   ],
   "source": [
    "print(f\"{dt:%B %d, %Y %H:%M %p}\")"
   ]
  },
  {
   "cell_type": "code",
   "execution_count": 78,
   "metadata": {},
   "outputs": [
    {
     "name": "stdout",
     "output_type": "stream",
     "text": [
      "Tue Jan 21 10:59:47 2020\n"
     ]
    }
   ],
   "source": [
    "print(f\"{dt:%c}\")"
   ]
  },
  {
   "cell_type": "code",
   "execution_count": 79,
   "metadata": {},
   "outputs": [
    {
     "name": "stdout",
     "output_type": "stream",
     "text": [
      "01/21/20\n"
     ]
    }
   ],
   "source": [
    "print(f\"{dt:%x}\")"
   ]
  },
  {
   "cell_type": "code",
   "execution_count": 81,
   "metadata": {},
   "outputs": [
    {
     "name": "stdout",
     "output_type": "stream",
     "text": [
      "10:59:47 EST\n"
     ]
    }
   ],
   "source": [
    "print(f\"{dt:%X %Z}\")"
   ]
  },
  {
   "cell_type": "code",
   "execution_count": null,
   "metadata": {},
   "outputs": [],
   "source": []
  }
 ],
 "metadata": {
  "kernelspec": {
   "display_name": "Python 3",
   "language": "python",
   "name": "python3"
  },
  "language_info": {
   "codemirror_mode": {
    "name": "ipython",
    "version": 3
   },
   "file_extension": ".py",
   "mimetype": "text/x-python",
   "name": "python",
   "nbconvert_exporter": "python",
   "pygments_lexer": "ipython3",
   "version": "3.7.5"
  },
  "varInspector": {
   "cols": {
    "lenName": 16,
    "lenType": 16,
    "lenVar": 40
   },
   "kernels_config": {
    "python": {
     "delete_cmd_postfix": "",
     "delete_cmd_prefix": "del ",
     "library": "var_list.py",
     "varRefreshCmd": "print(var_dic_list())"
    },
    "r": {
     "delete_cmd_postfix": ") ",
     "delete_cmd_prefix": "rm(",
     "library": "var_list.r",
     "varRefreshCmd": "cat(var_dic_list()) "
    }
   },
   "types_to_exclude": [
    "module",
    "function",
    "builtin_function_or_method",
    "instance",
    "_Feature"
   ],
   "window_display": false
  }
 },
 "nbformat": 4,
 "nbformat_minor": 2
}
