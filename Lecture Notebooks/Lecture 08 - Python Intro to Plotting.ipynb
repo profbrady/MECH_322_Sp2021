{
 "cells": [
  {
   "cell_type": "markdown",
   "metadata": {
    "deletable": false,
    "editable": false,
    "run_control": {
     "frozen": true
    }
   },
   "source": [
    "# Lecture 8 - Python Intro to Plotting\n",
    "___\n",
    "___"
   ]
  },
  {
   "cell_type": "markdown",
   "metadata": {
    "deletable": false,
    "run_control": {
     "frozen": true
    }
   },
   "source": [
    "## Purpose\n",
    "\n",
    "- Create lists of values to plot\n",
    "- Create simple $xy$-plots\n",
    "- Use a variety of plotting functions/methods from the *Matplotlib* library\n",
    "- Add titles and axis labels to plots\n",
    "- Change plot properties such as line color, line type, line width, and marker style\n",
    "- Create a plot with multiple lines/curves\n",
    "- Create multiple plots on the same page (side-by-side, vertically stacked, etc.)\n"
   ]
  },
  {
   "cell_type": "markdown",
   "metadata": {
    "deletable": false,
    "run_control": {
     "frozen": true
    }
   },
   "source": [
    "## Background:\n",
    "\n",
    "- Plots are very helpful for presenting the results of engineering calculations \n",
    "- Plotting with *Python* and the *Matplotlib* library is quite easy\n",
    "- The *Matplotlib* (https://matplotlib.org) library can create publication quality plots\n",
    "- The **`pyplot`** module  that was created to make *MATLAB* type plots in *Python*\n",
    "- Plotting commands can be used from...\n",
    "  - REPL (command line) \n",
    "  - Scripts and functions\n",
    "  - *Jupyter* notebooks\n",
    "- Sequences of numeric  values (i.e. lists, tuples, ranges) are required to create plots\n",
    "  - Lists\n",
    "  - Tuples\n",
    "  - Ranges\n",
    "  - Others (covered later)\n",
    "- Sequence data can be collected from an external source or created using math\n",
    "- The simplest plot can be created using two lists (**`x`** and **`y`**) and issuing the following commands\n",
    "  - **`import matplotlib.pyplot as plt`**\n",
    "  - **`plt.plot(x, y)`**"
   ]
  },
  {
   "cell_type": "markdown",
   "metadata": {
    "deletable": false,
    "run_control": {
     "frozen": true
    }
   },
   "source": [
    "- *Matplotlib* then provides many possible ways to modify and add to the plot...\n",
    "  - Setting axes limits\n",
    "  - Adding a title and axes labels\n",
    "  - Turning on a grid\n",
    "  - Adding text annotations\n",
    "  - Setting line types, colors and widths\n",
    "  - Setting marker shapes and sizes\n",
    "  - Adding legends\n",
    "  - Adding error bars\n",
    "- Axes may be linear or log10 or a combination of the two\n",
    "- Specialty plots can be created, such as...\n",
    "  - Polar plots\n",
    "  - Histograms\n",
    "  - Bar charts\n",
    "  - Pie charts\n",
    "  - Stairs plots\n",
    "  - Stem plots\n",
    "- Plots may be combined into the same plot window or multiple windows can be used"
   ]
  },
  {
   "cell_type": "markdown",
   "metadata": {
    "deletable": false,
    "run_control": {
     "frozen": true
    }
   },
   "source": [
    "Approaches for Using *Matplotlib* and the **`pyplot`** Module\n",
    "1. State-machine approach\n",
    "  - Like the above example\n",
    "  - Based on the commands used in *MATLAB* to create plots\n",
    "2. Object-oriented approach\n",
    "  - Considered the more *Pythonic* approach because it is more explicit\n",
    "  - The approach we will be using\n",
    "  - For many plotting tasks either approach will work\n",
    "  - Some results can only be achieved by using this approach\n",
    "  - Generally requires a bit more coding, but not a lot\n",
    "  - Same plot as above using object-oriented approach\n",
    "    - **`import matplotlib.pyplot as plt`**\n",
    "    - **`fig, ax = plt.subplots()`**\n",
    "    - **`ax.plot(x, y)`**"
   ]
  },
  {
   "cell_type": "markdown",
   "metadata": {
    "deletable": false,
    "run_control": {
     "frozen": true
    }
   },
   "source": [
    "## Importing *Matplotlib*\n",
    "\n",
    "- The ability to create plots is not built into the *Python* standard library\n",
    "- Provided by the external *Matplotlib* library\n",
    "- We will use the **`pyplot`** module from the *Matplotlib* library\n",
    "- Must first import the module before issuing any plotting commands\n",
    "- Two import methods\n",
    "  - **`import matplotlib.pyplot as plt`**\n",
    "  - **`from matplotlib import pyplot as plt`**\n",
    "- Preface all plotting commands with **`plt.`**\n",
    "\n",
    "___\n",
    "**Practice it**\n",
    "\n",
    "Execute the following code cell to import the **`math`** module and the **`matplotlib.pyplot`** module for use in the rest of this document. Notice that we are using the **`plt`** shortcut (alias) for the name of the **`matplotlib.pyplot`** module."
   ]
  },
  {
   "cell_type": "code",
   "execution_count": null,
   "metadata": {},
   "outputs": [],
   "source": [
    "import math\n",
    "import matplotlib.pyplot as plt"
   ]
  },
  {
   "cell_type": "markdown",
   "metadata": {
    "deletable": false,
    "run_control": {
     "frozen": true
    }
   },
   "source": [
    "## Anatomy of a Figure (Plot)\n",
    "\n",
    "- The figure below comes from the *Matplotlib* website\n",
    "- Illustrates the many different parts of a plot figure\n",
    "- The plot itself is referred to as an **Axes** and it is located within a **Figure**\n",
    "- Object-oriented approach gives fine control over both the figure and the axes (plots) that are added to it\n",
    "\n",
    "![anatomy1.png](anatomy1.png)"
   ]
  },
  {
   "cell_type": "markdown",
   "metadata": {
    "deletable": false,
    "run_control": {
     "frozen": true
    }
   },
   "source": [
    "## Basic Plotting\n",
    "\n",
    "- One of the simplest plots is an $x,y$ plot using lists of values for $x$ and $y$\n",
    "- Create such a plot using **`plt.plot(x, y)`** using the state-machine approach) \n",
    "- For the object-oriented approach a figure and axes must be created to plot on\n",
    "- The following sets of commands can be used to plot $x,y$ pairs with the same results\n",
    "\n",
    "1. **Example 1**\n",
    "  - Create a blank figure named **`fig`**\n",
    "  - Add an axes object named **`ax`** to the figure\n",
    "  - Plot the values to **`ax`** \n",
    "  - The axes object fills the figure\n",
    "    - Starting at $x,y = (0,0)$ \n",
    "    - Ending at $x,y = (1,1)$ \n",
    "    - Set by the **`[0, 0, 1, 1]`** argument\n",
    "      - A value of 1 in this argument means 100%\n",
    "\n",
    "\n",
    "  ```python\n",
    "  fig = plt.figure()\n",
    "  ax = fig.add_axes([0, 0, 1, 1])\n",
    "  ax.plot(x, y)\n",
    "  ```\n",
    "\n",
    "\n",
    "2. **Example 2**\n",
    "  - Create a blank figure\n",
    "  - Add a subplot object named **`ax`** \n",
    "  - Plot the values to **`ax`** \n",
    "  - Subplot objects allow multiple plots to be arranged\n",
    "    - Next to each other\n",
    "    - Above/below each other\n",
    "    - In a grid\n",
    "    - **`ax = fig.add_subplot(111)`** creates a subplot group...\n",
    "      - 1 plot high (1 row) \n",
    "      - 1 plot wide (1 column) \n",
    "      - Current plot (axes) is number 1 \n",
    "      - Assigns plot the name **`ax`**\n",
    "\n",
    "    \n",
    "  ```python\n",
    "  fig = plt.figure()\n",
    "  ax = fig.add_subplot(111)\n",
    "  ax.plot(x, y)\n",
    "  ```\n",
    "\n",
    "3. **Example 3**\n",
    "  - Create a figure object named **`fig`**\n",
    "  - Pre-filled with an axes named **`ax`** \n",
    "  - Plot the values to **`ax`**\n",
    "  - **`fig, ax = plt.subplots`** \n",
    "    - Creates a figure named **`fig`** \n",
    "    - Populated with a default subplot object\n",
    "      - One row \n",
    "      - One column\n",
    "    - The subplot object is assigned to the name **`ax`**\n",
    "\n",
    "\n",
    "  ```python\n",
    "  fig, ax = plt.subplots()\n",
    "  ax.plot(x, y)\n",
    "  ```"
   ]
  },
  {
   "cell_type": "markdown",
   "metadata": {
    "deletable": false,
    "run_control": {
     "frozen": true
    }
   },
   "source": [
    "- Variable names used in the **`plot()`** command do not need to be **`x`** and **`y`**\n",
    "- Both must be sequences of the same size\n",
    "- First variable in the plot command will be used to generate the $x$-values for each point\n",
    "- Second variable will be used to generate the $y$-values for each point\n",
    "- It is also possible to just use **`plot(x)`** or **`plot(y)`** and create a plot\n",
    "  - The variable used as the argument will correspond to the $y$-values of the plotted points\n",
    "  - The $x$-value of the points will come from their index positions in the list"
   ]
  },
  {
   "cell_type": "markdown",
   "metadata": {
    "deletable": false,
    "run_control": {
     "frozen": true
    }
   },
   "source": [
    "___\n",
    "**Practice it**\n",
    "\n",
    "Execute the following code cells to generate (nearly) identical $x,y$-plots using lists **`x`** and **`y`** based on the three examples shown above."
   ]
  },
  {
   "cell_type": "code",
   "execution_count": null,
   "metadata": {},
   "outputs": [],
   "source": [
    "x = [1, 2, 3, 5, 7, 7.5, 8, 10]\n",
    "y = [2, 6.5, 7, 7, 5.5, 4, 6, 8]"
   ]
  },
  {
   "cell_type": "code",
   "execution_count": null,
   "metadata": {},
   "outputs": [],
   "source": [
    "fig = plt.figure()\n",
    "ax = fig.add_axes([0, 0, 1, 1])\n",
    "ax.plot(x, y)"
   ]
  },
  {
   "cell_type": "code",
   "execution_count": null,
   "metadata": {},
   "outputs": [],
   "source": [
    "fig = plt.figure()\n",
    "ax = fig.add_subplot(111)\n",
    "ax.plot(x, y)"
   ]
  },
  {
   "cell_type": "code",
   "execution_count": null,
   "metadata": {},
   "outputs": [],
   "source": [
    "fig, ax = plt.subplots()\n",
    "ax.plot(x, y)"
   ]
  },
  {
   "cell_type": "markdown",
   "metadata": {
    "deletable": false
   },
   "source": [
    "___\n",
    "**Practice it**\n",
    "\n",
    "Execute the following three code cells to see what happens when only **`x`** or **`y`** is used in the plotting command (the last example is using a subplot that is 1 row by 2 columns in order to place the plots next to each other)."
   ]
  },
  {
   "cell_type": "code",
   "execution_count": null,
   "metadata": {},
   "outputs": [],
   "source": [
    "fig, ax = plt.subplots()\n",
    "ax.plot(x)"
   ]
  },
  {
   "cell_type": "code",
   "execution_count": null,
   "metadata": {},
   "outputs": [],
   "source": [
    "fig, ax = plt.subplots()\n",
    "ax.plot(y)"
   ]
  },
  {
   "cell_type": "code",
   "execution_count": null,
   "metadata": {},
   "outputs": [],
   "source": [
    "fig, (ax1, ax2) = plt.subplots(1, 2)\n",
    "ax1.plot(x)\n",
    "ax2.plot(y)"
   ]
  },
  {
   "cell_type": "markdown",
   "metadata": {
    "deletable": false,
    "run_control": {
     "frozen": true
    }
   },
   "source": [
    "- The size of a figure can be set using keyword arguments in **`**subplots()`**\n",
    "  - **`figsize=(x,y)`** where **`x,y`** is the size in inches\n",
    "  - **`dpi=xxx`** where **`xxx`** is the pixel density in dots per inch\n",
    "- The *Jupyter* notebook will likely not make a plot that exactly matches the size\n",
    "\n",
    "___\n",
    "**Practice it**\n",
    "\n",
    "Edit then run the following code cell with the **`plt.subplots()`** arguments for **`figsize`** and **`dpi`** set to **`(4,3)`** and **`150`** to see the affects on the plot."
   ]
  },
  {
   "cell_type": "code",
   "execution_count": null,
   "metadata": {},
   "outputs": [],
   "source": [
    "fig, ax = plt.subplots()  # add figsize and dpi arguments\n",
    "ax.plot(x, y)"
   ]
  },
  {
   "cell_type": "markdown",
   "metadata": {
    "deletable": false,
    "editable": false
   },
   "source": [
    "## Creating Non-Integer Ranges for Plotting"
   ]
  },
  {
   "cell_type": "markdown",
   "metadata": {
    "deletable": false,
    "run_control": {
     "frozen": true
    }
   },
   "source": [
    "- Math expression to create a list of equally spaced values between upper and lower limits\n",
    "- $\\displaystyle x_i = (x_{upper}-x_{lower})\\frac{i}{(n-1)} + x_{lower}$\n",
    "- Where... \n",
    "  - $i$ is the index position of a zero indexed list\n",
    "  - $x_{lower}$ and $x_{upper}$ are the desired lower and upper limits\n",
    "  - $n$ is the desired number of values in the list\n",
    "\n",
    "___\n",
    "**Practice it**\n",
    "\n",
    "Define a function called **`frange(lower, upper, n=100)`** (short for floating point range) that uses the above expression to create and return a list with **`n`** values with a lower limit of **`lower`** and an upper limit of **`upper`** Use list comprehension to create the list within the function. Test the function by creating a list named **`a`** with limits of $-2$  and $4$ that has a $100$ values. Print **`a`** and use **`len(a)`** after creating it to make sure that your function returned the correct number of values. Make sure you use **`n=100`** as the last parameter (referred to as a keyword parameter) when defining the function. This will set a default value of $100$ for **`n`** and make the last argument optional when calling the function."
   ]
  },
  {
   "cell_type": "code",
   "execution_count": null,
   "metadata": {},
   "outputs": [],
   "source": [
    "# define and execute the function definition in this cell\n"
   ]
  },
  {
   "cell_type": "code",
   "execution_count": null,
   "metadata": {},
   "outputs": [],
   "source": [
    "# create 'a' in this cell\n"
   ]
  },
  {
   "cell_type": "code",
   "execution_count": null,
   "metadata": {},
   "outputs": [],
   "source": [
    "# print 'a' in this cell\n"
   ]
  },
  {
   "cell_type": "code",
   "execution_count": null,
   "metadata": {},
   "outputs": [],
   "source": [
    "# find the length of 'a' in this cell\n"
   ]
  },
  {
   "cell_type": "markdown",
   "metadata": {
    "deletable": false,
    "run_control": {
     "frozen": true
    }
   },
   "source": [
    "## Defining Functions and Using Them in List Comprehensions\n",
    "\n",
    "- Plots often need a list of $x$-values and a list of $y$-values\n",
    "- Lists of $x$-values could be created... \n",
    "  - Manually\n",
    "  - With a standard **`range()`** command, i.e. **`x = range(10)`**\n",
    "  - With the custom **`frange()`** function we just wrote\n",
    "- Once a list of $x$-values is created, use that list to create $y$-values with these steps...\n",
    "  - Define a function that returns a calculated value\n",
    "      ```python\n",
    "      def my_func(x):\n",
    "          return x**3\n",
    "      ```\n",
    "  - Create a list of $y$-values using a list comprehension that calls the function with the $x$-values\n",
    "      ```python\n",
    "      y = [my_func(x) for x in x]\n",
    "      ```"
   ]
  },
  {
   "cell_type": "markdown",
   "metadata": {
    "deletable": false,
    "run_control": {
     "frozen": true
    }
   },
   "source": [
    "___\n",
    "**Practice it**\n",
    "\n",
    "Use your list named **`a`** and list comprehension to create a list named **`b`** from the following expression:\n",
    "\n",
    "$\\displaystyle b = 3.5^{(-0.5a)}\\cos{(6a)}$\n",
    "\n",
    "Create a function named **`bfunc(a)`** (in the first code cell) and use it to create list **`b`** (in the second code cell). You will need to use **`cos`** from the **`math`** module in your function (include an **`import`** statement in the function)."
   ]
  },
  {
   "cell_type": "code",
   "execution_count": null,
   "metadata": {},
   "outputs": [],
   "source": []
  },
  {
   "cell_type": "code",
   "execution_count": null,
   "metadata": {},
   "outputs": [],
   "source": []
  },
  {
   "cell_type": "markdown",
   "metadata": {
    "deletable": false,
    "run_control": {
     "frozen": true
    }
   },
   "source": [
    "## Formatting Arguments for **`**plot()`\n",
    "\n",
    "- The **`.plot()`** method accepts a number of optional arguments that modify the look of a plot\n",
    "- See the [*Matplotlib* documentation](https://matplotlib.org/api/_as_gen/matplotlib.axes.Axes.plot.html?highlight=axes.plot#matplotlib.axes.Axes.plot) for a comprehensive list\n",
    "- Quick line style, color, and marker changes\n",
    "  - **`'-r'`** will create a solid red line with no markers\n",
    "  - **`'--bo'`** will create a dashed blue line with circle markers at each data point\n",
    "  - Valid line types include **`-`, **`--`**, **`-.`**, and **`:`**\n",
    "  - Valid colors include any of the letters from **`rgbcmykw`**\n",
    "  - Valid marker shapes include any of the characters **`odDsx*.+^v`** plus more\n",
    "- **`linewidth=2.0`** or **`lw=2.0`** will make the plotted line 2-points wide\n",
    "- Can also use **`color='r'`** or **`c='r'`** to change the color to red \n",
    "- Can also use **`linestyle='--'`** or **`ls='--'`** to change the line style to dashed\n",
    "- Using **`color`** or **`c`** allows for a much broader range of colors by typing color names instead of letters\n",
    "- Use the command **`plt.show()`** after creating plots to keep *Jupyter* from showing a plot object descriptor"
   ]
  },
  {
   "cell_type": "markdown",
   "metadata": {
    "deletable": false,
    "editable": false,
    "run_control": {
     "frozen": true
    }
   },
   "source": [
    "Common color indicators:\n",
    "\n",
    "- **`r`** = red\n",
    "- **`g`** = green\n",
    "- **`b`** = blue\n",
    "- **`c`** = cyan\n",
    "- **`m`** = magenta\n",
    "- **`y`** = yellow \n",
    "- **`k`** = black\n",
    "- **`w`** = white"
   ]
  },
  {
   "cell_type": "markdown",
   "metadata": {
    "deletable": false,
    "editable": false,
    "run_control": {
     "frozen": true
    }
   },
   "source": [
    "Common linestyle indicators:\n",
    "- **`-`** = solid\n",
    "- **`--`** = dashed\n",
    "- **`-.`** = dash-dot\n",
    "- **`:`** = dotted"
   ]
  },
  {
   "cell_type": "markdown",
   "metadata": {
    "deletable": false,
    "editable": false,
    "run_control": {
     "frozen": true
    }
   },
   "source": [
    "Common marker indicators:\n",
    "\n",
    "- **`**`** = point\n",
    "- **`x`** and **`X`** = $\\times$'s\n",
    "- **`+`** and **`P`** = plus signs\n",
    "- **`o`** = circle\n",
    "- **`d`** and **`D`** = diamonds\n",
    "- **`s`** = square\n",
    "- **`^`, **`v`, **`<`, and **`>`** = triangles\n",
    "- **`h`** and **`H`** = hexagons\n",
    "- **`*`** = star\n",
    "- **`p`** = pentagon\n",
    "- **`8`** = octagon"
   ]
  },
  {
   "cell_type": "markdown",
   "metadata": {
    "deletable": false,
    "run_control": {
     "frozen": true
    }
   },
   "source": [
    "___\n",
    "**Practice it**\n",
    "\n",
    "The following code cell creates a \"plot\" of all of the common marker indicators and linestyles. *Matplotlib* automatically cycles through different colors for different plots in the same space."
   ]
  },
  {
   "cell_type": "code",
   "execution_count": null,
   "metadata": {
    "scrolled": true
   },
   "outputs": [],
   "source": [
    "fig = plt.figure(figsize=(6,1))\n",
    "ax = fig.add_axes([0,0,1,1])\n",
    "for i,item in enumerate(['-','--','-.',':']):\n",
    "    ax.plot([0, 17], [2*i+2, 2*i+2], item, lw=2.5)\n",
    "for i,item in enumerate('.xX+PodDs^v<>hH*p8'):\n",
    "    ax.plot(i, 0, item, ms=10)\n",
    "    \n",
    "ax.set_axis_off()\n",
    "ax.set_ylim(-1, 9)\n",
    "plt.show()"
   ]
  },
  {
   "cell_type": "markdown",
   "metadata": {
    "deletable": false,
    "run_control": {
     "frozen": true
    }
   },
   "source": [
    "___\n",
    "**Practice it**\n",
    "\n",
    "Plot $a,b$ with a solid red line that is 2.0 wide. Include **`plt.show()`** as the last command. "
   ]
  },
  {
   "cell_type": "code",
   "execution_count": null,
   "metadata": {},
   "outputs": [],
   "source": []
  },
  {
   "cell_type": "markdown",
   "metadata": {
    "deletable": false,
    "run_control": {
     "frozen": true
    }
   },
   "source": [
    "## Adding a Title, Labels, and Other Stuff\n",
    "\n",
    "- Easily add a title, axes labels, and other options to plots\n",
    "- The [Axes class](https://matplotlib.org/api/axes_api.html?highlight=axes#module-matplotlib.axes) lists all of the possible options\n",
    "- A simple title can be added using the **`.set_title(\"Title Text\")`** method\n",
    "- Axes labels use the **`.set_xlabel()`** and **`.set_ylabel()`** methods\n",
    "- All three of these accept an optional **`fontsize=`** argument to change the text height\n",
    "- **`.set(title='Title text', xlabel='x-axis label', ylabel='y-axis label')`** sets all three\n",
    "- **`.axis([xmin, xmax, ymin, ymax])`** sets the plot limits in the $x$ and $y$ directions\n",
    "  - Requires that all 4 values be given\n",
    "  - Must use the square brackets\n",
    "  - Could use named arguments in **`.axis()`** instead \n",
    "    - **`.axis(xmin=0, xmax=10, ymin=-4, ymax=5)`**\n",
    "- **`.set_xlim(xmin, xmax)`** and **`.set_ylim(ymin, ymax)`** can be used to set specific axis limits\n",
    "- Add a grid by using **`.grid(True)`**\n",
    "- Place the formatting commands after the **`.plot()`** command\n",
    "- Use **`plt.show()`** after all plot formatting commands.\n"
   ]
  },
  {
   "cell_type": "markdown",
   "metadata": {
    "deletable": false,
    "run_control": {
     "frozen": true
    }
   },
   "source": [
    "___\n",
    "**Practice it**\n",
    "\n",
    "Use our **`frange()`** function and list comprehension to create two lists, **`x`** and **`y`**, based on the following information. \n",
    "\n",
    "$\\displaystyle -5 \\leq x \\leq 10$  with $100$ values and $\\displaystyle y = \\frac{5\\sin{x}}{x + e^{-0.75x}} - \\frac{3x}{5}$"
   ]
  },
  {
   "cell_type": "code",
   "execution_count": null,
   "metadata": {},
   "outputs": [],
   "source": [
    "# create list 'x'\n"
   ]
  },
  {
   "cell_type": "code",
   "execution_count": null,
   "metadata": {},
   "outputs": [],
   "source": [
    "# define a function for calculating 'y'\n"
   ]
  },
  {
   "cell_type": "code",
   "execution_count": null,
   "metadata": {},
   "outputs": [],
   "source": [
    "# create list 'y' using list comprehension\n"
   ]
  },
  {
   "cell_type": "markdown",
   "metadata": {
    "deletable": false,
    "run_control": {
     "frozen": true
    }
   },
   "source": [
    "Now plot $x,y$ with the following options and don't forget to end with **`plt.show()`**\n",
    "- Green plot line that is 1.5 wide\n",
    "- The title \"A really nice plot\" with a fontsize of 16\n",
    "- The x-axis label \"x-axis\" with a fontsize of 12\n",
    "- The y-axis label \"y-axis\" with a fontsize of 12\n",
    "- Plot limits of -5 and 10 for the x-axis"
   ]
  },
  {
   "cell_type": "code",
   "execution_count": null,
   "metadata": {},
   "outputs": [],
   "source": []
  },
  {
   "cell_type": "markdown",
   "metadata": {
    "deletable": false,
    "run_control": {
     "frozen": true
    }
   },
   "source": [
    "## Multiple Graphs on the Same Plot\n",
    "\n",
    "- Add more than one set of data to a single plot by adding more list pairs in **`.plot()`** \n",
    "- Color, line, and marker settings for a plot curve should be placed after its pair of lists\n",
    "\n",
    "___\n",
    "**Practice it**\n",
    "\n",
    "Execute the following code cell to see how this works."
   ]
  },
  {
   "cell_type": "code",
   "execution_count": null,
   "metadata": {},
   "outputs": [],
   "source": [
    "x = frange(-2, 4)\n",
    "y = [3*x**3 - 26*x + 6 for x in x]\n",
    "yd = [9*x**2 - 26 for x in x]\n",
    "ydd = [18*x for x in x]\n",
    "fig, ax = plt.subplots()\n",
    "ax.plot(x, y, '-b', x, yd, '--r', x, ydd, ':k')\n",
    "plt.show()"
   ]
  },
  {
   "cell_type": "markdown",
   "metadata": {
    "deletable": false,
    "run_control": {
     "frozen": true
    }
   },
   "source": [
    "- Another option is to just create each plot separately using **`ax.plot()`** commands for each set of data points then show them all\n",
    "\n",
    "___\n",
    "**Practice it**\n",
    "\n",
    "Try it out. Make the above plot using three separate **`.plot()`** commands. Remember to use **`plt.show()`** as the last command."
   ]
  },
  {
   "cell_type": "code",
   "execution_count": null,
   "metadata": {},
   "outputs": [],
   "source": []
  },
  {
   "cell_type": "markdown",
   "metadata": {
    "deletable": false,
    "run_control": {
     "frozen": true
    }
   },
   "source": [
    "## Subplots\n",
    "\n",
    "- Multiple plots on separate axes are referred to as subplots \n",
    "- The **`.subplots()`** method can be used to initialize a subplot with any number of rows or columns\n",
    "- Add the number of rows and columns desired inside the parentheses and separated by a comma\n",
    "- Ccan also use the keyword arguments **`nrows`** and **`ncols`** instead\n",
    "- If more than one axes object is created, then a list of axes objects is returned\n",
    "- If using **`.add_subplot()`** to create axes objects\n",
    "  - Then the argument used needs to be a 3-digit value\n",
    "  - Represents...\n",
    "    - Number of rows\n",
    "    - Number of columns\n",
    "    - Which subplot is the active one\n",
    "  - **`.add_subplot(211)`** yields a subplot object 2 rows high by 1 column wide with the first subplot active\n",
    "\n",
    "___\n",
    "**Practice it**\n",
    "\n",
    "Try out the following to see a set of stacked subplots."
   ]
  },
  {
   "cell_type": "code",
   "execution_count": null,
   "metadata": {},
   "outputs": [],
   "source": [
    "x = frange(0, 10)\n",
    "y1 = [x*math.cos(x) for x in x]\n",
    "y2 = [math.exp(-0.2*x)*math.cos(x) for x in x]\n",
    "\n",
    "fig, (ax1, ax2) = plt.subplots(2, 1, figsize=(6,6), dpi=100)\n",
    "ax1.plot(x, y1)\n",
    "ax2.plot(x, y2, 'r--')\n",
    "plt.show()"
   ]
  },
  {
   "cell_type": "markdown",
   "metadata": {
    "deletable": false,
    "run_control": {
     "frozen": true
    }
   },
   "source": [
    "## A Polar Plot and a Histogram\n",
    "\n",
    "- *Matplotlib* supports the construction of much more than just $x,y$ plots\n",
    "- Two other plots that you can create are...\n",
    "  - Histograms\n",
    "  - Polar plots\n",
    "\n",
    "___\n",
    "**Practice it**\n",
    "\n",
    "Run the following code to create a polar plot. Notice that the method **`.plot()`** is still used, but **`plt.figure()`** along with either **`.add_axes()`** is used to create the axes object and **`polar=True`** is added as a keyword argument after the list containing the size information. The two arguments in **`.plot()`** are the angular (in radians) and the radial positions of the points (both lists) when using it to create a polar plot."
   ]
  },
  {
   "cell_type": "code",
   "execution_count": null,
   "metadata": {},
   "outputs": [],
   "source": [
    "t = frange(0, 5*math.pi, 200) # 200 points from 0 to 5pi radians\n",
    "r = [3*math.cos(0.5*t)**2 + t for t in t]\n",
    "fig = plt.figure(figsize=(4,4), dpi=100)\n",
    "ax = fig.add_axes([0, 0, 1, 1], polar=True)\n",
    "ax.plot(t, r)\n",
    "ax.set_ylim(0, 20) # ylim sets the radial limits for polar plots\n",
    "plt.show()"
   ]
  },
  {
   "cell_type": "markdown",
   "metadata": {
    "deletable": false,
    "run_control": {
     "frozen": true
    }
   },
   "source": [
    "___\n",
    "**Practice it**\n",
    "\n",
    "Another option is to use the **`.subplots()`** method to create the figure and add the keyword argument **`subplot_kw={'polar':True}`**. Execute the following code to create the same polar plot as above."
   ]
  },
  {
   "cell_type": "code",
   "execution_count": null,
   "metadata": {},
   "outputs": [],
   "source": [
    "t = frange(0, 5*math.pi, 200) # 200 points from 0 to 5pi radians\n",
    "r = [3*math.cos(0.5*t)**2 + t for t in t]\n",
    "fig, ax = plt.subplots(figsize=(4,4), dpi=100, subplot_kw={'polar':True})\n",
    "ax.plot(t, r)\n",
    "ax.set_ylim(0, 20) # ylim sets the radial limits for polar plots\n",
    "plt.show()"
   ]
  },
  {
   "cell_type": "markdown",
   "metadata": {
    "deletable": false,
    "run_control": {
     "frozen": true
    }
   },
   "source": [
    "___\n",
    "**Practice it**\n",
    "\n",
    "Histograms are quite easy to make as well. We are importing the **`random`** module and using its **`normalvariate()`** function to create a list of random numbers that fit in a normal distribution. But the **`.hist()`** method simply needs a list of values and the number of bins desired. Read about the command to see other options."
   ]
  },
  {
   "cell_type": "code",
   "execution_count": null,
   "metadata": {},
   "outputs": [],
   "source": [
    "import random\n",
    "mean = 50\n",
    "std = 10\n",
    "y = [random.normalvariate(mean, std) for x in range(1000)]\n",
    "fig, ax = plt.subplots(figsize=(6,4), dpi=100)\n",
    "ax.hist(y, 10)     # 10 bins\n",
    "ax.set_xlim(0, 100)\n",
    "ax.grid(True)\n",
    "plt.show()"
   ]
  },
  {
   "cell_type": "markdown",
   "metadata": {
    "deletable": false,
    "run_control": {
     "frozen": true
    }
   },
   "source": [
    "## A Practice Problem\n",
    "\n",
    "Plot the following expression together as a class.\n",
    "\n",
    "$\\displaystyle x(t)=\\frac{2f_0}{\\omega_n^2-\\omega^2}\\,\\, \\sin\\left(\\left(\\omega_n-\\omega\\right)\\frac{t}{2}\\right)\\sin\\left(\\left(\\omega_n+\\omega\\right)\\frac{t}{2}\\right)$\n",
    "\n",
    "Use $f_0=12\\text{ N/kg}$, $\\omega_n=10\\text{ rad/s}$, and $\\omega=12\\text{ rad/s}$ in order to plot $x(t)$ as a function of $t$ for $0\\leq t \\leq 10\\text{ s}$ with $500$ values for $t$.\n",
    "\n",
    "Use the following steps:\n",
    "\n",
    "1. Define a function called **`xfunc(t, f_0, w_n, w)`** using the above information\n",
    "2. Create a list of times **`t`** using **`frange()`**\n",
    "3. Use list comprehension along with **`xfunc()`** and **`t`** to create the list **`x`**\n",
    "4. Create an $x,y$ plot with **`t`** as the $x$-value and **`x`** as the $y$-value"
   ]
  },
  {
   "cell_type": "code",
   "execution_count": null,
   "metadata": {},
   "outputs": [],
   "source": []
  },
  {
   "cell_type": "code",
   "execution_count": null,
   "metadata": {},
   "outputs": [],
   "source": []
  },
  {
   "cell_type": "code",
   "execution_count": null,
   "metadata": {},
   "outputs": [],
   "source": []
  },
  {
   "cell_type": "code",
   "execution_count": null,
   "metadata": {},
   "outputs": [],
   "source": []
  },
  {
   "cell_type": "markdown",
   "metadata": {
    "deletable": false,
    "editable": false,
    "run_control": {
     "frozen": true
    }
   },
   "source": [
    "## A Cool Math Plot\n",
    "\n",
    "Execute the following code cell that uses **`if-elif-else`** statements and random values in a **`for`** loop to create the values for plotting [**Sierpinski's Triangle**](https://en.wikipedia.org/wiki/Sierpinski_triangle)."
   ]
  },
  {
   "cell_type": "code",
   "execution_count": null,
   "metadata": {
    "cocalc": {
     "outputs": {
      "0": {
       "name": "input",
       "opts": {
        "password": false,
        "prompt": "How many trials? "
       },
       "output_type": "stream",
       "value": "2000"
      }
     }
    }
   },
   "outputs": [],
   "source": [
    "# Sierpinski's Triangle\n",
    "import math\n",
    "from numpy.random import randint\n",
    "from matplotlib import pyplot as plt\n",
    "x = [0]\n",
    "y = [0]\n",
    "n = int(input(\"How many trials? \"))\n",
    "for k in range(1, n):\n",
    "    choice = randint(3)\n",
    "    if choice == 0:\n",
    "        x.append(0.5*x[-1])\n",
    "        y.append(0.5*y[-1])\n",
    "    elif choice == 1:\n",
    "        x.append(0.5*x[-1] + 0.25)\n",
    "        y.append(0.5*y[-1] + math.sqrt(3)/4)\n",
    "    else:\n",
    "        x.append(0.5*x[-1] + 0.5)\n",
    "        y.append(0.5*y[-1])\n",
    "\n",
    "fig, ax = plt.subplots(figsize=(6,6), dpi=150)\n",
    "ax.plot(x, y, 'g^')\n",
    "ax.set_title(\"Sierpinski's Triangle\")\n",
    "ax.axis('off')\n",
    "plt.show()"
   ]
  },
  {
   "cell_type": "markdown",
   "metadata": {
    "deletable": false,
    "editable": false
   },
   "source": [
    "<div class=exercise>\n",
    "\n",
    "## Na, Na, Na, Na, Na, Na, Na, Na, Na, Na, Na, Na, Na, Na, Na, ...\n",
    "</div>"
   ]
  },
  {
   "cell_type": "code",
   "execution_count": null,
   "metadata": {
    "deletable": false,
    "editable": false
   },
   "outputs": [],
   "source": [
    "fig, ax = plt.subplots(figsize=(8,6), dpi=120)\n",
    "\n",
    "x1 = frange(-8, 8, 200)\n",
    "y1 = [4*math.sqrt(-(x/8)**2 + 1) for x in x1]\n",
    "y2 = [-4*math.sqrt(-(x/8)**2 + 1) for x in x1]\n",
    "ax.fill_between(x1, y1, y2, color='gold')\n",
    "ax.plot(x1, y1, c='black', lw=3)\n",
    "ax.plot(x1, y2, c='black', lw=3)\n",
    "\n",
    "x3 = frange(-7, -3, 100)\n",
    "y3= [3*math.sqrt(-(x/7)**2 + 1) for x in x3]\n",
    "x4 = frange(3, 7, 100)\n",
    "y4 = [3*math.sqrt(-(x/7)**2 + 1) for x in x4]\n",
    "ax.fill_between(x3, y3, y2=0, color='black')\n",
    "ax.fill_between(x4, y4, y2=0, color='black')\n",
    "\n",
    "x5 = frange(-7, -4, 100)\n",
    "y5 = [-3*math.sqrt(-(x/7)**2 + 1) for x in x5]\n",
    "x6 = frange(4, 7, 100)\n",
    "y6 = [-3*math.sqrt(-(x/7)**2 + 1) for x in x6]\n",
    "ax.fill_between(x5, y5, y2=0, color='black')\n",
    "ax.fill_between(x6, y6, y2=0, color='black')\n",
    "\n",
    "x7 = frange(-4, 4, 200)\n",
    "y7 = [abs(x/2) - (3*math.sqrt(33) - 7)/112*x**2 + math.sqrt(1 - (abs(abs(x) - 2) - 1)**2) - 3 for x in x7]\n",
    "ax.fill_between(x7, y7, y2=0, color='black')\n",
    "\n",
    "x8 = frange(-1, -0.75, 10)\n",
    "x9 = frange(0.75, 1, 10)\n",
    "y8 = [9 - 8*abs(x) for x in x8]\n",
    "y9 = [9 - 8*abs(x) for x in x9]\n",
    "ax.fill_between(x8, y8, y2=0, color='black')\n",
    "ax.fill_between(x9, y9, y2=0, color='black')\n",
    "\n",
    "x10 = frange(-0.75, -0.5, 10)\n",
    "x10.extend(frange(0.5, 0.75, 10))\n",
    "y10 = [0.75 + 3*abs(x) for x in x10]\n",
    "ax.fill_between(x10, y10, y2=0, color='black')\n",
    "\n",
    "x11 = frange(-3, -1, 100)\n",
    "y11 = [1.5 + 0.5*x - 6*math.sqrt(10)/14*(math.sqrt(3 - x**2 - 2*x) - 2) for x in x11]\n",
    "x12 = frange(1, 3, 100)\n",
    "y12 = [1.5 - 0.5*x - 6*math.sqrt(10)/14*(math.sqrt(3 - x**2 + 2*x) - 2) for x in x12]\n",
    "ax.fill_between(x11, y11, y2=0, color='black')\n",
    "ax.fill_between(x12, y12, y2=0, color='black')\n",
    "\n",
    "ax.axis([-9, 9, -5, 5])\n",
    "ax.tick_params(axis='both', which='both', bottom=False, left=False, labelbottom=False, labelleft=False)\n",
    "ax.set_facecolor('black')\n",
    "\n",
    "plt.show()"
   ]
  },
  {
   "cell_type": "markdown",
   "metadata": {
    "deletable": false,
    "run_control": {
     "frozen": true
    }
   },
   "source": [
    "___\n",
    "**Wrap it up**\n",
    "\n",
    "Click on the **Save** button and then the **Close and halt** button when you are done before closing the tab."
   ]
  }
 ],
 "metadata": {
  "kernelspec": {
   "display_name": "Python 3",
   "language": "python",
   "name": "python3"
  },
  "language_info": {
   "codemirror_mode": {
    "name": "ipython",
    "version": 3
   },
   "file_extension": ".py",
   "mimetype": "text/x-python",
   "name": "python",
   "nbconvert_exporter": "python",
   "pygments_lexer": "ipython3",
   "version": "3.9.0"
  },
  "varInspector": {
   "cols": {
    "lenName": 16,
    "lenType": 16,
    "lenVar": 40
   },
   "kernels_config": {
    "python": {
     "delete_cmd_postfix": "",
     "delete_cmd_prefix": "del ",
     "library": "var_list.py",
     "varRefreshCmd": "print(var_dic_list())"
    },
    "r": {
     "delete_cmd_postfix": ") ",
     "delete_cmd_prefix": "rm(",
     "library": "var_list.r",
     "varRefreshCmd": "cat(var_dic_list()) "
    }
   },
   "types_to_exclude": [
    "module",
    "function",
    "builtin_function_or_method",
    "instance",
    "_Feature"
   ],
   "window_display": false
  }
 },
 "nbformat": 4,
 "nbformat_minor": 4
}
