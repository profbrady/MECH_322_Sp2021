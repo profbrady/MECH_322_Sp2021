{
 "cells": [
  {
   "cell_type": "markdown",
   "metadata": {
    "deletable": false,
    "run_control": {
     "frozen": true
    }
   },
   "source": [
    "# Lecture 3 - Python Strings\n",
    "___\n",
    "___"
   ]
  },
  {
   "cell_type": "markdown",
   "metadata": {
    "deletable": false,
    "run_control": {
     "frozen": true
    }
   },
   "source": [
    "## Purpose\n",
    "\n",
    "- Create strings\n",
    "- Access individual characters in strings\n",
    "- Access portions of strings, AKA string slicing\n",
    "- Learn about string methods\n",
    "- Use select string modification methods\n",
    "- Use select string methods for counting, finding, and replacing parts of strings"
   ]
  },
  {
   "cell_type": "markdown",
   "metadata": {
    "deletable": false,
    "editable": false,
    "run_control": {
     "frozen": true
    }
   },
   "source": [
    "## Some Creative Commons Reference Sources for This Material\n",
    "\n",
    "- *Think Python 2nd Edition*, Allen Downey, chapter 8\n",
    "- *The Coder's Apprentice*, Pieter Spronck, chapter 10\n",
    "- *A Practical Introduction to Python Programming*, Brian Heinold, chapter 6\n",
    "- *Algorithmic Problem Solving with Python*, John Schneider, Shira Broschat, and Jess Dahmen, chapter 9"
   ]
  },
  {
   "cell_type": "markdown",
   "metadata": {
    "deletable": false,
    "editable": false,
    "run_control": {
     "frozen": true
    }
   },
   "source": [
    "## Creating Strings\n",
    "\n",
    "- Objects that contain alphabetic text characters are called **strings**\n",
    "- Strings can be as short as single character\n",
    "- Strings do not have to contain just letters \n",
    "- They can contain nearly any character (including Unicode characters like emoticons)\n",
    "- Strings are defined by surrounding the text with a set of single or double quotes\n",
    "- For example, **`'parrot'`** and **`\"Lumberjack\"`**\n",
    "\n",
    "\n",
    "**Including apostrophes and/or a set of quotes within strings**\n",
    "- Use an **escape sequence**\n",
    "  - **`\\'`** to include an apostrophe in a single quoted string, i.e. **`'isn\\'t'`**\n",
    "  - **`\\\"`** to include double quotes in a double quoted string, i.e. **`\"\\\"hello\\\"\"`**\n",
    "  - **`\\\\`** to include an actual back slash character\n",
    "- Use double quotes for strings with apostrophes in them, i.e. **`\"can't\"`**\n",
    "- Use single quotes for strings with double quotes in them, i.e. **`'She said \"hello.\"'`**\n",
    "- Enclose the string between three sets of single or double quotes, i.e. **`\"\"\"\"It's only a flesh wound,\" he declared\"\"\"`**\n",
    "- Three sets of single or double quotes can also be used to wrap multi-line quotes\n",
    "\n",
    "```\n",
    "\"\"\"Hello there. This assignment\n",
    "is all about strings.\"\"\"\n",
    "```\n",
    "\n",
    "**String Length**\n",
    "- The **`len()`** function returns the number of characters in a string\n",
    "- **`len(\"Python\")`** will tell you that the string is 6 characters long"
   ]
  },
  {
   "cell_type": "markdown",
   "metadata": {
    "deletable": false,
    "editable": false,
    "run_control": {
     "frozen": true
    }
   },
   "source": [
    "___\n",
    "**Practice it**\n",
    "\n",
    "Create and assign each of the described strings to the provided variables in the following code cells. When each cell is executed the string will be displayed and/or printed.\n",
    "\n",
    "- Your first and last name using double quotes"
   ]
  },
  {
   "cell_type": "code",
   "execution_count": null,
   "metadata": {},
   "outputs": [],
   "source": [
    "name = \n",
    "name"
   ]
  },
  {
   "cell_type": "markdown",
   "metadata": {
    "deletable": false,
    "editable": false,
    "run_control": {
     "frozen": true
    }
   },
   "source": [
    "- **`Mechanical Engineering Technology`** using single quotes"
   ]
  },
  {
   "cell_type": "code",
   "execution_count": null,
   "metadata": {},
   "outputs": [],
   "source": [
    "MET = \n",
    "MET"
   ]
  },
  {
   "cell_type": "markdown",
   "metadata": {
    "deletable": false,
    "editable": false,
    "run_control": {
     "frozen": true
    }
   },
   "source": [
    "- A string with just numeric values"
   ]
  },
  {
   "cell_type": "code",
   "execution_count": null,
   "metadata": {},
   "outputs": [],
   "source": [
    "just_numbers = \n",
    "just_numbers"
   ]
  },
  {
   "cell_type": "markdown",
   "metadata": {
    "deletable": false,
    "editable": false,
    "run_control": {
     "frozen": true
    }
   },
   "source": [
    "- A string with letters, numbers, and other special characters"
   ]
  },
  {
   "cell_type": "code",
   "execution_count": null,
   "metadata": {},
   "outputs": [],
   "source": [
    "letters_nos_chars = \n",
    "letters_nos_chars"
   ]
  },
  {
   "cell_type": "markdown",
   "metadata": {
    "deletable": false,
    "editable": false,
    "run_control": {
     "frozen": true
    }
   },
   "source": [
    "- A word with an apostrophe"
   ]
  },
  {
   "cell_type": "code",
   "execution_count": null,
   "metadata": {},
   "outputs": [],
   "source": [
    "apostrophe = \n",
    "apostrophe"
   ]
  },
  {
   "cell_type": "markdown",
   "metadata": {
    "deletable": false,
    "editable": false,
    "run_control": {
     "frozen": true
    }
   },
   "source": [
    "- A short phrase with double quotes"
   ]
  },
  {
   "cell_type": "code",
   "execution_count": null,
   "metadata": {},
   "outputs": [],
   "source": [
    "short_phrase_double = \n",
    "short_phrase_double"
   ]
  },
  {
   "cell_type": "markdown",
   "metadata": {
    "deletable": false,
    "editable": false,
    "run_control": {
     "frozen": true
    }
   },
   "source": [
    "- A sentence that contains an apostrophe and double quotes"
   ]
  },
  {
   "cell_type": "code",
   "execution_count": null,
   "metadata": {},
   "outputs": [],
   "source": [
    "sentence_apost_double = \n",
    "print(sentence_apost_double)\n",
    "sentence_apost_double"
   ]
  },
  {
   "cell_type": "markdown",
   "metadata": {
    "deletable": false,
    "editable": false,
    "run_control": {
     "frozen": true
    }
   },
   "source": [
    "- A string that spans three lines"
   ]
  },
  {
   "cell_type": "code",
   "execution_count": null,
   "metadata": {},
   "outputs": [],
   "source": [
    "three_liner = \n",
    "print(three_liner)\n",
    "three_liner"
   ]
  },
  {
   "cell_type": "markdown",
   "metadata": {
    "deletable": false,
    "editable": false,
    "run_control": {
     "frozen": true
    }
   },
   "source": [
    "- A two word string that has a line return between the words"
   ]
  },
  {
   "cell_type": "code",
   "execution_count": null,
   "metadata": {},
   "outputs": [],
   "source": [
    "two_words_newline = \n",
    "print(two_words_newline)\n",
    "two_words_newline"
   ]
  },
  {
   "cell_type": "markdown",
   "metadata": {
    "deletable": false,
    "editable": false,
    "run_control": {
     "frozen": true
    }
   },
   "source": [
    "- A three word string that has two tabs between each word"
   ]
  },
  {
   "cell_type": "code",
   "execution_count": null,
   "metadata": {},
   "outputs": [],
   "source": [
    "three_words_2_tabs_between = \n",
    "print(three_words_2_tabs_between)"
   ]
  },
  {
   "cell_type": "markdown",
   "metadata": {
    "deletable": false,
    "editable": false,
    "run_control": {
     "frozen": true
    }
   },
   "source": [
    "___\n",
    "**Practice it**\n",
    "\n",
    "Define the string **`Nobody expects the Spanish Inquisition!`** and assign it to the name **`funny_quote`** then find out how many characters it contains. Do this using two expressions in the same code cell."
   ]
  },
  {
   "cell_type": "code",
   "execution_count": null,
   "metadata": {},
   "outputs": [],
   "source": []
  },
  {
   "cell_type": "markdown",
   "metadata": {
    "deletable": false,
    "editable": false,
    "run_control": {
     "frozen": true
    }
   },
   "source": [
    "___\n",
    "**Practice it**\n",
    "\n",
    "Create a string that contains the Unicode characters for a smiling emoticon **`'\\U0001F600'`** and assign it to the variable name **`smiley`** then print the variable."
   ]
  },
  {
   "cell_type": "code",
   "execution_count": 1,
   "metadata": {},
   "outputs": [],
   "source": []
  },
  {
   "cell_type": "markdown",
   "metadata": {
    "deletable": false,
    "editable": false,
    "run_control": {
     "frozen": true
    }
   },
   "source": [
    "## Accessing Individual String Characters\n",
    "\n",
    "- Strings are lists of characters grouped together but treated as one object\n",
    "- Access specific characters in strings based on their position in the string\n",
    "- All counting in *Python* starts with zero, not one\n",
    "- **`\"H\"`** in **`\"Hello\"`** is in the zeroth position (also called the zeroth index)\n",
    "- Access the zeroth character using **`\"Hello\"[0]`**\n",
    "- Access the first **`l`** using **`\"Hello\"[2]`**\n",
    "- This process is referred to as **string indexing**\n",
    "- The last item in **`my_string`** can be accessed using **`my_string[len(my_string)-1]`**"
   ]
  },
  {
   "cell_type": "markdown",
   "metadata": {
    "deletable": false,
    "editable": false,
    "run_control": {
     "frozen": true
    }
   },
   "source": [
    "___\n",
    "**Practice it**\n",
    "\n",
    "Use string indexing to access each of the following characters from **`funny_quote`**. Print the string using the provided expression first.\n",
    "\n",
    "1. The capital **\"S\"** from the word **\"Spanish\"**\n",
    "1. The exclamation mark at the end using the **`len()`** function\n",
    "1. The letter **\"x\"**\n",
    "1. The letter **\"q\"**"
   ]
  },
  {
   "cell_type": "code",
   "execution_count": null,
   "metadata": {},
   "outputs": [],
   "source": [
    "print(funny_quote)"
   ]
  },
  {
   "cell_type": "code",
   "execution_count": null,
   "metadata": {},
   "outputs": [],
   "source": []
  },
  {
   "cell_type": "code",
   "execution_count": null,
   "metadata": {},
   "outputs": [],
   "source": []
  },
  {
   "cell_type": "code",
   "execution_count": null,
   "metadata": {},
   "outputs": [],
   "source": []
  },
  {
   "cell_type": "code",
   "execution_count": null,
   "metadata": {},
   "outputs": [],
   "source": []
  },
  {
   "cell_type": "markdown",
   "metadata": {
    "deletable": false,
    "editable": false,
    "run_control": {
     "frozen": true
    }
   },
   "source": [
    "The following function, **`string_ruler(message)`**, was created to check the index positions of any letter or character in a string 100 characters long or less. Try it out by calling this function with **`funny_quote`** as an argument. Don't worry how it works at this point in time. Just use it if you need it."
   ]
  },
  {
   "cell_type": "code",
   "execution_count": null,
   "metadata": {
    "deletable": false,
    "editable": false
   },
   "outputs": [],
   "source": [
    "def string_ruler(message):\n",
    "    new_message = spacer = '|'\n",
    "    left_index_top = '|'\n",
    "    left_index_bottom = '|'\n",
    "    for i, letter in enumerate(message):\n",
    "        new_message += letter + '|'\n",
    "        spacer += ' |'\n",
    "        if i > 9:\n",
    "            left_index_bottom += str(i%10) + '|'\n",
    "            left_index_top += str(i//10) + '|'\n",
    "        else:\n",
    "            left_index_bottom += str(i) + '|'\n",
    "            left_index_top += ' |'\n",
    "    print('string: {}'.format(new_message))\n",
    "    print('        {}'.format(spacer))\n",
    "    print('  left  {}'.format(left_index_top))\n",
    "    print(' index: {}'.format(left_index_bottom))\n"
   ]
  },
  {
   "cell_type": "code",
   "execution_count": null,
   "metadata": {},
   "outputs": [],
   "source": []
  },
  {
   "cell_type": "markdown",
   "metadata": {
    "deletable": false,
    "editable": false,
    "run_control": {
     "frozen": true
    }
   },
   "source": [
    "- Can also index strings from the right end instead of the left\n",
    "- First character from the left is accessed with the index **`[0]`**\n",
    "- The last character can be indexed directly using **`[-1]`**\n",
    "- The negative sign says to count from the right end of the string\n",
    "- Indexing from the right starts with **`-1`** not **`-0`**, because...\n",
    "  - **`-0`** is the same as **`0`** mathematically \n",
    "  - Using **`-0`** could cause confusion\n",
    "\n",
    "\n",
    "```\n",
    "| 0 | 1 | 2 | 3 | 4 | <-- Indexing from the left\n",
    "|   |   |   |   |   |\n",
    "| H | e | l | l | o | <-- String characters \"Hello\"\n",
    "|   |   |   |   |   |\n",
    "|-5 |-4 |-3 |-2 |-1 | <-- Indexing from the right\n",
    "```"
   ]
  },
  {
   "cell_type": "markdown",
   "metadata": {
    "deletable": false,
    "editable": false,
    "run_control": {
     "frozen": true
    }
   },
   "source": [
    "___\n",
    "**Practice it**\n",
    "\n",
    "Use indexing from the **right** to access each of the following characters from **`funny_quote`**. Print the string first using the provided expression.\n",
    "\n",
    "1. The capital **\"S\"** from the word **\"Spanish\"**\n",
    "1. The exclamation mark at the end\n",
    "1. The letter **\"x\"**\n",
    "1. The letter **\"q\"**\n",
    "1. The first letter on the left using the **`len()`** function (think about this for a second)"
   ]
  },
  {
   "cell_type": "code",
   "execution_count": null,
   "metadata": {},
   "outputs": [],
   "source": [
    "print(funny_quote)"
   ]
  },
  {
   "cell_type": "code",
   "execution_count": null,
   "metadata": {},
   "outputs": [],
   "source": []
  },
  {
   "cell_type": "code",
   "execution_count": null,
   "metadata": {},
   "outputs": [],
   "source": []
  },
  {
   "cell_type": "code",
   "execution_count": null,
   "metadata": {},
   "outputs": [],
   "source": []
  },
  {
   "cell_type": "code",
   "execution_count": null,
   "metadata": {},
   "outputs": [],
   "source": []
  },
  {
   "cell_type": "code",
   "execution_count": null,
   "metadata": {},
   "outputs": [],
   "source": []
  },
  {
   "cell_type": "markdown",
   "metadata": {
    "deletable": false,
    "editable": false,
    "run_control": {
     "frozen": true
    }
   },
   "source": [
    "## Accessing Portions of Strings, AKA Slicing\n",
    "\n",
    "- Can access part of a string (a sub-string) in addition to single characters\n",
    "- Called **slicing**\n",
    "- Place square brackets after a string or variable with start, stop, and step values separated by colons\n",
    "- Slice includes the character at the start index\n",
    "- Slice ends one character before the end argument\n",
    "- All three of the slice arguments are optional\n",
    "  - If no step argument, it is assumed to be **`1`**\n",
    "  - If no start argument, it is assume to be...\n",
    "    - **`0`** for positive steps\n",
    "    - Last character for negative steps\n",
    "  - If no end argument, the last character included is assumed to be...\n",
    "    - Last character of the string for positive steps \n",
    "    - First character for negative steps\n",
    "- The diagram below describes how slice numbering works\n",
    "- Slices happen between characters\n",
    "- Examples\n",
    "  - **`my_string[0:3]`** and **`my_string[:3]`** and **`my_string[0:3:1]`** are the same\n",
    "  - **`my_string[0:]`** and **`my_string[0::1]`** and **`my_string[:]`**\n",
    "  - **`Hello[0:3]`** would slice out **`\"Hel\"`** \n",
    "  - **`Hello[2:]`** would slice out **`\"llo\"`**\n",
    "  - A slice argument of **`[:]`** will return a copy of the entire string\n",
    "\n",
    "```\n",
    " 0   1   2   3   4   5 <-- Slicing from the left; my_string[1:4] => 'ell'\n",
    " |   |   |   |   |   |\n",
    " | H | e | l | l | o | <-- String characters \"Hello\"\n",
    " |   |   |   |   |   |\n",
    "-5  -4  -3  -2  -1   | <-- Slicing from the right with a positive step; my_string[-4:-1] => 'ell'\n",
    " |   |   |   |   |   |\n",
    "-6  -5  -4  -3  -2  -1 <-- Slicing from the right with a negative step; my_string[-1:-5:-1] => 'olle'\n",
    "```"
   ]
  },
  {
   "cell_type": "markdown",
   "metadata": {
    "deletable": false,
    "editable": false,
    "run_control": {
     "frozen": true
    }
   },
   "source": [
    "___\n",
    "**Practice it**\n",
    "\n",
    "Slice the following sub-strings from our string **`funny_quote`**. Print the string first to make it easier.\n",
    "\n",
    "1. The first 6 characters\n",
    "2. The last 12 characters\n",
    "3. Every other character from the left to the right\n",
    "4. The entire string written backwards (think for a second)\n",
    "5. From 19 to 26"
   ]
  },
  {
   "cell_type": "code",
   "execution_count": null,
   "metadata": {},
   "outputs": [],
   "source": [
    "print(funny_string)"
   ]
  },
  {
   "cell_type": "code",
   "execution_count": null,
   "metadata": {},
   "outputs": [],
   "source": []
  },
  {
   "cell_type": "code",
   "execution_count": null,
   "metadata": {},
   "outputs": [],
   "source": []
  },
  {
   "cell_type": "code",
   "execution_count": null,
   "metadata": {},
   "outputs": [],
   "source": []
  },
  {
   "cell_type": "code",
   "execution_count": null,
   "metadata": {},
   "outputs": [],
   "source": []
  },
  {
   "cell_type": "code",
   "execution_count": null,
   "metadata": {},
   "outputs": [],
   "source": []
  },
  {
   "cell_type": "markdown",
   "metadata": {
    "deletable": false,
    "editable": false,
    "run_control": {
     "frozen": true
    }
   },
   "source": [
    "## String Methods\n",
    "\n",
    "- *Python* has a number of **methods** that can act on or with strings. \n",
    "- Use **`x.my_method()`** for a method called **`my_method()`** working with **`x`**\n",
    "- Execute the following code cell to see a list of string methods, functions, and operations\n",
    "- The methods are the items without leading and trailing underscores\n",
    "- Can also use **`print(dir(str))`** to list the methods"
   ]
  },
  {
   "cell_type": "code",
   "execution_count": null,
   "metadata": {
    "deletable": false,
    "editable": false
   },
   "outputs": [],
   "source": [
    "my_string = \"Hello, World!\"\n",
    "print(dir(my_string))"
   ]
  },
  {
   "cell_type": "code",
   "execution_count": null,
   "metadata": {
    "deletable": false,
    "editable": false
   },
   "outputs": [],
   "source": [
    "print(dir(str))"
   ]
  },
  {
   "cell_type": "markdown",
   "metadata": {},
   "source": [
    "Even better, use the following for a cleaner looking list of methods. This technique uses list comprehension that we have not covered yet, so don't worry about how the command is constructed."
   ]
  },
  {
   "cell_type": "code",
   "execution_count": null,
   "metadata": {},
   "outputs": [],
   "source": [
    "print([x for x in dir(str) if \"_\" not in x])"
   ]
  },
  {
   "cell_type": "markdown",
   "metadata": {
    "deletable": false,
    "editable": false,
    "run_control": {
     "frozen": true
    }
   },
   "source": [
    "Don't worry, we won't dig into all of these methods, just some of them. Specifically, we'll investigate methods related to modifiying strings and methods used for counting, searching, and replacing parts of strings."
   ]
  },
  {
   "cell_type": "markdown",
   "metadata": {
    "deletable": false,
    "editable": false,
    "run_control": {
     "frozen": true
    }
   },
   "source": [
    "### Methods for Modifying Strings\n",
    "\n",
    "#### Immutability of Strings\n",
    "- *Python* strings are **immutable**\n",
    "- Cannot be changed (mutated or modified) after they are created\n",
    "- To \"modify\" a string, you need to create a copy that has your desired changes\n",
    "- This is what happens with the methods that \"modify\" strings\n",
    "- Original string is unchanged and a new string is created with the modifications\n",
    "- \"Replace\" the original by assigning the new string to the original variable name\n",
    "\n",
    "#### List of String Modifying Methods\n",
    "- First five of the six methods are associated with changing the case\n",
    "- Their names essentially describe what they do\n",
    "  - **`.lower()`**\n",
    "  - **`.upper()`**\n",
    "  - **`.title()`**\n",
    "  - **`.swapcase()`**\n",
    "  - **`.capitalize()`**\n",
    "- Only one method accepts an argument\n",
    "  - **`.center(x)`**\n",
    "  - Argument is the length of the new string in which the original string will be centered\n",
    "- Get help on any string method using **`help(str.method_name)`**, i.e. **`help(str.center)`\n",
    "\n",
    "\n"
   ]
  },
  {
   "cell_type": "markdown",
   "metadata": {
    "deletable": false,
    "editable": false,
    "run_control": {
     "frozen": true
    }
   },
   "source": [
    "___\n",
    "**Practice it**\n",
    "\n",
    "Use each of the above string modification methods on **`funny_quote`** in the following code cells. For the **`.center()`** method, request a new length that is the original length + 12 (use the **`len()`** function to do this). After using all of the methods, print the string name to see what it looks like."
   ]
  },
  {
   "cell_type": "code",
   "execution_count": null,
   "metadata": {},
   "outputs": [],
   "source": [
    " # All lowercase letters\n",
    "funny_quote"
   ]
  },
  {
   "cell_type": "code",
   "execution_count": null,
   "metadata": {},
   "outputs": [],
   "source": [
    "# All uppercase letters\n",
    "funny_quote"
   ]
  },
  {
   "cell_type": "code",
   "execution_count": null,
   "metadata": {},
   "outputs": [],
   "source": [
    "# First letter of first word only is capitalized\n",
    "funny_quote"
   ]
  },
  {
   "cell_type": "code",
   "execution_count": null,
   "metadata": {},
   "outputs": [],
   "source": [
    "# Swap upper and lowercase in string\n",
    "funny_quote"
   ]
  },
  {
   "cell_type": "code",
   "execution_count": null,
   "metadata": {},
   "outputs": [],
   "source": [
    "# Uppercase first letter in each word\n",
    "funny_quote"
   ]
  },
  {
   "cell_type": "code",
   "execution_count": null,
   "metadata": {},
   "outputs": [],
   "source": [
    "# Center string, use string length + 12 characters\n",
    "funny_quote"
   ]
  },
  {
   "cell_type": "code",
   "execution_count": null,
   "metadata": {},
   "outputs": [],
   "source": [
    "# use this cell to re-print the original string name\n"
   ]
  },
  {
   "cell_type": "markdown",
   "metadata": {
    "deletable": false,
    "editable": false,
    "run_control": {
     "frozen": true
    }
   },
   "source": [
    "### Methods for Counting, Searching, and Replacing\n",
    "\n",
    "- **`.count()`**\n",
    "  - Count the number of times that a specific character or sub-string appears in a larger string\n",
    "  - Requires at least one argument, the sub-string that you want counted (with enclosing quotes)\n",
    "  - Can also include two optional arguments\n",
    "    - Where to start the count \n",
    "    - Where to end the count\n",
    "  - Examples\n",
    "    - **`my_string.count(\"a\")`** returns the number of times **`\"a\"`** occurs in **`my_string`**\n",
    "    - **`my_string.count(\"a\", 2, 7)`** counts starting at index 2 and ends just before index 7\n",
    "    - **`my_string.count(\"a\", 4)`** counts from the 4th index to the end\n",
    "    - You cannot just specify an ending index\n",
    "- **`.find()`** \n",
    "  - Look for a search string within a target string; **`target_string.find(search_string)`**\n",
    "  - If found, it returns the index from the target matching the search string's starting position\n",
    "  - If not found, it returns a **`-1`** \n",
    "  - If the search string occurs more than once, only the position of the first occurrence will be returned\n",
    "  - Accepts optional starting and ending arguments\n",
    "  - Examples\n",
    "    - **`my_string.find(\"the\")`** returns the index of the first occurrence of **`\"the\"`**\n",
    "- **`.replace()`** \n",
    "  - Replace all occurrences of a search string with a new string within a target string\n",
    "  - Two required and one optional argument\n",
    "    - Search string \n",
    "    - New string\n",
    "    - Optional argument is the number of occurrences to replace\n",
    "    - Examples\n",
    "      - **`my_string.replace('I', 'you', 2)`** replaces the first 2 occurrences of **`'I'`** with **`'you'`**\n",
    "- The original string is not changed using any of these methods\n",
    "  - For example, use **`my_string = my_string.replace('I', 'you', 2)`** to replace the original string"
   ]
  },
  {
   "cell_type": "markdown",
   "metadata": {
    "deletable": false,
    "editable": false,
    "run_control": {
     "frozen": true
    }
   },
   "source": [
    "___\n",
    "**Practice it**\n",
    "\n",
    "Using `funny_quote`, perform the following tasks.\n",
    "\n",
    "1. Find out how many times **`\"e\"`** appears in the entire string\n",
    "1. Find the number of times **`\"is\"`** appears in the entire string\n",
    "1. Find the number of times **`\"o\"`** appears starting with position 15\n",
    "1. Find the starting location of the sub-string `\"the\"`\n",
    "1. Find the position of **`\"x\"`** starting at index position 10\n",
    "1. Replace **`\"Spanish\"`** with **`\"Ferris\"`**\n",
    "1. Replace all occurrences of **`\"i\"`** with **`\"I\"`**"
   ]
  },
  {
   "cell_type": "code",
   "execution_count": null,
   "metadata": {},
   "outputs": [],
   "source": [
    "# How many 'e's?\n",
    "funny_quote"
   ]
  },
  {
   "cell_type": "code",
   "execution_count": null,
   "metadata": {},
   "outputs": [],
   "source": [
    "# How many 'is' are there?\n",
    "funny_quote"
   ]
  },
  {
   "cell_type": "code",
   "execution_count": null,
   "metadata": {},
   "outputs": [],
   "source": [
    "# How many 'o's starting with 15\n",
    "funny_quote"
   ]
  },
  {
   "cell_type": "code",
   "execution_count": null,
   "metadata": {},
   "outputs": [],
   "source": [
    "# Location of the first 'the'\n",
    "funny_quote"
   ]
  },
  {
   "cell_type": "code",
   "execution_count": null,
   "metadata": {},
   "outputs": [],
   "source": [
    "# Position of 'x' starting with 10\n",
    "funny_quote"
   ]
  },
  {
   "cell_type": "code",
   "execution_count": null,
   "metadata": {},
   "outputs": [],
   "source": [
    "# Replace 'Spanish' with 'Ferris'\n",
    "funny_quote"
   ]
  },
  {
   "cell_type": "code",
   "execution_count": null,
   "metadata": {},
   "outputs": [],
   "source": [
    "# Replace all 'i' with 'I'\n",
    "funny_quote"
   ]
  },
  {
   "cell_type": "markdown",
   "metadata": {
    "deletable": false,
    "editable": false,
    "run_control": {
     "frozen": true
    }
   },
   "source": [
    "### The **`is`** String Methods\n",
    "\n",
    "- These methods ask a question of the string or portion of a string on which they act\n",
    "- For instance, **`my_string.isalpha()`**\n",
    "  - Asks if the entire string is composed of alphabetic characters only\n",
    "  - If it does, then the method returns **`True`**\n",
    "  - If not, the method returns **`False`**\n",
    "- Portions of strings can be used by slicing them.\n",
    "  - **`my_string[:3].islower()`** asks if the first three characters are all lower case\n",
    "- Partial list of the **`is`** string methods.\n",
    "  - **`.islower()`** checks if all characters are lowercase\n",
    "  - **`.isupper()`** checks if all characters are uppercase\n",
    "  - **`.isspace()`** checks if all characters are spaces\n",
    "  - **`.istitle()`** checks if each word starts with an uppercase letter and the rest are lowercase\n",
    "  - **`.isalpha()`** checks if all characters are alphabetic\n",
    "  - **`.isalnum()`** checks if all characters are either alphabetic or numeric\n",
    "  - **`.isnumeric()`** checks if all characters are numeric (0-9)"
   ]
  },
  {
   "cell_type": "markdown",
   "metadata": {
    "deletable": false,
    "editable": false,
    "run_control": {
     "frozen": true
    }
   },
   "source": [
    "___\n",
    "**Practice it**\n",
    "\n",
    "Test using the **`is`** methods on portions of **`funny_quote`** (parts 1 to 7) and on strings containing numeric values (parts 8 and 9)\n",
    "\n",
    "1. Is the slice from **`[0:6]`** upper case?\n",
    "1. Is the slice from **`[0:6]`** title case?\n",
    "1. Is the slice from **`[7:14]`** lower case?\n",
    "1. Is index position **`6`** a space?\n",
    "1. Is index position **`10`** a space?\n",
    "1. Is the slice from **`[0:6]`** alphabetic?\n",
    "1. Is the slice from **`[7:14]`** alpha-numeric?\n",
    "1. Is the string **`\"42\"`** numeric?\n",
    "1. Is the string **`\"42.0\"`** numeric?"
   ]
  },
  {
   "cell_type": "code",
   "execution_count": null,
   "metadata": {},
   "outputs": [],
   "source": [
    "# Is 0 to 6 uppercase?\n",
    "funny_quote"
   ]
  },
  {
   "cell_type": "code",
   "execution_count": null,
   "metadata": {},
   "outputs": [],
   "source": [
    "# Is 0 to 6 title case?\n",
    "funny_quote"
   ]
  },
  {
   "cell_type": "code",
   "execution_count": null,
   "metadata": {},
   "outputs": [],
   "source": [
    "# Is 7 to 14 lowercase?\n",
    "funny_quote"
   ]
  },
  {
   "cell_type": "code",
   "execution_count": null,
   "metadata": {},
   "outputs": [],
   "source": [
    "# Is index 6 a space?\n",
    "funny_quote"
   ]
  },
  {
   "cell_type": "code",
   "execution_count": null,
   "metadata": {},
   "outputs": [],
   "source": [
    "# Is index 10 a space?\n",
    "funny_quote"
   ]
  },
  {
   "cell_type": "code",
   "execution_count": null,
   "metadata": {},
   "outputs": [],
   "source": [
    "# Is 0 to 6 alphabetic?\n",
    "funny_quote"
   ]
  },
  {
   "cell_type": "code",
   "execution_count": null,
   "metadata": {},
   "outputs": [],
   "source": [
    "# Is 7 to 14 alpha-numeric?\n",
    "funny_quote"
   ]
  },
  {
   "cell_type": "code",
   "execution_count": null,
   "metadata": {},
   "outputs": [],
   "source": [
    "# Is the string '42' numeric?\n",
    "'42'"
   ]
  },
  {
   "cell_type": "code",
   "execution_count": null,
   "metadata": {},
   "outputs": [],
   "source": [
    "# Is the string '42.0' numeric?\n",
    "'42.0'"
   ]
  },
  {
   "cell_type": "markdown",
   "metadata": {
    "deletable": false,
    "editable": false,
    "run_control": {
     "frozen": true
    }
   },
   "source": [
    "___\n",
    "**Wrap it up**\n",
    "\n",
    "Assign the string **`\"My name is Brian\"`** to variable called **`name`** in the cell below this one and execute the cell. In the next cell, use the appropriate method to replace **`\"Brian\"`** with your first and last name and assign the new string back to **`name`**. In the last cell print **`name`**.\n",
    "\n",
    "Click on the **Save** button and then the **Close and halt** button when you are done before closing the tab."
   ]
  },
  {
   "cell_type": "code",
   "execution_count": null,
   "metadata": {},
   "outputs": [],
   "source": []
  },
  {
   "cell_type": "code",
   "execution_count": null,
   "metadata": {},
   "outputs": [],
   "source": []
  },
  {
   "cell_type": "code",
   "execution_count": null,
   "metadata": {},
   "outputs": [],
   "source": []
  }
 ],
 "metadata": {
  "kernelspec": {
   "display_name": "Python 3",
   "language": "python",
   "name": "python3"
  },
  "language_info": {
   "codemirror_mode": {
    "name": "ipython",
    "version": 3
   },
   "file_extension": ".py",
   "mimetype": "text/x-python",
   "name": "python",
   "nbconvert_exporter": "python",
   "pygments_lexer": "ipython3",
   "version": "3.8.5"
  },
  "varInspector": {
   "cols": {
    "lenName": 16,
    "lenType": 16,
    "lenVar": 40
   },
   "kernels_config": {
    "python": {
     "delete_cmd_postfix": "",
     "delete_cmd_prefix": "del ",
     "library": "var_list.py",
     "varRefreshCmd": "print(var_dic_list())"
    },
    "r": {
     "delete_cmd_postfix": ") ",
     "delete_cmd_prefix": "rm(",
     "library": "var_list.r",
     "varRefreshCmd": "cat(var_dic_list()) "
    }
   },
   "types_to_exclude": [
    "module",
    "function",
    "builtin_function_or_method",
    "instance",
    "_Feature"
   ],
   "window_display": false
  }
 },
 "nbformat": 4,
 "nbformat_minor": 4
}
