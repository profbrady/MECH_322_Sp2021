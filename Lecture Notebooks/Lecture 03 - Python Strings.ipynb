{
 "cells": [
  {
   "cell_type": "markdown",
   "metadata": {
    "deletable": false,
    "editable": false,
    "run_control": {
     "frozen": true
    }
   },
   "source": [
    "# Lecture 3 - Python Strings\n",
    "___"
   ]
  },
  {
   "cell_type": "code",
   "execution_count": null,
   "metadata": {},
   "outputs": [],
   "source": [
    "name = \"Your name here\"\n",
    "print(\"Name:\", name.upper())"
   ]
  },
  {
   "cell_type": "markdown",
   "metadata": {
    "deletable": false,
    "editable": false,
    "run_control": {
     "frozen": true
    }
   },
   "source": [
    "## Purpose\n",
    "\n",
    "- Create strings\n",
    "\n",
    "- Access individual characters in strings\n",
    "\n",
    "- Access portions of strings, AKA string slicing\n",
    "\n",
    "- Learn about string methods\n",
    "\n",
    "- Use select string modification methods\n",
    "\n",
    "- Use select string methods for counting, finding, and replacing parts of strings\n",
    "\n",
    "## Instructions\n",
    "\n",
    "1. Replace \"Your name here\" in the cell below the assignment title with your first and last names and then execute the cell using \"Shift-Enter\"\n",
    "2. Execute the time stamp cell \n",
    "3. Follow along with the instructor in class as we use *Python* to work with strings (text)\n",
    "4. Execute the date stamp cell at the end of the document and submitting your saved `.ipynb` file to *Canvas* for credit"
   ]
  },
  {
   "cell_type": "markdown",
   "metadata": {
    "deletable": false,
    "editable": false,
    "run_control": {
     "frozen": true
    }
   },
   "source": [
    "## Some Creative Commons Reference Sources for This Material\n",
    "\n",
    "- *Think Python 2nd Edition*, Allen Downey, chapter 8\n",
    "- *The Coder's Apprentice*, Pieter Spronck, chapter 10\n",
    "- *A Practical Introduction to Python Programming*, Brian Heinold, chapter 6\n",
    "- *Algorithmic Problem Solving with Python*, John Schneider, Shira Broschat, and Jess Dahmen, chapter 9"
   ]
  },
  {
   "cell_type": "code",
   "execution_count": null,
   "metadata": {
    "deletable": false,
    "editable": false
   },
   "outputs": [],
   "source": [
    "from datetime import datetime\n",
    "from pytz import timezone\n",
    "print(datetime.now(timezone('US/Eastern')))"
   ]
  },
  {
   "cell_type": "markdown",
   "metadata": {
    "deletable": false,
    "editable": false,
    "run_control": {
     "frozen": true
    }
   },
   "source": [
    "## Creating Strings\n",
    "\n",
    "In *Python* (like many other programming languages) objects that contain alphabetic text characters are called **strings**. Unlike some languages, *Python* allows strings to be as short as single character. Strings do not have to contain just letters either, they can contain nearly any character you can think of (including Unicode characters like emoticons). Strings are typically defined by surrounding the text with either a set of single or double quotes, but not a mix of both. For example, `'parrot'` and `\"Lumberjack\"` are proper string definitions.\n",
    "\n",
    "Sometimes you need to include a apostrophe and/or a set of quotes within a string. This can be done a few different ways. First, you can use what are called **escape sequences**. The backslash (`\\`) character is used as an escape sequence prefix. It is used just before specific characters in order to get specific results, usually in strings. For example, `\\n` is a newline escape sequence that forces a line return and `\\t` adds a tab to a string. If you need a backslash in a string, you need to use `\\\\` to get one. Using `\\'` or `\\\"` forces a single or double quote within a string. Therefore, creating a string using single quotes with an apostrophe can be accomplised like so; `'isn\\'t'`. Creating a string using double quotes that has quotation marks is done like this; `\"\\\"hello\\\"\"`.\n",
    "\n",
    "There is an easier way, however, to add apostrophes or quotes to strings than using escape characters. If you need an apostrophe, simply use double quotes to define the string and use a regular (not escaped) apostrophe, like this; `\"can't\"`. If a double quote is needed in a string, simply use single quotes to define the string; `'She said \"hello.\"'`.\n",
    "\n",
    "There is a third method that can be used if either or both an apostrophe or double quotation mark is needed in a string. You can enclose the entire string between three single or three double quotes, such as; `\"\"\"\"It's only a flesh wound,\" he declared\"\"\"`.\n",
    "\n",
    "Three single or three double quotes can also be used to wrap multiline quotes, even if they don't have apostrophes or quotes. The example below illustrates this.\n",
    "\n",
    "```\n",
    "\"\"\"Hello there. This assignment\n",
    "is all about strings.\"\"\"\n",
    "```\n",
    "\n",
    "You can find out how long a string is by using the `len()` function. For example, `len(\"Python\")` will tell you that the string is 6 characters long."
   ]
  },
  {
   "cell_type": "markdown",
   "metadata": {
    "deletable": false,
    "editable": false,
    "run_control": {
     "frozen": true
    }
   },
   "source": [
    ">**Practice it**\n",
    ">\n",
    ">Create and assign each of the described strings in the provided code cells. When the cell is executed the string will be displayed and/or printed.\n",
    ">\n",
    ">- Your first and last name using double quotes\n",
    "</div>"
   ]
  },
  {
   "cell_type": "code",
   "execution_count": null,
   "metadata": {},
   "outputs": [],
   "source": [
    "name = \n",
    "name"
   ]
  },
  {
   "cell_type": "markdown",
   "metadata": {
    "deletable": false,
    "editable": false,
    "run_control": {
     "frozen": true
    }
   },
   "source": [
    ">- \"Mechanical Engineering Technology\" using single quotes"
   ]
  },
  {
   "cell_type": "code",
   "execution_count": null,
   "metadata": {},
   "outputs": [],
   "source": [
    "MET = \n",
    "MET"
   ]
  },
  {
   "cell_type": "markdown",
   "metadata": {
    "deletable": false,
    "editable": false,
    "run_control": {
     "frozen": true
    }
   },
   "source": [
    ">- A string with just numeric values"
   ]
  },
  {
   "cell_type": "code",
   "execution_count": null,
   "metadata": {},
   "outputs": [],
   "source": [
    "just_numbers = \n",
    "just_numbers"
   ]
  },
  {
   "cell_type": "markdown",
   "metadata": {
    "deletable": false,
    "editable": false,
    "run_control": {
     "frozen": true
    }
   },
   "source": [
    ">- A string with letters, numbers, and other special characters"
   ]
  },
  {
   "cell_type": "code",
   "execution_count": null,
   "metadata": {},
   "outputs": [],
   "source": [
    "letters_nos_chars = \n",
    "letters_nos_chars"
   ]
  },
  {
   "cell_type": "markdown",
   "metadata": {
    "deletable": false,
    "editable": false,
    "run_control": {
     "frozen": true
    }
   },
   "source": [
    ">- A word with an apostrophe"
   ]
  },
  {
   "cell_type": "code",
   "execution_count": null,
   "metadata": {},
   "outputs": [],
   "source": [
    "apostrophe = \n",
    "apostrophe"
   ]
  },
  {
   "cell_type": "markdown",
   "metadata": {
    "deletable": false,
    "editable": false,
    "run_control": {
     "frozen": true
    }
   },
   "source": [
    ">- A short phrase with double quotes"
   ]
  },
  {
   "cell_type": "code",
   "execution_count": null,
   "metadata": {},
   "outputs": [],
   "source": [
    "short_phrase_double = \n",
    "short_phrase_double"
   ]
  },
  {
   "cell_type": "markdown",
   "metadata": {
    "deletable": false,
    "editable": false,
    "run_control": {
     "frozen": true
    }
   },
   "source": [
    ">- A sentence that contains an apostrophe and double quotes"
   ]
  },
  {
   "cell_type": "code",
   "execution_count": null,
   "metadata": {},
   "outputs": [],
   "source": [
    "sentence_apost_double = \n",
    "print(sentence_apost_double)\n",
    "sentence_apost_double"
   ]
  },
  {
   "cell_type": "markdown",
   "metadata": {
    "deletable": false,
    "editable": false,
    "run_control": {
     "frozen": true
    }
   },
   "source": [
    ">- A string that spans three lines"
   ]
  },
  {
   "cell_type": "code",
   "execution_count": null,
   "metadata": {},
   "outputs": [],
   "source": [
    "three_liner = \n",
    "print(three_liner)\n",
    "three_liner"
   ]
  },
  {
   "cell_type": "markdown",
   "metadata": {
    "deletable": false,
    "editable": false,
    "run_control": {
     "frozen": true
    }
   },
   "source": [
    ">- A two word string that has a line return between the words"
   ]
  },
  {
   "cell_type": "code",
   "execution_count": null,
   "metadata": {},
   "outputs": [],
   "source": [
    "two_words_newline = \n",
    "print(two_words_newline)\n",
    "two_words_newline"
   ]
  },
  {
   "cell_type": "markdown",
   "metadata": {
    "deletable": false,
    "editable": false,
    "run_control": {
     "frozen": true
    }
   },
   "source": [
    ">- A three word string that has two tabs between each word"
   ]
  },
  {
   "cell_type": "code",
   "execution_count": null,
   "metadata": {},
   "outputs": [],
   "source": [
    "three_words_2_tabs_between = \n",
    "print(three_words_2_tabs_between)"
   ]
  },
  {
   "cell_type": "markdown",
   "metadata": {
    "deletable": false,
    "editable": false,
    "run_control": {
     "frozen": true
    }
   },
   "source": [
    ">**Practice it**\n",
    ">\n",
    ">Define the string `\"Nobody expects the Spanish Inquisition!\"` and assign it to the name `funny_quote` then find out how many characters it contains. Do this using two expressions in the same code cell."
   ]
  },
  {
   "cell_type": "code",
   "execution_count": null,
   "metadata": {},
   "outputs": [],
   "source": []
  },
  {
   "cell_type": "markdown",
   "metadata": {
    "deletable": false,
    "editable": false,
    "run_control": {
     "frozen": true
    }
   },
   "source": [
    ">**Practice it**\n",
    ">\n",
    ">Create a string that contains the unicode characters for a smiling emoticon `'\\U0001F600'` and assign it to the variable name `smiley` then print the variable."
   ]
  },
  {
   "cell_type": "code",
   "execution_count": null,
   "metadata": {
    "scrolled": false
   },
   "outputs": [],
   "source": []
  },
  {
   "cell_type": "markdown",
   "metadata": {
    "deletable": false,
    "editable": false,
    "run_control": {
     "frozen": true
    }
   },
   "source": [
    "## Accessing Individual String Characters\n",
    "\n",
    "Strings are essentially lists of characters grouped together and treated as one object. *Python* lets us access specific characters within strings based on their position in the string. A very, very important concept to remember when working with *Python* is that all counting starts with zero, not one. For instance, the letter `\"H\"` in the string `\"Hello\"` is in the zeroth position (also called the zeroth index). To access the zeroth character of this string we use the expression `\"Hello\"[0]`. In fact, to access any specific character from a string place a set of square brackets after the string (or string name) with the desired position (index) within the brackets. This process is referred to as **string indexing**.\n",
    "\n",
    "Previously we learned that the length (number of characters) of a string can be found with the `len()` function. Since counting starts with zero, the index for the last character in a string of length 10 is actually 9; the string length minus 1. Therefore, the last item in a string named `my_string` can be accessed using `my_string[len(my_string)-1]`."
   ]
  },
  {
   "cell_type": "markdown",
   "metadata": {
    "deletable": false,
    "editable": false,
    "run_control": {
     "frozen": true
    }
   },
   "source": [
    ">**Practice it**\n",
    ">\n",
    ">Use string indexing to access each of the following characters from `funny_quote`. Print the string using the provided expression first.\n",
    ">\n",
    ">1. The capital **\"S\"** from the word **\"Spanish\"**\n",
    ">1. The exclamation mark at the end using the `len()` function\n",
    ">1. The letter **\"x\"**\n",
    ">1. The letter **\"q\"**"
   ]
  },
  {
   "cell_type": "code",
   "execution_count": null,
   "metadata": {},
   "outputs": [],
   "source": [
    "print(funny_quote)"
   ]
  },
  {
   "cell_type": "code",
   "execution_count": null,
   "metadata": {},
   "outputs": [],
   "source": []
  },
  {
   "cell_type": "code",
   "execution_count": null,
   "metadata": {},
   "outputs": [],
   "source": []
  },
  {
   "cell_type": "code",
   "execution_count": null,
   "metadata": {},
   "outputs": [],
   "source": []
  },
  {
   "cell_type": "code",
   "execution_count": null,
   "metadata": {},
   "outputs": [],
   "source": []
  },
  {
   "cell_type": "markdown",
   "metadata": {
    "deletable": false,
    "editable": false,
    "run_control": {
     "frozen": true
    }
   },
   "source": [
    ">The following function, `string_ruler(message)`, was created to check the index positions of any letter or character in a string 100 characters long or less. Try it out by calling it with `funny_quote`. Don't worry how it works at this point in time. Just use it if you need it."
   ]
  },
  {
   "cell_type": "code",
   "execution_count": null,
   "metadata": {
    "deletable": false,
    "editable": false
   },
   "outputs": [],
   "source": [
    "def string_ruler(message):\n",
    "    new_message = spacer = '|'\n",
    "    left_index_top = '|'\n",
    "    left_index_bottom = '|'\n",
    "    for i, letter in enumerate(message):\n",
    "        new_message += letter + '|'\n",
    "        spacer += ' |'\n",
    "        if i > 9:\n",
    "            left_index_bottom += str(i%10) + '|'\n",
    "            left_index_top += str(i//10) + '|'\n",
    "        else:\n",
    "            left_index_bottom += str(i) + '|'\n",
    "            left_index_top += ' |'\n",
    "    print('string: {}'.format(new_message))\n",
    "    print('        {}'.format(spacer))\n",
    "    print('  left  {}'.format(left_index_top))\n",
    "    print(' index: {}'.format(left_index_bottom))\n"
   ]
  },
  {
   "cell_type": "code",
   "execution_count": null,
   "metadata": {},
   "outputs": [],
   "source": []
  },
  {
   "cell_type": "markdown",
   "metadata": {
    "deletable": false,
    "editable": false,
    "run_control": {
     "frozen": true
    }
   },
   "source": [
    "*Python* also allows us to index a string from the right end instead of the left. Whereas the first character from the left of a string is accessed with the index `[0]`, the last character can be indexed directly by counting backwards. The index for the last character is `[-1]`. The negative sign tells *Python* that we want to count from the end (right) of the string. Indexing from the right starts with `-1` not `-0`, because `-0` is the same as `0` mathematically and using `-0` could cause confusion. The diagram below should help you remember.\n",
    "\n",
    "\n",
    "```\n",
    "| 0 | 1 | 2 | 3 | 4 | <-- Indexing from the left\n",
    "|   |   |   |   |   |\n",
    "| H | e | l | l | o | <-- String characters \"Hello\"\n",
    "|   |   |   |   |   |\n",
    "|-5 |-4 |-3 |-2 |-1 | <-- Indexing from the right\n",
    "```"
   ]
  },
  {
   "cell_type": "markdown",
   "metadata": {
    "deletable": false,
    "editable": false,
    "run_control": {
     "frozen": true
    }
   },
   "source": [
    ">**Practice it**\n",
    ">\n",
    ">Use indexing from the **right** to access each of the following characters from `funny_quote`. Print the string again using the provided expression.\n",
    ">\n",
    ">1. The capital **\"S\"** from the word **\"Spanish\"**\n",
    ">1. The exclamation mark at the end\n",
    ">1. The letter **\"x\"**\n",
    ">1. The letter **\"q\"**\n",
    ">1. The first letter on the left using the `len()` function (think about this for a second)"
   ]
  },
  {
   "cell_type": "code",
   "execution_count": null,
   "metadata": {},
   "outputs": [],
   "source": [
    "print(funny_quote)"
   ]
  },
  {
   "cell_type": "code",
   "execution_count": null,
   "metadata": {},
   "outputs": [],
   "source": []
  },
  {
   "cell_type": "code",
   "execution_count": null,
   "metadata": {},
   "outputs": [],
   "source": []
  },
  {
   "cell_type": "code",
   "execution_count": null,
   "metadata": {},
   "outputs": [],
   "source": []
  },
  {
   "cell_type": "code",
   "execution_count": null,
   "metadata": {},
   "outputs": [],
   "source": []
  },
  {
   "cell_type": "code",
   "execution_count": null,
   "metadata": {},
   "outputs": [],
   "source": []
  },
  {
   "cell_type": "markdown",
   "metadata": {
    "deletable": false,
    "editable": false,
    "run_control": {
     "frozen": true
    }
   },
   "source": [
    "## Accessing Portions of Strings, AKA Slicing\n",
    "\n",
    "*Python* allows for accessing part of a string (a sub-string) in addition to single characters. The act of doing this is referred to as **slicing**. In order to slice a string you place square brackets after the string or variable name with start, stop, and step values separated by colons inside the brackets. However, all three of the slice arguments are optional. If the step value is not used, it is assumed to be `1`. If the start argument is not used, it is assumed to be `0` for positive steps and the last character for negative steps. If the end argument is not used, it is assumed to be the last character for positive steps and the first character for negative steps.\n",
    "\n",
    "For example, you can use `my_string[0:3]` or `my_string[:3]` or `my_string[0:3:1]` to slice the string starting with the 0th index and ending just before the 3rd index. The diagram below describes how slice numbering works. Slices happen between characters, so the slice argument `[0:3]` would slice out `\"Hel\"` from the string `\"Hello\"`. A slice argument of `[:]` will return a copy of the entire string (think about it for a second). Slicing with `[2:]` would return `\"llo\"` from `\"Hello\"`.\n",
    "\n",
    "```\n",
    " 0   1   2   3   4   5 <-- Slicing from the left; my_string[1:4] => 'ell'\n",
    " |   |   |   |   |   |\n",
    " | H | e | l | l | o | <-- String characters \"Hello\"\n",
    " |   |   |   |   |   |\n",
    "-5  -4  -3  -2  -1   | <-- Slicing from the right with a positive step; my_string[-4:-1] => 'ell'\n",
    " |   |   |   |   |   |\n",
    "-6  -5  -4  -3  -2  -1 <-- Slicing from the right with a negative step; my_string[-1:-5:-1] => 'olle'\n",
    "```"
   ]
  },
  {
   "cell_type": "markdown",
   "metadata": {
    "deletable": false,
    "editable": false,
    "run_control": {
     "frozen": true
    }
   },
   "source": [
    ">**Practice it**\n",
    ">\n",
    ">Slice the following sub-strings from our string `funny_quote`. Print the string first to make it easier.\n",
    ">\n",
    ">1. The first 6 characters\n",
    ">2. The last 12 characters\n",
    ">3. Every other character from the left to the right\n",
    ">4. The entire string written backwards (think for a second)\n",
    ">5. From 19 to 26"
   ]
  },
  {
   "cell_type": "code",
   "execution_count": null,
   "metadata": {},
   "outputs": [],
   "source": [
    "print(funny_string)"
   ]
  },
  {
   "cell_type": "code",
   "execution_count": null,
   "metadata": {},
   "outputs": [],
   "source": []
  },
  {
   "cell_type": "code",
   "execution_count": null,
   "metadata": {},
   "outputs": [],
   "source": []
  },
  {
   "cell_type": "code",
   "execution_count": null,
   "metadata": {},
   "outputs": [],
   "source": []
  },
  {
   "cell_type": "code",
   "execution_count": null,
   "metadata": {},
   "outputs": [],
   "source": []
  },
  {
   "cell_type": "code",
   "execution_count": null,
   "metadata": {},
   "outputs": [],
   "source": []
  },
  {
   "cell_type": "markdown",
   "metadata": {
    "deletable": false,
    "editable": false,
    "run_control": {
     "frozen": true
    }
   },
   "source": [
    "## String Methods\n",
    "\n",
    "*Python* has a number of **methods** that can act on or with strings. Methods are similar to functions except that they are placed after an object or object name. For example, if there was a method called `my_method()` that works on an object named `x` we would type `x.my_method()` to use the method. *Python* methods act on or with the object located directly before the method and may include arguments within the parentheses after the method name. Execute the following code cell to see a list of string methods, functions, and operations. The methods are the items without leading and trailing underscores. Note: you can also use `print(dir(str))` to list the methods."
   ]
  },
  {
   "cell_type": "code",
   "execution_count": null,
   "metadata": {
    "deletable": false,
    "editable": false
   },
   "outputs": [],
   "source": [
    "my_string = \"Hello, World!\"\n",
    "print(dir(my_string))"
   ]
  },
  {
   "cell_type": "code",
   "execution_count": null,
   "metadata": {
    "deletable": false,
    "editable": false
   },
   "outputs": [],
   "source": [
    "print(dir(str))"
   ]
  },
  {
   "cell_type": "markdown",
   "metadata": {
    "deletable": false,
    "editable": false,
    "run_control": {
     "frozen": true
    }
   },
   "source": [
    "Don't worry, we won't dig into all of these, just some of them. Specifically, we'll investigate methods related to modifiying strings and methods used for counting, searching, and replacing parts of strings."
   ]
  },
  {
   "cell_type": "markdown",
   "metadata": {
    "deletable": false,
    "editable": false,
    "run_control": {
     "frozen": true
    }
   },
   "source": [
    "### Methods for Modifying Strings\n",
    "\n",
    "Strings in *Python* are considered to be **immutable**. This means that they cannot be changed (mutated or modified) they are created. If you want to \"modify\" a string, you need to create a copy that has your desired changes. This is essentially what happens with the methods that \"modify\" strings. The original string is left unchanged, but a new string is created with the modifications. This new string can \"replace\" the original by assigning the new string to the original variable name.\n",
    "\n",
    "The first five of the six methods we will look at are associated with changing the case of specific letters in a string. Following is the list of all six methods. Their names essentially describe what they do. Only the `.center()` method accepts an argument; it needs the length of the new string in which the original string will be centered. Get help on any string method using the expression `help(str.method_name)`, i.e. `help(str.center)` will return help for the `.center()` method.\n",
    "\n",
    "- `.lower()`\n",
    "- `.upper()`\n",
    "- `.title()`\n",
    "- `.swapcase()`\n",
    "- `.capitalize()`\n",
    "- `.center(x)`"
   ]
  },
  {
   "cell_type": "markdown",
   "metadata": {
    "deletable": false,
    "editable": false,
    "run_control": {
     "frozen": true
    }
   },
   "source": [
    ">**Practice it**\n",
    ">\n",
    ">Use each of the above string modification methods on `funny_quote` in the following code cells. For the `.center()` method, request a new length that is the original length + 12 (use the `len()` function to do this). After using all of the methods, print the string name to see what it looks like."
   ]
  },
  {
   "cell_type": "code",
   "execution_count": null,
   "metadata": {},
   "outputs": [],
   "source": [
    "funny_quote         # All lowercase letters"
   ]
  },
  {
   "cell_type": "code",
   "execution_count": null,
   "metadata": {},
   "outputs": [],
   "source": [
    "funny_quote         # All uppercase letters"
   ]
  },
  {
   "cell_type": "code",
   "execution_count": null,
   "metadata": {},
   "outputs": [],
   "source": [
    "funny_quote         # First letter of first word only is capitalized"
   ]
  },
  {
   "cell_type": "code",
   "execution_count": null,
   "metadata": {},
   "outputs": [],
   "source": [
    "funny_quote         # Swap upper and lowercase in string"
   ]
  },
  {
   "cell_type": "code",
   "execution_count": null,
   "metadata": {},
   "outputs": [],
   "source": [
    "funny_quote         # Uppercase first letter in each word"
   ]
  },
  {
   "cell_type": "code",
   "execution_count": null,
   "metadata": {},
   "outputs": [],
   "source": [
    "funny_quote         # Center string, use string length + 12 characters"
   ]
  },
  {
   "cell_type": "code",
   "execution_count": null,
   "metadata": {},
   "outputs": [],
   "source": [
    "# use this cell to re-print the original string name"
   ]
  },
  {
   "cell_type": "markdown",
   "metadata": {
    "deletable": false,
    "editable": false,
    "run_control": {
     "frozen": true
    }
   },
   "source": [
    "### Methods for Counting, Searching, and Replacing\n",
    "\n",
    "You can count the number of times that a specific character or sub-string appears in a larger string by using the `.count()` method. This method requires at least one argument, the sub-string that you want counted (don't forget the enclosing quotes). It can also include two optional arguments that indicate where to start and end the count in the original string. For instance, `my_string.count(\"a\")` will return the number of times `\"a\"` occurs in `my_string`. You can search starting from index position 2 and end just before index position 7 using `my_string.count(\"a\", 2, 7)`. Searching from the 4th index to the end is done with `my_string.count(\"a\", 4)`. You cannot just specify an ending index.\n",
    "\n",
    "The `.find()` method will look for a search string within a target string using the syntax `target_string.find(search_string)`. If the search string is found, the method  will return the index from the target string that matches the search string's starting position. If the search string is not found in the target string, then a `-1` will be returned. If the search string occurs more than once, only the position of the first occurrence will be returned. This method also accepts optional starting and ending arguments. The command `my_string.find(\"the\")` will return the index of the first occurrence of `\"the\"` in `my_string` (if found). The return value corresponds with the index position of the `\"t\"` in `\"the\"`.\n",
    "\n",
    "The `.replace()` method will replace all occurrences of a search string with a new string within a target string. The method requires two arguments; the search string and the new string. It can also take a third optional argument for the number of occurrences to replace instead of all occurrences. For example, `my_string.replace('I', 'you', 2)` will replace only the first 2 occurrences of `'I'` with `'you'`. Keep in mind that the original string is not changed. A copy of the original with the replacement(s) will be created and can be assigned to the original variable name or a new variable name, like so; `my_string = my_string.replace('I', 'you', 2)`."
   ]
  },
  {
   "cell_type": "markdown",
   "metadata": {
    "deletable": false,
    "editable": false,
    "run_control": {
     "frozen": true
    }
   },
   "source": [
    ">**Practice it**\n",
    ">\n",
    ">Using `funny_quote`, perform the following tasks.\n",
    ">\n",
    ">1. Find out how many times `\"e\"` appears in the entire string\n",
    ">1. Find the number of times `\"is\"` appears in the entire string\n",
    ">1. Find the number of times `\"o\"` appears starting with position 15\n",
    ">1. Find the starting location of the sub-string `\"the\"`\n",
    ">1. Find the position of `\"x\"` starting at index position 10\n",
    ">1. Replace `\"Spanish\"` with `\"Ferris\"`\n",
    ">1. Replace all occurrences of `\"i\"` with `\"I\"`"
   ]
  },
  {
   "cell_type": "code",
   "execution_count": null,
   "metadata": {},
   "outputs": [],
   "source": [
    "funny_quote       # How many 'e's?"
   ]
  },
  {
   "cell_type": "code",
   "execution_count": null,
   "metadata": {},
   "outputs": [],
   "source": [
    "funny_quote       # How many 'is' are there?"
   ]
  },
  {
   "cell_type": "code",
   "execution_count": null,
   "metadata": {},
   "outputs": [],
   "source": [
    "funny_quote       # How many 'o's starting with 15"
   ]
  },
  {
   "cell_type": "code",
   "execution_count": null,
   "metadata": {},
   "outputs": [],
   "source": [
    "funny_quote       # Location of the first 'the'"
   ]
  },
  {
   "cell_type": "code",
   "execution_count": null,
   "metadata": {},
   "outputs": [],
   "source": [
    "funny_quote       # Position of 'x' starting with 10"
   ]
  },
  {
   "cell_type": "code",
   "execution_count": null,
   "metadata": {},
   "outputs": [],
   "source": [
    "funny_quote       # Replace 'Spanish' with 'Ferris'"
   ]
  },
  {
   "cell_type": "code",
   "execution_count": null,
   "metadata": {},
   "outputs": [],
   "source": [
    "funny_quote       # Replace all 'i' with 'I'"
   ]
  },
  {
   "cell_type": "markdown",
   "metadata": {
    "deletable": false,
    "editable": false,
    "run_control": {
     "frozen": true
    }
   },
   "source": [
    "### Other String Methods\n",
    "\n",
    "If you look at the list of string methods that were found using `dir()` previously, you will see a number that start with `is`. All of these methods ask a question of the string or portion of a string on which they act. For instance, `my_string.isalpha()` asks if the entire string is composed of alphabetic characters only. If it does, then the method returns `True`. If not, `False` is returned. A portion of a string can be used by slicing it. For example, `my_string[:3].islower()` asks if the first three characters of the string are all lower case. Below is a partial list of the `is` string methods.\n",
    "\n",
    "- `.islower()` checks if all characters are lowercase\n",
    "- `.isupper()` checks if all characters are uppercase\n",
    "- `.isspace()` checks if all characters are spaces\n",
    "- `.istitle()` checks if each word starts with an uppercase letter and the rest are lowercase\n",
    "- `.isalpha()` checks if all characters are alphabetic\n",
    "- `.isalnum()` checks if all characters are either alphabetic or numeric\n",
    "- `.isnumeric()` checks if all characters are numeric (0-9)"
   ]
  },
  {
   "cell_type": "markdown",
   "metadata": {
    "deletable": false,
    "editable": false,
    "run_control": {
     "frozen": true
    }
   },
   "source": [
    ">**Practice it**\n",
    ">\n",
    ">Test the 1-7 using `is` methods on portions of `funny_quote` and 8-9 on strings containing numeric values\n",
    ">\n",
    ">1. Is the slice from `[0:6]` upper case?\n",
    ">1. Is the slice from `[0:6]` title case?\n",
    ">1. Is the slice from `[7:14]` lower case?\n",
    ">1. Is index position `6` a space?\n",
    ">1. Is index position `10` a space?\n",
    ">1. Is the slice from `[0:6]` alphabetic?\n",
    ">1. Is the slice from `[7:14]` alpha-numeric?\n",
    ">1. Is the string `\"42\"` numeric?\n",
    ">1. Is the string `\"42.0\"` numeric?"
   ]
  },
  {
   "cell_type": "code",
   "execution_count": null,
   "metadata": {},
   "outputs": [],
   "source": [
    "funny_quote     # Is 0 to 6 uppercase?"
   ]
  },
  {
   "cell_type": "code",
   "execution_count": null,
   "metadata": {},
   "outputs": [],
   "source": [
    "funny_quote     # Is 0 to 6 title case?"
   ]
  },
  {
   "cell_type": "code",
   "execution_count": null,
   "metadata": {},
   "outputs": [],
   "source": [
    "funny_quote     # Is 7 to 14 lowercase?"
   ]
  },
  {
   "cell_type": "code",
   "execution_count": null,
   "metadata": {},
   "outputs": [],
   "source": [
    "funny_quote     # Is index 6 a space?"
   ]
  },
  {
   "cell_type": "code",
   "execution_count": null,
   "metadata": {},
   "outputs": [],
   "source": [
    "funny_quote     # Is index 10 a space?"
   ]
  },
  {
   "cell_type": "code",
   "execution_count": null,
   "metadata": {},
   "outputs": [],
   "source": [
    "funny_quote     # Is 0 to 6 alphabetic?"
   ]
  },
  {
   "cell_type": "code",
   "execution_count": null,
   "metadata": {},
   "outputs": [],
   "source": [
    "funny_quote     # Is 7 to 14 alpha-numeric?"
   ]
  },
  {
   "cell_type": "code",
   "execution_count": null,
   "metadata": {},
   "outputs": [],
   "source": [
    "'42'            # Is the string '42' numeric?"
   ]
  },
  {
   "cell_type": "code",
   "execution_count": null,
   "metadata": {},
   "outputs": [],
   "source": [
    "'42.0'          # Is the string '42.0' numeric?"
   ]
  },
  {
   "cell_type": "markdown",
   "metadata": {
    "deletable": false,
    "editable": false,
    "run_control": {
     "frozen": true
    }
   },
   "source": [
    ">**Wrap it up**\n",
    ">\n",
    ">Assign the string `\"My name is Brian\"` to variable called `name` in the cell below this one and execute the cell. In the next cell, use the appropriate method to replace `\"Brian\"` with your first and last name and assign the new string back to `name`. In the last cell print `name`. Then execute the time and date stamp cell.\n",
    ">\n",
    ">Click on the **Save** button and then the **Close and halt** button when you are done. **This is an instructor-led assignment that must be completed before the end of the lab session in order to receive credit.**"
   ]
  },
  {
   "cell_type": "code",
   "execution_count": null,
   "metadata": {},
   "outputs": [],
   "source": []
  },
  {
   "cell_type": "code",
   "execution_count": null,
   "metadata": {},
   "outputs": [],
   "source": []
  },
  {
   "cell_type": "code",
   "execution_count": null,
   "metadata": {},
   "outputs": [],
   "source": []
  },
  {
   "cell_type": "code",
   "execution_count": null,
   "metadata": {
    "deletable": false,
    "editable": false
   },
   "outputs": [],
   "source": [
    "from datetime import datetime\n",
    "from pytz import timezone\n",
    "print(datetime.now(timezone('US/Eastern')))"
   ]
  }
 ],
 "metadata": {
  "kernelspec": {
   "display_name": "Python 3",
   "language": "python",
   "name": "python3"
  },
  "language_info": {
   "codemirror_mode": {
    "name": "ipython",
    "version": 3
   },
   "file_extension": ".py",
   "mimetype": "text/x-python",
   "name": "python",
   "nbconvert_exporter": "python",
   "pygments_lexer": "ipython3",
   "version": "3.7.5"
  },
  "varInspector": {
   "cols": {
    "lenName": 16,
    "lenType": 16,
    "lenVar": 40
   },
   "kernels_config": {
    "python": {
     "delete_cmd_postfix": "",
     "delete_cmd_prefix": "del ",
     "library": "var_list.py",
     "varRefreshCmd": "print(var_dic_list())"
    },
    "r": {
     "delete_cmd_postfix": ") ",
     "delete_cmd_prefix": "rm(",
     "library": "var_list.r",
     "varRefreshCmd": "cat(var_dic_list()) "
    }
   },
   "types_to_exclude": [
    "module",
    "function",
    "builtin_function_or_method",
    "instance",
    "_Feature"
   ],
   "window_display": false
  }
 },
 "nbformat": 4,
 "nbformat_minor": 1
}
