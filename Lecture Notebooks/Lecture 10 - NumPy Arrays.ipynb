{
 "cells": [
  {
   "cell_type": "markdown",
   "metadata": {
    "collapsed": false,
    "deletable": false,
    "editable": false,
    "run_control": {
     "frozen": true
    }
   },
   "source": [
    "# Lecture 10 - *NumPy* Arrays\n",
    "___\n",
    "___"
   ]
  },
  {
   "cell_type": "markdown",
   "metadata": {
    "collapsed": false,
    "deletable": false,
    "editable": false,
    "run_control": {
     "frozen": true
    }
   },
   "source": [
    "## Purpose\n",
    "\n",
    "- Import the **`numpy`** module for array creation\n",
    "- Create one and two dimensional *NumPy* arrays\n",
    "- Access items from arrays"
   ]
  },
  {
   "cell_type": "markdown",
   "metadata": {
    "collapsed": false,
    "deletable": false,
    "editable": false,
    "run_control": {
     "frozen": true
    }
   },
   "source": [
    "## *NumPy* - Numeric Python Introduction\n",
    "\n",
    "- Previously used **`for`** loops or list comprehensions for calculations on sequences of numeric values\n",
    "- A more efficient approach is to use [*NumPy*](http://www.numpy.org) (*Numeric Python*)\n",
    "- *NumPy* website says that \"*NumPy is the fundamental package for scientific computing with Python.*\"\n",
    "- It does more than just provide for easy creation of and calculations with numeric arrays, it provides tools for...\n",
    "  - Linear algebra\n",
    "  - Numeric calculus\n",
    "  - Random numbers\n",
    "  - Much more\n",
    "- This document will focus primarily on...\n",
    "  - Creating numeric one and two-dimensional **`numpy.ndarray`** objects\n",
    "  - Accessing values in **`numpy.ndarray`** objects\n",
    "- **`numpy.ndarray`** is the *NumPy* array data type object"
   ]
  },
  {
   "cell_type": "markdown",
   "metadata": {
    "collapsed": false,
    "deletable": false,
    "editable": false,
    "run_control": {
     "frozen": true
    }
   },
   "source": [
    "## Creation of **`numpy.ndarray`** Objects\n",
    "\n",
    "- *NumPy* arrays (the **`numpy.ndarray`** data type) are powerful tools for working with sequences of numeric values\n",
    "- Great for large (very large) sequences\n",
    "- Unless a list is quite small, *NumPy* arrays are much more efficient and faster than lists\n",
    "- From this point on we will refer to *Numpy* arrays simply as arrays\n",
    "- Must first import the *NumPy* module to use arrays\n",
    "  - This module is not included with the standard *Python* installation\n",
    "  - Must download and install it for use with *Python*\n",
    "  - *Anaconda* distribution of *Python* includes *NumPy* plus a large number of other scientific/mathematical modules\n",
    "  - Import using **`import numpy as np`**\n",
    "  - Preceed *NumPy* commands with **`np.`**\n",
    "___\n",
    "**Practice it**\n",
    "\n",
    "Execute the following code cell to import the *NumPy* module and assign it to the short name **`np`**."
   ]
  },
  {
   "cell_type": "code",
   "execution_count": 0,
   "metadata": {
    "collapsed": false,
    "deletable": false,
    "editable": true
   },
   "outputs": [
   ],
   "source": [
    "import numpy as np"
   ]
  },
  {
   "cell_type": "markdown",
   "metadata": {
    "collapsed": false,
    "deletable": false,
    "editable": false,
    "run_control": {
     "frozen": true
    }
   },
   "source": [
    "### Converting Lists, Tuples, or Ranges to Arrays\n",
    "\n",
    "- Can convert existing *Python* data types to arrays, including...\n",
    "  - Lists\n",
    "  - Tuples\n",
    "  - Ranges\n",
    "- Use the **`np.array()`** function\n",
    "___\n",
    "**Practice it**\n",
    "\n",
    "Execute the following code cell to make the list and the range shown. Then convert both to arrays using **`np.array()`** and assign them to their original names, print them, and then find out their types using the following code cells."
   ]
  },
  {
   "cell_type": "code",
   "execution_count": 0,
   "metadata": {
    "collapsed": false,
    "deletable": false,
    "editable": true
   },
   "outputs": [
   ],
   "source": [
    "x1 = [1.5, 2.7, 3.9]\n",
    "x2 = range(1, 8, 2)"
   ]
  },
  {
   "cell_type": "code",
   "execution_count": 0,
   "metadata": {
    "collapsed": false,
    "deletable": false,
    "editable": true
   },
   "outputs": [
   ],
   "source": [
    "# convert 'x1'\n"
   ]
  },
  {
   "cell_type": "code",
   "execution_count": 0,
   "metadata": {
    "collapsed": false,
    "deletable": false,
    "editable": true
   },
   "outputs": [
   ],
   "source": [
    "# print 'x1'\n"
   ]
  },
  {
   "cell_type": "code",
   "execution_count": 0,
   "metadata": {
    "collapsed": false,
    "deletable": false,
    "editable": true
   },
   "outputs": [
   ],
   "source": [
    "# display 'x1' (implicit printing)\n"
   ]
  },
  {
   "cell_type": "code",
   "execution_count": 0,
   "metadata": {
    "collapsed": false,
    "deletable": false,
    "editable": true
   },
   "outputs": [
   ],
   "source": [
    "# find the type for 'x1'\n"
   ]
  },
  {
   "cell_type": "code",
   "execution_count": 0,
   "metadata": {
    "collapsed": false,
    "deletable": false,
    "editable": true
   },
   "outputs": [
   ],
   "source": [
    "# convert 'x2'\n"
   ]
  },
  {
   "cell_type": "code",
   "execution_count": 0,
   "metadata": {
    "collapsed": false,
    "deletable": false,
    "editable": true
   },
   "outputs": [
   ],
   "source": [
    "# print 'x2'\n"
   ]
  },
  {
   "cell_type": "code",
   "execution_count": 0,
   "metadata": {
    "collapsed": false,
    "deletable": false,
    "editable": true
   },
   "outputs": [
   ],
   "source": [
    "# find the type for 'x2'\n"
   ]
  },
  {
   "cell_type": "markdown",
   "metadata": {
    "collapsed": false,
    "deletable": false,
    "editable": false,
    "run_control": {
     "frozen": true
    }
   },
   "source": [
    "### Arrays From Scratch Using **`np.array()`**\n",
    "\n",
    "- Can also create arrays from scratch using the **`np.array()`** function\n",
    "- The array argument needs to be a list or tuple containing numeric values\n",
    "- One special thing about *NumPy* arrays is that all of the items need to be of the same type\n",
    "  - This helps make them as efficient as they are\n",
    "  - If any item in the array is a float, all items in the finished array will also be floats\n",
    "  - Add a decimal after at least one number if using integers to convert all of the numbers to floats\n",
    "  - Cannot replace a single value in an array of integers with a float\n",
    "    - *NumPy* will convert the value to an integer instead, leading to unexpected results\n",
    "___\n",
    "**Practice it**\n",
    "\n",
    "Create the array $[2, 4, 6, 8, 10]$ from scratch using a list. Then do it again in a new code cell, but this time add a decimal at the end of the first value. Notice the difference?"
   ]
  },
  {
   "cell_type": "code",
   "execution_count": 0,
   "metadata": {
    "collapsed": false,
    "deletable": false,
    "editable": true
   },
   "outputs": [
   ],
   "source": [
   ]
  },
  {
   "cell_type": "code",
   "execution_count": 0,
   "metadata": {
    "collapsed": false,
    "deletable": false,
    "editable": true
   },
   "outputs": [
   ],
   "source": [
   ]
  },
  {
   "cell_type": "markdown",
   "metadata": {
    "collapsed": false,
    "deletable": false,
    "editable": false,
    "run_control": {
     "frozen": true
    }
   },
   "source": [
    "### Setting the Type for Array Values\n",
    "\n",
    "- *NumPy* allows the number type to be specified within the array definition\n",
    "- Add **`float`** or **`int`** as an argument after the list or tuple in **`np.array()`** \n",
    "- For example, using **`np.array([1, 2, 3, 4], float)`** will convert all of the values to floats\n",
    "- There are other specific precision integers and floats, but standard integers and floats will work fine here\n",
    "___\n",
    "**Practice it**\n",
    "\n",
    "Execute the following cells to see how this feature works."
   ]
  },
  {
   "cell_type": "code",
   "execution_count": 0,
   "metadata": {
    "collapsed": false,
    "deletable": false,
    "editable": true
   },
   "outputs": [
   ],
   "source": [
    "np.array([1, 2, 3, 4], float)"
   ]
  },
  {
   "cell_type": "code",
   "execution_count": 0,
   "metadata": {
    "collapsed": false,
    "deletable": false,
    "editable": true
   },
   "outputs": [
   ],
   "source": [
    "np.array([0, 0.5, 1, 1.5, 2, 2.5], int)"
   ]
  },
  {
   "cell_type": "markdown",
   "metadata": {
    "collapsed": false,
    "deletable": false,
    "editable": false,
    "run_control": {
     "frozen": true
    }
   },
   "source": [
    "### Creating Arrays Using **`np.arange()`**\n",
    "\n",
    "- **`np.arange()`** can be used to create arrays using starting, ending, and step values\n",
    "- Like the built-in **`range()`** function, the constructed array will not include the ending value\n",
    "- If the step argument is omitted, then the step size will be 1\n",
    "- If only one argument is used the array will start at zero and have a step of 1\n",
    "- A negative step will allow you to create an array where the values decrease from start to the end\n",
    "- One important difference between **`np.arange()`** and **`range()`** is the ability to use floats\n",
    "\n",
    "___\n",
    "**Practice it**\n",
    "\n",
    "Use **`np.arange()`** to create the following arrays in separate code cells\n",
    "- 1 to 7 (including 7) with a step of 1\n",
    "- 10 to 1 (including 1) with a step of -0.5\n",
    "- -5 to 1 with a step of 1/3"
   ]
  },
  {
   "cell_type": "code",
   "execution_count": 0,
   "metadata": {
    "collapsed": false,
    "deletable": false,
    "editable": true
   },
   "outputs": [
   ],
   "source": [
   ]
  },
  {
   "cell_type": "code",
   "execution_count": 0,
   "metadata": {
    "collapsed": false,
    "deletable": false,
    "editable": true
   },
   "outputs": [
   ],
   "source": [
   ]
  },
  {
   "cell_type": "code",
   "execution_count": 0,
   "metadata": {
    "collapsed": false,
    "deletable": false,
    "editable": true
   },
   "outputs": [
   ],
   "source": [
   ]
  },
  {
   "cell_type": "markdown",
   "metadata": {
    "collapsed": false,
    "deletable": false,
    "editable": false,
    "run_control": {
     "frozen": true
    }
   },
   "source": [
    "## Using *NumPy* Math Functions\n",
    "\n",
    "- When creating and working with *NumPy* arrays use *NumPy* versions of math functions, *not* the **`math`** module\n",
    "- For example, use **`np.pi`, **`np.sin()`, **`np.exp()`, **`np.sqrt()`**, etc\n",
    "- The primary reason for doing so is that the *NumPy* versions can work on all values in an array but **`math`** cannot\n",
    "\n",
    "___\n",
    "**Practice it**\n",
    "\n",
    "Create an array named **`arr1`** using **`np.arange(10)`**. Use the **`np.sqrt()`** function on the array."
   ]
  },
  {
   "cell_type": "code",
   "execution_count": 0,
   "metadata": {
    "collapsed": false,
    "deletable": false,
    "editable": true
   },
   "outputs": [
   ],
   "source": [
   ]
  },
  {
   "cell_type": "markdown",
   "metadata": {
    "collapsed": false,
    "deletable": false,
    "editable": false,
    "run_control": {
     "frozen": true
    }
   },
   "source": [
    "## The **`np.linspace()`** Function\n",
    "\n",
    "- The **`np.linspace()`** function also creates arrays of evenly spaced values\n",
    "- The arguments passed to the function are **`(start, stop, num)`**\n",
    "  - **`num`** is the total number of values to create\n",
    "  - If **`num`** is omitted it will default to 50 values\n",
    "  - There are optional keywoard arguments\n",
    "    - **`enpoint=`** defaults to **`True`**, causing the array to include the **`stop`** value\n",
    "    - **`dtype=`** forces the array to use a specific type\n",
    "\n",
    "___\n",
    "**Practice it**\n",
    "\n",
    "Create each of the following arrays using **`np.linspace()`**\n",
    "\n",
    "- 10 float values from 1 to 10, inclusive\n",
    "- 5 values from 30 to 0, inclusive\n",
    "- 20 values from 0 to $\\pi$, inclusive"
   ]
  },
  {
   "cell_type": "code",
   "execution_count": 0,
   "metadata": {
    "collapsed": false,
    "deletable": false,
    "editable": true
   },
   "outputs": [
   ],
   "source": [
   ]
  },
  {
   "cell_type": "code",
   "execution_count": 0,
   "metadata": {
    "collapsed": false,
    "deletable": false,
    "editable": true
   },
   "outputs": [
   ],
   "source": [
   ]
  },
  {
   "cell_type": "code",
   "execution_count": 0,
   "metadata": {
    "collapsed": false,
    "deletable": false,
    "editable": true
   },
   "outputs": [
   ],
   "source": [
   ]
  },
  {
   "cell_type": "markdown",
   "metadata": {
    "collapsed": false,
    "deletable": false,
    "editable": false
   },
   "source": [
    "## Two-Dimensional Array Creation\n",
    "\n",
    "- Two-dimensional arrays are simply arrays of arrays\n",
    "- Only one **`np.array()`** function is required\n",
    "  - Place lists separated by commas between a set of square brackets\n",
    "  - Example, **`np.array([[1, 2], [3, 4]])`**\n",
    "  - Each list must be the same size to avoid problems\n",
    "- It is possible to create a 2D array that has only one row\n",
    "  - For a one-dimensional array use **`np.array([1, 2, 3])`**\n",
    "  - Use an additional set of square brackets to create a 2D array\n",
    "  - For example, **`np.array([[1, 2, 3]])`**"
   ]
  },
  {
   "cell_type": "markdown",
   "metadata": {
    "collapsed": false,
    "deletable": false,
    "editable": false,
    "run_control": {
     "frozen": true
    }
   },
   "source": [
    "## Some Array Methods\n",
    "\n",
    "- *Python* object types have associated methods\n",
    "- *NumPy* arrays also have associated methods\n",
    "- Some *NumPy* array methods\n",
    "  - **`.ndim`** (note the lack of parentheses) is used to find the number of dimensions of an array\n",
    "    - Given **`x = np.array([[1, 2],[3, 4]])`**\n",
    "    - **`x.ndim`** will return a value of **`2`** since **`x`** is a 2D array\n",
    "  - **`.size`** returns the total number of items in the array\n",
    "    - **`x.size`** will return a value of **`4`** for the previous array\n",
    "  - **`.shape`** returns the size of the array in each direction\n",
    "    - For 2D arrays **`.shape`** returns the tuple **`(rows, columns)`**\n",
    "    - Using **`x.shape`** results in **`(2, 2)`** since there are 2 rows and 2 columns in the array"
   ]
  },
  {
   "cell_type": "markdown",
   "metadata": {
    "collapsed": false,
    "deletable": false,
    "editable": false,
    "run_control": {
     "frozen": true
    }
   },
   "source": [
    "**Practice it**\n",
    "\n",
    "Create, print, and check the size, shape, and number of dimensions for the provided arrays"
   ]
  },
  {
   "cell_type": "code",
   "execution_count": 0,
   "metadata": {
    "collapsed": false,
    "deletable": false,
    "editable": true
   },
   "outputs": [
   ],
   "source": [
    "a = np.array([1, 2, 3])"
   ]
  },
  {
   "cell_type": "code",
   "execution_count": 0,
   "metadata": {
    "collapsed": false,
    "deletable": false,
    "editable": true
   },
   "outputs": [
   ],
   "source": [
    "# print 'a'\n"
   ]
  },
  {
   "cell_type": "code",
   "execution_count": 0,
   "metadata": {
    "collapsed": false,
    "deletable": false,
    "editable": true
   },
   "outputs": [
   ],
   "source": [
    "# use the .size method on 'a' to check its size\n"
   ]
  },
  {
   "cell_type": "code",
   "execution_count": 0,
   "metadata": {
    "collapsed": false,
    "deletable": false,
    "editable": true
   },
   "outputs": [
   ],
   "source": [
    "# use the .shape method on 'a' to check its shape\n"
   ]
  },
  {
   "cell_type": "code",
   "execution_count": 0,
   "metadata": {
    "collapsed": false,
    "deletable": false,
    "editable": true
   },
   "outputs": [
   ],
   "source": [
    "# use the .ndim method on 'a' to check the number of dimensions\n"
   ]
  },
  {
   "cell_type": "code",
   "execution_count": 0,
   "metadata": {
    "collapsed": false,
    "deletable": false,
    "editable": true
   },
   "outputs": [
   ],
   "source": [
    "b = np.array([[1, 2, 3]])"
   ]
  },
  {
   "cell_type": "code",
   "execution_count": 0,
   "metadata": {
    "collapsed": false,
    "deletable": false,
    "editable": true
   },
   "outputs": [
   ],
   "source": [
    "# print 'b'\n"
   ]
  },
  {
   "cell_type": "code",
   "execution_count": 0,
   "metadata": {
    "collapsed": false,
    "deletable": false,
    "editable": true
   },
   "outputs": [
   ],
   "source": [
    "# use the .size method on 'b' to check its size\n"
   ]
  },
  {
   "cell_type": "code",
   "execution_count": 0,
   "metadata": {
    "collapsed": false,
    "deletable": false,
    "editable": true
   },
   "outputs": [
   ],
   "source": [
    "# use the .shape method on 'b' to check its shape\n"
   ]
  },
  {
   "cell_type": "code",
   "execution_count": 0,
   "metadata": {
    "collapsed": false,
    "deletable": false,
    "editable": true
   },
   "outputs": [
   ],
   "source": [
    "# use the .ndim method on 'b' to check the number of dimensions\n"
   ]
  },
  {
   "cell_type": "markdown",
   "metadata": {
    "collapsed": false,
    "deletable": false,
    "editable": false,
    "run_control": {
     "frozen": true
    }
   },
   "source": [
    "**Practice it**\n",
    "\n",
    "Create and then print the following 2D arrays\n",
    "\n",
    "$A1 =\\left[\\begin{array}{ccc}\n",
    "5 && 35 && 43 \\\\\n",
    "4 && 76 && 81 \\\\\n",
    "21 && 32 && 40\\end{array}\\right]$\n",
    "\n",
    "$A2 = \\left[\\begin{array}{ccccc}\n",
    "7 && 2 && 76 && 33 && 8 \\\\\n",
    "1 && 98 && 6 && 25 && 6 \\\\\n",
    "5 && 54 && 58 && 9 && 0\\end{array}\\right]$"
   ]
  },
  {
   "cell_type": "code",
   "execution_count": 0,
   "metadata": {
    "collapsed": false,
    "deletable": false,
    "editable": true
   },
   "outputs": [
   ],
   "source": [
   ]
  },
  {
   "cell_type": "code",
   "execution_count": 0,
   "metadata": {
    "collapsed": false,
    "deletable": false,
    "editable": true
   },
   "outputs": [
   ],
   "source": [
   ]
  },
  {
   "cell_type": "markdown",
   "metadata": {
    "collapsed": false,
    "deletable": false,
    "editable": true,
    "run_control": {
     "frozen": true
    }
   },
   "source": [
    "___\n",
    "**Practice it**\n",
    "\n",
    "It is perfectly acceptable to use variables and math operations in the creation of array elements. Execute the following code cell to confirm that this is the case."
   ]
  },
  {
   "cell_type": "code",
   "execution_count": 0,
   "metadata": {
    "collapsed": false,
    "deletable": false,
    "editable": true
   },
   "outputs": [
   ],
   "source": [
    "cd, ee, h = 6, 3, 4\n",
    "M3 = np.array([[ee, cd*h, np.cos(np.pi/3)], [h**2, np.sqrt(h*h/cd), 14]])\n",
    "print(M3)"
   ]
  },
  {
   "cell_type": "markdown",
   "metadata": {
    "collapsed": false,
    "deletable": false,
    "editable": false,
    "run_control": {
     "frozen": true
    }
   },
   "source": [
    "___\n",
    "**Practice it**\n",
    "\n",
    "You can use the **`np.arange()`** and/or **`np.linspace()`** functions to create any of the rows in a 2D array. Use the following descriptions to create the four rows of a 2D array. Use **`np.arange()`** and **`np.linspace()`** where appropriate.\n",
    "\n",
    "- 1 to 11 (inclusive) in steps of 2\n",
    "- A step size of 5 from 0 to 25 (inclusive)\n",
    "- 6 linearly spaced values from 10 to 60 (inclusive)\n",
    "- The list **`[67, 2, 43, 68, 4, 13]`**"
   ]
  },
  {
   "cell_type": "code",
   "execution_count": 0,
   "metadata": {
    "collapsed": false,
    "deletable": false,
    "editable": true
   },
   "outputs": [
   ],
   "source": [
   ]
  },
  {
   "cell_type": "markdown",
   "metadata": {
    "collapsed": false,
    "deletable": false,
    "editable": false,
    "run_control": {
     "frozen": true
    }
   },
   "source": [
    "## Special Array Creation Functions\n",
    "\n",
    "The following *NumPy* functions can be used to create special types of arrays.\n",
    "- **`np.zeros()`** will create an array filled with $0$s only\n",
    "  - The argument must be a single value when creating a one-dimensional array\n",
    "  - It needs be a tuple containing a row and column pair for 2D arrays\n",
    "- **`np.ones()`** function does the same thing except that it creates an array filled with $1$s\n",
    "- **`np.eye()`** function creates an identity array\n",
    "  - Filled with zeros except on the diagonal from the top-left to the bottom-right\n",
    "  - These arrays must be square - meaning the same number of rows and columns\n",
    "  - **`eye(3)`** will create a $3\\times3$ identity array\n",
    "- **`np.diag()`** looks like an identity array except the diagonal is filled with the values from the argument...\n",
    "  - List\n",
    "  - Tuple\n",
    "  - Array\n",
    "\n",
    "___\n",
    "**Practice it**\n",
    "\n",
    "Add the required commands and then execute the code cells below to see how these functions work."
   ]
  },
  {
   "cell_type": "code",
   "execution_count": 0,
   "metadata": {
    "collapsed": false,
    "deletable": false,
    "editable": true
   },
   "outputs": [
   ],
   "source": [
    "# array of 5 zeros\n"
   ]
  },
  {
   "cell_type": "code",
   "execution_count": 0,
   "metadata": {
    "collapsed": false,
    "deletable": false,
    "editable": true
   },
   "outputs": [
   ],
   "source": [
    "# 3 row, 4 column (3x4) array of zeros\n"
   ]
  },
  {
   "cell_type": "code",
   "execution_count": 0,
   "metadata": {
    "collapsed": false,
    "deletable": false,
    "editable": true
   },
   "outputs": [
   ],
   "source": [
    "# 4 row, 3 column (4x3) array of ones\n"
   ]
  },
  {
   "cell_type": "code",
   "execution_count": 0,
   "metadata": {
    "collapsed": false,
    "deletable": false,
    "editable": true
   },
   "outputs": [
   ],
   "source": [
    "# 5x5 identity array (ones on the diagonal)\n"
   ]
  },
  {
   "cell_type": "markdown",
   "metadata": {
    "collapsed": false,
    "deletable": false,
    "editable": false,
    "run_control": {
     "frozen": true
    }
   },
   "source": [
    "___\n",
    "**Practice it**\n",
    "\n",
    "Create a diagonal array using the vector given in the following code cell."
   ]
  },
  {
   "cell_type": "code",
   "execution_count": 0,
   "metadata": {
    "collapsed": false,
    "deletable": false,
    "editable": true
   },
   "outputs": [
   ],
   "source": [
    "v = (1, 2, 3)    # this can be a list, tuple, or array"
   ]
  },
  {
   "cell_type": "code",
   "execution_count": 0,
   "metadata": {
    "collapsed": false,
    "deletable": false,
    "editable": true
   },
   "outputs": [
   ],
   "source": [
    "# diagonal matrix with v on the diagonal\n"
   ]
  },
  {
   "cell_type": "markdown",
   "metadata": {
    "collapsed": false,
    "deletable": false,
    "editable": true,
    "run_control": {
     "frozen": true
    }
   },
   "source": [
    "**Practice it**\n",
    "\n",
    "Use *NumPy*'s special array functions to create the following arrays and assign them to variables of your choice then print them. Do not just type the values, use the appropriate array creation functions.\n",
    "\n",
    "$\\left[ \\begin{array}{cccc}\n",
    "0 & 0 & 0 & 0\\\\\n",
    "0 & 0 & 0 & 0\\end{array} \\right] $\n",
    "\n",
    "$\\left[ \\begin{array}{ccc}\n",
    "1 & 0 & 0\\\\\n",
    "0 & 1 & 0\\\\\n",
    "0 & 0 & 1\\end{array} \\right] $\n",
    "\n",
    "$\\left[ \\begin{array}{ccc}\n",
    "1 & 1 & 1\\\\\n",
    "1 & 1 & 1\\\\\n",
    "1 & 1 & 1\\\\\n",
    "1 & 1 & 1\\\\\n",
    "1 & 1 & 1\\end{array} \\right] $\n",
    "\n",
    "Make a diagonal array from the following vector: \n",
    "$\\left[ \\begin{array}{cccc}\n",
    "12 & 13 & 15 & 18\\end{array} \\right]$ "
   ]
  },
  {
   "cell_type": "code",
   "execution_count": 0,
   "metadata": {
    "collapsed": false,
    "deletable": false,
    "editable": true
   },
   "outputs": [
   ],
   "source": [
   ]
  },
  {
   "cell_type": "code",
   "execution_count": 0,
   "metadata": {
    "collapsed": false,
    "deletable": false,
    "editable": true
   },
   "outputs": [
   ],
   "source": [
   ]
  },
  {
   "cell_type": "code",
   "execution_count": 0,
   "metadata": {
    "collapsed": false,
    "deletable": false,
    "editable": true
   },
   "outputs": [
   ],
   "source": [
   ]
  },
  {
   "cell_type": "code",
   "execution_count": 0,
   "metadata": {
    "collapsed": false,
    "deletable": false,
    "editable": true
   },
   "outputs": [
   ],
   "source": [
   ]
  },
  {
   "cell_type": "markdown",
   "metadata": {
    "collapsed": false,
    "deletable": false,
    "editable": false,
    "run_control": {
     "frozen": true
    }
   },
   "source": [
    "## Math with *NumPy* Arrays and Scalars\n",
    "\n",
    "- Unlike built-in *Python* lists, *NumPy* arrays can be used directly to perform math operations\n",
    "- Specifically, you can add, subtract, multiply, or divide scalar values by/with arrays\n",
    "- Other operations are also possible, but these will be looked at in more detail at a later time\n",
    "___\n",
    "**Practice it**\n",
    "\n",
    "Create an array of five $1$s and mutiply it by $5$ in the first code cell. In the next code cell do the same except divide by $5$ instead of multiply."
   ]
  },
  {
   "cell_type": "code",
   "execution_count": 0,
   "metadata": {
    "collapsed": false,
    "deletable": false
   },
   "outputs": [
   ],
   "source": [
    "# create a 1D array with five 1s using a function\n"
   ]
  },
  {
   "cell_type": "code",
   "execution_count": 0,
   "metadata": {
    "collapsed": false,
    "deletable": false,
    "editable": true
   },
   "outputs": [
   ],
   "source": [
    "# multiply the above array by 5\n"
   ]
  },
  {
   "cell_type": "code",
   "execution_count": 0,
   "metadata": {
    "collapsed": false,
    "deletable": false,
    "editable": true
   },
   "outputs": [
   ],
   "source": [
    "# divide the array by 5\n"
   ]
  },
  {
   "cell_type": "markdown",
   "metadata": {
    "collapsed": false,
    "deletable": false,
    "editable": false,
    "run_control": {
     "frozen": true
    }
   },
   "source": [
    "## *NumPy* Array Functions and Methods\n",
    "\n",
    "### Size and Shape Reporting Functions\n",
    "\n",
    "- The **`len()`** function will return...\n",
    "  - The number of objects in a one-dimensional array\n",
    "  - The number of rows (lists) in a two-dimensional array\n",
    "- The **`np.size()`** function returns the total number of objects in one or two-dimensional arrays\n",
    "  - This function does the same thing as the **`.size`** method used previously\n",
    "  - Given **`z = np.array([[1, 4], [5, 8]])`**, **`np.size(z)`** will return 4\n",
    "- The function **`np.shape()`** returns a tuple with the number of rows and columns for an array\n",
    "  - If 1D, it will return a tuple with one item that represents the length of the array\n",
    "  - This function does the same thing as the **`.shape`** method used previously\n",
    "- **`np.ndim()`** does the same thing as the **`.ndim`** method; returning the number of dimensions\n",
    "\n",
    "___\n",
    "**Practice it**\n",
    "\n",
    "The next several code cells illustrate these functions and methods. Execute the cells to see their results."
   ]
  },
  {
   "cell_type": "code",
   "execution_count": 0,
   "metadata": {
    "collapsed": false,
    "deletable": false,
    "editable": true
   },
   "outputs": [
   ],
   "source": [
    "AA = np.array([5, 9, 2, 4])\n",
    "len(AA)"
   ]
  },
  {
   "cell_type": "code",
   "execution_count": 0,
   "metadata": {
    "collapsed": false,
    "deletable": false,
    "editable": true
   },
   "outputs": [
   ],
   "source": [
    "np.size(AA)"
   ]
  },
  {
   "cell_type": "code",
   "execution_count": 0,
   "metadata": {
    "collapsed": false,
    "deletable": false,
    "editable": true
   },
   "outputs": [
   ],
   "source": [
    "AA.size"
   ]
  },
  {
   "cell_type": "code",
   "execution_count": 0,
   "metadata": {
    "collapsed": false,
    "deletable": false,
    "editable": true
   },
   "outputs": [
   ],
   "source": [
    "np.shape(AA)"
   ]
  },
  {
   "cell_type": "code",
   "execution_count": 0,
   "metadata": {
    "collapsed": false,
    "deletable": false,
    "editable": true
   },
   "outputs": [
   ],
   "source": [
    "AA.shape"
   ]
  },
  {
   "cell_type": "code",
   "execution_count": 0,
   "metadata": {
    "collapsed": false,
    "deletable": false,
    "editable": true
   },
   "outputs": [
   ],
   "source": [
    "np.ndim(AA)"
   ]
  },
  {
   "cell_type": "code",
   "execution_count": 0,
   "metadata": {
    "collapsed": false,
    "deletable": false,
    "editable": true
   },
   "outputs": [
   ],
   "source": [
    "AA.ndim"
   ]
  },
  {
   "cell_type": "code",
   "execution_count": 0,
   "metadata": {
    "collapsed": false,
    "deletable": false,
    "editable": true
   },
   "outputs": [
   ],
   "source": [
    "BB = np.ones((4, 3))\n",
    "np.size(BB)"
   ]
  },
  {
   "cell_type": "code",
   "execution_count": 0,
   "metadata": {
    "collapsed": false,
    "deletable": false,
    "editable": true
   },
   "outputs": [
   ],
   "source": [
    "BB.size"
   ]
  },
  {
   "cell_type": "code",
   "execution_count": 0,
   "metadata": {
    "collapsed": false,
    "deletable": false,
    "editable": true
   },
   "outputs": [
   ],
   "source": [
    "len(BB)"
   ]
  },
  {
   "cell_type": "code",
   "execution_count": 0,
   "metadata": {
    "collapsed": false,
    "deletable": false,
    "editable": true
   },
   "outputs": [
   ],
   "source": [
    "np.shape(BB)"
   ]
  },
  {
   "cell_type": "code",
   "execution_count": 0,
   "metadata": {
    "collapsed": false,
    "deletable": false,
    "editable": true
   },
   "outputs": [
   ],
   "source": [
    "BB.shape"
   ]
  },
  {
   "cell_type": "markdown",
   "metadata": {
    "collapsed": false,
    "deletable": false,
    "editable": false,
    "run_control": {
     "frozen": true
    }
   },
   "source": [
    "### Changing an Array Shape\n",
    "\n",
    "- **`np.reshape(array, (new_row, new_col))`**\n",
    "  - Makes a copy of the array and changes the copy's shape to a new row and column size\n",
    "  - The arguments are...\n",
    "    - The array to be reshaped\n",
    "    - A tuple containing the new shape\n",
    "  - The new shape must be numerically compatible with the original shape (same total number of elements)\n",
    "  - The shape is changed by...\n",
    "    - Placing all of the existing rows into one single row in order starting with row zero\n",
    "    - This 1D array is reshaped by creating new rows\n",
    "    - Each new row with the number of elements given by the new column argument\n",
    "  - The **`.reshape(new_row, new_col)`** method does the same thing as this function\n",
    "  - A nice feature of **`np.reshape()`** (and **`.reshape()`** method) is auto-calculating\n",
    "    - If **`-1`** is used for either the **`new_row`** or **`new_col`** arguments\n",
    "    - The correct value for that direction will be based on the value of the other argument\n",
    "    - *NumPy* divides the total number of objects by the provided argument value to determine the one with **`-1`**\n",
    "    - If ther are 12 objects, **`new_row`** is **`-1`**, and **`new_col`** is 3, then there will be **`4`** rows\n",
    "  - The **`.resize()`** method does the same thing as **`.reshape`** except...\n",
    "    - It does not make a copy, it changes the original array\n",
    "    - It does not allow **`-1`** to be used as an argument\n",
    "- The shape of two-dimensional arrays can also be changed using the **`np.transpose()`** function\n",
    "  - The **`.T`** (transpose) method does the same thing\n",
    "  - Transposing an array changes the shape by...\n",
    "    - Changing the existing first row into the new first column\n",
    "    - Changing the existing first column into the new first row\n",
    "  - Transposing creates a copy instead of changing the original array\n",
    "\n",
    "___\n",
    "**Practice it**\n",
    "\n",
    "Execute the following code cells see how these shape changing functions and methods work."
   ]
  },
  {
   "cell_type": "code",
   "execution_count": 0,
   "metadata": {
    "collapsed": false,
    "deletable": false,
    "editable": true
   },
   "outputs": [
   ],
   "source": [
    "B = np.array([[5, 1, 6], [8, 0, 2]])\n",
    "# the np.reshape() function\n",
    "np.reshape(B, (3, 2))"
   ]
  },
  {
   "cell_type": "code",
   "execution_count": 0,
   "metadata": {
    "collapsed": false,
    "deletable": false,
    "editable": true
   },
   "outputs": [
   ],
   "source": [
    "# the np.reshape() function using auto-calculate\n",
    "np.reshape(B, (-1,2))"
   ]
  },
  {
   "cell_type": "code",
   "execution_count": 0,
   "metadata": {
    "collapsed": false,
    "deletable": false,
    "editable": true
   },
   "outputs": [
   ],
   "source": [
    "B"
   ]
  },
  {
   "cell_type": "code",
   "execution_count": 0,
   "metadata": {
    "collapsed": false,
    "deletable": false,
    "editable": true
   },
   "outputs": [
   ],
   "source": [
    "# the .reshape() method\n",
    "B.reshape(3,2)"
   ]
  },
  {
   "cell_type": "code",
   "execution_count": 0,
   "metadata": {
    "collapsed": false,
    "deletable": false,
    "editable": true
   },
   "outputs": [
   ],
   "source": [
    "B"
   ]
  },
  {
   "cell_type": "code",
   "execution_count": 0,
   "metadata": {
    "collapsed": false,
    "deletable": false,
    "editable": true
   },
   "outputs": [
   ],
   "source": [
    "# the .resize() method\n",
    "B.resize(3, 2)"
   ]
  },
  {
   "cell_type": "code",
   "execution_count": 0,
   "metadata": {
    "collapsed": false,
    "deletable": false,
    "editable": true
   },
   "outputs": [
   ],
   "source": [
    "B"
   ]
  },
  {
   "cell_type": "code",
   "execution_count": 0,
   "metadata": {
    "collapsed": false,
    "deletable": false,
    "editable": true
   },
   "outputs": [
   ],
   "source": [
    "# the np.transpose() function\n",
    "np.transpose(B)"
   ]
  },
  {
   "cell_type": "code",
   "execution_count": 0,
   "metadata": {
    "collapsed": false,
    "deletable": false,
    "editable": true
   },
   "outputs": [
   ],
   "source": [
    "# the .T method\n",
    "B.T"
   ]
  },
  {
   "cell_type": "code",
   "execution_count": 0,
   "metadata": {
    "collapsed": false,
    "deletable": false,
    "editable": true
   },
   "outputs": [
   ],
   "source": [
    "B"
   ]
  },
  {
   "cell_type": "markdown",
   "metadata": {
    "collapsed": false,
    "deletable": false,
    "editable": false,
    "run_control": {
     "frozen": true
    }
   },
   "source": [
    "**Practice it**\n",
    "\n",
    "Using the **`.reshape()`** method on a one-dimensional array is a good way to create a two-dimensional array. Test it by reshaping **`A`** to a $3\\times2$ array in the code cell below."
   ]
  },
  {
   "cell_type": "code",
   "execution_count": 0,
   "metadata": {
    "collapsed": false,
    "deletable": false,
    "editable": true
   },
   "outputs": [
   ],
   "source": [
    "# create A as a 1D array\n",
    "A = np.array([5, 1, 6, 8, 0, 2])\n",
    "A"
   ]
  },
  {
   "cell_type": "code",
   "execution_count": 0,
   "metadata": {
    "collapsed": false,
    "deletable": false
   },
   "outputs": [
   ],
   "source": [
    "# then reshape A into a 3x2 array\n"
   ]
  },
  {
   "cell_type": "markdown",
   "metadata": {
    "collapsed": false,
    "deletable": false,
    "editable": false,
    "run_control": {
     "frozen": true
    }
   },
   "source": [
    "## Array Addressing (Indexing)\n",
    "\n",
    "- Addressing individual items in *NumPy* arrays works the same way as *Python* lists\n",
    "- One-dimensional arrays\n",
    "  - Place a set of square brackets with the desired index position after an array or array name\n",
    "  - For example, **`arr1[0]`**\n",
    "- Two-dimensional arrays\n",
    "  - The index needs to include two values; row and column\n",
    "  - For example, **`arr2[0, 2]`** would access the item located row 0 at the index 2 position\n",
    "  - Can also use **`arr[0][2]`** to get the value at the 2nd index position of the the 0th row\n",
    "- Negative indices work for arrays as well\n",
    "\n",
    "___\n",
    "**Practice it**\n",
    "\n",
    "Edit and run the following code cells to select items from the 1D array named **`vct`**."
   ]
  },
  {
   "cell_type": "code",
   "execution_count": 0,
   "metadata": {
    "collapsed": false,
    "deletable": false,
    "editable": true
   },
   "outputs": [
   ],
   "source": [
    "vct = np.array([35, 46, 78, 23, 5, 14, 81, 3, 55])\n",
    "vct"
   ]
  },
  {
   "cell_type": "code",
   "execution_count": 0,
   "metadata": {
    "collapsed": false,
    "deletable": false
   },
   "outputs": [
   ],
   "source": [
    "# get the value at the 4th index (the number 5)\n"
   ]
  },
  {
   "cell_type": "code",
   "execution_count": 0,
   "metadata": {
    "collapsed": false,
    "deletable": false,
    "editable": true
   },
   "outputs": [
   ],
   "source": [
    "# get the value at the 6th index (the number 81)\n"
   ]
  },
  {
   "cell_type": "code",
   "execution_count": 0,
   "metadata": {
    "collapsed": false,
    "deletable": false,
    "editable": true
   },
   "outputs": [
   ],
   "source": [
    "# add the value at the 3rd index and the second to last value\n",
    "# use positive indexing for the first and negative indexing for the second\n"
   ]
  },
  {
   "cell_type": "markdown",
   "metadata": {
    "collapsed": false,
    "deletable": false,
    "editable": false,
    "run_control": {
     "frozen": true
    }
   },
   "source": [
    "**Practice it**\n",
    "\n",
    "Change the code cells below to access the specified items from a two-dimensional array."
   ]
  },
  {
   "cell_type": "code",
   "execution_count": 0,
   "metadata": {
    "collapsed": false,
    "deletable": false,
    "editable": true
   },
   "outputs": [
   ],
   "source": [
    "MAT = np.array([[3, 11, 6, 5], [4, 7, 10, 2], [13, 9, 0, 8]])\n",
    "MAT"
   ]
  },
  {
   "cell_type": "code",
   "execution_count": 0,
   "metadata": {
    "collapsed": false
   },
   "outputs": [
   ],
   "source": [
    "# get the first value from the last row (the number 13)\n"
   ]
  },
  {
   "cell_type": "code",
   "execution_count": 0,
   "metadata": {
    "collapsed": false,
    "deletable": false,
    "editable": true
   },
   "outputs": [
   ],
   "source": [
    "# subtract the 2nd value in the first row from the last value in the 2nd row (2 - 11)\n"
   ]
  },
  {
   "cell_type": "markdown",
   "metadata": {
    "collapsed": false,
    "deletable": false,
    "editable": false,
    "run_control": {
     "frozen": true
    }
   },
   "source": [
    "## Array Slicing\n",
    "\n",
    "- Slicing 1D *NumPy* arrays is done the same way as for lists and strings\n",
    "- Slicing 2D arrays is similar to 1D arrays\n",
    "  - The colon is still used to separate starting, ending, and step indices for slicing\n",
    "  - Since there are two dimensions, this must to be done for the rows and the columns\n",
    "  - For example, **`arr2[row_start:row_end, col_start:col_end]`**\n",
    "  - The slice **`arr2[0:2, 0:3]`** would return the first two rows of the first three columns\n",
    "  - All objects in a row or column are included if there is only a colon in the row or column slice\n",
    "  - For example, **`arr2[:, 1:3]`** returns the objects from all rows with column indices of 1 and 2\n",
    "\n",
    "___\n",
    "**Practice it**\n",
    "\n",
    "Slice array **`v1`** to create array **`u1`** with the values **`[8, 12, 34, 2, 50]`** and then display **`u1`."
   ]
  },
  {
   "cell_type": "code",
   "execution_count": 0,
   "metadata": {
    "collapsed": false,
    "deletable": false,
    "editable": true
   },
   "outputs": [
   ],
   "source": [
    "v1 = np.array([4, 15, 8, 12, 34, 2, 50, 23, 11])"
   ]
  },
  {
   "cell_type": "code",
   "execution_count": 0,
   "metadata": {
    "collapsed": false,
    "deletable": false,
    "editable": true
   },
   "outputs": [
   ],
   "source": [
   ]
  },
  {
   "cell_type": "markdown",
   "metadata": {
    "collapsed": false,
    "deletable": false,
    "editable": false,
    "run_control": {
     "frozen": true
    }
   },
   "source": [
    "**Practice it**\n",
    "\n",
    "Edit and execute each of the following code cells to get the indicated slices."
   ]
  },
  {
   "cell_type": "code",
   "execution_count": 0,
   "metadata": {
    "collapsed": false,
    "deletable": false,
    "editable": true
   },
   "outputs": [
   ],
   "source": [
    "MA = np.array([np.arange(1, 12, 2), np.arange(2,13,2), np.arange(3,19,3), np.arange(4,25,4), np.arange(5, 31, 5)])"
   ]
  },
  {
   "cell_type": "code",
   "execution_count": 0,
   "metadata": {
    "collapsed": false,
    "deletable": false,
    "editable": true
   },
   "outputs": [
   ],
   "source": [
    "MA"
   ]
  },
  {
   "cell_type": "code",
   "execution_count": 0,
   "metadata": {
    "collapsed": false,
    "deletable": false,
    "editable": true
   },
   "outputs": [
   ],
   "source": [
    "# all rows of the third column\n"
   ]
  },
  {
   "cell_type": "code",
   "execution_count": 0,
   "metadata": {
    "collapsed": false,
    "deletable": false,
    "editable": true
   },
   "outputs": [
   ],
   "source": [
    "# all columns of the first row\n"
   ]
  },
  {
   "cell_type": "code",
   "execution_count": 0,
   "metadata": {
    "collapsed": false,
    "deletable": false,
    "editable": true
   },
   "outputs": [
   ],
   "source": [
    "# row indices 1 thru 3 of all columns\n"
   ]
  },
  {
   "cell_type": "code",
   "execution_count": 0,
   "metadata": {
    "collapsed": false,
    "deletable": false,
    "editable": true
   },
   "outputs": [
   ],
   "source": [
    "# column indices 2 thru 4 of all rows\n"
   ]
  },
  {
   "cell_type": "code",
   "execution_count": 0,
   "metadata": {
    "collapsed": false,
    "deletable": false,
    "editable": true
   },
   "outputs": [
   ],
   "source": [
    "# the intersection of row indices 0 thru 2 and column indices 1 thru 3\n"
   ]
  },
  {
   "cell_type": "markdown",
   "metadata": {
    "collapsed": false,
    "deletable": false,
    "editable": false,
    "run_control": {
     "frozen": true
    }
   },
   "source": [
    "## Replacing Values of Objects in Arrays\n",
    "\n",
    "- *NumPy* arrays are mutable\n",
    "- Array indexing and slicing can be used to replace (change) objects in arrays...\n",
    "  - Individual values\n",
    "  - Groups of values\n",
    "- For example, **`x[4] = 6.4`** will replace the object located at the 4th index of array **`x`** to $6.4$\n",
    "- If the array has an integer data type, attempting to replace a value with a float will result in an integer\n",
    "\n",
    "___\n",
    "**Practice it**\n",
    "\n",
    "The following two code cells define the array **`AX`**. Replace the values per the comments and then display the resulting array."
   ]
  },
  {
   "cell_type": "code",
   "execution_count": 0,
   "metadata": {
    "collapsed": false,
    "deletable": false,
    "editable": true
   },
   "outputs": [
   ],
   "source": [
    "AX = np.arange(0,25,3)\n",
    "# replace the second value (index 1) to 42"
   ]
  },
  {
   "cell_type": "code",
   "execution_count": 0,
   "metadata": {
    "collapsed": false,
    "deletable": false,
    "editable": true
   },
   "outputs": [
   ],
   "source": [
    "# replace indices 3 to 6 (inclusive) with zeros (use the zeros() function)"
   ]
  },
  {
   "cell_type": "markdown",
   "metadata": {
    "collapsed": false,
    "deletable": false,
    "editable": false,
    "run_control": {
     "frozen": true
    }
   },
   "source": [
    "## Adding Values to Arrays \n",
    "\n",
    "- The **`np.append()`** function can be used to extend the length of a 1D array by adding items to the end\n",
    "  - The arguments are the original array followed by the appended array or range\n",
    "  - It makes a copy of the original array\n",
    "  - Must assign the appended copy back to the original variable name if you want to \"change\" the original\n",
    "  - **FYI** Adding and removing values to/from NumPy arrays is not very computationally efficient\n",
    "  - It is generally better to redefine an array with the correct values than to change an array\n",
    "- Adding values to 2D arrays is a little more work\n",
    "  - The **`np.append()`** function accepts an optional argument **`axis=`**\n",
    "    - It is **`None`** by default, but can be set to **`0`** or **`1`** when working with 2D arrays\n",
    "    - When **`axis=0`** is used\n",
    "      - A row is added\n",
    "      - The list that is appended needs to be placed in double square brackets\n",
    "    - When **`axis=1`** is used, a column is added\n",
    "      - This time the items being added to each row need their own square brackets\n",
    "  - See the examples appending\n",
    "  - These actions are not performed often, but it is good to see how it could be done\n",
    "- The **`np.insert()`** function can be used to add elements at locations other than the end\n",
    "  - This function also works on a copy of the original array\n",
    "  - The arguments are...\n",
    "    - The array\n",
    "    - The index position before which insertion will happen\n",
    "    - The value or values to insert\n",
    "  - The index position can be given as a list of index positions\n",
    "    - Doing so requires a list with the same number of values as there are being inserted\n",
    "    - Each will be inserted before the index positions relative to the original array\n",
    "- Two or more 1D arrays can be joined together using the **`np.hstack()`** function\n",
    "  - This function takes a tuple of arrays, lists, and/or individual values as an argument\n",
    "  - It connects them together in an end-to-end fashion\n",
    "- Another clever way to perform tasks similar to **`np.hstack()`** is to use **`np.r_[]`**\n",
    "  - Can be used to join arrays, lists, tuples, ranges, and/or values by extending the row length\n",
    "  - Square brackets are used instead of standard parentheses\n",
    "  - There is also a **`np.c_[]`** command that concatentates by extending the column length\n",
    "___\n",
    "**Practice it**\n",
    "\n",
    "Execute the following code cell to create the array **`DF`**. In the next code cell, extend the length of **`DF`** with the values 10 to 35 (inclusive) in steps of 5 using the **`np.append()`** and **`np.arange()`** functions then display the changed **`DF`**."
   ]
  },
  {
   "cell_type": "code",
   "execution_count": 0,
   "metadata": {
    "collapsed": false,
    "deletable": false,
    "editable": true
   },
   "outputs": [
   ],
   "source": [
    "DF = np.arange(1, 5)"
   ]
  },
  {
   "cell_type": "code",
   "execution_count": 0,
   "metadata": {
    "collapsed": false,
    "deletable": false,
    "editable": true
   },
   "outputs": [
   ],
   "source": [
    "# extend DF with 10 to 35 (inclusive) with steps of 5\n",
    "# use np.append() and np.arange() instead of typing individual values\n"
   ]
  },
  {
   "cell_type": "code",
   "execution_count": 0,
   "metadata": {
    "collapsed": false,
    "deletable": false,
    "editable": true
   },
   "outputs": [
   ],
   "source": [
    "# display DF\n"
   ]
  },
  {
   "cell_type": "markdown",
   "metadata": {
    "collapsed": false,
    "deletable": false,
    "editable": false,
    "run_control": {
     "frozen": true
    }
   },
   "source": [
    "___\n",
    "**Practice it**\n",
    "\n",
    "Run the following code cells see a 2D array being appended in both directions."
   ]
  },
  {
   "cell_type": "code",
   "execution_count": 0,
   "metadata": {
    "collapsed": false,
    "deletable": false,
    "editable": true
   },
   "outputs": [
   ],
   "source": [
    "E = np.array([[1, 2, 3, 4], [5, 6, 7, 8]])\n",
    "E"
   ]
  },
  {
   "cell_type": "code",
   "execution_count": 0,
   "metadata": {
    "collapsed": false,
    "deletable": false,
    "editable": true
   },
   "outputs": [
   ],
   "source": [
    "F = np.append(E,[[9, 10, 11, 12]], axis=0)\n",
    "F"
   ]
  },
  {
   "cell_type": "code",
   "execution_count": 0,
   "metadata": {
    "collapsed": false,
    "deletable": false,
    "editable": true
   },
   "outputs": [
   ],
   "source": [
    "G = np.append(F,[[44],[45],[46]], axis=1)\n",
    "G"
   ]
  },
  {
   "cell_type": "markdown",
   "metadata": {
    "collapsed": false,
    "deletable": false,
    "editable": false,
    "run_control": {
     "frozen": true
    }
   },
   "source": [
    "___\n",
    "**Practice it**\n",
    "\n",
    "Each of the following code cells illustrate different insertion types. The last two are single-expression approaches to get an array of zeros with a single non-zero value at the end; the first uses **`np.insert()`** and the second uses **`np.append()`**."
   ]
  },
  {
   "cell_type": "code",
   "execution_count": 0,
   "metadata": {
    "collapsed": false,
    "deletable": false,
    "editable": true
   },
   "outputs": [
   ],
   "source": [
    "r = np.ones(6)"
   ]
  },
  {
   "cell_type": "code",
   "execution_count": 0,
   "metadata": {
    "collapsed": false,
    "deletable": false,
    "editable": true
   },
   "outputs": [
   ],
   "source": [
    "r = np.insert(r, 2, 3)\n",
    "r"
   ]
  },
  {
   "cell_type": "code",
   "execution_count": 0,
   "metadata": {
    "collapsed": false,
    "deletable": false,
    "editable": true
   },
   "outputs": [
   ],
   "source": [
    "np.insert(r, 0, [2, 3, 4])"
   ]
  },
  {
   "cell_type": "code",
   "execution_count": 0,
   "metadata": {
    "collapsed": false,
    "deletable": false,
    "editable": true
   },
   "outputs": [
   ],
   "source": [
    "s = np.arange(6)\n",
    "s"
   ]
  },
  {
   "cell_type": "code",
   "execution_count": 0,
   "metadata": {
    "collapsed": false,
    "deletable": false,
    "editable": true
   },
   "outputs": [
   ],
   "source": [
    "np.insert(s, 1 , np.arange(5,8))"
   ]
  },
  {
   "cell_type": "code",
   "execution_count": 0,
   "metadata": {
    "collapsed": false,
    "deletable": false,
    "editable": true
   },
   "outputs": [
   ],
   "source": [
    "np.insert(np.arange(9, 0, -1), [1, -1], [1, 9])"
   ]
  },
  {
   "cell_type": "code",
   "execution_count": 0,
   "metadata": {
    "collapsed": false,
    "deletable": false,
    "editable": true
   },
   "outputs": [
   ],
   "source": [
    "np.insert(np.array([5]), 0, np.zeros(6))"
   ]
  },
  {
   "cell_type": "code",
   "execution_count": 0,
   "metadata": {
    "collapsed": false,
    "deletable": false,
    "editable": true
   },
   "outputs": [
   ],
   "source": [
    "np.append(np.zeros(6), 5)"
   ]
  },
  {
   "cell_type": "markdown",
   "metadata": {
    "collapsed": false,
    "deletable": false,
    "editable": false,
    "run_control": {
     "frozen": true
    }
   },
   "source": [
    "___\n",
    "**Practice it**\n",
    "\n",
    "Try the **`np.hstack()`** function out."
   ]
  },
  {
   "cell_type": "code",
   "execution_count": 0,
   "metadata": {
    "collapsed": false,
    "deletable": false,
    "editable": true
   },
   "outputs": [
   ],
   "source": [
    "np.hstack(([99, 1000], np.arange(1, 5, 1.5), 999))"
   ]
  },
  {
   "cell_type": "markdown",
   "metadata": {
    "collapsed": false,
    "deletable": false,
    "editable": false,
    "run_control": {
     "frozen": true
    }
   },
   "source": [
    "___\n",
    "**Practice it**\n",
    "\n",
    "Try **`np.r_[]`**."
   ]
  },
  {
   "cell_type": "code",
   "execution_count": 0,
   "metadata": {
    "collapsed": false,
    "deletable": false,
    "editable": true
   },
   "outputs": [
   ],
   "source": [
    "np.r_[np.zeros(6), 5, (99,100), np.arange(5)]"
   ]
  },
  {
   "cell_type": "markdown",
   "metadata": {
    "collapsed": false,
    "deletable": false,
    "editable": false,
    "run_control": {
     "frozen": true
    }
   },
   "source": [
    "**Wrap it up**\n",
    "\n",
    "Click on the **Save** button and then the **Close and halt** button when you are done before closing the tab."
   ]
  }
 ],
 "metadata": {
  "kernelspec": {
   "display_name": "Python 3 (Anaconda 2020)",
   "env": {
    "ADDR2LINE": "/ext/anaconda2020.02/bin/x86_64-conda_cos6-linux-gnu-addr2line",
    "ANACONDA2019": "$EXT/anaconda-2019.03",
    "ANACONDA2020": "/ext/anaconda2020.02",
    "ANACONDA3": "$EXT/anaconda3",
    "ANACONDA5": "$EXT/anaconda5",
    "AR": "/ext/anaconda2020.02/bin/x86_64-conda_cos6-linux-gnu-ar",
    "AS": "/ext/anaconda2020.02/bin/x86_64-conda_cos6-linux-gnu-as",
    "CC": "/ext/anaconda2020.02/bin/x86_64-conda_cos6-linux-gnu-cc",
    "CFLAGS": "-march=nocona -mtune=haswell -ftree-vectorize -fPIC -fstack-protector-strong -fno-plt -O2 -ffunction-sections -pipe -isystem /ext/anaconda2020.02/include",
    "CMAKE_PREFIX_PATH": "/ext/anaconda2020.02:/ext/anaconda2020.02/x86_64-conda_cos6-linux-gnu/sysroot/usr",
    "CONDA_BACKUP_HOST": "x86_64-conda_cos6-linux-gnu",
    "CONDA_BUILD_SYSROOT": "/ext/anaconda2020.02/x86_64-conda_cos6-linux-gnu/sysroot",
    "CONDA_DEFAULT_ENV": "base",
    "CONDA_EXE": "/ext/anaconda2020.02/bin/conda",
    "CONDA_MKL_INTERFACE_LAYER_BACKUP": "",
    "CONDA_PREFIX": "/ext/anaconda2020.02",
    "CONDA_PROMPT_MODIFIER": "(base) ",
    "CONDA_PYTHON_EXE": "/ext/anaconda2020.02/bin/python",
    "CONDA_SHLVL": "1",
    "CPP": "/ext/anaconda2020.02/bin/x86_64-conda_cos6-linux-gnu-cpp",
    "CPPFLAGS": "-DNDEBUG -D_FORTIFY_SOURCE=2 -O2 -isystem /ext/anaconda2020.02/include",
    "CXX": "/ext/anaconda2020.02/bin/x86_64-conda_cos6-linux-gnu-c++",
    "CXXFILT": "/ext/anaconda2020.02/bin/x86_64-conda_cos6-linux-gnu-c++filt",
    "CXXFLAGS": "-fvisibility-inlines-hidden -std=c++17 -fmessage-length=0 -march=nocona -mtune=haswell -ftree-vectorize -fPIC -fstack-protector-strong -fno-plt -O2 -ffunction-sections -pipe -isystem /ext/anaconda2020.02/include",
    "DEBUG_CFLAGS": "-march=nocona -mtune=haswell -ftree-vectorize -fPIC -fstack-protector-all -fno-plt -Og -g -Wall -Wextra -fvar-tracking-assignments -ffunction-sections -pipe -isystem /ext/anaconda2020.02/include",
    "DEBUG_CPPFLAGS": "-D_DEBUG -D_FORTIFY_SOURCE=2 -Og -isystem /ext/anaconda2020.02/include",
    "DEBUG_CXXFLAGS": "-fvisibility-inlines-hidden -std=c++17 -fmessage-length=0 -march=nocona -mtune=haswell -ftree-vectorize -fPIC -fstack-protector-all -fno-plt -Og -g -Wall -Wextra -fvar-tracking-assignments -ffunction-sections -pipe -isystem /ext/anaconda2020.02/include",
    "DEBUG_FFLAGS": "-fopenmp -march=nocona -mtune=haswell -ftree-vectorize -fPIC -fstack-protector-strong -fno-plt -O2 -ffunction-sections -pipe -isystem /ext/anaconda2020.02/include -fopenmp -march=nocona -mtune=haswell -ftree-vectorize -fPIC -fstack-protector-all -fno-plt -Og -g -Wall -Wextra -fcheck=all -fbacktrace -fimplicit-none -fvar-tracking-assignments -ffunction-sections -pipe",
    "DEBUG_FORTRANFLAGS": "-fopenmp -march=nocona -mtune=haswell -ftree-vectorize -fPIC -fstack-protector-strong -fno-plt -O2 -ffunction-sections -pipe -isystem /ext/anaconda2020.02/include -fopenmp -march=nocona -mtune=haswell -ftree-vectorize -fPIC -fstack-protector-all -fno-plt -Og -g -Wall -Wextra -fcheck=all -fbacktrace -fimplicit-none -fvar-tracking-assignments -ffunction-sections -pipe",
    "ELFEDIT": "/ext/anaconda2020.02/bin/x86_64-conda_cos6-linux-gnu-elfedit",
    "F77": "/ext/anaconda2020.02/bin/x86_64-conda_cos6-linux-gnu-gfortran",
    "F90": "/ext/anaconda2020.02/bin/x86_64-conda_cos6-linux-gnu-gfortran",
    "F95": "/ext/anaconda2020.02/bin/x86_64-conda_cos6-linux-gnu-f95",
    "FC": "/ext/anaconda2020.02/bin/x86_64-conda_cos6-linux-gnu-gfortran",
    "FFLAGS": "-fopenmp -march=nocona -mtune=haswell -ftree-vectorize -fPIC -fstack-protector-strong -fno-plt -O2 -ffunction-sections -pipe -isystem /ext/anaconda2020.02/include",
    "FORTRANFLAGS": "-fopenmp -march=nocona -mtune=haswell -ftree-vectorize -fPIC -fstack-protector-strong -fno-plt -O2 -ffunction-sections -pipe -isystem /ext/anaconda2020.02/include",
    "GCC": "/ext/anaconda2020.02/bin/x86_64-conda_cos6-linux-gnu-gcc",
    "GCC_AR": "/ext/anaconda2020.02/bin/x86_64-conda_cos6-linux-gnu-gcc-ar",
    "GCC_NM": "/ext/anaconda2020.02/bin/x86_64-conda_cos6-linux-gnu-gcc-nm",
    "GCC_RANLIB": "/ext/anaconda2020.02/bin/x86_64-conda_cos6-linux-gnu-gcc-ranlib",
    "GDAL_DATA": "/ext/anaconda2020.02/share/gdal",
    "GFORTRAN": "/ext/anaconda2020.02/bin/x86_64-conda_cos6-linux-gnu-gfortran",
    "GPROF": "/ext/anaconda2020.02/bin/x86_64-conda_cos6-linux-gnu-gprof",
    "GXX": "/ext/anaconda2020.02/bin/x86_64-conda_cos6-linux-gnu-g++",
    "JAVA_HOME": "/ext/anaconda2020.02",
    "JAVA_HOME_CONDA_BACKUP": "",
    "JAVA_LD_LIBRARY_PATH": "/ext/anaconda2020.02/lib/server",
    "LD": "/ext/anaconda2020.02/bin/x86_64-conda_cos6-linux-gnu-ld",
    "LDFLAGS": "-Wl,-O2 -Wl,--sort-common -Wl,--as-needed -Wl,-z,relro -Wl,-z,now -Wl,--disable-new-dtags -Wl,--gc-sections -Wl,-rpath,/ext/anaconda2020.02/lib -Wl,-rpath-link,/ext/anaconda2020.02/lib -L/ext/anaconda2020.02/lib",
    "LD_GOLD": "/ext/anaconda2020.02/bin/x86_64-conda_cos6-linux-gnu-ld.gold",
    "LD_LIBRARY_PATH": "/ext/anaconda2020.02/lib",
    "MKL_INTERFACE_LAYER": "LP64,GNU",
    "MKL_THREADING_LAYER": "GNU",
    "NM": "/ext/anaconda2020.02/bin/x86_64-conda_cos6-linux-gnu-nm",
    "OBJCOPY": "/ext/anaconda2020.02/bin/x86_64-conda_cos6-linux-gnu-objcopy",
    "OBJDUMP": "/ext/anaconda2020.02/bin/x86_64-conda_cos6-linux-gnu-objdump",
    "OLDPWD": "/ext/anaconda2020.02",
    "PATH": "/ext/anaconda2020.02/bin:/ext/anaconda2020.02/bin:/ext/anaconda2020.02/condabin:/cocalc/bin:/cocalc/src/smc-project/bin:/home/salvus/bin:/home/salvus/.local/bin:/usr/lib/xpra:/ext/bin:/opt/ghc/bin:/usr/local/sbin:/usr/local/bin:/usr/sbin:/usr/bin:/sbin:/bin:/snap/bin:/usr/lib/postgresql/10/bin:/ext/data/homer/bin:/ext/data/weblogo",
    "PROJ_LIB": "/ext/anaconda2020.02/share/proj",
    "RANLIB": "/ext/anaconda2020.02/bin/x86_64-conda_cos6-linux-gnu-ranlib",
    "READELF": "/ext/anaconda2020.02/bin/x86_64-conda_cos6-linux-gnu-readelf",
    "RSTUDIO_WHICH_R": "/ext/anaconda2020.02/bin/R",
    "SIZE": "/ext/anaconda2020.02/bin/x86_64-conda_cos6-linux-gnu-size",
    "STRINGS": "/ext/anaconda2020.02/bin/x86_64-conda_cos6-linux-gnu-strings",
    "STRIP": "/ext/anaconda2020.02/bin/x86_64-conda_cos6-linux-gnu-strip",
    "_CE_CONDA": "",
    "_CE_M": "",
    "_CONDA_PYTHON_SYSCONFIGDATA_NAME": "_sysconfigdata_x86_64_conda_cos6_linux_gnu"
   },
   "language": "python",
   "metadata": {
    "cocalc": {
     "description": "Python/R distribution for data science",
     "priority": 5,
     "url": "https://www.anaconda.com/distribution/"
    }
   },
   "name": "anaconda2020"
  },
  "language_info": {
   "codemirror_mode": {
    "name": "ipython",
    "version": 3
   },
   "file_extension": ".py",
   "mimetype": "text/x-python",
   "name": "python",
   "nbconvert_exporter": "python",
   "pygments_lexer": "ipython3",
   "version": "3.7.4"
  },
  "varInspector": {
   "cols": {
    "lenName": 16,
    "lenType": 16,
    "lenVar": 40
   },
   "kernels_config": {
    "python": {
     "delete_cmd_postfix": "",
     "delete_cmd_prefix": "del ",
     "library": "var_list.py",
     "varRefreshCmd": "print(var_dic_list())"
    },
    "r": {
     "delete_cmd_postfix": ") ",
     "delete_cmd_prefix": "rm(",
     "library": "var_list.r",
     "varRefreshCmd": "cat(var_dic_list()) "
    }
   },
   "types_to_exclude": [
    "module",
    "function",
    "builtin_function_or_method",
    "instance",
    "_Feature"
   ],
   "window_display": false
  }
 },
 "nbformat": 4,
 "nbformat_minor": 4
}