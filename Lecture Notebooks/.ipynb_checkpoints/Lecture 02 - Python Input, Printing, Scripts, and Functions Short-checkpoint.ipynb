{
 "cells": [
  {
   "cell_type": "markdown",
   "metadata": {
    "deletable": false,
    "run_control": {
     "frozen": true
    }
   },
   "source": [
    "# Lecture 2 - Python Input, Printing, Scripts, and Functions\n",
    "## The Short Version\n",
    "---"
   ]
  },
  {
   "cell_type": "markdown",
   "metadata": {},
   "source": [
    "## Purpose\n",
    "\n",
    "- Use the **`.format()`** string method to generate specifically formatted output\n",
    "- Use the **`input()`** function to generate interactive input from the user in scripts and user-defined functions\n",
    "- Create, edit, and execute simple scripts using *Python*\n",
    "- Assign values to variable names within scripts\n",
    "- Request user input to assign values to variables in scripts using the **`input()`** function\n",
    "- Create and execute user-defined functions that do and do not accept arguments\n",
    "- Create and execute void and fruitful functions\n",
    "- Use **`print()`** to display output from scripts and user-defined functions"
   ]
  },
  {
   "cell_type": "markdown",
   "metadata": {
    "deletable": false,
    "editable": false,
    "run_control": {
     "frozen": true
    }
   },
   "source": [
    "## Some Creative Commons Reference Sources for This Material\n",
    "\n",
    "- *Think Python 2nd Edition*, Allen Downey, chapters 3 and 6\n",
    "- *The Coder's Apprentice*, Pieter Spronck, chapters 5 and 8\n",
    "- *A Practical Introduction to Python Programming*, Brian Heinold, chapters 1, 10, 13, and 23\n",
    "- *Algorithmic Problem Solving with Python*, John Schneider, Shira Broschat, and Jess Dahmen, chapters 3 and 4"
   ]
  },
  {
   "cell_type": "markdown",
   "metadata": {
    "deletable": false,
    "editable": false,
    "run_control": {
     "frozen": true
    }
   },
   "source": [
    "## Reviewing the **`print()`** Function\n",
    "\n",
    "- **`print()`** can display numeric values and text strings\n",
    "- Multiple items can be printed by separating items with commas\n",
    "- Force a line return in any string by adding the newline escape sequence **`\\n`**\n",
    "- The escape sequence **`\\t`** adds a tab\n",
    "- Multiplying a string by an integer in **`print()`** will print the string that number of times\n"
   ]
  },
  {
   "cell_type": "markdown",
   "metadata": {
    "deletable": false,
    "editable": false,
    "run_control": {
     "frozen": true
    }
   },
   "source": [
    "___\n",
    "**Practice it**\n",
    "\n",
    "Type and execute the following **`print()`** expressions in the following code cell.\n",
    "\n",
    "```python\n",
    "print(\"Python is awesome\")\n",
    "print('Lumberjacks', \"Parrots\", 42)\n",
    "print(4*5)\n",
    "print(2*'Hello')\n",
    "print('Hello,\\nWorld!')\n",
    "```"
   ]
  },
  {
   "cell_type": "code",
   "execution_count": null,
   "metadata": {},
   "outputs": [],
   "source": []
  },
  {
   "cell_type": "markdown",
   "metadata": {
    "deletable": false,
    "editable": false,
    "run_control": {
     "frozen": true
    }
   },
   "source": [
    "## Functions Versus Methods\n",
    "\n",
    "- *Python* uses both **functions** and **methods** to work with/on objects\n",
    "- Functions usually work with arguments to return a value or do something with the arguments\n",
    "  - Like the **`abs()`**\n",
    "  - Or like **`print()`**\n",
    "- Methods are similar to functions\n",
    "  - Methods usually work on an object using arguments to either return a value or change the object\n",
    "  - Can accept arguments\n",
    "  - Syntax is different\n",
    "  - We will look at the string **`.format()`** method in this notebook\n",
    "- See images below\n",
    "\n",
    "![Functions.png](Functions.png)\n",
    "\n",
    "![Methods.png](Methods.png)"
   ]
  },
  {
   "cell_type": "markdown",
   "metadata": {
    "deletable": false,
    "editable": false,
    "run_control": {
     "frozen": true
    }
   },
   "source": [
    "## Formatting Printed Output\n",
    "\n",
    "### The **`.format()`** String Method\n",
    "\n",
    "- Including the **`.format()`** string method within a **`print()`** function\n",
    "- Control exactly how numeric (and non-numeric) values are displayed\n",
    "- The general layout is `'The sum of {} and {} is {}'.format(item_1, item_2, item_3)`\n",
    "- The expression starts with a string that has curly braces `{}` as placeholders\n",
    "- Think of the curly braces as blanks in a fill-in-the-blanks statement\n",
    "- The **`.format()`** method directly follows the closing quote for the string\n",
    "- The arguments in the parentheses are the values (in order) that match the placeholders in the string\n",
    "- Arguments may be values and/or expressions\n",
    "- Placeholders can include formatting descriptors to generate very specific formatting\n",
    "- Formatting descriptors within braces must be preceded by a colon, i.e. **`{:.2f}`**.\n",
    "\n",
    "The website https://pyformat.info does a good job of explaining various examples of the **`.format()`** method; both simple and complex.\n"
   ]
  },
  {
   "cell_type": "markdown",
   "metadata": {
    "deletable": false,
    "editable": false,
    "run_control": {
     "frozen": true
    }
   },
   "source": [
    "___\n",
    "**Practice it**\n",
    "\n",
    "Display the result of **`22/7`** (an estimate for $\\pi$ that has historically been used by many tool makers and machinists) in a variety of ways using **`print()`** and the **`.format()`** string method. Modify the formatting descriptors within the curly braces in each of the following code cells then execute them.\n",
    "\n",
    "- Using **`print()`** with two arguments and a comma but no formatting"
   ]
  },
  {
   "cell_type": "code",
   "execution_count": null,
   "metadata": {
    "deletable": false,
    "editable": false,
    "run_control": {
     "frozen": true
    }
   },
   "outputs": [],
   "source": [
    "# Standard print() without .format()\n",
    "print('pi is close to', 22/7)"
   ]
  },
  {
   "cell_type": "markdown",
   "metadata": {
    "deletable": false,
    "editable": false,
    "run_control": {
     "frozen": true
    }
   },
   "source": [
    "- **`{}`** No specific formatting assigned"
   ]
  },
  {
   "cell_type": "code",
   "execution_count": null,
   "metadata": {
    "slideshow": {
     "slide_type": "fragment"
    }
   },
   "outputs": [],
   "source": [
    "print('pi is close to {}'.format(22/7))"
   ]
  },
  {
   "cell_type": "markdown",
   "metadata": {
    "deletable": false,
    "editable": false,
    "run_control": {
     "frozen": true
    },
    "slideshow": {
     "slide_type": "fragment"
    }
   },
   "source": [
    "- **`{:f}`** Standard floating point notation with the default number of decimal places"
   ]
  },
  {
   "cell_type": "code",
   "execution_count": null,
   "metadata": {
    "slideshow": {
     "slide_type": "fragment"
    }
   },
   "outputs": [],
   "source": [
    "print('pi is close to {}'.format(22/7))"
   ]
  },
  {
   "cell_type": "markdown",
   "metadata": {},
   "source": [
    "- **`{:.5f}`** Standard floating point notation with 5-decimal places"
   ]
  },
  {
   "cell_type": "code",
   "execution_count": null,
   "metadata": {
    "collapsed": true,
    "jupyter": {
     "outputs_hidden": true,
     "source_hidden": false
    },
    "nteract": {
     "transient": {
      "deleting": false
     }
    }
   },
   "outputs": [],
   "source": [
    "print('pi is close to {}'.format(22/7))"
   ]
  },
  {
   "cell_type": "markdown",
   "metadata": {
    "deletable": false,
    "editable": false,
    "run_control": {
     "frozen": true
    }
   },
   "source": [
    "### Formatted String Literals\n",
    "\n",
    "- New to *Python* starting with version 3.6 \n",
    "- Also called \"*f-strings*\"\n",
    "- Work like the **`.format()`** method but in a more direct way\n",
    "- Use **`print(f'pi is close to {22/7}')`** instead of **`print('pi is close to {}'.format(22/7))`** \n",
    "- Allow expressions or variables to be placed directly within the curly braces\n",
    "- Use a colon is added after the expression or variable to add a formatting descriptor\n",
    "  - **`print(f'pi is close to {22/7:.8f}')`**\n",
    "\n",
    "___\n",
    "**Practice it**\n",
    "  \n",
    "Modify the formatting descriptors within the curly braces in each of the following code cells then execute them.\n",
    "\n",
    "- **`:f`** Standard floating point notation with the default number of decimal places\n"
   ]
  },
  {
   "cell_type": "code",
   "execution_count": null,
   "metadata": {},
   "outputs": [],
   "source": [
    "print(f'pi is close to {22/7}')"
   ]
  },
  {
   "cell_type": "markdown",
   "metadata": {
    "deletable": false,
    "editable": false,
    "run_control": {
     "frozen": true
    }
   },
   "source": [
    "- **`:.16f`** Standard floating point notation with 16-decimal places"
   ]
  },
  {
   "cell_type": "code",
   "execution_count": null,
   "metadata": {},
   "outputs": [],
   "source": [
    "print(f'pi is close to {22/7}')"
   ]
  },
  {
   "cell_type": "markdown",
   "metadata": {
    "deletable": false,
    "editable": false,
    "run_control": {
     "frozen": true
    },
    "slideshow": {
     "slide_type": "fragment"
    }
   },
   "source": [
    "- **`:e`** Exponential notation (use `:E` for uppercase)"
   ]
  },
  {
   "cell_type": "code",
   "execution_count": null,
   "metadata": {},
   "outputs": [],
   "source": [
    "print(f'pi is close to {22/7}')"
   ]
  },
  {
   "cell_type": "markdown",
   "metadata": {
    "deletable": false,
    "editable": false,
    "run_control": {
     "frozen": true
    },
    "slideshow": {
     "slide_type": "fragment"
    }
   },
   "source": [
    "- **`:.12E`** Exponential notation with 12-decimal places"
   ]
  },
  {
   "cell_type": "code",
   "execution_count": null,
   "metadata": {},
   "outputs": [],
   "source": [
    "print(f'pi is close to {22/7}')"
   ]
  },
  {
   "cell_type": "markdown",
   "metadata": {
    "deletable": false,
    "editable": false,
    "run_control": {
     "frozen": true
    },
    "slideshow": {
     "slide_type": "fragment"
    }
   },
   "source": [
    "- **`:g`** Standard or exponential notation, whichever is more efficient (use `G` for uppercase)"
   ]
  },
  {
   "cell_type": "code",
   "execution_count": null,
   "metadata": {},
   "outputs": [],
   "source": [
    "print(f'pi is close to {22/7}')"
   ]
  },
  {
   "cell_type": "markdown",
   "metadata": {
    "deletable": false,
    "editable": false,
    "run_control": {
     "frozen": true
    },
    "slideshow": {
     "slide_type": "fragment"
    }
   },
   "source": [
    "- **`:.12g`** 12-decimal places and automatically use standard or exponential notation, whichever is shorter"
   ]
  },
  {
   "cell_type": "code",
   "execution_count": null,
   "metadata": {},
   "outputs": [],
   "source": [
    "print(f'pi is close to {22/7}')"
   ]
  },
  {
   "cell_type": "markdown",
   "metadata": {
    "deletable": false,
    "editable": false,
    "run_control": {
     "frozen": true
    },
    "slideshow": {
     "slide_type": "fragment"
    }
   },
   "source": [
    "- **`:8.3f`** Total width to 8 characters with 3 to the right of the decimal"
   ]
  },
  {
   "cell_type": "code",
   "execution_count": null,
   "metadata": {},
   "outputs": [],
   "source": [
    "print(f'pi is close to {22/7}')"
   ]
  },
  {
   "cell_type": "markdown",
   "metadata": {
    "deletable": false,
    "run_control": {
     "frozen": true
    }
   },
   "source": [
    "___\n",
    "*What does the above formatting descriptor mean?*\n",
    "\n",
    "- **`8`** means that there are 8 total characters set aside \n",
    "- **`.3`** says there are to be 3 digits to the right of the decimal point\n",
    "- **`f`** means the value will be formatted as a float\n",
    "- Decimal point counts as a character\n",
    "- Leading blanks are added as needed\n",
    "\n",
    "```\n",
    "| | | |3|.|1|4|3|  <= formatted value\n",
    "| | | | | | | | |\n",
    "|8|7|6|5|4|3|2|1|  <= characters set aside for the value\n",
    "```\n",
    "___"
   ]
  },
  {
   "cell_type": "markdown",
   "metadata": {
    "deletable": false,
    "editable": false,
    "run_control": {
     "frozen": true
    }
   },
   "source": [
    "- **`:+08.3f`** Same as the previous but with leading zeros and the +/- sign"
   ]
  },
  {
   "cell_type": "code",
   "execution_count": null,
   "metadata": {},
   "outputs": [],
   "source": [
    "print(f'pi is close to {22/7}')"
   ]
  },
  {
   "cell_type": "markdown",
   "metadata": {
    "deletable": false,
    "editable": false,
    "run_control": {
     "frozen": true
    }
   },
   "source": [
    "- **`:.0f`** Force a floating point to display no values right of the decimal (treat it like an integer)"
   ]
  },
  {
   "cell_type": "code",
   "execution_count": null,
   "metadata": {},
   "outputs": [],
   "source": [
    "print(f'pi is close to {22/7}')"
   ]
  },
  {
   "cell_type": "markdown",
   "metadata": {
    "deletable": false,
    "editable": false,
    "run_control": {
     "frozen": true
    }
   },
   "source": [
    "- You can use variables within f-strings as well as values and calculations. Try it by executing the following cell after setting the formatting to 8-decimal places."
   ]
  },
  {
   "cell_type": "code",
   "execution_count": null,
   "metadata": {},
   "outputs": [],
   "source": [
    "almost_pi = 22/7\n",
    "print(f'pi is close to {almost_pi}')"
   ]
  },
  {
   "cell_type": "markdown",
   "metadata": {
    "deletable": false,
    "editable": false,
    "run_control": {
     "frozen": true
    }
   },
   "source": [
    "___\n",
    "**Practice it some more**\n",
    "\n",
    "Here are few more common and useful formatting descriptors. Modify and execute each of them to see the output they generate.\n",
    "\n",
    "- **`:d`** Standard integer (object must be of `int` type)"
   ]
  },
  {
   "cell_type": "code",
   "execution_count": null,
   "metadata": {},
   "outputs": [],
   "source": [
    "print(f'Integer value: {42}')"
   ]
  },
  {
   "cell_type": "markdown",
   "metadata": {
    "deletable": false,
    "editable": false,
    "run_control": {
     "frozen": true
    }
   },
   "source": [
    "- **`:4d`** Integer with 4 total characters"
   ]
  },
  {
   "cell_type": "code",
   "execution_count": null,
   "metadata": {},
   "outputs": [],
   "source": [
    "print(f'Integer value: {42}')"
   ]
  },
  {
   "cell_type": "markdown",
   "metadata": {
    "deletable": false,
    "editable": false,
    "run_control": {
     "frozen": true
    }
   },
   "source": [
    "- **`:04d`** Integer with 4 total characters and leading zeros"
   ]
  },
  {
   "cell_type": "code",
   "execution_count": null,
   "metadata": {},
   "outputs": [],
   "source": [
    "print(f'Integer value: {42}')"
   ]
  },
  {
   "cell_type": "markdown",
   "metadata": {
    "deletable": false,
    "editable": false,
    "run_control": {
     "frozen": true
    }
   },
   "source": [
    "- **`:+04d`** Integer with 4 total characters, leading zeros, and the +/- sign"
   ]
  },
  {
   "cell_type": "code",
   "execution_count": null,
   "metadata": {},
   "outputs": [],
   "source": [
    "print(f'Integer value: {42}')"
   ]
  },
  {
   "cell_type": "markdown",
   "metadata": {
    "deletable": false,
    "editable": false,
    "run_control": {
     "frozen": true
    }
   },
   "source": [
    "- **`:,d`** Integer with comma separators"
   ]
  },
  {
   "cell_type": "code",
   "execution_count": null,
   "metadata": {},
   "outputs": [],
   "source": [
    "print(f'Integer value: {987654321}')"
   ]
  },
  {
   "cell_type": "markdown",
   "metadata": {
    "deletable": false,
    "editable": false,
    "run_control": {
     "frozen": true
    }
   },
   "source": [
    "- **`:s`** String (although setting the formatting is not really necessary in this case)"
   ]
  },
  {
   "cell_type": "code",
   "execution_count": null,
   "metadata": {},
   "outputs": [],
   "source": [
    "first_name = \"Slim\"\n",
    "last_name = \"Shady\"\n",
    "print(f'I am the real {first_name} {last_name}')"
   ]
  },
  {
   "cell_type": "markdown",
   "metadata": {
    "deletable": false,
    "editable": false,
    "run_control": {
     "frozen": true
    }
   },
   "source": [
    "## The **`input()`** Function\n",
    "\n",
    "- Used to request information from a user at a command line for use in a script\n",
    "- It accepts one optional argument\n",
    "  - A statement or question to the user so they know what to enter\n",
    "  - Must be a string or formatted string\n",
    "- **`input()`** always returns a string\n",
    "- Must specifically convert the returned value to an integer or float if that is desired\n",
    "  - Last two examples have the **`input()`** function inside of **`float()`** and **`int()`**\n",
    "- Good practice to end prompt strings with a delimiter of some sort and a space\n",
    "- Common delimiters\n",
    "  - Question mark (`?`)\n",
    "  - Colon (`:`)\n",
    "  - Right arrow (`>`)\n",
    "- The delimiter and space makes it easier to read, so *do this*\n",
    "\n",
    "```python\n",
    "user_name = input('What is your name? ')\n",
    "city = input(\"Enter your city of residence: \")\n",
    "applied_load = float(input('Enter the applied load (lbf): '))\n",
    "age = int(input('Enter your current age > '))\n",
    "```"
   ]
  },
  {
   "cell_type": "markdown",
   "metadata": {
    "deletable": false,
    "editable": false,
    "run_control": {
     "frozen": true
    }
   },
   "source": [
    "___\n",
    "**Practice it**\n",
    "\n",
    "Write and execute three **`input()`** functions with prompts and variable assignments.\n",
    "\n",
    "1. Request text-based information\n",
    "2. Ask for an integer and convert the response to such\n",
    "3. Ask for a decimal value and convert the response appropriately as well\n",
    "\n",
    "Make sure you end each prompt string with a delimiter and space."
   ]
  },
  {
   "cell_type": "code",
   "execution_count": null,
   "metadata": {},
   "outputs": [],
   "source": []
  },
  {
   "cell_type": "code",
   "execution_count": null,
   "metadata": {},
   "outputs": [],
   "source": []
  },
  {
   "cell_type": "code",
   "execution_count": null,
   "metadata": {},
   "outputs": [],
   "source": []
  },
  {
   "cell_type": "markdown",
   "metadata": {
    "deletable": false,
    "editable": false,
    "run_control": {
     "frozen": true
    }
   },
   "source": [
    "## Scripting and Functions Background\n",
    "\n",
    "- Scripts or user-defined functions can do most everything that can be done in a *Jupyter* code cell\n",
    "- Quite often it is more efficient to use a script or user-defined function\n",
    "- Scripts are sometimes called programs\n",
    "- Simple scripts are lists of commands that are executed sequentially from top to bottom\n",
    "- Variables used in scripts can be assigned values a number of ways\n",
    "  1. Assign within the script (hard-coded)\n",
    "  2. Ask the user to input a value at a prompt\n",
    "  3. Pass when the script is executed\n",
    "  4. Load values from a file"
   ]
  },
  {
   "cell_type": "markdown",
   "metadata": {
    "deletable": false,
    "editable": false,
    "run_control": {
     "frozen": true
    }
   },
   "source": [
    "## Script and User-Defined Function Details\n",
    "- User-defined functions are similar to scripts\n",
    "- They generally receive input by passing arguments instead of using **`input()`**\n",
    "- **`abs(-100)`** passes **`-100`** as an argument to the absolute value function\n",
    "- Functions be included inside scripts or as part of a module\n",
    "- Functions must be defined before the function is called (used) in a script\n",
    "- Good programming practice\n",
    "  - Place all **`import`** statements at the beginning of scripts\n",
    "  - Place all user-defined functions immediately after imports\n",
    "- Assigned variables in scripts are available for use after being assigned\n",
    "- Argument names passed into and used in a function are only available for use in that function\n",
    "- Results in scripts and functions can be displayed/output using...\n",
    "  - **`print()`** \n",
    "  - Writing output values to a text file\n",
    "- Functions usually just return results back to the calling location\n",
    "- **`abs(-100)`** returns the value **`100`** but does not print the result\n",
    "- Not all user-defined functions return values (sometimes called **void functions**) \n",
    "- Functions that return values are sometimes called **fruitful functions**.\n",
    "- Scripts and user-defined functions should include comments explaining \"why\""
   ]
  },
  {
   "cell_type": "markdown",
   "metadata": {
    "deletable": false,
    "editable": false,
    "run_control": {
     "frozen": true
    }
   },
   "source": [
    "## Creating, Editing, and Executing a Script\n",
    "\n",
    "- Plain text files written using text editors\n",
    "  - *Jupyter* environment includes a simple text editor with syntax highlighting\n",
    "  - *VSCode* is a good, free text editor for programming in *Python*\n",
    "- *Python* script files end with a **`.py`** extension\n",
    "- Execute scripts from...\n",
    "  - Command line prompt: **`python script_name.py`** or **`python3 script_name.py`**\n",
    "  - *Jupyter* code cell: **`run my_script.py`** if script is in the same directory as the notebook\n",
    "  - *Python* prompt: **`import my_script`**\n",
    "- Good practice to include comments at the top of a script file\n",
    "  - Describing what the script does\n",
    "  - Units that are used\n",
    "  - Special conditions, etc. \n",
    "  - Should include a comment with your name, website, licensing, etc."
   ]
  },
  {
   "cell_type": "markdown",
   "metadata": {
    "deletable": false,
    "editable": false,
    "run_control": {
     "frozen": true
    }
   },
   "source": [
    "___\n",
    "**Practice it: Creating Your First Script File**\n",
    "\n",
    "Create a **New** text file named **`mph2kph.py`**. It is important that you don't have any spaces before, after, or within the script name and that you include the extension. Use the editor to create a short script as outlined below that converts from mph to km/h. Start by copying the provided outline to the new script. \"Hard code\" the value of `mph` instead of using an **`input()`** for this first script.\n",
    "\n",
    "Execute your script from this notebook when done by typing **`run mph2kph.py`** in the provided code cell."
   ]
  },
  {
   "cell_type": "raw",
   "metadata": {},
   "source": [
    "#==========================================================\n",
    "# this file converts mph to km/h\n",
    "# the conversion factor is 1 mph = 1.609 km/h\n",
    "# \n",
    "# author: brian brady (use your name)\n",
    "# class: MECH 322 (8am, 10am, 3pm)\n",
    "#==========================================================\n",
    "\n",
    "# assign a value to a variable named 'mph'\n",
    "\n",
    "# assign the value 1.609 to a variable named 'conversion'\n",
    "\n",
    "# calculate and assign the speed in km/h to the variable 'kph'\n",
    "\n",
    "# use a print() function to create output similar the following example:\n",
    "# 60 mph is 96.53999999 km/h\n",
    "\n",
    "\n",
    "# end of script"
   ]
  },
  {
   "cell_type": "code",
   "execution_count": null,
   "metadata": {},
   "outputs": [],
   "source": [
    "# Run you script here (replace this entire line of text with the command to run the script)\n"
   ]
  },
  {
   "cell_type": "markdown",
   "metadata": {
    "deletable": false,
    "editable": false,
    "run_control": {
     "frozen": true
    }
   },
   "source": [
    "___\n",
    "**Practice it**\n",
    "\n",
    "Make a duplicate the previous script and name it **`mph2kph_input.py`**. Instead of assigning a fixed value to **`mph`**, use an **`input()`** function that asks the user to enter a speed in mph. You will need to place the **`input()`** function inside the parentheses of a **`float()`** function to convert the input value so you can perform calculations with the value.\n",
    "\n",
    "Change the **`print()`** expression to use formatted output that displays the input speed with no special formatting and the calculated speed with one decimal place. Run the script in the three empty code cells below using three different speeds of your choosing."
   ]
  },
  {
   "cell_type": "code",
   "execution_count": null,
   "metadata": {},
   "outputs": [],
   "source": []
  },
  {
   "cell_type": "code",
   "execution_count": null,
   "metadata": {},
   "outputs": [],
   "source": []
  },
  {
   "cell_type": "code",
   "execution_count": null,
   "metadata": {},
   "outputs": [],
   "source": []
  },
  {
   "cell_type": "markdown",
   "metadata": {
    "deletable": false,
    "editable": false,
    "run_control": {
     "frozen": true
    }
   },
   "source": [
    "___\n",
    "**Practice it**\n",
    "\n",
    "Create a script called **`windchill.py`** that uses **`input()`** functions to ask the user to enter the air temperature in degrees F and the wind speed in mph then calculates the wind chill temperature $T_{wc}$ in degrees F. \n",
    "\n",
    "$\\qquad\\displaystyle T_{wc}=35.74 + 0.6215 \\,T - 35.75 \\,v^{0.16} + 0.4275\\,T \\,v^{0.16} $\n",
    "\n",
    "Print the statement **\"xxx degrees F with a wind speed of yyy mph equals a wind chill of zzz degrees F\"** using formatted printing such that the input values have no special formatting and the calculated value is a float with zero decimal places. Include introductory comments with this script that describes what it does, the units being used, and your name (similar to the previous scripts). Test the script three times with the following values:\n",
    "\n",
    "- $30^{\\circ}\\text{F}$ with $10 \\text{ mph}$\n",
    "- $10^{\\circ}\\text{F}$ with $30 \\text{ mph}$\n",
    "- $-10^{\\circ}\\text{F}$ with $20 \\text{ mph}$\n",
    "\n",
    "You should get results of $21^{\\circ}\\text{ F}$, $-12^{\\circ}\\text{ F}$, and $-35^{\\circ}\\text{ F}$.\n"
   ]
  },
  {
   "cell_type": "code",
   "execution_count": null,
   "metadata": {},
   "outputs": [],
   "source": []
  },
  {
   "cell_type": "code",
   "execution_count": null,
   "metadata": {},
   "outputs": [],
   "source": []
  },
  {
   "cell_type": "code",
   "execution_count": null,
   "metadata": {},
   "outputs": [],
   "source": []
  },
  {
   "cell_type": "markdown",
   "metadata": {
    "deletable": false,
    "editable": false,
    "run_control": {
     "frozen": true
    }
   },
   "source": [
    "## Importance of Indentation\n",
    "\n",
    "* Indentation (white space) is important in *Python*\n",
    "- In the above script example all lines were aligned on the left edge\n",
    "- Indentation is used to group commands for specific purposes\n",
    "- The default indentation is no indentation at all\n",
    "- Even a single space at the beginning of a line will generate an error"
   ]
  },
  {
   "cell_type": "code",
   "execution_count": null,
   "metadata": {},
   "outputs": [],
   "source": [
    "# The following line has a space at the beginning\n",
    " print(\"Spaces are important\")"
   ]
  },
  {
   "cell_type": "markdown",
   "metadata": {
    "deletable": false,
    "editable": false,
    "run_control": {
     "frozen": true
    }
   },
   "source": [
    "## User-Defined Function Structure\n",
    "- Indent all commands that belong to the function by 4-spaces except the header\n",
    "- Signals to *Python* that the lines belong to the named in the header\n",
    "- The following image illustrates the basic structure of user-defined functions\n",
    "\n",
    "![function_definition.png](function_definition.png)"
   ]
  },
  {
   "cell_type": "markdown",
   "metadata": {
    "deletable": false,
    "editable": false,
    "run_control": {
     "frozen": true
    }
   },
   "source": [
    "- The first line is the **function header** and includes...\n",
    "  - Function name\n",
    "  - Any arguments to pass in parentheses \n",
    "  - End with a colon\n",
    "- Lines below the header are the **function body**\n",
    "  - Must consist of at least one command\n",
    "  - **`pass`** command may be used as a placeholder if there are no other commands\n",
    "  - A **`pass`** command tells *Python* to immediately exit the function and return to where it was\n",
    "- Function definitions may optionally include a **docstring**\n",
    "  - Displays information about the function when **`help()`** is called with the function name\n",
    "  - The docstring must be enclosed by a set of three double quotes\n",
    "  - Can span multiple lines if needed, but just one set of double quotes total"
   ]
  },
  {
   "cell_type": "markdown",
   "metadata": {
    "deletable": false,
    "editable": false,
    "run_control": {
     "frozen": true
    }
   },
   "source": [
    "### Void Functions\n",
    "\n",
    "- Void functions do not return any values \n",
    "- They may print the results, but don't return any values\n",
    "- The above function definition is a useless void function since it only contains **`pass`**\n"
   ]
  },
  {
   "cell_type": "markdown",
   "metadata": {
    "deletable": false,
    "editable": false,
    "run_control": {
     "frozen": true
    }
   },
   "source": [
    "___\n",
    "**Practice it**\n",
    "\n",
    "Below is a function definition for a void function that simply prints **`Hello, World!`**. Notice that it does not accept any arguments (the parentheses in the header are empty). Execute the code cell to place the function in memory. Then call the function in the next code cell using **`hello()`** (make sure that you include the parentheses). Ask for help on the function in the second code cell."
   ]
  },
  {
   "cell_type": "code",
   "execution_count": null,
   "metadata": {},
   "outputs": [],
   "source": [
    "def hello():\n",
    "    \"\"\"This function just prints the phrase 'Hello, World!'\n",
    "    It does not return any results and it does not accept any arguments\n",
    "    \"\"\"\n",
    "    print('Hello, World!')"
   ]
  },
  {
   "cell_type": "code",
   "execution_count": null,
   "metadata": {},
   "outputs": [],
   "source": []
  },
  {
   "cell_type": "code",
   "execution_count": null,
   "metadata": {},
   "outputs": [],
   "source": []
  },
  {
   "cell_type": "markdown",
   "metadata": {
    "deletable": false,
    "editable": false,
    "run_control": {
     "frozen": true
    }
   },
   "source": [
    "___\n",
    "**Practice it**\n",
    "\n",
    "The following code block contains another void function that accepts a single argument and prints the result of the argument value multiplied  by $2$. Execute the code cell with the function definition and then execute the function with any numeric argument of your choosing in the next code cell."
   ]
  },
  {
   "cell_type": "code",
   "execution_count": null,
   "metadata": {},
   "outputs": [],
   "source": [
    "def double_me(value):\n",
    "    \"\"\"This function multiplies the argument named value by 2\n",
    "    and prints the result\n",
    "    \"\"\"\n",
    "    doubled_value = value * 2\n",
    "    print(doubled_value)"
   ]
  },
  {
   "cell_type": "code",
   "execution_count": null,
   "metadata": {},
   "outputs": [],
   "source": []
  },
  {
   "cell_type": "markdown",
   "metadata": {
    "deletable": false,
    "editable": false,
    "run_control": {
     "frozen": true
    }
   },
   "source": [
    "___\n",
    "**Practice it**\n",
    "\n",
    "This next example is also a void function, but it accepts two arguments. Add an expression in the **`print()`** function parentheses to multiply the first argument by the second and then execute the code cell to place it in memory. Execute the function in the blank code cell with any pair of numeric values. Notice that the argument names used in this and the previous example are not the same. You can use any valid variable name as a function argument name."
   ]
  },
  {
   "cell_type": "code",
   "execution_count": null,
   "metadata": {},
   "outputs": [],
   "source": [
    "def multiply2(arg1, arg2):\n",
    "    print()"
   ]
  },
  {
   "cell_type": "code",
   "execution_count": null,
   "metadata": {},
   "outputs": [],
   "source": []
  },
  {
   "cell_type": "markdown",
   "metadata": {
    "deletable": false,
    "editable": false,
    "run_control": {
     "frozen": true
    }
   },
   "source": [
    "___\n",
    "**Practice it**\n",
    "\n",
    "In the following code cell define a function called **`print_mph2kph`** that takes one argument named **`mph`**. The function should convert **`mph`** to km/h and assign the result to the name **`kph`**. On the last line of the function print the result so that it reads **\"xxx mph equals yyy km/h\"**, where **\"xxx\"** and **\"yyy\"** are replaced by values of **`mph`** and **`kph`**. In the next two empty code cells test the function with two different speeds."
   ]
  },
  {
   "cell_type": "code",
   "execution_count": null,
   "metadata": {},
   "outputs": [],
   "source": []
  },
  {
   "cell_type": "code",
   "execution_count": null,
   "metadata": {},
   "outputs": [],
   "source": []
  },
  {
   "cell_type": "code",
   "execution_count": null,
   "metadata": {},
   "outputs": [],
   "source": []
  },
  {
   "cell_type": "markdown",
   "metadata": {
    "deletable": false,
    "run_control": {
     "frozen": true
    }
   },
   "source": [
    "### Fruitful Functions\n",
    "\n",
    "- Fruitful functions return a value back to the caller\n",
    "- They usually do not create any printed output\n",
    "- Need to have a **`return`** statement \n",
    "- The **`return`** is located on the last line since a function quits when a value is returned\n",
    "- Multiple values can be returned by separating the values with commas after the **`return`** statement\n",
    "- Unlike the **`print()`** function, **`return`** is a statement and does not use parentheses\n",
    "- The example below illustrates the general structure of a fruitful function\n",
    "\n",
    "``` python\n",
    "def my_function(arg1,arg2):\n",
    "    \"\"\"docstring\"\"\"\n",
    "    body line 1\n",
    "    body line 2\n",
    "    return value1, value2\n",
    "```"
   ]
  },
  {
   "cell_type": "markdown",
   "metadata": {
    "deletable": false,
    "editable": false,
    "run_control": {
     "frozen": true
    }
   },
   "source": [
    "___\n",
    "**Practice it**\n",
    "\n",
    "The following incomplete function definition is a modification of the **`double_me`** function called **`double_me2`**. This time, instead of printing the result of the calculation, the function should **`return`** the result. Modify the function definition so that it returns **`doubled_value`**. Execute the code cell to place the function into memory and then test the function in the next two blank code cells with values of your choosing. Assign the result of the function call to the variable name **`two_times`** in the second test cell and then print **`two_times`**. Do you remember how to assign a variable name to a calculation?"
   ]
  },
  {
   "cell_type": "code",
   "execution_count": null,
   "metadata": {},
   "outputs": [],
   "source": [
    "def double_me2(value):\n",
    "    \"\"\"This function multiplies the argument named value by 2\n",
    "    and returns the result\n",
    "    \"\"\"\n",
    "    doubled_value = value * 2"
   ]
  },
  {
   "cell_type": "code",
   "execution_count": null,
   "metadata": {},
   "outputs": [],
   "source": []
  },
  {
   "cell_type": "code",
   "execution_count": null,
   "metadata": {},
   "outputs": [],
   "source": []
  },
  {
   "cell_type": "markdown",
   "metadata": {
    "deletable": false,
    "editable": false,
    "run_control": {
     "frozen": true
    }
   },
   "source": [
    "A more **Pythonic** way to define the above function would be to move the calculation to the **`return`** line. Unless the intermediate variable is needed for another calculation in the function, it is more efficient to just return the calculation directly. \n",
    "\n",
    "___\n",
    "**Practice it**\n",
    "\n",
    "Edit the following function definition to perform the calculation on the **`return`** line and execute the function definition to place it into memory. Then call this new function with a value of your choosing."
   ]
  },
  {
   "cell_type": "code",
   "execution_count": null,
   "metadata": {},
   "outputs": [],
   "source": [
    "def double_me3(value):\n",
    "    \"\"\"This function multiplies the argument named value by 2\n",
    "    and returns the result\n",
    "    \"\"\"\n",
    "    "
   ]
  },
  {
   "cell_type": "code",
   "execution_count": null,
   "metadata": {},
   "outputs": [],
   "source": []
  },
  {
   "cell_type": "markdown",
   "metadata": {
    "deletable": false,
    "editable": false,
    "run_control": {
     "frozen": true
    }
   },
   "source": [
    "___\n",
    "**Practice it**\n",
    "\n",
    "The following (incomplete) function named **`rectangles`** should return the area and perimeter of a rectangle with sides of **`width`** and **`height`**. Edit the function definition such that the **`return`** line includes the calculations for area and perimeter. Execute the function definition then test the function with two different sets of arguments of your choosing.\n",
    "\n",
    "For the second test, assign the function call to a set of varibles like so...\n",
    "\n",
    "**`(area, perim) = rectangles(width, height)`** \n",
    "\n",
    "except with your numeric width and height values. The grouping **`(area, perim)`** is referred to as a **tuple** by *Python* and is the *Pythonic* way of assigning multiple values to varaible names at the same time. In the final blank code cell print both **`area`** and **`perim`**."
   ]
  },
  {
   "cell_type": "code",
   "execution_count": null,
   "metadata": {},
   "outputs": [],
   "source": [
    "def rectangles(width, height):\n",
    "    \"\"\"Returns the area and perimeter (in that order) for a rectangle of width and height\"\"\"\n",
    "    return "
   ]
  },
  {
   "cell_type": "code",
   "execution_count": null,
   "metadata": {},
   "outputs": [],
   "source": []
  },
  {
   "cell_type": "code",
   "execution_count": null,
   "metadata": {},
   "outputs": [],
   "source": []
  },
  {
   "cell_type": "code",
   "execution_count": null,
   "metadata": {},
   "outputs": [],
   "source": []
  },
  {
   "cell_type": "markdown",
   "metadata": {
    "deletable": false,
    "editable": false,
    "run_control": {
     "frozen": true
    }
   },
   "source": [
    "___\n",
    "**Practice it**\n",
    "\n",
    "Copy the previously created **`print_mph2kph`** function into the following code cell. Rename this version of the function to **`return_mph2kph`** and modify the function body such that it returns the speed in km/h but does not print anything. Test this version with the same speeds as above in the provided code cells. In the second code cell, assign the result of the function call to the name **`speed`** and then **`print(speed)`**."
   ]
  },
  {
   "cell_type": "code",
   "execution_count": null,
   "metadata": {},
   "outputs": [],
   "source": []
  },
  {
   "cell_type": "code",
   "execution_count": null,
   "metadata": {},
   "outputs": [],
   "source": []
  },
  {
   "cell_type": "code",
   "execution_count": null,
   "metadata": {},
   "outputs": [],
   "source": []
  },
  {
   "cell_type": "markdown",
   "metadata": {
    "deletable": false,
    "editable": false,
    "run_control": {
     "frozen": true
    }
   },
   "source": [
    "___\n",
    "**Practice it**\n",
    "\n",
    "Define a function called **`windchill`** that does the same thing as the script from earlier called **`windchill.py`** except instead of using **`input()`** functions to get the air temperature and wind speed uses two arguments called **`tempF`** and **`vel_mph`**. Round the resulting wind chill temperature to zero decimal places. Have the function both print the statement **\"xxx degrees F with a wind speed of yyy mph equals a wind chill of zzz degrees F\"** and return the wind chill temperature. Include a descriptive docstring with this function.\n",
    "\n",
    "$\\qquad\\displaystyle T_{wc}=35.74 + 0.6215 \\,T - 35.75 \\,v^{0.16} + 0.4275\\,T \\,v^{0.16} $\n",
    "\n",
    "Test the function three times with the following values:\n",
    "- $30^{\\circ}\\text{F}$ with $30 \\text{ mph}$\n",
    "- $20^{\\circ}\\text{F}$ with $20 \\text{ mph}$\n",
    "- $10^{\\circ}\\text{F}$ with $10 \\text{ mph}$\n",
    "\n",
    "You should get results of $15^{\\circ}\\text{F}$, $4^{\\circ}\\text{F}$, and $-4^{\\circ}\\text{F}$."
   ]
  },
  {
   "cell_type": "code",
   "execution_count": null,
   "metadata": {},
   "outputs": [],
   "source": []
  },
  {
   "cell_type": "code",
   "execution_count": null,
   "metadata": {},
   "outputs": [],
   "source": []
  },
  {
   "cell_type": "code",
   "execution_count": null,
   "metadata": {},
   "outputs": [],
   "source": []
  },
  {
   "cell_type": "code",
   "execution_count": null,
   "metadata": {},
   "outputs": [],
   "source": []
  },
  {
   "cell_type": "markdown",
   "metadata": {
    "deletable": false,
    "editable": false,
    "run_control": {
     "frozen": true
    }
   },
   "source": [
    "___\n",
    "**Wrap it up**\n",
    "\n",
    "Click on the **Save** button and then **Close and halt** from the **File** menu when you are done before you close your browser tab."
   ]
  }
 ],
 "metadata": {
  "kernelspec": {
   "display_name": "Python 3",
   "language": "python",
   "name": "python3"
  },
  "language_info": {
   "codemirror_mode": {
    "name": "ipython",
    "version": 3
   },
   "file_extension": ".py",
   "mimetype": "text/x-python",
   "name": "python",
   "nbconvert_exporter": "python",
   "pygments_lexer": "ipython3",
   "version": "3.8.5"
  },
  "nteract": {
   "version": "0.25.1"
  },
  "varInspector": {
   "cols": {
    "lenName": 16,
    "lenType": 16,
    "lenVar": 40
   },
   "kernels_config": {
    "python": {
     "delete_cmd_postfix": "",
     "delete_cmd_prefix": "del ",
     "library": "var_list.py",
     "varRefreshCmd": "print(var_dic_list())"
    },
    "r": {
     "delete_cmd_postfix": ") ",
     "delete_cmd_prefix": "rm(",
     "library": "var_list.r",
     "varRefreshCmd": "cat(var_dic_list()) "
    }
   },
   "types_to_exclude": [
    "module",
    "function",
    "builtin_function_or_method",
    "instance",
    "_Feature"
   ],
   "window_display": false
  }
 },
 "nbformat": 4,
 "nbformat_minor": 4
}
