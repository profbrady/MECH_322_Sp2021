{
 "cells": [
  {
   "cell_type": "markdown",
   "metadata": {
    "deletable": false,
    "editable": false,
    "run_control": {
     "frozen": true
    }
   },
   "source": [
    "# Lecture 12 - NumPy Matrix Operations\n",
    "___"
   ]
  },
  {
   "cell_type": "code",
   "execution_count": null,
   "metadata": {},
   "outputs": [],
   "source": [
    "name = \"Your name here\"\n",
    "print(\"Name:\", name.upper())"
   ]
  },
  {
   "cell_type": "markdown",
   "metadata": {
    "deletable": false,
    "editable": false,
    "run_control": {
     "frozen": true
    }
   },
   "source": [
    "## Purpose:\n",
    "\n",
    "A previous lab introduced a number of mathematical operations for arrays (one and two-dimensional). Particularly, the focus was on operations performed with arrays and scalars and element-by-element operations. This lab will concentrate on *NumPy* array and matrix operations that are used to solve systems of simultaneous equations and other special array operations.\n",
    "\n",
    "## Instructions\n",
    "\n",
    "1. Replace \"Your name here\" in the cell below the assignment title with your first and last names and then execute the cell using \"Shift-Enter\"\n",
    "2. Execute the time stamp cell \n",
    "3. Follow along with the instructor in class as we use *Python* with *NumPy* for specific matrix operations\n",
    "4. Execute the date stamp cell at the end of the document and submitting your saved `.ipynb` file to *Canvas* for credit"
   ]
  },
  {
   "cell_type": "code",
   "execution_count": null,
   "metadata": {
    "deletable": false,
    "editable": false
   },
   "outputs": [],
   "source": [
    "from datetime import datetime\n",
    "from pytz import timezone\n",
    "print(datetime.now(timezone('US/Eastern')))"
   ]
  },
  {
   "cell_type": "markdown",
   "metadata": {
    "deletable": false,
    "editable": false,
    "run_control": {
     "frozen": true
    }
   },
   "source": [
    "## Background:\n",
    "\n",
    "The standard multiplication operator `*` performs element-by-element multiplication when working with *NumPy* arrays. Matrix multiplication requires a specific function and array sizing. The *NumPy* function that we will initially use for this task is `np.dot()`. In order for two arrays to be multiplied using matrix multiplication, the sizes of the arrays need to match in a very specific way; the number of columns in the first array must be equal to the number of rows in the second. The resulting array will have the same number of rows as the first array and the same number of columns as the second.\n",
    "\n",
    "For example, assume array `A` is $4\\times3$ in size and array `B` is $3\\times2$ array. These arrays cannot be multiplied by using the element by element multiplication operations `A*B` or `B*A` because their sizes don't match. They can me multiplied using matrix multiplication with the expression `np.dot(A, B)` but not with `np.dot(B, A)`. The number of columns in `A` matches the number of rows in `B`, but the number of columns in `B` does not match the number of rows in `A`. The matrix multiplication `np.dot(A, B)` will yield a $4\\times2$ matrix. This matrix multiplication is carried symbolically out via the example below."
   ]
  },
  {
   "cell_type": "markdown",
   "metadata": {
    "deletable": false,
    "editable": false
   },
   "source": [
    "$$ A_{(4\\times3)}=\n",
    "\\left[ \\begin{array}{ccc}\n",
    "A_{11} & A_{12} & A_{13}\\\\\n",
    "A_{21} & A_{22} & A_{23}\\\\\n",
    "A_{31} & A_{32} & A_{33}\\\\\n",
    "A_{41} & A_{42} & A_{43}\\end{array} \\right]$$\n",
    "\n",
    "$$ B_{(3\\times2)}=\n",
    "\\left[ \\begin{array}{ccc}\n",
    "B_{11} & B_{12}\\\\\n",
    "B_{21} & B_{22}\\\\\n",
    "B_{31} & B_{32}\\end{array} \\right]$$\n",
    "\n",
    "$$ A_{(4\\times3)}\\times B_{(3\\times2)}=R_{(4\\times2)}=\n",
    "\\left[ \\begin{array}{cc}\n",
    "\\left( A_{11}B_{11} + A_{12}B_{21} + A_{13}B_{31} \\right) & \\left( A_{11}B_{12} + A_{12}B_{22} + A_{13}B_{32} \\right)\\\\\n",
    "\\left( A_{21}B_{11} + A_{22}B_{21} + A_{23}B_{31} \\right) & \\left( A_{21}B_{12} + A_{22}B_{22} + A_{23}B_{32} \\right)\\\\\n",
    "\\left( A_{31}B_{11} + A_{32}B_{21} + A_{33}B_{31} \\right) & \\left( A_{31}B_{12} + A_{32}B_{22} + A_{33}B_{32} \\right)\\\\\n",
    "\\left( A_{41}B_{11} + A_{42}B_{21} + A_{43}B_{31} \\right) & \\left( A_{41}B_{12} + A_{42}B_{22} + A_{43}B_{32} \\right) \\end{array} \\right]$$\n",
    "\n"
   ]
  },
  {
   "cell_type": "markdown",
   "metadata": {
    "deletable": false,
    "editable": false,
    "run_control": {
     "frozen": true
    }
   },
   "source": [
    "## Reviewing Element-by-Element Array Operations\n",
    "\n",
    "Before diving into matrix mulitplication (and related operations), let's review some element-by-element array operations.\n",
    "\n",
    ">**Practice it**\n",
    ">\n",
    ">Create and name the following arrays and perform the math indicated.\n",
    ">\n",
    ">$\\displaystyle A=\n",
    "\\left[ \\begin{array}{ccc}\n",
    "1 & 4 & 3\\\\\n",
    "2 & 6 & 1\\\\\n",
    "5 & 2 & 8\\end{array} \\right]$\n",
    ">\n",
    ">$ \\displaystyle B=\n",
    "\\left[ \\begin{array}{ccc}\n",
    "5 & 3 & 8\\\\\n",
    "9 & -4 & 7\\\\\n",
    "0 & 5 & -1\\end{array} \\right]$\n",
    ">\n",
    ">$\\displaystyle f=\n",
    "\\left[ \\begin{array}{ccc}\n",
    "1 & 4 & 7 & 10 & 13 & 16\\end{array} \\right]$\n",
    ">\n",
    ">$\\displaystyle g=\n",
    "\\left[ \\begin{array}{ccc}\n",
    "2 & 4 & 6 & 8 & 10 & 12\\end{array} \\right]$\n",
    ">\n",
    ">1. Add $A$ and $B$\n",
    ">1. Subtract $B$ from $A$\n",
    ">1. Subtract $A$ from $B$\n",
    ">1. Add $f$ and $g$\n",
    ">1. Subtract $g$ from $f$\n"
   ]
  },
  {
   "cell_type": "code",
   "execution_count": null,
   "metadata": {},
   "outputs": [],
   "source": [
    "import numpy as np"
   ]
  },
  {
   "cell_type": "code",
   "execution_count": null,
   "metadata": {},
   "outputs": [],
   "source": [
    "# define 'A'"
   ]
  },
  {
   "cell_type": "code",
   "execution_count": null,
   "metadata": {},
   "outputs": [],
   "source": [
    "# define 'B'"
   ]
  },
  {
   "cell_type": "code",
   "execution_count": null,
   "metadata": {},
   "outputs": [],
   "source": [
    "# define 'f'"
   ]
  },
  {
   "cell_type": "code",
   "execution_count": null,
   "metadata": {},
   "outputs": [],
   "source": [
    "# define 'g'"
   ]
  },
  {
   "cell_type": "code",
   "execution_count": null,
   "metadata": {},
   "outputs": [],
   "source": [
    "# add 'A' and 'B'"
   ]
  },
  {
   "cell_type": "code",
   "execution_count": null,
   "metadata": {},
   "outputs": [],
   "source": [
    "# subtract 'B' from 'A'"
   ]
  },
  {
   "cell_type": "code",
   "execution_count": null,
   "metadata": {},
   "outputs": [],
   "source": [
    "# subtract 'A' from 'B'"
   ]
  },
  {
   "cell_type": "code",
   "execution_count": null,
   "metadata": {},
   "outputs": [],
   "source": [
    "# add 'f' and 'g'"
   ]
  },
  {
   "cell_type": "code",
   "execution_count": null,
   "metadata": {},
   "outputs": [],
   "source": [
    "# subtract 'g' from 'f'"
   ]
  },
  {
   "cell_type": "markdown",
   "metadata": {
    "deletable": false,
    "editable": false,
    "run_control": {
     "frozen": true
    }
   },
   "source": [
    ">**Practice it**\n",
    ">\n",
    ">Execute the code cells below to define and assign arrays $X$ and $Y$ and then use standard element-by-element multiplication with them.\n",
    ">\n",
    ">$X=\n",
    "\\left[ \\begin{array}{ccc}\n",
    "1 & 4 & 2\\\\\n",
    "5 & 7 & 3\\\\\n",
    "9 & 1 & 6\\\\\n",
    "4 & 2 & 8\\end{array} \\right]$ \n",
    "$\\hspace{10mm}Y=\n",
    "\\left[ \\begin{array}{ccc}\n",
    "6 & 1\\\\\n",
    "2 & 5\\\\\n",
    "7 & 3\\end{array} \\right]$"
   ]
  },
  {
   "cell_type": "code",
   "execution_count": null,
   "metadata": {},
   "outputs": [],
   "source": [
    "X = np.array([[1, 4, 2], [5, 7, 3], [9, 1, 6], [4, 2, 8]],float)\n",
    "Y = np.array([[6, 1], [2, 5], [7, 3]],float)"
   ]
  },
  {
   "cell_type": "code",
   "execution_count": null,
   "metadata": {},
   "outputs": [],
   "source": [
    "C = X*Y\n",
    "C"
   ]
  },
  {
   "cell_type": "code",
   "execution_count": null,
   "metadata": {},
   "outputs": [],
   "source": [
    "D = Y*X\n",
    "D"
   ]
  },
  {
   "cell_type": "markdown",
   "metadata": {
    "deletable": false,
    "editable": false,
    "run_control": {
     "frozen": true
    }
   },
   "source": [
    ">**Practice it**\n",
    ">\n",
    ">Try the same thing with the following code cells that use arrays $F$ and $G$. What is different?\n",
    ">\n",
    ">$F =\n",
    "\\left[ \\begin{array}{cc}\n",
    "7 & 4 \\\\\n",
    "-3 & 9 \\end{array} \\right]$ \n",
    "$\\hspace{10mm}G  =\n",
    "\\left[ \\begin{array}{ccc}\n",
    "4 & 2\\\\\n",
    "1 & 6\\end{array} \\right]$"
   ]
  },
  {
   "cell_type": "code",
   "execution_count": null,
   "metadata": {},
   "outputs": [],
   "source": [
    "F = np.array([[7, 4], [-3, 9]], float)\n",
    "G = np.array([[4, 2], [1, 6]], float)"
   ]
  },
  {
   "cell_type": "code",
   "execution_count": null,
   "metadata": {},
   "outputs": [],
   "source": [
    "F * G"
   ]
  },
  {
   "cell_type": "code",
   "execution_count": null,
   "metadata": {},
   "outputs": [],
   "source": [
    "G * F"
   ]
  },
  {
   "cell_type": "markdown",
   "metadata": {
    "deletable": false,
    "editable": false,
    "run_control": {
     "frozen": true
    }
   },
   "source": [
    "## Matrix Multiplication Using `np.dot()`\n",
    "\n",
    "The above cells use standard element-by-element multiplication. If both arrays are the same size, corresponding elements in the two arrays are simply multiplied together. This cannot be used to solve simultaneous equations; that requires use of matrix multiplication, which is implemented by the `np.dot()` function.\n",
    "\n",
    ">**Practice it**\n",
    ">\n",
    ">In the following cells use the `np.dot()` function to perform matrix multiplcation on arrays $F$ and $G$ with $F$ first then $G$ first. Does the order of operations matter?"
   ]
  },
  {
   "cell_type": "code",
   "execution_count": null,
   "metadata": {},
   "outputs": [],
   "source": []
  },
  {
   "cell_type": "code",
   "execution_count": null,
   "metadata": {},
   "outputs": [],
   "source": []
  },
  {
   "cell_type": "markdown",
   "metadata": {
    "deletable": false,
    "editable": false,
    "run_control": {
     "frozen": true
    }
   },
   "source": [
    ">**Practice it**\n",
    ">\n",
    ">Starting with *Python 3.5*, *NumPy* allows matrix multiplication using the `@` operator as well as the `np.dot()` function. For example, `A@B` is the same is `np.dot(A, B)`. Try it out on $F$ and $G$ in the following code cell."
   ]
  },
  {
   "cell_type": "code",
   "execution_count": null,
   "metadata": {},
   "outputs": [],
   "source": []
  },
  {
   "cell_type": "markdown",
   "metadata": {
    "deletable": false,
    "editable": false,
    "run_control": {
     "frozen": true
    }
   },
   "source": [
    "What happens if you try to use `np.dot()` or the `@` operator on a pair of one-dimensional arrays? According to what was stated in the **Background** section, a $1\\times3$ array would require an array that has $3$ rows in order to perform matrix multiplication.\n",
    "\n",
    ">**Practice it**\n",
    ">\n",
    ">Execute the following code to assign arrays $AV$, $BV$, and $CV$. Use a NumPy function or method to find the shape of each in the next three code cells. You should see that $BV$ and $CV$ have the same items but a different shape. Then use the remaining code cells to peform the following **matrix** multiplication operations (use `np.dot()` or the `@` operator):\n",
    ">\n",
    ">1. $AV \\times BV$\n",
    ">2. $BV \\times AV$\n",
    ">3. $AV \\times CV$\n",
    ">4. $CV \\times AV$"
   ]
  },
  {
   "cell_type": "code",
   "execution_count": null,
   "metadata": {},
   "outputs": [],
   "source": [
    "AV = np.array([2, 5, 1])\n",
    "BV = np.array([3, 1, 4])\n",
    "CV = np.array([[3], [1], [4]])"
   ]
  },
  {
   "cell_type": "code",
   "execution_count": null,
   "metadata": {},
   "outputs": [],
   "source": [
    "# shape of 'AV'"
   ]
  },
  {
   "cell_type": "code",
   "execution_count": null,
   "metadata": {},
   "outputs": [],
   "source": [
    "# shape of 'BV'"
   ]
  },
  {
   "cell_type": "code",
   "execution_count": null,
   "metadata": {},
   "outputs": [],
   "source": [
    "# shape of 'CV'"
   ]
  },
  {
   "cell_type": "code",
   "execution_count": null,
   "metadata": {},
   "outputs": [],
   "source": [
    "# 'AV' times 'BV'"
   ]
  },
  {
   "cell_type": "code",
   "execution_count": null,
   "metadata": {},
   "outputs": [],
   "source": [
    "# 'BV' times 'AV'"
   ]
  },
  {
   "cell_type": "code",
   "execution_count": null,
   "metadata": {},
   "outputs": [],
   "source": [
    "# 'AV' times 'CV'"
   ]
  },
  {
   "cell_type": "code",
   "execution_count": null,
   "metadata": {},
   "outputs": [],
   "source": [
    "# 'CV' times 'AV'"
   ]
  },
  {
   "cell_type": "markdown",
   "metadata": {
    "deletable": false,
    "editable": false,
    "run_control": {
     "frozen": true
    }
   },
   "source": [
    "## A Little Linear Algebra:\n",
    "\n",
    "Systems of linear equations (like those used in Statics for equilibrium problems) can be expressed in matrix form and solved using *Python* with the *NumPy* and *SciPy* modules. Given the following generic set of equations with unknowns $x_1$, $x_2$, and $x_3$ (these could be any three variables, such as $F_{AB}$, $F_{AC}$, and $F_{BC}$).\n",
    "\n",
    "$$ A_{11}x_1 + A_{12}x_2 + A_{13}x_3 = B_1 \\\\\n",
    " A_{21}x_1 + A_{22}x_2 + A_{23}x_3 = B_2 \\\\\n",
    " A_{31}x_1 + A_{32}x_2 + A_{33}x_3 = B_3 $$\n",
    "\n",
    "These equations can be rewritten in the form $[A][x]=[B]$ as shown below:\n",
    "\n",
    "$$\\left[ \\begin{array}{ccc}\n",
    "A_{11} & A_{12} & A_{13}\\\\\n",
    "A_{21} & A_{22} & A_{23}\\\\\n",
    "A_{31} & A_{32} & A_{33}\\end{array} \\right]\n",
    "\\left[ \\begin{array}{c}\n",
    "x_1\\\\\n",
    "x_2\\\\\n",
    "x_3\\end{array} \\right]=\n",
    "\\left[ \\begin{array}{c}\n",
    "B_1\\\\\n",
    "B_2\\\\\n",
    "B_3\\end{array} \\right]$$\n",
    "\n",
    "Solving for array $[x]$ (the unknown variables) can be done by multiplying both sides of the equation by the inverse of $[A]$. If this were a standard algebraic equation like $Ax=B$ instead of a matrix equation, we would multiply both sides by $A^{-1}$, which is the same as multiplying by $1/A$ or dividing by $A$, and end up with $x=A^{-1}B=B\\,/A$. Below is the matrix form.\n",
    "\n",
    "$$ [A]^{-1}[A][x]=[A]^{-1}[B] \\\\\n",
    "\\text{where }[A]^{-1}[A][x]=[I][x]=[x] \\\\\n",
    "\\therefore [x]=[A]^{-1}[B]$$\n",
    "\n",
    "Matrix $[A]$ is generally referred to as the coefficient or left-hand side matrix and $[B]$ is the right-hand side matrix. Solving the set of equations requires multiplying the inverse of the coefficient matrix $[A]^{-1}$ by the right-hand side matrix $[B]$ using matrix multiplication (the order of this muliplication is important). Therefore, a solution can only be obtained if the coefficient matrix is invertible, i.e. does not result in a divide by zero situation. This is only possible if the determinant of the coefficient matrix is a non-zero value."
   ]
  },
  {
   "cell_type": "markdown",
   "metadata": {
    "deletable": false,
    "editable": false,
    "run_control": {
     "frozen": true
    }
   },
   "source": [
    "## Inverses, Identity Matrix, and Determinants\n",
    "\n",
    "When performing matrix operations on arrays, *NumPy* provides a group of functions in `numpy.linalg` (short for linear algebra) to make the task nearly pain free. It is best to import this specific module and give it a shorthand alias in order to access its commands. Using the following will allow you to access commands in the module with syntax like `la.inv(F)`.\n",
    "\n",
    "`from numpy import linalg as la`\n",
    "\n",
    "Within the `numpy.linalg` module there are commands to invert arrays and find their determinants. Only square arrays (those that have the same number of rows as columns) can be inverted. The same goes for finding a determinant. These two functions are `la.inv()` and `la.det()`.\n",
    "\n",
    ">**Practice it**\n",
    ">\n",
    ">Execute the provided `import` statement. Then create array $A$ in the indicated code cell. In the remaining code cells perform requested operations:\n",
    ">\n",
    ">1. Find the inverse of $A$ and assign it to $B$ then display $B$\n",
    ">1. Invert $B$\n",
    ">1. Matrix mulitply $A\\times B$\n",
    ">1. Matrix multiply $B \\times A$\n",
    ">1. Find the determinant of $A$\n",
    ">\n",
    ">$\\qquad A=\n",
    "\\left[ \\begin{array}{ccc}\n",
    "2 & 1 & 4\\\\\n",
    "4 & 1 & 8\\\\\n",
    "2 & -1 & 3\\end{array} \\right]$ "
   ]
  },
  {
   "cell_type": "code",
   "execution_count": null,
   "metadata": {},
   "outputs": [],
   "source": [
    "from numpy import linalg as la"
   ]
  },
  {
   "cell_type": "code",
   "execution_count": null,
   "metadata": {},
   "outputs": [],
   "source": [
    "# define 'A'"
   ]
  },
  {
   "cell_type": "code",
   "execution_count": null,
   "metadata": {},
   "outputs": [],
   "source": [
    "# assign inverse of 'A' to 'B' and display it"
   ]
  },
  {
   "cell_type": "code",
   "execution_count": null,
   "metadata": {},
   "outputs": [],
   "source": [
    "# invert 'B'"
   ]
  },
  {
   "cell_type": "code",
   "execution_count": null,
   "metadata": {},
   "outputs": [],
   "source": [
    "# 'A' times 'B'"
   ]
  },
  {
   "cell_type": "code",
   "execution_count": null,
   "metadata": {},
   "outputs": [],
   "source": [
    "# 'B' times 'A'"
   ]
  },
  {
   "cell_type": "code",
   "execution_count": null,
   "metadata": {},
   "outputs": [],
   "source": [
    "# determinant of 'A'"
   ]
  },
  {
   "cell_type": "markdown",
   "metadata": {
    "deletable": false,
    "editable": false,
    "run_control": {
     "frozen": true
    }
   },
   "source": [
    "## Solving the Equations\n",
    "\n",
    "In the linear algebra review section above we learned that we can solve for the unknown array $[x]$ by matrix muliplying the inverse of the coefficient array by the right hand side array. Generally the right hand side array needs to be vertical (i.e. $3\\times 1$) not horizontal (i.e. $1\\times 3$). *NumPy* is usually smart enough to perform the required operations without caring about the orientation of the RHS array. The results will be the same, just presented in a different shaped array. Try using *NumPy* functions to solve the following:\n",
    "\n",
    "$$ \\left[ \\begin{array}{ccc}\n",
    "4 & -2 & 6\\\\\n",
    "2 & 8 & 2\\\\\n",
    "6 & 10 & 3\\end{array} \\right]\n",
    "\\left[ \\begin{array}{c}\n",
    "x_1 \\\\\n",
    "x_2 \\\\\n",
    "x_3 \\end{array} \\right] = \n",
    "\\left[ \\begin{array}{c}\n",
    "8 \\\\\n",
    "4 \\\\\n",
    "1 \\end{array} \\right]$$\n",
    "\n",
    "\n",
    ">**Practice it**\n",
    ">\n",
    ">Perform the following tasks in the provided code cells\n",
    ">1. Define the left hand side array and give it a name\n",
    ">2. Define the right hand side array and give it a name\n",
    ">3. Calculate the determinant of the left hand side array to ensure the system is solvable\n",
    ">4. Solve for $x$ using the previously introduced *NumPy* linear algebra functions\n",
    ">5. Print $x$"
   ]
  },
  {
   "cell_type": "code",
   "execution_count": null,
   "metadata": {},
   "outputs": [],
   "source": [
    "# define and name LHS array"
   ]
  },
  {
   "cell_type": "code",
   "execution_count": null,
   "metadata": {},
   "outputs": [],
   "source": [
    "# define and name RHS array"
   ]
  },
  {
   "cell_type": "code",
   "execution_count": null,
   "metadata": {},
   "outputs": [],
   "source": [
    "# determinant of LHS array; is it solvable?"
   ]
  },
  {
   "cell_type": "code",
   "execution_count": null,
   "metadata": {},
   "outputs": [],
   "source": [
    "# solve for 'x' using matrix multiplication"
   ]
  },
  {
   "cell_type": "code",
   "execution_count": null,
   "metadata": {},
   "outputs": [],
   "source": [
    "# print results"
   ]
  },
  {
   "cell_type": "markdown",
   "metadata": {
    "deletable": false,
    "editable": false,
    "run_control": {
     "frozen": true
    }
   },
   "source": [
    "*NumPy* provides for a more efficient method within the linear algebra module to solve sets of equations; the magical function `la.solve()`. This function takes two arguments; the first is the LHS array and the second is the RHS array.\n",
    "\n",
    ">**Practice it**\n",
    ">\n",
    ">Use the `la.solve()` function to solve the same set of equations as above. Just perform the solving step in the code cell below."
   ]
  },
  {
   "cell_type": "code",
   "execution_count": null,
   "metadata": {},
   "outputs": [],
   "source": []
  },
  {
   "cell_type": "markdown",
   "metadata": {
    "deletable": false,
    "editable": false,
    "run_control": {
     "frozen": true
    }
   },
   "source": [
    ">**Practice it**\n",
    ">\n",
    ">Solve for $x$ (the array of unkowns $x_1$, $x_2$, and $x_3$). in the following just using the `la.solve()` function. Be sure to define and name the LHS and RHS arrays first. This time, however, when you create the RHS array, make it a vertical array.\n",
    ">\n",
    ">$$ \\left[ \\begin{array}{ccc}\n",
    "4 & 2 & 6\\\\\n",
    "-2 & 8 & 10\\\\\n",
    "6 & 2 & 3\\end{array} \\right]\n",
    "\\left[ \\begin{array}{c}\n",
    "x_1 \\\\\n",
    "x_2 \\\\\n",
    "x_3 \\end{array} \\right] = \n",
    "\\left[ \\begin{array}{c}\n",
    "8 \\\\\n",
    "4 \\\\\n",
    "0 \\end{array} \\right]$$"
   ]
  },
  {
   "cell_type": "code",
   "execution_count": null,
   "metadata": {},
   "outputs": [],
   "source": []
  },
  {
   "cell_type": "code",
   "execution_count": null,
   "metadata": {},
   "outputs": [],
   "source": []
  },
  {
   "cell_type": "code",
   "execution_count": null,
   "metadata": {},
   "outputs": [],
   "source": []
  },
  {
   "cell_type": "markdown",
   "metadata": {
    "deletable": false,
    "editable": false,
    "run_control": {
     "frozen": true
    }
   },
   "source": [
    "## Other Array Functions\n",
    "\n",
    "The `np.dot()` function and the `@` operator both perform matrix multiplication on arrays according to the rules we previously reviewed. It can also perform the **dot product** on a pair of vectors. *NumPy* also includes the `np.vdot()` function for the same purpose, except that it handles complex numbers better. Another special array operation is the **cross product**. *NumPy* uses `np.cross()` to take the cross product of two vectors (1D arrays). The order that the vectors are specified in `np.cross()` will change the results.\n",
    "\n",
    "Following are the mathematical definitions of the dot product and the cross product of two vectors. The vertical lines around the 2D array for the cross product do not inticate an absolute value, they mean that you need to take the determinant of the array.\n",
    "\n",
    "$$ \\textbf{u}=\\left[ \\begin{array}{ccc} u_x & u_y & u_z \\end{array}\\right] \\hspace{15mm}\n",
    "\\textbf{v}=\\left[ \\begin{array}{ccc} v_x & v_y & v_z \\end{array}\\right] \\\\[0.5cm]\n",
    "$$\n",
    "\n",
    "$$ \\text{Dot Product: }\\textbf{u}\\cdot\\textbf{v}=u_xv_x + u_yv_y + u_zv_z \\\\[0.5cm]$$\n",
    "$$\\text{Cross Product: }\\textbf{u}\\times\\textbf{v}=\\left| \\begin{array}{ccc}\n",
    "\\textbf{i} & \\textbf{j} & \\textbf{k}\\\\\n",
    "u_x & u_y & u_z\\\\\n",
    "v_x & v_y & v_z \\end{array}\\right|\n",
    "=(u_yv_z-u_zv_y)\\textbf{i} - (u_xv_z-u_zv_x)\\textbf{j} + (u_xv_y-u_yv_x)\\textbf{k}$$\n",
    "\n",
    "The *dot product* results in a scalar value (a single number), where as the *cross product* results in a vector (array).\n"
   ]
  },
  {
   "cell_type": "markdown",
   "metadata": {
    "deletable": false,
    "editable": false,
    "run_control": {
     "frozen": true
    }
   },
   "source": [
    ">**Practice it**\n",
    ">\n",
    ">Execute the first code cell below to define $a$, $b$, $aa$, and $bb$. Then perform the dot product and cross product using both `(a,b)` and `(b,a)`. Do the same using `aa` and `bb`."
   ]
  },
  {
   "cell_type": "code",
   "execution_count": null,
   "metadata": {},
   "outputs": [],
   "source": [
    "a = np.array([1, 2, 3])\n",
    "b = np.array([3, 4, 5])\n",
    "aa = np.array([1, 3, 2])\n",
    "bb = np.array([2, 4, 1])"
   ]
  },
  {
   "cell_type": "code",
   "execution_count": null,
   "metadata": {},
   "outputs": [],
   "source": [
    "# dot product of (a,b)"
   ]
  },
  {
   "cell_type": "code",
   "execution_count": null,
   "metadata": {},
   "outputs": [],
   "source": [
    "# dot product of (b,a)"
   ]
  },
  {
   "cell_type": "code",
   "execution_count": null,
   "metadata": {},
   "outputs": [],
   "source": [
    "# cross product of (a,b)"
   ]
  },
  {
   "cell_type": "code",
   "execution_count": null,
   "metadata": {},
   "outputs": [],
   "source": [
    "# cross product of (b,a)"
   ]
  },
  {
   "cell_type": "code",
   "execution_count": null,
   "metadata": {},
   "outputs": [],
   "source": [
    "# dot product of (aa,bb)"
   ]
  },
  {
   "cell_type": "code",
   "execution_count": null,
   "metadata": {},
   "outputs": [],
   "source": [
    "# dot product of (bb,aa)"
   ]
  },
  {
   "cell_type": "code",
   "execution_count": null,
   "metadata": {},
   "outputs": [],
   "source": [
    "# cross product of (aa,bb)"
   ]
  },
  {
   "cell_type": "code",
   "execution_count": null,
   "metadata": {},
   "outputs": [],
   "source": [
    "# cross product of (bb,aa)"
   ]
  },
  {
   "cell_type": "markdown",
   "metadata": {
    "deletable": false,
    "editable": false,
    "run_control": {
     "frozen": true
    }
   },
   "source": [
    ">**Wrap it up**\n",
    ">\n",
    ">Execute the time stamp code cell below to show the time and date you finished and tested this script.\n",
    ">\n",
    ">Click on the **Save** button and then the **Close and halt** button when you are done. **This is an instructor-led assignment that must be completed before the end of the lab session in order to receive credit.**"
   ]
  },
  {
   "cell_type": "code",
   "execution_count": null,
   "metadata": {
    "deletable": false,
    "editable": false
   },
   "outputs": [],
   "source": [
    "from datetime import datetime\n",
    "from pytz import timezone\n",
    "print(datetime.now(timezone('US/Eastern')))"
   ]
  }
 ],
 "metadata": {
  "kernelspec": {
   "display_name": "Python 3",
   "language": "python",
   "name": "python3"
  },
  "language_info": {
   "codemirror_mode": {
    "name": "ipython",
    "version": 3
   },
   "file_extension": ".py",
   "mimetype": "text/x-python",
   "name": "python",
   "nbconvert_exporter": "python",
   "pygments_lexer": "ipython3",
   "version": "3.7.4"
  },
  "varInspector": {
   "cols": {
    "lenName": 16,
    "lenType": 16,
    "lenVar": 40
   },
   "kernels_config": {
    "python": {
     "delete_cmd_postfix": "",
     "delete_cmd_prefix": "del ",
     "library": "var_list.py",
     "varRefreshCmd": "print(var_dic_list())"
    },
    "r": {
     "delete_cmd_postfix": ") ",
     "delete_cmd_prefix": "rm(",
     "library": "var_list.r",
     "varRefreshCmd": "cat(var_dic_list()) "
    }
   },
   "types_to_exclude": [
    "module",
    "function",
    "builtin_function_or_method",
    "instance",
    "_Feature"
   ],
   "window_display": false
  }
 },
 "nbformat": 4,
 "nbformat_minor": 1
}
