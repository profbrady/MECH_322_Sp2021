{
 "cells": [
  {
   "cell_type": "markdown",
   "metadata": {
    "deletable": false,
    "editable": false,
    "run_control": {
     "frozen": true
    }
   },
   "source": [
    "# IC 9 - NumPy Arrays\n",
    "___"
   ]
  },
  {
   "cell_type": "code",
   "execution_count": null,
   "metadata": {},
   "outputs": [],
   "source": [
    "name = \"Your name here\"\n",
    "print(\"Name:\", name.upper())"
   ]
  },
  {
   "cell_type": "markdown",
   "metadata": {
    "deletable": false,
    "editable": false,
    "run_control": {
     "frozen": true
    }
   },
   "source": [
    "## Purpose\n",
    "\n",
    "- Import the `numpy` module for array creation\n",
    "\n",
    "- Create one and two dimensional *NumPy* arrays\n",
    "\n",
    "- Access items from arrays\n",
    "\n",
    "## Instructions\n",
    "\n",
    "1. Replace \"Your name here\" in the cell below the assignment title with your first and last names and then execute the cell using \"Shift-Enter\"\n",
    "2. Execute the time stamp cell \n",
    "3. Follow along with the instructor in class as we learn about creating arrays with the *NumPy* module for *Python*\n",
    "4. Execute the date stamp cell at the end of the document and submitting your saved `.ipynb` file to *Canvas* for credit"
   ]
  },
  {
   "cell_type": "code",
   "execution_count": null,
   "metadata": {
    "deletable": false,
    "editable": false
   },
   "outputs": [],
   "source": [
    "from datetime import datetime\n",
    "from pytz import timezone\n",
    "print(datetime.now(timezone('US/Eastern')))"
   ]
  },
  {
   "cell_type": "markdown",
   "metadata": {
    "deletable": false,
    "editable": false,
    "run_control": {
     "frozen": true
    }
   },
   "source": [
    "## NumPy\n",
    "\n",
    "Previously we learned to use *Python* `for` loops or list comprehensions to perform calculations on sequences of numeric values. A more efficient approach is to use [*NumPy*](http://www.numpy.org) (*Numeric Python*). Their website says that \"*NumPy is the fundamental package for scientific computing with Python.*\" It does more than just provide for easy creation of and calculations with numeric arrays (like specialized lists); it provides tools for linear algebra, numeric calculus, random numbers, and more.\n",
    "\n",
    "This lab will focus primarily on creating and accessing values in numeric one and two-dimensional `numpy.ndarrays`; the data type for NumPy arrays."
   ]
  },
  {
   "cell_type": "markdown",
   "metadata": {
    "deletable": false,
    "editable": false,
    "run_control": {
     "frozen": true
    }
   },
   "source": [
    "## Creation of `numpy.ndarray` Objects\n",
    "\n",
    "NumPy arrays (whose type is `numpy.ndarray`) bring a lot of power to *Python* for working with sequences of numeric values large and small. Typically, unless a list is quite small, using NumPy arrays is much more efficient and faster. From this point on we will simply refer to Numpy arrays as arrays. In order to use arrays, we must first import the NumPy module. \n",
    "\n",
    "**FYI** This module is not included with the standard *Python* installation. You have to download and install it for use with *Python*. The *Anaconda* distribution of *Python* includes *NumPy* and a large number of other scientific and mathematical modules.\n",
    "\n",
    ">**Practice it**\n",
    ">\n",
    ">Execute the following code cell to import the NumPy module and assign it to the short name `np`."
   ]
  },
  {
   "cell_type": "code",
   "execution_count": null,
   "metadata": {},
   "outputs": [],
   "source": [
    "import numpy as np"
   ]
  },
  {
   "cell_type": "markdown",
   "metadata": {
    "deletable": false,
    "editable": false,
    "run_control": {
     "frozen": true
    }
   },
   "source": [
    "### Converting Lists, Tuples, or Ranges to Arrays\n",
    "Any existing list, tuple, or range of numeric values can be converted into an array using the `np.array()` function.\n",
    "\n",
    ">**Practice it**\n",
    ">\n",
    ">Execute the following code cell to make the list and the range shown. Then convert both to arrays using `np.array()` and assign them to their original names, print them, and then find out their types using the following code cells."
   ]
  },
  {
   "cell_type": "code",
   "execution_count": null,
   "metadata": {},
   "outputs": [],
   "source": [
    "x1 = [1.5, 2.7, 3.9]\n",
    "x2 = range(1, 8, 2)"
   ]
  },
  {
   "cell_type": "code",
   "execution_count": null,
   "metadata": {},
   "outputs": [],
   "source": [
    "# convert 'x1'"
   ]
  },
  {
   "cell_type": "code",
   "execution_count": null,
   "metadata": {},
   "outputs": [],
   "source": [
    "# print 'x1'"
   ]
  },
  {
   "cell_type": "code",
   "execution_count": null,
   "metadata": {},
   "outputs": [],
   "source": [
    "# display 'x1' (implicit printing)"
   ]
  },
  {
   "cell_type": "code",
   "execution_count": null,
   "metadata": {},
   "outputs": [],
   "source": [
    "# find the type for 'x1'"
   ]
  },
  {
   "cell_type": "code",
   "execution_count": null,
   "metadata": {},
   "outputs": [],
   "source": [
    "# convert 'x2'"
   ]
  },
  {
   "cell_type": "code",
   "execution_count": null,
   "metadata": {},
   "outputs": [],
   "source": [
    "# print 'x2'"
   ]
  },
  {
   "cell_type": "code",
   "execution_count": null,
   "metadata": {},
   "outputs": [],
   "source": [
    "# find the type for 'x2'"
   ]
  },
  {
   "cell_type": "markdown",
   "metadata": {
    "deletable": false,
    "editable": false,
    "run_control": {
     "frozen": true
    }
   },
   "source": [
    "### Arrays From Scratch Using `np.array()`\n",
    "You can also create arrays from scratch using the `np.array()` function. The array argument simply needs to be a list or tuple containing numeric values. One peculiar thing about NumPy arrays (which helps make them as efficient as they are, by the way) is that all of the items need to be of the same type. Therefore, if any item in the array is a float, all items in the finished array will also be floats. It is typical to add a decimal after at least one number if using integers in order to convert all of the numbers to floats. The primary reason for doing this is that you cannot replace a single value in an array of integers with a float. NumPy will convert the value to an integer instead, leading to unexpected results.\n",
    "\n",
    ">**Practice it**\n",
    ">\n",
    ">Create the array $[2, 4, 6, 8, 10]$ from scratch using a list. Then do it again in a new code cell, but this time add a decimal at the end of the first value. Notice the difference?"
   ]
  },
  {
   "cell_type": "code",
   "execution_count": null,
   "metadata": {},
   "outputs": [],
   "source": []
  },
  {
   "cell_type": "code",
   "execution_count": null,
   "metadata": {},
   "outputs": [],
   "source": []
  },
  {
   "cell_type": "markdown",
   "metadata": {
    "deletable": false,
    "editable": false,
    "run_control": {
     "frozen": true
    }
   },
   "source": [
    "### Setting the Array Type \n",
    "NumPy also lets us set the number type by specifying it within the array definition. To do so, you can add `float` or `int` as an argument after the closing square bracket in the `np.array()` function call. For example, using `np.array([1, 2, 3, 4], float)` will convert all of the values in the array to floats. There are other specific precision integers and floats, but for our purposes plain integers and floats will work fine.\n",
    "\n",
    ">**Practice it**\n",
    ">\n",
    ">Execute the following cells to see how this feature works."
   ]
  },
  {
   "cell_type": "code",
   "execution_count": null,
   "metadata": {},
   "outputs": [],
   "source": [
    "np.array([1, 2, 3, 4], float)"
   ]
  },
  {
   "cell_type": "code",
   "execution_count": null,
   "metadata": {},
   "outputs": [],
   "source": [
    "np.array([0, 0.5, 1, 1.5, 2, 2.5], int)"
   ]
  },
  {
   "cell_type": "markdown",
   "metadata": {
    "deletable": false,
    "editable": false,
    "run_control": {
     "frozen": true
    }
   },
   "source": [
    "### Creating Arrays Using `np.arange()`\n",
    "\n",
    "The `np.arange()` function can be used to create arrays using starting, ending, and step values. Just like the built-in `range()` function, the constructed array will go up to but not include the ending value. If the step is omitted, then the step size will be 1. If only one argument is used, the array will start at zero and have a step of 1, just like the built-in `range()` function. A negative step will allow you to create an array where the values decrease from the starting value to the ending value. One important feature that separates the `np.arange()` function from the `range()` function is that it can use floats for starting, ending, and/or step values, not just integers.\n",
    "\n",
    ">**Practice it**\n",
    ">\n",
    ">Use `np.arange()` to create the following arrays in separate code cells\n",
    ">- 1 to 7 (including 7) with a step of 1\n",
    ">- 10 to 1 (including 1) with a step of -0.5\n",
    ">- -5 to 1 with a step of 1/3"
   ]
  },
  {
   "cell_type": "code",
   "execution_count": null,
   "metadata": {},
   "outputs": [],
   "source": []
  },
  {
   "cell_type": "code",
   "execution_count": null,
   "metadata": {},
   "outputs": [],
   "source": []
  },
  {
   "cell_type": "code",
   "execution_count": null,
   "metadata": {},
   "outputs": [],
   "source": []
  },
  {
   "cell_type": "markdown",
   "metadata": {
    "deletable": false,
    "editable": false,
    "run_control": {
     "frozen": true
    }
   },
   "source": [
    "## Using NumPy Math Functions\n",
    "\n",
    "When creating and working with NumPy arrays, you should use NumPy versions of math functions instead of those in the `math` module. For example, use `np.pi`, `np.sin()`, `np.exp()`, `np.sqrt()`, etc. The primary reason for doing so is that the NumPy versions can work on all values in an array and those in `math` cannot.\n",
    "\n",
    ">**Practice it**\n",
    ">\n",
    ">Create an array named `arr1` using `np.arange(10)`. Use the `np.sqrt()` function on the array."
   ]
  },
  {
   "cell_type": "code",
   "execution_count": null,
   "metadata": {},
   "outputs": [],
   "source": []
  },
  {
   "cell_type": "markdown",
   "metadata": {
    "deletable": false,
    "editable": false,
    "run_control": {
     "frozen": true
    }
   },
   "source": [
    "## The `np.linspace()` Function\n",
    "\n",
    "The `np.linspace()` function creates arrays of evenly spaced values. The arguments passed to the function are `(start, stop, num)` where `num` is the total number of values to create. If `num` is omitted it will default to 50 values. The keyword argument `enpoint=` defaults to `True`, causing the array to include the `stop` value. If it is `False`, the `stop` value will not be included. Another keyword argument `dtype=` forces the array to be whatever type that is included after the equal sign.\n",
    "\n",
    ">**Practice it**\n",
    ">\n",
    ">Create each of the following arrays using `np.linspace()`\n",
    ">\n",
    ">- 10 float values from 1 to 10, inclusive\n",
    ">- 5 values from 30 to 0, inclusive\n",
    ">- 20 values from 0 to $\\pi$, inclusive"
   ]
  },
  {
   "cell_type": "code",
   "execution_count": null,
   "metadata": {},
   "outputs": [],
   "source": []
  },
  {
   "cell_type": "code",
   "execution_count": null,
   "metadata": {},
   "outputs": [],
   "source": []
  },
  {
   "cell_type": "code",
   "execution_count": null,
   "metadata": {},
   "outputs": [],
   "source": []
  },
  {
   "cell_type": "markdown",
   "metadata": {},
   "source": [
    "## Two-Dimensional Array Creation\n",
    "\n",
    "To NumPy, two-dimensional arrays are simply arrays of arrays. Only one `np.array()` function is required, but within the function call you place lists separated by commas between a set of square brackets, i.e `np.array([[1, 2], [3, 4]])`. It is important to note that each list must be the same size to avoid problems.\n",
    "\n",
    "It is possible to create a 2D array that has only one row. For example, `np.array([1, 2, 3])` will create a one-dimensional array, but if an additional set of square brackets are added the result will be a 2D array; `np.array([[1, 2, 3]])`."
   ]
  },
  {
   "cell_type": "markdown",
   "metadata": {
    "deletable": false,
    "editable": false,
    "run_control": {
     "frozen": true
    }
   },
   "source": [
    "## Some Array Methods\n",
    "\n",
    "Previously we had learned that *Python* object types often have methods associated with them. NumPy arrays are no different. The `.ndim` method (note the lack of parentheses) is used to find the number of dimensions that an array has. Given the array `x = np.array([[1, 2],[3, 4]])`, using `x.ndim` will return a value of `2` since `x` is a 2D array. The `.size` method returns the total number of items in the array. Therefore, `x.size` will return a value of `4`. A third array method, `.shape`, returns the size of the array in each direction. For 2D arrays `.shape` returns the tuple `(rows, columns)`. Using `x.shape` results in `(2, 2)` since there are 2 rows and 2 columns in the array."
   ]
  },
  {
   "cell_type": "markdown",
   "metadata": {
    "deletable": false,
    "editable": false,
    "run_control": {
     "frozen": true
    }
   },
   "source": [
    ">**Practice it**\n",
    ">\n",
    ">Create, print, and check the size, shape, and number of dimensions for the provided arrays"
   ]
  },
  {
   "cell_type": "code",
   "execution_count": null,
   "metadata": {},
   "outputs": [],
   "source": [
    "a = np.array([1, 2, 3])"
   ]
  },
  {
   "cell_type": "code",
   "execution_count": null,
   "metadata": {},
   "outputs": [],
   "source": [
    "# print 'a'"
   ]
  },
  {
   "cell_type": "code",
   "execution_count": null,
   "metadata": {},
   "outputs": [],
   "source": [
    "# use the .size method on 'a' to check its size"
   ]
  },
  {
   "cell_type": "code",
   "execution_count": null,
   "metadata": {},
   "outputs": [],
   "source": [
    "# use the .shape method on 'a' to check its shape"
   ]
  },
  {
   "cell_type": "code",
   "execution_count": null,
   "metadata": {},
   "outputs": [],
   "source": [
    "# use the .ndim method on 'a' to check the number of dimensions"
   ]
  },
  {
   "cell_type": "code",
   "execution_count": null,
   "metadata": {},
   "outputs": [],
   "source": [
    "b = np.array([[1, 2, 3]])"
   ]
  },
  {
   "cell_type": "code",
   "execution_count": null,
   "metadata": {},
   "outputs": [],
   "source": [
    "# print 'b'"
   ]
  },
  {
   "cell_type": "code",
   "execution_count": null,
   "metadata": {},
   "outputs": [],
   "source": [
    "# use the .size method on 'b' to check its size"
   ]
  },
  {
   "cell_type": "code",
   "execution_count": null,
   "metadata": {},
   "outputs": [],
   "source": [
    "# use the .shape method on 'b' to check its shape"
   ]
  },
  {
   "cell_type": "code",
   "execution_count": null,
   "metadata": {},
   "outputs": [],
   "source": [
    "# use the .ndim method on 'b' to check the number of dimensions"
   ]
  },
  {
   "cell_type": "markdown",
   "metadata": {
    "deletable": false,
    "editable": false,
    "run_control": {
     "frozen": true
    }
   },
   "source": [
    ">**Practice it**\n",
    ">\n",
    ">Create and then print the following 2D arrays\n",
    ">\n",
    ">$A1 =\\left[\\begin{array}{ccc}\n",
    "5 && 35 && 43 \\\\\n",
    "4 && 76 && 81 \\\\\n",
    "21 && 32 && 40\\end{array}\\right]$\n",
    ">\n",
    ">$A2 = \\left[\\begin{array}{ccccc}\n",
    "7 && 2 && 76 && 33 && 8 \\\\\n",
    "1 && 98 && 6 && 25 && 6 \\\\\n",
    "5 && 54 && 58 && 9 && 0\\end{array}\\right]$"
   ]
  },
  {
   "cell_type": "code",
   "execution_count": null,
   "metadata": {},
   "outputs": [],
   "source": []
  },
  {
   "cell_type": "code",
   "execution_count": null,
   "metadata": {},
   "outputs": [],
   "source": []
  },
  {
   "cell_type": "markdown",
   "metadata": {
    "deletable": false,
    "editable": false,
    "run_control": {
     "frozen": true
    }
   },
   "source": [
    "It is perfectly acceptable to use variables and math operations in the creation of array elements.\n",
    "\n",
    ">**Practice it**\n",
    ">\n",
    ">Execute the following code cell to confirm that this is the case."
   ]
  },
  {
   "cell_type": "code",
   "execution_count": null,
   "metadata": {},
   "outputs": [],
   "source": [
    "cd, ee, h = 6, 3, 4\n",
    "M3 = np.array([[ee, cd*h, np.cos(np.pi/3)], [h**2, np.sqrt(h*h/cd), 14]])\n",
    "print(M3)"
   ]
  },
  {
   "cell_type": "markdown",
   "metadata": {
    "deletable": false,
    "editable": false,
    "run_control": {
     "frozen": true
    }
   },
   "source": [
    "You can use the `np.arange()` and/or `np.linspace()` functions to create any of the rows in a 2D array.\n",
    "\n",
    ">**Practice it**\n",
    ">\n",
    ">Use the following descriptions to create the four rows of a 2D array. Be sure to use functions where appropriate.\n",
    ">- 1 to 11 (inclusive) in steps of 2\n",
    ">- A step size of 5 from 0 to 25 (inclusive)\n",
    ">- 6 linearly spaced values from 10 to 60 (inclusive)\n",
    ">- The list `[67, 2, 43, 68, 4, 13]`"
   ]
  },
  {
   "cell_type": "code",
   "execution_count": null,
   "metadata": {},
   "outputs": [],
   "source": []
  },
  {
   "cell_type": "markdown",
   "metadata": {
    "deletable": false,
    "editable": false,
    "run_control": {
     "frozen": true
    }
   },
   "source": [
    "## Special Array Creation Functions\n",
    "\n",
    "The following NumPy functions can be used to create special types of arrays.\n",
    "- `np.zeros()` will create an array filled with $0$s only. The argument should be a single value if creating a one-dimensional array. It will be a tuple containing a row, column pair for 2D arrays. \n",
    "- `np.ones()` function does essentially the same thing except for it creates an array filled with $1$s. \n",
    "- `np.eye()` function creates an identity array; filled with zeros except on the diagonal from the top-left to the bottom-right. Identity arrays must be square; meaning the same number of rows and columns. `eye(3)` will create a $3\\times3$ identity array.\n",
    "\n",
    ">**Practice it**\n",
    ">\n",
    ">Add the required commands and then execute the code cells below to see how these functions work.\n",
    "    "
   ]
  },
  {
   "cell_type": "code",
   "execution_count": null,
   "metadata": {},
   "outputs": [],
   "source": [
    "# array of 5 zeros"
   ]
  },
  {
   "cell_type": "code",
   "execution_count": null,
   "metadata": {},
   "outputs": [],
   "source": [
    "# 3 row, 4 column (3x4) array of zeros"
   ]
  },
  {
   "cell_type": "code",
   "execution_count": null,
   "metadata": {},
   "outputs": [],
   "source": [
    "# 4 row, 3 column (4x3) array of ones"
   ]
  },
  {
   "cell_type": "code",
   "execution_count": null,
   "metadata": {},
   "outputs": [],
   "source": [
    "# 5x5 identity array (ones on the diagonal)"
   ]
  },
  {
   "cell_type": "markdown",
   "metadata": {
    "deletable": false,
    "editable": false,
    "run_control": {
     "frozen": true
    }
   },
   "source": [
    "Another special array creation function is a diagonal array; `np.diag()`. It looks like an identity array except the diagonal is filled with the values from the list, tuple, or array used as the argument.\n",
    "\n",
    ">**Practice it**\n",
    ">\n",
    ">Create a diagonal array using the vector given in the following code cell."
   ]
  },
  {
   "cell_type": "code",
   "execution_count": null,
   "metadata": {},
   "outputs": [],
   "source": [
    "v = (1, 2, 3)    # this can be a list or a tuple"
   ]
  },
  {
   "cell_type": "code",
   "execution_count": null,
   "metadata": {},
   "outputs": [],
   "source": [
    "# diagonal matrix with v on the diagonal"
   ]
  },
  {
   "cell_type": "markdown",
   "metadata": {
    "deletable": false,
    "editable": false,
    "run_control": {
     "frozen": true
    }
   },
   "source": [
    ">**Practice it**\n",
    ">\n",
    ">Use NumPy's special array functions to create the following arrays and assign them to variables of your choice then print them. Do not just type the values, use the appropriate array creation functions.\n",
    ">\n",
    ">$\\left[ \\begin{array}{cccc}\n",
    "0 & 0 & 0 & 0\\\\\n",
    "0 & 0 & 0 & 0\\end{array} \\right] $\n",
    ">\n",
    ">$\\left[ \\begin{array}{ccc}\n",
    "1 & 0 & 0\\\\\n",
    "0 & 1 & 0\\\\\n",
    "0 & 0 & 1\\end{array} \\right] $\n",
    ">\n",
    ">$\\left[ \\begin{array}{ccc}\n",
    "1 & 1 & 1\\\\\n",
    "1 & 1 & 1\\\\\n",
    "1 & 1 & 1\\\\\n",
    "1 & 1 & 1\\\\\n",
    "1 & 1 & 1\\end{array} \\right] $\n",
    ">\n",
    ">Make a diagonal array from the following vector: \n",
    "$\\left[ \\begin{array}{cccc}\n",
    "12 & 13 & 15 & 18\\end{array} \\right]$ "
   ]
  },
  {
   "cell_type": "code",
   "execution_count": null,
   "metadata": {},
   "outputs": [],
   "source": []
  },
  {
   "cell_type": "code",
   "execution_count": null,
   "metadata": {},
   "outputs": [],
   "source": []
  },
  {
   "cell_type": "code",
   "execution_count": null,
   "metadata": {},
   "outputs": [],
   "source": []
  },
  {
   "cell_type": "code",
   "execution_count": null,
   "metadata": {},
   "outputs": [],
   "source": []
  },
  {
   "cell_type": "markdown",
   "metadata": {
    "deletable": false,
    "editable": false,
    "run_control": {
     "frozen": true
    }
   },
   "source": [
    "Unlike built-in *Python* lists, NumPy arrays can be used directly to perform math operations. Specifically, you can add, subtract, multiply, or divide scalar values by/with arrays. Other operations are also possible, but these will be looked at in more detail at a later time.\n",
    "\n",
    ">**Practice it**\n",
    ">\n",
    ">Create an array of five $1$s and mutiply it by $5$ in the first code cell. In the next code cell do the same except divide by $5$ instead of multiply."
   ]
  },
  {
   "cell_type": "code",
   "execution_count": null,
   "metadata": {},
   "outputs": [],
   "source": []
  },
  {
   "cell_type": "code",
   "execution_count": null,
   "metadata": {},
   "outputs": [],
   "source": []
  },
  {
   "cell_type": "markdown",
   "metadata": {
    "deletable": false,
    "editable": false,
    "run_control": {
     "frozen": true
    }
   },
   "source": [
    "## NumPy Array Functions and Methods\n",
    "\n",
    "### Size and Shape Reporting\n",
    "\n",
    "The `len()` function will return the number of objects in a one-dimensional array or the number of rows (lists) in a two-dimensional array. But the `np.size()` function will return the total number of objects in a one or two-dimensional array. This function does the same thing as the `.size` method used previously.\n",
    "\n",
    "The function `np.shape()` returns a tuple with the number of rows and columns for an array. If one-dimensional, a tuple with one item that represents the length of the array will be returned. This function does the same thing as the `.shape` method used previously.\n",
    "\n",
    "`np.ndim()` does the same thing as the `.ndim` method. It returns the number of dimensions for an array.\n",
    "\n",
    ">**Practice it**\n",
    ">\n",
    ">The next several code cells illustrate these functions and methods. Execute the cells to see their results."
   ]
  },
  {
   "cell_type": "code",
   "execution_count": null,
   "metadata": {},
   "outputs": [],
   "source": [
    "AA = np.array([5, 9, 2, 4])\n",
    "len(AA)"
   ]
  },
  {
   "cell_type": "code",
   "execution_count": null,
   "metadata": {},
   "outputs": [],
   "source": [
    "np.size(AA)"
   ]
  },
  {
   "cell_type": "code",
   "execution_count": null,
   "metadata": {},
   "outputs": [],
   "source": [
    "AA.size"
   ]
  },
  {
   "cell_type": "code",
   "execution_count": null,
   "metadata": {},
   "outputs": [],
   "source": [
    "np.shape(AA)"
   ]
  },
  {
   "cell_type": "code",
   "execution_count": null,
   "metadata": {},
   "outputs": [],
   "source": [
    "AA.shape"
   ]
  },
  {
   "cell_type": "code",
   "execution_count": null,
   "metadata": {},
   "outputs": [],
   "source": [
    "np.ndim(AA)"
   ]
  },
  {
   "cell_type": "code",
   "execution_count": null,
   "metadata": {},
   "outputs": [],
   "source": [
    "AA.ndim"
   ]
  },
  {
   "cell_type": "code",
   "execution_count": null,
   "metadata": {},
   "outputs": [],
   "source": [
    "BB = np.ones((4, 3))\n",
    "np.size(BB)"
   ]
  },
  {
   "cell_type": "code",
   "execution_count": null,
   "metadata": {},
   "outputs": [],
   "source": [
    "BB.size"
   ]
  },
  {
   "cell_type": "code",
   "execution_count": null,
   "metadata": {},
   "outputs": [],
   "source": [
    "len(BB)"
   ]
  },
  {
   "cell_type": "code",
   "execution_count": null,
   "metadata": {},
   "outputs": [],
   "source": [
    "np.shape(BB)"
   ]
  },
  {
   "cell_type": "code",
   "execution_count": null,
   "metadata": {},
   "outputs": [],
   "source": [
    "BB.shape"
   ]
  },
  {
   "cell_type": "markdown",
   "metadata": {
    "deletable": false,
    "editable": false,
    "run_control": {
     "frozen": true
    }
   },
   "source": [
    "### Changing an Array Shape\n",
    "\n",
    "The `np.reshape(array, (new_row, new_col))` function makes a copy of the array and changes its shape to a new row and column size. The arguments are the array to be reshaped and a tuple containing the new shape. The new shape must be numerically compatible with the original shape, meaning they both need to have the same total number of elements. The shape is changed by essentially placing all of the existing rows into one single row, in order starting with row zero. Then the 1D array is reshaped by creating new rows, each with the number of elements given by the new column argument. The `.reshape(new_row, new_col)` method does the same thing as the function.\n",
    "\n",
    "A nice feature of the `np.reshape()` function (and `.reshape()` method) is that you can use `-1` for either the `new_row` or `new_col` arguments when reshaping and NumPy will calculate the correct value for that direction based on the value of the other argument.\n",
    "\n",
    "The `.resize()` method does the same thing as `.reshape` except instead of making a copy it changes the original array and does not allow `-1` to be used as an argument.\n",
    "\n",
    "The shape of two-dimensional arrays can also be changed using the `.T` (transpose) method or the `np.transpose()` function. Transposing an array causes the existing first row to become the new first column and the existing first column to become the new first row. Transposing creates a copy, just like reshaping does, instead of changing the original array.\n",
    "\n",
    ">**Practice it**\n",
    ">\n",
    ">Execute the following code cells see how these shape changing functions and methods work."
   ]
  },
  {
   "cell_type": "code",
   "execution_count": null,
   "metadata": {},
   "outputs": [],
   "source": [
    "B = np.array([[5, 1, 6], [8, 0, 2]])\n",
    "np.reshape(B, (3, 2))"
   ]
  },
  {
   "cell_type": "code",
   "execution_count": null,
   "metadata": {},
   "outputs": [],
   "source": [
    "np.reshape(B, (-1,2))"
   ]
  },
  {
   "cell_type": "code",
   "execution_count": null,
   "metadata": {},
   "outputs": [],
   "source": [
    "B"
   ]
  },
  {
   "cell_type": "code",
   "execution_count": null,
   "metadata": {},
   "outputs": [],
   "source": [
    "B.reshape(3,2)"
   ]
  },
  {
   "cell_type": "code",
   "execution_count": null,
   "metadata": {},
   "outputs": [],
   "source": [
    "B"
   ]
  },
  {
   "cell_type": "code",
   "execution_count": null,
   "metadata": {},
   "outputs": [],
   "source": [
    "B.resize(3, 2)"
   ]
  },
  {
   "cell_type": "code",
   "execution_count": null,
   "metadata": {},
   "outputs": [],
   "source": [
    "B"
   ]
  },
  {
   "cell_type": "code",
   "execution_count": null,
   "metadata": {},
   "outputs": [],
   "source": [
    "np.transpose(B)"
   ]
  },
  {
   "cell_type": "code",
   "execution_count": null,
   "metadata": {},
   "outputs": [],
   "source": [
    "B.T"
   ]
  },
  {
   "cell_type": "code",
   "execution_count": null,
   "metadata": {},
   "outputs": [],
   "source": [
    "B"
   ]
  },
  {
   "cell_type": "markdown",
   "metadata": {
    "deletable": false,
    "editable": false,
    "run_control": {
     "frozen": true
    }
   },
   "source": [
    ">**Practice it**\n",
    ">\n",
    ">Using the `.reshape()` method on a one-dimensional array is a good way to create a two-dimensional array. Test it by reshaping `A` to a $3\\times2$ array in the code cell below."
   ]
  },
  {
   "cell_type": "code",
   "execution_count": null,
   "metadata": {},
   "outputs": [],
   "source": [
    "A = np.array([5, 1, 6, 8, 0, 2])    # reshape to a 3x2 array\n",
    "A"
   ]
  },
  {
   "cell_type": "markdown",
   "metadata": {
    "deletable": false,
    "editable": false,
    "run_control": {
     "frozen": true
    }
   },
   "source": [
    "## Array Addressing (Indexing)\n",
    "\n",
    "Addressing individual items in NumPy arrays works the same way as *Python* lists. Place a set of square brackets with the desired index position after an array name or the array itself to access a value from a one-dimensional array; i.e. `arr1[0]`. If the array is two-dimensional, then the index needs to include two values; row and column. For example, `arr2[0, 2]` would access the item in the first (index 0) row and the third (index 2) column. Negative indices work for arrays as well. It is also possible to use `arr[0][2]` to retrieve the value located at the 2nd index position of the the 0th row.\n",
    "\n",
    ">**Practice it**\n",
    ">\n",
    ">Edit and run the following code cells to select items from `vct`."
   ]
  },
  {
   "cell_type": "code",
   "execution_count": null,
   "metadata": {},
   "outputs": [],
   "source": [
    "vct = np.array([35, 46, 78, 23, 5, 14, 81, 3, 55])\n",
    "# get the 5th value (the number 5)"
   ]
  },
  {
   "cell_type": "code",
   "execution_count": null,
   "metadata": {},
   "outputs": [],
   "source": [
    "# get the 7th value (the number 81)"
   ]
  },
  {
   "cell_type": "code",
   "execution_count": null,
   "metadata": {},
   "outputs": [],
   "source": [
    "# add the third value from the left and the second value from the right\n",
    "# use positive indexing for the first and negative indexing for the second"
   ]
  },
  {
   "cell_type": "markdown",
   "metadata": {
    "deletable": false,
    "editable": false,
    "run_control": {
     "frozen": true
    }
   },
   "source": [
    ">**Practice it**\n",
    ">\n",
    ">Change the code cells below to access the specified items from a two-dimensional array."
   ]
  },
  {
   "cell_type": "code",
   "execution_count": null,
   "metadata": {},
   "outputs": [],
   "source": [
    "MAT = np.array([[3, 11, 6, 5], [4, 7, 10, 2], [13, 9, 0, 8]])\n",
    "# get the first value from the third row (the number 13)"
   ]
  },
  {
   "cell_type": "code",
   "execution_count": null,
   "metadata": {},
   "outputs": [],
   "source": [
    "# subtract the 2nd value in the first row from the 4th value in the 2nd row (2 - 11)"
   ]
  },
  {
   "cell_type": "markdown",
   "metadata": {
    "deletable": false,
    "editable": false,
    "run_control": {
     "frozen": true
    }
   },
   "source": [
    "## Array Slicing\n",
    "\n",
    "Slicing NumPy arrays is done the same way as for lists and strings.\n",
    "\n",
    ">**Practice it**\n",
    ">\n",
    ">Slice array `v1` to create array `u1` with the values `[8, 12, 34, 2, 50]` and then display `u1`."
   ]
  },
  {
   "cell_type": "code",
   "execution_count": null,
   "metadata": {},
   "outputs": [],
   "source": [
    "v1 = np.array([4, 15, 8, 12, 34, 2, 50, 23, 11])"
   ]
  },
  {
   "cell_type": "code",
   "execution_count": null,
   "metadata": {},
   "outputs": [],
   "source": []
  },
  {
   "cell_type": "markdown",
   "metadata": {
    "deletable": false,
    "editable": false,
    "run_control": {
     "frozen": true
    }
   },
   "source": [
    "Slicing 2D arrays is similar to 1D arrays. The colon is still used to separate starting, ending, and step indices for slicing. Since there are two dimensions though, this has to be done for the rows and the columns, i.e. `arr2[row_start:row_end, col_start:col_end]`. Therefore, the slice `arr2[0:2, 0:3]` would return the first two rows of the first three columns of the array. All objects in a row or column are part of a slice if only the colon is included in the row or column position of the slice. For example, `arr2[:, 1:3]` returns the objects from all rows with column indices of 1 and 2.\n",
    "\n",
    ">**Practice it**\n",
    ">\n",
    ">Edit and execute each of the following code cells to get the indicated slices."
   ]
  },
  {
   "cell_type": "code",
   "execution_count": null,
   "metadata": {},
   "outputs": [],
   "source": [
    "MA = np.array([np.arange(1, 12, 2), np.arange(2,13,2), np.arange(3,19,3), np.arange(4,25,4), np.arange(5, 31, 5)])"
   ]
  },
  {
   "cell_type": "code",
   "execution_count": null,
   "metadata": {},
   "outputs": [],
   "source": [
    "MA"
   ]
  },
  {
   "cell_type": "code",
   "execution_count": null,
   "metadata": {},
   "outputs": [],
   "source": [
    "# all rows of the third column"
   ]
  },
  {
   "cell_type": "code",
   "execution_count": null,
   "metadata": {},
   "outputs": [],
   "source": [
    "# all columns of the first row"
   ]
  },
  {
   "cell_type": "code",
   "execution_count": null,
   "metadata": {},
   "outputs": [],
   "source": [
    "# row indices 1 thru 3 of all columns"
   ]
  },
  {
   "cell_type": "code",
   "execution_count": null,
   "metadata": {},
   "outputs": [],
   "source": [
    "# column indices 2 thru 4 of all rows"
   ]
  },
  {
   "cell_type": "code",
   "execution_count": null,
   "metadata": {},
   "outputs": [],
   "source": [
    "# the intersection of row indices 0 thru 2 and column indices 1 thru 3"
   ]
  },
  {
   "cell_type": "markdown",
   "metadata": {
    "deletable": false,
    "editable": false,
    "run_control": {
     "frozen": true
    }
   },
   "source": [
    "## Replacing Values of Objects in Arrays\n",
    "\n",
    "Since NumPy arrays are mutable, array indexing and slicing can be used to access and replace (change) individual values or groups of values in arrays. For example, `x[4] = 6.4` will replace the object located at the 4th index of array `x` to $6.4$. Remember, if the array has an integer data type, attempting to replace a value with a float will result in an integer.\n",
    "\n",
    ">**Practice it**\n",
    ">\n",
    ">The following two code cells define the array `AX`. Replace the values per the comments and then display the resulting array."
   ]
  },
  {
   "cell_type": "code",
   "execution_count": null,
   "metadata": {},
   "outputs": [],
   "source": [
    "AX = np.arange(0,25,3)\n",
    "# replace the second value (index 1) to 42"
   ]
  },
  {
   "cell_type": "code",
   "execution_count": null,
   "metadata": {},
   "outputs": [],
   "source": [
    "# replace indices 3 to 6 (inclusive) with zeros (use the zeros() function)"
   ]
  },
  {
   "cell_type": "markdown",
   "metadata": {
    "deletable": false,
    "editable": false,
    "run_control": {
     "frozen": true
    }
   },
   "source": [
    "## Adding Values to Arrays \n",
    "\n",
    "The `np.append()` function can be used to extend the length of a 1D array by adding items to the end. The arguments are the original array followed by the appended array or range. The function makes a copy of the original array, so you must assign the appended copy back to the original variable name if you want to \"change\" the original.\n",
    "\n",
    "**FYI** Adding and removing values to/from NumPy arrays is not very computationally efficient. It is generally better to redefine an array with the correct values than to change an array.\n",
    "\n",
    ">**Practice it**\n",
    ">\n",
    ">Execute the following code cell to create the array `DF`. In the next code cell, extend the length of `DF` with the values 10 to 35 (inclusive) in steps of 5 using the `np.append()` and `np.arange()` functions then display the changed `DF`."
   ]
  },
  {
   "cell_type": "code",
   "execution_count": null,
   "metadata": {},
   "outputs": [],
   "source": [
    "DF = np.arange(1, 5)"
   ]
  },
  {
   "cell_type": "code",
   "execution_count": null,
   "metadata": {},
   "outputs": [],
   "source": []
  },
  {
   "cell_type": "markdown",
   "metadata": {
    "deletable": false,
    "editable": false,
    "run_control": {
     "frozen": true
    }
   },
   "source": [
    "Adding values to 2D arrays is a little more work. The `np.append()` function accepts an optional argument `axis=` that is `None` by default, but can be set to `0` or `1` when working with 2D arrays. When `axis=0` is used, a row is added. However, the list that is appended needs to be placed in double square brackets. When `axis=1` is used, a column is added. This time the items being added to each row need their own square brackets. See the example for what this looks like. These actions are not performed often, but it is good to see how it could be done.\n",
    "\n",
    ">**Practice it**\n",
    ">\n",
    ">Run the following code cells see a 2D array being appended in both directions."
   ]
  },
  {
   "cell_type": "code",
   "execution_count": null,
   "metadata": {},
   "outputs": [],
   "source": [
    "E = np.array([[1, 2, 3, 4], [5, 6, 7, 8]])\n",
    "E"
   ]
  },
  {
   "cell_type": "code",
   "execution_count": null,
   "metadata": {},
   "outputs": [],
   "source": [
    "F = np.append(E,[[9, 10, 11, 12]], axis=0)\n",
    "F"
   ]
  },
  {
   "cell_type": "code",
   "execution_count": null,
   "metadata": {},
   "outputs": [],
   "source": [
    "G = np.append(F,[[44],[45],[46]], axis=1)\n",
    "G"
   ]
  },
  {
   "cell_type": "markdown",
   "metadata": {
    "deletable": false,
    "editable": false,
    "run_control": {
     "frozen": true
    }
   },
   "source": [
    "The `np.insert()` function can be used to add elements at locations other than the end. This function also works on a copy of the original array instead of changing the original. The arguments are the array, the index position before which insertion will happen, and the value or values to insert. The index position can be given as a list of index positions. Doing so requires a list with the same number of values as there are being inserted. Each will be inserted before the index positions relative to the original array.\n",
    "\n",
    ">**Practice it**\n",
    ">\n",
    ">Each of the following code cells illustrate different insertion types. The last two are single-expression approaches to get an array of zeros with a single non-zero value at the end; the first uses `np.insert()` and the second uses `np.append()`."
   ]
  },
  {
   "cell_type": "code",
   "execution_count": null,
   "metadata": {},
   "outputs": [],
   "source": [
    "r = np.ones(6)"
   ]
  },
  {
   "cell_type": "code",
   "execution_count": null,
   "metadata": {},
   "outputs": [],
   "source": [
    "r = np.insert(r, 2, 3)\n",
    "r"
   ]
  },
  {
   "cell_type": "code",
   "execution_count": null,
   "metadata": {},
   "outputs": [],
   "source": [
    "np.insert(r, 0, [2, 3, 4])"
   ]
  },
  {
   "cell_type": "code",
   "execution_count": null,
   "metadata": {},
   "outputs": [],
   "source": [
    "s = np.arange(6)\n",
    "s"
   ]
  },
  {
   "cell_type": "code",
   "execution_count": null,
   "metadata": {},
   "outputs": [],
   "source": [
    "np.insert(s, 1 , np.arange(5,8))"
   ]
  },
  {
   "cell_type": "code",
   "execution_count": null,
   "metadata": {},
   "outputs": [],
   "source": [
    "np.insert(np.arange(9, 0, -1), [1, -1], [1, 9])"
   ]
  },
  {
   "cell_type": "code",
   "execution_count": null,
   "metadata": {},
   "outputs": [],
   "source": [
    "np.insert(np.array([5]), 0, np.zeros(6))"
   ]
  },
  {
   "cell_type": "code",
   "execution_count": null,
   "metadata": {},
   "outputs": [],
   "source": [
    "np.append(np.zeros(6), 5)"
   ]
  },
  {
   "cell_type": "markdown",
   "metadata": {
    "deletable": false,
    "editable": false,
    "run_control": {
     "frozen": true
    }
   },
   "source": [
    "Two or more 1D arrays can be joined together using the `np.hstack()` function. This function takes a tuple of arrays, lists, and/or individual values as an argument and connects them together in an end-to-end fashion."
   ]
  },
  {
   "cell_type": "code",
   "execution_count": null,
   "metadata": {},
   "outputs": [],
   "source": [
    "np.hstack(([99, 1000], np.arange(1, 5, 1.5), 999))"
   ]
  },
  {
   "cell_type": "markdown",
   "metadata": {
    "deletable": false,
    "editable": false,
    "run_control": {
     "frozen": true
    }
   },
   "source": [
    "Another clever way to perform tasks similar to the previous code cell is to use NumPy's `np.r_[]` command. This function can be used to concatentate (join) arrays, lists, tuples, ranges, and/or values by extending the row length. Test the following code cell. Notice that square brackets are used instead of standard parentheses. There is also an `np.c_[]` command that concatentates by extending the column length. You can find help on both in NumPy's documentation."
   ]
  },
  {
   "cell_type": "code",
   "execution_count": null,
   "metadata": {},
   "outputs": [],
   "source": [
    "np.r_[np.zeros(6), 5, (99,100), np.arange(5)]"
   ]
  },
  {
   "cell_type": "markdown",
   "metadata": {
    "deletable": false,
    "editable": false,
    "run_control": {
     "frozen": true
    }
   },
   "source": [
    ">**Wrap it up**\n",
    ">\n",
    ">Execute the time stamp code cell below to show the time and date you finished and tested this script.\n",
    ">\n",
    ">Click on the **Save** button and then the **Close and halt** button when you are done. **This is an instructor-led assignment that must be completed before the end of the lab session in order to receive credit.**"
   ]
  },
  {
   "cell_type": "code",
   "execution_count": null,
   "metadata": {
    "deletable": false,
    "editable": false
   },
   "outputs": [],
   "source": [
    "from datetime import datetime\n",
    "from pytz import timezone\n",
    "print(datetime.now(timezone('US/Eastern')))"
   ]
  }
 ],
 "metadata": {
  "kernelspec": {
   "display_name": "Python 3",
   "language": "python",
   "name": "python3"
  },
  "language_info": {
   "codemirror_mode": {
    "name": "ipython",
    "version": 3
   },
   "file_extension": ".py",
   "mimetype": "text/x-python",
   "name": "python",
   "nbconvert_exporter": "python",
   "pygments_lexer": "ipython3",
   "version": "3.7.4"
  },
  "varInspector": {
   "cols": {
    "lenName": 16,
    "lenType": 16,
    "lenVar": 40
   },
   "kernels_config": {
    "python": {
     "delete_cmd_postfix": "",
     "delete_cmd_prefix": "del ",
     "library": "var_list.py",
     "varRefreshCmd": "print(var_dic_list())"
    },
    "r": {
     "delete_cmd_postfix": ") ",
     "delete_cmd_prefix": "rm(",
     "library": "var_list.r",
     "varRefreshCmd": "cat(var_dic_list()) "
    }
   },
   "types_to_exclude": [
    "module",
    "function",
    "builtin_function_or_method",
    "instance",
    "_Feature"
   ],
   "window_display": false
  }
 },
 "nbformat": 4,
 "nbformat_minor": 1
}
