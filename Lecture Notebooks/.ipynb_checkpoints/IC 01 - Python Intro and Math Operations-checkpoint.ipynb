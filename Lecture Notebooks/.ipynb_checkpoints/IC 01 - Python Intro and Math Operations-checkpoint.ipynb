{
 "cells": [
  {
   "cell_type": "markdown",
   "metadata": {
    "deletable": false,
    "editable": false,
    "run_control": {
     "frozen": true
    },
    "size": 2
   },
   "source": [
    "# IC 1 - Python Introduction and Math Operations\n",
    "___\n"
   ]
  },
  {
   "cell_type": "code",
   "execution_count": null,
   "metadata": {
    "scrolled": true
   },
   "outputs": [],
   "source": [
    "name = \"Your name here\"\n",
    "print(\"Name:\", name.upper())"
   ]
  },
  {
   "cell_type": "markdown",
   "metadata": {
    "deletable": false,
    "editable": false,
    "run_control": {
     "frozen": true
    }
   },
   "source": [
    "## Purpose and Instructions\n",
    "\n",
    "Start using the *Python* programming language to perform basic math operations. A number of lectures (including this one) and assignments will be presented via open-source *Jupyter* notebooks this semester. \n",
    "\n",
    "1. Replace \"Your name here\" in the cell below the assignment title with your first and last names and then execute the cell using \"Shift-Enter\"\n",
    "2. Execute the time stamp cell \n",
    "3. Follow along with the instuctor as the *Python* programming language and *Jupyter* notebooks are introduced. You will be asked to either execute or type and execute *Python* commands along the way. When you are done and save this document, you will essentially have a completed \"Chapter 1\" to use as a reference.\n",
    "4. Execute the date stamp cell at the end of the document and submitting your saved `.ipynb` file to *Canvas* for credit"
   ]
  },
  {
   "cell_type": "markdown",
   "metadata": {
    "deletable": false,
    "editable": false,
    "run_control": {
     "frozen": true
    }
   },
   "source": [
    "**Execute the time stamp cell below before you start**"
   ]
  },
  {
   "cell_type": "code",
   "execution_count": null,
   "metadata": {
    "deletable": false,
    "editable": false,
    "jupyter": {
     "outputs_hidden": false
    },
    "scrolled": true
   },
   "outputs": [],
   "source": [
    "from datetime import datetime\n",
    "from pytz import timezone\n",
    "print(datetime.now(timezone('US/Eastern')))"
   ]
  },
  {
   "cell_type": "markdown",
   "metadata": {
    "deletable": false,
    "editable": false,
    "run_control": {
     "frozen": true
    }
   },
   "source": [
    "Your answer above should look similar to the following:\n",
    "\n",
    "```\n",
    "2019-12-12 13:53:35.489916-05:00\n",
    "```"
   ]
  },
  {
   "cell_type": "markdown",
   "metadata": {
    "deletable": false,
    "editable": false,
    "run_control": {
     "frozen": true
    },
    "size": 2
   },
   "source": [
    "## Welcome *Python* and the *Jupyter* Notebook Interface\n",
    "\n",
    "Welcome to the world of *Python* and the *Jupyter* notebook interface. Much of our work with *Python* this semester will be done with *Jupyter* notebooks. These notebooks can contain a mix of formatted text (also known as *Markdown*) text, formulas, images, raw text (not executable), and most importantly executable code cells."
   ]
  },
  {
   "cell_type": "markdown",
   "metadata": {
    "deletable": false,
    "editable": false,
    "run_control": {
     "frozen": true
    },
    "size": 2
   },
   "source": [
    "### Code Cell Numbering\n",
    "Code cells work in pairs; input and output. Until an input cell (signified by `In [  ]:` on the far left) is executed, there will not be an associated output cell. Once an input cell has been executed, the notebook will insert a corresponding output cell below it. Code cells that have been executed will have a number added to the identifier on the left, i.e. `In [1]:` for the first cell executed during a session. The corresponding output cell will also have an identifier with a number that matches the input cell that caused the output, i.e. `Out[1]:` belongs to `In [1]:`. There are occasions where an output cell is not generated because the code in the input cell does not create one. In these instances, the output identifier numbering will still be incremented so that all input/output pairs maintain the same number throughout a notebook.\n",
    "\n",
    "Cells can be edited and exectuted any number of times. Each time they are executed, the identifier number will change to the next available number. These numbers are not re-used, they just keep counting up until a session is ended. The last state of all input and output cells is remembered from one session to the next, but the identifier numbers are removed and counting starts over again."
   ]
  },
  {
   "cell_type": "markdown",
   "metadata": {
    "deletable": false,
    "editable": false,
    "run_control": {
     "frozen": true
    },
    "size": 2
   },
   "source": [
    "### Editing and Executing Code Cells\n",
    "\n",
    "The *Jupyter* inteface uses colors to identify if a cell is in edit mode or command mode. When a cell has a green border around it and a text cursor blinking somewhere in the cell, the cell is in edit mode. In this mode you are free to type *Python* commands when in a code cell or text if in a *Markdown* cell. When the border is blue, the cell is in command mode. In command mode, you can copy, paste, and delete cells as well as add new cells and numerous other tasks. We can use this mode to manage what the notebook looks like, i.e. the order of existing cells, adding new cells, or deleting cells. Always make sure you are in edit mode before you start typing *Python* commands. If you are not in edit mode and start typing, strange things may happen to your notebook since *Jupyter* uses single-letter shortcuts for most commands when in command mode. For instance, pressing the `X` key while in command mode will delete the currently highlighted cell or cells. For your safety, instruction cells and some others have been protected from deletion.\n",
    "\n",
    "In order to enter edit mode and type *Python* commands (or edit any existing cell) you can double-click anywhere in a light grey code cell. Also, pressing the **[enter]** (or **[return]**) key when in command mode will cause the current blue highlighted cell to switch to edit mode and change the border color to green. After a *Python* command (or group of commands) has been typed in a code cell, you need to press both the **[shift]** and **[enter]** keys at the same time to execute the commands. This will signal the notebook to execute the commands and generate any applicable output. The **[enter]** key on its own just creates a new line within a cell. You can leave a code cell without executing it simply by clicking on any other cell or outside of the current cell. Generally, the safest place to click on cells is in the left or right border regions. Some cells have been write protected so you cannot type anything into them or change their contents. These cells can still be executed by clicking on the cells to highlight them and pressing the **[shift]** and **[enter]** key combination.\n",
    "\n",
    "Always be aware of what the mouse pointer looks like. A text cursor (shaped like an \"I\") will appear if over a text or code cell region where text input can occur. A standard arrow-like pointer will appear in places where clicking will cause other actions."
   ]
  },
  {
   "cell_type": "markdown",
   "metadata": {
    "deletable": false,
    "editable": false,
    "run_control": {
     "frozen": true
    },
    "size": 2
   },
   "source": [
    "    \n",
    "**Practice it**\n",
    "\n",
    ">1. Execute the following code cell. After executing it, edit it so that it reads `1 + 2 + 3` instead and execute it again.\n",
    ">\n",
    ">1. Add a code cell below the existing one and subtract any two numbers\n"
   ]
  },
  {
   "cell_type": "code",
   "execution_count": null,
   "metadata": {
    "jupyter": {
     "outputs_hidden": false
    },
    "scrolled": true,
    "size": 1
   },
   "outputs": [],
   "source": [
    "1 + 2"
   ]
  },
  {
   "cell_type": "markdown",
   "metadata": {
    "deletable": false,
    "editable": false,
    "run_control": {
     "frozen": true
    },
    "size": 2
   },
   "source": [
    "### Editing Formatted (*Markdown*) and Raw Text Cells\n",
    "\n",
    "All cells in a notebook may be edited, not just code cells. Switching between edit and command mode is done the same way regardless of the cell type. *Jupyter* uses a system of formatting text called *Markdown*. Any cell can be converted to a *Markdown* cell by pressing the **M** key while in command (blue border) mode. You can also convert any cell type into a code cell by pressing the **Y** key while in command mode. The cell containing this text is a *Markdown* cell.\n",
    "\n",
    "While in a *Markdown* cell you can type nearly anything you want. These cells are good places to put instructions, descriptions, and explanations of what is happening in the code cells. In class, they will be used extensively for these purposes. When you are done editing the text in a *Markdown* cell, press **[shift]-[enter]** just like you would to execute a code cell. This will execute the formatting instructions in the *Markdown* cell and generate formatted text. You will be able to differentiate between executed and non-executed *Markdown* cells fairly easily. *Markdown* cells that have been executed will have white backgrounds and the text will look \"better.\" Non-executed *Markdown* cells will have a grey background when the cursor is not currently active in the cell.\n",
    "\n",
    "Raw cells will be used less frequently than the other two types. Raw cells may be used to show sample code. These types of cells are not executable. They will not produce results like code cells and will not look polished like *Markdown* cells. When executed with **[shift]-[enter]**, raw cells will look like code cells without the identifier on the left side. Any cell can be converted to a raw cell by typing **R** while in command (blue outline) mode."
   ]
  },
  {
   "cell_type": "markdown",
   "metadata": {
    "deletable": false,
    "editable": false,
    "run_control": {
     "frozen": true
    },
    "size": 2
   },
   "source": [
    "\n",
    "> **Practice it**\n",
    ">\n",
    "> The cell below this one is an example of a raw cell. Try converting it to a code cell and executing it.\n"
   ]
  },
  {
   "cell_type": "raw",
   "metadata": {
    "size": 1
   },
   "source": [
    "4 + 5"
   ]
  },
  {
   "cell_type": "markdown",
   "metadata": {
    "deletable": false,
    "editable": false,
    "run_control": {
     "frozen": true
    },
    "size": 1
   },
   "source": [
    "\n",
    "## Three Important Types in *Python*\n",
    "\n",
    "Most of the time we will work with numeric values in this class. Occasionally we will need to work with text (primarily to create easily understandable results). In *Python* (as is the case for most programming languages) numeric values are divided into two different types. These types are **integers** and floating point values (also called **floats**). Integers include all positive and negative whole numbers and zero. Floats are decimal values. In the eyes of *Python*, $2$ and $2.0$ are equal but not the same; the first is an integer and the second is a float since it has a decimal point. Anything with text in it is called a **string**. However, not all strings will have textual characters.\n"
   ]
  },
  {
   "cell_type": "markdown",
   "metadata": {
    "deletable": false,
    "editable": false,
    "run_control": {
     "frozen": true
    },
    "size": 2
   },
   "source": [
    ">**Practice it**\n",
    ">  \n",
    ">We can check what type a value is by using a function called `type()`. Execute the following code cells to see what the types are for a number of different values."
   ]
  },
  {
   "cell_type": "code",
   "execution_count": null,
   "metadata": {
    "deletable": false,
    "editable": false,
    "jupyter": {
     "outputs_hidden": false
    },
    "scrolled": true,
    "size": 1
   },
   "outputs": [],
   "source": [
    "type(4)"
   ]
  },
  {
   "cell_type": "code",
   "execution_count": null,
   "metadata": {
    "deletable": false,
    "editable": false,
    "jupyter": {
     "outputs_hidden": false
    },
    "scrolled": true,
    "size": 1
   },
   "outputs": [],
   "source": [
    "type(4.)"
   ]
  },
  {
   "cell_type": "code",
   "execution_count": null,
   "metadata": {
    "deletable": false,
    "editable": false,
    "jupyter": {
     "outputs_hidden": false
    },
    "scrolled": true,
    "size": 1
   },
   "outputs": [],
   "source": [
    "type('hello')"
   ]
  },
  {
   "cell_type": "code",
   "execution_count": null,
   "metadata": {
    "deletable": false,
    "editable": false,
    "jupyter": {
     "outputs_hidden": false
    },
    "scrolled": true,
    "size": 1
   },
   "outputs": [],
   "source": [
    "type(\"hello\")"
   ]
  },
  {
   "cell_type": "code",
   "execution_count": null,
   "metadata": {
    "deletable": false,
    "editable": false,
    "jupyter": {
     "outputs_hidden": false
    },
    "scrolled": true,
    "size": 1
   },
   "outputs": [],
   "source": [
    "type('4')"
   ]
  },
  {
   "cell_type": "markdown",
   "metadata": {
    "deletable": false,
    "editable": false,
    "run_control": {
     "frozen": true
    },
    "size": 2
   },
   "source": [
    "Notice that the numeric value with the decimal point is classified as a float, even though there are no numbers to the right of the decimal place. Also, all items that are enclosed in either single or double quotes are classified as strings (`str`) even if the characters inside the quotes are numeric. This is an important distinction."
   ]
  },
  {
   "cell_type": "markdown",
   "metadata": {
    "deletable": false,
    "editable": false,
    "run_control": {
     "frozen": true
    },
    "size": 2
   },
   "source": [
    "### Converting Types\n",
    "\n",
    "*Python* will allow you to convert objects of one type into objects of another type if it makes sense to do so. Floats can be converted to integers using `int()`, but everything right of the decimal and the decimal itself will be stripped off the value. All integers can be converted to floats using `float()` and a decimal point and zero will be added to the end. Both floats and integers can be converted to strings with the `str()` function. A string that only contains an integer value can be converted to an integer, but a string that only contains a floating point value cannot be converted directly to an integer. However, a string that only contains a floating point value can be converted to a float. To convert string containing a float into an integer, you need to first convert the string to float, then to an integer. "
   ]
  },
  {
   "cell_type": "code",
   "execution_count": null,
   "metadata": {
    "deletable": false,
    "editable": false,
    "scrolled": true
   },
   "outputs": [],
   "source": [
    "# Force Jupyter to display all calculated results in code cells\n",
    "\n",
    "from IPython.core.interactiveshell import InteractiveShell\n",
    "InteractiveShell.ast_node_interactivity = \"all\"\n",
    "\n",
    "# Change \"all\" to \"last_expr\" to only show the last result"
   ]
  },
  {
   "cell_type": "code",
   "execution_count": null,
   "metadata": {
    "deletable": false,
    "editable": false,
    "scrolled": true,
    "size": 2
   },
   "outputs": [],
   "source": [
    "int(3.14159)\n",
    "float(42)\n",
    "str(42)\n",
    "str(3.14159)\n",
    "int(\"42\")\n",
    "float(\"3.14159\")\n",
    "int(float(\"3.14159\"))"
   ]
  },
  {
   "cell_type": "markdown",
   "metadata": {
    "deletable": false,
    "editable": false,
    "run_control": {
     "frozen": true
    },
    "size": 2
   },
   "source": [
    ">**Practice it**\n",
    ">   \n",
    ">Perform each of the following type conversions in separate code cells:\n",
    ">\n",
    ">- 4.0 to an integer\n",
    ">- 4.5 to an integer\n",
    ">- -4.5 to an integer"
   ]
  },
  {
   "cell_type": "code",
   "execution_count": null,
   "metadata": {
    "jupyter": {
     "outputs_hidden": false
    },
    "scrolled": true,
    "size": 1
   },
   "outputs": [],
   "source": []
  },
  {
   "cell_type": "code",
   "execution_count": null,
   "metadata": {
    "jupyter": {
     "outputs_hidden": false
    },
    "scrolled": true,
    "size": 1
   },
   "outputs": [],
   "source": []
  },
  {
   "cell_type": "code",
   "execution_count": null,
   "metadata": {
    "jupyter": {
     "outputs_hidden": false
    },
    "scrolled": true,
    "size": 1
   },
   "outputs": [],
   "source": []
  },
  {
   "cell_type": "markdown",
   "metadata": {
    "deletable": false,
    "editable": false,
    "run_control": {
     "frozen": true
    },
    "size": 2
   },
   "source": [
    ">- The string '4' to an integer\n",
    ">- The string \"4.5\" to a float"
   ]
  },
  {
   "cell_type": "code",
   "execution_count": null,
   "metadata": {
    "jupyter": {
     "outputs_hidden": false
    },
    "scrolled": true,
    "size": 1
   },
   "outputs": [],
   "source": []
  },
  {
   "cell_type": "code",
   "execution_count": null,
   "metadata": {
    "jupyter": {
     "outputs_hidden": false
    },
    "scrolled": true,
    "size": 1
   },
   "outputs": [],
   "source": []
  },
  {
   "cell_type": "markdown",
   "metadata": {
    "deletable": false,
    "editable": false,
    "run_control": {
     "frozen": true
    },
    "size": 2
   },
   "source": [
    ">- 4 to a float\n",
    ">- 4 to a string"
   ]
  },
  {
   "cell_type": "code",
   "execution_count": null,
   "metadata": {
    "jupyter": {
     "outputs_hidden": false
    },
    "scrolled": true,
    "size": 1
   },
   "outputs": [],
   "source": []
  },
  {
   "cell_type": "code",
   "execution_count": null,
   "metadata": {
    "jupyter": {
     "outputs_hidden": false
    },
    "scrolled": true,
    "size": 1
   },
   "outputs": [],
   "source": []
  },
  {
   "cell_type": "markdown",
   "metadata": {
    "deletable": false,
    "editable": false,
    "run_control": {
     "frozen": true
    },
    "size": 2
   },
   "source": [
    ">- 4.5 to a string\n",
    ">- The string '4.5' to an integer (put a float conversion within the parentheses of an integer conversion)"
   ]
  },
  {
   "cell_type": "code",
   "execution_count": null,
   "metadata": {
    "jupyter": {
     "outputs_hidden": false
    },
    "scrolled": true,
    "size": 1
   },
   "outputs": [],
   "source": []
  },
  {
   "cell_type": "code",
   "execution_count": null,
   "metadata": {
    "jupyter": {
     "outputs_hidden": false
    },
    "scrolled": true,
    "size": 1
   },
   "outputs": [],
   "source": []
  },
  {
   "cell_type": "markdown",
   "metadata": {
    "deletable": false,
    "editable": false,
    "run_control": {
     "frozen": true
    },
    "size": 2
   },
   "source": [
    "## Running Scripts from *Jupyter* or *iPython* Prompt\n",
    "\n",
    "We will be writing a number of scripts (more details later) this semester. Scripts can be written using any text editor. *Jupyter* has a built-in text editor that works fine. Never use a word processor to create or edit script files. A script named `hello.py` that is located in the same directory as this notebook. You can execute (run) this script in *Jupyter* by typing `run hello.py` in a code cell and executing the cell. You can also do the same thing from an `ipython` command line interface as well. If you are running *Python* from a command line (also called a console or terminal), you can type `import hello` at a *Python* prompt to run this script.\n"
   ]
  },
  {
   "cell_type": "markdown",
   "metadata": {
    "deletable": false,
    "editable": false,
    "run_control": {
     "frozen": true
    },
    "size": 2
   },
   "source": [
    ">**Practice it: Running Scripts**\n",
    ">\n",
    ">Type `run hello.py` in the following code cell and execute the cell using the `[shift]-[enter]` key combination. Make sure you answer the question posed by the script."
   ]
  },
  {
   "cell_type": "code",
   "execution_count": null,
   "metadata": {
    "deletable": false,
    "editable": false,
    "jupyter": {
     "outputs_hidden": false
    },
    "scrolled": true,
    "size": 1
   },
   "outputs": [],
   "source": [
    "run hello.py"
   ]
  },
  {
   "cell_type": "markdown",
   "metadata": {
    "deletable": false,
    "editable": false,
    "run_control": {
     "frozen": true
    }
   },
   "source": [
    "## The Pythonic Method\n",
    "\n",
    "Thoughout the semester you will be introduced to ways of programming and doing things with code that are fairly unique to *Python*. These ways of doing things are referred to as being ***Pythonic***. The development of *Python* as a language has been guided by a number of principles."
   ]
  },
  {
   "cell_type": "markdown",
   "metadata": {
    "deletable": false,
    "editable": false,
    "run_control": {
     "frozen": true
    },
    "size": 2
   },
   "source": [
    ">Execute the following code cell to get a glimpse at these guiding principles."
   ]
  },
  {
   "cell_type": "code",
   "execution_count": null,
   "metadata": {
    "deletable": false,
    "editable": false,
    "jupyter": {
     "outputs_hidden": false
    },
    "scrolled": true,
    "size": 1
   },
   "outputs": [],
   "source": [
    "import this"
   ]
  },
  {
   "cell_type": "markdown",
   "metadata": {
    "deletable": false,
    "editable": false,
    "run_control": {
     "frozen": true
    }
   },
   "source": [
    "## Displaying Output Using `print`\n",
    "\n",
    "*Python* uses the `print()` function to explicitly display results. When using the *Jupyter* notebook interface (or REPL prompt) some results may display without using `print()` (usually just the last result). However, when running a script, the only way to display results is by using `print()`. \n",
    "\n",
    "```python\n",
    "print('Hello, World!')\n",
    "print(\"Hello \" + \"again\")\n",
    "print(\"Python is awesome\")\n",
    "print('Lumberjacks', \"Parrots\", 42)\n",
    "print(4 * 5)\n",
    "print(2 * 'Hello')\n",
    "```"
   ]
  },
  {
   "cell_type": "markdown",
   "metadata": {},
   "source": [
    ">Practice it\n",
    ">\n",
    ">Type and execute the above commands in the provided empty code cell."
   ]
  },
  {
   "cell_type": "code",
   "execution_count": null,
   "metadata": {
    "jupyter": {
     "outputs_hidden": false
    },
    "scrolled": true
   },
   "outputs": [],
   "source": []
  },
  {
   "cell_type": "markdown",
   "metadata": {
    "deletable": false,
    "editable": false,
    "run_control": {
     "frozen": true
    }
   },
   "source": [
    "Notice that the `print()` function displayed the results of anything that was inlcuded within the parentheses. When multiple items were included in the parentheses of the `print()` function and they were separated with a comma, then all of the items were printed. *Python* adds a space between items that are separated by commas when printing. If multiple strings are included in a `print()` function and they are separted by a `+`, then *Python* \"adds\" the strings together (called concatenation) before printing. Don't worry about the items in quotes too much as this time, we will get to that later. Just know that they allow us to print words and phrases."
   ]
  },
  {
   "cell_type": "markdown",
   "metadata": {
    "deletable": false,
    "editable": false,
    "run_control": {
     "frozen": true
    }
   },
   "source": [
    "## Basic Arithmetic\n",
    "\n",
    "*Python* uses the following basic arithmetic operators: `+` (addition), `-` (subtraction), `*` (multiplication), `/` (division), and  `**` (exponentiation). You should be familiar with these operators with the exception of the one used for exponentiation. You are probably familiar with using `^` for exponentiation (like Excel does), but *Pyton* uses `^` for something else. It may help to think of exponentiation (like squaring a value) as multiplying twice, therefore the use of `**`. *Python*, like most programming languages, Excel, and modern calculators, follows the **PEMDAS** order of operations.\n",
    "\n",
    "**P** = Parentheses `( )` first\n",
    "\n",
    "**E** = Exponentiation (`4**2` is $4^2$) second\n",
    "\n",
    "**MD** = multiplication and division from left to right (`3*2/3 = 2`) third\n",
    "\n",
    "**AS** = addition and subtraction from left to right (`5 - 3 + 1 = 3`) fourth"
   ]
  },
  {
   "cell_type": "markdown",
   "metadata": {
    "deletable": false,
    "editable": false,
    "run_control": {
     "frozen": true
    }
   },
   "source": [
    ">**Practice it**\n",
    ">\n",
    ">Type and execute each of the following math operations in the provided empty code cells."
   ]
  },
  {
   "cell_type": "markdown",
   "metadata": {
    "deletable": false,
    "editable": false,
    "run_control": {
     "frozen": true
    }
   },
   "source": [
    ">$7 + 8/2$"
   ]
  },
  {
   "cell_type": "code",
   "execution_count": null,
   "metadata": {
    "jupyter": {
     "outputs_hidden": false
    },
    "scrolled": true
   },
   "outputs": [],
   "source": []
  },
  {
   "cell_type": "markdown",
   "metadata": {
    "deletable": false,
    "editable": false,
    "run_control": {
     "frozen": true
    }
   },
   "source": [
    ">$(7 + 8)/2$"
   ]
  },
  {
   "cell_type": "code",
   "execution_count": null,
   "metadata": {
    "jupyter": {
     "outputs_hidden": false
    },
    "scrolled": true
   },
   "outputs": [],
   "source": []
  },
  {
   "cell_type": "markdown",
   "metadata": {
    "deletable": false,
    "editable": false,
    "run_control": {
     "frozen": true
    }
   },
   "source": [
    ">$4 + 5/3 + 2$"
   ]
  },
  {
   "cell_type": "code",
   "execution_count": null,
   "metadata": {
    "jupyter": {
     "outputs_hidden": false
    },
    "scrolled": true
   },
   "outputs": [],
   "source": []
  },
  {
   "cell_type": "markdown",
   "metadata": {
    "deletable": false,
    "editable": false,
    "run_control": {
     "frozen": true
    }
   },
   "source": [
    ">$5^3/2$"
   ]
  },
  {
   "cell_type": "code",
   "execution_count": null,
   "metadata": {
    "jupyter": {
     "outputs_hidden": false
    },
    "scrolled": true
   },
   "outputs": [],
   "source": []
  },
  {
   "cell_type": "markdown",
   "metadata": {
    "deletable": false,
    "editable": false,
    "run_control": {
     "frozen": true
    }
   },
   "source": [
    ">$5^{3/2}$"
   ]
  },
  {
   "cell_type": "code",
   "execution_count": null,
   "metadata": {
    "jupyter": {
     "outputs_hidden": false
    },
    "scrolled": true
   },
   "outputs": [],
   "source": []
  },
  {
   "cell_type": "markdown",
   "metadata": {
    "deletable": false,
    "editable": false,
    "run_control": {
     "frozen": true
    }
   },
   "source": [
    ">$27^{1/3} + 32^{0.2}$"
   ]
  },
  {
   "cell_type": "code",
   "execution_count": null,
   "metadata": {
    "jupyter": {
     "outputs_hidden": false
    },
    "scrolled": true
   },
   "outputs": [],
   "source": []
  },
  {
   "cell_type": "markdown",
   "metadata": {
    "deletable": false,
    "editable": false,
    "run_control": {
     "frozen": true
    }
   },
   "source": [
    ">$27^1/3 + 32^{0.2}$"
   ]
  },
  {
   "cell_type": "code",
   "execution_count": null,
   "metadata": {
    "jupyter": {
     "outputs_hidden": false
    },
    "scrolled": true
   },
   "outputs": [],
   "source": []
  },
  {
   "cell_type": "markdown",
   "metadata": {
    "deletable": false,
    "editable": false,
    "run_control": {
     "frozen": true
    }
   },
   "source": [
    "*Python* uses `#` to indicate the start of a comment. Anything after the `#` is ignored by *Python*. Comments are a great way to let others who read your code know what you intended. They should describe \"why\" and not \"how.\"\n",
    "\n",
    ">Create the comment `# That was't too bad` in the following cell and execute the cell."
   ]
  },
  {
   "cell_type": "code",
   "execution_count": null,
   "metadata": {
    "jupyter": {
     "outputs_hidden": false
    },
    "scrolled": true
   },
   "outputs": [],
   "source": []
  },
  {
   "cell_type": "markdown",
   "metadata": {},
   "source": [
    "You can also add a comment or explanation anywhere in *Jupyter* notebooks by inserting a *Markdown* cell, typing away, and then using `[Shift]-[Enter]` to execute the cell."
   ]
  },
  {
   "cell_type": "markdown",
   "metadata": {
    "deletable": false,
    "editable": false,
    "run_control": {
     "frozen": true
    }
   },
   "source": [
    ">Insert a cell below this one by clicking on this cell and then clicking on the **+** button in the tool bar or by using the keyboard shortut **B**. Change the cell type to *Markdown* using the pop-up list in the tool bar or by using the keyboard shortcut **M**. Click in the new cell and type anything you want. Use `[Shift]-[Enter]` to execute the cell when you are done."
   ]
  },
  {
   "cell_type": "markdown",
   "metadata": {
    "deletable": false,
    "editable": false,
    "run_control": {
     "frozen": true
    }
   },
   "source": [
    "## Special Division Operators and Functions\n",
    "\n",
    "The division operation in mathematics involves four diﬀerent objects: the dividend, the divisor, the quotient, and the remainder. The dividend is the number that is being divided up and the divisor is what is being used to divide it. This is written as $Dividend \\div Divisor$. In fractional form the dividend would be the numerator (top) and the divisor the denominator (bottom) and it would be written as $Dividend/Divisor$. The quotient is the number of times the divisor goes into the dividend completely. The remainder is what is left (if anything). For example, if we solve $7\\div 2$ we end up with a quotient of $3$ and remainder of $1$.\n",
    "\n",
    "- The normal division operator (`/`) will always yield a floating point value in Python 3.x\n",
    "- The integer division operator (`//`) returns just the quotient as an integer\n",
    "- The modulo (remainder) division operator (`%`) yields just the remainder\n",
    "- The built-in function `divmod()` requires two arguments, the dividend and divisor, and returns (results in) the quotient and remainder as a pair of values\n",
    "\n",
    "The following code cell shows the results of each of these operations on $7 \\div 2$.\n"
   ]
  },
  {
   "cell_type": "code",
   "execution_count": null,
   "metadata": {
    "jupyter": {},
    "scrolled": true
   },
   "outputs": [],
   "source": [
    "print('7/2 =', 7/2)\n",
    "print('7//2 =', 7//2)\n",
    "print('7%2 =', 7%2)\n",
    "print('divmod(7,2) =', divmod(7, 2))"
   ]
  },
  {
   "cell_type": "markdown",
   "metadata": {
    "deletable": false,
    "editable": false,
    "run_control": {
     "frozen": true
    }
   },
   "source": [
    ">**Practice it**\n",
    ">\n",
    ">Integer or floor division. Test each of the following special division operators using the provided values in separate code cells.\n",
    ">\n",
    ">```python\n",
    "5 // 2\n",
    "4.5 // 2\n",
    "-7 // 2\n",
    "```"
   ]
  },
  {
   "cell_type": "code",
   "execution_count": null,
   "metadata": {
    "jupyter": {
     "outputs_hidden": false
    },
    "scrolled": true
   },
   "outputs": [],
   "source": []
  },
  {
   "cell_type": "code",
   "execution_count": null,
   "metadata": {
    "jupyter": {
     "outputs_hidden": false
    },
    "scrolled": true
   },
   "outputs": [],
   "source": []
  },
  {
   "cell_type": "code",
   "execution_count": null,
   "metadata": {
    "jupyter": {
     "outputs_hidden": false
    },
    "scrolled": true
   },
   "outputs": [],
   "source": []
  },
  {
   "cell_type": "markdown",
   "metadata": {
    "deletable": false,
    "editable": false,
    "run_control": {
     "frozen": true
    }
   },
   "source": [
    ">Remainder division.\n",
    ">```python\n",
    "5 % 2\n",
    "5 % 2.25\n",
    ">```"
   ]
  },
  {
   "cell_type": "code",
   "execution_count": null,
   "metadata": {
    "jupyter": {
     "outputs_hidden": false
    },
    "scrolled": true
   },
   "outputs": [],
   "source": []
  },
  {
   "cell_type": "code",
   "execution_count": null,
   "metadata": {
    "jupyter": {
     "outputs_hidden": false
    },
    "scrolled": true
   },
   "outputs": [],
   "source": []
  },
  {
   "cell_type": "markdown",
   "metadata": {
    "deletable": false,
    "editable": false,
    "run_control": {
     "frozen": true
    }
   },
   "source": [
    ">The `divmod()` function for finding the quotient and remainder.\n",
    ">```python\n",
    "divmod(5, 2)\n",
    "divmod(5, 2.25)\n",
    ">```"
   ]
  },
  {
   "cell_type": "code",
   "execution_count": null,
   "metadata": {
    "jupyter": {
     "outputs_hidden": false
    },
    "scrolled": true
   },
   "outputs": [],
   "source": []
  },
  {
   "cell_type": "code",
   "execution_count": null,
   "metadata": {
    "jupyter": {
     "outputs_hidden": false
    },
    "scrolled": true
   },
   "outputs": [],
   "source": []
  },
  {
   "cell_type": "markdown",
   "metadata": {
    "deletable": false,
    "editable": false,
    "run_control": {
     "frozen": true
    }
   },
   "source": [
    "## Elementary Math Functions and Constants\n",
    "\n",
    "*Python* is a very extensible programming language. A large amount of programming can be done with just the core commands. However, a large number of modules (libraries) are available for nearly everything you can dream of needing. *Python* requires that you `import` the modules that you want to use in order to use the commands they contain. For example, you need to `import` the `math` module to use math functions beyond basic arithmetic. You can find out all of the functions provided by the module by executing `dir(math)` or `print(dir(math))` after importing the module. This can be done for any module that you import.\n"
   ]
  },
  {
   "cell_type": "markdown",
   "metadata": {
    "deletable": false,
    "editable": false,
    "run_control": {
     "frozen": true
    }
   },
   "source": [
    ">**Practice it**\n",
    ">\n",
    ">Try out each of the following math functions using your choice of values (not `x`). To use functions/commands from the `math` module, you must type `math.` before the function/command, i.e. `math.sqrt()`. Make sure you execute the cell with `import math` before executing any of the commands that require the `math` module.\n",
    ">\n",
    ">```python\n",
    "math.sqrt(x)\n",
    "math.exp(x)\n",
    "abs(x)\n",
    "math.log(x)\n",
    "math.log10(x)\n",
    "math.factorial(x)\n",
    ">```\n",
    ">\n",
    ">*Jupyter* allows multiple lines of code to be executed in the same cell. To do so, just type `[enter]` at the end of each line of code and `[shift]-[enter]` after typing the last line of code. This time, type each command in its own cell, making sure you execute each cell when done."
   ]
  },
  {
   "cell_type": "code",
   "execution_count": null,
   "metadata": {
    "jupyter": {
     "outputs_hidden": false
    },
    "scrolled": true
   },
   "outputs": [],
   "source": [
    "import math\n",
    "print(dir(math))"
   ]
  },
  {
   "cell_type": "code",
   "execution_count": null,
   "metadata": {
    "jupyter": {
     "outputs_hidden": false
    },
    "scrolled": true
   },
   "outputs": [],
   "source": []
  },
  {
   "cell_type": "code",
   "execution_count": null,
   "metadata": {
    "jupyter": {
     "outputs_hidden": false
    },
    "scrolled": true
   },
   "outputs": [],
   "source": []
  },
  {
   "cell_type": "code",
   "execution_count": null,
   "metadata": {
    "jupyter": {
     "outputs_hidden": false
    },
    "scrolled": true
   },
   "outputs": [],
   "source": []
  },
  {
   "cell_type": "code",
   "execution_count": null,
   "metadata": {
    "jupyter": {
     "outputs_hidden": false
    },
    "scrolled": true
   },
   "outputs": [],
   "source": []
  },
  {
   "cell_type": "code",
   "execution_count": null,
   "metadata": {
    "jupyter": {
     "outputs_hidden": false
    },
    "scrolled": true
   },
   "outputs": [],
   "source": []
  },
  {
   "cell_type": "code",
   "execution_count": null,
   "metadata": {
    "jupyter": {
     "outputs_hidden": false
    },
    "scrolled": true
   },
   "outputs": [],
   "source": []
  },
  {
   "cell_type": "markdown",
   "metadata": {
    "deletable": false,
    "editable": false,
    "run_control": {
     "frozen": true
    }
   },
   "source": [
    "If you know that you only need specific functions/commands from the `math` (or any other) module, you can import just those functions/commands. Doing so makes it so you do not have to include `math.` when using those specific commands. The following example shows how to import the three trigonometric functions cosine, sine, and tangent and the constant $\\pi$. Once imported, the commands may be used just by typing their name with appropriate arguments.\n",
    "\n",
    "```python\n",
    "from math import cos, sin, tan, pi\n",
    "cos(pi/3)\n",
    "```\n",
    "\n",
    "You can also import all commands from a module by using the `*` wildcard (as shown below).\n",
    "\n",
    "```python\n",
    "from math import *\n",
    "```\n",
    "However, this is not considered very Pythonic and is frowned upon in most cases. Please do not use this method of importing modules unless specified by the instructor."
   ]
  },
  {
   "cell_type": "markdown",
   "metadata": {
    "deletable": false,
    "editable": false,
    "run_control": {
     "frozen": true
    }
   },
   "source": [
    ">Practice it\n",
    ">\n",
    ">Issue each of the following commands for the mathematical constants $\\pi$, $e$ (Euler's number), $\\infty$, and \"not a number\" in there own code cells.\n",
    ">\n",
    ">```python\n",
    "math.pi\n",
    "math.e\n",
    "math.inf\n",
    "math.nan\n",
    ">```"
   ]
  },
  {
   "cell_type": "code",
   "execution_count": null,
   "metadata": {
    "jupyter": {
     "outputs_hidden": false
    },
    "scrolled": true
   },
   "outputs": [],
   "source": []
  },
  {
   "cell_type": "code",
   "execution_count": null,
   "metadata": {
    "jupyter": {
     "outputs_hidden": false
    },
    "scrolled": true
   },
   "outputs": [],
   "source": []
  },
  {
   "cell_type": "code",
   "execution_count": null,
   "metadata": {
    "jupyter": {
     "outputs_hidden": false
    },
    "scrolled": true
   },
   "outputs": [],
   "source": []
  },
  {
   "cell_type": "code",
   "execution_count": null,
   "metadata": {
    "jupyter": {
     "outputs_hidden": false
    },
    "scrolled": true
   },
   "outputs": [],
   "source": []
  },
  {
   "cell_type": "markdown",
   "metadata": {
    "deletable": false,
    "editable": false,
    "run_control": {
     "frozen": true
    }
   },
   "source": [
    "## Trigonometric Functions\n",
    "\n",
    "The `math` module includes full support for trigonometric functions and their inverse functions. All *Python* trig functions work with angle units of radians, not degrees. Therefore, you will need to convert angles from degrees to radians or radians to degree separately when required. The `math` module includes the functions `degrees()` and `radians()` to convert back and forth between angle units. For instance, `math.radians(30)` converts $30^{\\circ}$ to radians and `math.degrees(math.pi/2)` converts $\\pi /2$ to degrees."
   ]
  },
  {
   "cell_type": "markdown",
   "metadata": {
    "deletable": false,
    "editable": false,
    "run_control": {
     "frozen": true
    }
   },
   "source": [
    ">**Practice it: Sine and Inverse Sine**\n",
    ">\n",
    ">Test the sine and inverse (arcus) sine functions from the `math` module using the given values. Execute one command in each of the cells provided.\n",
    ">\n",
    ">```python\n",
    "math.sin(math.pi/4)\n",
    "math.sin(math.radians(30))\n",
    "math.asin(0.6)\n",
    "math.degrees(math.asin(0.6))\n",
    ">```"
   ]
  },
  {
   "cell_type": "code",
   "execution_count": null,
   "metadata": {
    "jupyter": {
     "outputs_hidden": false
    },
    "scrolled": true
   },
   "outputs": [],
   "source": []
  },
  {
   "cell_type": "code",
   "execution_count": null,
   "metadata": {
    "jupyter": {
     "outputs_hidden": false
    },
    "scrolled": true
   },
   "outputs": [],
   "source": []
  },
  {
   "cell_type": "code",
   "execution_count": null,
   "metadata": {
    "jupyter": {
     "outputs_hidden": false
    },
    "scrolled": true
   },
   "outputs": [],
   "source": []
  },
  {
   "cell_type": "code",
   "execution_count": null,
   "metadata": {
    "jupyter": {
     "outputs_hidden": false
    },
    "scrolled": true
   },
   "outputs": [],
   "source": []
  },
  {
   "cell_type": "markdown",
   "metadata": {
    "deletable": false,
    "editable": false,
    "run_control": {
     "frozen": true
    }
   },
   "source": [
    ">**Practice it: Cosine and Inverse Cosine**\n",
    ">\n",
    ">Test the cosine and inverse (arcus) cosine functions from the `math` module using the given values. Execute one command in each of the cells provided.\n",
    ">\n",
    ">```python\n",
    "math.cos(math.pi/4)\n",
    "math.cos(math.radians(60))\n",
    "math.acos(-0.4)\n",
    "math.degrees(math.acos(-0.4))\n",
    ">```"
   ]
  },
  {
   "cell_type": "code",
   "execution_count": null,
   "metadata": {
    "jupyter": {
     "outputs_hidden": false
    },
    "scrolled": true
   },
   "outputs": [],
   "source": []
  },
  {
   "cell_type": "code",
   "execution_count": null,
   "metadata": {
    "jupyter": {
     "outputs_hidden": false
    },
    "scrolled": true
   },
   "outputs": [],
   "source": []
  },
  {
   "cell_type": "code",
   "execution_count": null,
   "metadata": {
    "jupyter": {
     "outputs_hidden": false
    },
    "scrolled": true
   },
   "outputs": [],
   "source": []
  },
  {
   "cell_type": "code",
   "execution_count": null,
   "metadata": {
    "jupyter": {
     "outputs_hidden": false
    },
    "scrolled": true
   },
   "outputs": [],
   "source": []
  },
  {
   "cell_type": "markdown",
   "metadata": {
    "deletable": false,
    "editable": false,
    "run_control": {
     "frozen": true
    }
   },
   "source": [
    ">**Practice it: Tangent and Inverse Tangent**\n",
    ">\n",
    ">Test the tangent and inverse (arcus) tangent functions from the `math` module using the given values. Execute one command in each of the cells provided.\n",
    ">\n",
    ">```python\n",
    "math.tan(2*math.pi/3)\n",
    "math.tan(math.radians(115))\n",
    "math.atan(1.2)\n",
    "math.degrees(math.atan(0.8))\n",
    "math.atan2(-1,-2)\n",
    ">```"
   ]
  },
  {
   "cell_type": "code",
   "execution_count": null,
   "metadata": {
    "jupyter": {
     "outputs_hidden": false
    },
    "scrolled": true
   },
   "outputs": [],
   "source": []
  },
  {
   "cell_type": "code",
   "execution_count": null,
   "metadata": {
    "jupyter": {
     "outputs_hidden": false
    },
    "scrolled": true
   },
   "outputs": [],
   "source": []
  },
  {
   "cell_type": "code",
   "execution_count": null,
   "metadata": {
    "jupyter": {
     "outputs_hidden": false
    },
    "scrolled": true
   },
   "outputs": [],
   "source": []
  },
  {
   "cell_type": "code",
   "execution_count": null,
   "metadata": {
    "jupyter": {
     "outputs_hidden": false
    },
    "scrolled": true
   },
   "outputs": [],
   "source": []
  },
  {
   "cell_type": "code",
   "execution_count": null,
   "metadata": {
    "jupyter": {
     "outputs_hidden": false
    },
    "scrolled": true
   },
   "outputs": [],
   "source": []
  },
  {
   "cell_type": "markdown",
   "metadata": {
    "deletable": false,
    "editable": false,
    "run_control": {
     "frozen": true
    }
   },
   "source": [
    "Notice in the previous problem set that there is a second inverse tangent function `atan2()` that accepts two values (arguments) instead of one. This version returns a quadrant-specific angle based on an $x$ and a $y$ value. The function arguments are in $y,x$ order to match $y/x$, i.e. `atan2(y, x)` equals $\\tan^{-1}{\\left(y/x\\right)}$."
   ]
  },
  {
   "cell_type": "markdown",
   "metadata": {
    "deletable": false,
    "editable": false,
    "run_control": {
     "frozen": true
    }
   },
   "source": [
    ">Execute the following code cell to see the help available for the `math.atan2()` function."
   ]
  },
  {
   "cell_type": "code",
   "execution_count": null,
   "metadata": {
    "deletable": false,
    "editable": false,
    "jupyter": {
     "outputs_hidden": false
    },
    "scrolled": true
   },
   "outputs": [],
   "source": [
    "help(math.atan2)"
   ]
  },
  {
   "cell_type": "markdown",
   "metadata": {
    "deletable": false,
    "editable": false,
    "run_control": {
     "frozen": true
    }
   },
   "source": [
    "## Rounding Related Functions\n",
    "\n",
    "The *Python* built-in commands and the `math` module include a number of functions that relate to rounding floating point (decimal) values. The built-in `round()` function rounds values towards zero if the decimal part is less than 0.5 and away from zero otherwise. It can accept an optional second argument to set the number of decimal places at which to round. The `math.trunc()` function always drops off the decimal portion, leaving an integer value. The `math.ceil()` function returns the next integer value towards positive infinity if the argument has a decimal part, while the `math.floor()` function returns the next integer value towards negative infinity if there is a decimal part."
   ]
  },
  {
   "cell_type": "markdown",
   "metadata": {
    "deletable": false,
    "editable": false,
    "run_control": {
     "frozen": true
    }
   },
   "source": [
    ">**Practice it: Rounding Related Functions**\n",
    ">\n",
    ">Rounding and truncating. Determine the answer to each of the following *Python* rounding functions in the following cells (one command per code cell).\n",
    ">   \n",
    ">```python\n",
    "round(math.pi)\n",
    "round(math.pi,3)\n",
    "round(math.pi*1000,-2)\n",
    "math.trunc(1.6)\n",
    ">```"
   ]
  },
  {
   "cell_type": "code",
   "execution_count": null,
   "metadata": {
    "jupyter": {
     "outputs_hidden": false
    },
    "scrolled": true
   },
   "outputs": [],
   "source": []
  },
  {
   "cell_type": "code",
   "execution_count": null,
   "metadata": {
    "jupyter": {
     "outputs_hidden": false
    },
    "scrolled": true
   },
   "outputs": [],
   "source": []
  },
  {
   "cell_type": "code",
   "execution_count": null,
   "metadata": {
    "jupyter": {
     "outputs_hidden": false
    },
    "scrolled": true
   },
   "outputs": [],
   "source": []
  },
  {
   "cell_type": "code",
   "execution_count": null,
   "metadata": {
    "jupyter": {
     "outputs_hidden": false
    },
    "scrolled": true
   },
   "outputs": [],
   "source": []
  },
  {
   "cell_type": "markdown",
   "metadata": {
    "deletable": false,
    "editable": false,
    "run_control": {
     "frozen": true
    }
   },
   "source": [
    ">Ceiling and floor operations.\n",
    ">    \n",
    ">```python\n",
    "math.ceil(1.6)\n",
    "math.ceil(-33.3)\n",
    "math.floor(1.6)\n",
    "math.floor(-44.99)\n",
    ">```"
   ]
  },
  {
   "cell_type": "code",
   "execution_count": null,
   "metadata": {
    "jupyter": {
     "outputs_hidden": false
    },
    "scrolled": true
   },
   "outputs": [],
   "source": []
  },
  {
   "cell_type": "code",
   "execution_count": null,
   "metadata": {
    "jupyter": {
     "outputs_hidden": false
    },
    "scrolled": true
   },
   "outputs": [],
   "source": []
  },
  {
   "cell_type": "code",
   "execution_count": null,
   "metadata": {
    "jupyter": {
     "outputs_hidden": false
    },
    "scrolled": true
   },
   "outputs": [],
   "source": []
  },
  {
   "cell_type": "code",
   "execution_count": null,
   "metadata": {
    "jupyter": {
     "outputs_hidden": false
    },
    "scrolled": true
   },
   "outputs": [],
   "source": []
  },
  {
   "cell_type": "markdown",
   "metadata": {
    "deletable": false,
    "editable": false,
    "run_control": {
     "frozen": true
    }
   },
   "source": [
    "## Using Names (Variables)\n",
    "\n",
    "*Python* allows you to assign names (also known as variables) to almost any value or object and use the variables in place of the value or oblject. Keep in mind that *Python* is case-sensitive, meaning that the names `a` and `A` are not the same. Variable names must start with a letter (or underscore) and can also contain numbers and underscores, but spaces and other special characters are not allowed. There are a number of restricted *Python* names that cannot be used as variable names. In addition to the restricted names, it is a good idea to not to use built-in functions or commands as variable names. For example, don't use `abs = 100` or `math.pi = 3`. Doing so will overwrite the functions `abs()` with the value `100` and `math.pi` with the value `3`. Using `del abs` and `del math.pi` will reset these back to normal if this happens. It is a good idea to use descriptive variables to make your code easier to understand. The following examples are of valid variable assignments.\n",
    "\n",
    "```python\n",
    "x = 42\n",
    "radius = 10\n",
    "name = \"Darth Vader\"\n",
    "total_time = 30\n",
    "```\n",
    "\n"
   ]
  },
  {
   "cell_type": "markdown",
   "metadata": {
    "deletable": false,
    "editable": false,
    "run_control": {
     "frozen": true
    }
   },
   "source": [
    ">Execute the following code cell to display a list of the reserved (or restricted) names."
   ]
  },
  {
   "cell_type": "code",
   "execution_count": null,
   "metadata": {
    "deletable": false,
    "editable": false,
    "jupyter": {
     "outputs_hidden": false
    },
    "scrolled": true
   },
   "outputs": [],
   "source": [
    "import keyword\n",
    "print(keyword.kwlist)"
   ]
  },
  {
   "cell_type": "markdown",
   "metadata": {
    "deletable": false,
    "editable": false,
    "run_control": {
     "frozen": true
    }
   },
   "source": [
    "You will notice that *Python* does not display any results when a value or calculation is assigned to a name. You need to use the `print()` function in order to display the results. \n",
    "\n",
    ">**Practice it: Printing Results**\n",
    ">\n",
    ">Type and execute each of the following lines of code into the cells provided (one statement per code block). Add a `print()` function in the cell following any calculation that does not display results. However, do not add a `print()` command when a value is merely being assigned to a variable name.\n",
    ">\n",
    ">```python\n",
    "a = 12\n",
    "B = 4\n",
    "C = (a - B) + 40 - a/B*10\n",
    ">```"
   ]
  },
  {
   "cell_type": "code",
   "execution_count": null,
   "metadata": {
    "jupyter": {
     "outputs_hidden": false
    },
    "scrolled": true
   },
   "outputs": [],
   "source": []
  },
  {
   "cell_type": "code",
   "execution_count": null,
   "metadata": {
    "jupyter": {
     "outputs_hidden": false
    },
    "scrolled": true
   },
   "outputs": [],
   "source": []
  },
  {
   "cell_type": "code",
   "execution_count": null,
   "metadata": {
    "jupyter": {
     "outputs_hidden": false
    },
    "scrolled": true
   },
   "outputs": [],
   "source": []
  },
  {
   "cell_type": "code",
   "execution_count": null,
   "metadata": {
    "jupyter": {
     "outputs_hidden": false
    },
    "scrolled": true
   },
   "outputs": [],
   "source": []
  },
  {
   "cell_type": "markdown",
   "metadata": {
    "deletable": false,
    "editable": false,
    "run_control": {
     "frozen": true
    }
   },
   "source": [
    ">```python\n",
    "ABB = 72\n",
    "abb = 9\n",
    "ABB/abb\n",
    ">```"
   ]
  },
  {
   "cell_type": "code",
   "execution_count": null,
   "metadata": {
    "jupyter": {
     "outputs_hidden": false
    },
    "scrolled": true
   },
   "outputs": [],
   "source": []
  },
  {
   "cell_type": "code",
   "execution_count": null,
   "metadata": {
    "jupyter": {
     "outputs_hidden": false
    },
    "scrolled": true
   },
   "outputs": [],
   "source": []
  },
  {
   "cell_type": "code",
   "execution_count": null,
   "metadata": {
    "jupyter": {
     "outputs_hidden": false
    },
    "scrolled": true
   },
   "outputs": [],
   "source": []
  },
  {
   "cell_type": "markdown",
   "metadata": {
    "deletable": false,
    "editable": false,
    "run_control": {
     "frozen": true
    }
   },
   "source": [
    ">```python\n",
    "x = 0.75\n",
    "E = math.sin(x)**2 + math.cos(x)**2\n",
    ">```"
   ]
  },
  {
   "cell_type": "code",
   "execution_count": null,
   "metadata": {
    "jupyter": {
     "outputs_hidden": false
    },
    "scrolled": true
   },
   "outputs": [],
   "source": []
  },
  {
   "cell_type": "code",
   "execution_count": null,
   "metadata": {
    "jupyter": {
     "outputs_hidden": false
    },
    "scrolled": true
   },
   "outputs": [],
   "source": []
  },
  {
   "cell_type": "code",
   "execution_count": null,
   "metadata": {
    "jupyter": {
     "outputs_hidden": false
    },
    "scrolled": true
   },
   "outputs": [],
   "source": []
  },
  {
   "cell_type": "markdown",
   "metadata": {
    "deletable": false,
    "editable": false,
    "run_control": {
     "frozen": true
    }
   },
   "source": [
    "## Other Special Commands\n",
    "\n",
    "When working with *Python* in a *Jupyter* notebook or from a command line (REPL) interface, you can access the last calculated result that is not assigned to a name using the underscore `_` character. This should not be done in a script or a function, but for quick calulations it can be helpful. It acts like the \"ans\" key on your calculator.\n",
    "\n",
    "When using *Jupyter* or *iPython* there are some *magic* commands that are not available elsewhere. One of these magic commands is `who`. It returns a list of all current names and modules in memory. The built-in command `dir()` does the same thing but also includes a lot of extraneous information, making `who` cleaner to use when using a *Jupyter* notebook. The magic command `whos` is similar to `who` except that it also includes information on types and values associated with variable names."
   ]
  },
  {
   "cell_type": "markdown",
   "metadata": {
    "deletable": false,
    "editable": false,
    "run_control": {
     "frozen": true
    }
   },
   "source": [
    ">**Practice it**\n",
    ">\n",
    ">Issue each of the following commands in separate code cells.\n",
    ">\n",
    ">```python\n",
    "2*3\n",
    "_ + 10\n",
    "who\n",
    ">```"
   ]
  },
  {
   "cell_type": "code",
   "execution_count": null,
   "metadata": {
    "jupyter": {
     "outputs_hidden": false
    },
    "scrolled": true
   },
   "outputs": [],
   "source": []
  },
  {
   "cell_type": "code",
   "execution_count": null,
   "metadata": {
    "jupyter": {
     "outputs_hidden": false
    },
    "scrolled": true
   },
   "outputs": [],
   "source": []
  },
  {
   "cell_type": "code",
   "execution_count": null,
   "metadata": {
    "jupyter": {
     "outputs_hidden": false
    },
    "scrolled": true
   },
   "outputs": [],
   "source": []
  },
  {
   "cell_type": "markdown",
   "metadata": {
    "deletable": false,
    "editable": false,
    "run_control": {
     "frozen": true
    }
   },
   "source": [
    ">```python\n",
    "del a\n",
    "who\n",
    "whos\n",
    ">```"
   ]
  },
  {
   "cell_type": "code",
   "execution_count": null,
   "metadata": {
    "jupyter": {
     "outputs_hidden": false
    },
    "scrolled": true
   },
   "outputs": [],
   "source": []
  },
  {
   "cell_type": "code",
   "execution_count": null,
   "metadata": {
    "jupyter": {
     "outputs_hidden": false
    },
    "scrolled": true
   },
   "outputs": [],
   "source": []
  },
  {
   "cell_type": "code",
   "execution_count": null,
   "metadata": {
    "jupyter": {
     "outputs_hidden": false
    },
    "scrolled": true
   },
   "outputs": [],
   "source": []
  },
  {
   "cell_type": "markdown",
   "metadata": {
    "deletable": false,
    "editable": false,
    "run_control": {
     "frozen": true
    }
   },
   "source": [
    ">**Wrap it up**\n",
    ">\n",
    ">Assign your name to a variable called `name` in the cell below this one and execute the cell. Your name must be placed between either single or double quotes like so; `name = 'brian brady'`. Make sure to use **your name**, *not mine*. Then execute the time stamp code cell below.\n",
    ">\n",
    ">Click on the **Save** button and then **Close and halt** from the **File** menu when you are done. **This is an instructor-led assignment that must be completed before the end of the lab session in order to receive credit.**"
   ]
  },
  {
   "cell_type": "code",
   "execution_count": null,
   "metadata": {
    "jupyter": {
     "outputs_hidden": false
    },
    "scrolled": true
   },
   "outputs": [],
   "source": []
  },
  {
   "cell_type": "code",
   "execution_count": null,
   "metadata": {
    "deletable": false,
    "editable": false,
    "jupyter": {
     "outputs_hidden": false
    },
    "scrolled": true
   },
   "outputs": [],
   "source": [
    "from datetime import datetime\n",
    "from pytz import timezone\n",
    "print(datetime.now(timezone('US/Eastern')))"
   ]
  }
 ],
 "metadata": {
  "kernelspec": {
   "display_name": "Python 3",
   "language": "python",
   "name": "python3"
  },
  "language_info": {
   "codemirror_mode": {
    "name": "ipython",
    "version": 3
   },
   "file_extension": ".py",
   "mimetype": "text/x-python",
   "name": "python",
   "nbconvert_exporter": "python",
   "pygments_lexer": "ipython3",
   "version": "3.7.4"
  },
  "varInspector": {
   "cols": {
    "lenName": 16,
    "lenType": 16,
    "lenVar": 40
   },
   "kernels_config": {
    "python": {
     "delete_cmd_postfix": "",
     "delete_cmd_prefix": "del ",
     "library": "var_list.py",
     "varRefreshCmd": "print(var_dic_list())"
    },
    "r": {
     "delete_cmd_postfix": ") ",
     "delete_cmd_prefix": "rm(",
     "library": "var_list.r",
     "varRefreshCmd": "cat(var_dic_list()) "
    }
   },
   "types_to_exclude": [
    "module",
    "function",
    "builtin_function_or_method",
    "instance",
    "_Feature"
   ],
   "window_display": false
  }
 },
 "nbformat": 4,
 "nbformat_minor": 1
}
