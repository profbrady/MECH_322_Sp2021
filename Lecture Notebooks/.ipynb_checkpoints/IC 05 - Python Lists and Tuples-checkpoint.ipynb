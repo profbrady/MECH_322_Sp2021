{
 "cells": [
  {
   "cell_type": "markdown",
   "metadata": {
    "deletable": false,
    "editable": false,
    "run_control": {
     "frozen": true
    }
   },
   "source": [
    "# IC 5 - Python Lists and Tuples\n",
    "___"
   ]
  },
  {
   "cell_type": "code",
   "execution_count": null,
   "metadata": {},
   "outputs": [],
   "source": [
    "name = \"Your name here\"\n",
    "print(\"Name:\", name.upper())"
   ]
  },
  {
   "cell_type": "markdown",
   "metadata": {
    "deletable": false,
    "editable": false,
    "run_control": {
     "frozen": true
    }
   },
   "source": [
    "## Purpose\n",
    "\n",
    "- Create lists\n",
    "- Create tuples\n",
    "- Access individual characters in strings and tuples\n",
    "- List and tuple slicing\n",
    "- Learn about list methods\n",
    "- Use select list methods\n",
    "\n",
    "## Instructions\n",
    "\n",
    "1. Replace \"Your name here\" in the cell below the assignment title with your first and last names and then execute the cell using \"Shift-Enter\"\n",
    "2. Execute the time stamp cell \n",
    "3. Follow along with the instructor in class as we use *Python* to work with lists of values and tuples\n",
    "4. Execute the date stamp cell at the end of the document and submitting your saved `.ipynb` file to *Canvas* for credit"
   ]
  },
  {
   "cell_type": "code",
   "execution_count": null,
   "metadata": {
    "deletable": false,
    "editable": false
   },
   "outputs": [],
   "source": [
    "from datetime import datetime\n",
    "from pytz import timezone\n",
    "print(datetime.now(timezone('US/Eastern')))"
   ]
  },
  {
   "cell_type": "markdown",
   "metadata": {
    "deletable": false,
    "editable": false,
    "run_control": {
     "frozen": true
    }
   },
   "source": [
    "## Creating Lists\n",
    "\n",
    "*Python* has a number of data types that are used to hold multiple objects. Each type stores and accesses the objects it contains in different ways and for different reasons. Two of these types are **lists** and **tuples**.\n",
    "\n",
    "Lists can be used to store different object types, such as integers, floats, and strings; all in the same data structure. They can even include lists and other data types as well, allowing you to create a lists of lists if desired. Lists are defined by surrounding the objects with square brackets `[]` and separating the objects with commas. For example, `[1, 2, 3, 4.5, \"knights\", [5, 6, 7]]` is a valid list definition. Most of the time lists will contain either just numeric values or strings for our purposes, not a mix of both.\n",
    "\n",
    "Empty lists are created by using an empty set of square brackets, i.e. `empty_list = []`. You can also create an empty list using the `list()` function, like so `empty_list = list()`. These will come in handy at times, so it is good information to know."
   ]
  },
  {
   "cell_type": "markdown",
   "metadata": {
    "deletable": false,
    "editable": false,
    "run_control": {
     "frozen": true
    }
   },
   "source": [
    ">**Practice it**\n",
    ">\n",
    ">Try it for yourself in the following code cell. Create a list of 10 items that has a mix of object types; including integers, floats, and strings."
   ]
  },
  {
   "cell_type": "code",
   "execution_count": null,
   "metadata": {},
   "outputs": [],
   "source": []
  },
  {
   "cell_type": "markdown",
   "metadata": {
    "deletable": false,
    "editable": false,
    "run_control": {
     "frozen": true
    }
   },
   "source": [
    "## Creating Tuples\n",
    "\n",
    "**Tuples** are constructed similarly to lists. Instead of using square brackets, parentheses are used; for example `my_tuple = (1, 2, 3)`. Tuples can contain the same mix of data types as lists do.  Sometimes you can also create a tuple without using the parentheses, but using parentheses is preferred for clarity. We have already used tuples when we created functions that return more than one value. For our purposes, that is about all they will be used for. They will also pop up again when creating $(x, y)$ and $(x, y, z)$ vectors. Lists and some other data types can be turned into tuples using the `tuple()` function. One curious thing about tuples is that you can create them with only one item by simply placing a single comma after the item, i.e. `my_tuple = (4,)`."
   ]
  },
  {
   "cell_type": "markdown",
   "metadata": {
    "deletable": false,
    "editable": false,
    "run_control": {
     "frozen": true
    }
   },
   "source": [
    ">**Practice it**\n",
    ">\n",
    ">Try it for yourself in the following code cell. Create a tuple of 5 items that has a mix of object types; including integers, floats, and strings."
   ]
  },
  {
   "cell_type": "code",
   "execution_count": null,
   "metadata": {},
   "outputs": [],
   "source": []
  },
  {
   "cell_type": "markdown",
   "metadata": {
    "deletable": false,
    "editable": false,
    "run_control": {
     "frozen": true
    }
   },
   "source": [
    "## The `range()` and `list()` Functions\n",
    "\n",
    "Quite often we will need a list of evenly spaced integers in scripts or functions. We could do it manually by typing the numbers into a list. However, the *Pythonic* approach is to use a function that is specifically designed for this purpose; `range()`. The `range()` function accepts up to three integer arguments and creates what is referred to as an iterable sequence (related to a list). If only one argument is used, i.e. `range(x)`, *Python* creates an iterable sequence that includes all integers from `0` up to `x-1`. For example, `range(10)` creates an iterable of all integers from 0 to 9, inclusive. It is easy to turn an iterable into a list (if needed) using the `list()` function. For example, `list(range(10))` creates the list `[0, 1, 2, 3, 4, 5, 6, 7, 8, 9]`."
   ]
  },
  {
   "cell_type": "markdown",
   "metadata": {
    "deletable": false,
    "editable": false,
    "run_control": {
     "frozen": true
    }
   },
   "source": [
    ">**Practice it**\n",
    ">\n",
    ">- Print `range(8)`\n",
    ">- Print `range(8)` after converting it to a list"
   ]
  },
  {
   "cell_type": "code",
   "execution_count": null,
   "metadata": {},
   "outputs": [],
   "source": []
  },
  {
   "cell_type": "code",
   "execution_count": null,
   "metadata": {},
   "outputs": [],
   "source": []
  },
  {
   "cell_type": "markdown",
   "metadata": {
    "deletable": false,
    "editable": false,
    "run_control": {
     "frozen": true
    }
   },
   "source": [
    "If two arguments are passed to the `range()` function, the first argument is the starting value and the second is the desired ending value plus one. This means that the first value in the iterable created using `range(5, 10)` is `5` and the last value is `10 - 1`, or `9`. The step size for this iterable is still `1`, so all integers from 5 to 9 will be included in this range.\n",
    "\n",
    "When three arguments are passed, the first is the starting value, the second is the ending value plus one, and the third sets the step size. For example, `range(0,10,2)` creates an iterable with the values `0, 2, 4, 6, 8`. Keep in mind that the ending value is never part of the resulting range. The range starts with the first value and goes up to but does not include the ending value using the provided step size. In mathematics this type of range is called a \"half-open\" range and is written as $(\\text{start},\\text{end}]$. The opening parenthesis means that the start value is included in the range and the closing square bracket means that the end value is not included.\n",
    "\n",
    "A good use of the `range()` function will be to set the number of times to perform a looping operation (we will get to this soon)."
   ]
  },
  {
   "cell_type": "markdown",
   "metadata": {
    "deletable": false,
    "editable": false,
    "run_control": {
     "frozen": true
    }
   },
   "source": [
    ">**Practice it**\n",
    ">\n",
    ">In the provided code cells use `range()` together with `list()` to create the following lists\n",
    ">1. All integers from $0$ to $6$, including $6$\n",
    ">1. All integers from $10$ to $3$ inclusive, starting with $10$ (think of the step size)\n",
    ">1. Every third integer from $1$ to $21$, including $21$"
   ]
  },
  {
   "cell_type": "code",
   "execution_count": null,
   "metadata": {},
   "outputs": [],
   "source": []
  },
  {
   "cell_type": "code",
   "execution_count": null,
   "metadata": {},
   "outputs": [],
   "source": []
  },
  {
   "cell_type": "code",
   "execution_count": null,
   "metadata": {},
   "outputs": [],
   "source": []
  },
  {
   "cell_type": "markdown",
   "metadata": {
    "deletable": false,
    "editable": false,
    "run_control": {
     "frozen": true
    }
   },
   "source": [
    "## List Functions\n",
    "\n",
    "You can find out how many objects are in a list by using the `len()` function the same as you can for strings. For example, `len([0, 1, 2, 3, 4])` will tell you that the list has 5 objects. The list `[0, 1, 2, 3, [4, 5, 6]]` also has 5 objects because the list inside the list is counted as a single object. The functions `sum()`, `max()`, and `min()` can be used with lists that only contain numeric values (integers or floats). The purposes of these functions should be self-explanatory based upon their names.\n",
    "\n",
    "A function that we will not use much is `del()`. This function is used to completely delete a list, so be careful if you decide to use it."
   ]
  },
  {
   "cell_type": "markdown",
   "metadata": {
    "deletable": false,
    "editable": false,
    "run_control": {
     "frozen": true
    }
   },
   "source": [
    ">**Practice it**\n",
    ">\n",
    ">- In the first code cell manually create a numeric list called `number_list` that contains a mix of integers and floats and has more than 10 values\n",
    ">- In the remaining cells use functions to find...\n",
    ">    - the number of values in the list\n",
    ">    - the sum of all the items in the list\n",
    ">    - the maximum value in the list\n",
    ">    - the minimum value in the list"
   ]
  },
  {
   "cell_type": "code",
   "execution_count": null,
   "metadata": {},
   "outputs": [],
   "source": [
    "# your list"
   ]
  },
  {
   "cell_type": "code",
   "execution_count": null,
   "metadata": {},
   "outputs": [],
   "source": [
    "# number of values in number_list"
   ]
  },
  {
   "cell_type": "code",
   "execution_count": null,
   "metadata": {},
   "outputs": [],
   "source": [
    "# sum of the values in number_list"
   ]
  },
  {
   "cell_type": "code",
   "execution_count": null,
   "metadata": {},
   "outputs": [],
   "source": [
    "# maximum value in number_list"
   ]
  },
  {
   "cell_type": "code",
   "execution_count": null,
   "metadata": {},
   "outputs": [],
   "source": [
    "# minimum value in number_list"
   ]
  },
  {
   "cell_type": "markdown",
   "metadata": {
    "deletable": false,
    "editable": false,
    "run_control": {
     "frozen": true
    }
   },
   "source": [
    "## Accessing List Items\n",
    "\n",
    "**List indexing** works the same as string indexing. They are zero indexed and square brackets are used to specify the index value. The expression `my_list[3]` returns the object in the 3rd index position (4th item). A `[-1]` index accesses the last object in the list. The diagram below is a refresher on index numbering.\n",
    "\n",
    "```\n",
    "| 0 | 1 | 2 | 3 | 4 | 5 | 6 | <-- Indexing from the left; my_list[3] = 5\n",
    "|===|===|===|===|===|===|===|\n",
    "| 8 | 6 | 7 | 5 | 3 | 0 | 9 | <-- my_list\n",
    "|===|===|===|===|===|===|===|\n",
    "|-7 |-6 |-5 |-4 |-3 |-2 |-1 | <-- Indexing from the right; my_list[-3] = 3\n",
    "```\n",
    "\n",
    "**List slicing** also works just like slicing of strings. For example, `my_list[0:3]`, `my_list[:3]`, and `my_list[0:3:1]` slice the list starting with the 0th index and ending just before the 3rd index, yielding the list `[8, 6, 7]`. It might be easier to think of list slicing numbering the gaps between the objects starting to the left of the first object. The diagram below illustrates how slice numbering works when using the gaps between objects.\n",
    "\n",
    "```\n",
    " 0   1   2   3   4   5   6   7 <-- Slicing from the left; my_list[1:4] = [6, 7, 5]\n",
    " |===|===|===|===|===|===|===|\n",
    " | 8 | 6 | 7 | 5 | 3 | 0 | 9 | <-- my_list\n",
    " |===|===|===|===|===|===|===|\n",
    "-7  -6  -5  -4  -3  -2  -1   | <-- Slicing from the right with positive step; my_list[-5:-2] = [7, 5, 3]\n",
    " |   |   |   |   |   |   |   |\n",
    "-8  -7  -6  -5  -4  -3  -2  -1 <-- Slicing from the right with negative step; my_list[-3:-7:-1] = [3, 5, 7, 6]\n",
    "```\n",
    "Tuples are indexed and sliced exactly the same as lists."
   ]
  },
  {
   "cell_type": "markdown",
   "metadata": {
    "deletable": false,
    "editable": false,
    "run_control": {
     "frozen": true
    }
   },
   "source": [
    ">**Practice it**\n",
    ">\n",
    ">Use string indexing to access each of the following items your `number_list`\n",
    ">\n",
    ">1. 10th value (not 10th index)\n",
    ">1. Second to last value using negative indexing\n",
    ">1. 3rd to 7th values (which indexes are these?)\n",
    ">1. Last 4 values\n",
    ">1. Every other value\n",
    ">1. All of the values without using any numbers in your slice"
   ]
  },
  {
   "cell_type": "code",
   "execution_count": null,
   "metadata": {},
   "outputs": [],
   "source": [
    "# 10th value"
   ]
  },
  {
   "cell_type": "code",
   "execution_count": null,
   "metadata": {},
   "outputs": [],
   "source": [
    "# second to last value using negative indexing"
   ]
  },
  {
   "cell_type": "code",
   "execution_count": null,
   "metadata": {},
   "outputs": [],
   "source": [
    "# 3rd to 7th values"
   ]
  },
  {
   "cell_type": "code",
   "execution_count": null,
   "metadata": {},
   "outputs": [],
   "source": [
    "# last 4 values"
   ]
  },
  {
   "cell_type": "code",
   "execution_count": null,
   "metadata": {},
   "outputs": [],
   "source": [
    "# every other"
   ]
  },
  {
   "cell_type": "code",
   "execution_count": null,
   "metadata": {},
   "outputs": [],
   "source": [
    "# all values without any numbers in the slice"
   ]
  },
  {
   "cell_type": "markdown",
   "metadata": {
    "deletable": false,
    "editable": false,
    "run_control": {
     "frozen": true
    }
   },
   "source": [
    "## Changing List Items\n",
    "\n",
    "Lists in *Python* are considered to be **mutable** meaning that you can change (mutate) the contents of a list once it is created. In fact, the term mutable comes form the same root word as mutute. Changing the value of a single item in a list is quite easy; simply assign a new value to that index position using the same syntax that is used to access an item. For example, `my_list[4] = 12` will replace the value in the 4th index position of `my_list` with the value `12`. You can change multiple items using the list slicing syntax, i.e. `my_list[:5] = [9, 8, 7, 6, 5]` will replace the first $5$ values with the objects from the provided list."
   ]
  },
  {
   "cell_type": "markdown",
   "metadata": {
    "deletable": false,
    "editable": false,
    "run_control": {
     "frozen": true
    }
   },
   "source": [
    ">**Practice it**\n",
    ">\n",
    ">- Change the 7th index (8th value) of your `number_list` to $42$\n",
    ">- Replace the last $3$ values (using negative indexing) with `[8, 6, 7]`"
   ]
  },
  {
   "cell_type": "code",
   "execution_count": null,
   "metadata": {},
   "outputs": [],
   "source": []
  },
  {
   "cell_type": "code",
   "execution_count": null,
   "metadata": {},
   "outputs": [],
   "source": []
  },
  {
   "cell_type": "markdown",
   "metadata": {
    "deletable": false,
    "editable": false,
    "run_control": {
     "frozen": true
    }
   },
   "source": [
    "## List Methods\n",
    "\n",
    "*Python* has a number of methods that can act on or with lists. Execute the expression `print(dir(list))` in the following code cell to see a list of available string methods, functions, and operations. The methods are the items without leading and trailing underscores. Don't worry, we won't dig into all of these, just some of them. Specifically, we'll investigate methods related to modifiying lists and methods used for counting, searching, and changing the order of the objects in lists. Since lists are mutable, most of the methods change the original list instead of making a copy.\n",
    "\n",
    ">Execute the expression `print(dir(list))` in the following cell."
   ]
  },
  {
   "cell_type": "code",
   "execution_count": null,
   "metadata": {},
   "outputs": [],
   "source": []
  },
  {
   "cell_type": "markdown",
   "metadata": {
    "deletable": false,
    "editable": false,
    "run_control": {
     "frozen": true
    }
   },
   "source": [
    "### Methods for Adding and Removing List Objects\n",
    "\n",
    "Lets start with the methods that are used to add and remove objects from lists. Following is list of the methods we will look at.\n",
    "- `.append()`\n",
    "- `.extend()`\n",
    "- `.insert()`\n",
    "- `.clear()`\n",
    "- `.pop()`\n",
    "- `.remove()`\n",
    "\n",
    "The `.append()` method adds a single object to the end of list. For the list `my_list = [1, 2, 3, 4]`, `my_list.append(5)` would result in the list being changed to `[1, 2, 3, 4, 5]`. If you try to add a list using `.append([6, 7])` for example, the list will be appended as a single object, resulting in `[1, 2, 3, 4, 5, [6, 7]]`. This may not have been what you had hoped for. Instead, you may have wanted to use the `.extend()` method; which takes a list as an argument and extends the original list with the items from the argument list. For example, using the original `my_list` with `[1, 2, 3, 4]`, `my_list.extend([5, 6, 7])` results in the list `[1, 2, 3, 4, 5, 6, 7]`.\n",
    "\n",
    "*Python* also allows you to add objects at any other location in a list, not just the end. This is handled by the `.insert()` method. This method requires two arguments; the index position where the insertion takes place and the inserted object. The new object will be inserted before the index position given. Again, using `my_list = [1, 2, 3, 4]`, `my_list.insert(3,12)` will place the value `12` just before the value `4` which is located at the 3rd index position. This results in the list being changed to `[1, 2, 3, 12, 4]`.\n",
    "\n",
    "The `.clear()` method acts a bit like the the `del()` function, but instead of deleting the entire list, it deletes all of the items in the list; leaving behind an empty list. For example, `my_list.clear()` results in `my_list` being converted to an empty list `[]`, regardless of what was originally in the list.\n",
    "\n",
    "Both `.pop()` and `.remove()` are used to remove objects from lists. If the `.pop()` method is used without any arguments it will remove the last object from the list and return its value. If an argument is used, then that index position is removed and returned. An error is generated if the index position specified does not exist. The following code sample shows how `.pop()` works.\n",
    "\n",
    "```\n",
    ">>> my_list = [1, 2, 3, 4, 5]\n",
    ">>> a = my_list.pop()\n",
    ">>> a\n",
    "5\n",
    ">>> my_list\n",
    "[1, 2, 3, 4]\n",
    "```\n",
    "The `.remove()` method removes the first occurance of the value given as an argument. Using `my_list = [1, 2, 3, 4]`, `my_list.remove(2)` will remove the first `2` found in the list. This would result in the list `[1, 3, 4]`."
   ]
  },
  {
   "cell_type": "markdown",
   "metadata": {
    "deletable": false,
    "editable": false,
    "run_control": {
     "frozen": true
    }
   },
   "source": [
    ">**Practice it**\n",
    ">\n",
    ">1. In the first provided code cell create your own list named `listy_list` that consists of at least 10 numeric objects. \n",
    ">2. Use each of the following list modification methods (in the order given) on your list. After using each method, print the list (this code is already provided) in the same cell to see what it looks like after the modification.\n",
    ">\n",
    ">  - `.append()`\n",
    ">  - `.extend()`\n",
    ">  - `.insert()`\n",
    ">  - `.pop()`\n",
    ">  - `.remove()`\n",
    ">  - `.clear()`"
   ]
  },
  {
   "cell_type": "code",
   "execution_count": null,
   "metadata": {},
   "outputs": [],
   "source": [
    "listy_list =[]"
   ]
  },
  {
   "cell_type": "code",
   "execution_count": null,
   "metadata": {},
   "outputs": [],
   "source": [
    "# append\n",
    "print(listy_list)"
   ]
  },
  {
   "cell_type": "code",
   "execution_count": null,
   "metadata": {},
   "outputs": [],
   "source": [
    "# extend\n",
    "print(listy_list)"
   ]
  },
  {
   "cell_type": "code",
   "execution_count": null,
   "metadata": {},
   "outputs": [],
   "source": [
    "# insert\n",
    "print(listy_list)"
   ]
  },
  {
   "cell_type": "code",
   "execution_count": null,
   "metadata": {},
   "outputs": [],
   "source": [
    "# pop\n",
    "print(listy_list)"
   ]
  },
  {
   "cell_type": "code",
   "execution_count": null,
   "metadata": {},
   "outputs": [],
   "source": [
    "# remove\n",
    "print(listy_list)"
   ]
  },
  {
   "cell_type": "code",
   "execution_count": null,
   "metadata": {},
   "outputs": [],
   "source": [
    "# clear\n",
    "print(listy_list)"
   ]
  },
  {
   "cell_type": "markdown",
   "metadata": {
    "deletable": false,
    "editable": false,
    "run_control": {
     "frozen": true
    }
   },
   "source": [
    "### Methods for Counting, Searching, and Changing Order\n",
    "\n",
    "*Python* provides a number of list methods that are related to counting, searching, and changing the order of lists. The following list of methods will be introduced.\n",
    "- `.count()`\n",
    "- `.index()`\n",
    "- `.sort()`\n",
    "- `.reverse()`\n",
    "\n",
    "You can count the number of times that a specific object (value, string, etc.) appears in a list by using the `.count()` method. This method requires one argument, the object that you are counting. For example, using `my_list = [1, 2, 2, 3, 4]`, the command `my_list.count(2)` will return the value `2` but `my_list.count(8)` will return `0`.\n",
    "\n",
    "Finding an object in a list requires use of the `.index()` method. It will search for the object in the list and return the index position of the first occurance of the object. If the object is not found in the list, then an error will be generated. It might be better to use `.count()` first to ensure that the object is in the list or simply use the `in` comparison. If `my_list = [1, 2, 3, 4, 5]`, using the expression `7 in my_list` will return `False`.\n",
    "\n",
    "If the search object occurs more than once, only the position of the first occurrence is reported by the `.index()` method. However, this method also accepts optional starting and ending arguments. The command `my_list.index(3, 3, 5)` will return the index for the first location in `my_list` that `3` is found (if it is found) starting with the 3rd index position and ending just before the 5th index position.\n",
    "\n",
    "The `.sort()` method for lists will sort the list in ascending order by default. This works for both numeric and string values, but not a mix of both. Keep in mind that the sorted list replaces the original instead of making a copy. Adding the optional keyword argument `reverse=True` will sort the list in descending order instead, i.e. `my_list.sort(reverse=True)`. There is a related function called `sorted()` that creates a sorted copy of the list. This function will also accepts the `reverse=True` keyword argument.\n",
    "\n",
    "The `.reverse()` method will flip the order of a list, making the last item the first. This method replaces the original list with the modified list as well. Using the related `reversed()` function makes an iterator that is a reversed version of the orignal list. You need to use the `list()` function to convert the resulting iterator into an actual list if that is what you need."
   ]
  },
  {
   "cell_type": "markdown",
   "metadata": {
    "deletable": false,
    "editable": false,
    "run_control": {
     "frozen": true
    }
   },
   "source": [
    ">**Practice it**\n",
    ">\n",
    ">Using your `number_list` perform the following tasks and print the list (code provided) after each step\n",
    ">\n",
    ">1. Find the location of `42`\n",
    ">1. Count the number of times `8` appears\n",
    ">1. Check to see if `12` is in your list using the `in` statement\n",
    ">1. Reverse the order of the list\n",
    ">1. Sort the list in ascending order"
   ]
  },
  {
   "cell_type": "code",
   "execution_count": null,
   "metadata": {},
   "outputs": [],
   "source": [
    "# where is 42\n",
    "print(number_list)"
   ]
  },
  {
   "cell_type": "code",
   "execution_count": null,
   "metadata": {},
   "outputs": [],
   "source": [
    "# how many 8s\n",
    "print(number_list)"
   ]
  },
  {
   "cell_type": "code",
   "execution_count": null,
   "metadata": {},
   "outputs": [],
   "source": [
    "# is 12 in the list\n",
    "print(number_list)"
   ]
  },
  {
   "cell_type": "code",
   "execution_count": null,
   "metadata": {},
   "outputs": [],
   "source": [
    "# reverse the list order\n",
    "print(number_list)"
   ]
  },
  {
   "cell_type": "code",
   "execution_count": null,
   "metadata": {},
   "outputs": [],
   "source": [
    "# sort the list in ascending order\n",
    "print(number_list)"
   ]
  },
  {
   "cell_type": "markdown",
   "metadata": {
    "deletable": false,
    "editable": false,
    "run_control": {
     "frozen": true
    }
   },
   "source": [
    "## The `.zip()` Function and Making Tables from Lists\n",
    "\n",
    "Quite often you will have lists of values/data that you would like to display together in tabular form. If you just print a list, say `print([1, 2, 3, 4, 5])`, all of the values will be on the same line inside square brackets and separated by commas. If you try to print two related lists, i.e. `print([1, 2, 3, 4, 5],[6, 7, 8, 9, 10])`, you get basically the same thing except with two lists on the same line. The *Python* function `zip()` can be used to connect two or more lists together much like the teeth in a zipper. This function creates a special iterable object that can be converted to a standard list. In order to print one of these objects and see the values, it has to be converted to a list first.\n",
    "\n",
    ">Execute the following code cell to see how two lists are zipped together and printed."
   ]
  },
  {
   "cell_type": "code",
   "execution_count": null,
   "metadata": {},
   "outputs": [],
   "source": [
    "print(list(zip([1, 2, 3, 4, 5],[6, 7, 8, 9, 10])))"
   ]
  },
  {
   "cell_type": "markdown",
   "metadata": {},
   "source": [
    "These results are a little closer to what we may want, but still not exactly tabular. We would like each pair of values to show up on its own line. To do so, a  module named `tabulate` was created. Within this module is a function called `tabulate()` that needs to be passed into a `print()` function. The website https://bitbucket.org/astanin/python-tabulate gives a complete overview of the available options for this function. The following code cell shows an example that creates a fancy looking table with the values from the previous example.\n",
    "\n",
    "Some other choices for the `tablefmt=` option are `\"simple\"`, `\"grid\"`, and `\"plain\"`. You can also set the row alignment as `\"center\"` or `\"left\"` by adding the `numalign=` argument to the `tabulate` function. The argument `floatfmt=(\".1f\",\".2f\")` would show the first column with one-decimal place and the second with two if both contained floating point values. Any float formatting expression can be used with this argument. Execute the code cell and feel free to change and/or add arguments.\n",
    "\n",
    "There are other programmatic ways to create tables of data, but this is a very *Pythonic* way. The other methods require skills that we have not yet covered, plus more lines of code.\n",
    "\n",
    ">Execute the following two code cells to see how \"easily\" tables can be created using `tabulate()`."
   ]
  },
  {
   "cell_type": "code",
   "execution_count": null,
   "metadata": {
    "deletable": false,
    "editable": false
   },
   "outputs": [],
   "source": [
    "from tabulate import tabulate"
   ]
  },
  {
   "cell_type": "code",
   "execution_count": null,
   "metadata": {
    "deletable": false,
    "editable": false
   },
   "outputs": [],
   "source": [
    "zipped_values = zip([1, 2, 3, 4, 5],[6, 7, 8, 9, 10])\n",
    "headers = [\"col 1\", \"col 2\"]\n",
    "print(tabulate(zipped_values, headers, tablefmt=\"fancy_grid\"))"
   ]
  },
  {
   "cell_type": "markdown",
   "metadata": {
    "deletable": false,
    "editable": false,
    "run_control": {
     "frozen": true
    }
   },
   "source": [
    ">**Practice it**\n",
    ">\n",
    ">Create two lists named `list_a` and `list_b`. Use the `range()` function to create `list_a` with the values `0, 10, 20, 30, 40, 50, 60, 70, 80, 90, 100`. Fill `list_b` with ten random integers between 0 and 100 (refer to the following example).\n",
    ">\n",
    ">```python\n",
    "import random\n",
    "random.sample(range(101),10)\n",
    ">```\n",
    ">\n",
    ">Zip together the two lists and create a fancy table with the headings `tens` and `random`. Center the numbers in the table."
   ]
  },
  {
   "cell_type": "code",
   "execution_count": null,
   "metadata": {},
   "outputs": [],
   "source": [
    "import random"
   ]
  },
  {
   "cell_type": "code",
   "execution_count": null,
   "metadata": {},
   "outputs": [],
   "source": [
    "list_a = "
   ]
  },
  {
   "cell_type": "code",
   "execution_count": null,
   "metadata": {},
   "outputs": [],
   "source": [
    "list_b = "
   ]
  },
  {
   "cell_type": "code",
   "execution_count": null,
   "metadata": {},
   "outputs": [],
   "source": [
    "# zip together lists"
   ]
  },
  {
   "cell_type": "code",
   "execution_count": null,
   "metadata": {},
   "outputs": [],
   "source": [
    "# create a list of headers"
   ]
  },
  {
   "cell_type": "code",
   "execution_count": null,
   "metadata": {},
   "outputs": [],
   "source": [
    "# print the table"
   ]
  },
  {
   "cell_type": "markdown",
   "metadata": {
    "deletable": false,
    "editable": false,
    "run_control": {
     "frozen": true
    }
   },
   "source": [
    "## List Related String Methods\n",
    "\n",
    "We have seen that strings and lists have several features in common and share similar methods. The string method `.split()` can easily turn a sentence or phrase into a list of words. Without an argument, `.split()` will split the string at spaces. If an argument is used, it must be a string with a character in it. The string will be split at every location the character is found. \n",
    "\n",
    ">Execute the following code cell to see the results of splitting strings."
   ]
  },
  {
   "cell_type": "code",
   "execution_count": null,
   "metadata": {
    "deletable": false,
    "editable": false
   },
   "outputs": [],
   "source": [
    "my_string = \"Hello, my name is Inigo Montoya, you killed my father, prepare to die.\"\n",
    "my_string_list = my_string.split()\n",
    "print(my_string_list)\n",
    "another_string = \"1,2,3,4,5,6\"\n",
    "print(another_string.split(\",\"))"
   ]
  },
  {
   "cell_type": "markdown",
   "metadata": {},
   "source": [
    "The string method `.join()` is used to join together a list of strings to create a single string. The strange thing with this method is that the string the method acts upon is not one of the strings in the list; it is the string that you want to use to glue the strings together in the list. This is best explained with an example. Note that the string used in the following example is a space inside a set of quotes.\n",
    "\n",
    ">Execute the following code that uses `.join()` on a list."
   ]
  },
  {
   "cell_type": "code",
   "execution_count": null,
   "metadata": {
    "deletable": false,
    "editable": false
   },
   "outputs": [],
   "source": [
    "\" \".join(my_string_list)"
   ]
  },
  {
   "cell_type": "markdown",
   "metadata": {
    "deletable": false,
    "editable": false,
    "run_control": {
     "frozen": true
    }
   },
   "source": [
    ">**Practice it**\n",
    ">\n",
    ">- Assign the string `My name is Brian` to a variable called `name` in the first cell below this one and execute the cell.\n",
    ">- In the next cell, use the `.split()` method without any arguments on `name` and assign the result to `name_list`.\n",
    ">- Then overwrite the last item in `name_list` with your first name.\n",
    ">- Finally, use the `.join()` method as shown below to make the list a single string again and assign it back to `name`.\n",
    ">\n",
    ">```python\n",
    "    name = \" \".join(name_list)\n",
    ">```"
   ]
  },
  {
   "cell_type": "code",
   "execution_count": null,
   "metadata": {},
   "outputs": [],
   "source": []
  },
  {
   "cell_type": "code",
   "execution_count": null,
   "metadata": {},
   "outputs": [],
   "source": []
  },
  {
   "cell_type": "code",
   "execution_count": null,
   "metadata": {},
   "outputs": [],
   "source": []
  },
  {
   "cell_type": "code",
   "execution_count": null,
   "metadata": {},
   "outputs": [],
   "source": []
  },
  {
   "cell_type": "markdown",
   "metadata": {},
   "source": [
    ">**Wrap it up**\n",
    ">\n",
    ">Execute the code cell below to show the time and date you finished this assignment."
   ]
  },
  {
   "cell_type": "code",
   "execution_count": null,
   "metadata": {
    "deletable": false,
    "editable": false
   },
   "outputs": [],
   "source": [
    "from datetime import datetime\n",
    "from pytz import timezone\n",
    "print(datetime.now(timezone('US/Eastern')))"
   ]
  }
 ],
 "metadata": {
  "kernelspec": {
   "display_name": "Python 3",
   "language": "python",
   "name": "python3"
  },
  "language_info": {
   "codemirror_mode": {
    "name": "ipython",
    "version": 3
   },
   "file_extension": ".py",
   "mimetype": "text/x-python",
   "name": "python",
   "nbconvert_exporter": "python",
   "pygments_lexer": "ipython3",
   "version": "3.7.4"
  },
  "varInspector": {
   "cols": {
    "lenName": 16,
    "lenType": 16,
    "lenVar": 40
   },
   "kernels_config": {
    "python": {
     "delete_cmd_postfix": "",
     "delete_cmd_prefix": "del ",
     "library": "var_list.py",
     "varRefreshCmd": "print(var_dic_list())"
    },
    "r": {
     "delete_cmd_postfix": ") ",
     "delete_cmd_prefix": "rm(",
     "library": "var_list.r",
     "varRefreshCmd": "cat(var_dic_list()) "
    }
   },
   "types_to_exclude": [
    "module",
    "function",
    "builtin_function_or_method",
    "instance",
    "_Feature"
   ],
   "window_display": false
  }
 },
 "nbformat": 4,
 "nbformat_minor": 1
}
