{
 "cells": [
  {
   "cell_type": "markdown",
   "metadata": {
    "deletable": false,
    "editable": false,
    "run_control": {
     "frozen": true
    }
   },
   "source": [
    "# Lecture 8 - Python Intro to Plotting\n",
    "___"
   ]
  },
  {
   "cell_type": "code",
   "execution_count": null,
   "metadata": {},
   "outputs": [],
   "source": [
    "name = \"Your name here\"\n",
    "print(\"Name:\", name.upper())"
   ]
  },
  {
   "cell_type": "markdown",
   "metadata": {
    "deletable": false,
    "editable": false,
    "run_control": {
     "frozen": true
    }
   },
   "source": [
    "## Purpose\n",
    "\n",
    "- Create lists of values to plot\n",
    "\n",
    "- Create simple $xy$-plots\n",
    "\n",
    "- Use a variety of plotting functions/methods from the *Matplotlib* library\n",
    "\n",
    "- Add titles and axis labels to plots\n",
    "\n",
    "- Change plot properties such as line color, line type, line width, and marker style\n",
    "\n",
    "- Create a plot with multiple lines/curves\n",
    "\n",
    "- Create multiple plots on the same page (side-by-side, vertically stacked, etc.)\n",
    "\n",
    "## Instructions\n",
    "\n",
    "1. Replace \"Your name here\" in the cell below the assignment title with your first and last names and then execute the cell using \"Shift-Enter\"\n",
    "2. Execute the time stamp cell \n",
    "3. Follow along with the instructor in class as we use *Python* and the *Matplotlib* library to create plots\n",
    "4. Execute the date stamp cell at the end of the document and submitting your saved `.ipynb` file to *Canvas* for credit"
   ]
  },
  {
   "cell_type": "code",
   "execution_count": null,
   "metadata": {
    "deletable": false,
    "editable": false
   },
   "outputs": [],
   "source": [
    "from datetime import datetime\n",
    "from pytz import timezone\n",
    "print(datetime.now(timezone('US/Eastern')))"
   ]
  },
  {
   "cell_type": "markdown",
   "metadata": {
    "deletable": false,
    "editable": false,
    "run_control": {
     "frozen": true
    }
   },
   "source": [
    "## Background:\n",
    "\n",
    "Plots are very helpful for presenting the results of engineering calculations and plotting with *Python* and the *Matplotlib* library is quite easy and includes many powerful options. *Matplotlib* (https://matplotlib.org) is a plotting library that can create publication quality plots and includes the `pyplot` module  that was created for *Python* to make *MATLAB* type plots. Plotting commands can be used from the REPL (command line) or included in scripts and functions. In general, *Python* requires sequences of numeric  values (i.e. lists, tuples, ranges) to create plots. These sequences may be filled with data collected from an external source or created using mathematical expressions. The simplest plot can be created by defining two simple lists (i.e. $x$ and $y$ values) and issuing the following two commands:\n",
    "\n",
    "```python\n",
    "import matplotlib.pyplot as plt\n",
    "plt.plot(x, y)\n",
    "```"
   ]
  },
  {
   "cell_type": "markdown",
   "metadata": {
    "deletable": false,
    "editable": false,
    "run_control": {
     "frozen": true
    }
   },
   "source": [
    "*Matplotlib* then provides many possible ways to modify and add to the plot, including setting axes limits, adding a title and axes labels, turning on a grid, and adding text annotations. Line types, colors and widths, marker shapes and sizes, and legends can all be added and modified to suit your needs. Axes may be linear or log10 or a combination of the two. Error bars may also be added. Specialty plots such as polar plots, histograms, bar charts, pie charts, stairs plots, and stem plots can be created. Plots may be combined into the same plot window or multiple windows can be used to display the required information."
   ]
  },
  {
   "cell_type": "markdown",
   "metadata": {
    "deletable": false,
    "editable": false,
    "run_control": {
     "frozen": true
    }
   },
   "source": [
    "*Matplotlib* and its `pyplot` module offers two distinct approaches for creating plots. One, as shown in the above example, is referred to as the state-machine approach and is based on the commands used in *MATLAB* to create plots. The other, which we will be using, is the object-oriented approach and is considered the more *Pythonic* approach because it is more explicit. For many plotting tasks either approach will work, however some results can only be achieved by using the object-oriented approach. The object-oriented approach generally requires a bit more coding, but not a lot.\n",
    "\n",
    "The commands required to perform the same task as shown in the example code above using the object-oriented approach are shown below:\n",
    "\n",
    "```python\n",
    "import matplotlib.pyplot as plt\n",
    "fig, ax = plt.subplots()\n",
    "ax.plot(x, y)\n",
    "```"
   ]
  },
  {
   "cell_type": "markdown",
   "metadata": {
    "deletable": false,
    "editable": false,
    "run_control": {
     "frozen": true
    }
   },
   "source": [
    "## Importing *Matplotlib*\n",
    "\n",
    "The ability to create plots is not built into the *Python* standard library but is instead provided by means of the external *Matplotlib* library. Specifically, we will use the `pyplot` module from the *Matplotlib* library. We must first import the module before issuing any plotting commands. In fact, we should always import required modules at the beginning of any script or function.\n",
    "\n",
    ">Execute the following code cell to import the `math` module and the `matplotlib.pyplot` module for use in the rest of this document. Notice that we are using the `plt` shortcut (alias) for the name of the `matplotlib.pyplot` module."
   ]
  },
  {
   "cell_type": "code",
   "execution_count": null,
   "metadata": {},
   "outputs": [],
   "source": [
    "import math\n",
    "import matplotlib.pyplot as plt"
   ]
  },
  {
   "cell_type": "markdown",
   "metadata": {
    "deletable": false,
    "editable": false,
    "run_control": {
     "frozen": true
    }
   },
   "source": [
    "The above import for *Matplotlib* could also have been: \n",
    "```python\n",
    "from matplotlib import pyplot as plt\n",
    "```"
   ]
  },
  {
   "cell_type": "markdown",
   "metadata": {
    "deletable": false,
    "editable": false,
    "run_control": {
     "frozen": true
    }
   },
   "source": [
    "The figure below comes from the *Matplotlib* website and illustrates the many different parts of a plot figure. Notice that the plot itself is referred to as an **Axes** and it is located within a **Figure**. This is important to us because the object-oriented approach for creating plots gives us fine control over both the figure and the axes (plots) that are added to it.\n",
    "\n",
    "![anatomy1.png](anatomy1.png)"
   ]
  },
  {
   "cell_type": "markdown",
   "metadata": {
    "deletable": false,
    "editable": false,
    "run_control": {
     "frozen": true
    }
   },
   "source": [
    "## Basic Plotting\n",
    "\n",
    "One of the simplest plots that we can make is an $x,y$ plot using manually created lists of values for $x$ and $y$. We can create such a plot using `plt.plot(x, y)` (if we want to use the state-machine approach) now that we have imported the `pyplot` module as `plt`. We will, however, use the object-oriented approach and need to create a figure first and then populate the figure with axes on which plotting may be performed. Any of the following sets of commands could be used to plot an $x,y$ pair with the same results.\n",
    "\n",
    "**Example 1**\n",
    "```python\n",
    "fig = plt.figure()\n",
    "ax = fig.add_axes([0, 0, 1, 1])\n",
    "ax.plot(x, y)\n",
    "```\n",
    "\n",
    "**Example 2**\n",
    "```python\n",
    "fig = plt.figure()\n",
    "ax = fig.add_subplot(111)\n",
    "ax.plot(x, y)\n",
    "```\n",
    "\n",
    "**Example 3**\n",
    "```python\n",
    "fig, ax = plt.subplots()\n",
    "ax.plot(x, y)\n",
    "```"
   ]
  },
  {
   "cell_type": "markdown",
   "metadata": {
    "deletable": false,
    "editable": false,
    "run_control": {
     "frozen": true
    }
   },
   "source": [
    "**Example 1** creates a blank figure named `fig`, adds an axes object named `ax` to the figure, and finally plots the values to `ax`. The axes object fills the figure starting at $x,y = (0,0)$ and ending at $x,y = (1,1)$ as set by the `[0, 0, 1, 1]` argument. A value of 1 in this argument means 100%.\n",
    "\n",
    "**Example 2** also creates a blank figure, but then adds a subplot object named `ax` and plots to the values to `ax`. Subplot objects allow multiple plots to be arranged such that they are next to each other, above/below each other, or in a grid. The command `ax = fig.add_subplot(111)` creates a subplot group that is 1 plot high (1 row) by 1 plot wide (1 column) in which the current plot (axes) is number 1 and assigns it the name `ax`.\n",
    "\n",
    "**Example 3** creates a figure object named `fig` that is pre-filled with an axes named `ax` and then plots the values to `ax`. Here the command `fig, ax = plt.subplots` creates a figure named `fig` that is populated with a default subplot object that has one row and one column. The subplot object is assigned to the name `ax`."
   ]
  },
  {
   "cell_type": "markdown",
   "metadata": {
    "deletable": false,
    "editable": false,
    "run_control": {
     "frozen": true
    }
   },
   "source": [
    "Keep in mind that the variable names used in the `plot()` command do not need to be `x` and `y`, but they both must be sequences of the same size and the first variable in the plot command will be used to generate the $x$-values for each of the plotted points and the second variable will be used to generate the $y$-values for each point.\n",
    "\n",
    "It is also possible to just use `plot(x)` or `plot(y)` and create a plot. However, the variable used as the argument in the `plot()` command will correspond to the $y$-values of the plotted points and the $x$-value of the points will come from the index positions of the $y$-values in the list."
   ]
  },
  {
   "cell_type": "markdown",
   "metadata": {
    "deletable": false,
    "editable": false,
    "run_control": {
     "frozen": true
    }
   },
   "source": [
    ">**Practice it**\n",
    ">\n",
    ">Execute the following code cells to generate (nearly) identical $x,y$-plots using lists `x` and `y` based on the three examples shown above."
   ]
  },
  {
   "cell_type": "code",
   "execution_count": null,
   "metadata": {},
   "outputs": [],
   "source": [
    "x = [1, 2, 3, 5, 7, 7.5, 8, 10]\n",
    "y = [2, 6.5, 7, 7, 5.5, 4, 6, 8]"
   ]
  },
  {
   "cell_type": "code",
   "execution_count": null,
   "metadata": {},
   "outputs": [],
   "source": [
    "fig = plt.figure()\n",
    "ax = fig.add_axes([0, 0, 1, 1])\n",
    "ax.plot(x, y)"
   ]
  },
  {
   "cell_type": "code",
   "execution_count": null,
   "metadata": {},
   "outputs": [],
   "source": [
    "fig = plt.figure()\n",
    "ax = fig.add_subplot(111)\n",
    "ax.plot(x, y)"
   ]
  },
  {
   "cell_type": "code",
   "execution_count": null,
   "metadata": {},
   "outputs": [],
   "source": [
    "fig, ax = plt.subplots()\n",
    "ax.plot(x, y)"
   ]
  },
  {
   "cell_type": "markdown",
   "metadata": {
    "deletable": false,
    "editable": false
   },
   "source": [
    "<div class=exercise>\n",
    "\n",
    "##### Practice it\n",
    "\n",
    "Execute the following three code cells to see what happens when only `x` or `y` is used in the plotting command (the last example is using a subplot that is 1 row by 2 columns in order to place the plots next to each other).\n",
    "</div>"
   ]
  },
  {
   "cell_type": "code",
   "execution_count": null,
   "metadata": {},
   "outputs": [],
   "source": [
    "fig, ax = plt.subplots()\n",
    "ax.plot(x)"
   ]
  },
  {
   "cell_type": "code",
   "execution_count": null,
   "metadata": {},
   "outputs": [],
   "source": [
    "fig, ax = plt.subplots()\n",
    "ax.plot(y)"
   ]
  },
  {
   "cell_type": "code",
   "execution_count": null,
   "metadata": {},
   "outputs": [],
   "source": [
    "fig, (ax1, ax2) = plt.subplots(1, 2)\n",
    "ax1.plot(x)\n",
    "ax2.plot(y)"
   ]
  },
  {
   "cell_type": "markdown",
   "metadata": {
    "deletable": false,
    "editable": false,
    "run_control": {
     "frozen": true
    }
   },
   "source": [
    "The size of a figure can be defined using the keyword arguments `figsize=(x,y)` (where `x,y` are the size in inches) and `dpi=xxx` (where `xxx` is the pixel density in dots per inch) in the `.subplots()` method. The *Jupyter* notebook will likely not make a plot that exactly matches the size due to differences in computers and browsers.\n",
    "\n",
    ">**Practice it**\n",
    ">\n",
    ">Edit then run the following code cell with the `plt.subplots()` arguments for `figsize` and `dpi` set to `(4,3)` and `150` to see the affects on the plot."
   ]
  },
  {
   "cell_type": "code",
   "execution_count": null,
   "metadata": {},
   "outputs": [],
   "source": [
    "fig, ax = plt.subplots()  # add figsize and dpi arguments\n",
    "ax.plot(x, y)"
   ]
  },
  {
   "cell_type": "markdown",
   "metadata": {
    "deletable": false,
    "editable": false
   },
   "source": [
    "## Creating Non-Integer Ranges for Plotting"
   ]
  },
  {
   "cell_type": "markdown",
   "metadata": {
    "deletable": false,
    "editable": false,
    "run_control": {
     "frozen": true
    }
   },
   "source": [
    "The following expression can be used to create a list of equally spaced values between upper and lower limits:\n",
    "\n",
    "$\\displaystyle x_i = (x_{upper}-x_{lower})\\frac{i}{(n-1)} + x_{lower}$\n",
    "\n",
    "where $i$ is the index position of a zero indexed list, $x_{lower}$ and $x_{upper}$ are the desired lower and upper limits, and $n$ is the desired number of values in the list.\n",
    "\n",
    ">**Practice it**\n",
    ">\n",
    ">Define a function called `frange(lower, upper, n=100)` (short for floating point range) that uses the above expression to create and return a list with `n` values with a lower limit of `lower` and an upper limit of `upper`. Use list comprehension to create the list within the function. Test the function by creating a list named `a` with limits of $-2$  and $4$ that has a $100$ values. Print `a` and use `len(a)` after creating it to make sure that your function returned the correct number of values. Make sure you use `n=100` as the last parameter (referred to as a keyword parameter) when defining the function. This will set a default value of $100$ for `n` and make the last argument optional when calling the function."
   ]
  },
  {
   "cell_type": "code",
   "execution_count": null,
   "metadata": {},
   "outputs": [],
   "source": [
    "# define and execute the function definition in this cell"
   ]
  },
  {
   "cell_type": "code",
   "execution_count": null,
   "metadata": {},
   "outputs": [],
   "source": [
    "# create 'a' in this cell"
   ]
  },
  {
   "cell_type": "code",
   "execution_count": null,
   "metadata": {},
   "outputs": [],
   "source": [
    "# print 'a' in this cell"
   ]
  },
  {
   "cell_type": "code",
   "execution_count": null,
   "metadata": {},
   "outputs": [],
   "source": [
    "# find the length of 'a' in this cell"
   ]
  },
  {
   "cell_type": "markdown",
   "metadata": {
    "deletable": false,
    "editable": false,
    "run_control": {
     "frozen": true
    }
   },
   "source": [
    "## Defining Functions and Using Them in List Comprehensions\n",
    "\n",
    "When creating plots we typically need a list of $x$-values and a list of $y$-values. Lists of $x$-values could be created manually, with a standard `range()` command, or with the custom `frange()` function we just wrote. Once a list of $x$-values is created, we can use that list to create our $y$-values by following these steps:\n",
    "\n",
    "1. Define a function that returns a calculated value\n",
    "2. Create a list of $x$-values (manually, `range()`, `frange()`, or by other means)\n",
    "3. Create a list of $y$-values using a list comprehension that calls the function from step 1"
   ]
  },
  {
   "cell_type": "markdown",
   "metadata": {
    "deletable": false,
    "editable": false,
    "run_control": {
     "frozen": true
    }
   },
   "source": [
    ">**Practice it**\n",
    ">\n",
    ">Use your list named `a` and list comprehension to create a list named `b` from the following expression:\n",
    ">\n",
    ">$\\displaystyle b = 3.5^{(-0.5a)}\\cos{(6a)}$\n",
    ">\n",
    ">Create a function named `bfunc(a)` (in the first code cell) and use it to create list `b` (in the second code cell). You will need to use `cos` from the `math` module in your function (include an `import` statement in the function)."
   ]
  },
  {
   "cell_type": "code",
   "execution_count": null,
   "metadata": {},
   "outputs": [],
   "source": []
  },
  {
   "cell_type": "code",
   "execution_count": null,
   "metadata": {},
   "outputs": [],
   "source": []
  },
  {
   "cell_type": "markdown",
   "metadata": {
    "deletable": false,
    "editable": false,
    "run_control": {
     "frozen": true
    }
   },
   "source": [
    "## Formatting Arguments for `.plot()`\n",
    "\n",
    "The `.plot()` method can accept a large number of optional arguments that modify the look of the plot. See the [*Matplotlib* documentation](https://matplotlib.org/api/_as_gen/matplotlib.axes.Axes.plot.html?highlight=axes.plot#matplotlib.axes.Axes.plot) for a comprehensive list of these arguments. For example, adding the argument `'-r'` will create a solid red line with no markers and `'--bo'` will create a dashed blue line with circle markers at each data point. Valid line types include `-`, `--`, `-.`, and `:`. Valid colors include any of the letters from `rgbcmykw`. Valid marker shapes include any of the characters `odDsx*.+^v` plus more (see the documentation).\n",
    "\n",
    "The argument `linewidth=2.0` or `lw=2.0` will make the plotted line 2-points wide. You can also use `color='r'` or `c='r'` to change the color to red and `linestyle='--'` or `ls='--'` to change the line style to dashed. Using `color` or `c` allows for a much broader range of colors by typing color names instead of just letters.\n",
    "\n",
    "Use the command `plt.show()` after creating the your plots to keep *Jupyter* from showing a plot object descriptor along with showing the actual plot. *Don't forget the parentheses.*"
   ]
  },
  {
   "cell_type": "markdown",
   "metadata": {
    "deletable": false,
    "editable": false,
    "run_control": {
     "frozen": true
    }
   },
   "source": [
    "Common color indicators:\n",
    "\n",
    "- `r` = red\n",
    "- `g` = green\n",
    "- `b` = blue\n",
    "- `c` = cyan\n",
    "- `m` = magenta\n",
    "- `y` = yellow \n",
    "- `k` = black\n",
    "- `w` = white"
   ]
  },
  {
   "cell_type": "markdown",
   "metadata": {
    "deletable": false,
    "editable": false,
    "run_control": {
     "frozen": true
    }
   },
   "source": [
    "Common linestyle indicators:\n",
    "- `-` = solid\n",
    "- `--` = dashed\n",
    "- `-.` = dash-dot\n",
    "- `:` = dotted"
   ]
  },
  {
   "cell_type": "markdown",
   "metadata": {
    "deletable": false,
    "editable": false,
    "run_control": {
     "frozen": true
    }
   },
   "source": [
    "Common marker indicators:\n",
    "\n",
    "- `.` = point\n",
    "- `x` and `X` = $\\times$'s\n",
    "- `+` and `P` = plus signs\n",
    "- `o` = circle\n",
    "- `d` and `D` = diamonds\n",
    "- `s` = square\n",
    "- `^`, `v`, `<`, and `>` = triangles\n",
    "- `h` and `H` = hexagons\n",
    "- `*` = star\n",
    "- `p` = pentagon\n",
    "- `8` = octagon"
   ]
  },
  {
   "cell_type": "markdown",
   "metadata": {
    "deletable": false,
    "editable": false,
    "run_control": {
     "frozen": true
    }
   },
   "source": [
    "The following code cell creates a \"plot\" of all of the common marker indicators and linestyles. *Matplotlib* automatically cycles through different colors for different plots in the same space."
   ]
  },
  {
   "cell_type": "code",
   "execution_count": null,
   "metadata": {
    "scrolled": true
   },
   "outputs": [],
   "source": [
    "fig = plt.figure(figsize=(6,1))\n",
    "ax = fig.add_axes([0,0,1,1])\n",
    "for i,item in enumerate(['-','--','-.',':']):\n",
    "    ax.plot([0, 17], [2*i+2, 2*i+2], item, lw=2.5)\n",
    "for i,item in enumerate('.xX+PodDs^v<>hH*p8'):\n",
    "    ax.plot(i, 0, item, ms=10)\n",
    "    \n",
    "ax.set_axis_off()\n",
    "ax.set_ylim(-1, 9)\n",
    "plt.show()"
   ]
  },
  {
   "cell_type": "markdown",
   "metadata": {
    "deletable": false,
    "editable": false,
    "run_control": {
     "frozen": true
    }
   },
   "source": [
    ">**Practice it**\n",
    ">\n",
    ">Plot $a,b$ with a solid red line that is 2.0 wide. Include `plt.show()` as the last command. "
   ]
  },
  {
   "cell_type": "code",
   "execution_count": null,
   "metadata": {},
   "outputs": [],
   "source": []
  },
  {
   "cell_type": "markdown",
   "metadata": {
    "deletable": false,
    "editable": false,
    "run_control": {
     "frozen": true
    }
   },
   "source": [
    "## Adding a Title, Labels, and Other Stuff\n",
    "\n",
    "You can easily add a title, axes labels, and other options to plots. The [Axes class](https://matplotlib.org/api/axes_api.html?highlight=axes#module-matplotlib.axes) lists all of the possible options. A simple title can be added using the `.set_title(\"Title Text\")` method. Axes labels use the `.set_xlabel()` and `.set_ylabel()` methods. All three of these accept an optional `fontsize=` argument that lets you increase or decrease the height of the text. You can set all three labels at once by using the `.set(title='Title text', xlabel='x-axis label', ylabel='y-axis label')` method on the axes object of interest.\n",
    "\n",
    "The method `.axis([xmin, xmax, ymin, ymax])` can be used to set the plot limits in the $x$ and $y$ directions (take note of the square brackets). This method of setting plot limits requires that all 4 values be given. An alternative to using a list in the `.axis()` method is to use named arguments only for those values which are being set, i.e. `.axis(xmin=0, xmax=10, ymin=-4, ymax=5)`. The methods `.set_xlim(xmin, xmax)` and `.set_ylim(ymin, ymax)` can be used to set axis limits for a specific axis and *Matplotlib* will automatically set the limits for the other axis based on the plotted values. You can even add a grid by using `.grid(True)`. Place the formatting commands after the `.plot()` command and use `plt.show()` after all plot formatting commands.\n"
   ]
  },
  {
   "cell_type": "markdown",
   "metadata": {
    "deletable": false,
    "editable": false,
    "run_control": {
     "frozen": true
    }
   },
   "source": [
    ">**Practice it**\n",
    ">\n",
    ">Use our `frange()` function and list comprehension to create two lists, `x` and `y`, based on the following information. \n",
    ">\n",
    ">$\\displaystyle -5 \\leq x \\leq 10$  with $100$ values and $\\displaystyle y = \\frac{5\\sin{x}}{x + e^{-0.75x}} - \\frac{3x}{5}$"
   ]
  },
  {
   "cell_type": "code",
   "execution_count": null,
   "metadata": {},
   "outputs": [],
   "source": [
    "# create list 'x'"
   ]
  },
  {
   "cell_type": "code",
   "execution_count": null,
   "metadata": {},
   "outputs": [],
   "source": [
    "# define a function for calculating 'y'"
   ]
  },
  {
   "cell_type": "code",
   "execution_count": null,
   "metadata": {},
   "outputs": [],
   "source": [
    "# create list 'y' using list comprehension"
   ]
  },
  {
   "cell_type": "markdown",
   "metadata": {
    "deletable": false,
    "editable": false,
    "run_control": {
     "frozen": true
    }
   },
   "source": [
    ">Now plot $x,y$ with the following options and don't forget to end with `plt.show()`\n",
    ">- Green plot line that is 1.5 wide\n",
    ">- The title \"A really nice plot\" with a fontsize of 16\n",
    ">- The x-axis label \"x-axis\" with a fontsize of 12\n",
    ">- The y-axis label \"y-axis\" with a fontsize of 12\n",
    ">- Plot limits of $-5$ and $10$ for the x-axis"
   ]
  },
  {
   "cell_type": "code",
   "execution_count": null,
   "metadata": {},
   "outputs": [],
   "source": []
  },
  {
   "cell_type": "markdown",
   "metadata": {
    "deletable": false,
    "editable": false,
    "run_control": {
     "frozen": true
    }
   },
   "source": [
    "## Multiple Graphs on the Same Plot\n",
    "\n",
    "We can add more than one set of data to a single plot simply by adding more list pairs in `.plot()`. Color, line, and marker settings for a plot curve should be placed after its pair of lists.\n",
    "\n",
    ">**Practice it**\n",
    ">\n",
    ">Execute the following code cell to see how this works."
   ]
  },
  {
   "cell_type": "code",
   "execution_count": null,
   "metadata": {},
   "outputs": [],
   "source": [
    "x = frange(-2, 4)\n",
    "y = [3*x**3 - 26*x + 6 for x in x]\n",
    "yd = [9*x**2 - 26 for x in x]\n",
    "ydd = [18*x for x in x]\n",
    "fig, ax = plt.subplots()\n",
    "ax.plot(x, y, '-b', x, yd, '--r', x, ydd, ':k')\n",
    "plt.show()"
   ]
  },
  {
   "cell_type": "markdown",
   "metadata": {
    "deletable": false,
    "editable": false,
    "run_control": {
     "frozen": true
    }
   },
   "source": [
    "Another option (usually easier to follow) is to just create each plot separately using `ax.plot()` commands for each set of data points then show them all.\n",
    "\n",
    ">**Practice it**\n",
    ">\n",
    ">Try it out. Make the above plot using three separate `.plot()` commands. Remember to use `plt.show()` as the last command."
   ]
  },
  {
   "cell_type": "code",
   "execution_count": null,
   "metadata": {},
   "outputs": [],
   "source": []
  },
  {
   "cell_type": "markdown",
   "metadata": {
    "deletable": false,
    "editable": false,
    "run_control": {
     "frozen": true
    }
   },
   "source": [
    "## Subplots\n",
    "\n",
    "Multiple plots on separate axes are referred to as subplots (described briefly earlier). The `.subplots()` method can be used to initialize a subplot with any number of rows or columns, even though we have used it so far for just a single plot. All you need to do is add the number of rows and columns desired inside the parentheses and separated by a comma. You can also use the keyword arguments `nrows` and `ncols` instead. If more than one axes object is created (anything other than a $1\\times1$ subplot), then a list of axes objects is returned instead of a single axes object.\n",
    "\n",
    "If using `.add_subplot()` to create axes objects, then the argument used needs to be a 3-digit value that represents the number of rows, number of columns, and which subplot is the active one. For example, `.add_subplot(211)` yields a subplot object 2 rows high (vertically stacked plots) by 1 column wide with the first (top) subplot active.\n",
    "\n",
    ">**Practice it**\n",
    ">\n",
    ">Try out the following to see a set of stacked subplots."
   ]
  },
  {
   "cell_type": "code",
   "execution_count": null,
   "metadata": {},
   "outputs": [],
   "source": [
    "x = frange(0, 10)\n",
    "y1 = [x*math.cos(x) for x in x]\n",
    "y2 = [math.exp(-0.2*x)*math.cos(x) for x in x]\n",
    "\n",
    "fig, (ax1, ax2) = plt.subplots(2, 1, figsize=(6,6), dpi=100)\n",
    "ax1.plot(x, y1)\n",
    "ax2.plot(x, y2, 'r--')\n",
    "plt.show()"
   ]
  },
  {
   "cell_type": "markdown",
   "metadata": {
    "deletable": false,
    "editable": false,
    "run_control": {
     "frozen": true
    }
   },
   "source": [
    "## A Polar Plot and a Histogram\n",
    "\n",
    "*Matplotlib* supports the construction of much more than just $x,y$ plots. Two other plots that you can create are histograms and polar plots.\n",
    "\n",
    ">**Practice it**\n",
    ">\n",
    ">Run the following code to create a polar plot. Notice that the method `.plot()` is still used, but `plt.figure()` along with either `.add_axes()` is used to create the axes object and `polar=True` is added as a keyword argument after the list containing the size information. The two arguments in `.plot()` are the angular (in radians) and the radial positions of the points (both lists) when using it to create a polar plot."
   ]
  },
  {
   "cell_type": "code",
   "execution_count": null,
   "metadata": {},
   "outputs": [],
   "source": [
    "t = frange(0, 5*math.pi, 200) # 200 points from 0 to 5pi radians\n",
    "r = [3*math.cos(0.5*t)**2 + t for t in t]\n",
    "fig = plt.figure(figsize=(4,4), dpi=100)\n",
    "ax = fig.add_axes([0, 0, 1, 1], polar=True)\n",
    "ax.plot(t, r)\n",
    "ax.set_ylim(0, 20) # ylim sets the radial limits for polar plots\n",
    "plt.show()"
   ]
  },
  {
   "cell_type": "markdown",
   "metadata": {
    "deletable": false,
    "editable": false,
    "run_control": {
     "frozen": true
    }
   },
   "source": [
    ">**Practice it**\n",
    ">\n",
    ">Another option is to use the `.subplots()` method to create the figure and add the keyword argument `subplot_kw={'polar':True}`. Execute the following code to create the same polar plot as above."
   ]
  },
  {
   "cell_type": "code",
   "execution_count": null,
   "metadata": {},
   "outputs": [],
   "source": [
    "t = frange(0, 5*math.pi, 200) # 200 points from 0 to 5pi radians\n",
    "r = [3*math.cos(0.5*t)**2 + t for t in t]\n",
    "fig, ax = plt.subplots(figsize=(4,4), dpi=100, subplot_kw={'polar':True})\n",
    "ax.plot(t, r)\n",
    "ax.set_ylim(0, 20) # ylim sets the radial limits for polar plots\n",
    "plt.show()"
   ]
  },
  {
   "cell_type": "markdown",
   "metadata": {
    "deletable": false,
    "editable": false,
    "run_control": {
     "frozen": true
    }
   },
   "source": [
    ">**Practice it**\n",
    ">\n",
    ">Histograms are quite easy to make as well. We are importing the `random` module and using its `normalvariate()` function to create a list of random numbers that fit in a normal distribution. But the `.hist()` method simply needs a list of values and the number of bins desired. Read about the command to see other options."
   ]
  },
  {
   "cell_type": "code",
   "execution_count": null,
   "metadata": {},
   "outputs": [],
   "source": [
    "import random\n",
    "mean = 50\n",
    "std = 10\n",
    "y = [random.normalvariate(mean, std) for x in range(1000)]\n",
    "fig, ax = plt.subplots(figsize=(6,4), dpi=100)\n",
    "ax.hist(y, 10)     # 10 bins\n",
    "ax.set_xlim(0, 100)\n",
    "ax.grid(True)\n",
    "plt.show()"
   ]
  },
  {
   "cell_type": "markdown",
   "metadata": {
    "deletable": false,
    "editable": false,
    "run_control": {
     "frozen": true
    }
   },
   "source": [
    "## A Practice Problem\n",
    "\n",
    "Plot the following expression together as a class.\n",
    "\n",
    "$\\displaystyle x(t)=\\frac{2f_0}{\\omega_n^2-\\omega^2}\\,\\, \\sin\\left(\\left(\\omega_n-\\omega\\right)\\frac{t}{2}\\right)\\sin\\left(\\left(\\omega_n+\\omega\\right)\\frac{t}{2}\\right)$\n",
    "\n",
    "Use $f_0=12\\text{ N/kg}$, $\\omega_n=10\\text{ rad/s}$, and $\\omega=12\\text{ rad/s}$ in order to plot $x(t)$ as a function of $t$ for $0\\leq t \\leq 10\\text{ s}$ with $500$ values for $t$.\n",
    "\n",
    "Use the following steps:\n",
    "\n",
    "1. Define a function called `xfunc(t, f_0, w_n, w)` using the above information\n",
    "2. Create a list of times `t` using `frange()`\n",
    "3. Use list comprehension along with `xfunc()` and `t` to create the list `x`\n",
    "4. Create an $x,y$ plot with `t` as the $x$-value and `x` as the $y$-value"
   ]
  },
  {
   "cell_type": "code",
   "execution_count": null,
   "metadata": {},
   "outputs": [],
   "source": []
  },
  {
   "cell_type": "code",
   "execution_count": null,
   "metadata": {},
   "outputs": [],
   "source": []
  },
  {
   "cell_type": "code",
   "execution_count": null,
   "metadata": {},
   "outputs": [],
   "source": []
  },
  {
   "cell_type": "code",
   "execution_count": null,
   "metadata": {},
   "outputs": [],
   "source": []
  },
  {
   "cell_type": "markdown",
   "metadata": {
    "deletable": false,
    "editable": false,
    "run_control": {
     "frozen": true
    }
   },
   "source": [
    "## A Cool Math Plot\n",
    "\n",
    "Execute the following code cell that uses `if-elif-else` statements and random values in a `for` loop to create the values for plotting [**Sierpinski's Triangle**](https://en.wikipedia.org/wiki/Sierpinski_triangle)."
   ]
  },
  {
   "cell_type": "code",
   "execution_count": null,
   "metadata": {
    "cocalc": {
     "outputs": {
      "0": {
       "name": "input",
       "opts": {
        "password": false,
        "prompt": "How many trials? "
       },
       "output_type": "stream",
       "value": "2000"
      }
     }
    }
   },
   "outputs": [],
   "source": [
    "# Sierpinski's Triangle\n",
    "import math\n",
    "from numpy.random import randint\n",
    "from matplotlib import pyplot as plt\n",
    "x = [0]\n",
    "y = [0]\n",
    "n = int(input(\"How many trials? \"))\n",
    "for k in range(1, n):\n",
    "    choice = randint(3)\n",
    "    if choice == 0:\n",
    "        x.append(0.5*x[-1])\n",
    "        y.append(0.5*y[-1])\n",
    "    elif choice == 1:\n",
    "        x.append(0.5*x[-1] + 0.25)\n",
    "        y.append(0.5*y[-1] + math.sqrt(3)/4)\n",
    "    else:\n",
    "        x.append(0.5*x[-1] + 0.5)\n",
    "        y.append(0.5*y[-1])\n",
    "\n",
    "fig, ax = plt.subplots(figsize=(6,6), dpi=150)\n",
    "ax.plot(x, y, 'g^')\n",
    "ax.set_title(\"Sierpinski's Triangle\")\n",
    "ax.axis('off')\n",
    "plt.show()"
   ]
  },
  {
   "cell_type": "markdown",
   "metadata": {
    "deletable": false,
    "editable": false
   },
   "source": [
    "<div class=exercise>\n",
    "\n",
    "## Na, Na, Na, Na, Na, Na, Na, Na, Na, Na, Na, Na, Na, Na, Na, ...\n",
    "</div>"
   ]
  },
  {
   "cell_type": "code",
   "execution_count": null,
   "metadata": {
    "deletable": false,
    "editable": false
   },
   "outputs": [],
   "source": [
    "fig, ax = plt.subplots(figsize=(8,6), dpi=120)\n",
    "\n",
    "x1 = frange(-8, 8, 200)\n",
    "y1 = [4*math.sqrt(-(x/8)**2 + 1) for x in x1]\n",
    "y2 = [-4*math.sqrt(-(x/8)**2 + 1) for x in x1]\n",
    "ax.fill_between(x1, y1, y2, color='gold')\n",
    "ax.plot(x1, y1, c='black', lw=3)\n",
    "ax.plot(x1, y2, c='black', lw=3)\n",
    "\n",
    "x3 = frange(-7, -3, 100)\n",
    "y3= [3*math.sqrt(-(x/7)**2 + 1) for x in x3]\n",
    "x4 = frange(3, 7, 100)\n",
    "y4 = [3*math.sqrt(-(x/7)**2 + 1) for x in x4]\n",
    "ax.fill_between(x3, y3, y2=0, color='black')\n",
    "ax.fill_between(x4, y4, y2=0, color='black')\n",
    "\n",
    "x5 = frange(-7, -4, 100)\n",
    "y5 = [-3*math.sqrt(-(x/7)**2 + 1) for x in x5]\n",
    "x6 = frange(4, 7, 100)\n",
    "y6 = [-3*math.sqrt(-(x/7)**2 + 1) for x in x6]\n",
    "ax.fill_between(x5, y5, y2=0, color='black')\n",
    "ax.fill_between(x6, y6, y2=0, color='black')\n",
    "\n",
    "x7 = frange(-4, 4, 200)\n",
    "y7 = [abs(x/2) - (3*math.sqrt(33) - 7)/112*x**2 + math.sqrt(1 - (abs(abs(x) - 2) - 1)**2) - 3 for x in x7]\n",
    "ax.fill_between(x7, y7, y2=0, color='black')\n",
    "\n",
    "x8 = frange(-1, -0.75, 10)\n",
    "x9 = frange(0.75, 1, 10)\n",
    "y8 = [9 - 8*abs(x) for x in x8]\n",
    "y9 = [9 - 8*abs(x) for x in x9]\n",
    "ax.fill_between(x8, y8, y2=0, color='black')\n",
    "ax.fill_between(x9, y9, y2=0, color='black')\n",
    "\n",
    "x10 = frange(-0.75, -0.5, 10)\n",
    "x10.extend(frange(0.5, 0.75, 10))\n",
    "y10 = [0.75 + 3*abs(x) for x in x10]\n",
    "ax.fill_between(x10, y10, y2=0, color='black')\n",
    "\n",
    "x11 = frange(-3, -1, 100)\n",
    "y11 = [1.5 + 0.5*x - 6*math.sqrt(10)/14*(math.sqrt(3 - x**2 - 2*x) - 2) for x in x11]\n",
    "x12 = frange(1, 3, 100)\n",
    "y12 = [1.5 - 0.5*x - 6*math.sqrt(10)/14*(math.sqrt(3 - x**2 + 2*x) - 2) for x in x12]\n",
    "ax.fill_between(x11, y11, y2=0, color='black')\n",
    "ax.fill_between(x12, y12, y2=0, color='black')\n",
    "\n",
    "ax.axis([-9, 9, -5, 5])\n",
    "ax.tick_params(axis='both', which='both', bottom=False, left=False, labelbottom=False, labelleft=False)\n",
    "ax.set_facecolor('black')\n",
    "\n",
    "plt.show()"
   ]
  },
  {
   "cell_type": "markdown",
   "metadata": {
    "deletable": false,
    "editable": false,
    "run_control": {
     "frozen": true
    }
   },
   "source": [
    ">**Wrap it up**\n",
    ">\n",
    ">Execute the time stamp code cell below to show the time and date you finished and tested this script.\n",
    ">\n",
    ">Click on the **Save** button and then the **Close and halt** button when you are done. **This is an instructor-led assignment that must be completed before the end of the lab session in order to receive credit.**"
   ]
  },
  {
   "cell_type": "code",
   "execution_count": null,
   "metadata": {
    "deletable": false,
    "editable": false
   },
   "outputs": [],
   "source": [
    "from datetime import datetime\n",
    "from pytz import timezone\n",
    "print(datetime.now(timezone('US/Eastern')))"
   ]
  }
 ],
 "metadata": {
  "kernelspec": {
   "display_name": "Python 3",
   "language": "python",
   "name": "python3"
  },
  "language_info": {
   "codemirror_mode": {
    "name": "ipython",
    "version": 3
   },
   "file_extension": ".py",
   "mimetype": "text/x-python",
   "name": "python",
   "nbconvert_exporter": "python",
   "pygments_lexer": "ipython3",
   "version": "3.7.4"
  },
  "varInspector": {
   "cols": {
    "lenName": 16,
    "lenType": 16,
    "lenVar": 40
   },
   "kernels_config": {
    "python": {
     "delete_cmd_postfix": "",
     "delete_cmd_prefix": "del ",
     "library": "var_list.py",
     "varRefreshCmd": "print(var_dic_list())"
    },
    "r": {
     "delete_cmd_postfix": ") ",
     "delete_cmd_prefix": "rm(",
     "library": "var_list.r",
     "varRefreshCmd": "cat(var_dic_list()) "
    }
   },
   "types_to_exclude": [
    "module",
    "function",
    "builtin_function_or_method",
    "instance",
    "_Feature"
   ],
   "window_display": false
  }
 },
 "nbformat": 4,
 "nbformat_minor": 1
}
