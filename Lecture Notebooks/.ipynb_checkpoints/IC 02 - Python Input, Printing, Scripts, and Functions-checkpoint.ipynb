{
 "cells": [
  {
   "cell_type": "markdown",
   "metadata": {
    "deletable": false,
    "editable": false,
    "run_control": {
     "frozen": true
    }
   },
   "source": [
    "# IC 2 - Python Input, Printing, Scripts, and Functions\n",
    "---"
   ]
  },
  {
   "cell_type": "code",
   "execution_count": null,
   "metadata": {},
   "outputs": [],
   "source": [
    "name = \"Your name here\"\n",
    "print(\"Name:\", name.upper())"
   ]
  },
  {
   "cell_type": "markdown",
   "metadata": {},
   "source": [
    "## Purpose\n",
    "\n",
    "- Use the `.format()` string method to generate specifically formatted output\n",
    "\n",
    "- Use the `input()` function to generate interactive input from the user in scripts and user-defined functions\n",
    "\n",
    "- Create, edit, and execute simple scripts using *Python*\n",
    "\n",
    "- Assign values to variable names within scripts\n",
    "\n",
    "- Request user input to assign values to variables in scripts using the `input()` function\n",
    "\n",
    "- Create and execute user-defined functions that do and do not accept arguments\n",
    "\n",
    "- Create and execute void and fruitful functions\n",
    "\n",
    "- Use `print()` to display output from scripts and user-defined functions\n",
    "\n",
    "## Instructions\n",
    "\n",
    "1. Replace \"Your name here\" in the cell below the assignment title with your first and last names and then execute the cell using \"Shift-Enter\"\n",
    "2. Execute the time stamp cell \n",
    "3. Follow along with the instructor in class as we use *Python* to generate formatted output, request interactive user input, and create scripts and functions\n",
    "4. Execute the date stamp cell at the end of the document and submitting your saved `.ipynb` file to *Canvas* for credit"
   ]
  },
  {
   "cell_type": "markdown",
   "metadata": {
    "deletable": false,
    "editable": false,
    "run_control": {
     "frozen": true
    }
   },
   "source": [
    "**Execute the time stamp cell below before you start**"
   ]
  },
  {
   "cell_type": "code",
   "execution_count": null,
   "metadata": {
    "deletable": false,
    "editable": false
   },
   "outputs": [],
   "source": [
    "from datetime import datetime\n",
    "from pytz import timezone\n",
    "print(datetime.now(timezone('US/Eastern')))"
   ]
  },
  {
   "cell_type": "markdown",
   "metadata": {
    "deletable": false,
    "editable": false,
    "run_control": {
     "frozen": true
    }
   },
   "source": [
    "## Reviewing the `print()` Function\n",
    "\n",
    "Recall that *Python's* `print()` function can be used to display numeric values and text strings. Multiple items can be printed using the same `print()` function by separating items with commas. *Python* adds a space between items that are separated by a comma. You can force a line return in any string by adding the newline escape sequence `\\n`. There are other escape sequences as well. A good one to remember is `\\t` for adding a tab. You will notice that multiplying a string by an integer will print the string that number of times.\n"
   ]
  },
  {
   "cell_type": "markdown",
   "metadata": {
    "deletable": false,
    "editable": false,
    "run_control": {
     "frozen": true
    }
   },
   "source": [
    ">**Practice it**\n",
    ">\n",
    ">Type and execute the following `print()` expressions in the following code cell.\n",
    ">\n",
    ">```python\n",
    "print(\"Python is awesome\")\n",
    "print('Lumberjacks', \"Parrots\", 42)\n",
    "print(4*5)\n",
    "print(2*'Hello')\n",
    "print('Hello,\\nWorld!')\n",
    ">```"
   ]
  },
  {
   "cell_type": "code",
   "execution_count": null,
   "metadata": {},
   "outputs": [],
   "source": []
  },
  {
   "cell_type": "markdown",
   "metadata": {
    "deletable": false,
    "editable": false,
    "run_control": {
     "frozen": true
    }
   },
   "source": [
    "## Formatting Printed Output\n",
    "\n",
    "If we include the `.format()` string method within a `print()` function, we can control exactly how numeric (and non-numeric) values are displayed. The general layout of the `.format()` method for a string is as follows:\n",
    "\n",
    "`'The sum of {} and {} is {}'.format(item_1, item_2, item_3)`\n",
    "\n",
    "The expression starts with a string that has curly braces `{}` as placeholders for numeric or string objects. The `.format()` method directly follows the closing quote for the string. The arguments located between the method's parentheses are the values (in order) that match the placeholders in the string. These may be values and/or expressions. The placeholders themselves can include formatting descriptors to generate very specific formatting, especially for numeric values. Formatting descriptors within braces must be preceded by a colon, i.e. `{:.2f}`.\n",
    "\n",
    "The website https://pyformat.info does a good job of explaining a number of varied examples of the `.format()` method.\n"
   ]
  },
  {
   "cell_type": "markdown",
   "metadata": {
    "deletable": false,
    "editable": false,
    "run_control": {
     "frozen": true
    }
   },
   "source": [
    ">**Practice it**\n",
    ">\n",
    ">Display the result of `22/7` a number of ways using `print()` and the `.format()` string method. Modify the formatting descriptors within the curly braces in each of the following code cells then execute them.\n",
    ">\n",
    ">Using `print()` with two arguments and a comma but no formatting"
   ]
  },
  {
   "cell_type": "code",
   "execution_count": null,
   "metadata": {
    "deletable": false,
    "editable": false,
    "run_control": {
     "frozen": true
    }
   },
   "outputs": [],
   "source": [
    "# Standard print() without .format()\n",
    "print('pi is close to', 22/7)"
   ]
  },
  {
   "cell_type": "markdown",
   "metadata": {
    "deletable": false,
    "editable": false,
    "run_control": {
     "frozen": true
    }
   },
   "source": [
    ">`{}` No specific formatting assigned"
   ]
  },
  {
   "cell_type": "code",
   "execution_count": null,
   "metadata": {
    "slideshow": {
     "slide_type": "fragment"
    }
   },
   "outputs": [],
   "source": [
    "print('pi is close to {}'.format(22/7))"
   ]
  },
  {
   "cell_type": "markdown",
   "metadata": {
    "deletable": false,
    "editable": false,
    "run_control": {
     "frozen": true
    },
    "slideshow": {
     "slide_type": "fragment"
    }
   },
   "source": [
    ">`{:f}` Standard floating point notation with the default number of decimal places"
   ]
  },
  {
   "cell_type": "code",
   "execution_count": null,
   "metadata": {
    "slideshow": {
     "slide_type": "fragment"
    }
   },
   "outputs": [],
   "source": [
    "print('pi is close to {}'.format(22/7))"
   ]
  },
  {
   "cell_type": "markdown",
   "metadata": {
    "deletable": false,
    "editable": false,
    "run_control": {
     "frozen": true
    }
   },
   "source": [
    "### Formatted String Literals (Python 3.6+)\n",
    "\n",
    "New to *Python* starting with version 3.6 are *formatted string literals* or \"*f-strings*\". These work like the `.format()` method but in a more direct way. For example, instead of using `print('pi is close to {}'.format(22/7))` you can use `print(f'pi is close to {22/7}')`. Formatted string literals allow expressions or variables to be placed directly within the curly braces. If special formatting is desired for a value, a colon is added after the expression of variable with the formatting after the colon, i.e. `print(f'pi is close to {22/7:.8f}')`.\n",
    "\n",
    ">**Practice it**\n",
    ">  \n",
    ">Modify the formatting descriptors within the curly braces in each of the following code cells then execute them.\n",
    ">\n",
    ">`{:f}` Standard floating point notation with the default number of decimal places\n"
   ]
  },
  {
   "cell_type": "code",
   "execution_count": null,
   "metadata": {},
   "outputs": [],
   "source": [
    "print(f'pi is close to {22/7}')"
   ]
  },
  {
   "cell_type": "markdown",
   "metadata": {
    "deletable": false,
    "editable": false,
    "run_control": {
     "frozen": true
    }
   },
   "source": [
    ">`{:.16f}` Standard floating point notation with 16-decimal places"
   ]
  },
  {
   "cell_type": "code",
   "execution_count": null,
   "metadata": {},
   "outputs": [],
   "source": [
    "print(f'pi is close to {22/7}')"
   ]
  },
  {
   "cell_type": "markdown",
   "metadata": {
    "deletable": false,
    "editable": false,
    "run_control": {
     "frozen": true
    },
    "slideshow": {
     "slide_type": "fragment"
    }
   },
   "source": [
    ">`{:e}` Exponential notation (use `E` for uppercase)"
   ]
  },
  {
   "cell_type": "code",
   "execution_count": null,
   "metadata": {},
   "outputs": [],
   "source": [
    "print(f'pi is close to {22/7}')"
   ]
  },
  {
   "cell_type": "markdown",
   "metadata": {
    "deletable": false,
    "editable": false,
    "run_control": {
     "frozen": true
    },
    "slideshow": {
     "slide_type": "fragment"
    }
   },
   "source": [
    ">`{:.12E}` Exponential notation with 12-decimal places"
   ]
  },
  {
   "cell_type": "code",
   "execution_count": null,
   "metadata": {},
   "outputs": [],
   "source": [
    "print(f'pi is close to {22/7}')"
   ]
  },
  {
   "cell_type": "markdown",
   "metadata": {
    "deletable": false,
    "editable": false,
    "run_control": {
     "frozen": true
    },
    "slideshow": {
     "slide_type": "fragment"
    }
   },
   "source": [
    ">`{:g}` Standard or exponential notation, whichever is more efficient (use `G` for uppercase)"
   ]
  },
  {
   "cell_type": "code",
   "execution_count": null,
   "metadata": {},
   "outputs": [],
   "source": [
    "print(f'pi is close to {22/7}')"
   ]
  },
  {
   "cell_type": "markdown",
   "metadata": {
    "deletable": false,
    "editable": false,
    "run_control": {
     "frozen": true
    },
    "slideshow": {
     "slide_type": "fragment"
    }
   },
   "source": [
    ">`{:.12g}` 12-decimal places and automatically use standard or exponential notation, whichever is shorter"
   ]
  },
  {
   "cell_type": "code",
   "execution_count": null,
   "metadata": {},
   "outputs": [],
   "source": [
    "print(f'pi is close to {22/7}')"
   ]
  },
  {
   "cell_type": "markdown",
   "metadata": {
    "deletable": false,
    "editable": false,
    "run_control": {
     "frozen": true
    },
    "slideshow": {
     "slide_type": "fragment"
    }
   },
   "source": [
    ">`{:8.3f}` Total width to 8 characters with 3 to the right of the decimal"
   ]
  },
  {
   "cell_type": "code",
   "execution_count": null,
   "metadata": {},
   "outputs": [],
   "source": [
    "print(f'pi is close to {22/7}')"
   ]
  },
  {
   "cell_type": "markdown",
   "metadata": {
    "deletable": false,
    "editable": false,
    "run_control": {
     "frozen": true
    }
   },
   "source": [
    "What the formatting descriptor above means:\n",
    "\n",
    "```\n",
    "| | | |3|.|1|4|3|  <= formatted value\n",
    "|8|7|6|5|4|3|2|1|  <= characters set aside for the value\n",
    "```\n",
    "Notice that the decimal point counts as a character. There are 8 total characters set aside to display the value with 3 of them to the right of the decimal point. If all 8 characters are not needed for the value, then *Python* will add spaces to the left in order to use all 8 characters."
   ]
  },
  {
   "cell_type": "markdown",
   "metadata": {
    "deletable": false,
    "editable": false,
    "run_control": {
     "frozen": true
    }
   },
   "source": [
    ">`{:+08.3f}` Same as the previous but with leading zeros and the +/- sign"
   ]
  },
  {
   "cell_type": "code",
   "execution_count": null,
   "metadata": {},
   "outputs": [],
   "source": [
    "print(f'pi is close to {22/7}')"
   ]
  },
  {
   "cell_type": "markdown",
   "metadata": {
    "deletable": false,
    "editable": false,
    "run_control": {
     "frozen": true
    }
   },
   "source": [
    ">`{:.0f}` Force a floating point to display no values right of the decimal"
   ]
  },
  {
   "cell_type": "code",
   "execution_count": null,
   "metadata": {},
   "outputs": [],
   "source": [
    "print(f'pi is close to {22/7}')"
   ]
  },
  {
   "cell_type": "markdown",
   "metadata": {
    "deletable": false,
    "editable": false,
    "run_control": {
     "frozen": true
    }
   },
   "source": [
    ">You can use varables withing f-strings as well as values and calculations. Try it by executing the following cell after setting the formatting to 8 decimal places."
   ]
  },
  {
   "cell_type": "code",
   "execution_count": null,
   "metadata": {},
   "outputs": [],
   "source": [
    "almost_pi = 22/7\n",
    "print(f'pi is close to {almost_pi}')"
   ]
  },
  {
   "cell_type": "markdown",
   "metadata": {
    "deletable": false,
    "editable": false,
    "run_control": {
     "frozen": true
    }
   },
   "source": [
    ">**Practice it some more**\n",
    ">\n",
    ">Here are few more common and useful formatting descriptors. Modify and execute each of them to see the output they generate.\n",
    ">\n",
    ">`{:d}` Standard integer (object must be of `int` type)"
   ]
  },
  {
   "cell_type": "code",
   "execution_count": null,
   "metadata": {},
   "outputs": [],
   "source": [
    "print(f'Integer value: {42}')"
   ]
  },
  {
   "cell_type": "markdown",
   "metadata": {
    "deletable": false,
    "editable": false,
    "run_control": {
     "frozen": true
    }
   },
   "source": [
    ">`{:4d}` Integer with 4 total characters"
   ]
  },
  {
   "cell_type": "code",
   "execution_count": null,
   "metadata": {},
   "outputs": [],
   "source": [
    "print(f'Integer value: {42}')"
   ]
  },
  {
   "cell_type": "markdown",
   "metadata": {
    "deletable": false,
    "editable": false,
    "run_control": {
     "frozen": true
    }
   },
   "source": [
    ">`{:04d}` Integer with 4 total characters and leading zeros"
   ]
  },
  {
   "cell_type": "code",
   "execution_count": null,
   "metadata": {},
   "outputs": [],
   "source": [
    "print(f'Integer value: {42}')"
   ]
  },
  {
   "cell_type": "markdown",
   "metadata": {
    "deletable": false,
    "editable": false,
    "run_control": {
     "frozen": true
    }
   },
   "source": [
    ">`{:+04d}` Integer with 4 total characters, leading zeros, and the +/- sign"
   ]
  },
  {
   "cell_type": "code",
   "execution_count": null,
   "metadata": {},
   "outputs": [],
   "source": [
    "print(f'Integer value: {42}')"
   ]
  },
  {
   "cell_type": "markdown",
   "metadata": {
    "deletable": false,
    "editable": false,
    "run_control": {
     "frozen": true
    }
   },
   "source": [
    ">`{:,d}` Integer with comma separators"
   ]
  },
  {
   "cell_type": "code",
   "execution_count": null,
   "metadata": {},
   "outputs": [],
   "source": [
    "print(f'Integer value: {987654321}')"
   ]
  },
  {
   "cell_type": "markdown",
   "metadata": {
    "deletable": false,
    "editable": false,
    "run_control": {
     "frozen": true
    }
   },
   "source": [
    ">`{:s}` String (although setting the formatting is not really necessary in this case)"
   ]
  },
  {
   "cell_type": "code",
   "execution_count": null,
   "metadata": {},
   "outputs": [],
   "source": [
    "first_name = \"Slim\"\n",
    "last_name = \"Shady\"\n",
    "print(f'My name is {first_name} {last_name}')"
   ]
  },
  {
   "cell_type": "markdown",
   "metadata": {
    "deletable": false,
    "editable": false,
    "run_control": {
     "frozen": true
    }
   },
   "source": [
    "## The `input()` Function\n",
    "\n",
    "The `input()` function is used to request information from a user at a command line so it can be used in a script. It accepts one optional argument; a statement or question to the user so they know what to enter. The argument must be a string. This function always returns whatever the user has typed as a string. You need to specifically convert the returned value to an integer or float if that is what you actually want. The following examples illustrate typical usages.\n",
    "\n",
    "```python\n",
    "user_name = input('What is your name? ')\n",
    "city = input(\"Enter your city of residence: \")\n",
    "applied_load = float(input('Enter the applied load (lbf): '))\n",
    "age = int(input('Enter your current age > '))\n",
    "```\n",
    "\n",
    "Notice that the last two examples have the `input()` function inside of `float()` and `int()` type conversion functions. Since strings are always returned from `input()` functions, you need to convert the result to the type of value desired before performing any calculations. This is an easy way to do it.\n",
    "\n",
    "It is considered good practice to end `input()` function prompt strings with a delimiter of some sort and a space. These examples use common delimiters; question mark (`?`), colon (`:`), and a right arrow (`>`). The delimiter and space helps separate the prompt from the response and makes it easier to read. This is something you should do when writing your own prompts."
   ]
  },
  {
   "cell_type": "markdown",
   "metadata": {
    "deletable": false,
    "editable": false,
    "run_control": {
     "frozen": true
    }
   },
   "source": [
    ">**Practice it**\n",
    ">\n",
    ">Write and execute three `input()` functions with prompts and variable assignments.\n",
    ">\n",
    ">1. Request text-based information\n",
    ">2. Ask for an integer and convert the response\n",
    ">3. Ask for a decimal value and convert the response appropriately as well\n",
    ">\n",
    ">Make sure you end each prompt string with a delimiter and space."
   ]
  },
  {
   "cell_type": "code",
   "execution_count": null,
   "metadata": {},
   "outputs": [],
   "source": []
  },
  {
   "cell_type": "code",
   "execution_count": null,
   "metadata": {},
   "outputs": [],
   "source": []
  },
  {
   "cell_type": "code",
   "execution_count": null,
   "metadata": {},
   "outputs": [],
   "source": []
  },
  {
   "cell_type": "markdown",
   "metadata": {
    "deletable": false,
    "editable": false,
    "run_control": {
     "frozen": true
    }
   },
   "source": [
    "## Scripting and Functions Background\n",
    "\n",
    "Anything that can be done with *Python* from the REPL or in a *Jupyter* notebook can also be done via a script or user-defined function (more efficiently most of the time). Scripts, sometimes called programs, in their simplest form are essentially lists of commands that are executed sequentially (one after another) from top to bottom. The variables used in scripts can be assigned values a number of ways, although only the first two will be explored at this time:\n",
    "\n",
    "1. Assign within the script (hard-coded)\n",
    "2. Ask the user to input a value at a prompt\n",
    "3. Pass when the script is executed\n",
    "4. Load values from a file"
   ]
  },
  {
   "cell_type": "markdown",
   "metadata": {
    "deletable": false,
    "editable": false,
    "run_control": {
     "frozen": true
    }
   },
   "source": [
    "User-defined functions are similar to scripts except they generally receive input by passing arguments instead of using `input()`. For example, when we previously used the `abs()` function, we would pass a value to it for which we wanted to get the absolute value. The expression `abs(-100)` passes `-100` as an argument to the absolute value function. Functions can also be included inside a script or as part of a module. If a function is defined within a script, it must be done before the function is called (used) in the script. Good programming practice says to place all `import` statements at the beginning of scripts and all user-defined functions immediately thereafter.\n",
    "\n",
    "Once a variable name is assigned in a *Python* script it is available for use in commands further down in the script. On the other hand, variables passed into and used in a function are only available to use inside the function. The results generated from performing calculations in scripts can be displayed/output either using the `print()` function or by writing output values to a text file, although only the first will be used at this time. User-defined functions utilize these techniques as well, but more often they just return results back to the calling location. For example, `abs(-100)` returns the value `100`. Not all user-defined functions return values. Those that do not are sometimes called **void functions** and those that do are sometimes called **fruitful functions**.\n",
    "\n",
    "Unlike when strictly working at the command line or from a *Jupyter* notebook interface, you cannot correct for typos, re-execute an expression, and keep going when running a script. You, the programmer, will have to make sure that all of the commands in the script are error free and the script provides the necessary and correct output in an understandable manner. Script files and user-defined functions should include a liberal dose of comments so the programmer and others can understand why things are being done a particular way in the event that changes need to be made in the future."
   ]
  },
  {
   "cell_type": "markdown",
   "metadata": {
    "deletable": false,
    "editable": false,
    "run_control": {
     "frozen": true
    }
   },
   "source": [
    "## Creating, Editing, and Executing a Script\n",
    "\n",
    "Scripts are written as plain text files using text editors. The *Jupyter* environment includes a simple text editor that has syntax highlighting to color commands, functions, values, strings, and other objects. *Python* script files end with a `.py` extension. Executing *Python* scripts can done from a standard command line prompt by typing `python` or `python3` (depending upon the version being used and/or how it is installed) followed by a space and the script name including the extension. For example, executing a script named `my_script.py` with *Python 3.x* is accomplished by typing `python3 script_name.py` and pressing the `[enter]` key.\n",
    "\n",
    "If the script file is located in the same folder/directory as a *Jupyter* notebook, you can execute the script in the notebook environment. To do so for the script named `my_script.py`, execute the expression `run my_script.py` from a code cell. The same technique can be used from within the *iPython* command line environment.\n",
    "\n",
    "Many scripts (probably all of them created in this class) can be executed at a *Python* prompt by importing it. For example, `import my_script` will execute the script named `my_script.py`.\n",
    "\n",
    "It is good practice to include comments at the top of a script file that describes what the script does, units that are used, special conditions, etc. Many people also like to include a comment that includes their name, website, licensing, etc."
   ]
  },
  {
   "cell_type": "markdown",
   "metadata": {
    "deletable": false,
    "editable": false,
    "run_control": {
     "frozen": true
    }
   },
   "source": [
    ">**Practice it: Creating Your First Script File**\n",
    ">\n",
    ">Create a **New** text file named `mph2kph.py`. It is important that you don't have any spaces before or in the script name and that you include the extension. Use the editor to create a short script as outlined below that converts from mph to km/h. Start by copying the provided outline to the new script. \"Hard code\" the value of `mph` instead of using an `input()` for this first script.\n",
    ">\n",
    ">Execute your script from this notebook when done by typing `run mph2kph.py` in the provided code cell."
   ]
  },
  {
   "cell_type": "raw",
   "metadata": {},
   "source": [
    "#==========================================================\n",
    "# this file converts mph to km/h\n",
    "# the conversion factor is 1 mph = 1.609 km/h\n",
    "# \n",
    "# author: brian brady (use your name)\n",
    "# class: MECH 322 (8am, 10am, 3pm)\n",
    "#==========================================================\n",
    "\n",
    "# assign a value to a variable named 'mph'\n",
    "\n",
    "# assign the value 1.609 to a variable named 'conversion'\n",
    "\n",
    "# calculate and assign the speed in km/h to the variable 'kph'\n",
    "\n",
    "# use a print() function to create output similar the following example:\n",
    "# 60 mph is 96.53999999 km/h\n",
    "\n",
    "\n",
    "# end of script"
   ]
  },
  {
   "cell_type": "code",
   "execution_count": null,
   "metadata": {},
   "outputs": [],
   "source": [
    "# Run you script here\n"
   ]
  },
  {
   "cell_type": "markdown",
   "metadata": {
    "deletable": false,
    "editable": false,
    "run_control": {
     "frozen": true
    }
   },
   "source": [
    ">**Practice it**\n",
    ">\n",
    ">Make a duplicate the previous script and name it `mph2kph_input.py`. Instead of assigning a fixed value to `mph`, use an `input()` function that asks the user to enter a speed in mph. You will need to place the `input()` function inside the parentheses of a `float()` function to convert the input value so you can perform calculations with the value. Change the `print()` expression to use formatted output and displays the input speed with no special formatting and the calculated speed with one decimal place. Run the script in the three empty code cells below using three different speeds of your choosing."
   ]
  },
  {
   "cell_type": "code",
   "execution_count": null,
   "metadata": {},
   "outputs": [],
   "source": []
  },
  {
   "cell_type": "code",
   "execution_count": null,
   "metadata": {},
   "outputs": [],
   "source": []
  },
  {
   "cell_type": "code",
   "execution_count": null,
   "metadata": {},
   "outputs": [],
   "source": []
  },
  {
   "cell_type": "markdown",
   "metadata": {
    "deletable": false,
    "editable": false,
    "run_control": {
     "frozen": true
    }
   },
   "source": [
    ">**Practice it**\n",
    ">\n",
    ">Create a script called `windchill.py` that uses `input()` functions to ask the user to enter the air temperature in degrees F and the wind speed in mph then calculates the wind chill temperature $T_{wc}$ in degrees F. \n",
    ">\n",
    ">$\\qquad\\displaystyle T_{wc}=35.74 + 0.6215 \\,T - 35.75 \\,v^{0.16} + 0.4275\\,T \\,v^{0.16} $\n",
    ">\n",
    ">Print the statement **\"xxx degrees F with a wind speed of yyy mph equals a wind chill of zzz degrees F\"** using formatted printing such that the input values have no special formatting and the calculated value is a float with zero decimal places. Include introductory comments with this script that describes what it does, the units being used, and your name (similar to the previous scripts). Test the script three times with the following values:\n",
    ">\n",
    ">- $30^{\\circ}\\text{F}$ with $10 \\text{ mph}$\n",
    ">- $10^{\\circ}\\text{F}$ with $30 \\text{ mph}$\n",
    ">- $-10^{\\circ}\\text{F}$ with $20 \\text{ mph}$\n",
    ">\n",
    ">You should get results of $21^{\\circ}\\text{ F}$, $-12^{\\circ}\\text{ F}$, and $-35^{\\circ}\\text{ F}$.\n"
   ]
  },
  {
   "cell_type": "code",
   "execution_count": null,
   "metadata": {},
   "outputs": [],
   "source": []
  },
  {
   "cell_type": "code",
   "execution_count": null,
   "metadata": {},
   "outputs": [],
   "source": []
  },
  {
   "cell_type": "code",
   "execution_count": null,
   "metadata": {},
   "outputs": [],
   "source": []
  },
  {
   "cell_type": "markdown",
   "metadata": {
    "deletable": false,
    "editable": false,
    "run_control": {
     "frozen": true
    }
   },
   "source": [
    "## Creating User-Defined Functions\n",
    "\n",
    "Notice that in the above script example all of the lines were aligned on the left edge. This is very important when writing scripts in *Python* as indentation is used to group commands for specific purposes. Therefore, the default indentation is no indentation at all. Even a single space at the beginning of a line will generate an error; test it by executing the following cell."
   ]
  },
  {
   "cell_type": "code",
   "execution_count": null,
   "metadata": {},
   "outputs": [],
   "source": [
    "# The following line has a space at the beginning\n",
    " print(\"Spaces are important\")"
   ]
  },
  {
   "attachments": {
    "function%20definition.png": {
     "image/png": "[encoded data removed]"
    }
   },
   "cell_type": "markdown",
   "metadata": {
    "deletable": false,
    "editable": false,
    "run_control": {
     "frozen": true
    }
   },
   "source": [
    "When creating a user-defined function, we will need to indent all commands that belong to the function except the first line in order to signal to *Python* that they belong together. The following image illustrates the basic structure of user-defined functions:\n",
    "\n",
    "![function%20definition.png](attachment:function%20definition.png)"
   ]
  },
  {
   "cell_type": "markdown",
   "metadata": {
    "deletable": false,
    "editable": false,
    "run_control": {
     "frozen": true
    }
   },
   "source": [
    "The first line of the above function definition is called the **function header** and includes a function name followed by names of any arguments (if there are any) that need to be passed into the function. The end of the function header line *must* end with a colon. All other lines must be indented by 4 spaces and are called the **function body**. The body must consist of at least one command. If nothing at all is being done by the function, then the `pass` command must be used. When *Python* reads the `pass` command, it immediately exits the function and returns to where it was. Function definitions may optionally include a **docstring** that is used to display information about the function when `help()` is called with the function name as an argument. The docstring must be enclosed by three double quotes and can span multiple lines."
   ]
  },
  {
   "cell_type": "markdown",
   "metadata": {
    "deletable": false,
    "editable": false,
    "run_control": {
     "frozen": true
    }
   },
   "source": [
    "### Void Functions\n",
    "\n",
    "Functions that do not return any values can be considered to be **void**. They may perform a calculation and print the results, but they don't pass anything back to where they were called. The above function definition is for a void function. In fact, it is a useless void function since it only contains a `pass` command.\n"
   ]
  },
  {
   "cell_type": "markdown",
   "metadata": {
    "deletable": false,
    "editable": false,
    "run_control": {
     "frozen": true
    }
   },
   "source": [
    ">**Practice it**\n",
    ">\n",
    ">Below is a function definition for a void function that simply prints `Hello, World!`. Notice that it does not accept any arguments (the parentheses in the header are empty). Execute the code cell to place the function in memory. Then call the function in the next code cell using `hello()` (make sure that you include the parentheses). Ask for help on the function in the second code cell."
   ]
  },
  {
   "cell_type": "code",
   "execution_count": null,
   "metadata": {},
   "outputs": [],
   "source": [
    "def hello():\n",
    "    \"\"\"This function just prints the phrase 'Hello, World!'\n",
    "    It does not return any results and it does not accept any arguments\n",
    "    \"\"\"\n",
    "    print('Hello, World!')"
   ]
  },
  {
   "cell_type": "code",
   "execution_count": null,
   "metadata": {},
   "outputs": [],
   "source": []
  },
  {
   "cell_type": "code",
   "execution_count": null,
   "metadata": {},
   "outputs": [],
   "source": []
  },
  {
   "cell_type": "markdown",
   "metadata": {
    "deletable": false,
    "editable": false,
    "run_control": {
     "frozen": true
    }
   },
   "source": [
    ">**Practice it**\n",
    ">\n",
    ">The following code block contains another void function that accepts a single argument and prints the result of the argument value multiplied  by $2$. Execute the code cell with the function definition and then execute the function with any numeric argument of your choosing in the next code cell."
   ]
  },
  {
   "cell_type": "code",
   "execution_count": null,
   "metadata": {},
   "outputs": [],
   "source": [
    "def double_me(value):\n",
    "    \"\"\"This function multiplies the argument named value by 2\n",
    "    and prints the result\n",
    "    \"\"\"\n",
    "    doubled_value = value * 2\n",
    "    print(doubled_value)"
   ]
  },
  {
   "cell_type": "code",
   "execution_count": null,
   "metadata": {},
   "outputs": [],
   "source": []
  },
  {
   "cell_type": "markdown",
   "metadata": {
    "deletable": false,
    "editable": false,
    "run_control": {
     "frozen": true
    }
   },
   "source": [
    ">**Practice it**\n",
    ">\n",
    ">This next example is also a void function, but it accepts two arguments. Add an expression in the `print()` function parentheses to multiply the first argument by the second and then execute the code cell to place it in memory. Execute the function in the blank code cell with any pair of numeric values. Notice that the argument names used in this and the previous example are not the same. You can use any valid variable name as a function argument name."
   ]
  },
  {
   "cell_type": "code",
   "execution_count": null,
   "metadata": {},
   "outputs": [],
   "source": [
    "def multiply2(arg1, arg2):\n",
    "    print()"
   ]
  },
  {
   "cell_type": "code",
   "execution_count": null,
   "metadata": {},
   "outputs": [],
   "source": []
  },
  {
   "cell_type": "markdown",
   "metadata": {
    "deletable": false,
    "editable": false,
    "run_control": {
     "frozen": true
    }
   },
   "source": [
    ">**Practice it**\n",
    ">\n",
    ">In the following code cell define a function called `print_mph2kph` that takes one argument named `mph`. The function should convert `mph` to km/h and assign the result to the name `kph`. On the last line of the function print the result so that it reads **\"xxx mph equals yyy km/h\"**, where **\"xxx\"** and **\"yyy\"** are replaced by values of `mph` and `kph`. In the next two empty code cells test the function with two different speeds."
   ]
  },
  {
   "cell_type": "code",
   "execution_count": null,
   "metadata": {},
   "outputs": [],
   "source": []
  },
  {
   "cell_type": "code",
   "execution_count": null,
   "metadata": {},
   "outputs": [],
   "source": []
  },
  {
   "cell_type": "code",
   "execution_count": null,
   "metadata": {},
   "outputs": [],
   "source": []
  },
  {
   "cell_type": "markdown",
   "metadata": {
    "deletable": false,
    "editable": false,
    "run_control": {
     "frozen": true
    }
   },
   "source": [
    "### Fruitful Functions\n",
    "\n",
    "Fruitful functions return a value back to the caller and usually do not create any printed output. In order to return a value (or values) fruitful functions need to have a `return` statement. The `return` is typically located on the last line of a function since *Python* exits the function as soon as a value is returned. More than one value can be returned from a function by including multiple values separated by commas after the `return` statement.  Keep in mind that unlike the `print()` function, `return` is a statement and does not use parentheses. The example below illustrates the general structure of a fruitful function.\n",
    "\n",
    "``` python\n",
    "def my_function(arg1,arg2):\n",
    "    \"\"\"docstring\"\"\"\n",
    "    body line 1\n",
    "    body line 2\n",
    "    return value1, value2\n",
    "```"
   ]
  },
  {
   "cell_type": "markdown",
   "metadata": {
    "deletable": false,
    "editable": false,
    "run_control": {
     "frozen": true
    }
   },
   "source": [
    ">**Practice it**\n",
    ">\n",
    ">The following incomplete function definition is a modification of the `double_me` function called `double_me2`. This time, instead of printing the result of the calculation, the function should `return` the result. Modify the function definition so that it returns `doubled_value`. Execute the code cell to place the function into memory and then test the function in the next two blank code cells with values of your choosing. Assign the result of the function call to the variable name `two_times` in the second test cell and then print `two_times`. Do you remember how to assign a variable name to a calculation?"
   ]
  },
  {
   "cell_type": "code",
   "execution_count": null,
   "metadata": {},
   "outputs": [],
   "source": [
    "def double_me2(value):\n",
    "    \"\"\"This function multiplies the argument named value by 2\n",
    "    and returns the result\n",
    "    \"\"\"\n",
    "    doubled_value = value * 2"
   ]
  },
  {
   "cell_type": "code",
   "execution_count": null,
   "metadata": {},
   "outputs": [],
   "source": []
  },
  {
   "cell_type": "code",
   "execution_count": null,
   "metadata": {},
   "outputs": [],
   "source": []
  },
  {
   "cell_type": "markdown",
   "metadata": {
    "deletable": false,
    "editable": false,
    "run_control": {
     "frozen": true
    }
   },
   "source": [
    "A more **Pythonic** way to define the above function would be to move the calculation to the `return` line. Unless the intermediate variable is needed for another calculation in the function, it is more efficient to just return the calculation directly. \n",
    "\n",
    ">**Practice it**\n",
    ">\n",
    ">Edit the following function definition to perform the calculation on the `return` line and execute the function definition to place it into memory. Then call this new function with a value of your choosing."
   ]
  },
  {
   "cell_type": "code",
   "execution_count": null,
   "metadata": {},
   "outputs": [],
   "source": [
    "def double_me3(value):\n",
    "    \"\"\"This function multiplies the argument named value by 2\n",
    "    and returns the result\n",
    "    \"\"\"\n",
    "    "
   ]
  },
  {
   "cell_type": "code",
   "execution_count": null,
   "metadata": {},
   "outputs": [],
   "source": []
  },
  {
   "cell_type": "markdown",
   "metadata": {
    "deletable": false,
    "editable": false,
    "run_control": {
     "frozen": true
    }
   },
   "source": [
    ">**Practice it**\n",
    ">\n",
    ">The following (incomplete) function named `rectangles` should return the area and perimeter of a rectangle with sides of `width` and `height`. Edit the function definition such that the `return` line includes the calculations for area and perimeter. Execute the function definition then test the function with two different sets of arguments of your choosing.\n",
    ">\n",
    ">For the second test, assign the function call to a set of varibles like so, `(a, p) = rectangles(width, height)` except with your numeric width and height values. The grouping `(a, p)` is referred to as a **tuple** by *Python* and is the *Pythonic* way of assigning multiple values to varaible names at the same time. In the final blank code cell print `a` and `p`."
   ]
  },
  {
   "cell_type": "code",
   "execution_count": null,
   "metadata": {},
   "outputs": [],
   "source": [
    "def rectangles(width, height):\n",
    "    \"\"\"Returns the area and perimeter (in that order) for a rectangle of width and height\"\"\"\n",
    "    return "
   ]
  },
  {
   "cell_type": "code",
   "execution_count": null,
   "metadata": {},
   "outputs": [],
   "source": []
  },
  {
   "cell_type": "code",
   "execution_count": null,
   "metadata": {},
   "outputs": [],
   "source": []
  },
  {
   "cell_type": "code",
   "execution_count": null,
   "metadata": {},
   "outputs": [],
   "source": []
  },
  {
   "cell_type": "markdown",
   "metadata": {
    "deletable": false,
    "editable": false,
    "run_control": {
     "frozen": true
    }
   },
   "source": [
    ">**Practice it**\n",
    ">\n",
    ">Copy the previously created `print_mph2kph` function into the following code cell. Rename this version of the function to `return_mph2kph` and modify the function body such that it returns the speed in km/h but does not print anything. Test this version with the same speeds as above in the provided code cells. In the second code cell, assign the result of the function call to the name `speed` and then `print(speed)`."
   ]
  },
  {
   "cell_type": "code",
   "execution_count": null,
   "metadata": {},
   "outputs": [],
   "source": []
  },
  {
   "cell_type": "code",
   "execution_count": null,
   "metadata": {},
   "outputs": [],
   "source": []
  },
  {
   "cell_type": "code",
   "execution_count": null,
   "metadata": {},
   "outputs": [],
   "source": []
  },
  {
   "cell_type": "markdown",
   "metadata": {
    "deletable": false,
    "editable": false,
    "run_control": {
     "frozen": true
    }
   },
   "source": [
    ">**Practice it**\n",
    ">\n",
    ">Define a function called `windchill` that does the same thing as the script from earlier called `windchill.py` except instead of using `input()` functions to get the air temperature and wind speed it uses two arguments called `tempF` and `vel_mph`. Round the resulting wind chill temperature to zero decimal places. Have the function both print the statement **\"xxx degrees F with a wind speed of yyy mph equals a wind chill of zzz degrees F\"** and return the wind chill temperature. Include a docstring with this function.\n",
    ">\n",
    ">$\\displaystyle T_{wc}=35.74 + 0.6215 \\,T - 35.75 \\,v^{0.16} + 0.4275\\,T \\,v^{0.16} $\n",
    ">\n",
    ">Test the function three times with the following values:\n",
    ">- $30^{\\circ}\\text{F}$ with $30 \\text{ mph}$\n",
    ">- $20^{\\circ}\\text{F}$ with $20 \\text{ mph}$\n",
    ">- $10^{\\circ}\\text{F}$ with $10 \\text{ mph}$\n",
    ">\n",
    ">You should get results of $15^{\\circ}\\text{F}$, $4^{\\circ}\\text{F}$, and $-4^{\\circ}\\text{F}$."
   ]
  },
  {
   "cell_type": "code",
   "execution_count": null,
   "metadata": {},
   "outputs": [],
   "source": []
  },
  {
   "cell_type": "code",
   "execution_count": null,
   "metadata": {},
   "outputs": [],
   "source": []
  },
  {
   "cell_type": "code",
   "execution_count": null,
   "metadata": {},
   "outputs": [],
   "source": []
  },
  {
   "cell_type": "code",
   "execution_count": null,
   "metadata": {},
   "outputs": [],
   "source": []
  },
  {
   "cell_type": "markdown",
   "metadata": {
    "deletable": false,
    "editable": false,
    "run_control": {
     "frozen": true
    }
   },
   "source": [
    ">**Wrap it up**\n",
    ">\n",
    ">Execute the code cell below to create a time and date stamp.\n",
    ">\n",
    ">Click on the **Save** button and then **Close and halt** from the **File** menu when you are done. **This is an instructor-led assignment that must be completed before the end of the lab session in order to receive credit.**"
   ]
  },
  {
   "cell_type": "code",
   "execution_count": null,
   "metadata": {
    "deletable": false,
    "editable": false
   },
   "outputs": [],
   "source": [
    "from datetime import datetime\n",
    "from pytz import timezone\n",
    "print(datetime.now(timezone('US/Eastern')))"
   ]
  }
 ],
 "metadata": {
  "kernelspec": {
   "display_name": "Python 3",
   "language": "python",
   "name": "python3"
  },
  "language_info": {
   "codemirror_mode": {
    "name": "ipython",
    "version": 3
   },
   "file_extension": ".py",
   "mimetype": "text/x-python",
   "name": "python",
   "nbconvert_exporter": "python",
   "pygments_lexer": "ipython3",
   "version": "3.7.4"
  },
  "varInspector": {
   "cols": {
    "lenName": 16,
    "lenType": 16,
    "lenVar": 40
   },
   "kernels_config": {
    "python": {
     "delete_cmd_postfix": "",
     "delete_cmd_prefix": "del ",
     "library": "var_list.py",
     "varRefreshCmd": "print(var_dic_list())"
    },
    "r": {
     "delete_cmd_postfix": ") ",
     "delete_cmd_prefix": "rm(",
     "library": "var_list.r",
     "varRefreshCmd": "cat(var_dic_list()) "
    }
   },
   "types_to_exclude": [
    "module",
    "function",
    "builtin_function_or_method",
    "instance",
    "_Feature"
   ],
   "window_display": false
  }
 },
 "nbformat": 4,
 "nbformat_minor": 1
}
