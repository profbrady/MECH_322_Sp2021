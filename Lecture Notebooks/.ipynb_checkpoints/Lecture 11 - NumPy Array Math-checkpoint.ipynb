{
 "cells": [
  {
   "cell_type": "markdown",
   "metadata": {
    "deletable": false,
    "editable": false,
    "run_control": {
     "frozen": true
    }
   },
   "source": [
    "# Lecture 11 - NumPy Array Math\n",
    "___"
   ]
  },
  {
   "cell_type": "code",
   "execution_count": null,
   "metadata": {},
   "outputs": [],
   "source": [
    "name = \"Your name here\"\n",
    "print(\"Name:\", name.upper())"
   ]
  },
  {
   "cell_type": "markdown",
   "metadata": {
    "deletable": false,
    "editable": false,
    "run_control": {
     "frozen": true
    }
   },
   "source": [
    "## Purpose:\n",
    "\n",
    "Much of the power inherent in the NumPy module is in the ability to perform mathematical operations with arrays, not just create them. Scalar values (single values that are not in an array) can be used to operate on arrays of any size; for example, to scale all values up or down by a specific factor. Two arrays of the same size can operate on each other in an element-by-element manner, i.e. each value in an array of distances could be divided by each value in an array of times resulting in the same size array of velocities. Another way that arrays are commonly manipulated in NumPy is to perform linear algebra and matrix operations. These include inverting, transposing, finding determinants, and multiplying arrays. In engineering these operations are used for finding solutions to sets of linear equations (think back to Statics class).\n",
    "\n",
    "This lab will concentrate on scalar-array operations and element-by-element operations. It will also introduce functions for the creation of random numbers (both as scalars and arrays). A number of built-in functions for analyzing arrays will also be introduced. A future lab will focus on the linear algebra and matrix operations that are used to solve systems of simultaneous equations.\n",
    "\n",
    "- Perform math with arrays and scalar objects\n",
    "- Perform math using multiple arrays at the same time\n",
    "- Use NumPy functions on elements in arrays\n",
    "\n",
    "## Instructions\n",
    "\n",
    "1. Replace \"Your name here\" in the cell below the assignment title with your first and last names and then execute the cell using \"Shift-Enter\"\n",
    "2. Execute the time stamp cell \n",
    "3. Follow along with the instructor in class as we learn how to use *Python* and *NumPy* to perform math operations with arrays\n",
    "4. Execute the date stamp cell at the end of the document and submitting your saved `.ipynb` file to *Canvas* for credit"
   ]
  },
  {
   "cell_type": "code",
   "execution_count": null,
   "metadata": {
    "deletable": false,
    "editable": false
   },
   "outputs": [],
   "source": [
    "from datetime import datetime\n",
    "from pytz import timezone\n",
    "print(datetime.now(timezone('US/Eastern')))"
   ]
  },
  {
   "cell_type": "markdown",
   "metadata": {
    "deletable": false,
    "editable": false,
    "run_control": {
     "frozen": true
    }
   },
   "source": [
    "## NumPy Array Review\n",
    "\n",
    "In a previous lab we learned how to create and modify NumPy arrays. We used `np.array()`, `np.arange()`, and `np.linspace()` to create arrays. We also used indexing and slicing to access and modify individual and groups of elements in arrays.\n",
    "\n",
    ">**Practice it**\n",
    ">\n",
    ">Recall that we need to import NumPy in order to use it. Lets do that right away so we don't forget."
   ]
  },
  {
   "cell_type": "code",
   "execution_count": null,
   "metadata": {},
   "outputs": [],
   "source": [
    "import numpy as np"
   ]
  },
  {
   "cell_type": "markdown",
   "metadata": {
    "deletable": false,
    "editable": false,
    "run_control": {
     "frozen": true
    }
   },
   "source": [
    "## Scalar-Array Operations\n",
    "\n",
    "Math operations can be performed with arrays and scalars. These include addition, subtraction, multiplication, division, and exponentiation. For example, you can add the same value to every element in an array or multiply all elements by a value. This functionality is referred to as broadcasting.\n",
    "\n",
    ">**Practice it**\n",
    ">\n",
    ">Execute the following code cell to assign an array to the variable `a` and a scalar to the variable `b`. Then use the remaining cells to perform each of the following scalar-array operations:\n",
    ">- $a+b$\n",
    ">- $a\\times b$\n",
    ">- $a\\div b$\n",
    ">- $b\\div a$\n",
    ">- $a^b$"
   ]
  },
  {
   "cell_type": "code",
   "execution_count": null,
   "metadata": {},
   "outputs": [],
   "source": [
    "a = np.arange(1, 16, 2)\n",
    "b = 1.5"
   ]
  },
  {
   "cell_type": "code",
   "execution_count": null,
   "metadata": {},
   "outputs": [],
   "source": []
  },
  {
   "cell_type": "code",
   "execution_count": null,
   "metadata": {},
   "outputs": [],
   "source": []
  },
  {
   "cell_type": "code",
   "execution_count": null,
   "metadata": {},
   "outputs": [],
   "source": []
  },
  {
   "cell_type": "code",
   "execution_count": null,
   "metadata": {},
   "outputs": [],
   "source": []
  },
  {
   "cell_type": "code",
   "execution_count": null,
   "metadata": {},
   "outputs": [],
   "source": []
  },
  {
   "cell_type": "markdown",
   "metadata": {
    "deletable": false,
    "editable": false,
    "run_control": {
     "frozen": true
    }
   },
   "source": [
    ">**Practice it**\n",
    ">\n",
    ">Let's perform some more scalar-array operations; this time with a two-dimensional array. Execute the first code cell to assign the array to a variable, then peform each of the following scalar-array math operations.\n",
    ">\n",
    ">- $b\\times A$\n",
    ">- $A\\times 10$\n",
    ">- $A + 10$\n",
    ">- $100 - A$\n",
    ">- $A^2$"
   ]
  },
  {
   "cell_type": "code",
   "execution_count": null,
   "metadata": {},
   "outputs": [],
   "source": [
    "A = np.array([[2, 5, 7, 0], [10, 1, 3, 4], [6, 2, 11, 5]])"
   ]
  },
  {
   "cell_type": "code",
   "execution_count": null,
   "metadata": {},
   "outputs": [],
   "source": []
  },
  {
   "cell_type": "code",
   "execution_count": null,
   "metadata": {},
   "outputs": [],
   "source": []
  },
  {
   "cell_type": "code",
   "execution_count": null,
   "metadata": {},
   "outputs": [],
   "source": []
  },
  {
   "cell_type": "code",
   "execution_count": null,
   "metadata": {},
   "outputs": [],
   "source": []
  },
  {
   "cell_type": "code",
   "execution_count": null,
   "metadata": {},
   "outputs": [],
   "source": []
  },
  {
   "cell_type": "markdown",
   "metadata": {
    "deletable": false,
    "editable": false,
    "run_control": {
     "frozen": true
    }
   },
   "source": [
    "## Array-Array Math Operations\n",
    "\n",
    "Arrays of the same size can be used to perform mathematical operations on/with each other. You can perform addition and subtraction on arrays of the same size simply by using the `+` and `-` operators. Element by element multiplication and division is as easy as using the `*` and `/` operators. You can even raise all of the elements in one array to the values of the elements in another array by using the `**` operator.\n",
    "\n",
    ">**Practice it**\n",
    ">\n",
    ">Execute the following code cell to create arrays `vectA` and `vectB`. Perform the following array-array math operations in the remaining code cells.\n",
    ">- $vectA+vectB$\n",
    ">- $vectA\\times vectB$\n",
    ">- $vectB\\div vectA$\n",
    ">- $vectA^{vectB}$"
   ]
  },
  {
   "cell_type": "code",
   "execution_count": null,
   "metadata": {},
   "outputs": [],
   "source": [
    "vectA = np.array([8, 5, 4],float)\n",
    "vectB = np.array([10, 2, 7],float)"
   ]
  },
  {
   "cell_type": "code",
   "execution_count": null,
   "metadata": {},
   "outputs": [],
   "source": []
  },
  {
   "cell_type": "code",
   "execution_count": null,
   "metadata": {},
   "outputs": [],
   "source": []
  },
  {
   "cell_type": "code",
   "execution_count": null,
   "metadata": {},
   "outputs": [],
   "source": []
  },
  {
   "cell_type": "code",
   "execution_count": null,
   "metadata": {},
   "outputs": [],
   "source": []
  },
  {
   "cell_type": "markdown",
   "metadata": {
    "deletable": false,
    "editable": false,
    "run_control": {
     "frozen": true
    }
   },
   "source": [
    ">**Practice it**\n",
    ">\n",
    ">How about another? In the first code cell create two arrays `A` and `B`. Use `np.linspace()` to fill `A` with 5 values starting at 0 and ending at 15. Fill `B` with values starting at 10.0 and ending at 2 (including 2) with a step size of -2. Then use the following cells to:\n",
    ">\n",
    ">- Add both arrays\n",
    ">- Subtract `B` from `A`\n",
    ">- Divide `B` by `A`"
   ]
  },
  {
   "cell_type": "code",
   "execution_count": null,
   "metadata": {},
   "outputs": [],
   "source": []
  },
  {
   "cell_type": "code",
   "execution_count": null,
   "metadata": {},
   "outputs": [],
   "source": []
  },
  {
   "cell_type": "code",
   "execution_count": null,
   "metadata": {},
   "outputs": [],
   "source": []
  },
  {
   "cell_type": "code",
   "execution_count": null,
   "metadata": {},
   "outputs": [],
   "source": []
  },
  {
   "cell_type": "markdown",
   "metadata": {
    "deletable": false,
    "editable": false,
    "run_control": {
     "frozen": true
    }
   },
   "source": [
    "The results so far have likely matched your expectations. However, that may or may not be the case if you try to perform mathematical operations on arrays that are the same size but different shapes.\n",
    "\n",
    ">**Practice it**\n",
    ">\n",
    ">The following code cell creates array `C` that has a single column instead of a single row. This array is no longer one-dimensional from *NumPy's* perspective because it requires two values to describe the size; it is a $5\\times1$ array. Execute the code to create the array and then add it to `B` in the next code cell."
   ]
  },
  {
   "cell_type": "code",
   "execution_count": null,
   "metadata": {},
   "outputs": [],
   "source": [
    "C = np.array([1, 3, 4, 6, 7]).reshape(5,1)\n",
    "C"
   ]
  },
  {
   "cell_type": "code",
   "execution_count": null,
   "metadata": {},
   "outputs": [],
   "source": []
  },
  {
   "cell_type": "markdown",
   "metadata": {
    "deletable": false,
    "editable": false,
    "run_control": {
     "frozen": true
    }
   },
   "source": [
    ">**Practice it**\n",
    ">\n",
    ">Try a few more element by element math operations using arrays.\n",
    ">\n",
    ">1. Create an array named `x` with a range of integers from 1 to 8 inclusive\n",
    ">1. Calculate $x^2 - 4x$ using the array `x` and assign the new array to the variable `y` then display it\n",
    ">1. Create two arrays `a` and `b` such that `a` has 9 equally spaced values between 1 and 9 and `b` has 9 equally spaced values between 0.25 and 0.5\n",
    ">1. Calculate $\\displaystyle \\frac{5a\\,b^{1.2}}{a-2b} $ using arrays `a` and `b` and name the resulting array `c` then display it"
   ]
  },
  {
   "cell_type": "code",
   "execution_count": null,
   "metadata": {},
   "outputs": [],
   "source": []
  },
  {
   "cell_type": "code",
   "execution_count": null,
   "metadata": {},
   "outputs": [],
   "source": []
  },
  {
   "cell_type": "code",
   "execution_count": null,
   "metadata": {},
   "outputs": [],
   "source": []
  },
  {
   "cell_type": "code",
   "execution_count": null,
   "metadata": {},
   "outputs": [],
   "source": []
  },
  {
   "cell_type": "markdown",
   "metadata": {
    "deletable": false,
    "editable": false,
    "run_control": {
     "frozen": true
    }
   },
   "source": [
    "## Using Math Functions with Arrays\n",
    "\n",
    "When using mathematical functions on numeric values in arrays, the `math` module is not the best choice. Functions (and constants) in this module are designed to work on scalar values, not arrays of values. Therefore, *NumPy* includes its own mathematical functions and constants that are designed to work with arrays of values. For example, use `np.pi` not `math.pi` and `np.sin()` not `math.sin()`. The following table shows some of the most commmon `numpy` math functions that match up to `math` module funtions. It is assumed that the statement `import numpy as np` was used to import the *NumPy* module before executing the functions.\n",
    "\n",
    "| `math`| `numpy` |\n",
    "|:----|:------|\n",
    "| `math.sin(x)` | `np.sin(x)`|\n",
    "| `math.cos(x)` | `np.cos(x)`|\n",
    "| `math.tan(x)` | `np.tan(x)`|\n",
    "| `math.asin(x)` | `np.arcsin(x)`|\n",
    "| `math.acos(x)` | `np.arccos(x)`|\n",
    "| `math.atan(x)` | `np.arctan(x)`|\n",
    "| `math.atan2(y, x)` | `np.arctan2(y, x)`|\n",
    "| `math.hypot(x, y)` | `np.hypot(x, y)`|\n",
    "| `math.radians(x)` | `np.radians(x)`|\n",
    "| `math.degrees(x)` | `np.degrees(x)`|\n",
    "| `math.pi` | `np.pi`|\n",
    "| `math.e` | `np.e`|\n",
    "| `math.exp(x)` | `np.exp(x)`|\n",
    "| `math.log(x)` | `np.log(x)`|\n",
    "| `math.log10()` | `np.log10(x)`|\n",
    "| `math.sin()` | `np.sin(x)`|\n",
    "| `math.round(x)` | `np.round(x)`|\n",
    "| `math.sqrt(x)` | `np.sqrt(x)`|"
   ]
  },
  {
   "cell_type": "markdown",
   "metadata": {
    "deletable": false,
    "editable": false,
    "run_control": {
     "frozen": true
    }
   },
   "source": [
    ">**Practice it**\n",
    ">\n",
    ">Execute the following code cell to create an array of angles named `theta` that range from $0$ to $360^{\\circ}$ in steps of $15^{\\circ}$. Then calculate arrays `x` and `y` using $x=\\cos(\\theta)$ and $y=\\sin(\\theta)$. You will need to use *NumPy's* versions of the cosine, sine, and radians functions to do this. When done, execute the last cell that uses the `tablulate` module to make the results look a bit nicer."
   ]
  },
  {
   "cell_type": "code",
   "execution_count": null,
   "metadata": {},
   "outputs": [],
   "source": [
    "theta = np.arange(0., 361, 15)\n",
    "theta"
   ]
  },
  {
   "cell_type": "code",
   "execution_count": null,
   "metadata": {},
   "outputs": [],
   "source": [
    "# calculate 'x'"
   ]
  },
  {
   "cell_type": "code",
   "execution_count": null,
   "metadata": {},
   "outputs": [],
   "source": [
    "# calculate 'y'"
   ]
  },
  {
   "cell_type": "code",
   "execution_count": null,
   "metadata": {},
   "outputs": [],
   "source": [
    "from tabulate import tabulate\n",
    "print(tabulate(zip(theta, x, y),[\"Degrees\", \"x   \", \"y   \"],floatfmt=('3.0f','+0.4f','+0.4f')))"
   ]
  },
  {
   "cell_type": "markdown",
   "metadata": {
    "deletable": false,
    "editable": false,
    "run_control": {
     "frozen": true
    }
   },
   "source": [
    ">**Practice it**\n",
    ">\n",
    ">Execute the cell below and then perform the following math functions on array `q`. Remember to use the correct *NumPy* math functions.\n",
    ">- $\\ln{q}$\n",
    ">- $\\sqrt{q}$\n",
    ">- $e^q$"
   ]
  },
  {
   "cell_type": "code",
   "execution_count": null,
   "metadata": {},
   "outputs": [],
   "source": [
    "q = np.arange(1,6,dtype=\"float\")\n",
    "q"
   ]
  },
  {
   "cell_type": "code",
   "execution_count": null,
   "metadata": {},
   "outputs": [],
   "source": []
  },
  {
   "cell_type": "code",
   "execution_count": null,
   "metadata": {},
   "outputs": [],
   "source": []
  },
  {
   "cell_type": "code",
   "execution_count": null,
   "metadata": {},
   "outputs": [],
   "source": []
  },
  {
   "cell_type": "markdown",
   "metadata": {
    "deletable": false,
    "editable": false,
    "run_control": {
     "frozen": true
    }
   },
   "source": [
    "## NumPy Statistical Functions (and a Few More)\n",
    "\n",
    "*NumPy* offers a number of functions that can be used perform statistical analysis on values in arrays. The following list describes the most common of these functions plus a few more helpful functions. The descriptions are based on one-dimensional arrays (which are the most common).\n",
    "\n",
    "| `numpy` Function | Description |\n",
    "|:---|:---|\n",
    "|`np.sum()` | Sum the values |\n",
    "|`np.mean()` | Arithmetic mean |\n",
    "|`np.median()` | Median value |\n",
    "|`np.std()` | Standard deviation |\n",
    "|`np.var()` | Variance |\n",
    "|`np.max()` | Maximum value |\n",
    "|`np.argmax()` | Index of the maximum value |\n",
    "|`np.min()` | Minimum value |\n",
    "|`np.argmin()` | Index of the minimum value |\n",
    "|`np.sort()` | Create a sorted copy |\n"
   ]
  },
  {
   "cell_type": "markdown",
   "metadata": {
    "deletable": false,
    "editable": false,
    "run_control": {
     "frozen": true
    }
   },
   "source": [
    ">**Practice it**\n",
    ">\n",
    ">Execute the next code cell to create array `A`. In the remaining blank code cells perform each of the following operations on `A`:\n",
    ">- Compute the mean\n",
    ">- Compute the median\n",
    ">- Compute the standard deviation\n",
    ">- Return the maximum value and its location\n",
    ">- Return the minimum value\n",
    ">- Sum all of the values\n",
    ">- Sort the array"
   ]
  },
  {
   "cell_type": "code",
   "execution_count": null,
   "metadata": {},
   "outputs": [],
   "source": [
    "A = np.array([2, 5, 9, 13, 12, 10])"
   ]
  },
  {
   "cell_type": "code",
   "execution_count": null,
   "metadata": {},
   "outputs": [],
   "source": [
    "# compute the mean"
   ]
  },
  {
   "cell_type": "code",
   "execution_count": null,
   "metadata": {},
   "outputs": [],
   "source": [
    "# compute the median"
   ]
  },
  {
   "cell_type": "code",
   "execution_count": null,
   "metadata": {},
   "outputs": [],
   "source": [
    "# standard deviation"
   ]
  },
  {
   "cell_type": "code",
   "execution_count": null,
   "metadata": {},
   "outputs": [],
   "source": [
    "# maximum value and its position in the array"
   ]
  },
  {
   "cell_type": "code",
   "execution_count": null,
   "metadata": {},
   "outputs": [],
   "source": [
    "# minimum value"
   ]
  },
  {
   "cell_type": "code",
   "execution_count": null,
   "metadata": {},
   "outputs": [],
   "source": [
    "# add all of the values"
   ]
  },
  {
   "cell_type": "code",
   "execution_count": null,
   "metadata": {},
   "outputs": [],
   "source": [
    "# make a sorted copy"
   ]
  },
  {
   "cell_type": "markdown",
   "metadata": {
    "deletable": false,
    "editable": false,
    "run_control": {
     "frozen": true
    }
   },
   "source": [
    ">**Practice it**\n",
    ">\n",
    ">See what each of the following *NumPy* functions do with the values from `A` (above) by executing the following code cells."
   ]
  },
  {
   "cell_type": "code",
   "execution_count": null,
   "metadata": {},
   "outputs": [],
   "source": [
    "np.cumsum(A)            # cumulative sum"
   ]
  },
  {
   "cell_type": "code",
   "execution_count": null,
   "metadata": {},
   "outputs": [],
   "source": [
    "np.prod(A)              # product"
   ]
  },
  {
   "cell_type": "code",
   "execution_count": null,
   "metadata": {},
   "outputs": [],
   "source": [
    "np.cumprod(A)           # cumulative product"
   ]
  },
  {
   "cell_type": "markdown",
   "metadata": {
    "deletable": false,
    "editable": false,
    "run_control": {
     "frozen": true
    }
   },
   "source": [
    "## Random Number Generation \n",
    "\n",
    "Within `numpy` there is a random number module called `random`. After importing *NumPy*, you would need to use `np.random.rand()` in order to use the `rand()` function. The following table describes a number of the random functions that are available available. When a range is given as $[0,1)$ it means between $0$ and $1$, including $0$ but not including $1$.\n",
    "\n",
    "| Function | Description |\n",
    "|:---|:---|\n",
    "| `np.random.rand()` | Random float from a uniform distribution over $[0, 1)$ |\n",
    "| `np.random.rand(x)` | Array of `x` random floats from a uniform distribution over $[0, 1)$ |\n",
    "| `np.random.rand(r, c)` | An $r\\times c$ array of random floats from a uniform distribution over $[0, 1)$ |\n",
    "| `np.random.randint(x)` | A random integer from $[0, x)$ |\n",
    "| `np.random.randint(low, high)` | A random integer from $[low, high)$ |\n",
    "| `np.random.randint(low, high, size)` | Array of length `size` filled with random integers from $[low, high)$ |\n",
    "| `np.random.randint(low, high, (r, c))` | An $r\\times c$ array of random integers from $[low, high)$ |\n",
    "| `np.random.randn()` | A random value from a normal distribution of mean $0$ and variance of $1$ |\n",
    "| `np.random.randn(x)` | Array of `x` random values from a normal distribution |\n",
    "| `np.random.randn(r, c)` | $r\\times c$ array of random values from a normal distribution |\n",
    "| `np.random.shuffle(arr)` | Randomly shuffle array `arr` in place |\n",
    "\n",
    "You can use `(low - high)*np.random.rand() + low` to generate a random floating point value between `low` and `high`."
   ]
  },
  {
   "cell_type": "markdown",
   "metadata": {
    "deletable": false,
    "editable": false,
    "run_control": {
     "frozen": true
    }
   },
   "source": [
    ">**Practice it**\n",
    ">\n",
    ">Use functions from the above table to perform the following tasks:\n",
    ">1. Generate a single random float\n",
    ">1. Generate 5 random integers between 1 and 6, inclusive\n",
    ">1. Shuffle and then print all integers from 1 to 10, inclusive\n",
    ">1. Generate a random integer from 1 to 100, inclusive\n",
    ">1. Generate an array of 10 random integers from 0 to 9, inclusive"
   ]
  },
  {
   "cell_type": "code",
   "execution_count": null,
   "metadata": {},
   "outputs": [],
   "source": [
    "# single random float"
   ]
  },
  {
   "cell_type": "code",
   "execution_count": null,
   "metadata": {},
   "outputs": [],
   "source": [
    "# 5 random integers between 1 and 6, inclusive"
   ]
  },
  {
   "cell_type": "code",
   "execution_count": null,
   "metadata": {},
   "outputs": [],
   "source": [
    "# shuffle and print all integers from 1 to 10, inclusive"
   ]
  },
  {
   "cell_type": "code",
   "execution_count": null,
   "metadata": {},
   "outputs": [],
   "source": [
    "# random integer from 1 to 100, inclusive"
   ]
  },
  {
   "cell_type": "code",
   "execution_count": null,
   "metadata": {},
   "outputs": [],
   "source": [
    "# 10 random integers from 0 to 9, inclusive"
   ]
  },
  {
   "cell_type": "markdown",
   "metadata": {
    "deletable": false,
    "editable": false,
    "run_control": {
     "frozen": true
    }
   },
   "source": [
    ">**Practice it**\n",
    ">\n",
    ">The following code cell generates a number of normally distributed values with a particular mean and variance. Change the values of `v` and `m` so see how it effects the results."
   ]
  },
  {
   "cell_type": "code",
   "execution_count": null,
   "metadata": {},
   "outputs": [],
   "source": [
    "v = 4\n",
    "m = 50\n",
    "np.random.randn(10)*4 + 50  # 10 element array, mean = m, variance = v"
   ]
  },
  {
   "cell_type": "markdown",
   "metadata": {
    "deletable": false,
    "editable": false,
    "run_control": {
     "frozen": true
    }
   },
   "source": [
    ">**Wrap it up**\n",
    ">\n",
    ">Execute the time stamp code cell below to show the time and date you finished and tested this script.\n",
    ">\n",
    ">Click on the **Save** button and then the **Close and halt** button when you are done. **This is an instructor-led assignment that must be completed before the end of the lab session in order to receive credit.**"
   ]
  },
  {
   "cell_type": "code",
   "execution_count": null,
   "metadata": {
    "deletable": false,
    "editable": false
   },
   "outputs": [],
   "source": [
    "from datetime import datetime\n",
    "from pytz import timezone\n",
    "print(datetime.now(timezone('US/Eastern')))"
   ]
  }
 ],
 "metadata": {
  "kernelspec": {
   "display_name": "Python 3",
   "language": "python",
   "name": "python3"
  },
  "language_info": {
   "codemirror_mode": {
    "name": "ipython",
    "version": 3
   },
   "file_extension": ".py",
   "mimetype": "text/x-python",
   "name": "python",
   "nbconvert_exporter": "python",
   "pygments_lexer": "ipython3",
   "version": "3.7.4"
  },
  "varInspector": {
   "cols": {
    "lenName": 16,
    "lenType": 16,
    "lenVar": 40
   },
   "kernels_config": {
    "python": {
     "delete_cmd_postfix": "",
     "delete_cmd_prefix": "del ",
     "library": "var_list.py",
     "varRefreshCmd": "print(var_dic_list())"
    },
    "r": {
     "delete_cmd_postfix": ") ",
     "delete_cmd_prefix": "rm(",
     "library": "var_list.r",
     "varRefreshCmd": "cat(var_dic_list()) "
    }
   },
   "types_to_exclude": [
    "module",
    "function",
    "builtin_function_or_method",
    "instance",
    "_Feature"
   ],
   "window_display": false
  }
 },
 "nbformat": 4,
 "nbformat_minor": 1
}
