{
 "cells": [
  {
   "cell_type": "markdown",
   "metadata": {
    "deletable": false,
    "editable": false,
    "run_control": {
     "frozen": true
    }
   },
   "source": [
    "# Lecture 5 - Python Lists and Tuples\n",
    "___\n",
    "___"
   ]
  },
  {
   "cell_type": "markdown",
   "metadata": {
    "deletable": false,
    "editable": false,
    "run_control": {
     "frozen": true
    }
   },
   "source": [
    "## Purpose\n",
    "\n",
    "- Create lists\n",
    "- Create tuples\n",
    "- Access individual characters in lists and tuples\n",
    "- List and tuple slicing\n",
    "- Learn about list methods\n",
    "- Use select list methods\n"
   ]
  },
  {
   "cell_type": "markdown",
   "metadata": {
    "deletable": false,
    "editable": false,
    "run_control": {
     "frozen": true
    }
   },
   "source": [
    "## Some Creative Commons Reference Sources for This Material\n",
    "\n",
    "- *Think Python 2nd Edition*, Allen Downey, chapter 10\n",
    "- *The Coder's Apprentice*, Pieter Spronck, chapters 11 and 12\n",
    "- *A Practical Introduction to Python Programming*, Brian Heinold, chapters 7 and 8\n",
    "- *Algorithmic Problem Solving with Python*, John Schneider, Shira Broschat, and Jess Dahmen, chapters 6 and 7"
   ]
  },
  {
   "cell_type": "markdown",
   "metadata": {
    "deletable": false,
    "editable": false,
    "run_control": {
     "frozen": true
    }
   },
   "source": [
    "## Creating Lists\n",
    "\n",
    "- Two data types can hold multiple objects\n",
    "  - **lists** \n",
    "  - **tuples**\n",
    "- Lists can be used to store different object types in the same structure, such as..\n",
    "  - Integers\n",
    "  - Floats\n",
    "  - Strings\n",
    "  - Lists\n",
    "  - Others\n",
    "- Defined by surrounding the objects with square brackets **`[]`** and separating with commas\n",
    "- For example, **`[1, 2, 3, 4.5, \"knights\", [5, 6, 7]]`**\n",
    "- Most lists will contain one type\n",
    "  - Numeric values \n",
    "  - Strings\n",
    "- Empty lists are created by...\n",
    "  - Using an empty set of square brackets, i.e. **`empty_list = []`**\n",
    "  - Using the **`list()`** function, i.e. **`empty_list = list()`**\n",
    "- Mutable; i.e. can change, add, and remove items in lists"
   ]
  },
  {
   "cell_type": "markdown",
   "metadata": {
    "deletable": false,
    "editable": false,
    "run_control": {
     "frozen": true
    }
   },
   "source": [
    "___\n",
    "**Practice it**\n",
    "\n",
    "Try it for yourself in the following code cell. Create a list of 10 items that has a mix of object types; including integers, floats, and strings."
   ]
  },
  {
   "cell_type": "code",
   "execution_count": null,
   "metadata": {},
   "outputs": [],
   "source": []
  },
  {
   "cell_type": "markdown",
   "metadata": {
    "deletable": false,
    "editable": false,
    "run_control": {
     "frozen": true
    }
   },
   "source": [
    "## Creating Tuples\n",
    "\n",
    "- **Tuples** are similar to lists\n",
    "- Constructed using parentheses instead of square brackets; i.e. **`my_tuple = (1, 2, 3)`**\n",
    "- Tuples can contain the same mix of data types as lists do\n",
    "- Sometimes you can create a tuple without using parentheses, but parentheses are preferred for clarity\n",
    "- Used in functions that return more than one value\n",
    "- Will be used later when creating $(x, y)$ and $(x, y, z)$ vectors.\n",
    "- Convert lists and some other data types into tuples using the **`tuple()`** function\n",
    "- Can create a tuple with a single item, i.e. **`my_tuple = (4,)`**\n",
    "- Immutable, i.e. cannot change, add or remove items in tuples"
   ]
  },
  {
   "cell_type": "markdown",
   "metadata": {
    "deletable": false,
    "editable": false,
    "run_control": {
     "frozen": true
    }
   },
   "source": [
    "___\n",
    "**Practice it**\n",
    "\n",
    "Try it for yourself in the following code cell. Create a tuple of 5 items that has a mix of object types; including integers, floats, and strings."
   ]
  },
  {
   "cell_type": "code",
   "execution_count": null,
   "metadata": {},
   "outputs": [],
   "source": []
  },
  {
   "cell_type": "markdown",
   "metadata": {
    "deletable": false,
    "editable": false,
    "run_control": {
     "frozen": true
    }
   },
   "source": [
    "## The **`range()`** and **`list()`** Functions\n",
    "\n",
    "- Use the **`range()`** function to create an iterable of evenly spaced values\n",
    "- **`range()`** accepts up to three integer arguments\n",
    "  - Start value\n",
    "  - End value\n",
    "  - Step size\n",
    "- Creates mathematics refers to as a half-open range; the end value is not included in the range\n",
    "- If one argument...\n",
    "  - **`range(x)`**\n",
    "  - The range includes all integers from **`0`** to **`x-1`**\n",
    "  - **`range(10)`** creates an iterable of all integers from 0 to 9, inclusive\n",
    "- If two arguments...\n",
    "  - **`range(a, b)`**\n",
    "  - The range includes all integers from **`a`** to **`b-1`**\n",
    "  - **`range(4, 8)`** includes all integers from 4 to 7, inclusive\n",
    "- If three arguments...\n",
    "  - **`range(a, b, c)`**\n",
    "  - The range includes all integers from **`a`** to **`b-1`** in steps of **`c`**\n",
    "  - **`range(3, 10, 2)`** includes all odd integers from 3 to 9, inclusive\n",
    "  - **`b`** must be greater than **`a`** for positive steps\n",
    "  - **`b`** must be less than **`a`** for negative steps\n",
    "- **`range(10)`** does not create a list but can be used like a list\n",
    "- Convert a range into a list using the **`list()`** function\n",
    "  - **`list(range(10))`** creates the list **`[0, 1, 2, 3, 4, 5, 6, 7, 8, 9]`**"
   ]
  },
  {
   "cell_type": "markdown",
   "metadata": {
    "deletable": false,
    "editable": false,
    "run_control": {
     "frozen": true
    }
   },
   "source": [
    "___\n",
    "**Practice it**\n",
    "\n",
    "- Print **`range(8)`**\n",
    "- Print **`range(8)`** after converting it to a list"
   ]
  },
  {
   "cell_type": "code",
   "execution_count": null,
   "metadata": {},
   "outputs": [],
   "source": []
  },
  {
   "cell_type": "code",
   "execution_count": null,
   "metadata": {},
   "outputs": [],
   "source": []
  },
  {
   "cell_type": "markdown",
   "metadata": {
    "deletable": false,
    "editable": false,
    "run_control": {
     "frozen": true
    }
   },
   "source": [
    "___\n",
    "**Practice it**\n",
    "\n",
    "In the provided code cells use **`range()`** together with **`list()`** to create the following lists\n",
    "\n",
    "1. All integers from $0$ to $6$, including $6$\n",
    "1. All integers from $10$ to $3$ inclusive, starting with $10$ (think of the step size)\n",
    "1. Every third integer from $1$ to $21$, including $21$"
   ]
  },
  {
   "cell_type": "code",
   "execution_count": null,
   "metadata": {},
   "outputs": [],
   "source": [
    "# all integers from 0 to 6 inclusive\n"
   ]
  },
  {
   "cell_type": "code",
   "execution_count": null,
   "metadata": {},
   "outputs": [],
   "source": [
    "# all integers from 10 to 3 inclusive, starting with 10\n"
   ]
  },
  {
   "cell_type": "code",
   "execution_count": null,
   "metadata": {},
   "outputs": [],
   "source": [
    "# every third integer from 1 to 21, including 21\n"
   ]
  },
  {
   "cell_type": "markdown",
   "metadata": {
    "deletable": false,
    "editable": false,
    "run_control": {
     "frozen": true
    }
   },
   "source": [
    "## List Functions\n",
    "\n",
    "- **`len()`** returns the number of objects in a list\n",
    "- For example, **`len([0, 1, 2, 3, 4])`** will return 5\n",
    "- **`[0, 1, 2, 3, [4, 5, 6]]`** also has 5 objects\n",
    "- List functions that work with lists of numbers only\n",
    "  - **`sum()`**\n",
    "  - **`max()`**\n",
    "  - **`min()`**\n",
    "- **`del()`** is used to completely delete a list, so be careful if you decide to use it"
   ]
  },
  {
   "cell_type": "markdown",
   "metadata": {
    "deletable": false,
    "editable": false,
    "run_control": {
     "frozen": true
    }
   },
   "source": [
    "___\n",
    "**Practice it**\n",
    "\n",
    "- In the first code cell manually create a numeric list called **`number_list`** that contains a mix of integers and floats and has more than 10 values\n",
    "- In the remaining cells use functions to find...\n",
    "    - the number of values in the list\n",
    "    - the sum of all the items in the list\n",
    "    - the maximum value in the list\n",
    "    - the minimum value in the list"
   ]
  },
  {
   "cell_type": "code",
   "execution_count": null,
   "metadata": {},
   "outputs": [],
   "source": [
    "# your list\n"
   ]
  },
  {
   "cell_type": "code",
   "execution_count": null,
   "metadata": {},
   "outputs": [],
   "source": [
    "# number of values in number_list\n"
   ]
  },
  {
   "cell_type": "code",
   "execution_count": null,
   "metadata": {},
   "outputs": [],
   "source": [
    "# sum of the values in number_list\n"
   ]
  },
  {
   "cell_type": "code",
   "execution_count": null,
   "metadata": {},
   "outputs": [],
   "source": [
    "# maximum value in number_list\n"
   ]
  },
  {
   "cell_type": "code",
   "execution_count": null,
   "metadata": {},
   "outputs": [],
   "source": [
    "# minimum value in number_list\n"
   ]
  },
  {
   "cell_type": "markdown",
   "metadata": {
    "deletable": false,
    "editable": false,
    "run_control": {
     "frozen": true
    }
   },
   "source": [
    "## Accessing List Items\n",
    "\n",
    "- **List indexing** works the same as string indexing\n",
    "- Lists are zero indexed and square brackets are used to specify the index value\n",
    "- **`my_list[3]`** returns the object in the 3rd index position (4th item)\n",
    "- A **`[-1]`** index accesses the last object in the list\n",
    "\n",
    "```\n",
    "| 0 | 1 | 2 | 3 | 4 | 5 | 6 | <-- Indexing from the left; my_list[3] = 5\n",
    "|===|===|===|===|===|===|===|\n",
    "| 8 | 6 | 7 | 5 | 3 | 0 | 9 | <-- my_list\n",
    "|===|===|===|===|===|===|===|\n",
    "|-7 |-6 |-5 |-4 |-3 |-2 |-1 | <-- Indexing from the right; my_list[-3] = 3\n",
    "```\n",
    "</br>\n",
    "\n",
    "- **List slicing** works just like string slicing\n",
    "- **`my_list[0:3]`**, **`my_list[:3]`**, and **`my_list[0:3:1]`** are the same\n",
    "\n",
    "```\n",
    " 0   1   2   3   4   5   6   7 <-- Slicing from the left; my_list[1:4] = [6, 7, 5]\n",
    " |===|===|===|===|===|===|===|\n",
    " | 8 | 6 | 7 | 5 | 3 | 0 | 9 | <-- my_list\n",
    " |===|===|===|===|===|===|===|\n",
    "-7  -6  -5  -4  -3  -2  -1   | <-- Slicing from the right with positive step; my_list[-5:-2] = [7, 5, 3]\n",
    " |   |   |   |   |   |   |   |\n",
    "-8  -7  -6  -5  -4  -3  -2  -1 <-- Slicing from the right with negative step; my_list[-3:-7:-1] = [3, 5, 7, 6]\n",
    "```\n",
    "Tuples are indexed and sliced exactly the same as lists."
   ]
  },
  {
   "cell_type": "markdown",
   "metadata": {
    "deletable": false,
    "editable": false,
    "run_control": {
     "frozen": true
    }
   },
   "source": [
    "___\n",
    "**Practice it**\n",
    "\n",
    "Use string indexing to access each of the following items your **`number_list`**\n",
    "\n",
    "1. value in the 9th index position (the 10th value when counting starting with 1)\n",
    "1. Second to last value using negative indexing\n",
    "1. 3rd to 7th indexes\n",
    "1. Last 4 values\n",
    "1. Every other value\n",
    "1. All of the values without using any numbers in your slice"
   ]
  },
  {
   "cell_type": "code",
   "execution_count": null,
   "metadata": {},
   "outputs": [],
   "source": [
    "# 9th index (10th value)\n"
   ]
  },
  {
   "cell_type": "code",
   "execution_count": null,
   "metadata": {},
   "outputs": [],
   "source": [
    "# second to last value using negative indexing\n"
   ]
  },
  {
   "cell_type": "code",
   "execution_count": null,
   "metadata": {},
   "outputs": [],
   "source": [
    "# 3rd to 7th indexes\n"
   ]
  },
  {
   "cell_type": "code",
   "execution_count": null,
   "metadata": {},
   "outputs": [],
   "source": [
    "# last 4 values\n"
   ]
  },
  {
   "cell_type": "code",
   "execution_count": null,
   "metadata": {},
   "outputs": [],
   "source": [
    "# every other\n"
   ]
  },
  {
   "cell_type": "code",
   "execution_count": null,
   "metadata": {},
   "outputs": [],
   "source": [
    "# all values without any numbers in the slice\n"
   ]
  },
  {
   "cell_type": "markdown",
   "metadata": {
    "deletable": false,
    "editable": false,
    "run_control": {
     "frozen": true
    }
   },
   "source": [
    "## Changing List Items\n",
    "\n",
    "- Lists are considered **mutable**; ou can change (mutate) the contents of a list after creation\n",
    "- Changing the value of a single item using list indexing\n",
    "  - **`my_list[4] = 12`** changes the value in the 4th index position to 12\n",
    "  - **`my_list[-1] = 10`** changes the last value in the list to 10\n",
    "- Change multiple items using the list slicing syntax\n",
    "  - **`my_list[:5] = [9, 8, 7, 6, 5]`** changes the values of the first 5 items"
   ]
  },
  {
   "cell_type": "markdown",
   "metadata": {
    "deletable": false,
    "editable": false,
    "run_control": {
     "frozen": true
    }
   },
   "source": [
    "___\n",
    "**Practice it**\n",
    "\n",
    "- Change the 7th index of your **`number_list`** to $42$\n",
    "- Replace the last $3$ values by slicing from the right with **`[8, 6, 7]`**"
   ]
  },
  {
   "cell_type": "code",
   "execution_count": null,
   "metadata": {},
   "outputs": [],
   "source": [
    "# 7th index value to 42\n"
   ]
  },
  {
   "cell_type": "code",
   "execution_count": null,
   "metadata": {},
   "outputs": [],
   "source": [
    "# last 3 values with [8, 6, 7] by slicing from the right\n"
   ]
  },
  {
   "cell_type": "markdown",
   "metadata": {
    "deletable": false,
    "editable": false,
    "run_control": {
     "frozen": true
    }
   },
   "source": [
    "## List Methods\n",
    "\n",
    "- **`print(dir(list))`** shows available string methods, functions, and operations\n",
    "- We will look at methods related to...\n",
    "  - Modifiying lists\n",
    "  - Counting\n",
    "  - Searching\n",
    "  - Changing the order of the objects in lists\n",
    "- Since lists are mutable, most of the methods change the original list instead of making a copy\n",
    "\n",
    "</br>\n",
    "\n",
    "___\n",
    "**Practice it**\n",
    "\n",
    "- Execute the expression **`print(dir(list))`** in the following cell."
   ]
  },
  {
   "cell_type": "code",
   "execution_count": null,
   "metadata": {},
   "outputs": [],
   "source": []
  },
  {
   "cell_type": "markdown",
   "metadata": {
    "deletable": false,
    "editable": false,
    "run_control": {
     "frozen": true
    }
   },
   "source": [
    "### Methods for Adding and Removing List Objects\n",
    "\n",
    "- **`.append()`** adds a single object to the end of list\n",
    "  - For **`my_list = [1, 2, 3, 4]`**\n",
    "    - **`my_list.append(5)`** results in **`[1, 2, 3, 4, 5]`**\n",
    "    - **`my_list.append([6, 7])`** results in **`[1, 2, 3, 4, 5, [6, 7]]`**\n",
    "- **`.extend()`** extends a list with the items from another list\n",
    "  - For **`my_list = [1, 2, 3, 4]`**\n",
    "    - **`my_list.extend([5, 6, 7])`** results in **`[1, 2, 3, 4, 5, 6, 7]`**\n",
    "- **`.insert()`** adds items at specific locations within a list\n",
    "  - Two arguments\n",
    "    - Index position for insertion\n",
    "    - Object to insert\n",
    "  - For **`my_list = [1, 2, 3, 4]`**\n",
    "    - **`my_list.insert(3, 12)`** results in **`[1, 2, 3, 12, 4]`**\n",
    "- **`.clear()`** deletes all items in a list, leaving it empty\n",
    "- **`.remove()`** removes the first occurance of the argument value\n",
    "  - For **`my_list = [1, 2, 3, 4]`**\n",
    "    - **`my_list.remove(2)`** results in **`[1, 3, 4]`**\n",
    "- **`.pop()`** removes and returns the value from a specific index position\n",
    "  - No argument, last item is removed and returned\n",
    "  - With an argument, the index position of the argument is removed and returned\n",
    "\n",
    "```\n",
    ">> my_list = [1, 2, 3, 4, 5]\n",
    ">> a = my_list.pop()\n",
    ">> a\n",
    "5\n",
    ">> my_list\n",
    "[1, 2, 3, 4]\n",
    "```"
   ]
  },
  {
   "cell_type": "markdown",
   "metadata": {
    "deletable": false,
    "editable": false,
    "run_control": {
     "frozen": true
    }
   },
   "source": [
    "___\n",
    "**Practice it**\n",
    "\n",
    "1. In the first provided code cell create your own list named **`listy_list`** that consists of at least 10 numeric objects. \n",
    "2. Use each of the following list modification methods (in the order given) on your list. After using each method, print the list (this code is already provided) in the same cell to see what it looks like after the modification.\n",
    "\n",
    "  - **`.append()`** with the value 1000\n",
    "  - **`.extend()`** with the list **`[98, 99, 100]`**\n",
    "  - **`.insert()`** 42 in the 5th index position\n",
    "  - **`.pop()`** the last value\n",
    "  - **`.remove()`** 1000 from the list\n",
    "  - **`.clear()`**"
   ]
  },
  {
   "cell_type": "code",
   "execution_count": null,
   "metadata": {},
   "outputs": [],
   "source": [
    "listy_list =[]"
   ]
  },
  {
   "cell_type": "code",
   "execution_count": null,
   "metadata": {},
   "outputs": [],
   "source": [
    "# append with the value 1000\n",
    "\n",
    "print(listy_list)"
   ]
  },
  {
   "cell_type": "code",
   "execution_count": null,
   "metadata": {},
   "outputs": [],
   "source": [
    "# extend with the list [98, 99, 100]\n",
    "\n",
    "print(listy_list)"
   ]
  },
  {
   "cell_type": "code",
   "execution_count": null,
   "metadata": {},
   "outputs": [],
   "source": [
    "# insert 42 in the 5th index position\n",
    "\n",
    "print(listy_list)"
   ]
  },
  {
   "cell_type": "code",
   "execution_count": null,
   "metadata": {},
   "outputs": [],
   "source": [
    "# pop the last value\n",
    "\n",
    "print(listy_list)"
   ]
  },
  {
   "cell_type": "code",
   "execution_count": null,
   "metadata": {},
   "outputs": [],
   "source": [
    "# remove 1000 from the list\n",
    "\n",
    "print(listy_list)"
   ]
  },
  {
   "cell_type": "code",
   "execution_count": null,
   "metadata": {},
   "outputs": [],
   "source": [
    "# clear\n",
    "\n",
    "print(listy_list)"
   ]
  },
  {
   "cell_type": "markdown",
   "metadata": {
    "deletable": false,
    "editable": false,
    "run_control": {
     "frozen": true
    }
   },
   "source": [
    "### Methods for Counting, Searching, and Changing Order\n",
    "\n",
    "- **`.count()`** counts the number of times a specific object appears in the list\n",
    "  - One argument, the object to be counted\n",
    "  - For **`my_list = [1, 2, 2, 3, 4]`**\n",
    "    - **`my_list.count(2)`** will return the value 2\n",
    "    - **`my_list.count(8)`** will return 0\n",
    "- **`.index()`** finds an object in a list\n",
    "  - If found, it returns the index position of the first occurance of the object\n",
    "  - If not found, it returns an error\n",
    "  - For **`my_list = [1, 2, 3, 4, 5]`**, **`my_list.index(4)`** returns the index 3\n",
    "  - Optional arguments\n",
    "    - Starting index\n",
    "    - Ending index\n",
    "    - **`my_list.index(2, 3, 5)`** looks for 2 starting at index 3 and ending just before the 5th index\n",
    "  - Good idea to check if a value is in a list before using **`.index`**\n",
    "    - **`7 in my_list`** will check if the value 7 is in **`my_list`**\n",
    "- **`.sort()`** will sort a list in ascending order by default\n",
    "  - Must be either numeric or string values only, not a mix\n",
    "  - Using **`my_list.sort(reverse=True)`** will sort the list in descending order\n",
    "- **`.reverse()`** will flip the order of the list\n",
    "- The **`sorted()`** function makes  sorted copy of the list\n",
    "- The **`reversed()`** function makes flipped *copy* of the list as an iterator, not a list"
   ]
  },
  {
   "cell_type": "markdown",
   "metadata": {
    "deletable": false,
    "editable": false,
    "run_control": {
     "frozen": true
    }
   },
   "source": [
    "___\n",
    "**Practice it**\n",
    "\n",
    "Using your **`number_list`** perform the following tasks and print the list (code provided) after each step\n",
    "\n",
    "1. Find the location of **`42`**\n",
    "1. Count the number of times **`8`** appears\n",
    "1. Check to see if **`12`** is in your list using the **`in`** statement\n",
    "1. Reverse the order of the list\n",
    "1. Sort the list in ascending order"
   ]
  },
  {
   "cell_type": "code",
   "execution_count": null,
   "metadata": {},
   "outputs": [],
   "source": [
    "# where is 42\n",
    "\n",
    "print(number_list)"
   ]
  },
  {
   "cell_type": "code",
   "execution_count": null,
   "metadata": {},
   "outputs": [],
   "source": [
    "# how many 8s\n",
    "\n",
    "print(number_list)"
   ]
  },
  {
   "cell_type": "code",
   "execution_count": null,
   "metadata": {},
   "outputs": [],
   "source": [
    "# is 12 in the list\n",
    "\n",
    "print(number_list)"
   ]
  },
  {
   "cell_type": "code",
   "execution_count": null,
   "metadata": {},
   "outputs": [],
   "source": [
    "# reverse the list order\n",
    "\n",
    "print(number_list)"
   ]
  },
  {
   "cell_type": "code",
   "execution_count": null,
   "metadata": {},
   "outputs": [],
   "source": [
    "# sort the list in ascending order\n",
    "\n",
    "print(number_list)"
   ]
  },
  {
   "cell_type": "markdown",
   "metadata": {
    "deletable": false,
    "editable": false,
    "run_control": {
     "frozen": true
    }
   },
   "source": [
    "## The **`.zip()`** Function and Making Tables from Lists\n",
    "\n",
    "- Often there are lists of values/data that would be nice to display together in tabular form\n",
    "- Printing a list or multiple lists does not make a nicely displayed table\n",
    "- The function **`zip()`** connects two or more lists together musch like the teeth in a zipper\n",
    "- **`zip()`** function creates a special iterable object that can be converted to list\n",
    "- To print a **`zip`** object and see the values you have to convert it to a list first\n",
    "\n",
    "</br>\n",
    "\n",
    "___\n",
    "\n",
    "Execute the following code cell to see how two lists are zipped together and printed."
   ]
  },
  {
   "cell_type": "code",
   "execution_count": null,
   "metadata": {},
   "outputs": [],
   "source": [
    "print(list(zip([1, 2, 3, 4, 5],[6, 7, 8, 9, 10])))"
   ]
  },
  {
   "cell_type": "markdown",
   "metadata": {},
   "source": [
    "- A module named **`tabulate`** can make tables from zipped values\n",
    "- In this module is the **`tabulate()`** that needs to be passed into a **`print()`** function\n",
    "- Visit https://bitbucket.org/astanin/python-tabulate for a complete overview of **`tabulate`**\n",
    "- See the example in the code cell below\n",
    "- Other options\n",
    "  - **`tablefmt=`** options are **`\"simple\"`**, **`\"grid\"`**, and **`\"plain\"`**\n",
    "  - Row alignment as **`\"center\"`** or **`\"left\"`** by adding the **`numalign=`** argument\n",
    "  - The argument **`floatfmt=(\".1f\",\".2f\")`** will show...\n",
    "    - The first column with one-decimal place\n",
    "    - The second with two-decimal places"
   ]
  },
  {
   "cell_type": "code",
   "execution_count": null,
   "metadata": {
    "deletable": false,
    "editable": false
   },
   "outputs": [],
   "source": [
    "from tabulate import tabulate"
   ]
  },
  {
   "cell_type": "code",
   "execution_count": null,
   "metadata": {
    "deletable": false,
    "editable": false
   },
   "outputs": [],
   "source": [
    "zipped_lists = list(zip([1, 2, 3, 4, 5],[6, 7, 8, 9, 10]))\n",
    "headers = [\"col 1\", \"col 2\"]\n",
    "print(tabulate(zipped_lists, headers, tablefmt=\"fancy_grid\"))"
   ]
  },
  {
   "cell_type": "markdown",
   "metadata": {
    "deletable": false,
    "editable": false,
    "run_control": {
     "frozen": true
    }
   },
   "source": [
    "___\n",
    "**Practice it**\n",
    "\n",
    "Create two lists named **`list_a`** and **`list_b`**. Use the **`range()`** function to create **`list_a`** with the values **`0, 10, 20, 30, 40, 50, 60, 70, 80, 90, 100`**. Fill **`list_b`** with ten random integers between 0 and 100 (refer to the following example).\n",
    "\n",
    "```python\n",
    "import random\n",
    "random.sample(range(101),10)\n",
    "```\n",
    "\n",
    "Zip together the two lists and create a fancy table with the headings **`tens`** and **`random`**. Center the numbers in the table."
   ]
  },
  {
   "cell_type": "code",
   "execution_count": null,
   "metadata": {},
   "outputs": [],
   "source": [
    "import random"
   ]
  },
  {
   "cell_type": "code",
   "execution_count": null,
   "metadata": {},
   "outputs": [],
   "source": [
    "# use range(), 0 to 100 (inclusive) in steps of 10\n",
    "list_a = "
   ]
  },
  {
   "cell_type": "code",
   "execution_count": null,
   "metadata": {},
   "outputs": [],
   "source": [
    "# use random.sample() like shown above\n",
    "list_b = "
   ]
  },
  {
   "cell_type": "code",
   "execution_count": null,
   "metadata": {},
   "outputs": [],
   "source": [
    "# zip together lists\n"
   ]
  },
  {
   "cell_type": "code",
   "execution_count": null,
   "metadata": {},
   "outputs": [],
   "source": [
    "# create a list of headers\n"
   ]
  },
  {
   "cell_type": "code",
   "execution_count": null,
   "metadata": {},
   "outputs": [],
   "source": [
    "# print the table\n"
   ]
  },
  {
   "cell_type": "markdown",
   "metadata": {
    "deletable": false,
    "editable": false,
    "run_control": {
     "frozen": true
    }
   },
   "source": [
    "## List Related String Methods\n",
    "\n",
    "- The string method **`.split()`** can easily turn a sentence or phrase into a list of words\n",
    "  - Without an argument\n",
    "    - **`.split()`** will split the string at spaces\n",
    "    - **`my_sentence.split()`**\n",
    "  - With an argument\n",
    "    - Argument must be a string with a character in it\n",
    "    - The string will be split at every location the character is found\n",
    "    - **`my_paragraph.split(\".\")`** will split at periods\n",
    "- The string method **`.join()`** can join together a list of strings to create a single string\n",
    "  - Acts on the string that is desired between the strings in the list (often **`\" \"`**)\n",
    "  - Requires the the list as an argument\n",
    "  - **`\" \".join(my_string_list)`**"
   ]
  },
  {
   "cell_type": "code",
   "execution_count": null,
   "metadata": {
    "deletable": false,
    "editable": false
   },
   "outputs": [],
   "source": [
    "# splitting strings\n",
    "\n",
    "my_string = \"Hello, my name is Inigo Montoya, you killed my father, prepare to die.\"\n",
    "my_string_list = my_string.split()\n",
    "print(my_string_list)\n",
    "another_string = \"1,2,3,4,5,6\"\n",
    "print(another_string.split(\",\"))"
   ]
  },
  {
   "cell_type": "code",
   "execution_count": null,
   "metadata": {
    "deletable": false,
    "editable": false
   },
   "outputs": [],
   "source": [
    "# joining a list of strings together\n",
    "\n",
    "\" \".join(my_string_list)"
   ]
  },
  {
   "cell_type": "markdown",
   "metadata": {
    "deletable": false,
    "editable": false,
    "run_control": {
     "frozen": true
    }
   },
   "source": [
    "___\n",
    "**Practice it**\n",
    "\n",
    "- Assign the string **`My name is Brian`** to a variable called **`name`** in the first cell below this one and execute the cell.\n",
    "- In the next cell, use the **`.split()`** method without any arguments on **`name`** and assign the result to **`name_list`**.\n",
    "- Then replace the last item in **`name_list`** with your first name.\n",
    "- Finally, use the **`.join()`** method as shown below to make the list a single string again and assign it back to **`name`**.\n",
    "\n",
    "```python\n",
    "    name = \" \".join(name_list)\n",
    "```"
   ]
  },
  {
   "cell_type": "code",
   "execution_count": null,
   "metadata": {},
   "outputs": [],
   "source": []
  },
  {
   "cell_type": "code",
   "execution_count": null,
   "metadata": {},
   "outputs": [],
   "source": []
  },
  {
   "cell_type": "code",
   "execution_count": null,
   "metadata": {},
   "outputs": [],
   "source": []
  },
  {
   "cell_type": "code",
   "execution_count": null,
   "metadata": {},
   "outputs": [],
   "source": []
  },
  {
   "cell_type": "markdown",
   "metadata": {},
   "source": [
    "**Wrap it up**\n",
    "\n",
    "Click on the **Save** button and then the **Close and halt** button when you are done before closing the tab."
   ]
  }
 ],
 "metadata": {
  "kernelspec": {
   "display_name": "Python 3",
   "language": "python",
   "name": "python3"
  },
  "language_info": {
   "codemirror_mode": {
    "name": "ipython",
    "version": 3
   },
   "file_extension": ".py",
   "mimetype": "text/x-python",
   "name": "python",
   "nbconvert_exporter": "python",
   "pygments_lexer": "ipython3",
   "version": "3.8.5"
  },
  "varInspector": {
   "cols": {
    "lenName": 16,
    "lenType": 16,
    "lenVar": 40
   },
   "kernels_config": {
    "python": {
     "delete_cmd_postfix": "",
     "delete_cmd_prefix": "del ",
     "library": "var_list.py",
     "varRefreshCmd": "print(var_dic_list())"
    },
    "r": {
     "delete_cmd_postfix": ") ",
     "delete_cmd_prefix": "rm(",
     "library": "var_list.r",
     "varRefreshCmd": "cat(var_dic_list()) "
    }
   },
   "types_to_exclude": [
    "module",
    "function",
    "builtin_function_or_method",
    "instance",
    "_Feature"
   ],
   "window_display": false
  }
 },
 "nbformat": 4,
 "nbformat_minor": 4
}