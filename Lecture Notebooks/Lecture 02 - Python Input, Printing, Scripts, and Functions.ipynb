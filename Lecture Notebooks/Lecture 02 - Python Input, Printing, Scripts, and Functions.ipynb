{
  "cells": [
    {
      "cell_type": "markdown",
      "source": [
        "# Lecture 2 - Python Input, Printing, Scripts, and Functions\n",
        "---"
      ],
      "metadata": {
        "deletable": false,
        "editable": false,
        "run_control": {
          "frozen": true
        }
      }
    },
    {
      "cell_type": "code",
      "source": [
        "name = \"Your name here\"\n",
        "print(\"Name:\", name.upper())"
      ],
      "outputs": [],
      "execution_count": null,
      "metadata": {}
    },
    {
      "cell_type": "markdown",
      "source": [
        "## Purpose\n",
        "\n",
        "- Use the **`.format()`** string method to generate specifically formatted output\n",
        "\n",
        "- Use the **`input()`** function to generate interactive input from the user in scripts and user-defined functions\n",
        "\n",
        "- Create, edit, and execute simple scripts using *Python*\n",
        "\n",
        "- Assign values to variable names within scripts\n",
        "\n",
        "- Request user input to assign values to variables in scripts using the **`input()`** function\n",
        "\n",
        "- Create and execute user-defined functions that do and do not accept arguments\n",
        "\n",
        "- Create and execute void and fruitful functions\n",
        "\n",
        "- Use **`print()`** to display output from scripts and user-defined functions"
      ],
      "metadata": {}
    },
    {
      "cell_type": "markdown",
      "source": [
        "## Some Creative Commons Reference Sources for This Material\n",
        "\n",
        "- *Think Python 2nd Edition*, Allen Downey, chapters 3 and 6\n",
        "- *The Coder's Apprentice*, Pieter Spronck, chapters 5 and 8\n",
        "- *A Practical Introduction to Python Programming*, Brian Heinold, chapters 1, 10, 13, and 23\n",
        "- *Algorithmic Problem Solving with Python*, John Schneider, Shira Broschat, and Jess Dahmen, chapters 3 and 4"
      ],
      "metadata": {
        "deletable": false,
        "editable": false,
        "run_control": {
          "frozen": true
        }
      }
    },
    {
      "cell_type": "markdown",
      "source": [
        "## Reviewing the **`print()`** Function\n",
        "\n",
        "Recall that *Python's* **`print()`** function can be used to display numeric values and text strings. Multiple items can be printed using the same **`print()`** function by separating items with commas. *Python* adds a space between items that are separated by a comma.\n",
        "\n",
        "You can force a line return in any string by adding the newline escape sequence **`\\n`**. There are other escape sequences as well. A good one to remember is **`\\t`** for adding a tab. You will notice that multiplying a string by an integer will print the string that number of times.\n"
      ],
      "metadata": {
        "deletable": false,
        "editable": false,
        "run_control": {
          "frozen": true
        }
      }
    },
    {
      "cell_type": "markdown",
      "source": [
        "___\n",
        "**Practice it**\n",
        "\n",
        "Type and execute the following **`print()`** expressions in the following code cell.\n",
        "\n",
        "```python\n",
        "print(\"Python is awesome\")\n",
        "print('Lumberjacks', \"Parrots\", 42)\n",
        "print(4*5)\n",
        "print(2*'Hello')\n",
        "print('Hello,\\nWorld!')\n",
        "```"
      ],
      "metadata": {
        "deletable": false,
        "editable": false,
        "run_control": {
          "frozen": true
        }
      }
    },
    {
      "cell_type": "code",
      "source": [],
      "outputs": [],
      "execution_count": null,
      "metadata": {}
    },
    {
      "cell_type": "markdown",
      "source": [
        "## Functions Versus Methods\n",
        "\n",
        "*Python* uses both **functions** and **methods** to work with/on objects. Methods are a lot like functions in that they can both accept arguments. Their syntax is different though, as is shown in the provided images. Functions usually work with arguments to return a value or do something; like the **`abs()`** or **`print()`** functions. Methods usually work on an object using arguments to either return a value or change the object. We will look at the string **`.format()`** method in this notebook.\n",
        "\n",
        "![Functions.png](Functions.png)\n",
        "\n",
        "![Methods.png](Methods.png)"
      ],
      "metadata": {
        "deletable": false,
        "editable": false,
        "run_control": {
          "frozen": true
        }
      }
    },
    {
      "cell_type": "markdown",
      "source": [
        "## Formatting Printed Output\n",
        "\n",
        "### The **`.format()`** String Method\n",
        "\n",
        "If we include the **`.format()`** string method within a **`print()`** function, we can control exactly how numeric (and non-numeric) values are displayed. The general layout of the **`.format()`** method for a string is as follows:\n",
        "\n",
        "`'The sum of {} and {} is {}'.format(item_1, item_2, item_3)`\n",
        "\n",
        "The expression starts with a string that has curly braces `{}` as placeholders for numeric or string objects. Think of the curly braces as blanks in a fill-in-the-blanks statement. The **`.format()`** method directly follows the closing quote for the string. The arguments located within the method's parentheses are the values (in order) that match the placeholders (blanks) in the string. These may be values and/or expressions.\n",
        "\n",
        "The placeholders themselves can include formatting descriptors to generate very specific formatting, especially for numeric values. Formatting descriptors within braces must be preceded by a colon, i.e. **`{:.2f}`**.\n",
        "\n",
        "The website https://pyformat.info does a good job of explaining various examples of the **`.format()`** method; both simple and complex.\n"
      ],
      "metadata": {
        "deletable": false,
        "editable": false,
        "run_control": {
          "frozen": true
        }
      }
    },
    {
      "cell_type": "markdown",
      "source": [
        "___\n",
        "**Practice it**\n",
        "\n",
        "Display the result of **`22/7`** (an estimate for $\\pi$ that has historically been used by many tool makers and machinists) in a variety of ways using **`print()`** and the **`.format()`** string method. Modify the formatting descriptors within the curly braces in each of the following code cells then execute them.\n",
        "\n",
        "- Using **`print()`** with two arguments and a comma but no formatting"
      ],
      "metadata": {
        "deletable": false,
        "editable": false,
        "run_control": {
          "frozen": true
        }
      }
    },
    {
      "cell_type": "code",
      "source": [
        "# Standard print() without .format()\n",
        "print('pi is close to', 22/7)"
      ],
      "outputs": [],
      "execution_count": null,
      "metadata": {
        "deletable": false,
        "editable": false,
        "run_control": {
          "frozen": true
        }
      }
    },
    {
      "cell_type": "markdown",
      "source": [
        "- `{}` No specific formatting assigned"
      ],
      "metadata": {
        "deletable": false,
        "editable": false,
        "run_control": {
          "frozen": true
        }
      }
    },
    {
      "cell_type": "code",
      "source": [
        "print('pi is close to {}'.format(22/7))"
      ],
      "outputs": [],
      "execution_count": null,
      "metadata": {
        "slideshow": {
          "slide_type": "fragment"
        }
      }
    },
    {
      "cell_type": "markdown",
      "source": [
        "- `{:f}` Standard floating point notation with the default number of decimal places"
      ],
      "metadata": {
        "deletable": false,
        "editable": false,
        "run_control": {
          "frozen": true
        },
        "slideshow": {
          "slide_type": "fragment"
        }
      }
    },
    {
      "cell_type": "code",
      "source": [
        "print('pi is close to {}'.format(22/7))"
      ],
      "outputs": [],
      "execution_count": null,
      "metadata": {
        "slideshow": {
          "slide_type": "fragment"
        }
      }
    },
    {
      "cell_type": "markdown",
      "source": [
        "`{:.4f}` Floating point notation with 4-decimal places"
      ],
      "metadata": {
        "nteract": {
          "transient": {
            "deleting": false
          }
        }
      }
    },
    {
      "cell_type": "code",
      "source": [
        "print('pi is close to {}'.format(22/7))"
      ],
      "outputs": [],
      "execution_count": null,
      "metadata": {
        "collapsed": true,
        "jupyter": {
          "source_hidden": false,
          "outputs_hidden": false
        },
        "nteract": {
          "transient": {
            "deleting": false
          }
        }
      }
    },
    {
      "cell_type": "markdown",
      "source": [
        "### Formatted String Literals (Python 3.6+)\n",
        "\n",
        "New to *Python* starting with version 3.6 are *formatted string literals* or \"*f-strings*\". These work like the **`.format()`** method but in a more direct way. For example, instead of using **`print('pi is close to {}'.format(22/7))`** you can use **`print(f'pi is close to {22/7}')`**. Formatted string literals allow expressions or variables to be placed directly within the curly braces. If special formatting is desired for a value, a colon is added after the expression or variable with the desired formatting after the colon, i.e. **`print(f'pi is close to {22/7:.8f}')`**.\n",
        "\n",
        "___\n",
        "**Practice it**\n",
        "  \n",
        "Modify the formatting descriptors within the curly braces in each of the following code cells then execute them.\n",
        "\n",
        "- **`:f`** Standard floating point notation with the default number of decimal places\n"
      ],
      "metadata": {
        "deletable": false,
        "editable": false,
        "run_control": {
          "frozen": true
        }
      }
    },
    {
      "cell_type": "code",
      "source": [
        "print(f'pi is close to {22/7}')"
      ],
      "outputs": [],
      "execution_count": null,
      "metadata": {}
    },
    {
      "cell_type": "markdown",
      "source": [
        "- **`:.16f`** Standard floating point notation with 16-decimal places"
      ],
      "metadata": {
        "deletable": false,
        "editable": false,
        "run_control": {
          "frozen": true
        }
      }
    },
    {
      "cell_type": "code",
      "source": [
        "print(f'pi is close to {22/7}')"
      ],
      "outputs": [],
      "execution_count": null,
      "metadata": {}
    },
    {
      "cell_type": "markdown",
      "source": [
        "- **`:e`** Exponential notation (use `:E` for uppercase)"
      ],
      "metadata": {
        "deletable": false,
        "editable": false,
        "run_control": {
          "frozen": true
        },
        "slideshow": {
          "slide_type": "fragment"
        }
      }
    },
    {
      "cell_type": "code",
      "source": [
        "print(f'pi is close to {22/7}')"
      ],
      "outputs": [],
      "execution_count": null,
      "metadata": {}
    },
    {
      "cell_type": "markdown",
      "source": [
        "- **`:.12E`** Exponential notation with 12-decimal places"
      ],
      "metadata": {
        "deletable": false,
        "editable": false,
        "run_control": {
          "frozen": true
        },
        "slideshow": {
          "slide_type": "fragment"
        }
      }
    },
    {
      "cell_type": "code",
      "source": [
        "print(f'pi is close to {22/7}')"
      ],
      "outputs": [],
      "execution_count": null,
      "metadata": {}
    },
    {
      "cell_type": "markdown",
      "source": [
        "- **`:g`** Standard or exponential notation, whichever is more efficient (use `G` for uppercase)"
      ],
      "metadata": {
        "deletable": false,
        "editable": false,
        "run_control": {
          "frozen": true
        },
        "slideshow": {
          "slide_type": "fragment"
        }
      }
    },
    {
      "cell_type": "code",
      "source": [
        "print(f'pi is close to {22/7}')"
      ],
      "outputs": [],
      "execution_count": null,
      "metadata": {}
    },
    {
      "cell_type": "markdown",
      "source": [
        "- **`:.12g`** 12-decimal places and automatically use standard or exponential notation, whichever is shorter"
      ],
      "metadata": {
        "deletable": false,
        "editable": false,
        "run_control": {
          "frozen": true
        },
        "slideshow": {
          "slide_type": "fragment"
        }
      }
    },
    {
      "cell_type": "code",
      "source": [
        "print(f'pi is close to {22/7}')"
      ],
      "outputs": [],
      "execution_count": null,
      "metadata": {}
    },
    {
      "cell_type": "markdown",
      "source": [
        "- **`:8.3f`** Total width to 8 characters with 3 to the right of the decimal"
      ],
      "metadata": {
        "deletable": false,
        "editable": false,
        "run_control": {
          "frozen": true
        },
        "slideshow": {
          "slide_type": "fragment"
        }
      }
    },
    {
      "cell_type": "code",
      "source": [
        "print(f'pi is close to {22/7}')"
      ],
      "outputs": [],
      "execution_count": null,
      "metadata": {}
    },
    {
      "cell_type": "markdown",
      "source": [
        "*What does the above formatting descriptor mean?*\n",
        "\n",
        "The `8` means that there are 8 total characters set aside for displaying the number, the `.3` says there are to be 3 digits to the right of the decimal point, and `f` means the value will be formatted as a floating point value.\n",
        "\n",
        "```\n",
        "| | | |3|.|1|4|3|  <= formatted value\n",
        "| | | | | | | | |\n",
        "|8|7|6|5|4|3|2|1|  <= characters set aside for the value\n",
        "```\n",
        "\n",
        "Notice that the decimal point counts as a character. There are 8 total characters set aside to display the value with 3 of them to the right of the decimal point. If all 8 characters are not needed for the value, then *Python* will add spaces to the left in order to use all 8 characters."
      ],
      "metadata": {
        "deletable": false,
        "editable": false,
        "run_control": {
          "frozen": true
        }
      }
    },
    {
      "cell_type": "markdown",
      "source": [
        "- **`:+08.3f`** Same as the previous but with leading zeros and the +/- sign"
      ],
      "metadata": {
        "deletable": false,
        "editable": false,
        "run_control": {
          "frozen": true
        }
      }
    },
    {
      "cell_type": "code",
      "source": [
        "print(f'pi is close to {22/7}')"
      ],
      "outputs": [],
      "execution_count": null,
      "metadata": {}
    },
    {
      "cell_type": "markdown",
      "source": [
        "- **`:.0f`** Force a floating point to display no values right of the decimal (treat it like an integer)"
      ],
      "metadata": {
        "deletable": false,
        "editable": false,
        "run_control": {
          "frozen": true
        }
      }
    },
    {
      "cell_type": "code",
      "source": [
        "print(f'pi is close to {22/7}')"
      ],
      "outputs": [],
      "execution_count": null,
      "metadata": {}
    },
    {
      "cell_type": "markdown",
      "source": [
        "- You can use variables within f-strings as well as values and calculations. Try it by executing the following cell after setting the formatting to 8-decimal places."
      ],
      "metadata": {
        "deletable": false,
        "editable": false,
        "run_control": {
          "frozen": true
        }
      }
    },
    {
      "cell_type": "code",
      "source": [
        "almost_pi = 22/7\n",
        "print(f'pi is close to {almost_pi}')"
      ],
      "outputs": [],
      "execution_count": null,
      "metadata": {}
    },
    {
      "cell_type": "markdown",
      "source": [
        "___\n",
        "**Practice it some more**\n",
        "\n",
        "Here are few more common and useful formatting descriptors. Modify and execute each of them to see the output they generate.\n",
        "\n",
        "- **`:d`** Standard integer (object must be of `int` type)"
      ],
      "metadata": {
        "deletable": false,
        "editable": false,
        "run_control": {
          "frozen": true
        }
      }
    },
    {
      "cell_type": "code",
      "source": [
        "print(f'Integer value: {42}')"
      ],
      "outputs": [],
      "execution_count": null,
      "metadata": {}
    },
    {
      "cell_type": "markdown",
      "source": [
        "- **`:4d`** Integer with 4 total characters"
      ],
      "metadata": {
        "deletable": false,
        "editable": false,
        "run_control": {
          "frozen": true
        }
      }
    },
    {
      "cell_type": "code",
      "source": [
        "print(f'Integer value: {42}')"
      ],
      "outputs": [],
      "execution_count": null,
      "metadata": {}
    },
    {
      "cell_type": "markdown",
      "source": [
        "- **`:04d`** Integer with 4 total characters and leading zeros"
      ],
      "metadata": {
        "deletable": false,
        "editable": false,
        "run_control": {
          "frozen": true
        }
      }
    },
    {
      "cell_type": "code",
      "source": [
        "print(f'Integer value: {42}')"
      ],
      "outputs": [],
      "execution_count": null,
      "metadata": {}
    },
    {
      "cell_type": "markdown",
      "source": [
        "- **`:+04d`** Integer with 4 total characters, leading zeros, and the +/- sign"
      ],
      "metadata": {
        "deletable": false,
        "editable": false,
        "run_control": {
          "frozen": true
        }
      }
    },
    {
      "cell_type": "code",
      "source": [
        "print(f'Integer value: {42}')"
      ],
      "outputs": [],
      "execution_count": null,
      "metadata": {}
    },
    {
      "cell_type": "markdown",
      "source": [
        "- **`:,d`** Integer with comma separators"
      ],
      "metadata": {
        "deletable": false,
        "editable": false,
        "run_control": {
          "frozen": true
        }
      }
    },
    {
      "cell_type": "code",
      "source": [
        "print(f'Integer value: {987654321}')"
      ],
      "outputs": [],
      "execution_count": null,
      "metadata": {}
    },
    {
      "cell_type": "markdown",
      "source": [
        "- **`:s`** String (although setting the formatting is not really necessary in this case)"
      ],
      "metadata": {
        "deletable": false,
        "editable": false,
        "run_control": {
          "frozen": true
        }
      }
    },
    {
      "cell_type": "code",
      "source": [
        "first_name = \"Slim\"\n",
        "last_name = \"Shady\"\n",
        "print(f'I am the real {first_name} {last_name}')"
      ],
      "outputs": [],
      "execution_count": null,
      "metadata": {}
    },
    {
      "cell_type": "markdown",
      "source": [
        "## The **`input()`** Function\n",
        "\n",
        "The **`input()`** function is used to request information from a user at a command line so it can be used in a script. It accepts one optional argument; a statement or question to the user so they know what to enter. The argument must be a string or formatted string. This function always returns whatever the user has typed as a string. You need to specifically convert the returned value to an integer or float if that is what you actually want. The following examples illustrate typical usages.\n",
        "\n",
        "```python\n",
        "user_name = input('What is your name? ')\n",
        "city = input(\"Enter your city of residence: \")\n",
        "applied_load = float(input('Enter the applied load (lbf): '))\n",
        "age = int(input('Enter your current age > '))\n",
        "```\n",
        "\n",
        "Notice that the last two examples have the **`input()`** function inside of **`float()`** and **`int()`** type conversion functions. Since strings are always returned from **`input()`** functions, you need to convert the result to the type of value desired before performing any calculations. This is an easy way to do it.\n",
        "\n",
        "It is considered good practice to end **`input()`** function prompt strings with a delimiter of some sort and a space. These examples use common delimiters; question mark (`?`), colon (`:`), and a right arrow (`>`). The delimiter and space helps separate the prompt from the response and makes it easier to read. This is something you should do when writing your own prompts."
      ],
      "metadata": {
        "deletable": false,
        "editable": false,
        "run_control": {
          "frozen": true
        }
      }
    },
    {
      "cell_type": "markdown",
      "source": [
        "___\n",
        "**Practice it**\n",
        "\n",
        "Write and execute three **`input()`** functions with prompts and variable assignments.\n",
        "\n",
        "1. Request text-based information\n",
        "2. Ask for an integer and convert the response to such\n",
        "3. Ask for a decimal value and convert the response appropriately as well\n",
        "\n",
        "Make sure you end each prompt string with a delimiter and space."
      ],
      "metadata": {
        "deletable": false,
        "editable": false,
        "run_control": {
          "frozen": true
        }
      }
    },
    {
      "cell_type": "code",
      "source": [],
      "outputs": [],
      "execution_count": null,
      "metadata": {}
    },
    {
      "cell_type": "code",
      "source": [],
      "outputs": [],
      "execution_count": null,
      "metadata": {}
    },
    {
      "cell_type": "code",
      "source": [],
      "outputs": [],
      "execution_count": null,
      "metadata": {}
    },
    {
      "cell_type": "markdown",
      "source": [
        "## Scripting and Functions Background\n",
        "\n",
        "Anything that can be done with *Python* from the REPL or in a *Jupyter* notebook can also be done via a script or user-defined function. Quite often it is more efficient to do so as well. Scripts, sometimes called programs, in their simplest form are essentially lists of commands that are executed sequentially (one after another) from top to bottom. The variables used in scripts can be assigned values a number of ways, although only the first two will be explored at this time:\n",
        "\n",
        "1. Assign within the script (hard-coded)\n",
        "2. Ask the user to input a value at a prompt\n",
        "3. Pass when the script is executed\n",
        "4. Load values from a file"
      ],
      "metadata": {
        "deletable": false,
        "editable": false,
        "run_control": {
          "frozen": true
        }
      }
    },
    {
      "cell_type": "markdown",
      "source": [
        "User-defined functions are similar to scripts except they generally receive input by passing arguments instead of using **`input()`**. For example, when we previously used the **`abs()`** function, we would pass a value to it for which we wanted to get the absolute value. The expression **`abs(-100)`** passes **`-100`** as an argument to the absolute value function. Functions can also be included inside a script or as part of a module. If a function is defined within a script, it must be done before the function is called (used) in the script. Good programming practice says to place all **`import`** statements at the beginning of scripts and all user-defined functions immediately thereafter.\n",
        "\n",
        "Once a variable name is assigned in a *Python* script it is available for use in commands further down in the script. On the other hand, argument names passed into and used in a function are only available to use inside the function. The results generated from performing calculations in scripts can be displayed/output either using the **`print()`** function or by writing output values to a text file, although only the first will be used at this time. User-defined functions utilize these techniques as well, but more often they just return results back to the calling location. For example, **`abs(-100)`** returns the value **`100`** but does not print the result. Not all user-defined functions return values though. Those that do not are sometimes called **void functions** and those that do are sometimes called **fruitful functions**.\n",
        "\n",
        "Unlike when strictly working at the command line or from a *Jupyter* notebook interface, you cannot correct for typos, re-execute an expression, and keep going when running a script. You, the programmer, will have to make sure that all of the commands in the script are error free and that the script provides the necessary and correct output in an understandable manner. Script files and user-defined functions should include a liberal dose of comments so the programmer and others can understand why things are being done a particular way in the event that changes need to be made in the future."
      ],
      "metadata": {
        "deletable": false,
        "editable": false,
        "run_control": {
          "frozen": true
        }
      }
    },
    {
      "cell_type": "markdown",
      "source": [
        "## Creating, Editing, and Executing a Script\n",
        "\n",
        "Scripts are written as plain text files using text editors. The *Jupyter* environment includes a simple text editor that has syntax highlighting to color commands, functions, values, strings, and other objects. A good text editor for programming in *Python* that is free to install is *VSCode* by Microsoft.\n",
        "\n",
        "*Python* script files end with a **`.py`** extension. Executing *Python* scripts can done from a standard command line prompt by typing **`python`** or **`python3`** (depending upon the version being used and/or how it is installed) followed by a space and the script name including the extension. For example, executing a script named **`my_script.py`** with *Python 3* may be accomplished by typing **`python3 script_name.py`** and pressing the **`[enter]`** key.\n",
        "\n",
        "If the script file is located in the same folder/directory as a *Jupyter* notebook, you can execute the script in the notebook environment. To do so for the script named **`my_script.py`**, execute the expression **`run my_script.py`** from a code cell. The same technique can be used from within the *iPython* command line environment.\n",
        "\n",
        "Many scripts (probably all of them created in this class) can be executed at a *Python* prompt by importing it. For example, **`import my_script`** will execute the script named **`my_script.py`**.\n",
        "\n",
        "It is good practice to include comments at the top of a script file that describes what the script does, units that are used, special conditions, etc. Many people also like to include a comment that includes their name, website, licensing, etc."
      ],
      "metadata": {
        "deletable": false,
        "editable": false,
        "run_control": {
          "frozen": true
        }
      }
    },
    {
      "cell_type": "markdown",
      "source": [
        "___\n",
        "**Practice it: Creating Your First Script File**\n",
        "\n",
        "Create a **New** text file named **`mph2kph.py`**. It is important that you don't have any spaces before, after, or within the script name and that you include the extension. Use the editor to create a short script as outlined below that converts from mph to km/h. Start by copying the provided outline to the new script. \"Hard code\" the value of `mph` instead of using an **`input()`** for this first script.\n",
        "\n",
        "Execute your script from this notebook when done by typing **`run mph2kph.py`** in the provided code cell."
      ],
      "metadata": {
        "deletable": false,
        "editable": false,
        "run_control": {
          "frozen": true
        }
      }
    },
    {
      "cell_type": "raw",
      "source": [
        "#==========================================================\n",
        "# this file converts mph to km/h\n",
        "# the conversion factor is 1 mph = 1.609 km/h\n",
        "# \n",
        "# author: brian brady (use your name)\n",
        "# class: MECH 322 (8am, 10am, 3pm)\n",
        "#==========================================================\n",
        "\n",
        "# assign a value to a variable named 'mph'\n",
        "\n",
        "# assign the value 1.609 to a variable named 'conversion'\n",
        "\n",
        "# calculate and assign the speed in km/h to the variable 'kph'\n",
        "\n",
        "# use a print() function to create output similar the following example:\n",
        "# 60 mph is 96.53999999 km/h\n",
        "\n",
        "\n",
        "# end of script"
      ],
      "metadata": {}
    },
    {
      "cell_type": "code",
      "source": [
        "# Run you script here (replace this entire line of text with the command to run the script)\n"
      ],
      "outputs": [],
      "execution_count": null,
      "metadata": {}
    },
    {
      "cell_type": "markdown",
      "source": [
        "___\n",
        "**Practice it**\n",
        "\n",
        "Make a duplicate the previous script and name it **`mph2kph_input.py`**. Instead of assigning a fixed value to **`mph`**, use an **`input()`** function that asks the user to enter a speed in mph. You will need to place the **`input()`** function inside the parentheses of a **`float()`** function to convert the input value so you can perform calculations with the value.\n",
        "\n",
        "Change the **`print()`** expression to use formatted output that displays the input speed with no special formatting and the calculated speed with one decimal place. Run the script in the three empty code cells below using three different speeds of your choosing."
      ],
      "metadata": {
        "deletable": false,
        "editable": false,
        "run_control": {
          "frozen": true
        }
      }
    },
    {
      "cell_type": "code",
      "source": [],
      "outputs": [],
      "execution_count": null,
      "metadata": {}
    },
    {
      "cell_type": "code",
      "source": [],
      "outputs": [],
      "execution_count": null,
      "metadata": {}
    },
    {
      "cell_type": "code",
      "source": [],
      "outputs": [],
      "execution_count": null,
      "metadata": {}
    },
    {
      "cell_type": "markdown",
      "source": [
        "___\n",
        "**Practice it**\n",
        "\n",
        "Create a script called **`windchill.py`** that uses **`input()`** functions to ask the user to enter the air temperature in degrees F and the wind speed in mph then calculates the wind chill temperature $T_{wc}$ in degrees F. \n",
        "\n",
        "$\\qquad\\displaystyle T_{wc}=35.74 + 0.6215 \\,T - 35.75 \\,v^{0.16} + 0.4275\\,T \\,v^{0.16} $\n",
        "\n",
        "Print the statement **\"xxx degrees F with a wind speed of yyy mph equals a wind chill of zzz degrees F\"** using formatted printing such that the input values have no special formatting and the calculated value is a float with zero decimal places. Include introductory comments with this script that describes what it does, the units being used, and your name (similar to the previous scripts). Test the script three times with the following values:\n",
        "\n",
        "- $30^{\\circ}\\text{F}$ with $10 \\text{ mph}$\n",
        "- $10^{\\circ}\\text{F}$ with $30 \\text{ mph}$\n",
        "- $-10^{\\circ}\\text{F}$ with $20 \\text{ mph}$\n",
        "\n",
        "You should get results of $21^{\\circ}\\text{ F}$, $-12^{\\circ}\\text{ F}$, and $-35^{\\circ}\\text{ F}$.\n"
      ],
      "metadata": {
        "deletable": false,
        "editable": false,
        "run_control": {
          "frozen": true
        }
      }
    },
    {
      "cell_type": "code",
      "source": [],
      "outputs": [],
      "execution_count": null,
      "metadata": {}
    },
    {
      "cell_type": "code",
      "source": [],
      "outputs": [],
      "execution_count": null,
      "metadata": {}
    },
    {
      "cell_type": "code",
      "source": [],
      "outputs": [],
      "execution_count": null,
      "metadata": {}
    },
    {
      "cell_type": "markdown",
      "source": [
        "## Creating User-Defined Functions\n",
        "\n",
        "Notice that in the above script example all of the lines were aligned on the left edge. This is very important when writing scripts in *Python* as indentation is used to group commands for specific purposes. Therefore, the default indentation is no indentation at all. Even a single space at the beginning of a line will generate an error; test it by executing the following cell."
      ],
      "metadata": {
        "deletable": false,
        "editable": false,
        "run_control": {
          "frozen": true
        }
      }
    },
    {
      "cell_type": "code",
      "source": [
        "# The following line has a space at the beginning\n",
        " print(\"Spaces are important\")"
      ],
      "outputs": [],
      "execution_count": null,
      "metadata": {}
    },
    {
      "cell_type": "markdown",
      "source": [
        "When creating a user-defined function, we will need to indent all commands that belong to the function except the first line in order to signal to *Python* that they belong together. The following image illustrates the basic structure of user-defined functions:\n",
        "\n",
        "![function%20definition.png](function%20definition.png)"
      ],
      "metadata": {
        "deletable": false,
        "editable": false,
        "run_control": {
          "frozen": true
        }
      }
    },
    {
      "cell_type": "markdown",
      "source": [
        "The first line of the above function definition is called the **function header** and includes a function name followed by names of any arguments (if there are any) that need to be passed into the function. The end of the function header line *must* end with a colon. \n",
        "\n",
        "All other lines must be indented by 4 spaces and are called the **function body**. The body must consist of at least one command. If nothing at all is being done by the function, then the **`pass`** command may be used. When *Python* reads the **`pass`** command, it immediately exits the function and returns to where it was.\n",
        "\n",
        "Function definitions may optionally include a **docstring** that is used to display information about the function when **`help()`** is called with the function name as an argument. The docstring must be enclosed by three double quotes and can span multiple lines."
      ],
      "metadata": {
        "deletable": false,
        "editable": false,
        "run_control": {
          "frozen": true
        }
      }
    },
    {
      "cell_type": "markdown",
      "source": [
        "### Void Functions\n",
        "\n",
        "Functions that do not return any values can be considered to be **void**. They may perform a calculation and print the results, but they don't pass anything back to where they were called. The above function definition is for a void function. In fact, it is a useless void function since it only contains a **`pass`** command.\n"
      ],
      "metadata": {
        "deletable": false,
        "editable": false,
        "run_control": {
          "frozen": true
        }
      }
    },
    {
      "cell_type": "markdown",
      "source": [
        "___\n",
        "**Practice it**\n",
        "\n",
        "Below is a function definition for a void function that simply prints **`Hello, World!`**. Notice that it does not accept any arguments (the parentheses in the header are empty). Execute the code cell to place the function in memory. Then call the function in the next code cell using **`hello()`** (make sure that you include the parentheses). Ask for help on the function in the second code cell."
      ],
      "metadata": {
        "deletable": false,
        "editable": false,
        "run_control": {
          "frozen": true
        }
      }
    },
    {
      "cell_type": "code",
      "source": [
        "def hello():\n",
        "    \"\"\"This function just prints the phrase 'Hello, World!'\n",
        "    It does not return any results and it does not accept any arguments\n",
        "    \"\"\"\n",
        "    print('Hello, World!')"
      ],
      "outputs": [],
      "execution_count": null,
      "metadata": {}
    },
    {
      "cell_type": "code",
      "source": [],
      "outputs": [],
      "execution_count": null,
      "metadata": {}
    },
    {
      "cell_type": "code",
      "source": [],
      "outputs": [],
      "execution_count": null,
      "metadata": {}
    },
    {
      "cell_type": "markdown",
      "source": [
        "___\n",
        "**Practice it**\n",
        "\n",
        "The following code block contains another void function that accepts a single argument and prints the result of the argument value multiplied  by $2$. Execute the code cell with the function definition and then execute the function with any numeric argument of your choosing in the next code cell."
      ],
      "metadata": {
        "deletable": false,
        "editable": false,
        "run_control": {
          "frozen": true
        }
      }
    },
    {
      "cell_type": "code",
      "source": [
        "def double_me(value):\n",
        "    \"\"\"This function multiplies the argument named value by 2\n",
        "    and prints the result\n",
        "    \"\"\"\n",
        "    doubled_value = value * 2\n",
        "    print(doubled_value)"
      ],
      "outputs": [],
      "execution_count": null,
      "metadata": {}
    },
    {
      "cell_type": "code",
      "source": [],
      "outputs": [],
      "execution_count": null,
      "metadata": {}
    },
    {
      "cell_type": "markdown",
      "source": [
        "___\n",
        "**Practice it**\n",
        "\n",
        "This next example is also a void function, but it accepts two arguments. Add an expression in the **`print()`** function parentheses to multiply the first argument by the second and then execute the code cell to place it in memory. Execute the function in the blank code cell with any pair of numeric values. Notice that the argument names used in this and the previous example are not the same. You can use any valid variable name as a function argument name."
      ],
      "metadata": {
        "deletable": false,
        "editable": false,
        "run_control": {
          "frozen": true
        }
      }
    },
    {
      "cell_type": "code",
      "source": [
        "def multiply2(arg1, arg2):\n",
        "    print()"
      ],
      "outputs": [],
      "execution_count": null,
      "metadata": {}
    },
    {
      "cell_type": "code",
      "source": [],
      "outputs": [],
      "execution_count": null,
      "metadata": {}
    },
    {
      "cell_type": "markdown",
      "source": [
        "___\n",
        "**Practice it**\n",
        "\n",
        "In the following code cell define a function called **`print_mph2kph`** that takes one argument named **`mph`**. The function should convert **`mph`** to km/h and assign the result to the name **`kph`**. On the last line of the function print the result so that it reads **\"xxx mph equals yyy km/h\"**, where **\"xxx\"** and **\"yyy\"** are replaced by values of **`mph`** and **`kph`**. In the next two empty code cells test the function with two different speeds."
      ],
      "metadata": {
        "deletable": false,
        "editable": false,
        "run_control": {
          "frozen": true
        }
      }
    },
    {
      "cell_type": "code",
      "source": [],
      "outputs": [],
      "execution_count": null,
      "metadata": {}
    },
    {
      "cell_type": "code",
      "source": [],
      "outputs": [],
      "execution_count": null,
      "metadata": {}
    },
    {
      "cell_type": "code",
      "source": [],
      "outputs": [],
      "execution_count": null,
      "metadata": {}
    },
    {
      "cell_type": "markdown",
      "source": [
        "### Fruitful Functions\n",
        "\n",
        "Fruitful functions return a value back to the caller and usually do not create any printed output. In order to return a value (or values) fruitful functions need to have a **`return`** statement. The **`return`** is typically located on the last line of a function since *Python* exits the function as soon as a value is returned. More than one value can be returned from a function by including multiple values separated by commas after the **`return`** statement.  Keep in mind that unlike the **`print()`** function, **`return`** is a statement (not a function) and does not use parentheses. The example below illustrates the general structure of a fruitful function.\n",
        "\n",
        "``` python\n",
        "def my_function(arg1,arg2):\n",
        "    \"\"\"docstring\"\"\"\n",
        "    body line 1\n",
        "    body line 2\n",
        "    return value1, value2\n",
        "```"
      ],
      "metadata": {
        "deletable": false,
        "editable": false,
        "run_control": {
          "frozen": true
        }
      }
    },
    {
      "cell_type": "markdown",
      "source": [
        "___\n",
        "**Practice it**\n",
        "\n",
        "The following incomplete function definition is a modification of the **`double_me`** function called **`double_me2`**. This time, instead of printing the result of the calculation, the function should **`return`** the result. Modify the function definition so that it returns **`doubled_value`**. Execute the code cell to place the function into memory and then test the function in the next two blank code cells with values of your choosing. Assign the result of the function call to the variable name **`two_times`** in the second test cell and then print **`two_times`**. Do you remember how to assign a variable name to a calculation?"
      ],
      "metadata": {
        "deletable": false,
        "editable": false,
        "run_control": {
          "frozen": true
        }
      }
    },
    {
      "cell_type": "code",
      "source": [
        "def double_me2(value):\n",
        "    \"\"\"This function multiplies the argument named value by 2\n",
        "    and returns the result\n",
        "    \"\"\"\n",
        "    doubled_value = value * 2"
      ],
      "outputs": [],
      "execution_count": null,
      "metadata": {}
    },
    {
      "cell_type": "code",
      "source": [],
      "outputs": [],
      "execution_count": null,
      "metadata": {}
    },
    {
      "cell_type": "code",
      "source": [],
      "outputs": [],
      "execution_count": null,
      "metadata": {}
    },
    {
      "cell_type": "markdown",
      "source": [
        "A more **Pythonic** way to define the above function would be to move the calculation to the **`return`** line. Unless the intermediate variable is needed for another calculation in the function, it is more efficient to just return the calculation directly. \n",
        "\n",
        "___\n",
        "**Practice it**\n",
        "\n",
        "Edit the following function definition to perform the calculation on the **`return`** line and execute the function definition to place it into memory. Then call this new function with a value of your choosing."
      ],
      "metadata": {
        "deletable": false,
        "editable": false,
        "run_control": {
          "frozen": true
        }
      }
    },
    {
      "cell_type": "code",
      "source": [
        "def double_me3(value):\n",
        "    \"\"\"This function multiplies the argument named value by 2\n",
        "    and returns the result\n",
        "    \"\"\"\n",
        "    "
      ],
      "outputs": [],
      "execution_count": null,
      "metadata": {}
    },
    {
      "cell_type": "code",
      "source": [],
      "outputs": [],
      "execution_count": null,
      "metadata": {}
    },
    {
      "cell_type": "markdown",
      "source": [
        "___\n",
        "**Practice it**\n",
        "\n",
        "The following (incomplete) function named **`rectangles`** should return the area and perimeter of a rectangle with sides of **`width`** and **`height`**. Edit the function definition such that the **`return`** line includes the calculations for area and perimeter. Execute the function definition then test the function with two different sets of arguments of your choosing.\n",
        "\n",
        "For the second test, assign the function call to a set of varibles like so...\n",
        "\n",
        "**`(area, perim) = rectangles(width, height)`** \n",
        "\n",
        "except with your numeric width and height values. The grouping **`(area, perim)`** is referred to as a **tuple** by *Python* and is the *Pythonic* way of assigning multiple values to varaible names at the same time. In the final blank code cell print both **`area`** and **`perim`**."
      ],
      "metadata": {
        "deletable": false,
        "editable": false,
        "run_control": {
          "frozen": true
        }
      }
    },
    {
      "cell_type": "code",
      "source": [
        "def rectangles(width, height):\n",
        "    \"\"\"Returns the area and perimeter (in that order) for a rectangle of width and height\"\"\"\n",
        "    return "
      ],
      "outputs": [],
      "execution_count": null,
      "metadata": {}
    },
    {
      "cell_type": "code",
      "source": [],
      "outputs": [],
      "execution_count": null,
      "metadata": {}
    },
    {
      "cell_type": "code",
      "source": [],
      "outputs": [],
      "execution_count": null,
      "metadata": {}
    },
    {
      "cell_type": "code",
      "source": [],
      "outputs": [],
      "execution_count": null,
      "metadata": {}
    },
    {
      "cell_type": "markdown",
      "source": [
        "___\n",
        "**Practice it**\n",
        "\n",
        "Copy the previously created **`print_mph2kph`** function into the following code cell. Rename this version of the function to **`return_mph2kph`** and modify the function body such that it returns the speed in km/h but does not print anything. Test this version with the same speeds as above in the provided code cells. In the second code cell, assign the result of the function call to the name **`speed`** and then **`print(speed)`**."
      ],
      "metadata": {
        "deletable": false,
        "editable": false,
        "run_control": {
          "frozen": true
        }
      }
    },
    {
      "cell_type": "code",
      "source": [],
      "outputs": [],
      "execution_count": null,
      "metadata": {}
    },
    {
      "cell_type": "code",
      "source": [],
      "outputs": [],
      "execution_count": null,
      "metadata": {}
    },
    {
      "cell_type": "code",
      "source": [],
      "outputs": [],
      "execution_count": null,
      "metadata": {}
    },
    {
      "cell_type": "markdown",
      "source": [
        "___\n",
        "**Practice it**\n",
        "\n",
        "Define a function called **`windchill`** that does the same thing as the script from earlier called **`windchill.py`** except instead of using **`input()`** functions to get the air temperature and wind speed uses two arguments called **`tempF`** and **`vel_mph`**. Round the resulting wind chill temperature to zero decimal places. Have the function both print the statement **\"xxx degrees F with a wind speed of yyy mph equals a wind chill of zzz degrees F\"** and return the wind chill temperature. Include a descriptive docstring with this function.\n",
        "\n",
        "$\\qquad\\displaystyle T_{wc}=35.74 + 0.6215 \\,T - 35.75 \\,v^{0.16} + 0.4275\\,T \\,v^{0.16} $\n",
        "\n",
        "Test the function three times with the following values:\n",
        "- $30^{\\circ}\\text{F}$ with $30 \\text{ mph}$\n",
        "- $20^{\\circ}\\text{F}$ with $20 \\text{ mph}$\n",
        "- $10^{\\circ}\\text{F}$ with $10 \\text{ mph}$\n",
        "\n",
        "You should get results of $15^{\\circ}\\text{F}$, $4^{\\circ}\\text{F}$, and $-4^{\\circ}\\text{F}$."
      ],
      "metadata": {
        "deletable": false,
        "editable": false,
        "run_control": {
          "frozen": true
        }
      }
    },
    {
      "cell_type": "code",
      "source": [],
      "outputs": [],
      "execution_count": null,
      "metadata": {}
    },
    {
      "cell_type": "code",
      "source": [],
      "outputs": [],
      "execution_count": null,
      "metadata": {}
    },
    {
      "cell_type": "code",
      "source": [],
      "outputs": [],
      "execution_count": null,
      "metadata": {}
    },
    {
      "cell_type": "code",
      "source": [],
      "outputs": [],
      "execution_count": null,
      "metadata": {}
    },
    {
      "cell_type": "markdown",
      "source": [
        "___\n",
        "**Wrap it up**\n",
        "\n",
        "Click on the **Save** button and then **Close and halt** from the **File** menu when you are done before you close your browser tab."
      ],
      "metadata": {
        "deletable": false,
        "editable": false,
        "run_control": {
          "frozen": true
        }
      }
    }
  ],
  "metadata": {
    "kernelspec": {
      "display_name": "Python 3",
      "language": "python",
      "name": "python3"
    },
    "language_info": {
      "name": "python",
      "version": "3.7.5",
      "mimetype": "text/x-python",
      "codemirror_mode": {
        "name": "ipython",
        "version": 3
      },
      "pygments_lexer": "ipython3",
      "nbconvert_exporter": "python",
      "file_extension": ".py"
    },
    "varInspector": {
      "cols": {
        "lenName": 16,
        "lenType": 16,
        "lenVar": 40
      },
      "kernels_config": {
        "python": {
          "delete_cmd_postfix": "",
          "delete_cmd_prefix": "del ",
          "library": "var_list.py",
          "varRefreshCmd": "print(var_dic_list())"
        },
        "r": {
          "delete_cmd_postfix": ") ",
          "delete_cmd_prefix": "rm(",
          "library": "var_list.r",
          "varRefreshCmd": "cat(var_dic_list()) "
        }
      },
      "types_to_exclude": [
        "module",
        "function",
        "builtin_function_or_method",
        "instance",
        "_Feature"
      ],
      "window_display": false
    },
    "nteract": {
      "version": "0.25.1"
    }
  },
  "nbformat": 4,
  "nbformat_minor": 1
}