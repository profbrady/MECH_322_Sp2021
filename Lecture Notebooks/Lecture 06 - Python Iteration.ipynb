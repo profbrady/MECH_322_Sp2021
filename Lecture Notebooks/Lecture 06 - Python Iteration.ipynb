{
  "cells": [
    {
      "cell_type": "markdown",
      "source": [
        "# Lecture 6 - Python Iteration\n",
        "___\n",
        "___"
      ],
      "metadata": {
        "deletable": false,
        "editable": false,
        "run_control": {
          "frozen": true
        }
      }
    },
    {
      "cell_type": "markdown",
      "source": [
        "## Purpose\n",
        "\n",
        "- Create **`for`** loops for definite iteration\n",
        "- Create **`while`** loops for indefinite iteration\n",
        "- Create lists of values using **list comprehension**"
      ],
      "metadata": {
        "deletable": false,
        "editable": false,
        "run_control": {
          "frozen": true
        }
      }
    },
    {
      "cell_type": "markdown",
      "source": [
        "## Some Creative Commons Reference Sources for This Material\n",
        "\n",
        "- *Think Python 2nd Edition*, Allen Downey, chapter 7\n",
        "- *The Coder's Apprentice*, Pieter Spronck, chapter 7\n",
        "- *A Practical Introduction to Python Programming*, Brian Heinold, chapters 2 and 9\n",
        "- *Algorithmic Problem Solving with Python*, John Schneider, Shira Broschat, and Jess Dahmen, chapters 6 and 7"
      ],
      "metadata": {
        "deletable": false,
        "editable": false,
        "run_control": {
          "frozen": true
        }
      }
    },
    {
      "cell_type": "markdown",
      "source": [
        "## What is Iteration?\n",
        "\n",
        "- Iteration is the repetition of a segment of code a number of times\n",
        "- Definite iteration = the number of iterations is known ahead of time \n",
        "- Indefinite iteration = the number of iterations is not know ahead of time\n",
        "- Typically...\n",
        "  - Definite iteration will use **`for`** statements\n",
        "  - Indefinite iteration will use **`while`** statements\n",
        "- Each pass (or iteration) through the code is often called a **loop**\n",
        "- The act of iterating is called **looping**"
      ],
      "metadata": {
        "deletable": false,
        "editable": false,
        "run_control": {
          "frozen": true
        }
      }
    },
    {
      "cell_type": "markdown",
      "source": [
        "## Iterating with **`for`** Loops\n",
        "\n",
        "- A **`for`** loop is a group of commands that is repeated a predetermined number of times\n",
        "- Requires the use of a sequence or iterator\n",
        "  - Strings\n",
        "  - Lists\n",
        "  - Tuples\n",
        "  - Ranges\n",
        "  - Zip objects\n",
        "- The following example illustrates the general format of a **`for`** statement\n",
        "\n",
        "```python\n",
        "for var_name in sequence:\n",
        "    # commands to perform each pass through the loop\n",
        "    continue\n",
        "```\n",
        "\n",
        "- The first line (the header)\n",
        "  - Must start with the **`for`** command\n",
        "  - Followed by one or more iteration variables\n",
        "  - The next object must be a sequence or iterator\n",
        "  - Line ends with a colon\n",
        "- The first line's indentation must match the indentation level of the expression before it\n",
        "- Remaining lines (the body)\n",
        "  - Code to be executed each time through the loop\n",
        "  - Must be indented 4 spaces relative to the first line\n",
        "  - Must contain at least one command\n",
        "  - The **`continue`** command is a good place holder when initially writing a loop\n",
        "- The first time through the loop...\n",
        "  - Iteration variable is assigned the value of the first item in the sequence or iterable\n",
        "  - Indented lines are then executed using this value\n",
        "- Repeated until the sequence or iterator is exhausted"
      ],
      "metadata": {
        "deletable": false,
        "editable": false,
        "run_control": {
          "frozen": true
        }
      }
    },
    {
      "cell_type": "markdown",
      "source": [
        "\n",
        "![for_loop_diagram.png](for_loop_diagram.png)"
      ],
      "metadata": {
        "deletable": false,
        "editable": false
      }
    },
    {
      "cell_type": "markdown",
      "source": [
        "___\n",
        "**Practice it**\n",
        "\n",
        "Predict the output of the **`for`** loop diagrammed above and then execute the code cell below to confirm your answer."
      ],
      "metadata": {
        "deletable": false,
        "editable": false,
        "run_control": {
          "frozen": true
        }
      }
    },
    {
      "cell_type": "code",
      "source": [
        "for k in range(1,11,3):\n",
        "    x = k**2\n",
        "    print('x =', x)"
      ],
      "outputs": [],
      "execution_count": null,
      "metadata": {}
    },
    {
      "cell_type": "markdown",
      "source": [
        "*Python Tutor* is a helpful visualization tool for more complex code.\n",
        "\n",
        "[Python Tutor visualization for this code](http://pythontutor.com/visualize.html#code=for%20k%20in%20range%281,11,3%29%3A%0A%20%20%20%20x%20%3D%20k**2%0A%20%20%20%20print%28'x%20%3D',%20x%29&cumulative=false&curInstr=0&heapPrimitives=nevernest&mode=display&origin=opt-frontend.js&py=3&rawInputLstJSON=%5B%5D&textReferences=false)"
      ],
      "metadata": {}
    },
    {
      "cell_type": "markdown",
      "source": [
        "___\n",
        "**Practice it**\n",
        "\n",
        "The above example could have used a list instead of a range. Complete the **`for`** statement in following code cell using a list to get the same results as the previous example."
      ],
      "metadata": {
        "deletable": false,
        "editable": false,
        "run_control": {
          "frozen": true
        }
      }
    },
    {
      "cell_type": "code",
      "source": [
        "for k in :\n",
        "    x = k**2\n",
        "    print('x =', x)"
      ],
      "outputs": [],
      "execution_count": null,
      "metadata": {}
    },
    {
      "cell_type": "markdown",
      "source": [
        "___\n",
        "**Practice it**\n",
        "\n",
        "It is not necessary to actually use the iteration variable anywhere in the loop body. You do however have to still include one in the first line. What output do you think the following code will produce? Convert the cell to a code cell and execute it."
      ],
      "metadata": {
        "deletable": false,
        "editable": false,
        "run_control": {
          "frozen": true
        }
      }
    },
    {
      "cell_type": "raw",
      "source": [
        "good_list = range(5)\n",
        "for nice_number in good_list:\n",
        "    print(\"Spam\")"
      ],
      "metadata": {
        "deletable": false
      }
    },
    {
      "cell_type": "markdown",
      "source": [
        "## Creating Lists Using **`for`** Loops\n",
        "\n",
        "- Fill lists with calculated values using the values in a list or iterator (i.e. a range)\n",
        "- For example, you might need two lists for making an $x,y$-plot (graph)\n",
        "  - One list for the independent variable $x$ \n",
        "  - Another for the dependent variable $y$\n",
        "  - Where $y$ is calculated using the values in $x$\n",
        "- The following example...\n",
        "  - Uses the iteration variable **`x`** for a range of values\n",
        "  - Calculate $x^2$ for each\n",
        "  - Appends the calculated value to an empty list named **`y`**\n",
        "  - Need to create the empty list before starting the **`for`** loop\n",
        "\n",
        "</br>\n",
        "\n",
        "___\n",
        "**Practice it**\n",
        "\n",
        "Edit the following code cell such that $x^2$ is appended to the list **`y`** each time through the loop. Then execute the cell to see the results of the iteration."
      ],
      "metadata": {
        "deletable": false,
        "editable": false,
        "run_control": {
          "frozen": true
        }
      }
    },
    {
      "cell_type": "code",
      "source": [
        "# create an empty list named y first\n",
        "\n",
        "for x in range(1, 11, 3):\n",
        "    # append x**2 to the list y\n",
        "    \n",
        "    print('x =',x)\n",
        "    print('y =', y)\n",
        "print('Final y =', y)"
      ],
      "outputs": [],
      "execution_count": null,
      "metadata": {}
    },
    {
      "cell_type": "markdown",
      "source": [
        "[Python Tutor visualization of the above code](http://pythontutor.com/visualize.html#code=y%20%3D%20%5B%5D%0Afor%20x%20in%20range%281,%2011,%203%29%3A%0A%20%20%20%20y.append%28x**2%29%20%23%20append%20x**2%20to%20the%20list%20y%0A%20%20%20%20print%28'x%20%3D',x%29%0A%20%20%20%20print%28'y%20%3D',%20y%29%0Aprint%28'Final%20y%20%3D',%20y%29&cumulative=false&curInstr=0&heapPrimitives=nevernest&mode=display&origin=opt-frontend.js&py=3&rawInputLstJSON=%5B%5D&textReferences=false)"
      ],
      "metadata": {
        "deletable": false,
        "editable": false
      }
    },
    {
      "cell_type": "markdown",
      "source": [
        "## Using Existing Lists in **`for`** Loops\n",
        "\n",
        "- You can use values from an existing list in a **`for`** loop\n",
        "- Just use the list name for the sequence in the **`for`** statement\n",
        "- Can use values from multiple lists in a loop if each are the same size\n",
        "- Three techniques for using values from multiple lists in a loop\n",
        "  1. Indexing each list\n",
        "    - Use a range in the **`for`** statement\n",
        "    - Range argument must match the number of items in each list\n",
        "    - Inside the loop use the iteration variable as an index when accesses values from lists\n",
        "    - For example, if iteration variable is **`n`**, use **`list1[n]`** and **`list2[n]`** in the loop\n",
        "  2. Using **`enumerate()`** and indexing together\n",
        "    - Use something like **`for n, value in enumerate(my_list):`**\n",
        "    - **`n`** is the index position and **`value`** is the value from **`my_list`**\n",
        "    - Use the the index variable to access values from other lists\n",
        "  3. Using **`zip()`**\n",
        "    - A more *Pythonic* approach\n",
        "    - Zip multiple lists in the **`for`** statement\n",
        "    - For example, **`for x, y, z in zip(list_x, list_y, list_z):`**\n",
        "    - Use the iteration variables directly without needing to use indexing in the loop\n",
        "  4. Use a list comprehension (covered later)"
      ],
      "metadata": {
        "deletable": false,
        "editable": false,
        "run_control": {
          "frozen": true
        }
      }
    },
    {
      "cell_type": "markdown",
      "source": [
        "___\n",
        "**Practice it: Technique 1 - Indexing**\n",
        "\n",
        "Edit the **`for`** statement line such that the sequence used is a range based on the length of **`list1`.**  Edit the body of the loop such that the values at the current index positions in **`list1`** and **`list2`** are multiplied and the product is appended to **`list3`.**   Execute the completed loop to see how this technique works."
      ],
      "metadata": {
        "deletable": false,
        "editable": false,
        "run_control": {
          "frozen": true
        }
      }
    },
    {
      "cell_type": "code",
      "source": [
        "list1 = [1, 2, 3, 4, 5]\n",
        "list2 = [5, 4, 3, 2, 1]\n",
        "list3 = []\n",
        "for index in : # use a range based on the length of list1\n",
        "    # append list3 with the list1 value times the list2 value\n",
        "print(list3)"
      ],
      "outputs": [],
      "execution_count": null,
      "metadata": {}
    },
    {
      "cell_type": "markdown",
      "source": [
        "[Python Tutor visualization for the above completed code](http://pythontutor.com/live.html#code=list1%20%3D%20%5B1,%202,%203,%204,%205%5D%0Alist2%20%3D%20%5B5,%204,%203,%202,%201%5D%0Alist3%20%3D%20%5B%5D%0Afor%20index%20in%20range%28len%28list1%29%29%3A%20%23%20use%20a%20range%20based%20on%20the%20length%20of%20list1%0A%20%20%20%20%23%20append%20list3%20the%20list1%20value%20times%20the%20list2%20value%0A%20%20%20%20list3.append%28list1%5Bindex%5D%20*%20list2%5Bindex%5D%29%0Aprint%28list3%29&cumulative=false&curInstr=0&heapPrimitives=nevernest&mode=display&origin=opt-live.js&py=3&rawInputLstJSON=%5B%5D&textReferences=false)"
      ],
      "metadata": {
        "deletable": false,
        "editable": false
      }
    },
    {
      "cell_type": "markdown",
      "source": [
        "___\n",
        "**Practice it: Technique 2 - `enumerate()` and indexing**\n",
        "\n",
        "Execute the following loop that uses the **`enumerate()`** function."
      ],
      "metadata": {
        "deletable": false,
        "editable": false,
        "run_control": {
          "frozen": true
        }
      }
    },
    {
      "cell_type": "code",
      "source": [
        "list1 = [1, 2, 3, 4, 5]\n",
        "list2 = [5, 4, 3, 2, 1]\n",
        "list3 = []\n",
        "for index, list1_value in enumerate(list1):\n",
        "    list3.append(list1_value * list2[index])\n",
        "print(list3)"
      ],
      "outputs": [],
      "execution_count": null,
      "metadata": {}
    },
    {
      "cell_type": "markdown",
      "source": [
        "___\n",
        "**Practice it: Technique 3 - `zip()`**\n",
        "\n",
        "See how using the **`zip()`** function works with this loop to generate the same output as the last two examples."
      ],
      "metadata": {
        "deletable": false,
        "editable": false,
        "run_control": {
          "frozen": true
        }
      }
    },
    {
      "cell_type": "code",
      "source": [
        "list1 = [1, 2, 3, 4, 5]\n",
        "list2 = [5, 4, 3, 2, 1]\n",
        "list3 = []\n",
        "for x, y in zip(list1, list2):\n",
        "    list3.append(x * y)\n",
        "print(list3)"
      ],
      "outputs": [],
      "execution_count": null,
      "metadata": {}
    },
    {
      "cell_type": "markdown",
      "source": [
        "[Python Tutor visualization for the above completed code](http://pythontutor.com/live.html#code=list1%20%3D%20%5B1,%202,%203,%204,%205%5D%0Alist2%20%3D%20%5B5,%204,%203,%202,%201%5D%0Alist3%20%3D%20%5B%5D%0Afor%20x,%20y%20in%20zip%28list1,list2%29%3A%0A%20%20%20%20list3.append%28x%20*%20y%29%0Aprint%28list3%29&cumulative=false&curInstr=0&heapPrimitives=nevernest&mode=display&origin=opt-live.js&py=3&rawInputLstJSON=%5B%5D&textReferences=false)"
      ],
      "metadata": {
        "deletable": false,
        "editable": false
      }
    },
    {
      "cell_type": "markdown",
      "source": [
        "## Nested **`for`** Loops\n",
        "\n",
        "- Loops placed inside of other loops is referred to as nesting\n",
        "- The outer loop is started using its first iteration value\n",
        "- Then the inner loop iterated completely though its sequence or iterable with the outer loop's variable\n",
        "- When the inner loop finishes, the outer loop's iteration variable is assigned the next value\n",
        "- The inner loop again runs completely\n",
        "- The process continues until the outer loop's sequence or iterable is exhausted\n",
        "- All inner loop code must be indented relative to the outer loop by 4 spaces\n",
        "- Nesting can be any practical depth\n"
      ],
      "metadata": {
        "deletable": false,
        "editable": false,
        "run_control": {
          "frozen": true
        }
      }
    },
    {
      "cell_type": "markdown",
      "source": [
        "___\n",
        "**Practice it**\n",
        "\n",
        "Edit the following nested loop code to create a list of lists such that the outer loop (iteration variable named **`outer`**) iterates over a range of integers from **`0`** to **`2`** (inclusive) and the inner loop (iteration variable named **`inner`**) iterates over a range of integers from **`0`** to **`9`** (inclusive). Execute the edited code to verify that it works correctly; it should append the value **`outer * inner`** to each position of each of the sub-lists within the list named **`C`.** "
      ],
      "metadata": {
        "deletable": false,
        "editable": false,
        "run_control": {
          "frozen": true
        }
      }
    },
    {
      "cell_type": "code",
      "source": [
        "C = []  # create empty list C\n",
        "for outer in :\n",
        "    C.append([])  # add an empty list at the end of C\n",
        "    for inner in :\n",
        "        # add values into the list that was created within C just before starting this loop\n",
        "        C[outer].append(outer * inner)\n",
        "print(C)"
      ],
      "outputs": [],
      "execution_count": null,
      "metadata": {}
    },
    {
      "cell_type": "markdown",
      "source": [
        "[Python Tutor visualization of the above finished code](http://pythontutor.com/live.html#code=C%20%3D%20%5B%5D%0Afor%20outer%20in%20range%283%29%3A%0A%20%20%20%20C.append%28%5B%5D%29%0A%20%20%20%20for%20inner%20in%20range%2810%29%3A%0A%20%20%20%20%20%20%20%20C%5Bouter%5D.append%28outer%20*%20inner%29%0Aprint%28C%29&cumulative=false&curInstr=72&heapPrimitives=nevernest&mode=display&origin=opt-live.js&py=3&rawInputLstJSON=%5B%5D&textReferences=false)"
      ],
      "metadata": {
        "deletable": false,
        "editable": false,
        "run_control": {
          "frozen": true
        }
      }
    },
    {
      "cell_type": "markdown",
      "source": [
        "## Iterating Over Strings\n",
        "\n",
        "- Strings are sequences of characters that can to be used at iteration sequences\n",
        "- Easy to iterate through a string one character at a time\n",
        "\n",
        "</br>\n",
        "\n",
        "___\n",
        "**Practice it**\n",
        "\n",
        "Change the string assigned to to the variable **`name`** to your name, not mine, and execute the cell to see how iterating over a string works."
      ],
      "metadata": {
        "deletable": false,
        "editable": false,
        "run_control": {
          "frozen": true
        }
      }
    },
    {
      "cell_type": "code",
      "source": [
        "name = \"Brian\"\n",
        "for letter in name:\n",
        "    print(letter.upper())"
      ],
      "outputs": [],
      "execution_count": null,
      "metadata": {}
    },
    {
      "cell_type": "markdown",
      "source": [
        "[Python Tutor visualization of the above code](http://pythontutor.com/live.html#code=name%20%3D%20%22Brian%22%0Afor%20letter%20in%20name%3A%0A%20%20%20%20print%28letter.upper%28%29%29&cumulative=false&curInstr=0&heapPrimitives=nevernest&mode=display&origin=opt-live.js&py=3&rawInputLstJSON=%5B%5D&textReferences=false)"
      ],
      "metadata": {
        "deletable": false,
        "editable": false
      }
    },
    {
      "cell_type": "markdown",
      "source": [
        "## List Comprehension; A Very *Pythonic* Technique\n",
        "\n",
        "- *Python* includes a technique referred to as **list comprehension**\n",
        "- Considered to be a *Pythonic* technique\n",
        "- Combines list creation, an expression, and a **`for`** statement into one command\n",
        "- Must be placed in square brackets (not parentheses)\n",
        "- Can include an optional **`if`** statement\n",
        "- The iteration variable is local to the list comprehension\n",
        "- This is a good method to calculate values for plotting (in another lecture)\n",
        "- **`y = [10*x for x in range(1, 6)]`** yields the list **`[10, 20, 30, 40. 50]`**\n",
        "- List comprehensions can be nested\n",
        "- Below is the construction of a list comprehension with an **`if`** statement\n",
        "\n",
        "```python\n",
        "var = [<expression using var> for <var> in <sequence> if <conditional statement using var>]\n",
        "```\n",
        "\n"
      ],
      "metadata": {
        "deletable": false,
        "editable": false,
        "run_control": {
          "frozen": true
        }
      }
    },
    {
      "cell_type": "markdown",
      "source": [
        "___\n",
        "**Practice it**\n",
        "\n",
        "Try out the following list comprehension that does essentially the same thing as an earlier loop example did. List comprehensions do not generally contain **`print()`** commands, so this one only prints the final result not each step. However, the values from each are placed into f-strings."
      ],
      "metadata": {
        "deletable": false,
        "editable": false,
        "run_control": {
          "frozen": true
        }
      }
    },
    {
      "cell_type": "code",
      "source": [
        "y = [f\"x = {x}, y = {x**2}\" for x in range(1, 11, 3)]\n",
        "print(y)"
      ],
      "outputs": [],
      "execution_count": null,
      "metadata": {}
    },
    {
      "cell_type": "markdown",
      "source": [
        "The following example does essentially the same as the previous, just withing any strings. It only puts the results of the calculation in the list."
      ],
      "metadata": {}
    },
    {
      "cell_type": "code",
      "source": [
        "\"\"\" assigning x a value before the comprehension shows\n",
        "    that x in the comprehension is local and available after\"\"\"\n",
        "\n",
        "x = 8675309\n",
        "y = [x**2 for x in range(1, 11, 3)]\n",
        "print(\"x =\", x)\n",
        "print(\"y =\", y)"
      ],
      "outputs": [],
      "execution_count": null,
      "metadata": {}
    },
    {
      "cell_type": "markdown",
      "source": [
        "The following code cell generates an error. Why? Execute the code cell to see what the error is.\n",
        "\n",
        "*Hint*: it is related to local versus global naming."
      ],
      "metadata": {
        "deletable": false,
        "editable": false,
        "run_control": {
          "frozen": true
        }
      }
    },
    {
      "cell_type": "code",
      "source": [
        "del(x)\n",
        "y = [x**2 for x in range(1, 11, 3)]\n",
        "print('x =', x)\n",
        "print('y =', y)"
      ],
      "outputs": [],
      "execution_count": null,
      "metadata": {}
    },
    {
      "cell_type": "markdown",
      "source": [
        "___\n",
        "**Practice it**\n",
        "\n",
        "Execute the code cell to demonstrate nested list comprehension to see that the results are the same as seen previously."
      ],
      "metadata": {
        "deletable": false,
        "editable": false,
        "run_control": {
          "frozen": true
        }
      }
    },
    {
      "cell_type": "code",
      "source": [
        "C = [[outer * inner for inner in range(10)] for outer in range(3)]\n",
        "print(C)"
      ],
      "outputs": [],
      "execution_count": null,
      "metadata": {}
    },
    {
      "cell_type": "markdown",
      "source": [
        "[Python Tutor visualization of the above code](http://pythontutor.com/live.html#code=C%20%3D%20%5B%5Bouter%20*%20inner%20for%20inner%20in%20range%2810%29%5D%20for%20outer%20in%20range%283%29%5D%0Aprint%28C%29&cumulative=true&curInstr=0&heapPrimitives=nevernest&mode=display&origin=opt-live.js&py=3&rawInputLstJSON=%5B%5D&textReferences=false)"
      ],
      "metadata": {
        "deletable": false,
        "editable": false,
        "run_control": {
          "frozen": true
        }
      }
    },
    {
      "cell_type": "markdown",
      "source": [
        "___\n",
        "**Practice it**\n",
        "\n",
        "Execute the following code cell to see how list comprehensions can use conditional statements. The conditional statement must be placed after the **`for`** statement. For instance, the following list comprehension will only calculate values when items in the range are less than 10."
      ],
      "metadata": {
        "deletable": false,
        "editable": false,
        "run_control": {
          "frozen": true
        }
      }
    },
    {
      "cell_type": "code",
      "source": [
        "z = [2*x for x in [1, 2, 5, 7, 10, 12, 8, 9, 15] if x < 10]\n",
        "print(z)"
      ],
      "outputs": [],
      "execution_count": null,
      "metadata": {
        "deletable": false
      }
    },
    {
      "cell_type": "markdown",
      "source": [
        "___\n",
        "**Practice it**\n",
        "\n",
        "Run the following cell. Why does the resulting list only have two values?\n",
        "\n",
        "Answer: there only non-zero values that are divisible by both 0 and 4."
      ],
      "metadata": {
        "deletable": false,
        "editable": false,
        "run_control": {
          "frozen": true
        }
      }
    },
    {
      "cell_type": "code",
      "source": [
        "[x for x in range(10) if x%2 == 0 and x%4 == 0 and x != 0]"
      ],
      "outputs": [],
      "execution_count": null,
      "metadata": {}
    },
    {
      "cell_type": "markdown",
      "source": [
        "___\n",
        "**Practice it**\n",
        "\n",
        "A single list comprehension can use **`zip()`** to create two or more separate sequences of values. Placing a **`*`** inside the opening parenthesis of the **`zip()`** function causes a zip object to be unzipped. Placing two variable names separated by a comma to the left of the equal sign tells *Python* to assign the two unzipped lists to those variable names. Execute the following code to see this in action."
      ],
      "metadata": {
        "deletable": false,
        "editable": false,
        "run_control": {
          "frozen": true
        }
      }
    },
    {
      "cell_type": "code",
      "source": [
        "list1, list2 = zip(*[(x, x**2) for x in range(1, 11, 3)])\n",
        "print(list1)\n",
        "print(list2)"
      ],
      "outputs": [],
      "execution_count": null,
      "metadata": {}
    },
    {
      "cell_type": "markdown",
      "source": [
        "[Python Tutor Visualization of the above code](http://pythontutor.com/live.html#code=list1,%20list2%20%3D%20zip%28*%5B%28x,%20x**2%29%20for%20x%20in%20range%281,%2011,%203%29%5D%29%0Aprint%28list1%29%0Aprint%28list2%29&cumulative=true&curInstr=0&heapPrimitives=nevernest&mode=display&origin=opt-live.js&py=3&rawInputLstJSON=%5B%5D&textReferences=false)"
      ],
      "metadata": {
        "deletable": false,
        "editable": false
      }
    },
    {
      "cell_type": "markdown",
      "source": [
        "##Getting Ready for **`while`** Loops: Incrementing Variables\n",
        "\n",
        "- **`for`** loops do not require incrementing (or decrementing) the iteration variable\n",
        "- **`while`** loops almost always require incrementing (or decrementing) a variable\n",
        "- Incrementing means changing the value of a variable and assigning the new value to the original name\n",
        "- A common method is **`x = x + 1`**\n",
        "  - Mathematically this makes no sense, but programatically it does\n",
        "  - The equal sign is not equality, it is an assignment operator\n",
        "  - The expression states $1$ is added to the current value of **`x`** assigned back to **`x`**\n",
        "  - The right side of the equal sign is completely evaluated before the assignment takes place\n",
        "- Variables can also be \"incremented\" by using...\n",
        "  - Subtraction (also known as decrementing)\n",
        "  - Multiplication\n",
        "  - Division\n",
        "  - Exponentiation\n",
        "- A more *Pythonic* way to increment is to use one of the shortcuts below\n",
        "\n",
        "| Traditional <br>Expression | Shortcut <br>Expression | Starting **`x`** | Ending **`x`**|\n",
        "|:-----------:|:--------:|:---:|:---:|\n",
        "| `x = x + 1`  |  `x += 1`|3|4|\n",
        "| `x = x - 1`  |  `x -= 1`|4|3|\n",
        "| `x = x * 2`  |  `x *= 2`|3|6|\n",
        "| `x = x / 2`  |  `x /= 2`|6|3|\n",
        "| `x = x**2`  |  `x **= 2`|3|9|\n"
      ],
      "metadata": {
        "deletable": false,
        "editable": false,
        "run_control": {
          "frozen": true
        }
      }
    },
    {
      "cell_type": "markdown",
      "source": [
        "___\n",
        "**Practice it**\n",
        "\n",
        "Assign 5 to the variable **`a`** in the first code cell then use shortcut increment expressions to perform each of the following tasks. Print **`a`** after each expression.\n",
        "\n",
        "1. Add 4 to **`a`**\n",
        "1. Subtract 4 from **`a`**\n",
        "1. Square **`a`**\n",
        "1. Multiply **`a`** by 3\n",
        "\n",
        "If you make a mistake along the way, re-execute all of the cells after fixing the error."
      ],
      "metadata": {
        "deletable": false,
        "editable": false,
        "run_control": {
          "frozen": true
        }
      }
    },
    {
      "cell_type": "code",
      "source": [
        "# assign 5 to a\n"
      ],
      "outputs": [],
      "execution_count": null,
      "metadata": {}
    },
    {
      "cell_type": "code",
      "source": [
        "# add 4 to a and assign back to a\n"
      ],
      "outputs": [],
      "execution_count": null,
      "metadata": {}
    },
    {
      "cell_type": "code",
      "source": [
        "# subtract 4 from a and assign back to a\n"
      ],
      "outputs": [],
      "execution_count": null,
      "metadata": {}
    },
    {
      "cell_type": "code",
      "source": [
        "# square a and assign back to a\n"
      ],
      "outputs": [],
      "execution_count": null,
      "metadata": {}
    },
    {
      "cell_type": "code",
      "source": [
        "# multiply a by 3 and assign back to a\n"
      ],
      "outputs": [],
      "execution_count": null,
      "metadata": {}
    },
    {
      "cell_type": "markdown",
      "source": [
        "## **`while`** Loops\n",
        "\n",
        "- First line (header)\n",
        "  - Starts with **`while`**\n",
        "  - Requires a conditional statement after **`while`**\n",
        "  - End with a colon\n",
        "- Other lines (body)\n",
        "  - Indented by 4 spaces relative to the first line\n",
        "  - Runs body code as long as the conditional statement is **`True`**\n",
        "- Will keep looping until... \n",
        "  - The conditional statement becomes **`False`**\n",
        "  - A **`break`** command is executed\n",
        "- A variable in usually incremented inside the loop eventually causing the conditional to be **`False`**\n",
        "- Incrementing is usually done in the last line of the body\n",
        "- The variable used in the conditional needs to be set to a value before the loop starts\n"
      ],
      "metadata": {
        "deletable": false,
        "editable": false,
        "run_control": {
          "frozen": true
        }
      }
    },
    {
      "cell_type": "markdown",
      "source": [
        "\n",
        "![while%20loop%20diagram.png](while%20loop%20diagram.png)\n"
      ],
      "metadata": {
        "deletable": false,
        "editable": false
      }
    },
    {
      "cell_type": "markdown",
      "source": [
        "___\n",
        "**Practice it**\n",
        "\n",
        "Execute the following code cell to see how the **`while`** loop diagrammed above works."
      ],
      "metadata": {
        "deletable": false,
        "editable": false,
        "run_control": {
          "frozen": true
        }
      }
    },
    {
      "cell_type": "code",
      "source": [
        "k = 1\n",
        "while k < 11:\n",
        "    x = k**2\n",
        "    print('x =', x)\n",
        "    k += 3"
      ],
      "outputs": [],
      "execution_count": null,
      "metadata": {}
    },
    {
      "cell_type": "markdown",
      "source": [
        "[Python Tutor visualization of the above code](http://pythontutor.com/live.html#code=k%20%3D%201%0Awhile%20k%20%3C%2011%3A%0A%20%20%20%20x%20%3D%20k**2%0A%20%20%20%20print%28'x%20%3D',%20x%29%0A%20%20%20%20k%20%2B%3D%203&cumulative=true&curInstr=0&heapPrimitives=nevernest&mode=display&origin=opt-live.js&py=3&rawInputLstJSON=%5B%5D&textReferences=false)"
      ],
      "metadata": {
        "deletable": false,
        "editable": false
      }
    },
    {
      "cell_type": "markdown",
      "source": [
        "___\n",
        "**Practice it**\n",
        "\n",
        "Edit the following code to include an appropriate conditional with the **`while`** statement and an appropriate starting value. Increment an expression for **`x`** in order to square every third integer starting at 1 and ending with 10. Then execute the edited code cell to perform the same task as was previously accomplished, except this time using a **`while`** loop instead of a **`for`** loop."
      ],
      "metadata": {
        "deletable": false,
        "editable": false,
        "run_control": {
          "frozen": true
        }
      }
    },
    {
      "cell_type": "code",
      "source": [
        "y = []\n",
        "x =            # set the starting value for x\n",
        "while :        # add a conditional statement\n",
        "    y.append(x**2)\n",
        "    print('x =',x)\n",
        "    print('y =', y)\n",
        "    # add proper increment for x\n",
        "print('Final y =', y)"
      ],
      "outputs": [],
      "execution_count": null,
      "metadata": {}
    },
    {
      "cell_type": "markdown",
      "source": [
        "[Python Tutor visualization of the above completed code](http://pythontutor.com/live.html#code=y%20%3D%20%5B%5D%0Ax%20%3D%201%20%20%20%20%20%20%20%20%20%20%20%20%20%20%20%20%23%20set%20the%20starting%20value%20for%20x%0Awhile%20x%20%3C%2011%3A%20%20%20%20%20%20%20%20%23%20add%20a%20conditional%20statement%0A%20%20%20%20y.append%28x**2%29%0A%20%20%20%20print%28'x%20%3D',x%29%0A%20%20%20%20print%28'y%20%3D',%20y%29%0A%20%20%20%20%23%20add%20proper%20increment%20for%20x%0A%20%20%20%20x%20%2B%3D%203%0Aprint%28'Final%20y%20%3D',%20y%29&cumulative=true&curInstr=0&heapPrimitives=nevernest&mode=display&origin=opt-live.js&py=3&rawInputLstJSON=%5B%5D&textReferences=false)"
      ],
      "metadata": {
        "deletable": false,
        "editable": false,
        "run_control": {
          "frozen": true
        }
      }
    },
    {
      "cell_type": "markdown",
      "source": [
        "## The **`break`** Command\n",
        "\n",
        "- Using **`while True:`** may eliminate the need for incrementing a variable\n",
        "- Since **`True`** is *always* **`True`**, you need another way to exit the loop\n",
        "- Can add a **`break`** command along with an **`if`** statement in the loop to force an exit\n",
        "- If the **`break`** condition is not met, the loop will continue running\n",
        "\n",
        "</br>\n",
        "\n",
        "___\n",
        "**Practice it**\n",
        "\n",
        "Add a **`while`** loop and a **`break`** command to the **`diceroll()`** function in the following cell. Add an **`input()`** function after the dice roll results are displayed that tells the user to press the **`q`** key then the **`[enter]`** key to quit or just the **`[enter]`** key to continue. Break from the loop only if the input value is **`q`** or **`Q`.** Test the modified function in the provided code cell with a few dice rolls.\n",
        "\n",
        "- Where should the **`while`** statement be placed?\n",
        "- Where do the **`input()`** and **`break`** expressions go?\n",
        "- Don't forget to indent properly"
      ],
      "metadata": {
        "deletable": false,
        "editable": false,
        "run_control": {
          "frozen": true
        }
      }
    },
    {
      "cell_type": "code",
      "source": [
        "def diceroll():\n",
        "    import random\n",
        "    dice1 = random.randint(1,6)\n",
        "    dice2 = random.randint(1,6)\n",
        "    print('Die 1 =',dice1,'    Die 2 =',dice2)\n",
        "    if dice1 + dice2 == 2:\n",
        "        print('Too bad')\n",
        "        print('{} + {} is snake eyes'.format(dice1, dice2))\n",
        "    elif (dice1 + dice2 == 7) or (dice1 + dice2 == 11):\n",
        "        print('Winner, winner, chicken dinner')\n",
        "        print('{} + {} = {}, a natural'.format(dice1, dice2, dice1 + dice2))\n",
        "    elif dice1 + dice2 == 12:\n",
        "        print(\"It's not your day\")\n",
        "        print('{} + {} is boxcars'.format(dice1, dice2));\n",
        "    else:\n",
        "        print('Better luck next time')\n",
        "        print('{} + {} is nothing special'.format(dice1,dice2))\n",
        "    print(flush=True)"
      ],
      "outputs": [],
      "execution_count": null,
      "metadata": {}
    },
    {
      "cell_type": "code",
      "source": [],
      "outputs": [],
      "execution_count": null,
      "metadata": {}
    },
    {
      "cell_type": "markdown",
      "source": [
        "## Infinite Loops\n",
        "\n",
        "- Infinite loops have a bad reputation because it is assumed the program is running out of control\n",
        "- However, sometimes we want a loop to run \"infinitely\" (or until a physical reset)\n",
        "- This will be the case later in the semester when we write scripts for microprocessors\n",
        "- We will want most of the commands in scripts to run until the unit is restarted\n",
        "- The following code example would do just that (don't execute unless you want to restart this notebook)\n",
        "\n",
        "```python\n",
        "# This is an infinite loop\n",
        "print(\"It keeps going...\")\n",
        "while True:\n",
        "    print(\"and going...\")\n",
        "```\n",
        "\n",
        "Always make sure you have a way to exit a **`while`** loop before you execute code containing one unless you know you want to run indefinitely."
      ],
      "metadata": {
        "deletable": false,
        "editable": false,
        "run_control": {
          "frozen": true
        }
      }
    },
    {
      "cell_type": "markdown",
      "source": [
        "**Wrap it up**\n",
        "\n",
        "Click on the **Save** button and then the **Close and halt** button when you are done before closing your tab."
      ],
      "metadata": {
        "deletable": false,
        "editable": false,
        "run_control": {
          "frozen": true
        }
      }
    }
  ],
  "metadata": {
    "kernelspec": {
      "display_name": "Python 3",
      "language": "python",
      "name": "python3"
    },
    "language_info": {
      "codemirror_mode": {
        "name": "ipython",
        "version": 3
      },
      "file_extension": ".py",
      "mimetype": "text/x-python",
      "name": "python",
      "nbconvert_exporter": "python",
      "pygments_lexer": "ipython3",
      "version": "3.8.5"
    },
    "varInspector": {
      "cols": {
        "lenName": 16,
        "lenType": 16,
        "lenVar": 40
      },
      "kernels_config": {
        "python": {
          "delete_cmd_postfix": "",
          "delete_cmd_prefix": "del ",
          "library": "var_list.py",
          "varRefreshCmd": "print(var_dic_list())"
        },
        "r": {
          "delete_cmd_postfix": ") ",
          "delete_cmd_prefix": "rm(",
          "library": "var_list.r",
          "varRefreshCmd": "cat(var_dic_list()) "
        }
      },
      "types_to_exclude": [
        "module",
        "function",
        "builtin_function_or_method",
        "instance",
        "_Feature"
      ],
      "window_display": false
    },
    "nteract": {
      "version": "0.25.1"
    }
  },
  "nbformat": 4,
  "nbformat_minor": 4
}