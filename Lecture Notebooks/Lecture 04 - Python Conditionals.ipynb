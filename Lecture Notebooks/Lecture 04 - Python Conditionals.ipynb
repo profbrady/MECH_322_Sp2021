{
 "cells": [
  {
   "cell_type": "markdown",
   "metadata": {
    "deletable": false,
    "editable": false,
    "run_control": {
     "frozen": true
    }
   },
   "source": [
    "# Lecture 4 - Python Conditionals\n",
    "___"
   ]
  },
  {
   "cell_type": "code",
   "execution_count": null,
   "metadata": {},
   "outputs": [],
   "source": [
    "name = \"Your name here\"\n",
    "print(\"Name:\", name.upper())"
   ]
  },
  {
   "cell_type": "markdown",
   "metadata": {
    "deletable": false,
    "editable": false,
    "run_control": {
     "frozen": true
    }
   },
   "source": [
    "## Purpose\n",
    "\n",
    "- Create expressions with comparison operators\n",
    "\n",
    "- Create expressions with logical operators\n",
    "\n",
    "- Create more complex scripts that include conditional branching\n",
    "\n",
    "    - Use `if` statement groups\n",
    "    \n",
    "    - Use `if-else` statement groups\n",
    "    \n",
    "    - Use `if-elif-else` statement groups\n",
    "    \n",
    "## Instructions\n",
    "\n",
    "1. Replace \"Your name here\" in the cell below the assignment title with your first and last names and then execute the cell using \"Shift-Enter\"\n",
    "2. Execute the time stamp cell \n",
    "3. Follow along with the instructor in class as we learn to work with conditionals in *Python*\n",
    "4. Execute the date stamp cell at the end of the document and submitting your saved `.ipynb` file to *Canvas* for credit"
   ]
  },
  {
   "cell_type": "markdown",
   "metadata": {
    "deletable": false,
    "editable": false,
    "run_control": {
     "frozen": true
    }
   },
   "source": [
    "## Some Creative Commons Reference Sources for This Material\n",
    "\n",
    "- *Think Python 2nd Edition*, Allen Downey, chapter 5\n",
    "- *The Coder's Apprentice*, Pieter Spronck, chapter 6\n",
    "- *A Practical Introduction to Python Programming*, Brian Heinold, chapter 4\n",
    "- *Algorithmic Problem Solving with Python*, John Schneider, Shira Broschat, and Jess Dahmen, chapter 11"
   ]
  },
  {
   "cell_type": "code",
   "execution_count": null,
   "metadata": {
    "deletable": false,
    "editable": false
   },
   "outputs": [],
   "source": [
    "from datetime import datetime\n",
    "from pytz import timezone\n",
    "print(datetime.now(timezone('US/Eastern')))"
   ]
  },
  {
   "cell_type": "markdown",
   "metadata": {
    "deletable": false,
    "editable": false,
    "run_control": {
     "frozen": true
    }
   },
   "source": [
    "## Background\n",
    "\n",
    "As we have seen previously, script files in their simplest form are a list of commands that are executed in order; one after the other, from top to bottom. However, quite often it is necessary for a script to make decisions based on the values assigned to variables or to execute a group of commands more than once. Changing the flow of a script requires that some sort of decision making be added within the script. The addition of decision making processes is one of the primary differences between simple and complex scripts. Comparison and logical operators are a necessary part of the decision making process. They are used as part of every conditional statement that alters the flow of a script. The *Python* conditional statements introduced here are the `if`, `if-else`, and `if-elif-else` statement groups."
   ]
  },
  {
   "cell_type": "markdown",
   "metadata": {
    "deletable": false,
    "editable": false,
    "run_control": {
     "frozen": true
    }
   },
   "source": [
    "## Comparison Operators\n",
    "\n",
    "In order to add the ability for a script to make decisions, we need to compare values and/or variables. Doing so requires an understanding of comparison and logical operators. Comparison operators compare two values and should be familiar to most. They include the following:\n",
    "\n",
    "|Operator | Description | Example | Result |\n",
    "|:-----|:----------|:---|:---|\n",
    "|`<`  | is the left side value less than the right | `3 < 5` | `True`|\n",
    "|`>`  | is the left side value greater than the right | `3 > 5` | `False`|\n",
    "|`<=` | is the left value less than or equal to the right | `2 <= 4/2` | `True`|\n",
    "|`>=` | is the left value greater than or equal to the right | `4**2 >= 15` | `True`|\n",
    "|`==` | are the two values equal to each other | `2 + 2 == 2*2` | `True`|\n",
    "|`!=` | are the two values not equal to each other | `16**(1/2) != 4` | `False`|\n",
    "|`is` | is one object the same as another (different than `==`) | `2.0 is 2` | `False`|\n",
    "|`is not` | is one object not the same as the other | `2.0 is  not 2` | `True`|\n",
    "|`in` | is one object in (a sub-set of) the other | `'e' in 'yes'` | `True`|\n",
    "|`not in` | is one object not in the other | `'i' not in 'team'` | `True`|\n",
    "\n",
    "\n",
    "Comparison operators can be used to compare two objects; usually numbers in our case, but can also include strings and other objects. The result of these comparisons is either `True` or `False`. Mathematical operators take precedence over comparison operators, and comparison operators all have the same precedence and are evaluated left to right. Therefore, it is important to use parentheses to group portions of expressions to ensure the desired comparison is made. When using the `in` and `not in` operators, the second object (the one after the operator) must be what *Python* refers to as an iterable. Strings are iterables, as are lists, tuples, and ranges; each of which will be introduced later."
   ]
  },
  {
   "cell_type": "markdown",
   "metadata": {
    "deletable": false,
    "editable": false,
    "run_control": {
     "frozen": true
    }
   },
   "source": [
    ">**Practice it**\n",
    ">\n",
    ">Execute the following commands in separate code cells to see how comparison operators work.\n",
    ">\n",
    ">```python\n",
    "2 > 10\n",
    "10 > 2\n",
    "5 < 10\n",
    "5 != 10\n",
    ">```"
   ]
  },
  {
   "cell_type": "code",
   "execution_count": null,
   "metadata": {},
   "outputs": [],
   "source": []
  },
  {
   "cell_type": "code",
   "execution_count": null,
   "metadata": {},
   "outputs": [],
   "source": []
  },
  {
   "cell_type": "code",
   "execution_count": null,
   "metadata": {},
   "outputs": [],
   "source": []
  },
  {
   "cell_type": "code",
   "execution_count": null,
   "metadata": {},
   "outputs": [],
   "source": []
  },
  {
   "cell_type": "markdown",
   "metadata": {
    "deletable": false,
    "editable": false,
    "run_control": {
     "frozen": true
    }
   },
   "source": [
    ">Multiple comparisons can be used in the same expression. Note that `True` acts like a `1` and `False` acts like a `0` when included  in math operations.\n",
    ">\n",
    ">```python\n",
    "y = (6 < 10) + (7 > 8) + (5*3 == 60/4)\n",
    "y\n",
    ">```"
   ]
  },
  {
   "cell_type": "code",
   "execution_count": null,
   "metadata": {},
   "outputs": [],
   "source": []
  },
  {
   "cell_type": "markdown",
   "metadata": {
    "deletable": false,
    "editable": false,
    "run_control": {
     "frozen": true
    }
   },
   "source": [
    ">```python\n",
    "a = 12\n",
    "b = 12.0\n",
    "a == b\n",
    ">```"
   ]
  },
  {
   "cell_type": "code",
   "execution_count": null,
   "metadata": {},
   "outputs": [],
   "source": []
  },
  {
   "cell_type": "code",
   "execution_count": null,
   "metadata": {},
   "outputs": [],
   "source": []
  },
  {
   "cell_type": "code",
   "execution_count": null,
   "metadata": {},
   "outputs": [],
   "source": []
  },
  {
   "cell_type": "markdown",
   "metadata": {
    "deletable": false,
    "editable": false,
    "run_control": {
     "frozen": true
    }
   },
   "source": [
    ">```python\n",
    "a is b\n",
    "a is not b\n",
    ">```"
   ]
  },
  {
   "cell_type": "code",
   "execution_count": null,
   "metadata": {},
   "outputs": [],
   "source": []
  },
  {
   "cell_type": "code",
   "execution_count": null,
   "metadata": {},
   "outputs": [],
   "source": []
  },
  {
   "cell_type": "markdown",
   "metadata": {
    "deletable": false,
    "editable": false,
    "run_control": {
     "frozen": true
    }
   },
   "source": [
    ">Comparison operators are not confined to working with numeric values\n",
    ">```\n",
    "'A' > 'a'\n",
    "'h' in 'Python'\n",
    ">```"
   ]
  },
  {
   "cell_type": "code",
   "execution_count": null,
   "metadata": {},
   "outputs": [],
   "source": []
  },
  {
   "cell_type": "code",
   "execution_count": null,
   "metadata": {},
   "outputs": [],
   "source": []
  },
  {
   "cell_type": "markdown",
   "metadata": {
    "deletable": false,
    "editable": false,
    "run_control": {
     "frozen": true
    }
   },
   "source": [
    "## Logical Operators\n",
    "\n",
    "Logical operators include `and`, `or`, and `not`. Each of these operators and usage is shown below. In relation to logical operators, any non-zero value is considered to be logically `True` and zero is logically `False`.\n",
    "\n",
    "|Name | Usage |  Result|\n",
    ":------|:----------|:---------|\n",
    "`and` | `A and B` |  `True` if both `A` and `B` are `True`; `False` otherwise\n",
    "`or`  |  `A or B` |  `True` if either `A` or `B` are `True`; `False` otherwise\n",
    "`not` | `not A`   |  `True` if `A` is `False`; `False` if `A` is `True`\n",
    "\n",
    "Like comparison operators, logical operators can be used with any object. Logical operators can be used alongside arithmetic operators. The precedence of the `and`, `or`, and `not` operators falls after all arithmetic operators and comparison operators in the order shown. \n",
    "\n",
    "Using logical operators with numeric values generates curious results. Using `or` with two numeric values results in the first non-zero value of the pair if at least one of the values is not zero or zero if both values are zero. Using `and` with two numeric values results in the second non-zero value of the pair if neither value is zero or zero if either of the values is zero."
   ]
  },
  {
   "cell_type": "markdown",
   "metadata": {},
   "source": [
    ">**Practice it**\n",
    ">\n",
    ">Execute the following commands in their own code cells to see logical operators in action.\n",
    ">\n",
    ">```python\n",
    "3 < 4 or 5 < 3\n",
    "3 < 4 and 5 < 3\n",
    "3 < 4 and 3 < 5\n",
    ">```"
   ]
  },
  {
   "cell_type": "code",
   "execution_count": null,
   "metadata": {},
   "outputs": [],
   "source": []
  },
  {
   "cell_type": "code",
   "execution_count": null,
   "metadata": {},
   "outputs": [],
   "source": []
  },
  {
   "cell_type": "code",
   "execution_count": null,
   "metadata": {},
   "outputs": [],
   "source": []
  },
  {
   "cell_type": "markdown",
   "metadata": {
    "deletable": false,
    "editable": false,
    "run_control": {
     "frozen": true
    }
   },
   "source": [
    ">```python\n",
    "3 and 7\n",
    "10 and 0\n",
    "5 or 10\n",
    "0 or 7\n",
    ">```"
   ]
  },
  {
   "cell_type": "code",
   "execution_count": null,
   "metadata": {},
   "outputs": [],
   "source": []
  },
  {
   "cell_type": "code",
   "execution_count": null,
   "metadata": {},
   "outputs": [],
   "source": []
  },
  {
   "cell_type": "code",
   "execution_count": null,
   "metadata": {},
   "outputs": [],
   "source": []
  },
  {
   "cell_type": "code",
   "execution_count": null,
   "metadata": {},
   "outputs": [],
   "source": []
  },
  {
   "cell_type": "markdown",
   "metadata": {
    "deletable": false,
    "editable": false,
    "run_control": {
     "frozen": true
    }
   },
   "source": [
    ">```python\n",
    "not 25\n",
    "not 0\n",
    "t = 25*((12 and 0) + (not 0) + (0 or 5))\n",
    ">```"
   ]
  },
  {
   "cell_type": "code",
   "execution_count": null,
   "metadata": {},
   "outputs": [],
   "source": []
  },
  {
   "cell_type": "code",
   "execution_count": null,
   "metadata": {},
   "outputs": [],
   "source": []
  },
  {
   "cell_type": "code",
   "execution_count": null,
   "metadata": {},
   "outputs": [],
   "source": []
  },
  {
   "cell_type": "markdown",
   "metadata": {
    "deletable": false,
    "editable": false,
    "run_control": {
     "frozen": true
    }
   },
   "source": [
    ">**Practice it**\n",
    ">\n",
    ">Execute the following commands in their own code cells to use logical and comparison operators together.\n",
    ">\n",
    ">```python\n",
    "x, y = -2, 5\n",
    "-5 < x < -1\n",
    "-5 < x and x < -1\n",
    ">```"
   ]
  },
  {
   "cell_type": "code",
   "execution_count": null,
   "metadata": {},
   "outputs": [],
   "source": []
  },
  {
   "cell_type": "code",
   "execution_count": null,
   "metadata": {},
   "outputs": [],
   "source": []
  },
  {
   "cell_type": "code",
   "execution_count": null,
   "metadata": {},
   "outputs": [],
   "source": []
  },
  {
   "cell_type": "markdown",
   "metadata": {
    "deletable": false,
    "editable": false,
    "run_control": {
     "frozen": true
    }
   },
   "source": [
    ">```python\n",
    "not (y < 7)\n",
    "not ((y >= 8) or (x < -1))\n",
    "not (y >= 8) or (x < -1)\n",
    ">```"
   ]
  },
  {
   "cell_type": "code",
   "execution_count": null,
   "metadata": {},
   "outputs": [],
   "source": []
  },
  {
   "cell_type": "code",
   "execution_count": null,
   "metadata": {},
   "outputs": [],
   "source": []
  },
  {
   "cell_type": "code",
   "execution_count": null,
   "metadata": {},
   "outputs": [],
   "source": []
  },
  {
   "cell_type": "markdown",
   "metadata": {
    "deletable": false,
    "editable": false,
    "run_control": {
     "frozen": true
    }
   },
   "source": [
    "## The `if` Statement Group\n",
    "\n",
    "The `if` statement is actually part of a group or block of commands. The first line contains the `if` statement plus a comparison followed by a colon. The colon indicates that the line is the first of a group of lines/commands. The lines that follow must be indented 4 spaces and contain all of the expressions, commands, and functions that need to be executed only if the comparison on the first line is `True` . If the initial comparison is `False`, then execution in the script, function, or code cell will skip all of the indented lines before continuing. See the following example of how the `if` statement works.\n",
    "\n",
    "```python\n",
    "x = 9\n",
    "if x < 10:  # can be any comparison. you must have the colon : at the end\n",
    "    # the indented code only executes if the comparison is true\n",
    "    print('x is less than 10')\n",
    "print('x =',x) # this line always executes\n",
    "```"
   ]
  },
  {
   "cell_type": "markdown",
   "metadata": {
    "deletable": false,
    "editable": false,
    "run_control": {
     "frozen": true
    }
   },
   "source": [
    ">**Practice it**\n",
    ">\n",
    ">Write the body for the following user-defined function definition so that it contains an `if` statement group that prints `That is odd` only when `x` is odd. Use the `%` operator in the comparison. Execute the cell when done to place the function in memory and then call the function with different values for `x` to see what happens. Take note of the results.\n",
    ">\n",
    ">A note on indentation in the function definition: since the function body gets indented 4 spaces, the `if` inside the function definition needs match the function body indentation and the commands belonging to the `if` must be indented an additional 4 spaces."
   ]
  },
  {
   "cell_type": "code",
   "execution_count": null,
   "metadata": {},
   "outputs": [],
   "source": [
    "def is_it_odd(x):\n"
   ]
  },
  {
   "cell_type": "code",
   "execution_count": null,
   "metadata": {},
   "outputs": [],
   "source": []
  },
  {
   "cell_type": "code",
   "execution_count": null,
   "metadata": {},
   "outputs": [],
   "source": []
  },
  {
   "cell_type": "code",
   "execution_count": null,
   "metadata": {},
   "outputs": [],
   "source": []
  },
  {
   "cell_type": "code",
   "execution_count": null,
   "metadata": {},
   "outputs": [],
   "source": []
  },
  {
   "cell_type": "markdown",
   "metadata": {
    "deletable": false,
    "editable": false,
    "run_control": {
     "frozen": true
    }
   },
   "source": [
    "## Using the `if-else` Statement Group\n",
    "\n",
    "An `if-else` statement group starts just like an `if` group. The difference here is that an `else` statement is added immediatley after the last indented line of the `if` group. The line with the `else` statement must have the same indentation as the `if` line that it is paired with (which by default is none). The `else` line does not (and can not) contain any comparison, just `else` followed by a colon. The following lines must be indented 4 spaces and contain all of the expressions, functions, and commands that need to be executed if the initial `if` condition is `False`. Therefore, the first block of commands execute if the condition is `True` and the second block if the condition is `False`.\n",
    "\n",
    "```python\n",
    "x = 9\n",
    "if x < 10:  # can be any comparison. you must have the colon : at the end\n",
    "    # this indented code only executes if the comparison is true\n",
    "    print('x is less than 10')\n",
    "else:\n",
    "    # this indented code only executes if the comparison is false\n",
    "    print('x is greater than or equal to 10')\n",
    "print('x =', x) # this line always executes\n",
    "```"
   ]
  },
  {
   "cell_type": "markdown",
   "metadata": {
    "deletable": false,
    "editable": false,
    "run_control": {
     "frozen": true
    }
   },
   "source": [
    ">**Practice it**\n",
    ">\n",
    ">Edit the following function definition to add a comparison to the `if` statement that makes the funtion work properly. Then execute the code cell to place the function `is_single(y)` into memory. Call the function with different `y` values in the provided cells to see how the `if-else` group works."
   ]
  },
  {
   "cell_type": "code",
   "execution_count": null,
   "metadata": {},
   "outputs": [],
   "source": [
    "def is_single(y):\n",
    "    if :  # add your comparison before the colon\n",
    "        print(f'{y} is a single digit number')\n",
    "    else:\n",
    "        print(f'{y} is not a single digit number')"
   ]
  },
  {
   "cell_type": "code",
   "execution_count": null,
   "metadata": {},
   "outputs": [],
   "source": []
  },
  {
   "cell_type": "code",
   "execution_count": null,
   "metadata": {},
   "outputs": [],
   "source": []
  },
  {
   "cell_type": "code",
   "execution_count": null,
   "metadata": {},
   "outputs": [],
   "source": []
  },
  {
   "cell_type": "markdown",
   "metadata": {
    "deletable": false,
    "editable": false,
    "run_control": {
     "frozen": true
    }
   },
   "source": [
    "## The `if-elif-else` Statement Group\n",
    "\n",
    "So far, we have seen how to use just an `if` group to execute a specific group of expressions if a comparison is `True`. We've also seen how to use an `if-else` group to execute one group of expressions if a comparison is `True` and another group if it is `False`. The addition of the `elif` (short for else if) statement allows us to set up any number of possible events. The format of the `elif` statement is just like the `if`. However, it is located after the initial `if` and before an `else`. Use of this statement group type does not mandate the use of an `else` though.\n",
    "\n",
    "It is important to note that only the first group that evaluates to `True` will be executed. Once an `if` or `elif` group is executed, all others will be skipped and execution continues at the next unindented line of code.\n",
    "\n",
    "```python\n",
    "x = 9\n",
    "if x < 10:  # can be any comparison. you must have the colon : at the end\n",
    "    # this indented code only executes if the 'if' is true\n",
    "    print('x is less than 10')\n",
    "elif x == 10:\n",
    "    # this indented code only executes if the 'elif' is true\n",
    "    print('x is equal to 10')\n",
    "else:\n",
    "    # this indented code only executes if the 'if' and 'elif' are false\n",
    "    print('x is greater than 10')\n",
    "print('x =',x) # this line always executes\n",
    "```"
   ]
  },
  {
   "cell_type": "markdown",
   "metadata": {
    "deletable": false,
    "editable": false,
    "run_control": {
     "frozen": true
    }
   },
   "source": [
    ">**Practice it**\n",
    ">\n",
    ">Edit and then execute the following code cell to define the `diceroll()` function. You need to add all of the comparisons that cause the proper statements to be printed. Don't forget the colons. Use the following code cells to execute it several times to see how it works."
   ]
  },
  {
   "cell_type": "code",
   "execution_count": null,
   "metadata": {},
   "outputs": [],
   "source": [
    "def diceroll():\n",
    "    # snake eyes is a roll of 2\n",
    "    # a natural is a roll of 7 or 11\n",
    "    # boxcars is a roll of 12\n",
    "    # anything else is \"nothing special\"\n",
    "    import random\n",
    "    die1 = random.randint(1, 6)\n",
    "    die2 = random.randint(1, 6)\n",
    "    print('Die 1 =', die1, '\\tDie 2 =', die2)\n",
    "    if\n",
    "        print('Too bad')\n",
    "        print(f'{die1} + {die2} is snake eyes')\n",
    "    elif\n",
    "        print('Winner, winner, chicken dinner')\n",
    "        print(f'{die1} + {die2} = {die1 + die2}, a natural')\n",
    "    elif\n",
    "        print(\"It's not your day\")\n",
    "        print(f'{die1} + {die2} is boxcars')\n",
    "    else:\n",
    "        print('Better luck next time')\n",
    "        print(f'{die1} + {die2} is nothing special')"
   ]
  },
  {
   "cell_type": "code",
   "execution_count": null,
   "metadata": {},
   "outputs": [],
   "source": []
  },
  {
   "cell_type": "code",
   "execution_count": null,
   "metadata": {},
   "outputs": [],
   "source": []
  },
  {
   "cell_type": "code",
   "execution_count": null,
   "metadata": {},
   "outputs": [],
   "source": []
  },
  {
   "cell_type": "code",
   "execution_count": null,
   "metadata": {},
   "outputs": [],
   "source": []
  },
  {
   "cell_type": "code",
   "execution_count": null,
   "metadata": {},
   "outputs": [],
   "source": []
  },
  {
   "cell_type": "markdown",
   "metadata": {
    "deletable": false,
    "editable": false,
    "run_control": {
     "frozen": true
    }
   },
   "source": [
    "## The Ternary Operator; A *Pythonic* Technique\n",
    "\n",
    "*Python* allows you to perform an assignment and an `if-else` in the same line of code. This operation is called the **ternary operator**. The executable code cell illustrates how it works. It does the same thing in one expression as a standard `if-else` does with four.\n",
    "\n",
    "```python\n",
    "# using an if-else group\n",
    "y = 10\n",
    "if y > 10:\n",
    "    x = 25\n",
    "else:\n",
    "    x = 20\n",
    "```"
   ]
  },
  {
   "cell_type": "markdown",
   "metadata": {
    "deletable": false,
    "editable": false,
    "run_control": {
     "frozen": true
    }
   },
   "source": [
    ">**Practice it**\n",
    ">\n",
    ">Change the value of `y` on the line before the ternary operator a few times and execute the code block to see the results."
   ]
  },
  {
   "cell_type": "code",
   "execution_count": null,
   "metadata": {},
   "outputs": [],
   "source": [
    "y = 10\n",
    "x = 25 if y > 10 else 20\n",
    "print('x =', x)"
   ]
  },
  {
   "cell_type": "markdown",
   "metadata": {
    "deletable": false,
    "editable": false,
    "run_control": {
     "frozen": true
    }
   },
   "source": [
    ">**Wrap it up**\n",
    ">\n",
    ">Execute the time and date stamp code cell.\n",
    ">\n",
    ">Click on the **Save** button and then the **Close and halt** button when you are done. **This is an instructor-led assignment that must be completed before the end of the lab session in order to receive credit.**"
   ]
  },
  {
   "cell_type": "code",
   "execution_count": null,
   "metadata": {
    "deletable": false,
    "editable": false
   },
   "outputs": [],
   "source": [
    "from datetime import datetime\n",
    "from pytz import timezone\n",
    "print(datetime.now(timezone('US/Eastern')))"
   ]
  }
 ],
 "metadata": {
  "kernelspec": {
   "display_name": "Python 3",
   "language": "python",
   "name": "python3"
  },
  "language_info": {
   "codemirror_mode": {
    "name": "ipython",
    "version": 3
   },
   "file_extension": ".py",
   "mimetype": "text/x-python",
   "name": "python",
   "nbconvert_exporter": "python",
   "pygments_lexer": "ipython3",
   "version": "3.7.5"
  },
  "varInspector": {
   "cols": {
    "lenName": 16,
    "lenType": 16,
    "lenVar": 40
   },
   "kernels_config": {
    "python": {
     "delete_cmd_postfix": "",
     "delete_cmd_prefix": "del ",
     "library": "var_list.py",
     "varRefreshCmd": "print(var_dic_list())"
    },
    "r": {
     "delete_cmd_postfix": ") ",
     "delete_cmd_prefix": "rm(",
     "library": "var_list.r",
     "varRefreshCmd": "cat(var_dic_list()) "
    }
   },
   "types_to_exclude": [
    "module",
    "function",
    "builtin_function_or_method",
    "instance",
    "_Feature"
   ],
   "window_display": false
  }
 },
 "nbformat": 4,
 "nbformat_minor": 1
}
