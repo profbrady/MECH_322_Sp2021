{
 "cells": [
  {
   "cell_type": "markdown",
   "metadata": {
    "collapsed": false,
    "deletable": false,
    "editable": false,
    "run_control": {
     "frozen": true
    }
   },
   "source": [
    "# Lecture 7 - Dictionaries and Files\n",
    "___\n",
    "___"
   ]
  },
  {
   "cell_type": "markdown",
   "metadata": {
    "collapsed": false,
    "deletable": false,
    "editable": false,
    "run_control": {
     "frozen": true
    }
   },
   "source": [
    "## Purpose\n",
    "\n",
    "- Review lists and tuples\n",
    "- Create dictionaries\n",
    "- Access individual items dictionaries\n",
    "- Learn about and use dictionary methods\n",
    "- Read files\n",
    "- Access items in files\n",
    "- Write files\n"
   ]
  },
  {
   "cell_type": "markdown",
   "metadata": {
    "collapsed": false,
    "deletable": false,
    "editable": false,
    "run_control": {
     "frozen": true
    }
   },
   "source": [
    "## Some Creative Commons Reference Sources for This Material\n",
    "\n",
    "- *Think Python 2nd Edition*, Allen Downey, chapters 11 and 14\n",
    "- *The Coder's Apprentice*, Pieter Spronck, chapter 13, 16, and 26\n",
    "- *A Practical Introduction to Python Programming*, Brian Heinold, chapters 11 and 12\n",
    "- *Algorithmic Problem Solving with Python*, John Schneider, Shira Broschat, and Jess Dahmen, chapters 10 and 14"
   ]
  },
  {
   "cell_type": "markdown",
   "metadata": {
    "collapsed": false,
    "deletable": false,
    "editable": false,
    "run_control": {
     "frozen": true
    }
   },
   "source": [
    "## Review of Lists and Tuples\n",
    "\n",
    "- Lists and tuples can be used to hold a number of objects or values\n",
    "- For example, **`my_list = [1, 2, 3, 4, \"Python\", 10.3, 56.78, math.pi, (3, 4, 5)]`**\n",
    "- Access the items in lists (and tuples) using indexing and slicing\n",
    "  - Use **`my_list[4]`** to access the string **`\"Python\"`**\n",
    "  - Use **`my_list[:4]`** to access **`[1, 2, 3, 4]`**\n",
    "- Tuples work the same as lists except they use parentheses\n",
    "- Remember that lists are mutable (can be altered by changing, adding, or removing objects)\n",
    "- Tuples are not mutable"
   ]
  },
  {
   "cell_type": "markdown",
   "metadata": {
    "collapsed": false,
    "deletable": false,
    "editable": false,
    "run_control": {
     "frozen": true
    }
   },
   "source": [
    "___\n",
    "\n",
    "**Practice it**\n",
    "\n",
    "Create a list with 4 strings named **`string_list`** and print it. Also, create a tuple with 4 numeric values named **`num_tuple`** and print it."
   ]
  },
  {
   "cell_type": "code",
   "execution_count": 0,
   "metadata": {
    "collapsed": false
   },
   "outputs": [
   ],
   "source": [
   ]
  },
  {
   "cell_type": "markdown",
   "metadata": {
    "collapsed": false,
    "deletable": false,
    "editable": false
   },
   "source": [
    "- Lists and tuples hold (or contain) objects so are sometimes referred to as containers\n",
    "- Also call them collections since they can hold a collection of objects\n",
    "- Another useful data type that is also a container or collection is the **dictionary**"
   ]
  },
  {
   "cell_type": "markdown",
   "metadata": {
    "collapsed": false,
    "deletable": false,
    "editable": false,
    "run_control": {
     "frozen": true
    }
   },
   "source": [
    "## Introduction to Dictionaries\n",
    "\n",
    "- Dictionaries (like lists) can be used to contain or collect objects\n",
    "- They are mutable\n",
    "- They can contain a variety of object types\n",
    "  - Integers\n",
    "  - Floats\n",
    "  - Strings\n",
    "  - Lists\n",
    "  - Tuples\n",
    "  - Other dictionaries\n",
    "- The primary difference between dictionaries and lists is how objects are stored and accessed\n",
    "- In lists objects are accessed by their position, i.e. **`my_list[2]`**\n",
    "- Dictionaries do not rely upon position to access objects\n",
    "- Items in dictionaries are stored using key-value pairs and the values are accessed via the keys\n",
    "- Dictionary keys...\n",
    "  - Must be immutable objects\n",
    "    - Strings\n",
    "    - Integers\n",
    "    - Floats\n",
    "    - Tuples\n",
    "  - Keys must be unique within a dictionary because values are linked to keys \n",
    "  - Cannot have more than one of any specific key\n",
    "- Values can be nearly any object type, such as...\n",
    "  - Integers\n",
    "  - Floats\n",
    "  - Strings\n",
    "  - Lists\n",
    "  - Tuples\n",
    "  - Dictionaries"
   ]
  },
  {
   "cell_type": "markdown",
   "metadata": {
    "collapsed": false,
    "deletable": false,
    "editable": false
   },
   "source": [
    "## Creating Dictionaries\n",
    "\n",
    "- Dictionaries are enclosed with curly braces **`{ }`**\n",
    "- An empty dictionary can be created two ways\n",
    "  - Empty curly braces assigned to a variable name, i.e. **`MECH_classes = {}`**\n",
    "  - Using the function **`dict()`**, i.e. **`my_dict = dict()`**\n",
    "- Can add key-value pairs via indexing the dictionary name with a key and assigning it a value\n",
    "  - **`MECH_classes['MECH 111'] = 'MET Seminar'`** creates the key-value pair **`'MECH 111':'MET Seminar'`** in **`MECH_classes`**\n",
    "- Can create a dictionary with values in it using curly braces and key-value pairs\n",
    "  - **`MECH_classes = {'MECH 111':'MET Seminar'}`**\n",
    "- Can create a dictionary with key-value pairs and the **`dict()`** function\n",
    "  - One way to do this is to use a list of lists (or tuples) that each contain key-value pairs\n",
    "  - **`MECH_classes = dict([[\"MECH 111\", \"MET Seminar\"], [\"MECH 122\", \"Computer Apps 1\"]])`**\n",
    "\n",
    "___\n",
    "**Practice it**\n",
    "\n",
    "Create the empty dictionary **`MECH_classes`** and then add the key-value pair **`'MECH 111':'MET Seminar'`** to it. Print the dictionary when done."
   ]
  },
  {
   "cell_type": "code",
   "execution_count": 0,
   "metadata": {
    "collapsed": false
   },
   "outputs": [
   ],
   "source": [
   ]
  },
  {
   "cell_type": "markdown",
   "metadata": {
    "collapsed": false,
    "deletable": false,
    "editable": false,
    "run_control": {
     "frozen": true
    }
   },
   "source": [
    "___\n",
    "**Practice it**\n",
    "\n",
    "Create **`MECH_classes`** dictionary again using the direct method with a key-value pair inside of curly braces and then print it."
   ]
  },
  {
   "cell_type": "code",
   "execution_count": 0,
   "metadata": {
    "collapsed": false
   },
   "outputs": [
   ],
   "source": [
   ]
  },
  {
   "cell_type": "markdown",
   "metadata": {
    "collapsed": false,
    "deletable": false,
    "editable": false,
    "run_control": {
     "frozen": true
    }
   },
   "source": [
    "___\n",
    "**Practice it**\n",
    "\n",
    "Use the **`dict()`** function to create and then print the same dictionary with the classes MECH 111 and MECH 122."
   ]
  },
  {
   "cell_type": "code",
   "execution_count": 0,
   "metadata": {
    "collapsed": false
   },
   "outputs": [
   ],
   "source": [
   ]
  },
  {
   "cell_type": "markdown",
   "metadata": {
    "collapsed": false,
    "deletable": false,
    "editable": false,
    "run_control": {
     "frozen": true
    }
   },
   "source": [
    "___\n",
    "**Practice it**\n",
    "\n",
    "You can use one list or tuple that contains your desired keys and another that contains the matching values and zip them together inside a call to **`dict()`**. Use **`string_list`** and **`num_tuple`** to create and print the dictionary named **`my_dict`**."
   ]
  },
  {
   "cell_type": "code",
   "execution_count": 0,
   "metadata": {
    "collapsed": false
   },
   "outputs": [
   ],
   "source": [
   ]
  },
  {
   "cell_type": "markdown",
   "metadata": {
    "collapsed": false,
    "deletable": false,
    "editable": false,
    "run_control": {
     "frozen": true
    }
   },
   "source": [
    "___\n",
    "**Practice it**\n",
    "\n",
    "If you have simple string keys (no spaces), you can create a dictionary using keyword arguments like the following code cell."
   ]
  },
  {
   "cell_type": "code",
   "execution_count": 0,
   "metadata": {
    "collapsed": false,
    "deletable": false
   },
   "outputs": [
   ],
   "source": [
    "MECH_faculty = dict(Brady='JOH 422',\n",
    "        Hollenbeck='JOH 410',\n",
    "        Stein='JOH 407',\n",
    "        Wiltshire='JOH 409')\n",
    "print(MECH_faculty)"
   ]
  },
  {
   "cell_type": "markdown",
   "metadata": {
    "collapsed": false,
    "deletable": false,
    "editable": false,
    "run_control": {
     "frozen": true
    }
   },
   "source": [
    "___\n",
    "**Practice it**\n",
    "\n",
    "Not all dictionaries need to use strings as keys. The following dictionary definition is a valid one even though the keys are not all the same type. Execute it to be sure."
   ]
  },
  {
   "cell_type": "code",
   "execution_count": 0,
   "metadata": {
    "collapsed": false,
    "deletable": false
   },
   "outputs": [
   ],
   "source": [
    "import math\n",
    "my_dict = {1: 'one',\n",
    "           2: 'two',\n",
    "           math.e: 'e',\n",
    "           3: 'three',\n",
    "           3.1416: 'pi',\n",
    "           4: 'four',\n",
    "           5: 'five',\n",
    "           6: 'scared',\n",
    "           7: 'ate nine'}\n",
    "print(my_dict)"
   ]
  },
  {
   "cell_type": "markdown",
   "metadata": {
    "collapsed": false,
    "deletable": false,
    "editable": false,
    "run_control": {
     "frozen": true
    }
   },
   "source": [
    "## Why Dictionaries?\n",
    "\n",
    "- \"Can't we just use lists instead of dictionaries?\"\n",
    "- \"Yes\" most of the time\n",
    "- Lists can be used in many places where dictionaries are used\n",
    "- Dictionaries are sometimes easier or more effective\n",
    "- An example\n",
    "  - Access material properties of specific common engineering materials\n",
    "  - Lots of indexing and searching if using lists\n",
    "  - Could use the material name as the key to return all of the property values\n",
    "  - Could even implement nested dictionaries so each property can be accessed by its name\n",
    "- Another example\n",
    "  - Take a user input string and turn it into Morse Code\n",
    "  - Create a dictionary that contains all of the letters of the alphabet, numbers, and other symbols\n",
    "  - Loop through each character of the string and access the dictionary by character translate to Morse code\n",
    "\n",
    "___\n",
    "**Practice it**\n",
    "\n",
    "Execute the code cell below to create a small material property dictionary. This dictionary uses lists for the material properties (just the USCS and SI yield strengths in ksi and MPa at this time). You would need to know which list index is associated with each property to use the values in this dictionary."
   ]
  },
  {
   "cell_type": "code",
   "execution_count": 0,
   "metadata": {
    "collapsed": false,
    "deletable": false
   },
   "outputs": [
   ],
   "source": [
    "material = {\"Steel ASTM-A36\":[36, 250],\n",
    "           \"Aluminum 2104-T6\":[60, 410],\n",
    "           \"Bronze cold-rolled\":[75, 772],\n",
    "           \"Nickel Alloy\":[60, 414]}"
   ]
  },
  {
   "cell_type": "markdown",
   "metadata": {
    "collapsed": false,
    "deletable": false,
    "editable": false,
    "run_control": {
     "frozen": true
    }
   },
   "source": [
    "___\n",
    "**Practice it**\n",
    "\n",
    "Execute the code cell below to define the function **`string_to_morse(string)`**. In the second cell call the function with the string of your choice (no exclamation points)."
   ]
  },
  {
   "cell_type": "code",
   "execution_count": 0,
   "metadata": {
    "collapsed": false,
    "deletable": false
   },
   "outputs": [
   ],
   "source": [
    "def string_to_morse(string):\n",
    "    to_morse = {'A':'.-', 'B':'-...',\n",
    "            'C':'-.-.', 'D':'-..', 'E':'.',\n",
    "            'F':'..-.', 'G':'--.', 'H':'....',\n",
    "            'I':'..', 'J':'.---', 'K':'-.-',\n",
    "            'L':'.-..', 'M':'--', 'N':'-.',\n",
    "            'O':'---', 'P':'.--.', 'Q':'--.-',\n",
    "            'R':'.-.', 'S':'...', 'T':'-',\n",
    "            'U':'..-', 'V':'...-', 'W':'.--',\n",
    "            'X':'-..-', 'Y':'-.--', 'Z':'--..',\n",
    "            '1':'.----', '2':'..---', '3':'...--',\n",
    "            '4':'....-', '5':'.....', '6':'-....',\n",
    "            '7':'--...', '8':'---..', '9':'----.',\n",
    "            '0':'-----', ',':'--..--', '.':'.-.-.-',\n",
    "            '?':'..--..', '/':'-..-.', '-':'-....-',\n",
    "            '(':'-.--.', ')':'-.--.-'}\n",
    "    test_string = string.upper()\n",
    "    morse_string = \"\"\n",
    "    for character in test_string:\n",
    "        morse_string += to_morse.get(character, \" \") + \" \"\n",
    "    return morse_string"
   ]
  },
  {
   "cell_type": "code",
   "execution_count": 0,
   "metadata": {
    "collapsed": false
   },
   "outputs": [
   ],
   "source": [
   ]
  },
  {
   "cell_type": "markdown",
   "metadata": {
    "collapsed": false,
    "deletable": false,
    "editable": false
   },
   "source": [
    "## Accessing Dictionary Values\n",
    "\n",
    "- Access dictionary values using keys\n",
    "- Use **`MECH_faculty['Brady']`** to access Mr. Brady's office location from a previous dictionary\n",
    "- Trying to use numeric index to find the same thing causes an error\n",
    "- Prior to *Python* 3.7 the objects collected in dictionaries were stored in no particular order\n",
    "- As of 3.7, objects are stored in the created order, but numeric indexing is still not allowed\n",
    "- Accessing values in dictionaries is generally more efficient and faster than searching or indexing lists\n",
    "- Use multiple sets of square brackets with keys or indexes to access values that are inside lists, tuples, or other dictionaries within a dictionary\n",
    "- For example, **`material[\"Steel ASTM-A36\"][1]`** will return the second property (SI yield strength) for ASTM-A36 steel\n",
    "- Trying to access a key that does not exist in a dictionary will result in an error\n",
    "- The **`MECH_classes`** dictionary does not yet include the key **`'MECH 499'`**\n",
    "- Trying to access **`'MECH 499'`** using **`MECH_classes['MECH 499']`** results in a **`KeyError`**\n",
    "- There is a way to attempt to retrieve a value for a key that does not exist without generating an error (later)\n",
    "- Test to see if a key is present in a dictionary using the `in` operator, i.e. **`\"MECH 499\" in MECH_classes`**\n",
    "- Determine how many key-value pairs exist in a dictionary using the **`len()`** function\n",
    "\n",
    "___\n",
    "**Practice it**\n",
    "\n",
    "Access Mr. Stein's office location from **`MECH_faculty`** and print it. In a separate code cell try to access Mr. Brady by using **`MECH_faculty[0]`**."
   ]
  },
  {
   "cell_type": "code",
   "execution_count": 0,
   "metadata": {
    "collapsed": false
   },
   "outputs": [
   ],
   "source": [
   ]
  },
  {
   "cell_type": "code",
   "execution_count": 0,
   "metadata": {
    "collapsed": false
   },
   "outputs": [
   ],
   "source": [
   ]
  },
  {
   "cell_type": "markdown",
   "metadata": {
    "collapsed": false,
    "deletable": false,
    "editable": false,
    "run_control": {
     "frozen": true
    }
   },
   "source": [
    "___\n",
    "**Practice it**\n",
    "\n",
    "Access the properties for \"Nickel Alloy\" from the **`material`** dictionary."
   ]
  },
  {
   "cell_type": "code",
   "execution_count": 0,
   "metadata": {
    "collapsed": false
   },
   "outputs": [
   ],
   "source": [
   ]
  },
  {
   "cell_type": "markdown",
   "metadata": {
    "collapsed": false,
    "deletable": false,
    "editable": false,
    "run_control": {
     "frozen": true
    }
   },
   "source": [
    "___\n",
    "**Practice it**\n",
    "\n",
    "Access the USCS yield strength for Aluminum 2014-T6 from the **`material`** dictionary."
   ]
  },
  {
   "cell_type": "code",
   "execution_count": 0,
   "metadata": {
    "collapsed": false
   },
   "outputs": [
   ],
   "source": [
   ]
  },
  {
   "cell_type": "markdown",
   "metadata": {
    "collapsed": false,
    "deletable": false,
    "editable": false,
    "run_control": {
     "frozen": true
    }
   },
   "source": [
    "**Practice it**\n",
    "\n",
    "Try accessing \"MECH 499\" from the **`MECH_classes`** dictionary."
   ]
  },
  {
   "cell_type": "code",
   "execution_count": 0,
   "metadata": {
    "collapsed": false
   },
   "outputs": [
   ],
   "source": [
   ]
  },
  {
   "cell_type": "markdown",
   "metadata": {
    "collapsed": false,
    "deletable": false,
    "editable": false,
    "run_control": {
     "frozen": true
    }
   },
   "source": [
    "___\n",
    "**Practice it**\n",
    "\n",
    "Test if **`\"Stainless Steel\"`** is a valid key in the **`material`** dictionary."
   ]
  },
  {
   "cell_type": "code",
   "execution_count": 0,
   "metadata": {
    "collapsed": false
   },
   "outputs": [
   ],
   "source": [
   ]
  },
  {
   "cell_type": "markdown",
   "metadata": {
    "collapsed": false,
    "deletable": false,
    "editable": false,
    "run_control": {
     "frozen": true
    }
   },
   "source": [
    "___\n",
    "**Practice it**\n",
    "\n",
    "Determine how many key-value pairs there are in the dictionary **`material`**."
   ]
  },
  {
   "cell_type": "code",
   "execution_count": 0,
   "metadata": {
    "collapsed": false
   },
   "outputs": [
   ],
   "source": [
   ]
  },
  {
   "cell_type": "markdown",
   "metadata": {
    "collapsed": false,
    "deletable": false,
    "editable": false,
    "run_control": {
     "frozen": true
    }
   },
   "source": [
    "## Adding or Replacing Dictionary Values\n",
    "\n",
    "- Add or replace key-value pairs using the same method as when creating a dictionary\n",
    "  - For example, **`MECH_classes['MECH 211'] = 'Fluid Mechanics'`** adds MECH 211 to the dictionary\n",
    "- Since there can only be one instance of each key\n",
    "  - **`MECH_classes['MECH 122'] = 'Computer Apps for Technology 1'`** will replace the current value for **`'MECH 122'`**\n",
    "\n",
    "___\n",
    "**Practice it**\n",
    "\n",
    "Add MECH 211 to **`MECH_classes`** and change the class name of MECH 122. Print the dictionary after making these changes."
   ]
  },
  {
   "cell_type": "code",
   "execution_count": 0,
   "metadata": {
    "collapsed": false
   },
   "outputs": [
   ],
   "source": [
   ]
  },
  {
   "cell_type": "code",
   "execution_count": 0,
   "metadata": {
    "collapsed": false
   },
   "outputs": [
   ],
   "source": [
   ]
  },
  {
   "cell_type": "markdown",
   "metadata": {
    "collapsed": false,
    "deletable": false,
    "editable": false,
    "run_control": {
     "frozen": true
    }
   },
   "source": [
    "## Nested Dictionaries\n",
    "\n",
    "- Nesting dictionaries for our material properties dictionary would make selecting a property more explicit\n",
    "- For each material name, use a dictionary as a value that has the keys **`'yield strength'`** and **`'ultimate strength'`**\n",
    "- The values for each of these could in turn be dictionaries with keys of **`'uscs'`** and **`'si'`**\n",
    "- The following expression would return the SI yield strength for ASTM-A36 steel from such a dictionary\n",
    "  - **`material_2[\"Steel ASTM-A36\"][\"yield strength\"][\"si\"]`**\n",
    "\n",
    "___\n",
    "**Practice it**\n",
    "\n",
    "Execute the following code cell to create the dictionary **`material_2`**. Print the dictionary and then access the USCS ultimate strength for nickel alloy."
   ]
  },
  {
   "cell_type": "code",
   "execution_count": 0,
   "metadata": {
    "collapsed": false,
    "deletable": false
   },
   "outputs": [
   ],
   "source": [
    "material_2 = {\"Steel ASTM-A36\":{\"yield strength\":{\"uscs\":36, \"si\":250}, \n",
    "                                \"ultimate strength\":{\"uscs\":60, \"si\":400}},\n",
    "           \"Aluminum 2104-T6\":{\"yield strength\":{\"uscs\":60, \"si\":410}, \n",
    "                               \"ultimate strength\":{\"uscs\":70, \"si\":480}},\n",
    "           \"Bronze cold-rolled\":{\"yield strength\":{\"uscs\":75, \"si\":772}, \n",
    "                                 \"ultimate strength\":{\"uscs\":100, \"si\":515}},\n",
    "           \"Nickel Alloy\":{\"yield strength\":{\"uscs\":60, \"si\":414}, \n",
    "                           \"ultimate strength\":{\"uscs\":80, \"si\":552}}}"
   ]
  },
  {
   "cell_type": "code",
   "execution_count": 0,
   "metadata": {
    "collapsed": false
   },
   "outputs": [
   ],
   "source": [
   ]
  },
  {
   "cell_type": "code",
   "execution_count": 0,
   "metadata": {
    "collapsed": false
   },
   "outputs": [
   ],
   "source": [
   ]
  },
  {
   "cell_type": "markdown",
   "metadata": {
    "collapsed": false,
    "deletable": false,
    "editable": false,
    "run_control": {
     "frozen": true
    }
   },
   "source": [
    "## Dictionary Methods\n",
    "\n",
    "- Use **`print([n for n in list(dir(dict)) if \"__\" not in n`** to see available dictionary methods\n",
    "- Most will act \"in-place\" instead of creating copies of the dictionary\n",
    "- **`my_dict.clear()`** removes all key-value pairs from **`my_dict`**; leaving it empty\n",
    "- **`new_dict = my_dict.copy()`** creates an unlinked copy of **`my_dict`** named **`new_dict`**\n",
    "- **`my_dict = dict.fromkeys([1, 2, 3, 4], 10)`** creates a dictionary named **`my_dict`**\n",
    "  - With the keys 1, 2, 3, and 4 as given in the iterable (list or tuple)\n",
    "  - All values will be assigned 10\n",
    "  - If no value is given, all of the keys will be assigned the value **`None`**\n",
    "- **`my_dict.get(\"a\")`** attempts to get the value for **`\"a\"`** in **`my_dict`**\n",
    "  - Returns the value if **`\"a\"`** is present\n",
    "  - Returns **`None`** if it is not present\n",
    "  - Can add a second argument to change the value returned if the requested key is not present\n",
    "    - For example, **`my_dict.get(\"a\", \"Not present\")`**\n",
    "  - This is the method mentioned earlier that keeps you from getting an error when requesting a value that is not present\n",
    "- **`my_dict.keys()`** returns all keys in **`my_dict`**\n",
    "  - Convert the returned values to a list using **`list(my_dict.keys())`**\n",
    "- **`my_dict.values()`** returns all of the values in **`my_dict`**\n",
    "  - Convert the returned values to a list using the **`list()`** function\n",
    "- **`my_dict.items()`** returns all of the key-value pairs from **`my_dict`** as tuples\n",
    "  - Using **`list(my_dict.items())`** returns a list of tuples where each tuple contains the key-value pairs\n",
    "- **`my_dict.pop(\"a\")`** returns the value associated with the key **`\"a\"`** and removes **`\"a\"`** and its value\n",
    "- **`my_dict.popitem()`** returns the value associated with the last key and removes that key and value\n",
    "  - Only when using *Python* 3.7 and later\n",
    "  - Earlier versions of *Python* selected a random key from the dictionary\n",
    "- **`my_dict.setdefault(\"a\")`** adds the key **`\"a\"`** to **`my_dict`**\n",
    "  - If it doesn't already exist then the value **`None`** is assigned to the key **`\"a\"`**\n",
    "  - If key **`\"a\"`** does exist its value is returned\n",
    "  - A second argument can be added to the method, i.e. **`my_dict.setdefault(\"a\", \"a value\")`**\n",
    "    - This adds **`\"a\"`** as a key with the value **`\"a value\"`** if the key does not already exist\n",
    "    - If `\"a\"` already exists, the current value remains the same and is returned\n",
    "- **`my_dict.update(other_dict)`** updates the values in **`my_dict`** using the key-value pairs from **`other_dict`**\n",
    "  - Key-value pairs from **`other_dict`** that do not exist in **`my_dict`** will be added to **`my_dict`**\n",
    "  - If a key from **`other_dict`** already exists in **`my_dict`**, its value in **`my_dict`** will be replaced by the one from **`other_dict`**"
   ]
  },
  {
   "cell_type": "code",
   "execution_count": 0,
   "metadata": {
    "collapsed": false,
    "deletable": false
   },
   "outputs": [
   ],
   "source": [
    "print([n for n in list(dir(dict)) if \"__\" not in n])"
   ]
  },
  {
   "cell_type": "markdown",
   "metadata": {
    "collapsed": false,
    "deletable": false,
    "editable": false,
    "run_control": {
     "frozen": true
    }
   },
   "source": [
    "___\n",
    "**Practice it**\n",
    "\n",
    "Use the appropriate dictionary methods to perform the following tasks using the **`MECH_classes`** dictionary\n",
    "\n",
    "- Show all of the key-value pairs as tuples\n",
    "- Show just the keys\n",
    "- Show just the values\n",
    "- Add \"MECH 212\", \"MECH 222\", and \"MECH 223\" with values of **`None`** for each (this will require using two methods in a single expression)\n",
    "\n",
    "Print **`MECH_classes`** when you are done"
   ]
  },
  {
   "cell_type": "code",
   "execution_count": 0,
   "metadata": {
    "collapsed": false,
    "deletable": false
   },
   "outputs": [
   ],
   "source": [
    "# all key-value pairs as tuples\n"
   ]
  },
  {
   "cell_type": "code",
   "execution_count": 0,
   "metadata": {
    "collapsed": false,
    "deletable": false
   },
   "outputs": [
   ],
   "source": [
    "# just the keys\n"
   ]
  },
  {
   "cell_type": "code",
   "execution_count": 0,
   "metadata": {
    "collapsed": false,
    "deletable": false
   },
   "outputs": [
   ],
   "source": [
    "# just the values\n"
   ]
  },
  {
   "cell_type": "code",
   "execution_count": 0,
   "metadata": {
    "collapsed": false,
    "deletable": false
   },
   "outputs": [
   ],
   "source": [
    "# add MECH 212, MECH 222, and MECH 223 with values of None\n"
   ]
  },
  {
   "cell_type": "code",
   "execution_count": 0,
   "metadata": {
    "collapsed": false,
    "deletable": false
   },
   "outputs": [
   ],
   "source": [
    "# print MECH_classes\n"
   ]
  },
  {
   "cell_type": "markdown",
   "metadata": {
    "collapsed": false,
    "deletable": false,
    "editable": false,
    "run_control": {
     "frozen": true
    }
   },
   "source": [
    "___\n",
    "**Practice it**\n",
    "\n",
    "A common use for a dictionary is to count the number of occurrences of characters in a string or numbers in a list. The following function definition will count the number of each different character in the string and assign the counts to a dictionary. See how it works by counting the characters in the string \"My name is Inigo Montoya, you killed by father, prepare to die!\""
   ]
  },
  {
   "cell_type": "code",
   "execution_count": 0,
   "metadata": {
    "collapsed": false,
    "deletable": false
   },
   "outputs": [
   ],
   "source": [
    "def count_chars(string):\n",
    "    string = string.lower()\n",
    "    count_dict = {}\n",
    "    for char in string:\n",
    "        if char in count_dict:\n",
    "            count_dict[char] += 1\n",
    "        else:\n",
    "            count_dict[char] = 1\n",
    "    return count_dict"
   ]
  },
  {
   "cell_type": "code",
   "execution_count": 0,
   "metadata": {
    "collapsed": false
   },
   "outputs": [
   ],
   "source": [
   ]
  },
  {
   "cell_type": "markdown",
   "metadata": {
    "collapsed": false,
    "deletable": false,
    "editable": false,
    "run_control": {
     "frozen": true
    }
   },
   "source": [
    "A better version of the **`count_chars(string)`** function would use **`count_dict[char] = count_dict.get(char, 0) + 1`** instead of the **`if-else`** statement block. Using a default value of **`0`** in the **`.get()`** method causes it to add a key for **`char`** and assign it the value 0 if **`char`** is not already a key. Then the expression adds 1 to the value and assigns it to **`char`** in the dictionary. If the a key for **`char`** already exists, its current value is retrieved, incremented by one, and assigned back to **`char`** in the dictionary.\n",
    "\n",
    "___\n",
    "**Practice it**\n",
    "\n",
    "Edit the function definition in the code cell below to use the expression described above. Test the function with the string \"the quick brown fox jumps over the lazy dog.\""
   ]
  },
  {
   "cell_type": "code",
   "execution_count": 0,
   "metadata": {
    "collapsed": false,
    "deletable": false
   },
   "outputs": [
   ],
   "source": [
    "# Make this function better by using the .get() method instead of if-else\n",
    "def count_chars(string):\n",
    "    string = string.lower()\n",
    "    count_dict = {}\n",
    "    for char in string:\n",
    "        if char in count_dict:\n",
    "            count_dict[char] += 1\n",
    "        else:\n",
    "            count_dict[char] = 1\n",
    "    return count_dict"
   ]
  },
  {
   "cell_type": "code",
   "execution_count": 0,
   "metadata": {
    "collapsed": false
   },
   "outputs": [
   ],
   "source": [
   ]
  },
  {
   "cell_type": "markdown",
   "metadata": {
    "collapsed": false,
    "deletable": false,
    "editable": false,
    "run_control": {
     "frozen": true
    }
   },
   "source": [
    "The string used above has at least one of each letter from the English alphabet. If you assign the function call to a variable, like **`string_count`**, then use **`sorted(string_count)`** it is fairly easy to verify this. The sorted dictionary sorts by and only shows the keys."
   ]
  },
  {
   "cell_type": "markdown",
   "metadata": {
    "collapsed": false,
    "deletable": false,
    "editable": false
   },
   "source": [
    "___\n",
    "**Practice it**\n",
    "\n",
    "Perform the calling and sorting as described above."
   ]
  },
  {
   "cell_type": "code",
   "execution_count": 0,
   "metadata": {
    "collapsed": false
   },
   "outputs": [
   ],
   "source": [
   ]
  },
  {
   "cell_type": "markdown",
   "metadata": {
    "collapsed": false,
    "deletable": false,
    "editable": false,
    "run_control": {
     "frozen": true
    }
   },
   "source": [
    "## Sets\n",
    "\n",
    "- **Sets** are collections that are related to, and sometimes mistaken for, dictionaries is a **set**\n",
    "- Sets do not contain key-value pairs like dictionaries\n",
    "- They do use curly braces like dictionaries\n",
    "- Sets can be created from the following use the **`set()`** function\n",
    "  - Strings\n",
    "  - Lists\n",
    "  - Tuples\n",
    "  - Dictionary keys\n",
    "  - Dictionary values using\n",
    "- Sets are unordered collections of unique values\n",
    "- If **`\"a\"`** is added to a set that already has an **`\"a\"`** nothing will be changed\n",
    "- Good if you want to know the number of occurrences of each character in a string\n",
    "\n",
    "___\n",
    "**Practice it**\n",
    "\n",
    "Convert the string \"the quick brown fox jumps over the lazy dog\" to a set in the first code cell and assign it to the variable name **`string_set`**. In the next cell print both the original set and a sorted version of the set."
   ]
  },
  {
   "cell_type": "code",
   "execution_count": 0,
   "metadata": {
    "collapsed": false,
    "deletable": false
   },
   "outputs": [
   ],
   "source": [
    "\"the quick brown fox jumps over the lazy dog\""
   ]
  },
  {
   "cell_type": "code",
   "execution_count": 0,
   "metadata": {
    "collapsed": false
   },
   "outputs": [
   ],
   "source": [
   ]
  },
  {
   "cell_type": "markdown",
   "metadata": {
    "collapsed": false,
    "deletable": false,
    "editable": false,
    "run_control": {
     "frozen": true
    }
   },
   "source": [
    "## Reading and Writing from/to Files\n",
    "\n",
    "- Items in lists, tuples, dictionaries only remain available until a script finishes executing\n",
    "- Sometimes you want to save values for later or use saved information\n",
    "- This might include...\n",
    "  - Test results saved from an instrument or machine\n",
    "  - Tables of material properties\n",
    "  - Steam tables\n",
    "  - A dictionary of books, articles, or standards\n",
    "  - Any text file\n",
    "- *Python* has built-in functions and methods for reading and writing information from/to files\n",
    "- We will look at using text files that can be opened with any standard text editor\n",
    "\n",
    "### Opening a File for Reading or Writing\n",
    "\n",
    "- Assume that the file is located in the same directory as our script or function\n",
    "- The standard procedure to open a file is to use the **`open()`** function and assign it to a variable\n",
    "- For example, **`my_file = open(\"data file.txt\")`**\n",
    "  - This will open the file \"data file.txt\" for reading\n",
    "  - Assign it to **`my_file`**\n",
    "  - Can add a mode as a second argument to the function to explicitly state how the file will be used\n",
    "    - The default is for reading **`\"r\"`**\n",
    "    - Can also use...\n",
    "      - **`\"w\"`** for writing\n",
    "      - **`\"a\"`** for appending\n",
    "      - **`\"r+\"`** for reading and writing\n",
    "  - Could have been written as **`my_file = open(\"data file.txt\", \"r\")`** to state the file is to be read\n",
    "- After a file is opened for reading or writing, it needs to be closed it, i.e. **`my_file.close()`**\n",
    "- Another method that can be used is **`with open(\"data file.txt\", \"r\") as my_file:`**\n",
    "  - It does exactly the same thing as the previous method\n",
    "  - Any commands done with the file need to be indented under the **`with`** expression\n",
    "  - The file is automatically closed as soon as the code block below the **`with`** line is finished\n",
    "  - Using **`with`** to open a file means that the **`.close()`** method does not need to be used"
   ]
  },
  {
   "cell_type": "markdown",
   "metadata": {
    "collapsed": false,
    "deletable": false,
    "editable": false,
    "run_control": {
     "frozen": true
    }
   },
   "source": [
    "### Reading a File's Contents\n",
    "\n",
    "- Just looing at two methods for reading the contents of a file that has been opened\n",
    "  - **`.read()`**\n",
    "  - **`.readlines()`**\n",
    "  - These two methods should meet all of our needs\n",
    "- **`.read()`** will read an entire text file as a single long string\n",
    "  - Everywhere the file had a new line, the string will have the newline character **`\\n`** added\n",
    "  - Assign the read to a variable name to work with the string\n",
    "  - Example below\n",
    "- Using `.readlines()` is similar except that each line of the text file will become an item in a list\n",
    "- Once the contents of the file assigned to a variable using either method, anything can be done with the information\n",
    "- It is best to perform such operations outside of the **`with`** code block\n",
    "- Keep in mind that if the file was read, anything donce within a script or function does change the original file\n",
    "\n",
    "\n",
    "```python\n",
    "with open(\"data file.txt\") as my_file:\n",
    "    file_string = my_file.read()\n",
    "```\n",
    "\n",
    "___\n",
    "**Practice it**\n",
    "\n",
    "Type and execute the above two lines in the following code cell. Then in second code cell display **`file_string`**."
   ]
  },
  {
   "cell_type": "code",
   "execution_count": 0,
   "metadata": {
    "collapsed": false
   },
   "outputs": [
   ],
   "source": [
   ]
  },
  {
   "cell_type": "code",
   "execution_count": 0,
   "metadata": {
    "collapsed": false
   },
   "outputs": [
   ],
   "source": [
   ]
  },
  {
   "cell_type": "markdown",
   "metadata": {
    "collapsed": false,
    "deletable": false,
    "editable": false,
    "run_control": {
     "frozen": true
    }
   },
   "source": [
    "___\n",
    "**Practice it**\n",
    "\n",
    "Copy your code from above into the first code cell below and edit it so that it uses **`.readlines()`** instead of **`.read()`** and assign the results to **`file_list`** instead of **`file_string`**. Use the second code cell to display the results."
   ]
  },
  {
   "cell_type": "code",
   "execution_count": 0,
   "metadata": {
    "collapsed": false
   },
   "outputs": [
   ],
   "source": [
   ]
  },
  {
   "cell_type": "code",
   "execution_count": 0,
   "metadata": {
    "collapsed": false
   },
   "outputs": [
   ],
   "source": [
   ]
  },
  {
   "cell_type": "markdown",
   "metadata": {
    "collapsed": false,
    "deletable": false,
    "editable": false,
    "run_control": {
     "frozen": true
    }
   },
   "source": [
    "### Writing to a File\n",
    "\n",
    "- Take a script that performs calculations and you want to save the results instead of printint them\n",
    "- Open a file and write to it\n",
    "- Explicitly set the mode to either **`\"w\"`** or **`\"a\"`**\n",
    "  - If **`\"w\"`** and the file name used in **`.open()`** does not already exist, it will be created\n",
    "  - If the file already exists and the mode is `\"w\"`, its content will be deleted without warning\n",
    "  - If the **`\"a\"`** mode is used and the file exists, the existing file will be appended\n",
    "  - Using **`\"a\"`** when the file does not yet exist is just like using **`\"w\"`**\n",
    "- Once a file is open use either the **`.write()`** or **`.writelines()`** methods\n",
    "- It is important that everything written is text\n",
    "- *Python* will not write integers or floats or anything else unless it is converted to a string\n",
    "- The **`.write()`** method requires a string as an argument and writes the string to the open file\n",
    "- The code below opens `\"new file.txt\"` and writes two lines to it\n",
    "  - The **`\\n`** at the end of each print statement are necessary for each string to be on separate lines\n",
    "\n",
    "```python\n",
    "with open(\"new text file.txt\", \"w\") as new_file:\n",
    "    new_file.write(\"Hey, new file.\\n\")\n",
    "    new_file.write(f\"{21 * 2}\\n\")\n",
    "```\n",
    "\n",
    "- The **`.writelines()`** method requires a list of strings as an argument\n",
    "- All of the strings in the list will be written one after the other to the file\n",
    "- If a string does not end in `\\n`, then the next string will start on the same line\n",
    "- The following code shows how a list of strings can be used to create a new text file\n",
    "\n",
    "```python\n",
    "string_list = [\"My name is Brian.\\n\", \"I work at Ferris.\"]\n",
    "with open(\"brian file.txt\", \"w\") as new_file:\n",
    "    new_file.writelines(string_list)\n",
    "```\n",
    "\n",
    "___\n",
    "**Practice it**\n",
    "\n",
    "Copy the code provided above and paste it into the first code cell below. Change the code so that the file uses your first name (not mine) and the first string in the list uses your first name (again, not mine). Execute the code cell to create the file. In the next empty code write the code necessary to read your new file and put its contents into a list and print the list."
   ]
  },
  {
   "cell_type": "code",
   "execution_count": 0,
   "metadata": {
    "collapsed": false
   },
   "outputs": [
   ],
   "source": [
   ]
  },
  {
   "cell_type": "code",
   "execution_count": 0,
   "metadata": {
    "collapsed": false
   },
   "outputs": [
   ],
   "source": [
   ]
  },
  {
   "cell_type": "code",
   "execution_count": 0,
   "metadata": {
    "collapsed": false
   },
   "outputs": [
   ],
   "source": [
   ]
  },
  {
   "cell_type": "markdown",
   "metadata": {
    "collapsed": false,
    "deletable": false,
    "editable": false,
    "run_control": {
     "frozen": true
    }
   },
   "source": [
    "### Reading CSV Files\n",
    "\n",
    "- CSV (comma separated values) files are special forms of text files\n",
    "- All modern spreadsheet applications can be used to create CSV files\n",
    "- The standard **`open()`** function with **`.read()`** or **`.readlines()`** and other coding can be used\n",
    "\n",
    "___\n",
    "**Practice it**\n",
    "\n",
    "Make a text file named **`my_csv_file.csv`** using a plain text editor that looks like the following (make sure you do not include any spaces after commas).\n",
    "\n",
    "```python\n",
    "\"x\",\"y\"\n",
    "0,0\n",
    "1,2\n",
    "3,6\n",
    "4,8\n",
    "5,10\n",
    "```\n",
    "\n",
    "Then execute the following code cell to read it and place each line into a list."
   ]
  },
  {
   "cell_type": "code",
   "execution_count": 0,
   "metadata": {
    "collapsed": false,
    "deletable": false
   },
   "outputs": [
   ],
   "source": [
    "with open(\"my_csv_file.csv\", \"r\") as csv_file:\n",
    "    csv_list = csv_file.readlines()\n",
    "print(csv_list)"
   ]
  },
  {
   "cell_type": "markdown",
   "metadata": {
    "collapsed": false,
    "deletable": false,
    "editable": false,
    "run_control": {
     "frozen": true
    }
   },
   "source": [
    "The next code cell iterates though the list of strings that the **`.readlines()`** method created and strips all newline characters. It also creates a list called **`headings`** containing the two strings from the first line. It also splits all lines after the first at the comma, converts the strings to floats, and places the x and y values into separate lists. This is not difficult code, but not all that simple either."
   ]
  },
  {
   "cell_type": "code",
   "execution_count": 0,
   "metadata": {
    "collapsed": false,
    "deletable": false
   },
   "outputs": [
   ],
   "source": [
    "x = []\n",
    "y = []\n",
    "for n, string in enumerate(csv_list):\n",
    "    new_string = string.strip(\"\\n\")\n",
    "    if n == 0:\n",
    "        new_string = new_string.strip('\"')\n",
    "        headings = new_string.split('\",\"')\n",
    "    else:\n",
    "        xy_pair = [float(n) for n in new_string.split(\",\")]\n",
    "        x.append(xy_pair[0])\n",
    "        y.append(xy_pair[1])\n",
    "\n",
    "print(headings)\n",
    "print(x)\n",
    "print(y)"
   ]
  },
  {
   "cell_type": "markdown",
   "metadata": {
    "collapsed": false,
    "deletable": false,
    "editable": false,
    "run_control": {
     "frozen": true
    }
   },
   "source": [
    "- The **`csv`** module was designed to handle this specific task\n",
    "- Use **`with`** to open a CSV file and assign it a name\n",
    "- Then use **`csv.reader()`** with the file object as an argument plus **`quoting=csv.QUOTE_NONNUMERIC`** as a keyword argument\n",
    "  - The **`quoting`** keyword tells the reader how to handle quoted items\n",
    "  - In this case, it converts non-quoted items into floats\n",
    "- The new CSV object can be converted to a list so the required values can be extracted\n",
    "- In the code below two list comprehensions are used to extract the x and y values and place them in their own lists"
   ]
  },
  {
   "cell_type": "code",
   "execution_count": 0,
   "metadata": {
    "collapsed": false,
    "deletable": false
   },
   "outputs": [
   ],
   "source": [
    "import csv\n",
    "with open(\"my_csv_file.csv\") as csvfile:\n",
    "    csv_reader = csv.reader(csvfile, quoting=csv.QUOTE_NONNUMERIC)\n",
    "    csv_list = list(csv_reader)\n",
    "    headings = csv_list[0]\n",
    "    x = [n[0] for n in csv_list[1:]]\n",
    "    y = [n[1] for n in csv_list[1:]]\n",
    "\n",
    "print(headings)\n",
    "print(x)\n",
    "print(y)"
   ]
  },
  {
   "cell_type": "markdown",
   "metadata": {
    "collapsed": false,
    "deletable": false,
    "editable": false,
    "run_control": {
     "frozen": true
    }
   },
   "source": [
    "### Using *Pandas* to Read a CSV File\n",
    "\n",
    "- People who use *Python* to work with large data sets typically use the [*Pandas*](https://pandas.pydata.org/) library\n",
    "- This library of modules makes working with CSVs of any size very easy\n",
    "- The primary data structure of *Pandas* is the DataFrame\n",
    "- The following code block will import *Pandas* and use **`.read_csv()`** to create a DataFrame named **`csv_df`** from **`\"my_csv_data.csv\"`**\n",
    "- Once **`csv_df`** is created its headings can be converted to a list using **`list(csv_df)`**\n",
    "- DataFrames use the heading names from the CSV as indexes for the DataFrame (like dictionary keys)\n",
    "- In this case the headings are **`\"x\"`** and **`\"y\"`**\n",
    "- **`csv_df[\"x\"]`** will return all of the values from the `\"x\"` column as a *Pandas* Series\n",
    "- Use the **`list()`** function to convert the Series to a list, i.e. **`x = list(csv_df[\"x\"]`**\n",
    "___\n",
    "**Practice it**\n",
    "\n",
    "Execute the following code cell to import *Pandas* and create a DataFrame from our CSV file. In separate code cells create lists that contain the CSV headings, the $x$ values, and the $y$ values. Print all three lists."
   ]
  },
  {
   "cell_type": "code",
   "execution_count": 0,
   "metadata": {
    "collapsed": false,
    "deletable": false
   },
   "outputs": [
   ],
   "source": [
    "import pandas as pd\n",
    "csv_df = pd.read_csv(\"my_csv_file.csv\")"
   ]
  },
  {
   "cell_type": "code",
   "execution_count": 0,
   "metadata": {
    "collapsed": false,
    "deletable": false
   },
   "outputs": [
   ],
   "source": [
    "# list of the CSV headings\n"
   ]
  },
  {
   "cell_type": "code",
   "execution_count": 0,
   "metadata": {
    "collapsed": false,
    "deletable": false
   },
   "outputs": [
   ],
   "source": [
    "# list of the x values\n"
   ]
  },
  {
   "cell_type": "code",
   "execution_count": 0,
   "metadata": {
    "collapsed": false,
    "deletable": false
   },
   "outputs": [
   ],
   "source": [
    "# list of the y values\n"
   ]
  },
  {
   "cell_type": "code",
   "execution_count": 0,
   "metadata": {
    "collapsed": false,
    "deletable": false
   },
   "outputs": [
   ],
   "source": [
    "print(headings)\n",
    "print(x)\n",
    "print(y)"
   ]
  },
  {
   "cell_type": "markdown",
   "metadata": {
    "collapsed": false,
    "deletable": false,
    "editable": false,
    "run_control": {
     "frozen": true
    }
   },
   "source": [
    "The *Pandas* approach definitely took fewer lines of code, but required more computing overhead due to importing a fairly sizable library. However, with that overhead comes a lot of power to work with datasets large and small."
   ]
  },
  {
   "cell_type": "markdown",
   "metadata": {
    "collapsed": false,
    "deletable": false,
    "editable": false,
    "run_control": {
     "frozen": true
    }
   },
   "source": [
    "___\n",
    "**Wrap it up**\n",
    "\n",
    "Click on the **Save** button and then the **Close and halt** button when you are done before closing your tab."
   ]
  }
 ],
 "metadata": {
  "kernelspec": {
   "display_name": "Python 3 (Anaconda 2020)",
   "env": {
    "ADDR2LINE": "/ext/anaconda2020.02/bin/x86_64-conda_cos6-linux-gnu-addr2line",
    "ANACONDA2019": "$EXT/anaconda-2019.03",
    "ANACONDA2020": "/ext/anaconda2020.02",
    "ANACONDA3": "$EXT/anaconda3",
    "ANACONDA5": "$EXT/anaconda5",
    "AR": "/ext/anaconda2020.02/bin/x86_64-conda_cos6-linux-gnu-ar",
    "AS": "/ext/anaconda2020.02/bin/x86_64-conda_cos6-linux-gnu-as",
    "CC": "/ext/anaconda2020.02/bin/x86_64-conda_cos6-linux-gnu-cc",
    "CFLAGS": "-march=nocona -mtune=haswell -ftree-vectorize -fPIC -fstack-protector-strong -fno-plt -O2 -ffunction-sections -pipe -isystem /ext/anaconda2020.02/include",
    "CMAKE_PREFIX_PATH": "/ext/anaconda2020.02:/ext/anaconda2020.02/x86_64-conda_cos6-linux-gnu/sysroot/usr",
    "CONDA_BACKUP_HOST": "x86_64-conda_cos6-linux-gnu",
    "CONDA_BUILD_SYSROOT": "/ext/anaconda2020.02/x86_64-conda_cos6-linux-gnu/sysroot",
    "CONDA_DEFAULT_ENV": "base",
    "CONDA_EXE": "/ext/anaconda2020.02/bin/conda",
    "CONDA_MKL_INTERFACE_LAYER_BACKUP": "",
    "CONDA_PREFIX": "/ext/anaconda2020.02",
    "CONDA_PROMPT_MODIFIER": "(base) ",
    "CONDA_PYTHON_EXE": "/ext/anaconda2020.02/bin/python",
    "CONDA_SHLVL": "1",
    "CPP": "/ext/anaconda2020.02/bin/x86_64-conda_cos6-linux-gnu-cpp",
    "CPPFLAGS": "-DNDEBUG -D_FORTIFY_SOURCE=2 -O2 -isystem /ext/anaconda2020.02/include",
    "CXX": "/ext/anaconda2020.02/bin/x86_64-conda_cos6-linux-gnu-c++",
    "CXXFILT": "/ext/anaconda2020.02/bin/x86_64-conda_cos6-linux-gnu-c++filt",
    "CXXFLAGS": "-fvisibility-inlines-hidden -std=c++17 -fmessage-length=0 -march=nocona -mtune=haswell -ftree-vectorize -fPIC -fstack-protector-strong -fno-plt -O2 -ffunction-sections -pipe -isystem /ext/anaconda2020.02/include",
    "DEBUG_CFLAGS": "-march=nocona -mtune=haswell -ftree-vectorize -fPIC -fstack-protector-all -fno-plt -Og -g -Wall -Wextra -fvar-tracking-assignments -ffunction-sections -pipe -isystem /ext/anaconda2020.02/include",
    "DEBUG_CPPFLAGS": "-D_DEBUG -D_FORTIFY_SOURCE=2 -Og -isystem /ext/anaconda2020.02/include",
    "DEBUG_CXXFLAGS": "-fvisibility-inlines-hidden -std=c++17 -fmessage-length=0 -march=nocona -mtune=haswell -ftree-vectorize -fPIC -fstack-protector-all -fno-plt -Og -g -Wall -Wextra -fvar-tracking-assignments -ffunction-sections -pipe -isystem /ext/anaconda2020.02/include",
    "DEBUG_FFLAGS": "-fopenmp -march=nocona -mtune=haswell -ftree-vectorize -fPIC -fstack-protector-strong -fno-plt -O2 -ffunction-sections -pipe -isystem /ext/anaconda2020.02/include -fopenmp -march=nocona -mtune=haswell -ftree-vectorize -fPIC -fstack-protector-all -fno-plt -Og -g -Wall -Wextra -fcheck=all -fbacktrace -fimplicit-none -fvar-tracking-assignments -ffunction-sections -pipe",
    "DEBUG_FORTRANFLAGS": "-fopenmp -march=nocona -mtune=haswell -ftree-vectorize -fPIC -fstack-protector-strong -fno-plt -O2 -ffunction-sections -pipe -isystem /ext/anaconda2020.02/include -fopenmp -march=nocona -mtune=haswell -ftree-vectorize -fPIC -fstack-protector-all -fno-plt -Og -g -Wall -Wextra -fcheck=all -fbacktrace -fimplicit-none -fvar-tracking-assignments -ffunction-sections -pipe",
    "ELFEDIT": "/ext/anaconda2020.02/bin/x86_64-conda_cos6-linux-gnu-elfedit",
    "F77": "/ext/anaconda2020.02/bin/x86_64-conda_cos6-linux-gnu-gfortran",
    "F90": "/ext/anaconda2020.02/bin/x86_64-conda_cos6-linux-gnu-gfortran",
    "F95": "/ext/anaconda2020.02/bin/x86_64-conda_cos6-linux-gnu-f95",
    "FC": "/ext/anaconda2020.02/bin/x86_64-conda_cos6-linux-gnu-gfortran",
    "FFLAGS": "-fopenmp -march=nocona -mtune=haswell -ftree-vectorize -fPIC -fstack-protector-strong -fno-plt -O2 -ffunction-sections -pipe -isystem /ext/anaconda2020.02/include",
    "FORTRANFLAGS": "-fopenmp -march=nocona -mtune=haswell -ftree-vectorize -fPIC -fstack-protector-strong -fno-plt -O2 -ffunction-sections -pipe -isystem /ext/anaconda2020.02/include",
    "GCC": "/ext/anaconda2020.02/bin/x86_64-conda_cos6-linux-gnu-gcc",
    "GCC_AR": "/ext/anaconda2020.02/bin/x86_64-conda_cos6-linux-gnu-gcc-ar",
    "GCC_NM": "/ext/anaconda2020.02/bin/x86_64-conda_cos6-linux-gnu-gcc-nm",
    "GCC_RANLIB": "/ext/anaconda2020.02/bin/x86_64-conda_cos6-linux-gnu-gcc-ranlib",
    "GDAL_DATA": "/ext/anaconda2020.02/share/gdal",
    "GFORTRAN": "/ext/anaconda2020.02/bin/x86_64-conda_cos6-linux-gnu-gfortran",
    "GPROF": "/ext/anaconda2020.02/bin/x86_64-conda_cos6-linux-gnu-gprof",
    "GXX": "/ext/anaconda2020.02/bin/x86_64-conda_cos6-linux-gnu-g++",
    "JAVA_HOME": "/ext/anaconda2020.02",
    "JAVA_HOME_CONDA_BACKUP": "",
    "JAVA_LD_LIBRARY_PATH": "/ext/anaconda2020.02/lib/server",
    "LD": "/ext/anaconda2020.02/bin/x86_64-conda_cos6-linux-gnu-ld",
    "LDFLAGS": "-Wl,-O2 -Wl,--sort-common -Wl,--as-needed -Wl,-z,relro -Wl,-z,now -Wl,--disable-new-dtags -Wl,--gc-sections -Wl,-rpath,/ext/anaconda2020.02/lib -Wl,-rpath-link,/ext/anaconda2020.02/lib -L/ext/anaconda2020.02/lib",
    "LD_GOLD": "/ext/anaconda2020.02/bin/x86_64-conda_cos6-linux-gnu-ld.gold",
    "LD_LIBRARY_PATH": "/ext/anaconda2020.02/lib",
    "MKL_INTERFACE_LAYER": "LP64,GNU",
    "MKL_THREADING_LAYER": "GNU",
    "NM": "/ext/anaconda2020.02/bin/x86_64-conda_cos6-linux-gnu-nm",
    "OBJCOPY": "/ext/anaconda2020.02/bin/x86_64-conda_cos6-linux-gnu-objcopy",
    "OBJDUMP": "/ext/anaconda2020.02/bin/x86_64-conda_cos6-linux-gnu-objdump",
    "OLDPWD": "/ext/anaconda2020.02",
    "PATH": "/ext/anaconda2020.02/bin:/ext/anaconda2020.02/bin:/ext/anaconda2020.02/condabin:/cocalc/bin:/cocalc/src/smc-project/bin:/home/salvus/bin:/home/salvus/.local/bin:/usr/lib/xpra:/ext/bin:/opt/ghc/bin:/usr/local/sbin:/usr/local/bin:/usr/sbin:/usr/bin:/sbin:/bin:/snap/bin:/usr/lib/postgresql/10/bin:/ext/data/homer/bin:/ext/data/weblogo",
    "PROJ_LIB": "/ext/anaconda2020.02/share/proj",
    "RANLIB": "/ext/anaconda2020.02/bin/x86_64-conda_cos6-linux-gnu-ranlib",
    "READELF": "/ext/anaconda2020.02/bin/x86_64-conda_cos6-linux-gnu-readelf",
    "RSTUDIO_WHICH_R": "/ext/anaconda2020.02/bin/R",
    "SIZE": "/ext/anaconda2020.02/bin/x86_64-conda_cos6-linux-gnu-size",
    "STRINGS": "/ext/anaconda2020.02/bin/x86_64-conda_cos6-linux-gnu-strings",
    "STRIP": "/ext/anaconda2020.02/bin/x86_64-conda_cos6-linux-gnu-strip",
    "_CE_CONDA": "",
    "_CE_M": "",
    "_CONDA_PYTHON_SYSCONFIGDATA_NAME": "_sysconfigdata_x86_64_conda_cos6_linux_gnu"
   },
   "language": "python",
   "metadata": {
    "cocalc": {
     "description": "Python/R distribution for data science",
     "priority": 5,
     "url": "https://www.anaconda.com/distribution/"
    }
   },
   "name": "anaconda2020",
   "resource_dir": "/ext/jupyter/kernels/anaconda2020"
  },
  "language_info": {
   "codemirror_mode": {
    "name": "ipython",
    "version": 3
   },
   "file_extension": ".py",
   "mimetype": "text/x-python",
   "name": "python",
   "nbconvert_exporter": "python",
   "pygments_lexer": "ipython3",
   "version": "3.7.8"
  },
  "varInspector": {
   "cols": {
    "lenName": 16,
    "lenType": 16,
    "lenVar": 40
   },
   "kernels_config": {
    "python": {
     "delete_cmd_postfix": "",
     "delete_cmd_prefix": "del ",
     "library": "var_list.py",
     "varRefreshCmd": "print(var_dic_list())"
    },
    "r": {
     "delete_cmd_postfix": ") ",
     "delete_cmd_prefix": "rm(",
     "library": "var_list.r",
     "varRefreshCmd": "cat(var_dic_list()) "
    }
   },
   "types_to_exclude": [
    "module",
    "function",
    "builtin_function_or_method",
    "instance",
    "_Feature"
   ],
   "window_display": false
  }
 },
 "nbformat": 4,
 "nbformat_minor": 4
}