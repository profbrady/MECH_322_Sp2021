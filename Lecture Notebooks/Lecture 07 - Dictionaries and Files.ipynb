{
 "cells": [
  {
   "cell_type": "markdown",
   "metadata": {
    "deletable": false,
    "editable": false,
    "run_control": {
     "frozen": true
    }
   },
   "source": [
    "# Lecture 7 - Dictionaries and Files\n",
    "___"
   ]
  },
  {
   "cell_type": "code",
   "execution_count": null,
   "metadata": {},
   "outputs": [],
   "source": [
    "name = \"Your name here\"\n",
    "print(\"Name:\", name.upper())"
   ]
  },
  {
   "cell_type": "markdown",
   "metadata": {
    "deletable": false,
    "editable": false,
    "run_control": {
     "frozen": true
    }
   },
   "source": [
    "## Purpose\n",
    "\n",
    "- Review lists and tuples\n",
    "- Create dictionaries\n",
    "- Access individual items dictionaries\n",
    "- Learn about and use dictionary methods\n",
    "- Read files\n",
    "- Access items in files\n",
    "- Write files\n",
    "\n",
    "## Instructions\n",
    "\n",
    "1. Replace \"Your name here\" in the cell below the assignment title with your first and last names and then execute the cell using \"Shift-Enter\"\n",
    "2. Execute the time stamp cell \n",
    "3. Follow along with the instructor in class as we use *Python* to work with dictionaries and files\n",
    "4. Execute the date stamp cell at the end of the document and submitting your saved `.ipynb` file to *Canvas* for credit"
   ]
  },
  {
   "cell_type": "markdown",
   "metadata": {
    "deletable": false,
    "editable": false,
    "run_control": {
     "frozen": true
    }
   },
   "source": [
    "## Some Creative Commons Reference Sources for This Material\n",
    "\n",
    "- *Think Python 2nd Edition*, Allen Downey, chapters 11 and 14\n",
    "- *The Coder's Apprentice*, Pieter Spronck, chapter 13, 16, and 26\n",
    "- *A Practical Introduction to Python Programming*, Brian Heinold, chapters 11 and 12\n",
    "- *Algorithmic Problem Solving with Python*, John Schneider, Shira Broschat, and Jess Dahmen, chapters 10 and 14"
   ]
  },
  {
   "cell_type": "code",
   "execution_count": null,
   "metadata": {
    "deletable": false,
    "editable": false,
    "run_control": {
     "frozen": true
    }
   },
   "outputs": [],
   "source": [
    "from datetime import datetime\n",
    "from pytz import timezone\n",
    "print(datetime.now(timezone('US/Eastern')))"
   ]
  },
  {
   "cell_type": "markdown",
   "metadata": {
    "deletable": false,
    "editable": false,
    "run_control": {
     "frozen": true
    }
   },
   "source": [
    "## Review of Lists and Tuples\n",
    "\n",
    "Recall that lists and tuples can be used to hold a number of objects or values. For example, `my_list = [1, 2, 3, 4, \"Python\", 10.3, 56.78, math.pi, (3, 4, 5)]` is a list that contains integers, floats, a string, $\\pi$, and a tuple. We can access the items in lists (and tuples) using indexing and slicing. You can use `my_list[4]` to access the string `\"Python\"` or `my_list[:4]` to access `[1, 2, 3, 4]`. Tuples work the same as lists except they use parentheses, not square brackets, to enclose the values. Hopefully you remember that lists are mutable (can be altered by changing, adding, or removing objects) and tuples are not."
   ]
  },
  {
   "cell_type": "markdown",
   "metadata": {
    "deletable": false,
    "editable": false,
    "run_control": {
     "frozen": true
    }
   },
   "source": [
    "> **Practice it**\n",
    ">\n",
    "> Create a list with 4 strings named `string_list` and print it. Also, create a tuple with 4 numeric values named `num_tuple` and print it."
   ]
  },
  {
   "cell_type": "code",
   "execution_count": null,
   "metadata": {},
   "outputs": [],
   "source": []
  },
  {
   "cell_type": "markdown",
   "metadata": {},
   "source": [
    "Since lists and tuples hold (or contain) objects, they are sometimes referred to as containers. You can also call them collections since they can hold a collection of objects. Another *Python* data type that you may find useful at times that is also a container or collection is the **dictionary**."
   ]
  },
  {
   "cell_type": "markdown",
   "metadata": {
    "deletable": false,
    "editable": false,
    "run_control": {
     "frozen": true
    }
   },
   "source": [
    "## Introduction to Dictionaries\n",
    "\n",
    "Dictionaries are similar to lists in that they can be used to contain or collect a variety of objects. They are mutable like lists and can contain a variety of object types; such as integers, floats, strings, lists, tuples, and even other dictionaries. The primary difference between dictionaries and lists is how the objects within them are stored and accessed. We access objects in a list by their position within the list, such as `my_list[2]`. Dictionaries do not rely upon position to access objects. The items in dictionaries are stored in what are called key-value pairs and the values are accessed via the keys.\n",
    "\n",
    "Dictionary keys must be immutable objects; such as strings, integers, floats, or tuples. You cannot use lists or other dictionaries as keys. Values are linked to keys instead of index positions, so keys within a dictionary must be unique. This means that you cannot have more than one of any specific key. Values can be nearly any object type, such as integers, floats, strings, lists, and tuples.\n",
    "\n",
    "Let's learn how to create dictionaries and key-value pairs."
   ]
  },
  {
   "cell_type": "markdown",
   "metadata": {},
   "source": [
    "## Creating Dictionaries\n",
    "\n",
    "Dictionaries in *Python* are enclosed with curly braces `{ }`. An empty dictionary can be created by simply assigning an empty pair of curly braces to a variable name, i.e. `MECH_classes = {}`. You can also use the function `dict()` to create an empty dictionary. Once you have an empty dictionary, you can add key-value pairs via indexing the dictionary name with a key and assigning it a value. For example, `MECH_classes['MECH 111'] = 'MET Seminar'` creates the key-value pair `'MECH 111':'MET Seminar'` within the dictionary `MECH_classes`. Notice the colon between the key and value in the previous sentence? That is how *Python* shows the pairs in dictionaries.\n",
    "\n",
    ">**Practice it**\n",
    ">\n",
    "> Create the empty dictionary `MECH_classes` and then add the key-value pair `'MECH 111':'MET Seminar'` to it. Print the dictionary when done."
   ]
  },
  {
   "cell_type": "code",
   "execution_count": null,
   "metadata": {},
   "outputs": [],
   "source": []
  },
  {
   "cell_type": "markdown",
   "metadata": {
    "deletable": false,
    "editable": false,
    "run_control": {
     "frozen": true
    }
   },
   "source": [
    "You can also create a dictionary with values in it using curly braces and key-value pairs separated by colons. Use `MECH_classes = {'MECH 111':'MET Seminar'}` to create the same dictionary as before.\n",
    "\n",
    ">**Practice it**\n",
    ">\n",
    "> Create `MECH_classes` dictionary again using the direct method with curly braces and then print it."
   ]
  },
  {
   "cell_type": "code",
   "execution_count": null,
   "metadata": {},
   "outputs": [],
   "source": []
  },
  {
   "cell_type": "markdown",
   "metadata": {
    "deletable": false,
    "editable": false,
    "run_control": {
     "frozen": true
    }
   },
   "source": [
    "Another way to create a dictionary with key-value pairs is by using the `dict()` function. One way to do this is to use a list of lists (or tuples) that each contain key-value pairs as an argument to the `dict()` function. We can create `MECH_classes` again by using the following expression (this time we will put in two classes):\n",
    "```\n",
    "MECH_classes = dict([[\"MECH 111\", \"MET Seminar\"], [\"MECH 122\", \"Computer Apps 1\"]])\n",
    "```\n",
    "\n",
    ">**Practice it**\n",
    ">\n",
    "> Use the `dict()` function to create and then print the above dictionary with the first two MECH classes."
   ]
  },
  {
   "cell_type": "code",
   "execution_count": null,
   "metadata": {},
   "outputs": [],
   "source": []
  },
  {
   "cell_type": "markdown",
   "metadata": {
    "deletable": false,
    "editable": false,
    "run_control": {
     "frozen": true
    }
   },
   "source": [
    "> **Practice it**\n",
    ">\n",
    "> You can use one list or tuple that contains your desired keys and another that contains the matching values and zip them together inside a call to `dict()`. Use `string_list` and `num_tuple` to create and print the dictionary named `my_dict`."
   ]
  },
  {
   "cell_type": "code",
   "execution_count": null,
   "metadata": {},
   "outputs": [],
   "source": []
  },
  {
   "cell_type": "markdown",
   "metadata": {
    "deletable": false,
    "editable": false,
    "run_control": {
     "frozen": true
    }
   },
   "source": [
    ">**Practice it**\n",
    ">\n",
    ">If you have simple string keys (no spaces), you can create a dictionary using keyword arguments like the following code cell."
   ]
  },
  {
   "cell_type": "code",
   "execution_count": null,
   "metadata": {},
   "outputs": [],
   "source": [
    "MECH_faculty = dict(Brady='SWN 405B', \n",
    "        Drake='JOH 311',\n",
    "        Hollenbeck='JOH 410',\n",
    "        Stein='JOH 407',\n",
    "        Wiltshire='JOH 409')\n",
    "print(MECH_faculty)"
   ]
  },
  {
   "cell_type": "markdown",
   "metadata": {
    "deletable": false,
    "editable": false,
    "run_control": {
     "frozen": true
    }
   },
   "source": [
    ">**Practice it**\n",
    ">\n",
    ">Not all dictionaries need to use strings as keys. The following dictionary definition is a valid one. Execute it to be sure."
   ]
  },
  {
   "cell_type": "code",
   "execution_count": null,
   "metadata": {},
   "outputs": [],
   "source": [
    "import math\n",
    "my_dict = {1: 'one',\n",
    "           2: 'two',\n",
    "           math.e: 'e',\n",
    "           3: 'three',\n",
    "           3.1416: 'pi',\n",
    "           4: 'four',\n",
    "           5: 'five',\n",
    "           6: 'scared',\n",
    "           7: 'ate nine'}\n",
    "print(my_dict)"
   ]
  },
  {
   "cell_type": "markdown",
   "metadata": {
    "deletable": false,
    "editable": false,
    "run_control": {
     "frozen": true
    }
   },
   "source": [
    "## Why Dictionaries?\n",
    "\n",
    "You might ask \"can't we just use lists instead of dictionaries?\" and the answer would be \"yes\" most of the time. Lists can be used in many places where dictionaries are used, but quite often not as easily or effectively. For instance, say you want to access material properties of specific common engineering materials in a script. You could make one list of material names and a number associated lists with each property value. Then you could search the material name list for the material you need and return its index position. Then use that index position to access the material property you need from the appropriate list. However, what happens if you want to add or remove a material? You have to change every list and hope you don't miss one.\n",
    "\n",
    "If a dictionary were used instead of a bunch of lists, you could use the material name is the key to return all of the values for the material properties associated with that material. You could even implement nested dictionaries so each property can be accessed by its name.\n",
    "\n",
    ">**Practice it**\n",
    ">\n",
    ">Execute the code cell below to create a small material property dictionary. This dictionary uses lists for the material properties (just the USCS and SI yield strengths in ksi and MPa at this time). You would need to know which list index is associated with each property to use the values in this dictionary."
   ]
  },
  {
   "cell_type": "code",
   "execution_count": null,
   "metadata": {},
   "outputs": [],
   "source": [
    "material = {\"Steel ASTM-A36\":[36, 250],\n",
    "           \"Aluminum 2104-T6\":[60, 410],\n",
    "           \"Bronze cold-rolled\":[75, 772],\n",
    "           \"Nickel Alloy\":[60, 414]}"
   ]
  },
  {
   "cell_type": "markdown",
   "metadata": {
    "deletable": false,
    "editable": false,
    "run_control": {
     "frozen": true
    }
   },
   "source": [
    "Here is another example that a dictionary is good at. Say you want to take a string that a user inputs and turn it into Morse Code. You can make a dictionary that contains all of the letter of the alphabet, numbers, and possibly other symbols. Then you can loop through each character of the string and access the dictionary to find the Morse Code translation for that character.\n",
    "\n",
    ">**Practice it**\n",
    ">\n",
    ">Execute the code cell below to define the function `string_to_morse(string)`. In the second cell call the function with the string of your choice (no exclamation points)."
   ]
  },
  {
   "cell_type": "code",
   "execution_count": null,
   "metadata": {},
   "outputs": [],
   "source": [
    "def string_to_morse(string):\n",
    "    to_morse = {'A':'.-', 'B':'-...',\n",
    "            'C':'-.-.', 'D':'-..', 'E':'.',\n",
    "            'F':'..-.', 'G':'--.', 'H':'....',\n",
    "            'I':'..', 'J':'.---', 'K':'-.-',\n",
    "            'L':'.-..', 'M':'--', 'N':'-.',\n",
    "            'O':'---', 'P':'.--.', 'Q':'--.-',\n",
    "            'R':'.-.', 'S':'...', 'T':'-',\n",
    "            'U':'..-', 'V':'...-', 'W':'.--',\n",
    "            'X':'-..-', 'Y':'-.--', 'Z':'--..',\n",
    "            '1':'.----', '2':'..---', '3':'...--',\n",
    "            '4':'....-', '5':'.....', '6':'-....',\n",
    "            '7':'--...', '8':'---..', '9':'----.',\n",
    "            '0':'-----', ',':'--..--', '.':'.-.-.-',\n",
    "            '?':'..--..', '/':'-..-.', '-':'-....-',\n",
    "            '(':'-.--.', ')':'-.--.-'}\n",
    "    test_string = string.upper()\n",
    "    morse_string = \"\"\n",
    "    for character in test_string:\n",
    "        morse_string += to_morse.get(character, \" \") + \" \"\n",
    "    return morse_string"
   ]
  },
  {
   "cell_type": "code",
   "execution_count": null,
   "metadata": {},
   "outputs": [],
   "source": []
  },
  {
   "cell_type": "markdown",
   "metadata": {},
   "source": [
    "## Accessing Dictionary Values\n",
    "\n",
    "Instead of using a numeric index to access dictionary values, you use the keys. You would use `MECH_faculty['Brady']` to access Mr. Brady's office location in the dictionary created earlier. If you tried to use a numeric index to find the same thing you would get an error.\n",
    "\n",
    ">**Practice it**\n",
    ">\n",
    ">Access Mr. Stein's office location from `MECH_faculty` and print it. In a separate code cell try to access Mr. Brady by using `MECH_faculty[0]`."
   ]
  },
  {
   "cell_type": "code",
   "execution_count": null,
   "metadata": {},
   "outputs": [],
   "source": []
  },
  {
   "cell_type": "code",
   "execution_count": null,
   "metadata": {},
   "outputs": [],
   "source": []
  },
  {
   "cell_type": "markdown",
   "metadata": {
    "deletable": false,
    "editable": false,
    "run_control": {
     "frozen": true
    }
   },
   "source": [
    "Part of the reason that numeric index does not work is that prior to *Python* version 3.7 the objects collected in dictionaries were stored in no particular order. As of 3.7, objects are stored in the created order, but numeric indexing is still not allowed. However, due to how dictionaries are programmed in *Python*, accessing values in dictionaries is generally more efficient and faster than lists."
   ]
  },
  {
   "cell_type": "markdown",
   "metadata": {
    "deletable": false,
    "editable": false,
    "run_control": {
     "frozen": true
    }
   },
   "source": [
    ">**Practice it**\n",
    ">\n",
    ">Access the properties for \"Nickel Alloy\" from the `material` dictionary."
   ]
  },
  {
   "cell_type": "code",
   "execution_count": null,
   "metadata": {},
   "outputs": [],
   "source": []
  },
  {
   "cell_type": "markdown",
   "metadata": {
    "deletable": false,
    "editable": false,
    "run_control": {
     "frozen": true
    }
   },
   "source": [
    "You use multiple sets of square brackets with keys or indexes to access values that are inside lists, tuples, or other dictionaries within a dictionary. For example, `material[\"Steel ASTM-A36\"][1]` will return the second property (SI yield strength) for ASTM-A36 steel. \n",
    "\n",
    "> **Practice it**\n",
    ">\n",
    "> Access the USCS yield strength for Aluminum 2014-T6 from the `material` dictionary."
   ]
  },
  {
   "cell_type": "code",
   "execution_count": null,
   "metadata": {},
   "outputs": [],
   "source": []
  },
  {
   "cell_type": "markdown",
   "metadata": {
    "deletable": false,
    "editable": false,
    "run_control": {
     "frozen": true
    }
   },
   "source": [
    "Trying to access a key that does not exist in a dictionary will result in an error. The `MECH_classes` dictionary does not yet include the key `'MECH 499'`. Trying to access it using `MECH_classes['MECH 499']` will result in a `KeyError`. There is a way to attempt to retrieve a value for a key that does not exist without generating an error, but that will be introduced in a separate section.\n",
    "\n",
    "> **Practice it**\n",
    ">\n",
    "> Try accessing \"MECH 499\" from the `MECH_classes` dictionary."
   ]
  },
  {
   "cell_type": "code",
   "execution_count": null,
   "metadata": {},
   "outputs": [],
   "source": []
  },
  {
   "cell_type": "markdown",
   "metadata": {
    "deletable": false,
    "editable": false,
    "run_control": {
     "frozen": true
    }
   },
   "source": [
    "You can test to see if a key is present in a dictionary using the `in` operator. For example, before trying to access `MECH_classes[\"MECH 499\"]` you could test if `\"MECH 499\"` is a valid key with `\"MECH 499\" in MECH_classes`.\n",
    "\n",
    ">**Practice it**\n",
    ">\n",
    "> Test if `\"Stainless Steel\"` is a valid key in the `material` dictionary."
   ]
  },
  {
   "cell_type": "code",
   "execution_count": null,
   "metadata": {},
   "outputs": [],
   "source": []
  },
  {
   "cell_type": "markdown",
   "metadata": {
    "deletable": false,
    "editable": false,
    "run_control": {
     "frozen": true
    }
   },
   "source": [
    "You can find out how many key-value pairs exist in a dictionary using the `len()` function, just like you can find the number of items in a list.\n",
    "\n",
    ">**Practice it**\n",
    ">\n",
    ">Determine how many key-value pairs there are in the dictionary `material`."
   ]
  },
  {
   "cell_type": "code",
   "execution_count": null,
   "metadata": {},
   "outputs": [],
   "source": []
  },
  {
   "cell_type": "markdown",
   "metadata": {
    "deletable": false,
    "editable": false,
    "run_control": {
     "frozen": true
    }
   },
   "source": [
    "## Adding or Replacing Dictionary Values\n",
    "\n",
    "When we first created dictionaries, we used an empty dictionary and added a key-value pair to populate the dictionary. We use the same method to add value to or replace values in a dictionary. For example, `MECH_classes['MECH 211'] = 'Fluid Mechanics'` will add a third class to our dictionary. Since we can only have one instance of each key, using `MECH_classes['MECH 122'] = 'Computer Apps for Technology 1'` will replace the existing value for the key `'MECH 122'`.\n",
    "\n",
    ">**Practice it**\n",
    ">\n",
    ">Add MECH 211 to `MECH_classes` and change the class name of MECH 122. Print the dictionary after making these changes."
   ]
  },
  {
   "cell_type": "code",
   "execution_count": null,
   "metadata": {},
   "outputs": [],
   "source": []
  },
  {
   "cell_type": "code",
   "execution_count": null,
   "metadata": {},
   "outputs": [],
   "source": []
  },
  {
   "cell_type": "markdown",
   "metadata": {
    "deletable": false,
    "editable": false,
    "run_control": {
     "frozen": true
    }
   },
   "source": [
    "## Nested Dictionaries\n",
    "\n",
    "Nesting dictionaries for our material properties dictionary would make selecting a property more explicit. For each material name, you could have a dictionary as a value that has the keys `'yield strength'` and `'ultimate strength'`. The values for each of these could in turn be dictionaries with keys of `'uscs'` and `'si'`. The following expression would return the SI yield strength for ASTM-A36 steel from our dictionary.\n",
    "\n",
    "```\n",
    "material_2[\"Steel ASTM-A36\"][\"yield strength\"][\"si\"]\n",
    "```\n",
    "\n",
    ">**Practice it**\n",
    ">\n",
    "> Execute the following code cell to create the dictionary `material_2`. Print the dictionary and then access the USCS ultimate strength for nickel alloy."
   ]
  },
  {
   "cell_type": "code",
   "execution_count": null,
   "metadata": {},
   "outputs": [],
   "source": [
    "material_2 = {\"Steel ASTM-A36\":{\"yield strength\":{\"uscs\":36, \"si\":250}, \n",
    "                                \"ultimate strength\":{\"uscs\":60, \"si\":400}},\n",
    "           \"Aluminum 2104-T6\":{\"yield strength\":{\"uscs\":60, \"si\":410}, \n",
    "                               \"ultimate strength\":{\"uscs\":70, \"si\":480}},\n",
    "           \"Bronze cold-rolled\":{\"yield strength\":{\"uscs\":75, \"si\":772}, \n",
    "                                 \"ultimate strength\":{\"uscs\":100, \"si\":515}},\n",
    "           \"Nickel Alloy\":{\"yield strength\":{\"uscs\":60, \"si\":414}, \n",
    "                           \"ultimate strength\":{\"uscs\":80, \"si\":552}}}"
   ]
  },
  {
   "cell_type": "code",
   "execution_count": null,
   "metadata": {},
   "outputs": [],
   "source": []
  },
  {
   "cell_type": "code",
   "execution_count": null,
   "metadata": {},
   "outputs": [],
   "source": []
  },
  {
   "cell_type": "markdown",
   "metadata": {
    "deletable": false,
    "editable": false,
    "run_control": {
     "frozen": true
    }
   },
   "source": [
    "## Dictionary Methods\n",
    "\n",
    "*Python* provides a number of methods to work with dictionaries and you can see what they are using `print([n for n in list(dir(dict)) if \"__\" not in n`. Execute the following code cell to see what they are. These methods will work like list methods do on lists in that most of them act \"in-place\" instead of creating copies."
   ]
  },
  {
   "cell_type": "code",
   "execution_count": null,
   "metadata": {},
   "outputs": [],
   "source": [
    "print([n for n in list(dir(dict)) if \"__\" not in n])"
   ]
  },
  {
   "cell_type": "markdown",
   "metadata": {
    "deletable": false,
    "editable": false,
    "run_control": {
     "frozen": true
    }
   },
   "source": [
    "- `my_dict.clear()` removes all key-value pairs from `my_dict`; leaving it empty\n",
    "\n",
    "\n",
    "- `new_dict = my_dict.copy()` creates an unlinked copy of `my_dict` named `new_dict`\n",
    "\n",
    "\n",
    "- `my_dict = dict.fromkeys([1, 2, 3, 4], 10)` creates a dictionary named `my_dict` with the keys 1, 2, 3, and 4 as given in the iterable (list or tuple) that are all assigned the value 10. If no value is given, all of the keys will be assigned `None`.\n",
    "\n",
    "\n",
    "- `my_dict.get(\"a\")` attempts to gets the value for `\"a\"` in `my_dict`. It returns the value if `\"a\"` is present but returns `None` if it is not present. You can add a second argument to change the value returned if the requested key is not present, i.e. `my_dict.get(\"a\", \"Not present\")`. This is the method mentioned earlier that keeps you from getting an error when requesting a value that is not present.\n",
    "\n",
    "\n",
    "- `my_dict.keys()` returns all keys in `my_dict`. Convert the returned value to a list using `list(my_dict.keys())`.\n",
    "\n",
    "\n",
    "- `my_dict.values()` returns all of the values in `my_dict`. Convert it to a list using the `list()` function.\n",
    "\n",
    "\n",
    "- `my_dict.items()` returns all of the key-value pairs from `my_dict` as tuples. Using `list(my_dict.items())` returns a list of tuples where each tuple contains the key-value pairs.\n",
    "\n",
    "\n",
    "- `my_dict.pop(\"a\")` returns the value associated with the key `\"a\"` and removes `\"a\"` and its value from the dictionary.\n",
    "\n",
    "\n",
    "- `my_dict.popitem()` returns the value associated with the last key and removes that key and value from the dictionary when using *Python* 3.7 and later. Earlier versions of *Python* selected a random key from the dictionary.\n",
    "\n",
    "\n",
    "- `my_dict.setdefault(\"a\")` adds the key `\"a\"` to `my_dict` if it doesn't already exist and assigns the value `None` to the key `\"a\"`. If key `\"a\"` does exist its value is returned. A second argument can be added to the method, i.e. `my_dict.setdefault(\"a\", \"a value\")` adds `\"a\"` as a key with the value `\"a value\"` if the key does not already exist. If `\"a\"` already exists, the current value remains the same and is returned.\n",
    "\n",
    "\n",
    "- `my_dict.update(other_dict)` updates the values in `my_dict` using the key-value pairs from `other_dict`. Key-value pairs from `other_dict` that do not exist in `my_dict` will be added to `my_dict`. If a key from `other_dict` already exists in `my_dict`, its value in `my_dict` will be replaced with the value from `other_dict`."
   ]
  },
  {
   "cell_type": "markdown",
   "metadata": {
    "deletable": false,
    "editable": false,
    "run_control": {
     "frozen": true
    }
   },
   "source": [
    ">**Practice it**\n",
    ">\n",
    ">Use the appropriate dictionary methods to perform the following tasks using the `MECH_classes` dictionary\n",
    ">\n",
    ">- Show all of the key-value pairs as tuples\n",
    ">- Show just the keys\n",
    ">- Show just the values\n",
    ">- Add \"MECH 212\", \"MECH 222\", and \"MECH 223\" with values of `None` for each (this will require using two methods in a single expression)\n",
    ">\n",
    ">Print `MECH_classes` when you are done"
   ]
  },
  {
   "cell_type": "code",
   "execution_count": null,
   "metadata": {},
   "outputs": [],
   "source": []
  },
  {
   "cell_type": "code",
   "execution_count": null,
   "metadata": {},
   "outputs": [],
   "source": []
  },
  {
   "cell_type": "code",
   "execution_count": null,
   "metadata": {},
   "outputs": [],
   "source": []
  },
  {
   "cell_type": "code",
   "execution_count": null,
   "metadata": {},
   "outputs": [],
   "source": []
  },
  {
   "cell_type": "code",
   "execution_count": null,
   "metadata": {},
   "outputs": [],
   "source": []
  },
  {
   "cell_type": "markdown",
   "metadata": {
    "deletable": false,
    "editable": false,
    "run_control": {
     "frozen": true
    }
   },
   "source": [
    ">**Practice it**\n",
    ">\n",
    ">A common use for a dictionary is to count the number of occurrences of characters in a string or numbers in a list. The following function definition will count the number of each different character in the string and assign the counts to a dictionary. See how it works by counting the characters in the string \"My name is Inigo Montoya, you killed by father, prepare to die!\""
   ]
  },
  {
   "cell_type": "code",
   "execution_count": null,
   "metadata": {},
   "outputs": [],
   "source": [
    "def count_chars(string):\n",
    "    string = string.lower()\n",
    "    count_dict = {}\n",
    "    for char in string:\n",
    "        if char in count_dict:\n",
    "            count_dict[char] += 1\n",
    "        else:\n",
    "            count_dict[char] = 1\n",
    "    return count_dict"
   ]
  },
  {
   "cell_type": "code",
   "execution_count": null,
   "metadata": {},
   "outputs": [],
   "source": []
  },
  {
   "cell_type": "markdown",
   "metadata": {
    "deletable": false,
    "editable": false,
    "run_control": {
     "frozen": true
    }
   },
   "source": [
    "A better version of the `count_chars(string)` function would use `count_dict[char] = count_dict.get(char, 0) + 1` instead of the `if-else` statement block. Using a default value of `0` in the `.get()` method causes it to add a key for `char` and assign it the value 0 if `char` is not already a key. Then the expression adds 1 to value and assigns it to `char` in the dictionary. If the a key for `char` already exists, its current value is retrieved, incremented by one, and assigned back to `char` in the dictionary.\n",
    "\n",
    ">**Practice it**\n",
    ">\n",
    ">Edit the function definition in the code cell below to use the expression described above. Test the function with the string \"the quick brown fox jumps over the lazy dog.\""
   ]
  },
  {
   "cell_type": "code",
   "execution_count": null,
   "metadata": {
    "scrolled": false
   },
   "outputs": [],
   "source": [
    "# Make this function better by using the .get() method instead of if-else\n",
    "def count_chars(string):\n",
    "    string = string.lower()\n",
    "    count_dict = {}\n",
    "    for char in string:\n",
    "        if char in count_dict:\n",
    "            count_dict[char] += 1\n",
    "        else:\n",
    "            count_dict[char] = 1\n",
    "    return count_dict"
   ]
  },
  {
   "cell_type": "code",
   "execution_count": null,
   "metadata": {},
   "outputs": [],
   "source": []
  },
  {
   "cell_type": "markdown",
   "metadata": {
    "deletable": false,
    "editable": false,
    "run_control": {
     "frozen": true
    }
   },
   "source": [
    "The string used above has at least one of each letter from the English alphabet. If you assign the function call to a variable, like `string_count`, then use `sorted(string_count)` it is fairly easy to verify this. The sorted dictionary sorts by and only shows the keys."
   ]
  },
  {
   "cell_type": "markdown",
   "metadata": {},
   "source": [
    "> **Practice it**\n",
    ">\n",
    "> Perform the calling and sorting as described above."
   ]
  },
  {
   "cell_type": "code",
   "execution_count": null,
   "metadata": {},
   "outputs": [],
   "source": []
  },
  {
   "cell_type": "markdown",
   "metadata": {
    "deletable": false,
    "editable": false,
    "run_control": {
     "frozen": true
    }
   },
   "source": [
    "## Sets\n",
    "\n",
    "A collection that is related to, and sometimes mistaken for, dictionaries is a **set**. Sets do not contain key-value pairs like dictionaries, but they do use curly braces. They can be created from strings, lists, tuples, dictionary keys, or dictionary value using the `set()` function. Sets are unordered collections of unique values. If you add `\"a\"` to a set that already has an `\"a\"` in it, nothing will be changed. If you did not want to know the number of occurrences of each character in a string, but simply wanted to know what characters were used, then a set is the tool to use.\n",
    "\n",
    ">**Practice it**\n",
    ">\n",
    ">Convert the string \"the quick brown fox jumps over the lazy dog\" to a set in the first code cell and assign it to the variable name `string_set`. In the next cell print both the original set and a sorted version of the set."
   ]
  },
  {
   "cell_type": "code",
   "execution_count": null,
   "metadata": {},
   "outputs": [],
   "source": [
    "\"the quick brown fox jumps over the lazy dog\""
   ]
  },
  {
   "cell_type": "code",
   "execution_count": null,
   "metadata": {},
   "outputs": [],
   "source": []
  },
  {
   "cell_type": "markdown",
   "metadata": {
    "deletable": false,
    "editable": false,
    "run_control": {
     "frozen": true
    }
   },
   "source": [
    "## Reading and Writing from/to Files\n",
    "\n",
    "When you create and add items to lists, tuples, dictionaries, etc in a script they only remain available until the script finishes executing. After that, all of those created items are gone. Often you may want to save the objects you have created so they will be available the next time you run the script or you may want to get and use values or information from a file that you or somebody else previously created. This might include test results saved from an instrument or machine, tables of material properties, steam tables, a dictionary of books, articles, or standards, or a text file. *Python* has built-in functions and methods for reading and writing information from/to files. We will look at using text files that can be opened with any standard text editor, even if information in the files are organized differently for each use case.\n",
    "\n",
    "### Opening a File for Reading or Writing\n",
    "\n",
    "For our purposes, we will assume that the file we want to retrieve information from or save information to is located in the same directory or folder as our script or function. The standard procedure to open a file is to use the `open()` function and assign it to a variable. This can be done as per the following example:\n",
    "\n",
    "```python\n",
    "my_file = open(\"data file.txt\")\n",
    "```\n",
    "This will open the file \"data file.txt\" for reading and assign it as a file object to `my_file`. You can add a mode as a second argument to the function call to explicitly state how the file will be used. The default is for reading `\"r\"`, but you can also use `\"w\"` for writing, `\"a\"` for appending, and `\"r+\"` for reading and writing. The above command could have been written as per the following to explicitly state the file was to be read.\n",
    "\n",
    "```python\n",
    "my_file = open(\"data file.txt\", \"r\")\n",
    "```\n",
    "Before going too far, it should be noted that after you open a file and either read from it or write to it, you need to close it. For the case above use `my_file.close()`.\n",
    "\n",
    "Another method that can be used to open a file is `with open(\"data file.txt\", \"r\") as my_file:`. It does exactly the same thing as the previous method, except anything that you do with the file needs to be indented under the `with` expression. The benefit of using the `with` method is that as soon as the code block below it is exited (finished) the file is automatically closed. Therefore, using `with` to open a file means that we don't have to use the `.close()` method."
   ]
  },
  {
   "cell_type": "markdown",
   "metadata": {
    "deletable": false,
    "editable": false,
    "run_control": {
     "frozen": true
    }
   },
   "source": [
    "### Reading a File's Contents\n",
    "\n",
    "We will look at just two methods for reading the contents of a file that has been opened; `.read()` and `.readlines()`. These two methods should meet all of our needs. Using `.read()` will read an entire text file as a single long string. Everywhere the file had a new line, the string will have the newline escape character (`\\n`) added. You will need to assign the read to a variable name so you can work with this string. The following code shows how this might look.\n",
    "\n",
    "```python\n",
    "with open(\"data file.txt\") as my_file:\n",
    "    file_string = my_file.read()\n",
    "```\n",
    "\n",
    ">**Practice it**\n",
    ">\n",
    ">Type and execute the above two lines in the following code cell. Then in second code cell display `file_string`."
   ]
  },
  {
   "cell_type": "code",
   "execution_count": null,
   "metadata": {},
   "outputs": [],
   "source": []
  },
  {
   "cell_type": "code",
   "execution_count": null,
   "metadata": {},
   "outputs": [],
   "source": []
  },
  {
   "cell_type": "markdown",
   "metadata": {
    "deletable": false,
    "editable": false,
    "run_control": {
     "frozen": true
    }
   },
   "source": [
    "Using `.readlines()` is similar except that each line of the text file will become an item in a list.\n",
    "\n",
    ">**Practice it**\n",
    ">\n",
    ">Copy your code from above into the first code cell below and edit it so that it uses `.readlines()` instead of `.read()` and assign the results to `file_list` instead of `file_string`. Use the second code cell to display the results."
   ]
  },
  {
   "cell_type": "code",
   "execution_count": null,
   "metadata": {},
   "outputs": [],
   "source": []
  },
  {
   "cell_type": "code",
   "execution_count": null,
   "metadata": {},
   "outputs": [],
   "source": []
  },
  {
   "cell_type": "markdown",
   "metadata": {
    "deletable": false,
    "editable": false,
    "run_control": {
     "frozen": true
    }
   },
   "source": [
    "Once you have the contents of the file assigned to a variable using either method, you can do anything you want with the information. It is best to perform such operations outside of the `with` code block. Keep in mind that the file was merely read, anything you do to the information within your script or function has no effect on the original text file until you write to the file."
   ]
  },
  {
   "cell_type": "markdown",
   "metadata": {
    "deletable": false,
    "editable": false,
    "run_control": {
     "frozen": true
    }
   },
   "source": [
    "### Writing to a File\n",
    "\n",
    "Say you've written a script that performs some calculations and you want to save them instead of just displaying them with `print()`. To do that you need to open a file and write to it. When opening a file for writing you will normally need to explicitly set the mode to either `\"w\"` or `\"a\"`. If the mode is set to `\"w\"` and the file name used in `.open()` does not already exist, *Python* will create the file in the current directory and make it ready for writing to. If the file already exists and the mode is `\"w\"`, *Python* will delete the contents the existing file (without warning) and make it ready for writing to. If the `\"a\"` mode is used, *Python* will append (add to the end) to the existing file when written to. Using `\"a\"` if the file does not yet exist is just like using `\"w\"` under the same circumstances.\n",
    "\n",
    "Once a file is open for for writing or appending, you need to use either the `.write()` or `.writelines()` methods to write text to the file. It is important that everything you write is text. *Python* will not write integers or floats or anything else unless it is converted to a string. The `.write()` method requires a string as an argument and writes the string to the open file.\n",
    "\n",
    "The following code will open `\"new file.txt\"` for writing and write two lines to it. Notice the `\\n` at the end of each print statement? These are necessary if you want the string in each `.write()` to be on separate lines, because *Python* does not automatically insert line breaks when writing.\n",
    "\n",
    "```python\n",
    "with open(\"new text file.txt\", \"w\") as new_file:\n",
    "    new_file.write(\"Hey, new file.\\n\")\n",
    "    new_file.write(f\"{21 * 2}\\n\")\n",
    "```\n",
    "\n",
    "The `.writelines()` method requires a list of strings as an argument. All of the strings in the list will be written one after the other to the file. If a string does not end in `\\n`, then the next string will start on the same line. The following code shows how a list of strings can be used to create a new text file.\n",
    "\n",
    "```python\n",
    "string_list = [\"My name is Brian.\\n\", \"I work at Ferris.\"]\n",
    "with open(\"brian file.txt\", \"w\") as new_file:\n",
    "    new_file.writelines(string_list)\n",
    "```\n",
    "\n",
    ">**Practice it**\n",
    ">\n",
    ">Copy the code provided above and paste it into the first code cell below. Change the code so that the file uses your first name (not mine) and the first string in the list uses your first name (again, not mine). Execute the code cell to create the file. In the next empty code write the code necessary to read your new file and put its contents into a list and print the list."
   ]
  },
  {
   "cell_type": "code",
   "execution_count": null,
   "metadata": {},
   "outputs": [],
   "source": []
  },
  {
   "cell_type": "code",
   "execution_count": null,
   "metadata": {},
   "outputs": [],
   "source": []
  },
  {
   "cell_type": "code",
   "execution_count": null,
   "metadata": {},
   "outputs": [],
   "source": []
  },
  {
   "cell_type": "markdown",
   "metadata": {
    "deletable": false,
    "editable": false,
    "run_control": {
     "frozen": true
    }
   },
   "source": [
    "### Reading CSV Files\n",
    "\n",
    "CSV (comma separated values) files are special forms of text files. All modern spreadsheet applications can be used to create CSV files. The standard `open()` function with `.read()` or `.readlines()` and a bit of coding can be used to retrieve information from a CSV file and make it useful. \n",
    "\n",
    ">**Practice it**\n",
    ">\n",
    ">Make a text file named `my_csv_file.csv` using a plain text editor that looks like the following (make sure you do not include any spaces after commas).\n",
    ">\n",
    ">```\n",
    "\"x\",\"y\"\n",
    "0,0\n",
    "1,2\n",
    "3,6\n",
    "4,8\n",
    "5,10\n",
    ">```\n",
    ">\n",
    ">Then execute the following code cell to read it and place each line into a list."
   ]
  },
  {
   "cell_type": "code",
   "execution_count": null,
   "metadata": {},
   "outputs": [],
   "source": [
    "with open(\"my_csv_file.csv\", \"r\") as csv_file:\n",
    "    csv_list = csv_file.readlines()\n",
    "print(csv_list)"
   ]
  },
  {
   "cell_type": "markdown",
   "metadata": {
    "deletable": false,
    "editable": false,
    "run_control": {
     "frozen": true
    }
   },
   "source": [
    "The next code cell iterates though the list of strings that the `.readlines()` method created and strips all newline characters. It also creates a list called `headings` containing the two strings from the first line. It also splits all lines after the first at the comma, converts the strings to floats, and places the x and y values into separate lists. This is not difficult code, but not all that simple either."
   ]
  },
  {
   "cell_type": "code",
   "execution_count": null,
   "metadata": {},
   "outputs": [],
   "source": [
    "x = []\n",
    "y = []\n",
    "for n, string in enumerate(csv_list):\n",
    "    new_string = string.strip(\"\\n\")\n",
    "    if n == 0:\n",
    "        new_string = new_string.strip('\"')\n",
    "        headings = new_string.split('\",\"')\n",
    "    else:\n",
    "        xy_pair = [float(n) for n in new_string.split(\",\")]\n",
    "        x.append(xy_pair[0])\n",
    "        y.append(xy_pair[1])\n",
    "\n",
    "print(headings)\n",
    "print(x)\n",
    "print(y)"
   ]
  },
  {
   "cell_type": "markdown",
   "metadata": {
    "deletable": false,
    "editable": false,
    "run_control": {
     "frozen": true
    }
   },
   "source": [
    "It would be much nicer if there were a more direct way to access the values from CSV files. Well, there is. The `csv` module was designed to handle this specific task. We need to use `with` to open a CSV file and assign it a name. Then use `csv.reader()` with the file object as an argument plus `quoting=csv.QUOTE_NONNUMERIC` as a keyword argument. The `quoting` keyword tells the reader how to handle quoted items. In this case, it converts non-quoted items into floats. The new CSV object can be converted to a list so the required values can be extracted. In this case two list comprehensions were used to extract the x and y values and place them in their own lists."
   ]
  },
  {
   "cell_type": "code",
   "execution_count": null,
   "metadata": {},
   "outputs": [],
   "source": [
    "import csv\n",
    "with open(\"my_csv_file.csv\") as csvfile:\n",
    "    csv_reader = csv.reader(csvfile, quoting=csv.QUOTE_NONNUMERIC)\n",
    "    csv_list = list(csv_reader)\n",
    "    headings = csv_list[0]\n",
    "    x = [n[0] for n in csv_list[1:]]\n",
    "    y = [n[1] for n in csv_list[1:]]\n",
    "\n",
    "print(headings)\n",
    "print(x)\n",
    "print(y)"
   ]
  },
  {
   "cell_type": "markdown",
   "metadata": {
    "deletable": false,
    "editable": false,
    "run_control": {
     "frozen": true
    }
   },
   "source": [
    "### Using *Pandas* to Read a CSV File\n",
    "\n",
    "People who use *Python* to work with large data sets typically use the [*Pandas*](https://pandas.pydata.org/) library. This library of modules makes working with CSVs of any size very easy. The primary data structure of *Pandas* is the DataFrame. The following code block will import *Pandas* and use its `.read_csv()` method to create a DataFrame named `csxv_df` from our `\"my_csv_data.csv\"` file.\n",
    "\n",
    ">**Practice it**\n",
    ">\n",
    ">Execute the following code cell to import *Pandas* and create a DataFrame from our CSV file."
   ]
  },
  {
   "cell_type": "code",
   "execution_count": null,
   "metadata": {},
   "outputs": [],
   "source": [
    "import pandas as pd\n",
    "csv_df = pd.read_csv(\"my_csv_file.csv\")"
   ]
  },
  {
   "cell_type": "markdown",
   "metadata": {
    "deletable": false,
    "editable": false,
    "run_control": {
     "frozen": true
    }
   },
   "source": [
    "Once `csv_df` is created, we can easily convert its headings to a list using `list(csv_df)`. A DataFrames uses the heading names from the CSV file it was created from as indexes for the DataFrame; kind of like dictionary keys. In this case the headings are `\"x\"` and `\"y\"`. Therefore, `csv_df[\"x\"]` will return all of the values from the `\"x\"` column as a *Pandas* Series. Using the `list()` function allows us to convert the Series to a list; i.e. `x = list(csv_df[\"x\"]`.\n",
    "\n",
    ">**Practice it**\n",
    ">\n",
    ">In separate code cells create lists that contain the CSV headings, the $x$ values, and the $y$ values. Print all three lists."
   ]
  },
  {
   "cell_type": "code",
   "execution_count": null,
   "metadata": {},
   "outputs": [],
   "source": []
  },
  {
   "cell_type": "code",
   "execution_count": null,
   "metadata": {},
   "outputs": [],
   "source": []
  },
  {
   "cell_type": "code",
   "execution_count": null,
   "metadata": {},
   "outputs": [],
   "source": []
  },
  {
   "cell_type": "code",
   "execution_count": null,
   "metadata": {},
   "outputs": [],
   "source": [
    "print(headings)\n",
    "print(x)\n",
    "print(y)"
   ]
  },
  {
   "cell_type": "markdown",
   "metadata": {
    "deletable": false,
    "editable": false,
    "run_control": {
     "frozen": true
    }
   },
   "source": [
    "The *Pandas* approach definitely took fewer lines of code, but required more computing overhead due to importing a fairly sizable library. However, with that overhead comes a lot of power to work with datasets large and small."
   ]
  },
  {
   "cell_type": "markdown",
   "metadata": {
    "deletable": false,
    "editable": false,
    "run_control": {
     "frozen": true
    }
   },
   "source": [
    ">**Wrap it up**\n",
    ">\n",
    ">Execute the time stamp code cell below to show the time and date you finished and tested this script.\n",
    ">\n",
    ">Click on the **Save** button and then the **Close and halt** button when you are done. **This is an instructor-led assignment that must be completed before the end of the lab session in order to receive credit.**"
   ]
  },
  {
   "cell_type": "code",
   "execution_count": null,
   "metadata": {
    "deletable": false,
    "editable": false,
    "run_control": {
     "frozen": true
    }
   },
   "outputs": [],
   "source": [
    "from datetime import datetime\n",
    "from pytz import timezone\n",
    "print(datetime.now(timezone('US/Eastern')))"
   ]
  }
 ],
 "metadata": {
  "kernelspec": {
   "display_name": "Python 3",
   "language": "python",
   "name": "python3"
  },
  "language_info": {
   "codemirror_mode": {
    "name": "ipython",
    "version": 3
   },
   "file_extension": ".py",
   "mimetype": "text/x-python",
   "name": "python",
   "nbconvert_exporter": "python",
   "pygments_lexer": "ipython3",
   "version": "3.7.5"
  },
  "varInspector": {
   "cols": {
    "lenName": 16,
    "lenType": 16,
    "lenVar": 40
   },
   "kernels_config": {
    "python": {
     "delete_cmd_postfix": "",
     "delete_cmd_prefix": "del ",
     "library": "var_list.py",
     "varRefreshCmd": "print(var_dic_list())"
    },
    "r": {
     "delete_cmd_postfix": ") ",
     "delete_cmd_prefix": "rm(",
     "library": "var_list.r",
     "varRefreshCmd": "cat(var_dic_list()) "
    }
   },
   "types_to_exclude": [
    "module",
    "function",
    "builtin_function_or_method",
    "instance",
    "_Feature"
   ],
   "window_display": false
  }
 },
 "nbformat": 4,
 "nbformat_minor": 2
}
