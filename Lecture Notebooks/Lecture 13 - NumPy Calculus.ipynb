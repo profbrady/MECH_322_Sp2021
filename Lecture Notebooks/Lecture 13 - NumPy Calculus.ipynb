{
 "cells": [
  {
   "cell_type": "markdown",
   "metadata": {
    "collapsed": false,
    "deletable": false,
    "editable": false,
    "run_control": {
     "frozen": true
    }
   },
   "source": [
    "# Lecture 13 - *NumPy* Calculus\n",
    "___\n",
    "___"
   ]
  },
  {
   "cell_type": "markdown",
   "metadata": {
    "collapsed": false,
    "deletable": false,
    "editable": false,
    "run_control": {
     "frozen": true
    }
   },
   "source": [
    "## Purpose:\n",
    "\n",
    "- *Python*, and the many modules available for it, can do much more than can be covered in a one semester class\n",
    "- Many of the basics have been covered which...\n",
    "  - Should allow you to use *Python* to solve engineering related problems in the future\n",
    "  - Give you a good understanding of how programming works\n",
    "- This notebook will focus on using *NumPy* and *SciPy* to solve a number of problems related to...\n",
    "  - Polynomials\n",
    "  - Numeric calculus\n",
    "  - Curve fitting\n",
    "  - More\n",
    "- The topics covered include...\n",
    "  - Adding, subtracting, multiplying, and dividing polynomials using **`numpy.polynomial.polynomial`** (aka **`P`**) functions\n",
    "  - Derivatives and integrals of polynomials using **`P.polyder()`** and **`P.polyint()`**\n",
    "  - Polynomial curve fitting with **`P.polyfit()`** and **`P.polyval()`**\n",
    "  - Finding roots of polynomials using **`numpy.roots()`** and **`P.polyroots`**\n",
    "  - Finding zeros and local minimums and maximums of functions with **`scipy.optimize.fsolve()`** and **`scipy.optimize.fminbound()`**\n",
    "  - Numeric integration with **`scipy.integrate.quad()`** and **`numpy.trapz()`**\n",
    "  - Numeric differentiation with **`scipy.misc.derivative()`**\n",
    "- Each of these topics will be introduced by using a number of examples\n",
    "- This is not an exhaustive investigation of these topics, but merely an introduction"
   ]
  },
  {
   "cell_type": "markdown",
   "metadata": {
    "collapsed": false,
    "deletable": false,
    "editable": false,
    "run_control": {
     "frozen": true
    }
   },
   "source": [
    "**Execute the following code cell to import the necessary modules for this notebook**"
   ]
  },
  {
   "cell_type": "code",
   "execution_count": 0,
   "metadata": {
    "collapsed": false,
    "deletable": false
   },
   "outputs": [
   ],
   "source": [
    "import numpy as np\n",
    "from scipy import integrate, optimize"
   ]
  },
  {
   "cell_type": "markdown",
   "metadata": {
    "collapsed": false,
    "deletable": false,
    "editable": false,
    "run_control": {
     "frozen": true
    }
   },
   "source": [
    "## Adding, Subtracting, Multiplying, and Dividing Polynomials\n",
    "\n",
    "- Polynomials are typically expressed in the following form\n",
    "  - $c_5x^5+c_4x^4+c_3x^3+c_2x^2+c_1x^1+c_0x^0$\n",
    "  - For example, $5x^2 - 3x + 2$\n",
    "- *NumPy*'s polynomial module starts with the $x^0$ coefficient on the left instead of the right\n",
    "  - $c_0x^0 + c_1x^1+ c_2x^2 + c_3x^3 + c_4x^4 + c_5x^5+\\ldots$\n",
    "  - For example, $2 - 3x + 5x^2$\n",
    "- This module can add, subtract, multiply, and divide two polynomials using...\n",
    "  - **`P.polyadd()`**\n",
    "  - **`P.polysub()`**\n",
    "  - **`P.polymul()`**\n",
    "  - **`P.polydiv()`** - polynomial division returns two arrays\n",
    "    - The coefficients of the quotient polynomial\n",
    "    - The coefficients of the remainder polynomial\n",
    "- See the *NumPy* [polynomial documentation page](https://docs.scipy.org/doc/numpy/reference/routines.polynomials.polynomial.html) for help on these and other polynomial functions\n",
    "- In *NumPy* polynomials are defined as lists of the coefficients (numeric values)\n",
    "  - The lists need to start with the $x^0$ coefficient \n",
    "  - They need to include all coefficients even if they are zero\n",
    "  - All signs belong to the coefficients\n",
    "  - $5x^2 - 3x + 2$ would be defined with the list **`[2, -3, 5]`**\n",
    "  - $-3x^4 + 2x^2 + 5x - 12$ would be defined with the list **`[-12, 5, 2, 0, -3]`**"
   ]
  },
  {
   "cell_type": "markdown",
   "metadata": {
    "collapsed": false,
    "deletable": false,
    "editable": false,
    "run_control": {
     "frozen": true
    }
   },
   "source": [
    "____\n",
    "**Practice it**\n",
    "\n",
    "Import the *NumPy* polynomial module with the following command. This will allow us to use function calls like **`P.polyadd()`** instead of having to use the entire path to the module."
   ]
  },
  {
   "cell_type": "code",
   "execution_count": 0,
   "metadata": {
    "collapsed": false,
    "deletable": false
   },
   "outputs": [
   ],
   "source": [
    "from numpy.polynomial import polynomial as P"
   ]
  },
  {
   "cell_type": "markdown",
   "metadata": {
    "collapsed": false,
    "deletable": false,
    "editable": false,
    "run_control": {
     "frozen": true
    }
   },
   "source": [
    "___\n",
    "**Practice it**\n",
    "\n",
    "Use *Python* lists to define two polynomials **`p1`** and **`p2`** per the following expressions. Watch for any missing (zero) coefficients and use the correct order of coefficients.\n",
    "\n",
    "$p_1 = -40 + 15x -3x^2 -10x^3 + 15x^5 + 3x^6$\n",
    "\n",
    "$p_2 = -6 -2x +3x^3$"
   ]
  },
  {
   "cell_type": "code",
   "execution_count": 0,
   "metadata": {
    "collapsed": false,
    "deletable": false
   },
   "outputs": [
   ],
   "source": [
    "# define 'p1' using a list\n"
   ]
  },
  {
   "cell_type": "code",
   "execution_count": 0,
   "metadata": {
    "collapsed": false,
    "deletable": false
   },
   "outputs": [
   ],
   "source": [
    "# define 'p2' using a list\n"
   ]
  },
  {
   "cell_type": "markdown",
   "metadata": {
    "collapsed": false,
    "deletable": false,
    "editable": false,
    "run_control": {
     "frozen": true
    }
   },
   "source": [
    "____\n",
    "**Practice it**\n",
    "\n",
    "Use the appropriate polynomial functions to add, substract, multiply, and divide polynomials $p_1$ and $p_2$ per the following:\n",
    "\n",
    "1. $p_1 + p_2$\n",
    "\n",
    "2. $p_1 - p_2$\n",
    "\n",
    "3. $p_1 \\times p_2$\n",
    "\n",
    "4. $p_1 \\div p_2$"
   ]
  },
  {
   "cell_type": "code",
   "execution_count": 0,
   "metadata": {
    "collapsed": false,
    "deletable": false
   },
   "outputs": [
   ],
   "source": [
    "# add the polynomials\n"
   ]
  },
  {
   "cell_type": "code",
   "execution_count": 0,
   "metadata": {
    "collapsed": false,
    "deletable": false
   },
   "outputs": [
   ],
   "source": [
    "# subtract p2 from p1\n"
   ]
  },
  {
   "cell_type": "code",
   "execution_count": 0,
   "metadata": {
    "collapsed": false,
    "deletable": false
   },
   "outputs": [
   ],
   "source": [
    "# multiply the polynomials\n"
   ]
  },
  {
   "cell_type": "code",
   "execution_count": 0,
   "metadata": {
    "collapsed": false,
    "deletable": false
   },
   "outputs": [
   ],
   "source": [
    "# divide p2 from p1\n"
   ]
  },
  {
   "cell_type": "markdown",
   "metadata": {
    "collapsed": false,
    "deletable": false,
    "editable": false,
    "run_control": {
     "frozen": true
    }
   },
   "source": [
    "____\n",
    "**Practice it**\n",
    "\n",
    "Define two polynomials $u = -5 + 7x +8x^2 + 3x^3$ and $v = 3 + x$ in the following code cell. Then divide $u$ by $v$ using **`P.polydiv()`**. Polynomial division returns two values; quotient and remainder. Assign the quotient to **`q`** and the remainder to **`r`**. Recall that this can be done by putting **`q`** and **`r`** in a tuple on the left side of the equal sign. Print both the quotient and remainder in the same cell (code is provided). Then in the last cell, multiply the quotient **`q`** times **`v`** and add the remainder **`r`**. What did you get for an answer?"
   ]
  },
  {
   "cell_type": "code",
   "execution_count": 0,
   "metadata": {
    "collapsed": false,
    "deletable": false
   },
   "outputs": [
   ],
   "source": [
    "# define u and v\n"
   ]
  },
  {
   "cell_type": "code",
   "execution_count": 0,
   "metadata": {
    "collapsed": false,
    "deletable": false
   },
   "outputs": [
   ],
   "source": [
    "# divide u by v and assign results to q and r\n"
   ]
  },
  {
   "cell_type": "code",
   "execution_count": 0,
   "metadata": {
    "collapsed": false,
    "deletable": false
   },
   "outputs": [
   ],
   "source": [
    "print('q =', q)\n",
    "print('r =', r)"
   ]
  },
  {
   "cell_type": "code",
   "execution_count": 0,
   "metadata": {
    "collapsed": false,
    "deletable": false
   },
   "outputs": [
   ],
   "source": [
    "# multiply q and v then add r\n"
   ]
  },
  {
   "cell_type": "markdown",
   "metadata": {
    "collapsed": false,
    "deletable": false,
    "editable": false,
    "run_control": {
     "frozen": true
    }
   },
   "source": [
    "## Determining Polynomial Values\n",
    "\n",
    "- Find the value of a polynomial at any $x$ value by using **`P.polyval()`**\n",
    "- It takes two arguments\n",
    "  - The value (or values as a list, tuple, or array) for $x$\n",
    "  - The polynomial to evaluate\n",
    "- Examples\n",
    "  - **`P.polyval(2, p2)`** evaluates **`p2`** at $x = 2$\n",
    "  - **`P.polyval([1, 2, 3], p2)`** evaluates **`p2`** at $x=1, 2, 3$\n",
    "\n",
    "____\n",
    "**Practice it**\n",
    "\n",
    "Find the value of $p_1$ at $x=3$ and the values of $p_1$ at $x = 0, 1, 2, \\ldots, 10$ in the following code cells. Use a range of values for the second one."
   ]
  },
  {
   "cell_type": "code",
   "execution_count": 0,
   "metadata": {
    "collapsed": false,
    "deletable": false,
    "editable": true
   },
   "outputs": [
   ],
   "source": [
    "# value of p1 at 3\n"
   ]
  },
  {
   "cell_type": "code",
   "execution_count": 0,
   "metadata": {
    "collapsed": false,
    "deletable": false,
    "editable": true
   },
   "outputs": [
   ],
   "source": [
    "# value of p1 at 0, 1, 2,..., 10\n"
   ]
  },
  {
   "cell_type": "markdown",
   "metadata": {
    "collapsed": false,
    "deletable": false,
    "editable": false,
    "run_control": {
     "frozen": true
    }
   },
   "source": [
    "## Derivatives and Integrals of Polynomials\n",
    "\n",
    "- *NumPy* can find the derivatives and integrals of polynomials using...\n",
    "  - **`P.polyder()`**\n",
    "  - **`P.polyint()`**\n",
    "- Both functions accept the following arguments...\n",
    "  - Coefficient values in an array or list as previously described (required)\n",
    "  - The number of differentiations or integrations to take (optional, defaults to 1)\n",
    "- The result is displayed as an array of coefficients for the resulting polynomial\n",
    "- The expression **`P.polyder(p1, 2)`** will take the second derivative of the polynomial named **`p1`**\n",
    "- These functions do not work with non-polynomial expressions\n",
    "\n",
    "____\n",
    "**Practice it**\n",
    "\n",
    "Execute the following code cell to create polynomial **`p`**. Use the remaining cells to find the first and second derivatives of **`p`** and to integrate **`p`**."
   ]
  },
  {
   "cell_type": "code",
   "execution_count": 0,
   "metadata": {
    "collapsed": false,
    "deletable": false
   },
   "outputs": [
   ],
   "source": [
    "# 10 - 4x + 2x^2\n",
    "p = [10, -4, 2]"
   ]
  },
  {
   "cell_type": "code",
   "execution_count": 0,
   "metadata": {
    "collapsed": false,
    "deletable": false
   },
   "outputs": [
   ],
   "source": [
    "# first derivative of p\n"
   ]
  },
  {
   "cell_type": "code",
   "execution_count": 0,
   "metadata": {
    "collapsed": false,
    "deletable": false
   },
   "outputs": [
   ],
   "source": [
    "# second derivative of p\n"
   ]
  },
  {
   "cell_type": "code",
   "execution_count": 0,
   "metadata": {
    "collapsed": false,
    "deletable": false
   },
   "outputs": [
   ],
   "source": [
    "# first integral of p\n"
   ]
  },
  {
   "cell_type": "markdown",
   "metadata": {
    "collapsed": false,
    "deletable": false,
    "editable": false,
    "run_control": {
     "frozen": true
    }
   },
   "source": [
    "## Curve Fitting\n",
    "\n",
    "- The *NumPy* polynomial module also provides a means to perform regression analysis, aka curve fitting\n",
    "- A function may be fitted to a set of $x$ and $y$ data points\n",
    "- The **`P.polyfit()`** function is used to fit a polynomial of a specific order to the data\n",
    "- A polynomial of order $n = 1$ is a straight line of the form $y = mx + b$\n",
    "- The function **`P.polyval()`** can then be used to create an array of values using the **`P.polyfit()`** results\n",
    "  - This array can then be used for plotting the fitted curve\n",
    "- The arguments passed to the **`P.polyfit()`** function are the $x$ and $y$ arrays followed by the desired fit order\n",
    "- **`P.polyfit(x, y, 5)`** will result in a 5th order polynomial\n",
    "- *SciPy* has a statistics module called **`stats`** that includes the **`linregress()`** function\n",
    "  - Use it for finding the $R^2$ value (and more) for each of the fitted curves relative to the original data points\n",
    "  - The arrays used in this function need to be the same length\n",
    "\n",
    "____\n",
    "**Practice it**\n",
    "\n",
    "Execute the following three code cells to create $x$ and $y$ values to use for fitting and to plot them as red dots."
   ]
  },
  {
   "cell_type": "code",
   "execution_count": 0,
   "metadata": {
    "collapsed": false,
    "deletable": false
   },
   "outputs": [
   ],
   "source": [
    "import matplotlib.pyplot as plt"
   ]
  },
  {
   "cell_type": "code",
   "execution_count": 0,
   "metadata": {
    "collapsed": false,
    "deletable": false
   },
   "outputs": [
   ],
   "source": [
    "x = np.arange(0, 5.5, 0.5)\n",
    "y = np.array([6.0, 4.83, 3.70, 3.15, 2.41, 1.83, 1.49, 1.21, 0.96, 0.73, 0.64])"
   ]
  },
  {
   "cell_type": "code",
   "execution_count": 0,
   "metadata": {
    "collapsed": false,
    "deletable": false
   },
   "outputs": [
   ],
   "source": [
    "fig, ax = plt.subplots(figsize=(6,4), dpi=100)\n",
    "ax.plot(x, y,'ro')\n",
    "plt.show()"
   ]
  },
  {
   "cell_type": "markdown",
   "metadata": {
    "collapsed": false,
    "deletable": false,
    "editable": false,
    "run_control": {
     "frozen": true
    }
   },
   "source": [
    "____\n",
    "**Practice it**\n",
    "\n",
    "In the following code cells create three polynomial arrays named **`f1`**, **`f2`**, and **`f3`** that are the first, second, and third order fit polynomials for the previous $x$ and $y$ points."
   ]
  },
  {
   "cell_type": "code",
   "execution_count": 0,
   "metadata": {
    "collapsed": false,
    "deletable": false
   },
   "outputs": [
   ],
   "source": [
    "# first order polynomial fit\n"
   ]
  },
  {
   "cell_type": "code",
   "execution_count": 0,
   "metadata": {
    "collapsed": false,
    "deletable": false
   },
   "outputs": [
   ],
   "source": [
    "# second order polynomial fit\n"
   ]
  },
  {
   "cell_type": "code",
   "execution_count": 0,
   "metadata": {
    "collapsed": false,
    "deletable": false
   },
   "outputs": [
   ],
   "source": [
    "# third order polynomial fit\n"
   ]
  },
  {
   "cell_type": "markdown",
   "metadata": {
    "collapsed": false,
    "deletable": false,
    "editable": false,
    "run_control": {
     "frozen": true
    }
   },
   "source": [
    "____\n",
    "**Practice it**\n",
    "\n",
    "Now create fitted $y$ arrays from each of the above polynomials. This is accomplished via the **`P.polyval()`** function. You need to pass a linearly spaced array with the same range as the original $x$-value range to the **`P.polyval()`** function. This array can have more points than the original, such as **`x_vals`** in the first code cell below. You also need to pass the desired fitted polynomial (**`f1`**, **`f2`**, or **`f3`**) to the **`P.polyval()`** function. Create **`y1`**, **`y2`**, and **`y3`** arrays using **`P.polyval()`** with **`x_vals`** and the **`f1`**, **`f2`**, and **`f3`** polynomials."
   ]
  },
  {
   "cell_type": "code",
   "execution_count": 0,
   "metadata": {
    "collapsed": false,
    "deletable": false
   },
   "outputs": [
   ],
   "source": [
    "x_vals = np.linspace(0, 5, 100)"
   ]
  },
  {
   "cell_type": "code",
   "execution_count": 0,
   "metadata": {
    "collapsed": false,
    "deletable": false
   },
   "outputs": [
   ],
   "source": [
    "# create y1 using f1 and x_vals\n"
   ]
  },
  {
   "cell_type": "code",
   "execution_count": 0,
   "metadata": {
    "collapsed": false,
    "deletable": false
   },
   "outputs": [
   ],
   "source": [
    "# create y2 using f2 and x_vals\n"
   ]
  },
  {
   "cell_type": "code",
   "execution_count": 0,
   "metadata": {
    "collapsed": false,
    "deletable": false
   },
   "outputs": [
   ],
   "source": [
    "# create y3 using f3 and x_vals\n"
   ]
  },
  {
   "cell_type": "markdown",
   "metadata": {
    "collapsed": false,
    "deletable": false,
    "editable": false,
    "run_control": {
     "frozen": true
    }
   },
   "source": [
    "____\n",
    "**Practice it**\n",
    "\n",
    "The following cell creates a plot with the original points and curves from the three fitted data sets. Execute the cell to see how the fitted curves look."
   ]
  },
  {
   "cell_type": "code",
   "execution_count": 0,
   "metadata": {
    "collapsed": false,
    "deletable": false
   },
   "outputs": [
   ],
   "source": [
    "fig, ax = plt.subplots(figsize=(6,4), dpi=100)\n",
    "ax.plot(x, y, 'ro')\n",
    "ax.plot(x_vals, y1, 'g-', label='first order')\n",
    "ax.plot(x_vals, y2, 'm--', label='second order')\n",
    "ax.plot(x_vals, y3, 'b-.', label='third order')\n",
    "ax.legend()\n",
    "plt.show()"
   ]
  },
  {
   "cell_type": "markdown",
   "metadata": {
    "collapsed": false,
    "deletable": false,
    "editable": false,
    "run_control": {
     "frozen": true
    }
   },
   "source": [
    "____\n",
    "**Practice it**\n",
    "\n",
    "Execute the next two code cells to peform the regression. Notice that the highest $R^2$ value results from the third order fit; meaning that it is the best fit of the three."
   ]
  },
  {
   "cell_type": "code",
   "execution_count": 0,
   "metadata": {
    "collapsed": false,
    "deletable": false
   },
   "outputs": [
   ],
   "source": [
    "from scipy import stats\n",
    "m1, b1, r1, p1, s1 = stats.linregress(y, P.polyval(x, f1))\n",
    "m2, b2, r2, p2, s3 = stats.linregress(y, P.polyval(x, f2))\n",
    "m3, b3, r3, p3, s3 = stats.linregress(y, P.polyval(x, f3))"
   ]
  },
  {
   "cell_type": "code",
   "execution_count": 0,
   "metadata": {
    "collapsed": false,
    "deletable": false
   },
   "outputs": [
   ],
   "source": [
    "print(r1**2)\n",
    "print(r2**2)\n",
    "print(r3**2)"
   ]
  },
  {
   "cell_type": "markdown",
   "metadata": {
    "collapsed": false,
    "deletable": false,
    "editable": false,
    "run_control": {
     "frozen": true
    }
   },
   "source": [
    "## Finding Zeros (Roots) and Local Minimums and Maximums of Polynomials\n",
    "\n",
    "- Solving a polynomial\n",
    "  - Also known as finding its zeros or roots\n",
    "  - Accomplished by finding the $x$ locations where the polynomial crosses the $x$-axis\n",
    "  - The $x$ values where the $y$ value of the polynomial equals zero\n",
    "- *NumPy* can find local roots of polynomials using the **`P.polyroots()`** function\n",
    "  - Returns all of the real roots (zeros) of the polynomial\n",
    "- *NumPy* can also find the roots of a polynomial using **`np.roots()`**\n",
    "  - The polynomial coefficients need to be reversed for this function\n",
    "  - This can be done using slicing if you already have a polynomial defined using the polynomial module\n",
    "- Local minimums and maximums can be determined by finding the roots of the first derivative of the polynomial\n",
    "\n",
    "____\n",
    "**Practice it**\n",
    "\n",
    "Execute the following cell to find the roots for the polynomial $5 + 7x -8x^2 -2x^3$, the local minimums and maximums, plot the polynomial, and plot the roots."
   ]
  },
  {
   "cell_type": "code",
   "execution_count": 0,
   "metadata": {
    "collapsed": false,
    "deletable": false
   },
   "outputs": [
   ],
   "source": [
    "# create the polynomial 'c'\n",
    "c = "
   ]
  },
  {
   "cell_type": "code",
   "execution_count": 0,
   "metadata": {
    "collapsed": false,
    "deletable": false
   },
   "outputs": [
   ],
   "source": [
    "# find the roots of 'c' and assign to the variable 'r'\n",
    "r = "
   ]
  },
  {
   "cell_type": "code",
   "execution_count": 0,
   "metadata": {
    "collapsed": false,
    "deletable": false
   },
   "outputs": [
   ],
   "source": [
    "print(\"roots =\", r)"
   ]
  },
  {
   "cell_type": "code",
   "execution_count": 0,
   "metadata": {
    "collapsed": false,
    "deletable": false,
    "editable": false
   },
   "outputs": [
   ],
   "source": [
    "x = np.linspace(-6, 3, 100)  # range of x-values using linspace\n",
    "y = P.polyval(x, c)          # array 'y' using 'x' and 'c'\n",
    "rz = np.zeros(len(r))        # array of zeros for each root for plotting points\n",
    "\n",
    "yd = P.polyval(x, P.polyder(c)) # y-values for derivative of 'c'\n",
    "mmx = P.polyroots(P.polyder(c)) # x-location of roots of the derivative\n",
    "\n",
    "# local min/max values occur where derivative is zero\n",
    "\n",
    "mmy = P.polyval(mmx, c)         # y-values of the local min/max values\n",
    "\n",
    "print(\"local minimums/maximums of \", mmy, \" at x =\", mmx)\n",
    "\n",
    "fig, ax = plt.subplots(figsize=(6,4), dpi=100)\n",
    "ax.plot(x, y)\n",
    "ax.plot(r, rz, 'ro')\n",
    "ax.plot(mmx, mmy, 'g^')\n",
    "ax.grid()\n",
    "plt.show()"
   ]
  },
  {
   "cell_type": "markdown",
   "metadata": {
    "collapsed": false,
    "deletable": false,
    "editable": false,
    "run_control": {
     "frozen": true
    }
   },
   "source": [
    "____\n",
    "**Practice it**\n",
    "\n",
    "See if the results are any different after executing the following code cell."
   ]
  },
  {
   "cell_type": "code",
   "execution_count": 0,
   "metadata": {
    "collapsed": false,
    "deletable": false
   },
   "outputs": [
   ],
   "source": [
    "np.roots(c[::-1])"
   ]
  },
  {
   "cell_type": "markdown",
   "metadata": {
    "collapsed": false,
    "deletable": false,
    "editable": false,
    "run_control": {
     "frozen": true
    }
   },
   "source": [
    "## Creating User Defined Functions: Review\n",
    "\n",
    "- Header **`def func_name(arg1, arg2):`**\n",
    "- Body\n",
    "  - Indented 4 spaces from header\n",
    "  - Expressions that use the arguments\n",
    "  - Returns a result or results\n",
    "\n",
    "____\n",
    "**Practice it**\n",
    "\n",
    "Create the user defined function **`cbrt(x)`** that solves for the cube root of a numeric value.\n",
    "\n",
    "```python\n",
    "def cbrt(x):\n",
    "    if x >= 0:\n",
    "        return round(x**(1/3), 12)\n",
    "    else:\n",
    "        return round(-abs(x**(1/3)), 12)\n",
    "```"
   ]
  },
  {
   "cell_type": "code",
   "execution_count": 0,
   "metadata": {
    "collapsed": false,
    "deletable": false
   },
   "outputs": [
   ],
   "source": [
    "# define the function and execute it\n"
   ]
  },
  {
   "cell_type": "markdown",
   "metadata": {
    "collapsed": false,
    "deletable": false,
    "editable": false,
    "run_control": {
     "frozen": true
    }
   },
   "source": [
    "Test your **`cbrt()`** function with the values of $125$, $27$, and $-27$."
   ]
  },
  {
   "cell_type": "code",
   "execution_count": 0,
   "metadata": {
    "collapsed": false,
    "deletable": false
   },
   "outputs": [
   ],
   "source": [
    "# test with 125 (should get 5)\n"
   ]
  },
  {
   "cell_type": "code",
   "execution_count": 0,
   "metadata": {
    "collapsed": false,
    "deletable": false
   },
   "outputs": [
   ],
   "source": [
    "# test with 27 (should get 3)\n"
   ]
  },
  {
   "cell_type": "code",
   "execution_count": 0,
   "metadata": {
    "collapsed": false,
    "deletable": false
   },
   "outputs": [
   ],
   "source": [
    "# test with -27 (should get -3)\n"
   ]
  },
  {
   "cell_type": "markdown",
   "metadata": {
    "collapsed": false,
    "deletable": false,
    "editable": false,
    "run_control": {
     "frozen": true
    }
   },
   "source": [
    "## Creating Anonymous **`lambda`** Functions\n",
    "\n",
    "- *Python* includes a command named **`lambda`** to create quick, anonymous functions\n",
    "- This type of function must consist of a single mathematical expression\n",
    "- **`lambda`** can be used when creating function plots or finding function zeros and minimums\n",
    "- The following illustrates the general syntax for creating an anonymous function using **`lambda`**\n",
    "\n",
    "\n",
    "**`function_name = lambda arg_name: <expression that uses arg_name>`**\n",
    "\n",
    "____\n",
    "**Practice it**\n",
    "\n",
    "Execute the following code cell to create the anonymous function **`FA`**. Then use the next code cells to call the function with values of $2$ and $10$; i.e. **`FA(2)`**."
   ]
  },
  {
   "cell_type": "code",
   "execution_count": 0,
   "metadata": {
    "collapsed": false,
    "deletable": false
   },
   "outputs": [
   ],
   "source": [
    "FA = lambda x: 8*x + 5"
   ]
  },
  {
   "cell_type": "code",
   "execution_count": 0,
   "metadata": {
    "collapsed": false,
    "deletable": false
   },
   "outputs": [
   ],
   "source": [
    "# call FA with 2\n"
   ]
  },
  {
   "cell_type": "code",
   "execution_count": 0,
   "metadata": {
    "collapsed": false,
    "deletable": false
   },
   "outputs": [
   ],
   "source": [
    "# call FA with 10\n"
   ]
  },
  {
   "cell_type": "markdown",
   "metadata": {
    "collapsed": false,
    "deletable": false,
    "editable": false,
    "run_control": {
     "frozen": true
    }
   },
   "source": [
    "____\n",
    "**Practice it**\n",
    "\n",
    "Try another one. This time you define the function. Name the anonymous function **`circum`** and use the argument variable **`d`** (like **`x`** in the previous example) and include the epression to calculate the circumference of a circle from its diameter **`d`**.\n",
    "\n",
    "Test the function with the following values:\n",
    "- $2$\n",
    "- $5$\n",
    "- an array created using **`np.arange(1, 5)`**\n",
    "\n",
    "Use $\\pi$ from **`numpy`**."
   ]
  },
  {
   "cell_type": "code",
   "execution_count": 0,
   "metadata": {
    "collapsed": false,
    "deletable": false
   },
   "outputs": [
   ],
   "source": [
    "# define the lambda function\n"
   ]
  },
  {
   "cell_type": "code",
   "execution_count": 0,
   "metadata": {
    "collapsed": false,
    "deletable": false
   },
   "outputs": [
   ],
   "source": [
    "# test with 2\n"
   ]
  },
  {
   "cell_type": "code",
   "execution_count": 0,
   "metadata": {
    "collapsed": false,
    "deletable": false
   },
   "outputs": [
   ],
   "source": [
    "# test with 5\n"
   ]
  },
  {
   "cell_type": "code",
   "execution_count": 0,
   "metadata": {
    "collapsed": false,
    "deletable": false
   },
   "outputs": [
   ],
   "source": [
    "# test with 1, 2, 3, 4 using a numpy arange\n"
   ]
  },
  {
   "cell_type": "markdown",
   "metadata": {
    "collapsed": false,
    "deletable": false,
    "editable": false,
    "run_control": {
     "frozen": true
    }
   },
   "source": [
    "____\n",
    "**Practice it**\n",
    "\n",
    "Let's try one with mulitple arguments. This function, **`line`**, returns the $y$-value of a point on a line that has a slope of **`m`** at a particular **`x`** position and with a $y$ intercept of **`b`**. Notice that to use multiple arguments you just need to separate the argument names with commas after the **`lambda`** command and before the colon.\n",
    "\n",
    "Test the function with arguments of **`(4, 2, 0)`** and **`(8, 10, 5)`**."
   ]
  },
  {
   "cell_type": "code",
   "execution_count": 0,
   "metadata": {
    "collapsed": false,
    "deletable": false
   },
   "outputs": [
   ],
   "source": [
    "line = lambda m, x, b: m*x + b"
   ]
  },
  {
   "cell_type": "code",
   "execution_count": 0,
   "metadata": {
    "collapsed": false,
    "deletable": false
   },
   "outputs": [
   ],
   "source": [
    "# test with the arguments (4, 2, 0)\n"
   ]
  },
  {
   "cell_type": "code",
   "execution_count": 0,
   "metadata": {
    "collapsed": false,
    "deletable": false
   },
   "outputs": [
   ],
   "source": [
    "# test with the arguments (8, 10, 5)\n"
   ]
  },
  {
   "cell_type": "markdown",
   "metadata": {
    "collapsed": false,
    "deletable": false,
    "editable": false,
    "run_control": {
     "frozen": true
    }
   },
   "source": [
    "## Finding Zeros (Roots) and Local Minimums and Maximums of Functions\n",
    "\n",
    "- *SciPy* has an **`optimize`** module that includes..\n",
    "  - **`optimize.fsolve()`** for finding the zeros (roots) of any function\n",
    "    - Requires an $x$-value \"guess\" that is close to where the function crosses the $x$-axis\n",
    "  - **`optimize.fminbound()`**  for finding local minimums of any function; not just polynomials\n",
    "    - Can find local minimums using the **`optimize.fminbound()`** function\n",
    "    - There is no maximum function\n",
    "    - Local maximums can be found by...\n",
    "      - Negating (multiply by $-1$) the original function \n",
    "      - Using **`optimize.fminbound()`** on the negated function\n",
    "    - The function requires three arguments\n",
    "      - The function name\n",
    "      - Lower and upper bounds for the range over which to look for the minimum\n",
    "    - Pass the results back to the original function to determine the $y$ values of the minimums and maximums\n",
    "- Plotting functions before finding the zeros is very helpful\n",
    "\n",
    "____\n",
    "**Practice it**\n",
    "\n",
    "Execute the following code cell to define an anonymous function **`g`** and plot it over the range $0$ to $5$."
   ]
  },
  {
   "cell_type": "code",
   "execution_count": 0,
   "metadata": {
    "collapsed": false,
    "deletable": false
   },
   "outputs": [
   ],
   "source": [
    "g = lambda x: np.exp(0.5*x) - np.sqrt(x) - 3\n",
    "x = np.linspace(0, 5)\n",
    "fig, ax = plt.subplots(figsize=(6,4), dpi=100)\n",
    "ax.plot(x, g(x))\n",
    "ax.grid(True)\n",
    "plt.show()"
   ]
  },
  {
   "cell_type": "markdown",
   "metadata": {
    "collapsed": false,
    "deletable": false,
    "editable": false,
    "run_control": {
     "frozen": true
    }
   },
   "source": [
    "____\n",
    "**Practice it**\n",
    "\n",
    "Use **`optimize.fsolve()`** with two arguments; **`g`** and the guess of $1$. Assign the zero to a variable and print it using the provided statement."
   ]
  },
  {
   "cell_type": "code",
   "execution_count": 0,
   "metadata": {
    "collapsed": false,
    "deletable": false
   },
   "outputs": [
   ],
   "source": [
    "local_zero =      # complete this line\n",
    "print('Local zero at:', local_zero)"
   ]
  },
  {
   "cell_type": "markdown",
   "metadata": {
    "collapsed": false,
    "deletable": false,
    "editable": false,
    "run_control": {
     "frozen": true
    }
   },
   "source": [
    "____\n",
    "**Practice it**\n",
    "\n",
    "Define $F(x) = x^3 - 8x^2 + 17x + \\sqrt{x} - 10$ using an anonymous function named **`F`**. Notice that this is not a polynomial (did you see the square root). Then plot it over a range of $x$ from $0$ to $5$ (use **`np.linspace()`** with 100 values for **`x`**)."
   ]
  },
  {
   "cell_type": "code",
   "execution_count": 0,
   "metadata": {
    "collapsed": false,
    "deletable": false
   },
   "outputs": [
   ],
   "source": [
   ]
  },
  {
   "cell_type": "markdown",
   "metadata": {
    "collapsed": false,
    "deletable": false,
    "editable": false,
    "run_control": {
     "frozen": true
    }
   },
   "source": [
    "____\n",
    "**Practice it**\n",
    "\n",
    "Looking at the above plot, you should see three zero crossings. Use **`optimize.fsolve()`** with estimates of $1$, $2.5$, and $4.5$ in a list to find the locations fo the zeros. Use a print statement to display all of the zeros."
   ]
  },
  {
   "cell_type": "code",
   "execution_count": 0,
   "metadata": {
    "collapsed": false,
    "deletable": false
   },
   "outputs": [
   ],
   "source": [
   ]
  },
  {
   "cell_type": "markdown",
   "metadata": {
    "collapsed": false,
    "deletable": false,
    "editable": false,
    "run_control": {
     "frozen": true
    }
   },
   "source": [
    "____\n",
    "**Practice it**\n",
    "\n",
    "Use **`optimize.fminbound()`** with bounds of $2$ to $5$ to find the location of the local mimimum of $F(x)$. Then pass the result to **`F(x)`** to find the $y$-value.\n",
    "\n",
    "Create a new function **`Fneg`** that is the negative of **`F`** using **`Fneg = lambda x: -F(x)`**. Then use bounds of $0$ to $2$ to find the location of the local maximum using **`optimize.fminbound()`** with **`Fneg`**. Pass the result of this to **`F(x)`** to find the $y$-value of the local maximum.\n",
    "\n",
    "Print the locations and values of the local minimum and maximum."
   ]
  },
  {
   "cell_type": "code",
   "execution_count": 0,
   "metadata": {
    "collapsed": false,
    "deletable": false
   },
   "outputs": [
   ],
   "source": [
    "# find the location of the local minimum of 'F' between 2 and 5 and assign to variable 'ymin_loc'\n"
   ]
  },
  {
   "cell_type": "code",
   "execution_count": 0,
   "metadata": {
    "collapsed": false,
    "deletable": false
   },
   "outputs": [
   ],
   "source": [
    "# find the value of the local minimum and assign to variable 'ymin_val'\n"
   ]
  },
  {
   "cell_type": "code",
   "execution_count": 0,
   "metadata": {
    "collapsed": false,
    "deletable": false
   },
   "outputs": [
   ],
   "source": [
    "# create 'Fneg'\n"
   ]
  },
  {
   "cell_type": "code",
   "execution_count": 0,
   "metadata": {
    "collapsed": false,
    "deletable": false
   },
   "outputs": [
   ],
   "source": [
    "# find the location of the local maximum using 'Fneg' between 0 and 2 and assign to variable 'ymax_loc'\n"
   ]
  },
  {
   "cell_type": "code",
   "execution_count": 0,
   "metadata": {
    "collapsed": false,
    "deletable": false
   },
   "outputs": [
   ],
   "source": [
    "# find the value of the local maximum and assign to variable 'ymax_val'\n"
   ]
  },
  {
   "cell_type": "code",
   "execution_count": 0,
   "metadata": {
    "collapsed": false,
    "deletable": false
   },
   "outputs": [
   ],
   "source": [
    "# print the results\n"
   ]
  },
  {
   "cell_type": "markdown",
   "metadata": {
    "collapsed": false,
    "deletable": false,
    "editable": false,
    "run_control": {
     "frozen": true
    }
   },
   "source": [
    "## Numerical Integration and Differentiation\n",
    "\n",
    "- *NumPy* and *SciPy* both provide functions to perform numerical integration\n",
    "- *NumPy* has **`np.trapz()`** \n",
    "  - Integrates (area under curve) arrays of $x,y$ values\n",
    "  - Uses the trapezoid rule\n",
    "  - The arguments for **`np.trapz()`** are in **`y, x`** order\n",
    "- *SciPy* has the **`integrate.quad()`** fuction (among others) for integrating a function between a set of limits\n",
    "  - This function returns an array of two values\n",
    "    - The first is the result of the integration\n",
    "    - The second is an estimate of the error\n",
    "- For both **`np.trapz()`** and **`integrate.quad()`** the results are estimates of definite integrals\n",
    "- The *SciPy* module can also calculate (estimate) the derivative of a function at a specific point\n",
    "  - The function is found in **`scipy.misc`** and called **`derivative()`**\n",
    "  - The arguments are...\n",
    "    - A function name\n",
    "    - The value of the point of interest\n",
    "    - Two optional arguments\n",
    "      - **`dx=`** is the spacing\n",
    "      - **`n=`** is the order of the derivative\n",
    "    - The default values for both of the optional arguments is $1$\n",
    "    - A smaller **`dx`** value generally improves the result\n",
    "\n",
    "____\n",
    "**Practice it**\n",
    "\n",
    "Execute the code cell below to create the function **`g`**. In the empty code cell perform a numerical integration on the defined function between $1$ and $6$ using **`integrate.quad()`**."
   ]
  },
  {
   "cell_type": "code",
   "execution_count": 0,
   "metadata": {
    "collapsed": false,
    "deletable": false
   },
   "outputs": [
   ],
   "source": [
    "g = lambda x: 2*x**2/np.sqrt(1 + x)"
   ]
  },
  {
   "cell_type": "code",
   "execution_count": 0,
   "metadata": {
    "collapsed": false,
    "deletable": false
   },
   "outputs": [
   ],
   "source": [
    "# use integrate.quad() between 1 and 6\n"
   ]
  },
  {
   "cell_type": "markdown",
   "metadata": {
    "collapsed": false,
    "deletable": false,
    "editable": false,
    "run_control": {
     "frozen": true
    }
   },
   "source": [
    "____\n",
    "**Practice it**\n",
    "\n",
    "Try this one. Define an anonymous function $\\displaystyle f(x) = 2\\sqrt{1+\\frac{4h^2x^2}{a^4}}$ and assign $a=80$ and $h=18$. Then use **`integrate.quad()`** to integrate the function between $0$ and $a$."
   ]
  },
  {
   "cell_type": "code",
   "execution_count": 0,
   "metadata": {
    "collapsed": false,
    "deletable": false
   },
   "outputs": [
   ],
   "source": [
    "# define the lambda function f\n"
   ]
  },
  {
   "cell_type": "code",
   "execution_count": 0,
   "metadata": {
    "collapsed": false,
    "deletable": false
   },
   "outputs": [
   ],
   "source": [
    "# assign 80 to a and 18 to h\n"
   ]
  },
  {
   "cell_type": "code",
   "execution_count": 0,
   "metadata": {
    "collapsed": false,
    "deletable": false
   },
   "outputs": [
   ],
   "source": [
    "# integrate between 0 and a\n"
   ]
  },
  {
   "cell_type": "markdown",
   "metadata": {
    "collapsed": false,
    "deletable": false,
    "editable": false,
    "run_control": {
     "frozen": true
    }
   },
   "source": [
    "____\n",
    "**Practice it**\n",
    "\n",
    "Integrate $\\displaystyle h(x) = \\frac{e^{2x}}{x}$ between $1$ and $2$ using **`integrate.quad()`**. This time don't create an anonymous function first, just put the **`lambda`** statement directly in the **`integrate.quad()`** function."
   ]
  },
  {
   "cell_type": "code",
   "execution_count": 0,
   "metadata": {
    "collapsed": false,
    "deletable": false
   },
   "outputs": [
   ],
   "source": [
   ]
  },
  {
   "cell_type": "markdown",
   "metadata": {
    "collapsed": false,
    "deletable": false,
    "editable": false,
    "run_control": {
     "frozen": true
    }
   },
   "source": [
    "____\n",
    "**Practice it**\n",
    "\n",
    "Create an array $t$ that starts with $0$ and ends with $7$ with steps of $1$ using **`np.arange()`**. Also create an array $v$ with the following values $[0, 14, 39, 69, 95, 114, 129, 139]$ mulitplied by $5280/3600$. Create a $t,v$ plot of the data points then use both **`np.trapz()`** and **`integrate.trapz()`** to find the area under the curve. Did the two functions provide the same results?"
   ]
  },
  {
   "cell_type": "code",
   "execution_count": 0,
   "metadata": {
    "collapsed": false,
    "deletable": false
   },
   "outputs": [
   ],
   "source": [
    "# create t\n"
   ]
  },
  {
   "cell_type": "code",
   "execution_count": 0,
   "metadata": {
    "collapsed": false,
    "deletable": false
   },
   "outputs": [
   ],
   "source": [
    "# create v\n"
   ]
  },
  {
   "cell_type": "code",
   "execution_count": 0,
   "metadata": {
    "collapsed": false,
    "deletable": false
   },
   "outputs": [
   ],
   "source": [
    "# plot\n"
   ]
  },
  {
   "cell_type": "code",
   "execution_count": 0,
   "metadata": {
    "collapsed": false,
    "deletable": false
   },
   "outputs": [
   ],
   "source": [
    "# np.trapz()\n"
   ]
  },
  {
   "cell_type": "code",
   "execution_count": 0,
   "metadata": {
    "collapsed": false,
    "deletable": false
   },
   "outputs": [
   ],
   "source": [
    "# integrate.trapz()\n"
   ]
  },
  {
   "cell_type": "markdown",
   "metadata": {
    "collapsed": false,
    "deletable": false,
    "editable": false,
    "run_control": {
     "frozen": true
    }
   },
   "source": [
    "____\n",
    "**Practice it**\n",
    "\n",
    "From **`scipy.misc`** import the **`derivative`** function. Create an anonymous function $h(x) = x\\cos(x)$. Then find the first derivative at $\\displaystyle x=0, \\frac{\\pi}{4}, \\frac{\\pi}{3}, \\frac{\\pi}{2}, \\text{ and }\\pi$ in individual code cells. Use a spacing (`dx`**) of $1\\times10^{-6}$; i.e. **`dx=1e-6`**. In the last code cell find the first derivative at all five values by passing an array (not a list) as the second argument."
   ]
  },
  {
   "cell_type": "code",
   "execution_count": 0,
   "metadata": {
    "collapsed": false,
    "deletable": false
   },
   "outputs": [
   ],
   "source": [
    "from scipy.misc import derivative"
   ]
  },
  {
   "cell_type": "code",
   "execution_count": 0,
   "metadata": {
    "collapsed": false,
    "deletable": false
   },
   "outputs": [
   ],
   "source": [
    "# define function h\n"
   ]
  },
  {
   "cell_type": "code",
   "execution_count": 0,
   "metadata": {
    "collapsed": false,
    "deletable": false
   },
   "outputs": [
   ],
   "source": [
    "# first derivative at 0\n"
   ]
  },
  {
   "cell_type": "code",
   "execution_count": 0,
   "metadata": {
    "collapsed": false,
    "deletable": false
   },
   "outputs": [
   ],
   "source": [
    "# first derivative at pi/4\n"
   ]
  },
  {
   "cell_type": "code",
   "execution_count": 0,
   "metadata": {
    "collapsed": false,
    "deletable": false
   },
   "outputs": [
   ],
   "source": [
    "# first derivative at pi/3\n"
   ]
  },
  {
   "cell_type": "code",
   "execution_count": 0,
   "metadata": {
    "collapsed": false,
    "deletable": false
   },
   "outputs": [
   ],
   "source": [
    "# first derivative at pi/2\n"
   ]
  },
  {
   "cell_type": "code",
   "execution_count": 0,
   "metadata": {
    "collapsed": false,
    "deletable": false
   },
   "outputs": [
   ],
   "source": [
    "# first derivative at pi\n"
   ]
  },
  {
   "cell_type": "code",
   "execution_count": 0,
   "metadata": {
    "collapsed": false,
    "deletable": false
   },
   "outputs": [
   ],
   "source": [
    "# first derivative at all 5 locations using an array\n"
   ]
  },
  {
   "cell_type": "markdown",
   "metadata": {
    "collapsed": false,
    "deletable": false,
    "editable": false,
    "run_control": {
     "frozen": true
    }
   },
   "source": [
    "____\n",
    "**Practice it**\n",
    "\n",
    "Create an anonymous function $f(x) = \\sin(x)$ and an array named **`x`** of 100 $x$-values from $0$ to $2\\pi$. Find the derivative of $f$ at **`x`** with **`dx=1e-6`** and **`n=1`** and assign the name **`df`** to the results. Then plot **`x, f(x)`** (the original function $f$) and **`x, df`** (the deriviative of $f$). Make the original a solid red line and the derivative a dashed blue line. Add a legend to the plot before showing it."
   ]
  },
  {
   "cell_type": "code",
   "execution_count": 0,
   "metadata": {
    "collapsed": false,
    "deletable": false
   },
   "outputs": [
   ],
   "source": [
    "# define f\n"
   ]
  },
  {
   "cell_type": "code",
   "execution_count": 0,
   "metadata": {
    "collapsed": false,
    "deletable": false
   },
   "outputs": [
   ],
   "source": [
    "# create x\n"
   ]
  },
  {
   "cell_type": "code",
   "execution_count": 0,
   "metadata": {
    "collapsed": false,
    "deletable": false
   },
   "outputs": [
   ],
   "source": [
    "# find derivative and name it df\n"
   ]
  },
  {
   "cell_type": "code",
   "execution_count": 0,
   "metadata": {
    "collapsed": false,
    "deletable": false
   },
   "outputs": [
   ],
   "source": [
    "# plot 'x, f(x)' and 'x, df'\n"
   ]
  },
  {
   "cell_type": "markdown",
   "metadata": {
    "collapsed": false,
    "deletable": false,
    "editable": false
   },
   "source": [
    "**Wrap it up**\n",
    "\n",
    "Execute the time stamp code cell below to show the time and date you finished and tested this script.\n",
    "\n",
    "Click on the **Save** button and then the **Close and halt** button when you are done. **This is an instructor-led assignment that must be completed before the end of the lab session in order to receive credit.**"
   ]
  }
 ],
 "metadata": {
  "kernelspec": {
   "display_name": "Python 3 (Anaconda 2020)",
   "env": {
    "ADDR2LINE": "/ext/anaconda2020.02/bin/x86_64-conda_cos6-linux-gnu-addr2line",
    "ANACONDA2019": "$EXT/anaconda-2019.03",
    "ANACONDA2020": "/ext/anaconda2020.02",
    "ANACONDA3": "$EXT/anaconda3",
    "ANACONDA5": "$EXT/anaconda5",
    "AR": "/ext/anaconda2020.02/bin/x86_64-conda_cos6-linux-gnu-ar",
    "AS": "/ext/anaconda2020.02/bin/x86_64-conda_cos6-linux-gnu-as",
    "CC": "/ext/anaconda2020.02/bin/x86_64-conda_cos6-linux-gnu-cc",
    "CFLAGS": "-march=nocona -mtune=haswell -ftree-vectorize -fPIC -fstack-protector-strong -fno-plt -O2 -ffunction-sections -pipe -isystem /ext/anaconda2020.02/include",
    "CMAKE_PREFIX_PATH": "/ext/anaconda2020.02:/ext/anaconda2020.02/x86_64-conda_cos6-linux-gnu/sysroot/usr",
    "CONDA_BACKUP_HOST": "x86_64-conda_cos6-linux-gnu",
    "CONDA_BUILD_SYSROOT": "/ext/anaconda2020.02/x86_64-conda_cos6-linux-gnu/sysroot",
    "CONDA_DEFAULT_ENV": "base",
    "CONDA_EXE": "/ext/anaconda2020.02/bin/conda",
    "CONDA_MKL_INTERFACE_LAYER_BACKUP": "",
    "CONDA_PREFIX": "/ext/anaconda2020.02",
    "CONDA_PROMPT_MODIFIER": "(base) ",
    "CONDA_PYTHON_EXE": "/ext/anaconda2020.02/bin/python",
    "CONDA_SHLVL": "1",
    "CPP": "/ext/anaconda2020.02/bin/x86_64-conda_cos6-linux-gnu-cpp",
    "CPPFLAGS": "-DNDEBUG -D_FORTIFY_SOURCE=2 -O2 -isystem /ext/anaconda2020.02/include",
    "CXX": "/ext/anaconda2020.02/bin/x86_64-conda_cos6-linux-gnu-c++",
    "CXXFILT": "/ext/anaconda2020.02/bin/x86_64-conda_cos6-linux-gnu-c++filt",
    "CXXFLAGS": "-fvisibility-inlines-hidden -std=c++17 -fmessage-length=0 -march=nocona -mtune=haswell -ftree-vectorize -fPIC -fstack-protector-strong -fno-plt -O2 -ffunction-sections -pipe -isystem /ext/anaconda2020.02/include",
    "DEBUG_CFLAGS": "-march=nocona -mtune=haswell -ftree-vectorize -fPIC -fstack-protector-all -fno-plt -Og -g -Wall -Wextra -fvar-tracking-assignments -ffunction-sections -pipe -isystem /ext/anaconda2020.02/include",
    "DEBUG_CPPFLAGS": "-D_DEBUG -D_FORTIFY_SOURCE=2 -Og -isystem /ext/anaconda2020.02/include",
    "DEBUG_CXXFLAGS": "-fvisibility-inlines-hidden -std=c++17 -fmessage-length=0 -march=nocona -mtune=haswell -ftree-vectorize -fPIC -fstack-protector-all -fno-plt -Og -g -Wall -Wextra -fvar-tracking-assignments -ffunction-sections -pipe -isystem /ext/anaconda2020.02/include",
    "DEBUG_FFLAGS": "-fopenmp -march=nocona -mtune=haswell -ftree-vectorize -fPIC -fstack-protector-strong -fno-plt -O2 -ffunction-sections -pipe -isystem /ext/anaconda2020.02/include -fopenmp -march=nocona -mtune=haswell -ftree-vectorize -fPIC -fstack-protector-all -fno-plt -Og -g -Wall -Wextra -fcheck=all -fbacktrace -fimplicit-none -fvar-tracking-assignments -ffunction-sections -pipe",
    "DEBUG_FORTRANFLAGS": "-fopenmp -march=nocona -mtune=haswell -ftree-vectorize -fPIC -fstack-protector-strong -fno-plt -O2 -ffunction-sections -pipe -isystem /ext/anaconda2020.02/include -fopenmp -march=nocona -mtune=haswell -ftree-vectorize -fPIC -fstack-protector-all -fno-plt -Og -g -Wall -Wextra -fcheck=all -fbacktrace -fimplicit-none -fvar-tracking-assignments -ffunction-sections -pipe",
    "ELFEDIT": "/ext/anaconda2020.02/bin/x86_64-conda_cos6-linux-gnu-elfedit",
    "F77": "/ext/anaconda2020.02/bin/x86_64-conda_cos6-linux-gnu-gfortran",
    "F90": "/ext/anaconda2020.02/bin/x86_64-conda_cos6-linux-gnu-gfortran",
    "F95": "/ext/anaconda2020.02/bin/x86_64-conda_cos6-linux-gnu-f95",
    "FC": "/ext/anaconda2020.02/bin/x86_64-conda_cos6-linux-gnu-gfortran",
    "FFLAGS": "-fopenmp -march=nocona -mtune=haswell -ftree-vectorize -fPIC -fstack-protector-strong -fno-plt -O2 -ffunction-sections -pipe -isystem /ext/anaconda2020.02/include",
    "FORTRANFLAGS": "-fopenmp -march=nocona -mtune=haswell -ftree-vectorize -fPIC -fstack-protector-strong -fno-plt -O2 -ffunction-sections -pipe -isystem /ext/anaconda2020.02/include",
    "GCC": "/ext/anaconda2020.02/bin/x86_64-conda_cos6-linux-gnu-gcc",
    "GCC_AR": "/ext/anaconda2020.02/bin/x86_64-conda_cos6-linux-gnu-gcc-ar",
    "GCC_NM": "/ext/anaconda2020.02/bin/x86_64-conda_cos6-linux-gnu-gcc-nm",
    "GCC_RANLIB": "/ext/anaconda2020.02/bin/x86_64-conda_cos6-linux-gnu-gcc-ranlib",
    "GDAL_DATA": "/ext/anaconda2020.02/share/gdal",
    "GFORTRAN": "/ext/anaconda2020.02/bin/x86_64-conda_cos6-linux-gnu-gfortran",
    "GPROF": "/ext/anaconda2020.02/bin/x86_64-conda_cos6-linux-gnu-gprof",
    "GXX": "/ext/anaconda2020.02/bin/x86_64-conda_cos6-linux-gnu-g++",
    "JAVA_HOME": "/ext/anaconda2020.02",
    "JAVA_HOME_CONDA_BACKUP": "",
    "JAVA_LD_LIBRARY_PATH": "/ext/anaconda2020.02/lib/server",
    "LD": "/ext/anaconda2020.02/bin/x86_64-conda_cos6-linux-gnu-ld",
    "LDFLAGS": "-Wl,-O2 -Wl,--sort-common -Wl,--as-needed -Wl,-z,relro -Wl,-z,now -Wl,--disable-new-dtags -Wl,--gc-sections -Wl,-rpath,/ext/anaconda2020.02/lib -Wl,-rpath-link,/ext/anaconda2020.02/lib -L/ext/anaconda2020.02/lib",
    "LD_GOLD": "/ext/anaconda2020.02/bin/x86_64-conda_cos6-linux-gnu-ld.gold",
    "LD_LIBRARY_PATH": "/ext/anaconda2020.02/lib",
    "MKL_INTERFACE_LAYER": "LP64,GNU",
    "MKL_THREADING_LAYER": "GNU",
    "NM": "/ext/anaconda2020.02/bin/x86_64-conda_cos6-linux-gnu-nm",
    "OBJCOPY": "/ext/anaconda2020.02/bin/x86_64-conda_cos6-linux-gnu-objcopy",
    "OBJDUMP": "/ext/anaconda2020.02/bin/x86_64-conda_cos6-linux-gnu-objdump",
    "OLDPWD": "/ext/anaconda2020.02",
    "PATH": "/ext/anaconda2020.02/bin:/ext/anaconda2020.02/bin:/ext/anaconda2020.02/condabin:/cocalc/bin:/cocalc/src/smc-project/bin:/home/salvus/bin:/home/salvus/.local/bin:/usr/lib/xpra:/ext/bin:/opt/ghc/bin:/usr/local/sbin:/usr/local/bin:/usr/sbin:/usr/bin:/sbin:/bin:/snap/bin:/usr/lib/postgresql/10/bin:/ext/data/homer/bin:/ext/data/weblogo",
    "PROJ_LIB": "/ext/anaconda2020.02/share/proj",
    "RANLIB": "/ext/anaconda2020.02/bin/x86_64-conda_cos6-linux-gnu-ranlib",
    "READELF": "/ext/anaconda2020.02/bin/x86_64-conda_cos6-linux-gnu-readelf",
    "RSTUDIO_WHICH_R": "/ext/anaconda2020.02/bin/R",
    "SIZE": "/ext/anaconda2020.02/bin/x86_64-conda_cos6-linux-gnu-size",
    "STRINGS": "/ext/anaconda2020.02/bin/x86_64-conda_cos6-linux-gnu-strings",
    "STRIP": "/ext/anaconda2020.02/bin/x86_64-conda_cos6-linux-gnu-strip",
    "_CE_CONDA": "",
    "_CE_M": "",
    "_CONDA_PYTHON_SYSCONFIGDATA_NAME": "_sysconfigdata_x86_64_conda_cos6_linux_gnu"
   },
   "language": "python",
   "metadata": {
    "cocalc": {
     "description": "Python/R distribution for data science",
     "priority": 5,
     "url": "https://www.anaconda.com/distribution/"
    }
   },
   "name": "anaconda2020",
   "resource_dir": "/ext/jupyter/kernels/anaconda2020"
  },
  "language_info": {
   "codemirror_mode": {
    "name": "ipython",
    "version": 3
   },
   "file_extension": ".py",
   "mimetype": "text/x-python",
   "name": "python",
   "nbconvert_exporter": "python",
   "pygments_lexer": "ipython3",
   "version": "3.7.4"
  },
  "varInspector": {
   "cols": {
    "lenName": 16,
    "lenType": 16,
    "lenVar": 40
   },
   "kernels_config": {
    "python": {
     "delete_cmd_postfix": "",
     "delete_cmd_prefix": "del ",
     "library": "var_list.py",
     "varRefreshCmd": "print(var_dic_list())"
    },
    "r": {
     "delete_cmd_postfix": ") ",
     "delete_cmd_prefix": "rm(",
     "library": "var_list.r",
     "varRefreshCmd": "cat(var_dic_list()) "
    }
   },
   "types_to_exclude": [
    "module",
    "function",
    "builtin_function_or_method",
    "instance",
    "_Feature"
   ],
   "window_display": false
  }
 },
 "nbformat": 4,
 "nbformat_minor": 4
}