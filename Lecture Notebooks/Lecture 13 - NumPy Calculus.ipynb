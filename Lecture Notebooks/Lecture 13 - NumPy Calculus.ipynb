{
 "cells": [
  {
   "cell_type": "markdown",
   "metadata": {
    "deletable": false,
    "editable": false,
    "run_control": {
     "frozen": true
    }
   },
   "source": [
    "# Lecture 13 - NumPy Calculus\n",
    "___"
   ]
  },
  {
   "cell_type": "code",
   "execution_count": null,
   "metadata": {},
   "outputs": [],
   "source": [
    "name = \"Your name here\"\n",
    "print(\"Name:\", name.upper())"
   ]
  },
  {
   "cell_type": "markdown",
   "metadata": {
    "deletable": false,
    "editable": false,
    "run_control": {
     "frozen": true
    }
   },
   "source": [
    "## Purpose: \n",
    "\n",
    "*Python*, and the many modules available for it, can do much more than can be covered in a one semester class. We have covered many of the basics which should allow you to use *Python* to solve engineering related problems in the future and give you a good understanding of how programming works. This lab will focus on using *NumPy* (Numerical *Python*) and *SciPy* (Scientific *Python*) to solve a number of problems related to working with polynomials, numeric calculus, curve fitting, and more.\n",
    "\n",
    "The topics covered in this labs include\n",
    "\n",
    "- Adding, subtracting, multiplying, and dividing polynomials using `numpy.polynomial.polynomial` (aka `P`) functions\n",
    "- Derivatives and integrals of polynomials using `P.polyder()` and `P.polyint()`\n",
    "- Polynomial curve fitting with `P.polyfit()` and `P.polyval()`\n",
    "- Finding roots of polynomials using `numpy.roots()` and `P.polyroots`\n",
    "- Finding zeros and local minimums and maximums of functions with `scipy.optimize.fsolve()` and `scipy.optimize.fminbound()`\n",
    "- Numeric integration with `scipy.integrate.quad()` and `numpy.trapz()`\n",
    "- Numeric differentiation with `scipy.misc.derivative()`\n",
    "\n",
    "Each of these topics will be introduced by using a number of examples. This is not an exhaustive investigation of these topics, but merely an introduction."
   ]
  },
  {
   "cell_type": "markdown",
   "metadata": {
    "deletable": false,
    "editable": false,
    "run_control": {
     "frozen": true
    }
   },
   "source": [
    "## Instructions\n",
    "\n",
    "1. Replace \"Your name here\" in the cell below the assignment title with your first and last names and then execute the cell using \"Shift-Enter\"\n",
    "2. Execute the time stamp cell \n",
    "3. Follow along in class as we learn about performing numeric calculus and other numeric operations with *NumPy* and *SciPy* in *Python*\n",
    "4. Execute the date stamp cell at the end of the document and submitting your saved `.ipynb` file to *Canvas* for credit"
   ]
  },
  {
   "cell_type": "code",
   "execution_count": null,
   "metadata": {
    "deletable": false,
    "editable": false
   },
   "outputs": [],
   "source": [
    "from datetime import datetime\n",
    "from pytz import timezone\n",
    "print(datetime.now(timezone('US/Eastern')))"
   ]
  },
  {
   "cell_type": "markdown",
   "metadata": {
    "deletable": false,
    "editable": false,
    "run_control": {
     "frozen": true
    }
   },
   "source": [
    "**Execute the following code cell to import the necessary modules for this notebook**"
   ]
  },
  {
   "cell_type": "code",
   "execution_count": null,
   "metadata": {},
   "outputs": [],
   "source": [
    "import numpy as np\n",
    "from scipy import integrate, optimize"
   ]
  },
  {
   "cell_type": "markdown",
   "metadata": {
    "deletable": false,
    "editable": false,
    "run_control": {
     "frozen": true
    }
   },
   "source": [
    "## Adding, Subtracting, Multiplying, and Dividing Polynomials\n",
    "\n",
    "Polynomials are typically expressed in the form $c_5x^5+c_4x^4+c_3x^3+c_2x^2+c_1x^1+c_0x^0$, i.e. $5x^2 - 3x + 2$. *NumPy* includes a polynomial module that starts with the $x^0$ coefficient on the left instead of the right, i.e. $c_0x^0 + c_1x^1+ c_2x^2 + c_3x^3 + c_4x^4 + c_5x^5+\\ldots$; for example, $2 - 3x + 5x^2$. This module can add, subtract, multiply, and divide two polynomials using the `P.polyadd()`, `P.polysub()`, `P.polymul()`, and `P.polydiv()` functions. See the *NumPy* [polynomial documentation page](https://docs.scipy.org/doc/numpy/reference/routines.polynomials.polynomial.html) for help on these and other polynomial functions.\n",
    "\n",
    "In *NumPy* polynomials are defined as lists of the coefficients (numeric values). The lists need to start with the $x^0$ coefficient and you need to include all coefficients even if they are zero. All signs belong to the coefficients. For example, the polynomial $5x^2 - 3x + 2$ would be defined with the list `[2, -3, 5]` whereas the polynomial $-3x^4 + 2x^2 + 5x - 12$ would be defined with the list `[-12, 5, 2, 0, -3]`."
   ]
  },
  {
   "cell_type": "markdown",
   "metadata": {
    "deletable": false,
    "editable": false,
    "run_control": {
     "frozen": true
    }
   },
   "source": [
    ">**Practice it**\n",
    ">\n",
    ">Import the *NumPy* polynomial module with the following command. This will allow us to use function calls like `P.polyadd()` instead of having to use the entire path to the module."
   ]
  },
  {
   "cell_type": "code",
   "execution_count": null,
   "metadata": {},
   "outputs": [],
   "source": [
    "from numpy.polynomial import polynomial as P"
   ]
  },
  {
   "cell_type": "markdown",
   "metadata": {
    "deletable": false,
    "editable": false,
    "run_control": {
     "frozen": true
    }
   },
   "source": [
    ">Use *Python* lists to define two polynomials `p1` and `p2` per the following expressions. Watch for any missing (zero) coefficients.\n",
    ">\n",
    ">$p_1 = -40 + 15x -3x^2 -10x^3 + 15x^5 + 3x^6$\n",
    ">\n",
    ">$p_2 = -6 -2x +3x^3$"
   ]
  },
  {
   "cell_type": "code",
   "execution_count": null,
   "metadata": {},
   "outputs": [],
   "source": [
    "# define 'p1' using a list"
   ]
  },
  {
   "cell_type": "code",
   "execution_count": null,
   "metadata": {},
   "outputs": [],
   "source": [
    "# define 'p2' using a list"
   ]
  },
  {
   "cell_type": "markdown",
   "metadata": {
    "deletable": false,
    "editable": false,
    "run_control": {
     "frozen": true
    }
   },
   "source": [
    ">**Practice it**\n",
    ">\n",
    ">Use the appropriate polynomial functions to add, substract, multiply, and divide polynomials $p_1$ and $p_2$ per the following:\n",
    ">\n",
    ">1. $p_1 + p_2$\n",
    ">\n",
    ">2. $p_1 - p_2$\n",
    ">\n",
    ">3. $p_1 \\times p_2$\n",
    ">\n",
    ">4. $p_1 \\div p_2$"
   ]
  },
  {
   "cell_type": "code",
   "execution_count": null,
   "metadata": {},
   "outputs": [],
   "source": []
  },
  {
   "cell_type": "code",
   "execution_count": null,
   "metadata": {},
   "outputs": [],
   "source": []
  },
  {
   "cell_type": "code",
   "execution_count": null,
   "metadata": {},
   "outputs": [],
   "source": []
  },
  {
   "cell_type": "code",
   "execution_count": null,
   "metadata": {},
   "outputs": [],
   "source": []
  },
  {
   "cell_type": "markdown",
   "metadata": {
    "deletable": false,
    "editable": false,
    "run_control": {
     "frozen": true
    }
   },
   "source": [
    "Polynomial division returns two arrays; the coefficients of the quotient polynomial and the coefficients of the remainder polynomial.\n",
    "\n",
    ">**Practice it**\n",
    ">\n",
    ">Define two polynomials $u = -5 + 7x +8x^2 + 3x^3$ and $v = 3 + x$ in the following code cell. Then divide $u$ by $v$ using `P.polydiv()` and assign the quotient to `q` and the remainder to `r`. Recall that this can be done by putting `q` and `r` in a tuple on the left side of the equal sign. Print both the quotient and remainder in the same cell (code is provided). Then in the last cell, multiply the quotient `q` times `v` and add the remainder `r`. What did you get for an answer?"
   ]
  },
  {
   "cell_type": "code",
   "execution_count": null,
   "metadata": {},
   "outputs": [],
   "source": []
  },
  {
   "cell_type": "code",
   "execution_count": null,
   "metadata": {},
   "outputs": [],
   "source": []
  },
  {
   "cell_type": "code",
   "execution_count": null,
   "metadata": {},
   "outputs": [],
   "source": [
    "print('q =', q)\n",
    "print('r =', r)"
   ]
  },
  {
   "cell_type": "code",
   "execution_count": null,
   "metadata": {},
   "outputs": [],
   "source": []
  },
  {
   "cell_type": "markdown",
   "metadata": {
    "deletable": false,
    "editable": false,
    "run_control": {
     "frozen": true
    }
   },
   "source": [
    "You can find the value of a polynomial at any $x$ value by using `P.polyval()`. It takes two arguments; the value (or values as a list, tuple, or array) for $x$ and the polynomial to evaluate. For example, `P.polyval(2, p2)` evaluates `p2` at $x = 2$ and `P.polyval([1, 2, 3], p2)` evaluates `p2` at $x=1, 2, 3$.\n",
    "\n",
    ">**Practice it**\n",
    ">\n",
    ">Find the value of $p_1$ at $x=3$ and the values of $p_1$ at $x = 0, 1, 2, \\ldots, 10$ in the following code cells. Use a range of values for the second one."
   ]
  },
  {
   "cell_type": "code",
   "execution_count": null,
   "metadata": {},
   "outputs": [],
   "source": []
  },
  {
   "cell_type": "code",
   "execution_count": null,
   "metadata": {},
   "outputs": [],
   "source": []
  },
  {
   "cell_type": "markdown",
   "metadata": {
    "deletable": false,
    "editable": false,
    "run_control": {
     "frozen": true
    }
   },
   "source": [
    "## Derivatives and Integrals of Polynomials\n",
    "\n",
    "*NumPy* can find the derivatives and integrals of polynomials using `P.polyder()` and `P.polyint()` where the coefficient values are given in an array or list as previously described. The result is displayed as an array of coefficients for the resulting polynomial. A second argument may be used with either of these functions; the number of differentiations or integrations to take. The expression `P.polyder(p1, 2)` will take the second derivative of the polynomial named `p1`.\n",
    "\n",
    ">**Practice it**\n",
    ">\n",
    ">Execute the following code cell to create polynomial `p`. Use the remaining cells to find the first and second derivatives of `p` and to integrate `p`."
   ]
  },
  {
   "cell_type": "code",
   "execution_count": null,
   "metadata": {},
   "outputs": [],
   "source": [
    "p = [10, -4, 2]              # 10 - 4x + 2x^2"
   ]
  },
  {
   "cell_type": "code",
   "execution_count": null,
   "metadata": {},
   "outputs": [],
   "source": []
  },
  {
   "cell_type": "code",
   "execution_count": null,
   "metadata": {},
   "outputs": [],
   "source": []
  },
  {
   "cell_type": "code",
   "execution_count": null,
   "metadata": {},
   "outputs": [],
   "source": []
  },
  {
   "cell_type": "markdown",
   "metadata": {
    "deletable": false,
    "editable": false,
    "run_control": {
     "frozen": true
    }
   },
   "source": [
    "## Curve Fitting\n",
    "\n",
    "The *NumPy* polynomial module also provides a means to perform regression analysis, also known as curve fitting. A function can be fitted to a set of $x$ and $y$ data points. The `P.polyfit()` function is used to fit a polynomial of a specific order to the data. A polynomial of order $n = 1$ is a straight line of the form $y = mx + b$. The function `P.polyval()` can then be used to create an array of values using the `P.polyfit()` results. This array can then be used for plotting the fitted curve.\n",
    "\n",
    "The arguments passed to the `P.polyfit()` function are the $x$ and $y$ arrays followed by the desired fit order. For example, `P.polyfit(x, y, 5)` will result in a 5th order polynomial.\n",
    "\n",
    ">**Practice it**\n",
    ">\n",
    ">Execute the following three code cells to create $x$ and $y$ values to use for fitting and to plot them as red dots."
   ]
  },
  {
   "cell_type": "code",
   "execution_count": null,
   "metadata": {},
   "outputs": [],
   "source": [
    "import matplotlib.pyplot as plt"
   ]
  },
  {
   "cell_type": "code",
   "execution_count": null,
   "metadata": {},
   "outputs": [],
   "source": [
    "x = np.arange(0, 5.5, 0.5)\n",
    "y = np.array([6.0, 4.83, 3.70, 3.15, 2.41, 1.83, 1.49, 1.21, 0.96, 0.73, 0.64])"
   ]
  },
  {
   "cell_type": "code",
   "execution_count": null,
   "metadata": {},
   "outputs": [],
   "source": [
    "fig, ax = plt.subplots(figsize=(6,4), dpi=100)\n",
    "ax.plot(x, y,'ro')\n",
    "plt.show()"
   ]
  },
  {
   "cell_type": "markdown",
   "metadata": {
    "deletable": false,
    "editable": false,
    "run_control": {
     "frozen": true
    }
   },
   "source": [
    ">**Practice it**\n",
    ">\n",
    ">In the following code cells create three polynomial arrays named `f1`, `f2`, and `f3` that are the first, second, and third order fits to the $x$ and $y$ points that were just plotted."
   ]
  },
  {
   "cell_type": "code",
   "execution_count": null,
   "metadata": {},
   "outputs": [],
   "source": [
    "# first order polynomial fit"
   ]
  },
  {
   "cell_type": "code",
   "execution_count": null,
   "metadata": {},
   "outputs": [],
   "source": [
    "# second order polynomial fit"
   ]
  },
  {
   "cell_type": "code",
   "execution_count": null,
   "metadata": {},
   "outputs": [],
   "source": [
    "# third order polynomial fit"
   ]
  },
  {
   "cell_type": "markdown",
   "metadata": {
    "deletable": false,
    "editable": false,
    "run_control": {
     "frozen": true
    }
   },
   "source": [
    ">**Practice it**\n",
    ">\n",
    ">Now create fitted $y$ arrays from each of the above polynomials. This is accomplished via the `P.polyval()` function. You need to pass a linearly spaced array with the same range as the original $x$-value range to the `P.polyval()` function. This array can have more points than the original, such as `x_vals` in the first code cell below. You also need to pass the desired fitted polynomial (`f1`, `f2`, or `f3`) to the `P.polyval()` function. Create `y1`, `y2`, and `y3` using `P.polyval()` along with `x_vals` and `f1`, `f2`, and `f3`."
   ]
  },
  {
   "cell_type": "code",
   "execution_count": null,
   "metadata": {},
   "outputs": [],
   "source": [
    "x_vals = np.linspace(0, 5, 100)"
   ]
  },
  {
   "cell_type": "code",
   "execution_count": null,
   "metadata": {},
   "outputs": [],
   "source": [
    "# create 'y1' using 'f1'"
   ]
  },
  {
   "cell_type": "code",
   "execution_count": null,
   "metadata": {},
   "outputs": [],
   "source": [
    "# create 'y2' using 'f2'"
   ]
  },
  {
   "cell_type": "code",
   "execution_count": null,
   "metadata": {},
   "outputs": [],
   "source": [
    "# create 'y3' using 'f3'"
   ]
  },
  {
   "cell_type": "markdown",
   "metadata": {
    "deletable": false,
    "editable": false,
    "run_control": {
     "frozen": true
    }
   },
   "source": [
    ">**Practice it**\n",
    ">\n",
    ">The following cell creates a plot with the original points and curves from the three fitted data sets. Execute the cell to see how the fitted curves look."
   ]
  },
  {
   "cell_type": "code",
   "execution_count": null,
   "metadata": {},
   "outputs": [],
   "source": [
    "fig, ax = plt.subplots(figsize=(6,4), dpi=100)\n",
    "ax.plot(x, y, 'ro')\n",
    "ax.plot(x_vals, y1, 'g-', label='first order')\n",
    "ax.plot(x_vals, y2, 'm--', label='second order')\n",
    "ax.plot(x_vals, y3, 'b-.', label='third order')\n",
    "ax.legend()\n",
    "plt.show()"
   ]
  },
  {
   "cell_type": "markdown",
   "metadata": {
    "deletable": false,
    "editable": false,
    "run_control": {
     "frozen": true
    }
   },
   "source": [
    "*SciPy* has a statistics module called `stats` that includes the `linregress()` function for finding the $R^2$ value for each of the fitted curves relative to the original data points. The arrays used in this function need to be the same length.\n",
    "\n",
    ">**Practice it**\n",
    ">\n",
    ">Execute the next two code cells to peform the regression. Notice that the highest $R^2$ value results from the third order fit; meaning that it is the best fit of the three."
   ]
  },
  {
   "cell_type": "code",
   "execution_count": null,
   "metadata": {},
   "outputs": [],
   "source": [
    "from scipy import stats\n",
    "m1, b1, r1, p1, s1 = stats.linregress(y, P.polyval(x, f1))\n",
    "m2, b2, r2, p2, s3 = stats.linregress(y, P.polyval(x, f2))\n",
    "m3, b3, r3, p3, s3 = stats.linregress(y, P.polyval(x, f3))"
   ]
  },
  {
   "cell_type": "code",
   "execution_count": null,
   "metadata": {},
   "outputs": [],
   "source": [
    "print(r1**2)\n",
    "print(r2**2)\n",
    "print(r3**2)"
   ]
  },
  {
   "cell_type": "markdown",
   "metadata": {
    "deletable": false,
    "editable": false,
    "run_control": {
     "frozen": true
    }
   },
   "source": [
    "## Finding Zeros (Roots) and Local Minimums and Maximums of Polynomials\n",
    "\n",
    "Solving a polynomial, also known as finding its zeros or roots, is accomplished by finding the $x$ locations where the polynomial crosses the $x$-axis (when the $y$ value of the polynomial equals zero). *NumPy* can find local roots of polynomials using the `P.polyroots()` function. The function returns all of the real roots (zeros) of the polynomial.\n",
    "\n",
    "Local minimums and maximums can be determined by finding the roots of the first derivative of the polynomial.\n",
    "\n",
    ">**Practice it**\n",
    ">\n",
    ">Execute the following cell to find the roots for the polynomial $5 + 7x -8x^2 -2x^3$, the local minimums and maximums, plot the polynomial, and plot the roots."
   ]
  },
  {
   "cell_type": "code",
   "execution_count": null,
   "metadata": {},
   "outputs": [],
   "source": [
    "# create the polynomial 'c'\n",
    "c = \n",
    "# find the roots of 'c' and assign to the variable 'r'\n",
    "r = \n",
    "print(\"roots =\", r)"
   ]
  },
  {
   "cell_type": "code",
   "execution_count": null,
   "metadata": {},
   "outputs": [],
   "source": [
    "x = np.linspace(-6, 3, 100)  # range of x-values using linspace\n",
    "y = P.polyval(x, c)          # array 'y' using 'x' and 'c'\n",
    "rz = np.zeros(len(r))        # array of zeros for each root for plotting points\n",
    "\n",
    "yd = P.polyval(x, P.polyder(c)) # y-values for derivative of 'c'\n",
    "mmx = P.polyroots(P.polyder(c)) # x-location of roots of the derivative\n",
    "# local min/max values occur where derivative is zero\n",
    "mmy = P.polyval(mmx, c)         # y-values of the local min/max values\n",
    "print(\"local minimums/maximums of \", mmy, \" at x =\", mmx)\n",
    "\n",
    "fig, ax = plt.subplots(figsize=(6,4), dpi=100)\n",
    "ax.plot(x, y)\n",
    "ax.plot(r, rz, 'ro')\n",
    "ax.plot(mmx, mmy, 'g^')\n",
    "ax.grid()\n",
    "plt.show()"
   ]
  },
  {
   "cell_type": "markdown",
   "metadata": {
    "deletable": false,
    "editable": false,
    "run_control": {
     "frozen": true
    }
   },
   "source": [
    "*NumPy* can also find the roots of a polynomial using `np.roots()`. For this function, the polynomial coefficients need to be reversed. This can be done using slicing if you already have a polynomial defined using the polynomial module.\n",
    "\n",
    ">**Practice it**\n",
    ">\n",
    ">See if the results are any different after executing the following code cell."
   ]
  },
  {
   "cell_type": "code",
   "execution_count": null,
   "metadata": {},
   "outputs": [],
   "source": [
    "np.roots(c[::-1])"
   ]
  },
  {
   "cell_type": "markdown",
   "metadata": {
    "deletable": false,
    "editable": false,
    "run_control": {
     "frozen": true
    }
   },
   "source": [
    "## Creating User Defined Functions: Review\n",
    "\n",
    ">**Practice it**\n",
    ">\n",
    ">Create the user defined function `cbrt(x)` that solves for the cube root of a numeric value.\n",
    ">\n",
    ">```python\n",
    "def cbrt(x):\n",
    "    if x >= 0:\n",
    "        return round(x**(1/3), 12)\n",
    "    else:\n",
    "        return round(-abs(x**(1/3)), 12)\n",
    ">```"
   ]
  },
  {
   "cell_type": "code",
   "execution_count": null,
   "metadata": {},
   "outputs": [],
   "source": []
  },
  {
   "cell_type": "markdown",
   "metadata": {
    "deletable": false,
    "editable": false,
    "run_control": {
     "frozen": true
    }
   },
   "source": [
    ">Test your `cbrt()` function with the values of $125$, $27$, and $-27$."
   ]
  },
  {
   "cell_type": "code",
   "execution_count": null,
   "metadata": {},
   "outputs": [],
   "source": []
  },
  {
   "cell_type": "code",
   "execution_count": null,
   "metadata": {},
   "outputs": [],
   "source": []
  },
  {
   "cell_type": "code",
   "execution_count": null,
   "metadata": {},
   "outputs": [],
   "source": []
  },
  {
   "cell_type": "markdown",
   "metadata": {
    "deletable": false,
    "editable": false,
    "run_control": {
     "frozen": true
    }
   },
   "source": [
    "## Creating Anonymous `lambda` Functions\n",
    "\n",
    "*Python* uses a command named `lambda` to create quick, anonymous functions. This type of function must consist of a single mathematical expression. They can be used when creating function plots or finding function zeros and minimums. The following illustrates the general syntax for creating an anonymous function using `lambda`.\n",
    "\n",
    "`function_name = lambda arg_name: <expression that uses arg_name>`\n",
    "\n",
    ">**Practice it**\n",
    ">\n",
    ">Execute the following code cell to create the anonymous function `FA`. Then use the next code cells to call the function with values of $2$ and $10$; i.e. `FA(2)`."
   ]
  },
  {
   "cell_type": "code",
   "execution_count": null,
   "metadata": {},
   "outputs": [],
   "source": [
    "FA = lambda x: 8*x + 5"
   ]
  },
  {
   "cell_type": "code",
   "execution_count": null,
   "metadata": {},
   "outputs": [],
   "source": []
  },
  {
   "cell_type": "code",
   "execution_count": null,
   "metadata": {},
   "outputs": [],
   "source": []
  },
  {
   "cell_type": "markdown",
   "metadata": {
    "deletable": false,
    "editable": false,
    "run_control": {
     "frozen": true
    }
   },
   "source": [
    ">**Practice it**\n",
    ">\n",
    ">Try another one. This time you define the function. Name the anonymous function `circum` and use the argument variable `d` (like `x` in the previous example) and include the epression to calculate the circumference of a circle from its diameter `d`.\n",
    ">\n",
    ">Test the function with the following values:\n",
    ">- $2$\n",
    ">- $5$\n",
    ">- an array created using `np.arange(1, 5)`\n",
    ">\n",
    ">Use $\\pi$ from `numpy`."
   ]
  },
  {
   "cell_type": "code",
   "execution_count": null,
   "metadata": {},
   "outputs": [],
   "source": []
  },
  {
   "cell_type": "code",
   "execution_count": null,
   "metadata": {},
   "outputs": [],
   "source": []
  },
  {
   "cell_type": "code",
   "execution_count": null,
   "metadata": {},
   "outputs": [],
   "source": []
  },
  {
   "cell_type": "code",
   "execution_count": null,
   "metadata": {},
   "outputs": [],
   "source": []
  },
  {
   "cell_type": "markdown",
   "metadata": {
    "deletable": false,
    "editable": false,
    "run_control": {
     "frozen": true
    }
   },
   "source": [
    ">**Practice it**\n",
    ">\n",
    ">Let's try one with mulitple arguments. This function, `line`, returns the $y$-value of a point on a line that has a slope of `m`, at a particular `x` position, and with a $y$ intercept of `b`. Notice that to use multiple arguments you just need to separate the argument names with commas after the `lambda` command and before the colon.\n",
    ">\n",
    ">Test the function with arguments of `(4, 2, 0)` and `(8, 10, 5)`."
   ]
  },
  {
   "cell_type": "code",
   "execution_count": null,
   "metadata": {},
   "outputs": [],
   "source": [
    "line = lambda m, x, b: m*x + b"
   ]
  },
  {
   "cell_type": "code",
   "execution_count": null,
   "metadata": {},
   "outputs": [],
   "source": []
  },
  {
   "cell_type": "code",
   "execution_count": null,
   "metadata": {},
   "outputs": [],
   "source": []
  },
  {
   "cell_type": "markdown",
   "metadata": {
    "deletable": false,
    "editable": false,
    "run_control": {
     "frozen": true
    }
   },
   "source": [
    "## Finding Zeros (Roots) and Local Minimums and Maximums of Functions\n",
    "\n",
    "*SciPy* has an `optimize` module that includes the functions `optimize.fsolve()` and `optimize.fminbound()` for finding the zeros (roots) and local minimums of any function; not just polynomials. The `optimize.fsolve()` function requires the inclusion of an $x$-value \"guess\" that is close to where the function crosses the $x$-axis. Therefore, plotting the function before finding the zeros is very helpful.\n",
    "\n",
    ">**Practice it**\n",
    ">\n",
    ">Execute the following code cell to define an anonymous function `g` and plot it over the range $0$ to $5$."
   ]
  },
  {
   "cell_type": "code",
   "execution_count": null,
   "metadata": {},
   "outputs": [],
   "source": [
    "g = lambda x: np.exp(0.5*x) - np.sqrt(x) - 3\n",
    "x = np.linspace(0, 5)\n",
    "fig, ax = plt.subplots(figsize=(6,4), dpi=100)\n",
    "ax.plot(x, g(x))\n",
    "ax.grid(True)\n",
    "plt.show()"
   ]
  },
  {
   "cell_type": "markdown",
   "metadata": {
    "deletable": false,
    "editable": false,
    "run_control": {
     "frozen": true
    }
   },
   "source": [
    ">**Practice it**\n",
    ">\n",
    ">Use `optimize.fsolve()` with two arguments; `g` and the guess of $1$. Assign the zero to a variable and print it using the provided statement."
   ]
  },
  {
   "cell_type": "code",
   "execution_count": null,
   "metadata": {},
   "outputs": [],
   "source": [
    "local_zero =      # complete this line\n",
    "print('Local zero at:', local_zero)"
   ]
  },
  {
   "cell_type": "markdown",
   "metadata": {
    "deletable": false,
    "editable": false,
    "run_control": {
     "frozen": true
    }
   },
   "source": [
    ">**Practice it**\n",
    ">\n",
    ">Define $F(x) = x^3 - 8x^2 + 17x + \\sqrt{x} - 10$ using an anonymous function named `F`. Notice that this is not a polynomial (did you see the square root). Then plot it over a range of $x$ from $0$ to $5$ (use `np.linspace()` with 100 values for `x`)."
   ]
  },
  {
   "cell_type": "code",
   "execution_count": null,
   "metadata": {},
   "outputs": [],
   "source": []
  },
  {
   "cell_type": "markdown",
   "metadata": {
    "deletable": false,
    "editable": false,
    "run_control": {
     "frozen": true
    }
   },
   "source": [
    ">**Practice it**\n",
    ">\n",
    ">Looking at the above plot, you should see three zero crossings. Use `optimize.fsolve()` with estimates of $1$, $2.5$, and $4.5$ in a list to find the locations fo the zeros. Use a print statement to display all of the zeros."
   ]
  },
  {
   "cell_type": "code",
   "execution_count": null,
   "metadata": {},
   "outputs": [],
   "source": []
  },
  {
   "cell_type": "markdown",
   "metadata": {
    "deletable": false,
    "editable": false,
    "run_control": {
     "frozen": true
    }
   },
   "source": [
    "We can find local minimums using the `optimize.fminbound()` function. There is no maximum function, but local maximums can be found by negating (multiply by $-1$) the original function and then using `optimize.fminbound()` on the negated function. The `optimize.fminbound()` function requires two additional arguments other than the function name; a lower and upper bound for the range over which to look for the minimum. You can pass the results back to the original function to determine the $y$ values of the minimums and maximums.\n",
    "\n",
    ">**Practice it**\n",
    ">\n",
    ">Use `optimize.fminbound()` with bounds of $2$ to $5$ to find the location of the local mimimum of $F(x)$. Then pass the result to `F(x)` to find the $y$-value.\n",
    ">\n",
    ">Create a new function `Fneg` that is the negative of `F` using `Fneg = lambda x: -F(x)`. Then use bounds of $0$ to $2$ to find the location of the local maximum using `optimize.fminbound()` with `Fneg`. Pass the result of this to `F(x)` to find the $y$-value of the local maximum.\n",
    ">\n",
    ">Print the locations and values of the local minimum and maximum."
   ]
  },
  {
   "cell_type": "code",
   "execution_count": null,
   "metadata": {},
   "outputs": [],
   "source": [
    "# find the location of the local minimum of 'F' between 2 and 5 and assign to variable 'ymin_loc'"
   ]
  },
  {
   "cell_type": "code",
   "execution_count": null,
   "metadata": {},
   "outputs": [],
   "source": [
    "# find the value of the local minimum and assign to variable 'ymin_val'"
   ]
  },
  {
   "cell_type": "code",
   "execution_count": null,
   "metadata": {},
   "outputs": [],
   "source": [
    "# create 'Fneg'"
   ]
  },
  {
   "cell_type": "code",
   "execution_count": null,
   "metadata": {},
   "outputs": [],
   "source": [
    "# find the location of the local maximum using 'Fneg' between 0 and 2 and assign to variable 'ymax_loc'"
   ]
  },
  {
   "cell_type": "code",
   "execution_count": null,
   "metadata": {},
   "outputs": [],
   "source": [
    "# find the value of the local maximum and assign to variable 'ymax_val'"
   ]
  },
  {
   "cell_type": "code",
   "execution_count": null,
   "metadata": {},
   "outputs": [],
   "source": [
    "# print the results"
   ]
  },
  {
   "cell_type": "markdown",
   "metadata": {
    "deletable": false,
    "editable": false,
    "run_control": {
     "frozen": true
    }
   },
   "source": [
    "## Numerical Integration and Differentiation\n",
    "\n",
    "*NumPy* and *SciPy* both provide functions to perform numerical integration. *NumPy* has `np.trapz()` which integrates (area under curve) arrays of $x,y$ values and the trapezoid rule. The arguments for `np.trapz()` are in `y,x` order however.\n",
    "\n",
    "*SciPy* has the `integrate.quad()` fuction (among others) for integrating a function between a set of limits. This function returns an array of two values; the first is the result of the integration and the second is an estimate of the error. For both `np.trapz()` and `integrate.quad()` the results are estimates of definite integrals.\n",
    "\n",
    "The *SciPy* module can also calculate (estimate) the derivative of a function at a specific point. The function is found in `scipy.misc` and called `derivative()`. The arguments are a function name, the value of the point of interest, and two optional arguments; `dx=` which is the spacing and `n=` which is the order of the derivative. The default values for both of the optional arguments is $1$. A smaller `dx` value generally improves the result.\n",
    "\n",
    ">**Practice it**\n",
    ">\n",
    ">Execute the code cell below to create the function `g`. In the empty code cell perform a numerical integration on the defined function between $1$ and $6$ using `integrate.quad()`."
   ]
  },
  {
   "cell_type": "code",
   "execution_count": null,
   "metadata": {},
   "outputs": [],
   "source": [
    "g = lambda x: 2*x**2/np.sqrt(1 + x)"
   ]
  },
  {
   "cell_type": "code",
   "execution_count": null,
   "metadata": {},
   "outputs": [],
   "source": []
  },
  {
   "cell_type": "markdown",
   "metadata": {
    "deletable": false,
    "editable": false,
    "run_control": {
     "frozen": true
    }
   },
   "source": [
    ">**Practice it**\n",
    ">\n",
    ">Try this one. Define an anonymous function $\\displaystyle f(x) = 2\\sqrt{1+\\frac{4h^2x^2}{a^4}}$ and assign $a=80$ and $h=18$. Then use `integrate.quad()` to integrate the function between $0$ and $a$."
   ]
  },
  {
   "cell_type": "code",
   "execution_count": null,
   "metadata": {},
   "outputs": [],
   "source": []
  },
  {
   "cell_type": "code",
   "execution_count": null,
   "metadata": {},
   "outputs": [],
   "source": []
  },
  {
   "cell_type": "markdown",
   "metadata": {
    "deletable": false,
    "editable": false,
    "run_control": {
     "frozen": true
    }
   },
   "source": [
    ">**Practice it**\n",
    ">\n",
    ">Integrate $\\displaystyle h(x) = \\frac{e^{2x}}{x}$ between $1$ and $2$ using `integrate.quad()`. This time don't create an anonymous function first, just put the `lambda` statement directly in the `integrate.quad()` function."
   ]
  },
  {
   "cell_type": "code",
   "execution_count": null,
   "metadata": {},
   "outputs": [],
   "source": []
  },
  {
   "cell_type": "markdown",
   "metadata": {
    "deletable": false,
    "editable": false,
    "run_control": {
     "frozen": true
    }
   },
   "source": [
    ">**Practice it**\n",
    ">\n",
    ">Create an array $t$ that starts with $0$ and ends with $7$ with steps of $1$ using `np.arange()`. Also create an array $v$ with the following values $[0, 14, 39, 69, 95, 114, 129, 139]$ mulitplied by $5280/3600$. Create a $t,v$ plot of the data points then use both `np.trapz()` and `integrate.trapz()` to find the area under the curve. Did the two functions provide the same results?"
   ]
  },
  {
   "cell_type": "code",
   "execution_count": null,
   "metadata": {},
   "outputs": [],
   "source": [
    "# create 't'"
   ]
  },
  {
   "cell_type": "code",
   "execution_count": null,
   "metadata": {},
   "outputs": [],
   "source": [
    "# create 'v'"
   ]
  },
  {
   "cell_type": "code",
   "execution_count": null,
   "metadata": {},
   "outputs": [],
   "source": [
    "# plot"
   ]
  },
  {
   "cell_type": "code",
   "execution_count": null,
   "metadata": {},
   "outputs": [],
   "source": [
    "# np.trapz()"
   ]
  },
  {
   "cell_type": "code",
   "execution_count": null,
   "metadata": {},
   "outputs": [],
   "source": [
    "# integrate.trapz()"
   ]
  },
  {
   "cell_type": "markdown",
   "metadata": {
    "deletable": false,
    "editable": false,
    "run_control": {
     "frozen": true
    }
   },
   "source": [
    ">**Practice it**\n",
    ">\n",
    ">From `scipy.misc` import the `derivative` function. Create an anonymous function $h(x) = x\\cos(x)$. Then find the first derivative at $\\displaystyle x=0, \\frac{\\pi}{4}, \\frac{\\pi}{3}, \\frac{\\pi}{2}, \\text{ and }\\pi$ in individual code cells. Use a spacing (`dx`) of $1\\times10^{-6}$; i.e. `dx=1e-6`. In the last code cell find the first derivative at all five values by passing an array (not a list) as the second argument."
   ]
  },
  {
   "cell_type": "code",
   "execution_count": null,
   "metadata": {},
   "outputs": [],
   "source": [
    "from scipy.misc import derivative"
   ]
  },
  {
   "cell_type": "code",
   "execution_count": null,
   "metadata": {},
   "outputs": [],
   "source": [
    "# define function 'h'"
   ]
  },
  {
   "cell_type": "code",
   "execution_count": null,
   "metadata": {},
   "outputs": [],
   "source": [
    "# first derivative at 0"
   ]
  },
  {
   "cell_type": "code",
   "execution_count": null,
   "metadata": {},
   "outputs": [],
   "source": [
    "# first derivative at pi/4"
   ]
  },
  {
   "cell_type": "code",
   "execution_count": null,
   "metadata": {},
   "outputs": [],
   "source": [
    "# first derivative at pi/3"
   ]
  },
  {
   "cell_type": "code",
   "execution_count": null,
   "metadata": {},
   "outputs": [],
   "source": [
    "# first derivative at pi/2"
   ]
  },
  {
   "cell_type": "code",
   "execution_count": null,
   "metadata": {},
   "outputs": [],
   "source": [
    "# first derivative at pi"
   ]
  },
  {
   "cell_type": "code",
   "execution_count": null,
   "metadata": {},
   "outputs": [],
   "source": [
    "# first derivative at all 5 locations using an array"
   ]
  },
  {
   "cell_type": "markdown",
   "metadata": {
    "deletable": false,
    "editable": false,
    "run_control": {
     "frozen": true
    }
   },
   "source": [
    ">**Practice it**\n",
    ">\n",
    ">Create an anonymous function $f(x) = \\sin(x)$ and an array named `x` of 100 $x$-values from $0$ to $2\\pi$. Find the derivative of $f$ at `x` with `dx=1e-6` and `n=1` and assign the name `df` to the results. Then plot `x, f(x)` (the original function $f$) and `x, df` (the deriviative of $f$). Make the original a solid red line and the derivative a dashed blue line. Add a legend to the plot before showing it."
   ]
  },
  {
   "cell_type": "code",
   "execution_count": null,
   "metadata": {},
   "outputs": [],
   "source": [
    "# define 'f'"
   ]
  },
  {
   "cell_type": "code",
   "execution_count": null,
   "metadata": {},
   "outputs": [],
   "source": [
    "# create 'x'"
   ]
  },
  {
   "cell_type": "code",
   "execution_count": null,
   "metadata": {},
   "outputs": [],
   "source": [
    "# find derivative and name it 'df'"
   ]
  },
  {
   "cell_type": "code",
   "execution_count": null,
   "metadata": {},
   "outputs": [],
   "source": [
    "# plot 'x, f(x)' and 'x, df'"
   ]
  },
  {
   "cell_type": "markdown",
   "metadata": {},
   "source": [
    ">**Wrap it up**\n",
    ">\n",
    ">Execute the time stamp code cell below to show the time and date you finished and tested this script.\n",
    ">\n",
    ">Click on the **Save** button and then the **Close and halt** button when you are done. **This is an instructor-led assignment that must be completed before the end of the lab session in order to receive credit.**"
   ]
  },
  {
   "cell_type": "code",
   "execution_count": null,
   "metadata": {
    "deletable": false,
    "editable": false
   },
   "outputs": [],
   "source": [
    "from datetime import datetime\n",
    "from pytz import timezone\n",
    "print(datetime.now(timezone('US/Eastern')))"
   ]
  }
 ],
 "metadata": {
  "kernelspec": {
   "display_name": "Python 3",
   "language": "python",
   "name": "python3"
  },
  "language_info": {
   "codemirror_mode": {
    "name": "ipython",
    "version": 3
   },
   "file_extension": ".py",
   "mimetype": "text/x-python",
   "name": "python",
   "nbconvert_exporter": "python",
   "pygments_lexer": "ipython3",
   "version": "3.7.4"
  },
  "varInspector": {
   "cols": {
    "lenName": 16,
    "lenType": 16,
    "lenVar": 40
   },
   "kernels_config": {
    "python": {
     "delete_cmd_postfix": "",
     "delete_cmd_prefix": "del ",
     "library": "var_list.py",
     "varRefreshCmd": "print(var_dic_list())"
    },
    "r": {
     "delete_cmd_postfix": ") ",
     "delete_cmd_prefix": "rm(",
     "library": "var_list.r",
     "varRefreshCmd": "cat(var_dic_list()) "
    }
   },
   "types_to_exclude": [
    "module",
    "function",
    "builtin_function_or_method",
    "instance",
    "_Feature"
   ],
   "window_display": false
  }
 },
 "nbformat": 4,
 "nbformat_minor": 1
}
