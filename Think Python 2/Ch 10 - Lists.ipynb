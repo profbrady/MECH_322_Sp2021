{
 "cells": [
  {
   "cell_type": "markdown",
   "metadata": {
    "collapsed": false
   },
   "source": [
    "#### The material in this document is copied from or based on the the book...\n",
    "\n",
    "# Think Python\n",
    "## How to Think Like a Computer Scientist\n",
    "Second edition, Version 2.2.20\n",
    "\n",
    "##### Allen Downey\n",
    "\n",
    "##### Green Tea Press\n",
    "\n",
    "Needham, Massachusetts\n",
    "\n",
    "\n",
    "\n",
    "\n"
   ]
  },
  {
   "cell_type": "markdown",
   "metadata": {
    "collapsed": false
   },
   "source": [
    "Copyright © 2015 Allen Downey.\n",
    "\n",
    "Green Tea Press 9 Washburn Ave Needham MA 02492\n",
    "\n",
    "Permission is granted to copy, distribute, and/or modify this document under the terms of the Creative Commons Attribution-NonCommercial 3.0 Unported License, which is available at http://creativecommons.org/licenses/by-nc/3.0/.\n",
    "\n",
    "The original form of this book is $\\LaTeX$ source code. Compiling this $\\LaTeX$ source has the effect of generating a device-independent representation of a textbook, which can be converted to other formats and printed.\n",
    "\n",
    "The $\\LaTeX$ source for this book is available from http://www.thinkpython2.com"
   ]
  },
  {
   "cell_type": "markdown",
   "metadata": {
    "collapsed": false
   },
   "source": [
    "# Chapter 10: Lists\n",
    "\n",
    "This chapter presents one of Python’s most useful built-in types, lists. You will also learn more about objects and what can happen when you have more than one name for the same object.\n",
    "\n",
    "## 10.1 A list is a sequence\n",
    "\n",
    "Like a string, a **list** is a sequence of values. In a string, the values are characters; in a list, they can be any type. The values in a list are called **elements** or sometimes **items**.\n",
    "\n",
    "There are several ways to create a new list; the simplest is to enclose the elements in square brackets (`[` and `]`):\n",
    "\n",
    "    [10, 20, 30, 40]\n",
    "    ['crunchy frog', 'ram bladder', 'lark vomit']\n",
    "\n",
    "The ﬁrst example is a list of four integers. The second is a list of three strings. The elements of a list don’t have to be the same type. The following list contains a string, a ﬂoat, an integer, and (lo!) another list:\n",
    "\n",
    "    ['spam', 2.0, 5, [10, 20]]\n",
    "\n",
    "A list within another list is **nested**.\n",
    "\n",
    "A list that contains no elements is called an empty list; you can create one with empty brackets, `[]`.\n",
    "\n",
    "As you might expect, you can assign list values to variables:\n",
    "\n",
    "    >>> cheeses = ['Cheddar', 'Edam', 'Gouda']\n",
    "    >>> numbers = [42, 123]\n",
    "    >>> empty = []\n",
    "    >>> print(cheeses, numbers, empty)\n",
    "    ['Cheddar', 'Edam', 'Gouda'] [42, 123] []"
   ]
  },
  {
   "cell_type": "markdown",
   "metadata": {
    "collapsed": false
   },
   "source": [
    "![liststate.png](liststate.png)\n",
    "\n",
    "Figure 10.1: State diagram"
   ]
  },
  {
   "cell_type": "markdown",
   "metadata": {
    "collapsed": false
   },
   "source": [
    "## 10.2 Lists are mutable\n",
    "\n",
    "The syntax for accessing the elements of a list is the same as for accessing the characters of a string--the bracket operator. The expression inside the brackets speciﬁes the index. Remember that the indices start at 0:\n",
    "\n",
    "    >>> cheeses[0]\n",
    "    'Cheddar'\n",
    "\n",
    "Unlike strings, lists are mutable. When the bracket operator appears on the left side of an assignment, it identiﬁes the element of the list that will be assigned.\n",
    "\n",
    "    >>> numbers = [42, 123]\n",
    "    >>> numbers[1] = 5\n",
    "    >>> numbers\n",
    "    [42, 5]\n",
    "\n",
    "The one-eth element of numbers, which used to be 123, is now 5.\n",
    "\n",
    "Figure 10.1 shows the state diagram for `cheeses`, `numbers` and `empty`:\n",
    "\n",
    "Lists are represented by boxes with the word “list” outside and the elements of the list inside. `cheeses` refers to a list with three elements indexed 0, 1 and 2. `numbers` contains two elements; the diagram shows that the value of the second element has been reassigned from 123 to 5. `empty` refers to a list with no elements.\n",
    "\n",
    "List indices work the same way as string indices:\n",
    "\n",
    "* Any integer expression can be used as an index.\n",
    "\n",
    "* If you try to read or write an element that does not exist, you get an IndexError.\n",
    "\n",
    "* If an index has a negative value, it counts backward from the end of the list.\n",
    "\n",
    "The `in` operator also works on lists.\n",
    "\n",
    "    >>> cheeses = ['Cheddar', 'Edam', 'Gouda']\n",
    "    >>> 'Edam' in cheeses\n",
    "    True\n",
    "    >>> 'Brie' in cheeses\n",
    "    False"
   ]
  },
  {
   "cell_type": "markdown",
   "metadata": {
    "collapsed": false
   },
   "source": [
    "*Make a list called *`profs`* that contains the last names of all of your professors from this semester. Then ask if *`'Brady'`* is* `in profs`."
   ]
  },
  {
   "cell_type": "code",
   "execution_count": 0,
   "metadata": {
    "collapsed": false
   },
   "outputs": [
   ],
   "source": [
   ]
  },
  {
   "cell_type": "markdown",
   "metadata": {
    "collapsed": false
   },
   "source": [
    "## 10.3 Traversing a list\n",
    "\n",
    "The most common way to traverse the elements of a list is with a `for` loop. The syntax is the same as for strings:\n",
    "\n",
    "    for cheese in cheeses:\n",
    "        print(cheese)\n",
    "\n",
    "This works well if you only need to read the elements of the list. But if you want to write or update the elements, you need the indices. A common way to do that is to combine the built-in functions `range` and `len`:\n",
    "\n",
    "    for i in range(len(numbers)):\n",
    "        numbers[i] = numbers[i] * 2\n",
    "\n",
    "This loop traverses the list and updates each element. `len` returns the number of elements in the list. `range` returns a list of indices from $0$ to $n − 1$, where $n$ is the length of the list. Each time through the loop `i` gets the index of the next element. The assignment statement in the body uses `i` to read the old value of the element and to assign the new value.\n",
    "\n",
    "A `for` loop over an empty list never runs the body:\n",
    "\n",
    "    for x in []:\n",
    "        print('This never happens.')\n",
    "\n",
    "Although a list can contain another list, the nested list still counts as a single element. The length of this list is four:\n",
    "\n",
    "    ['spam', 1, ['Brie', 'Roquefort', 'Pol le Veq'], [1, 2, 3]]"
   ]
  },
  {
   "cell_type": "markdown",
   "metadata": {
    "collapsed": false
   },
   "source": [
    "*Traverse your list *`profs` *and* `print` *each name on a different line.*"
   ]
  },
  {
   "cell_type": "code",
   "execution_count": 0,
   "metadata": {
    "collapsed": false
   },
   "outputs": [
   ],
   "source": [
   ]
  },
  {
   "cell_type": "markdown",
   "metadata": {
    "collapsed": false
   },
   "source": [
    "## 10.4 List operations\n",
    "\n",
    "The `+` operator concatenates lists:\n",
    "\n",
    "    >>> a = [1, 2, 3]\n",
    "    >>> b = [4, 5, 6]\n",
    "    >>> c = a + b\n",
    "    >>> c\n",
    "    [1, 2, 3, 4, 5, 6]\n",
    "\n",
    "The `*` operator repeats a list a given number of times:\n",
    "\n",
    "    >>> [0] * 4\n",
    "    [0, 0, 0, 0]\n",
    "    >>> [1, 2, 3] * 3\n",
    "    [1, 2, 3, 1, 2, 3, 1, 2, 3]\n",
    "\n",
    "The ﬁrst example repeats `[0]` four times. The second example repeats the list `[1, 2, 3]` three times."
   ]
  },
  {
   "cell_type": "markdown",
   "metadata": {
    "collapsed": false
   },
   "source": [
    "*If one list of* `profs` *then two of them must be better. Repeat *`profs` *2 times.*"
   ]
  },
  {
   "cell_type": "code",
   "execution_count": 0,
   "metadata": {
    "collapsed": false
   },
   "outputs": [
   ],
   "source": [
   ]
  },
  {
   "cell_type": "markdown",
   "metadata": {
    "collapsed": false
   },
   "source": [
    "## 10.5 List slices\n",
    "\n",
    "The slice operator also works on lists:\n",
    "\n",
    "    >>> t = ['a', 'b', 'c', 'd', 'e', 'f']\n",
    "    >>> t[1:3]\n",
    "    ['b', 'c']\n",
    "    >>> t[:4]\n",
    "    ['a', 'b', 'c', 'd']\n",
    "    >>> t[3:]\n",
    "    ['d', 'e', 'f']\n",
    "\n",
    "If you omit the ﬁrst index, the slice starts at the beginning. If you omit the second, the slice goes to the end. So if you omit both, the slice is a copy of the whole list.\n",
    "\n",
    "    >>> t[:]\n",
    "    ['a', 'b', 'c', 'd', 'e', 'f']\n",
    "\n",
    "Since lists are mutable, it is often useful to make a copy before performing operations that modify lists.\n",
    "\n",
    "A slice operator on the left side of an assignment can update multiple elements:\n",
    "\n",
    "    >>> t = ['a', 'b', 'c', 'd', 'e', 'f']\n",
    "    >>> t[1:3] = ['x', 'y']\n",
    "    >>> t\n",
    "    ['a', 'x', 'y', 'd', 'e', 'f']"
   ]
  },
  {
   "cell_type": "markdown",
   "metadata": {
    "collapsed": false
   },
   "source": [
    "## 10.6 List methods\n",
    "\n",
    "Python provides methods that operate on lists. For example, `append` adds a new element to the end of a list:\n",
    "\n",
    "    >>> t = ['a', 'b', 'c']\n",
    "    >>> t.append('d')\n",
    "    >>> t\n",
    "    ['a', 'b', 'c', 'd']\n",
    "\n",
    "`extend` takes a list as an argument and appends all of the elements:\n",
    "\n",
    "    >>> t1 = ['a', 'b', 'c']\n",
    "    >>> t2 = ['d', 'e']\n",
    "    >>> t1.extend(t2)\n",
    "    >>> t1\n",
    "    ['a', 'b', 'c', 'd', 'e']\n",
    "\n",
    "This example leaves `t2` unmodiﬁed.\n",
    "\n",
    "`sort` arranges the elements of the list from low to high:\n",
    "\n",
    "    >>> t = ['d', 'c', 'e', 'b', 'a']\n",
    "    >>> t.sort()\n",
    "    >>> t\n",
    "    ['a', 'b', 'c', 'd', 'e']\n",
    "\n",
    "Most list methods are `void`; they modify the list and return `None`. If you accidentally write `t = t.sort()`, you will be disappointed with the result."
   ]
  },
  {
   "cell_type": "markdown",
   "metadata": {
    "collapsed": false
   },
   "source": [
    "## 10.7 Map, filter and reduce\n",
    "\n",
    "To add up all the numbers in a list, you can use a loop like this:\n",
    "\n",
    "    def add_all(t):\n",
    "        total = 0\n",
    "        for x in t:\n",
    "            total += x\n",
    "        return total\n",
    "\n",
    "`total` is initialized to 0. Each time through the loop, `x` gets one element from the list. The `+=` operator provides a short way to update a variable. This **augmented assignment statement**,\n",
    "\n",
    "    total += x`\n",
    "\n",
    "is equivalent to\n",
    "\n",
    "    total = total + x`\n",
    "\n",
    "As the loop runs, `total` accumulates the sum of the elements; a variable used this way is sometimes called an **accumulator**.\n",
    "\n",
    "Adding up the elements of a list is such a common operation that Python provides it as a built-in function, `sum`:\n",
    "\n",
    "    >>> t = [1, 2, 3]\n",
    "    >>> sum(t)\n",
    "    6\n",
    "\n",
    "An operation like this that combines a sequence of elements into a single value is sometimes called `reduce`.\n",
    "\n",
    "Sometimes you want to traverse one list while building another. For example, the following function takes a list of strings and returns a new list that contains capitalized strings:\n",
    "\n",
    "    def capitalize_all(t):\n",
    "        res = []\n",
    "        for s in t:\n",
    "            res.append(s.capitalize())\n",
    "        return res\n",
    "\n",
    "`res` is initialized with an empty list; each time through the loop, we append the next element. So `res` is another kind of accumulator.\n",
    "\n",
    "An operation like `capitalize_all` is sometimes called a **map** because it “maps” a function (in this case the method `capitalize`) onto each of the elements in a sequence.\n",
    "\n",
    "Another common operation is to select some of the elements from a list and return a sublist. For example, the following function takes a list of strings and returns a list that contains only the uppercase strings:\n",
    "\n",
    "    def only_upper(t):\n",
    "        res = []\n",
    "        for s in t:\n",
    "            if s.isupper():\n",
    "                res.append(s)\n",
    "        return res\n",
    "\n",
    "`isupper` is a string method that returns `True` if the string contains only upper case letters. An operation like `only_upper` is called a **filter** because it selects some of the elements and ﬁlters out the others.\n",
    "\n",
    "Most common list operations can be expressed as a combination of map, ﬁlter and reduce."
   ]
  },
  {
   "cell_type": "markdown",
   "metadata": {
    "collapsed": false
   },
   "source": [
    "## 10.8 Deleting elements\n",
    "\n",
    "There are several ways to delete elements from a list. If you know the index of the element you want, you can use `pop`:\n",
    "\n",
    "    >>> t = ['a', 'b', 'c']\n",
    "    >>> x = t.pop(1)\n",
    "    >>> t\n",
    "    ['a', 'c']\n",
    "    >>> x\n",
    "    'b'\n",
    "\n",
    "`pop` modiﬁes the list and returns the element that was removed. If you don’t provide an index, it deletes and returns the last element.\n",
    "\n",
    "If you don’t need the removed value, you can use the `del` operator:\n",
    "\n",
    "    >>> t = ['a', 'b', 'c']\n",
    "    >>> del t[1]\n",
    "    >>> t\n",
    "    ['a', 'c']\n",
    "\n",
    "If you know the element you want to remove (but not the index), you can use `remove`:\n",
    "\n",
    "    >>> t = ['a', 'b', 'c']\n",
    "    >>> t.remove('b')\n",
    "    >>> t\n",
    "    ['a', 'c']\n",
    "\n",
    "The return value from `remove` is `None`.\n",
    "\n",
    "To `remove` more than one element, you can use `del` with a slice index:\n",
    "\n",
    "    >>> t = ['a', 'b', 'c', 'd', 'e', 'f']\n",
    "    >>> del t[1:5]\n",
    "    >>> t\n",
    "    ['a', 'f']\n",
    "\n",
    "As usual, the slice selects all the elements up to but not including the second index."
   ]
  },
  {
   "cell_type": "markdown",
   "metadata": {
    "collapsed": false
   },
   "source": [
    "## 10.9 Lists and strings\n",
    "\n",
    "A string is a sequence of characters and a list is a sequence of values, but a list of characters is not the same as a string. To convert from a string to a list of characters, you can use `list`:\n",
    "\n",
    "    >>> s = 'spam'\n",
    "    >>> t = list(s)\n",
    "    >>> t\n",
    "    ['s', 'p', 'a', 'm']\n",
    "\n",
    "Because `list` is the name of a built-in function, you should avoid using it as a variable name. I also avoid `l` because it looks too much like `1`. So that’s why I use `t`.\n",
    "\n",
    "The list function breaks a string into individual letters. If you want to break a string into words, you can use the `split` method:\n",
    "\n",
    "    >>> s = 'pining for the fjords'\n",
    "    >>> t = s.split()\n",
    "    >>> t\n",
    "    ['pining', 'for', 'the', 'fjords']\n",
    "\n",
    "An optional argument called a **delimiter** speciﬁes which characters to use as word boundaries. The following example uses a hyphen as a delimiter:\n",
    "\n",
    "    >>> s = 'spam-spam-spam'\n",
    "    >>> delimiter = '-'\n",
    "    >>> t = s.split(delimiter)\n",
    "    >>> t\n",
    "    ['spam', 'spam', 'spam']\n",
    "\n",
    "`join` is the inverse of `split`. It takes a list of strings and concatenates the elements. `join` is a string method, so you have to invoke it on the delimiter and pass the list as a parameter:\n",
    "\n",
    "    >>> t = ['pining', 'for', 'the', 'fjords']\n",
    "    >>> delimiter = ' '\n",
    "    >>> s = delimiter.join(t)\n",
    "    >>> s\n",
    "    'pining for the fjords'\n",
    "\n",
    "In this case the delimiter is a space character, so `join` puts a space between words. To concatenate strings without spaces, you can use the empty string, `''`, as a delimiter."
   ]
  },
  {
   "cell_type": "markdown",
   "metadata": {
    "collapsed": false
   },
   "source": [
    "![list1.png](list1.png)\n",
    "\n",
    "Figure 10.2: State diagram"
   ]
  },
  {
   "cell_type": "markdown",
   "metadata": {
    "collapsed": false
   },
   "source": [
    "## 10.10 Objects and values\n",
    "\n",
    "If we run these assignment statements:\n",
    "\n",
    "    a = 'banana'\n",
    "    b = 'banana'\n",
    "\n",
    "We know that `a` and `b` both refer to a string, but we don’t know whether they refer to the same string. There are two possible states, shown in Figure 10.2.\n",
    "\n",
    "In one case, a and b refer to two different objects that have the same value. In the second case, they refer to the same object.\n",
    "\n",
    "To check whether two variables refer to the same object, you can use the `is` operator.\n",
    "\n",
    "    >>> a = 'banana'\n",
    "    >>> b = 'banana'\n",
    "    >>> a is b\n",
    "    True\n",
    "\n",
    "In this example, Python only created one string object, and both `a` and `b` refer to it. But when you create two lists, you get two objects:\n",
    "\n",
    "    >>> a = [1, 2, 3]\n",
    "    >>> b = [1, 2, 3]\n",
    "    >>> a is b\n",
    "    False\n",
    "\n",
    "So the state diagram looks like Figure 10.3.\n",
    "\n",
    "In this case we would say that the two lists are **equivalent**, because they have the same elements, but not **identical**, because they are not the same object. If two objects are identical, they are also equivalent, but if they are equivalent, they are not necessarily identical.\n",
    "\n",
    "Until now, we have been using “object” and “value” interchangeably, but it is more precise to say that an object has a value. If you evaluate `[1, 2, 3]`, you get a list object whose value is a sequence of integers. If another list has the same elements, we say it has the same value, but it is not the same object."
   ]
  },
  {
   "cell_type": "markdown",
   "metadata": {
    "collapsed": false
   },
   "source": [
    "![list2.png](list2.png)\n",
    "\n",
    "Figure 10.3: State diagram\n",
    "\n",
    "![list2.png](list2.png)\n",
    "\n",
    "Figure 10.4: State diagram"
   ]
  },
  {
   "cell_type": "markdown",
   "metadata": {
    "collapsed": false
   },
   "source": [
    "## 10.11 Aliasing\n",
    "\n",
    "If `a` refers to an object and you assign `b = a`, then both variables refer to the same object:\n",
    "\n",
    "    >>> a = [1, 2, 3]\n",
    "    >>> b = a\n",
    "    >>> b is a\n",
    "    True\n",
    "\n",
    "The state diagram looks like Figure 10.4.\n",
    "\n",
    "The association of a variable with an object is called a **reference**. In this example, there are two references to the same object.\n",
    "\n",
    "An object with more than one reference has more than one name, so we say that the object is **aliased**.\n",
    "\n",
    "If the aliased object is mutable, changes made with one alias affect the other:\n",
    "\n",
    "    >>> b[0] = 42\n",
    "    >>> a\n",
    "    [42, 2, 3]\n",
    "\n",
    "Although this behavior can be useful, it is error-prone. In general, it is safer to avoid aliasing when you are working with mutable objects.\n",
    "\n",
    "For immutable objects like strings, aliasing is not as much of a problem. In this example:\n",
    "\n",
    "    a = 'banana'\n",
    "    b = 'banana'\n",
    "\n",
    "It almost never makes a difference whether `a` and `b` refer to the same string or not."
   ]
  },
  {
   "cell_type": "markdown",
   "metadata": {
    "collapsed": false
   },
   "source": [
    "## 10.12 List arguments\n",
    "\n",
    "When you pass a list to a function, the function gets a reference to the list. If the function modiﬁes the list, the caller sees the change. For example, `delete_head` removes the ﬁrst element from a list:\n",
    "\n",
    "    def delete_head(t):\n",
    "        del t[0]\n",
    "\n",
    "Here’s how it is used:\n",
    "\n",
    "    >>> letters = ['a', 'b', 'c']\n",
    "    >>> delete_head(letters)\n",
    "    >>> letters\n",
    "    ['b', 'c']\n",
    "\n",
    "The parameter `t` and the variable `letters` are aliases for the same object. The stack diagram looks like Figure 10.5.\n",
    "\n",
    "Since the list is shared by two frames, I drew it between them.\n",
    "\n",
    "It is important to distinguish between operations that modify lists and operations that create new lists. For example, the `append` method modiﬁes a list, but the `+` operator creates a new list.\n",
    "\n",
    "Here’s an example using `append`:\n",
    "\n",
    "    >>> t1 = [1, 2]\n",
    "    >>> t2 = t1.append(3)\n",
    "    >>> t1\n",
    "    [1, 2, 3]\n",
    "    >>> t2\n",
    "    None\n",
    "\n",
    "The return value from `append` is `None`.\n",
    "\n",
    "Here’s an example using the `+` operator:\n",
    "\n",
    "    >>> t3 = t1 + [4]\n",
    "    >>> t1\n",
    "    [1, 2, 3]\n",
    "    >>> t3\n",
    "    [1, 2, 3, 4]\n",
    "\n",
    "The result of the operator is a new list, and the original list is unchanged.\n",
    "\n",
    "This difference is important when you write functions that are supposed to modify lists. For example, this function does not delete the head of a list:\n",
    "\n",
    "    def bad_delete_head(t):\n",
    "        t = t[1:]                 # WRONG!\n",
    "\n",
    "The slice operator creates a new list and the assignment makes `t` refer to it, but that doesn’t affect the caller.\n",
    "\n",
    "    >>> t4 = [1, 2, 3]\n",
    "    >>> bad_delete_head(t4)\n",
    "    >>> t4\n",
    "    [1, 2, 3]\n",
    "\n",
    "At the beginning of `bad_delete_head`, `t` and `t4` refer to the same list. At the end, `t` refers to a new list, but `t4` still refers to the original, unmodiﬁed list.\n",
    "\n",
    "An alternative is to write a function that creates and returns a new list. For example, `tail` returns all but the ﬁrst element of a list:\n",
    "\n",
    "    def tail(t):\n",
    "        return t[1:]\n",
    "\n",
    "This function leaves the original list unmodiﬁed. Here’s how it is used:\n",
    "\n",
    "    >>> letters = ['a', 'b', 'c']\n",
    "    >>> rest = tail(letters)\n",
    "    >>> rest\n",
    "    ['b', 'c']"
   ]
  },
  {
   "cell_type": "markdown",
   "metadata": {
    "collapsed": false
   },
   "source": [
    "![stack5.png](stack5.png)\n",
    "\n",
    "Figure 10.5: Stack diagram"
   ]
  },
  {
   "cell_type": "markdown",
   "metadata": {
    "collapsed": false
   },
   "source": [
    "## 10.13 Debugging\n",
    "\n",
    "Careless use of lists (and other mutable objects) can lead to long hours of debugging. Here are some common pitfalls and ways to avoid them:\n",
    "\n",
    "1. Most list methods modify the argument and return None. This is the opposite of the string methods, which return a new string and leave the original alone.\n",
    "\n",
    "  If you are used to writing string code like this:\n",
    "\n",
    "        word = word.strip()\n",
    "\n",
    "  It is tempting to write list code like this:\n",
    "\n",
    "        t = t.sort()             # WRONG!\n",
    "\n",
    "  Because `sort` returns `None`, the next operation you perform with `t` is likely to fail.\n",
    "\n",
    "  Before using list methods and operators, you should read the documentation carefully and then test them in interactive mode.\n",
    "\n",
    "2. Pick an idiom and stick with it.\n",
    "\n",
    "  Part of the problem with lists is that there are too many ways to do things. For example, to remove an element from a list, you can use `pop`, `remove`, `del`, or even a slice assignment.\n",
    "\n",
    "  To add an element, you can use the `append` method or the `+` operator. Assuming that `t` is a list and `x` is a list element, these are correct:\n",
    "\n",
    "        t.append(x)\n",
    "        t = t + [x]\n",
    "        t += [x]\n",
    "\n",
    "  And these are wrong:\n",
    "\n",
    "        t.append([x])             # WRONG!\n",
    "        t = t.append(x)           # WRONG!\n",
    "        t + [x]                   # WRONG!\n",
    "        t = t + x                 # WRONG!\n",
    "\n",
    "    Try out each of these examples in interactive mode to make sure you understand what they do. Notice that only the last one causes a runtime error; the other three are legal, but they do the wrong thing.\n",
    "\n",
    "3. Make copies to avoid aliasing.\n",
    "\n",
    "    If you want to use a method like sort that modiﬁes the argument, but you need to keep the original list as well, you can make a copy.\n",
    "\n",
    "        >>> t = [3, 1, 2]\n",
    "        >>> t2 = t[:]\n",
    "        >>> t2.sort()\n",
    "        >>> t\n",
    "        [3, 1, 2]\n",
    "        >>> t2\n",
    "        [1, 2, 3]\n",
    "\n",
    "  In this example you could also use the built-in function `sorted`, which returns a new, sorted list and leaves the original alone.\n",
    "\n",
    "        >>> t2 = sorted(t)\n",
    "        >>> t\n",
    "        [3, 1, 2]\n",
    "        >>> t2\n",
    "        [1, 2, 3]"
   ]
  },
  {
   "cell_type": "markdown",
   "metadata": {
    "collapsed": false
   },
   "source": [
    "## 10.14 Glossary\n",
    "\n",
    "**list:** A sequence of values.\n",
    "\n",
    "**element:** One of the values in a list (or other sequence), also called items.\n",
    "\n",
    "**nested list:** A list that is an element of another list.\n",
    "\n",
    "**accumulator:** A variable used in a loop to add up or accumulate a result.\n",
    "\n",
    "**augmented assignment:** A statement that updates the value of a variable using an operator like `+=`.\n",
    "\n",
    "**reduce:** A processing pattern that traverses a sequence and accumulates the elements into a single result.\n",
    "\n",
    "**map:** A processing pattern that traverses a sequence and performs an operation on each element.\n",
    "\n",
    "**ﬁlter:** A processing pattern that traverses a list and selects the elements that satisfy some criterion.\n",
    "\n",
    "**object:** Something a variable can refer to. An object has a type and a value.\n",
    "\n",
    "**equivalent:** Having the same value.\n",
    "\n",
    "**identical:** Being the same object (which implies equivalence).\n",
    "\n",
    "**reference:** The association between a variable and its value.\n",
    "\n",
    "**aliasing:** A circumstance where two or more variables refer to the same object.\n",
    "\n",
    "**delimiter:** A character or string used to indicate where a string should be split."
   ]
  },
  {
   "cell_type": "markdown",
   "metadata": {
    "collapsed": false
   },
   "source": [
    "## 10.15 Exercises\n",
    "\n",
    "You can download solutions to these exercises from http://thinkpython2.com/code/list_exercises.py.\n",
    "\n",
    "**Exercise 10.1.** Write a function called `nested_sum` that takes a list of lists of integers and adds up the elements from all of the nested lists. For example:\n",
    "\n",
    "    >>> t = [[1, 2], [3], [4, 5, 6]]\n",
    "    >>> nested_sum(t)\n",
    "    21"
   ]
  },
  {
   "cell_type": "code",
   "execution_count": 0,
   "metadata": {
    "collapsed": false
   },
   "outputs": [
   ],
   "source": [
   ]
  },
  {
   "cell_type": "markdown",
   "metadata": {
    "collapsed": false
   },
   "source": [
    "**Exercise 10.2.** Write a function called `cumsum` that takes a list of numbers and returns the cumulative sum; that is, a new list where the $i$th element is the sum of the ﬁrst $i + 1$ elements from the original list. For example:\n",
    "\n",
    "    >>> t = [1, 2, 3]\n",
    "    >>> cumsum(t)\n",
    "    [1, 3, 6]"
   ]
  },
  {
   "cell_type": "code",
   "execution_count": 0,
   "metadata": {
    "collapsed": false
   },
   "outputs": [
   ],
   "source": [
   ]
  },
  {
   "cell_type": "markdown",
   "metadata": {
    "collapsed": false
   },
   "source": [
    "**Exercise 10.3.** Write a function called `middle` that takes a list and returns a new list that contains all but the ﬁrst and last elements. For example:\n",
    "\n",
    "    >>> t = [1, 2, 3, 4]\n",
    "    >>> middle(t)\n",
    "    [2, 3]"
   ]
  },
  {
   "cell_type": "code",
   "execution_count": 0,
   "metadata": {
    "collapsed": false
   },
   "outputs": [
   ],
   "source": [
   ]
  },
  {
   "cell_type": "markdown",
   "metadata": {
    "collapsed": false
   },
   "source": [
    "**Exercise 10.4.** Write a function called `chop` that takes a list, modiﬁes it by removing the ﬁrst and last elements, and returns `None`. For example:\n",
    "\n",
    "    >>> t = [1, 2, 3, 4]\n",
    "    >>> chop(t)\n",
    "    >>> t [2, 3]"
   ]
  },
  {
   "cell_type": "code",
   "execution_count": 0,
   "metadata": {
    "collapsed": false
   },
   "outputs": [
   ],
   "source": [
   ]
  },
  {
   "cell_type": "markdown",
   "metadata": {
    "collapsed": false
   },
   "source": [
    "**Exercise 10.5.** Write a function called `is_sorted` that takes a list as a parameter and returns `True` if the list is sorted in ascending order and `False` otherwise. For example:\n",
    "\n",
    "    >>> is_sorted([1, 2, 2])\n",
    "    True\n",
    "    >>> is_sorted(['b', 'a'])\n",
    "    False"
   ]
  },
  {
   "cell_type": "code",
   "execution_count": 0,
   "metadata": {
    "collapsed": false
   },
   "outputs": [
   ],
   "source": [
   ]
  },
  {
   "cell_type": "markdown",
   "metadata": {
    "collapsed": false
   },
   "source": [
    "**Exercise 10.6.** Two words are anagrams if you can rearrange the letters from one to spell the other. Write a function called `is_anagram` that takes two strings and returns `True` if they are anagrams."
   ]
  },
  {
   "cell_type": "code",
   "execution_count": 0,
   "metadata": {
    "collapsed": false
   },
   "outputs": [
   ],
   "source": [
   ]
  },
  {
   "cell_type": "markdown",
   "metadata": {
    "collapsed": false
   },
   "source": [
    "**Exercise 10.7.** Write a function called `has_duplicates` that takes a list and returns `True` if there is any element that appears more than once. It should not modify the original list."
   ]
  },
  {
   "cell_type": "code",
   "execution_count": 0,
   "metadata": {
    "collapsed": false
   },
   "outputs": [
   ],
   "source": [
   ]
  },
  {
   "cell_type": "markdown",
   "metadata": {
    "collapsed": false
   },
   "source": [
    "**Exercise 10.8.** This exercise pertains to the so-called Birthday Paradox, which you can read about at http://en.wikipedia.org/wiki/Birthday_paradox.\n",
    "\n",
    "If there are 23 students in your class, what are the chances that two of you have the same birthday? You can estimate this probability by generating random samples of 23 birthdays and checking for matches. Hint: you can generate random birthdays with the `randint` function in the `random` module.\n",
    "\n",
    "You can download my solution from http://thinkpython2.com/code/birthday.py."
   ]
  },
  {
   "cell_type": "code",
   "execution_count": 0,
   "metadata": {
    "collapsed": false
   },
   "outputs": [
   ],
   "source": [
   ]
  },
  {
   "cell_type": "markdown",
   "metadata": {
    "collapsed": false
   },
   "source": [
    "**Exercise 10.9.** Write a function that reads the ﬁle `words.txt` and builds a list with one element per word. Write two versions of this function, one using the `append` method and the other using the idiom `t = t + [x]`. Which one takes longer to run? Why?\n",
    "\n",
    "Solution: http://thinkpython2.com/code/wordlist.py."
   ]
  },
  {
   "cell_type": "code",
   "execution_count": 0,
   "metadata": {
    "collapsed": false
   },
   "outputs": [
   ],
   "source": [
   ]
  },
  {
   "cell_type": "markdown",
   "metadata": {
    "collapsed": false
   },
   "source": [
    "**Exercise 10.10.** To check whether a word is in the word list, you could use the `in` operator, but it would be slow because it searches through the words in order.\n",
    "\n",
    "Because the words are in alphabetical order, we can speed things up with a bisection search (also known as binary search), which is similar to what you do when you look a word up in the dictionary. You start in the middle and check to see whether the word you are looking for comes before the word in the middle of the list. If so, you search the ﬁrst half of the list the same way. Otherwise you search the second half.\n",
    "\n",
    "Either way, you cut the remaining search space in half. If the word list has 113,809 words, it will take about 17 steps to ﬁnd the word or conclude that it’s not there.\n",
    "\n",
    "Write a function called `in_bisect` that takes a sorted list and a target value and returns the index of the value in the list if it’s there, or `None` if it’s not.\n",
    "\n",
    "Or you could read the documentation of the `bisect` module and use that! Solution: http://thinkpython2.com/code/inlist.py."
   ]
  },
  {
   "cell_type": "code",
   "execution_count": 0,
   "metadata": {
    "collapsed": false
   },
   "outputs": [
   ],
   "source": [
   ]
  },
  {
   "cell_type": "markdown",
   "metadata": {
    "collapsed": false
   },
   "source": [
    "**Exercise 10.11.** Two words are a “reverse pair” if each is the reverse of the other. Write a program that ﬁnds all the reverse pairs in the word list. Solution: http://thinkpython2.com/code/reverse_pair.py."
   ]
  },
  {
   "cell_type": "code",
   "execution_count": 0,
   "metadata": {
    "collapsed": false
   },
   "outputs": [
   ],
   "source": [
   ]
  },
  {
   "cell_type": "markdown",
   "metadata": {
    "collapsed": false
   },
   "source": [
    "**Exercise 10.12.** Two words “interlock” if taking alternating letters from each forms a new word. For example, “shoe” and “cold” interlock to form “schooled”. Solution: http://thinkpython2.com/code/interlock.py. Credit: This exercise is inspired by an example at http://puzzlers.org.\n",
    "\n",
    "1. Write a program that ﬁnds all pairs of words that interlock. Hint: don’t enumerate all pairs!\n",
    "\n",
    "2. Can you ﬁnd any words that are three-way interlocked; that is, every third letter forms a word, starting from the ﬁrst, second or third?"
   ]
  },
  {
   "cell_type": "code",
   "execution_count": 0,
   "metadata": {
    "collapsed": false
   },
   "outputs": [
   ],
   "source": [
   ]
  }
 ],
 "metadata": {
  "kernelspec": {
   "display_name": "Python 3 (Anaconda)",
   "language": "python",
   "name": "anaconda3"
  },
  "language_info": {
   "codemirror_mode": {
    "name": "ipython",
    "version": 3
   },
   "file_extension": ".py",
   "mimetype": "text/x-python",
   "name": "python",
   "nbconvert_exporter": "python",
   "pygments_lexer": "ipython3",
   "version": "3.5.4"
  }
 },
 "nbformat": 4,
 "nbformat_minor": 0
}