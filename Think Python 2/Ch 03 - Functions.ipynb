{
 "cells": [
  {
   "cell_type": "markdown",
   "metadata": {
    "collapsed": false
   },
   "source": [
    "#### The material in this document is copied from or based on the the book...\n",
    "\n",
    "# Think Python\n",
    "## How to Think Like a Computer Scientist\n",
    "Second edition, Version 2.2.20\n",
    "\n",
    "##### Allen Downey\n",
    "\n",
    "##### Green Tea Press\n",
    "\n",
    "Needham, Massachusetts\n",
    "\n",
    "\n",
    "\n",
    "\n"
   ]
  },
  {
   "cell_type": "markdown",
   "metadata": {
    "collapsed": false
   },
   "source": [
    "Copyright © 2015 Allen Downey.\n",
    "\n",
    "Green Tea Press 9 Washburn Ave Needham MA 02492\n",
    "\n",
    "Permission is granted to copy, distribute, and/or modify this document under the terms of the Creative Commons Attribution-NonCommercial 3.0 Unported License, which is available at http://creativecommons.org/licenses/by-nc/3.0/.\n",
    "\n",
    "The original form of this book is $\\LaTeX$ source code. Compiling this $\\LaTeX$ source has the effect of generating a device-independent representation of a textbook, which can be converted to other formats and printed.\n",
    "\n",
    "The $\\LaTeX$ source for this book is available from http://www.thinkpython2.com"
   ]
  },
  {
   "cell_type": "markdown",
   "metadata": {
    "collapsed": false
   },
   "source": [
    "# Chapter 3: Functions\n",
    "\n",
    "In the context of programming, a **function** is a named sequence of statements that performs a computation. When you deﬁne a function, you specify the name and the sequence of statements. Later, you can “call” the function by name.\n"
   ]
  },
  {
   "cell_type": "markdown",
   "metadata": {
    "collapsed": false
   },
   "source": [
    "## 3.1 Function calls\n",
    "\n",
    "We have already seen one example of a **function call**:\n",
    "\n",
    "    >>> type(42)\n",
    "    <class 'int'> \n",
    "    \n",
    "The name of the function is type. The expression in parentheses is called the **argument** of the function. The result, for this function, is the type of the argument.\n",
    "\n",
    "It is common to say that a function “takes” an argument and “returns” a result. The result is also called the **return value**.\n",
    "\n",
    "Python provides functions that convert values from one type to another. The int function takes any value and converts it to an integer, if it can, or complains otherwise:\n",
    "\n",
    "    >>> int('32') \n",
    "    32\n",
    "    >>> int('Hello') \n",
    "    ValueError: invalid literal for int(): Hello \n",
    "    \n",
    "`int` can convert ﬂoating-point values to integers, but it doesn’t round off; it chops off the fraction part:\n",
    "\n",
    "    >>> int(3.99999)\n",
    "    3\n",
    "    >>> int(-2.3)\n",
    "    -2\n",
    "    \n",
    "`float` converts integers and strings to ﬂoating-point numbers:\n",
    "\n",
    "    >>> float(32)\n",
    "    32.0\n",
    "    >>> float('3.14159')\n",
    "    3.14159\n",
    "    \n",
    "Finally, str converts its argument to a string:\n",
    "\n",
    "    >>> str(32)\n",
    "    '32'\n",
    "    >>> str(3.14159)\n",
    "    '3.14159'"
   ]
  },
  {
   "cell_type": "markdown",
   "metadata": {
    "collapsed": false
   },
   "source": [
    "*Try your own function practice using `int`, `str`, and `float` below. Make sure you press [shift]-[return] to execute the code cell.*"
   ]
  },
  {
   "cell_type": "code",
   "execution_count": 0,
   "metadata": {
    "collapsed": false
   },
   "outputs": [
   ],
   "source": [
   ]
  },
  {
   "cell_type": "markdown",
   "metadata": {
    "collapsed": false
   },
   "source": [
    "## 3.2 Math functions\n",
    "\n",
    "Python has a math module that provides most of the familiar mathematical functions. A module is a ﬁle that contains a collection of related functions.\n",
    "\n",
    "Before we can use the functions in a module, we have to import it with an **import statement**:\n",
    "\n",
    "    >>> import math\n",
    "\n",
    "This statement creates a **module object** named `math`. If you display the module object, you get some information about it:\n",
    "\n",
    "    >>> math \n",
    "    <module 'math' (built-in)>\n",
    "\n",
    "The module object contains the functions and variables deﬁned in the module. To access one of the functions, you have to specify the name of the module and the name of the function, separated by a dot (also known as a period). This format is called **dot notation**.\n",
    "\n",
    "    >>> ratio = signal_power / noise_power\n",
    "    >>> decibels = 10 * math.log10(ratio)\n",
    "    >>> radians = 0.7\n",
    "    >>> height = math.sin(radians)\n",
    "\n",
    "The ﬁrst example uses `math.log10` to compute a signal-to-noise ratio in decibels (assuming that `signal_power` and `noise_power` are deﬁned). The `math` module also provides `log`, which computes logarithms base $e$.\n",
    "\n",
    "The second example ﬁnds the sine of `radians`. The name of the variable is a hint that `sin` and the other trigonometric functions (`cos`, `tan`, etc.) take arguments in radians. To convert from degrees to radians, divide by 180 and multiply by $\\pi$:\n",
    "\n",
    "    >>> degrees = 45\n",
    "    >>> radians = degrees / 180.0 * math.pi\n",
    "    >>> math.sin(radians)\n",
    "    0.707106781187\n",
    "\n",
    "The expression `math.pi` gets the variable `pi` from the `math` module. Its value is a ﬂoating-point approximation of $\\pi$, accurate to about 15 digits.\n",
    "\n",
    "If you know trigonometry, you can check the previous result by comparing it to the square root of two divided by two:\n",
    "\n",
    "    >>> math.sqrt(2) / 2.0\n",
    "    0.707106781187"
   ]
  },
  {
   "cell_type": "markdown",
   "metadata": {
    "collapsed": false
   },
   "source": [
    "*Try your own `math` practice below. Make sure you press [shift]-[return] to execute the code cell.*"
   ]
  },
  {
   "cell_type": "code",
   "execution_count": 0,
   "metadata": {
    "collapsed": false
   },
   "outputs": [
   ],
   "source": [
   ]
  },
  {
   "cell_type": "markdown",
   "metadata": {
    "collapsed": false
   },
   "source": [
    "## 3.3 Composition\n",
    "\n",
    "So far, we have looked at the elements of a program--variables, expressions, and statements--in isolation, without talking about how to combine them.\n",
    "\n",
    "One of the most useful features of programming languages is their ability to take small building blocks and **compose** them. For example, the argument of a function can be any kind of expression, including arithmetic operators:\n",
    "\n",
    "    x = math.sin(degrees / 360.0 * 2 * math.pi)\n",
    "    \n",
    "And even function calls:\n",
    "\n",
    "    x = math.exp(math.log(x+1)) \n",
    "    \n",
    "Almost anywhere you can put a value, you can put an arbitrary expression, with one exception: the left side of an assignment statement has to be a variable name. Any other expression on the left side is a syntax error (we will see exceptions to this rule later).\n",
    "\n",
    "    >>> minutes = hours * 60                 # right\n",
    "    >>> hours * 60 = minutes                 # wrong! \n",
    "    SyntaxError: can't assign to operator"
   ]
  },
  {
   "cell_type": "markdown",
   "metadata": {
    "collapsed": false
   },
   "source": [
    "*Try your own composition practice below. Make sure you press [shift]-[return] to execute the code cell.*"
   ]
  },
  {
   "cell_type": "code",
   "execution_count": 0,
   "metadata": {
    "collapsed": false
   },
   "outputs": [
   ],
   "source": [
   ]
  },
  {
   "cell_type": "markdown",
   "metadata": {
    "collapsed": false
   },
   "source": [
    "## 3.4 Adding new functions\n",
    "\n",
    "So far, we have only been using the functions that come with Python, but it is also possible to add new functions. A **function deﬁnition** speciﬁes the name of a new function and the sequence of statements that run when the function is called.\n",
    "\n",
    "Here is an example: \n",
    "\n",
    "    def print_lyrics():\n",
    "        print(\"I'm a lumberjack, and I'm okay.\")\n",
    "        print(\"I sleep all night and I work all day.\")\n",
    "        \n",
    "`def` is a keyword that indicates that this is a function deﬁnition. The name of the function is `print_lyrics`. The rules for function names are the same as for variable names: letters, numbers and underscore are legal, but the ﬁrst character can’t be a number. You can’t use a keyword as the name of a function, and you should avoid having a variable and a function with the same name.\n",
    "\n",
    "The empty parentheses after the name indicate that this function doesn’t take any arguments.\n",
    "\n",
    "The ﬁrst line of the function deﬁnition is called the **header**; the rest is called the **body**. The header has to end with a colon and the body has to be indented. By convention, indentation is always four spaces. The body can contain any number of statements.\n",
    "\n",
    "The strings in the print statements are enclosed in double quotes. Single quotes and double quotes do the same thing; most people use single quotes except in cases like this where a single quote (which is also an apostrophe) appears in the string.\n",
    "\n",
    "All quotation marks (single and double) must be “straight quotes”, usually located next to Enter on the keyboard. “Curly quotes”, like the ones in this sentence, are not legal in Python.\n",
    "\n",
    "If you type a function deﬁnition in interactive mode, the interpreter prints dots (`...`) to let you know that the deﬁnition isn’t complete:\n",
    "\n",
    "    >>> def print_lyrics():\n",
    "    ...     print(\"I'm a lumberjack, and I'm okay.\")\n",
    "    ...     print(\"I sleep all night and I work all day.\")\n",
    "    ...\n",
    "\n",
    "To end the function, you have to enter an empty line.\n",
    "\n",
    "Deﬁning a function creates a **function object**, which has type function:\n",
    "\n",
    "    >>> print(print_lyrics) \n",
    "    <function print_lyrics at 0xb7e99e9c>\n",
    "    >>> type(print_lyrics) \n",
    "    <class 'function'>\n",
    "\n",
    "The syntax for calling the new function is the same as for built-in functions:\n",
    "\n",
    "    >>> print_lyrics()\n",
    "    I'm a lumberjack, and I'm okay.\n",
    "    I sleep all night and I work all day.\n",
    "\n",
    "Once you have deﬁned a function, you can use it inside another function. For example, to repeat the previous refrain, we could write a function called `repeat_lyrics`:\n",
    "\n",
    "    def repeat_lyrics():\n",
    "        print_lyrics()\n",
    "        print_lyrics()\n",
    "\n",
    "And then call `repeat_lyrics`:\n",
    "\n",
    "    >>> repeat_lyrics()\n",
    "    I'm a lumberjack, and I'm okay.\n",
    "    I sleep all night and I work all day.\n",
    "    I'm a lumberjack, and I'm okay.\n",
    "    I sleep all night and I work all day.\n",
    "\n",
    "But that’s not really how the song goes."
   ]
  },
  {
   "cell_type": "markdown",
   "metadata": {
    "collapsed": false
   },
   "source": [
    "## 3.5 Deﬁnitions and uses\n",
    "\n",
    "Pulling together the code fragments from the previous section, the whole program looks like this:\n",
    "\n",
    "    def print_lyrics():\n",
    "        print(\"I'm a lumberjack, and I'm okay.\")\n",
    "        print(\"I sleep all night and I work all day.\")\n",
    "    \n",
    "    def repeat_lyrics():\n",
    "        print_lyrics()\n",
    "        print_lyrics()\n",
    "    \n",
    "    repeat_lyrics()\n",
    "\n",
    "This program contains two function deﬁnitions: `print_lyrics` and `repeat_lyrics`. Function deﬁnitions get executed just like other statements, but the effect is to create function objects. The statements inside the function do not run until the function is called, and the function deﬁnition generates no output.\n",
    "\n",
    "As you might expect, you have to create a function before you can run it. In other words, the function deﬁnition has to run before the function gets called.\n",
    "\n",
    "As an exercise, move the last line of this program to the top, so the function call appears before the deﬁnitions. Run the program and see what error message you get.\n",
    "\n",
    "Now move the function call back to the bottom and move the deﬁnition of `print_lyrics` after the deﬁnition of `repeat_lyrics`. What happens when you run this program?"
   ]
  },
  {
   "cell_type": "code",
   "execution_count": 0,
   "metadata": {
    "collapsed": false
   },
   "outputs": [
   ],
   "source": [
   ]
  },
  {
   "cell_type": "markdown",
   "metadata": {
    "collapsed": false
   },
   "source": [
    "## 3.6 Flow of execution\n",
    "\n",
    "To ensure that a function is deﬁned before its ﬁrst use, you have to know the order statements run in, which is called the **ﬂow of execution**.\n",
    "\n",
    "Execution always begins at the ﬁrst statement of the program. Statements are run one at a time, in order from top to bottom.\n",
    "\n",
    "Function deﬁnitions do not alter the ﬂow of execution of the program, but remember that statements inside the function don’t run until the function is called.\n",
    "\n",
    "A function call is like a detour in the ﬂow of execution. Instead of going to the next statement, the ﬂow jumps to the body of the function, runs the statements there, and then comes back to pick up where it left off.\n",
    "\n",
    "That sounds simple enough, until you remember that one function can call another. While in the middle of one function, the program might have to run the statements in another function. Then, while running that new function, the program might have to run yet another function!\n",
    "\n",
    "Fortunately, Python is good at keeping track of where it is, so each time a function completes, the program picks up where it left off in the function that called it. When it gets to the end of the program, it terminates.\n",
    "\n",
    "In summary, when you read a program, you don’t always want to read from top to bottom. Sometimes it makes more sense if you follow the ﬂow of execution."
   ]
  },
  {
   "cell_type": "markdown",
   "metadata": {
    "collapsed": false
   },
   "source": [
    "## 3.7 Parameters and arguments\n",
    "\n",
    "Some of the functions we have seen require arguments. For example, when you call math.sin you pass a number as an argument. Some functions take more than one argument: math.pow takes two, the base and the exponent.\n",
    "\n",
    "Inside the function, the arguments are assigned to variables called **parameters**. Here is a deﬁnition for a function that takes an argument:\n",
    "\n",
    "    def print_twice(bruce):\n",
    "        print(bruce)\n",
    "        print(bruce)\n",
    "\n",
    "This function assigns the argument to a parameter named `bruce`. When the function is called, it prints the value of the parameter (whatever it is) twice.\n",
    "\n",
    "This function works with any value that can be printed.\n",
    "\n",
    "    >>> print_twice('Spam')\n",
    "    Spam\n",
    "    Spam\n",
    "    >>> print_twice(42)\n",
    "    42\n",
    "    42\n",
    "    >>> print_twice(math.pi)\n",
    "    3.14159265359\n",
    "    3.14159265359\n",
    "\n",
    "The same rules of composition that apply to built-in functions also apply to programmerdeﬁned functions, so we can use any kind of expression as an argument for `print_twice`:\n",
    "\n",
    "    >>> print_twice('Spam '*4)\n",
    "    Spam Spam Spam Spam\n",
    "    Spam Spam Spam Spam\n",
    "    >>> print_twice(math.cos(math.pi))\n",
    "    -1.0\n",
    "    -1.0\n",
    "\n",
    "The argument is evaluated before the function is called, so in the examples the expressions `'Spam '*4` and `math.cos(math.pi)` are only evaluated once.\n",
    "\n",
    "You can also use a variable as an argument:\n",
    "\n",
    "    >>> michael = 'Eric, the half a bee.'\n",
    "    >>> print_twice(michael)\n",
    "    Eric, the half a bee.\n",
    "    Eric, the half a bee.\n",
    "\n",
    "The name of the variable we pass as an argument (`michael`) has nothing to do with the name of the parameter (`bruce`). It doesn’t matter what the value was called back home (in the caller); here in `print_twice`, we call everybody `bruce`."
   ]
  },
  {
   "cell_type": "markdown",
   "metadata": {
    "collapsed": false
   },
   "source": [
    "*Try some of the above examples in the code cells below. Go ahead and modify them a little if desired.*"
   ]
  },
  {
   "cell_type": "code",
   "execution_count": 0,
   "metadata": {
    "collapsed": false
   },
   "outputs": [
   ],
   "source": [
   ]
  },
  {
   "cell_type": "code",
   "execution_count": 0,
   "metadata": {
    "collapsed": false
   },
   "outputs": [
   ],
   "source": [
   ]
  },
  {
   "cell_type": "markdown",
   "metadata": {
    "collapsed": false
   },
   "source": [
    "## 3.8 Variables and parameters are local\n",
    "\n",
    "When you create a variable inside a function, it is **local**, which means that it only exists inside the function. For example:\n",
    "\n",
    "    def cat_twice(part1, part2):\n",
    "        cat = part1 + part2\n",
    "        print_twice(cat)\n",
    "\n",
    "This function takes two arguments, concatenates them, and prints the result twice. Here is an example that uses it:\n",
    "\n",
    "    >>> line1 = 'Bing tiddle '\n",
    "    >>> line2 = 'tiddle bang.'\n",
    "    >>> cat_twice(line1, line2)\n",
    "    Bing tiddle tiddle bang.\n",
    "    Bing tiddle tiddle bang.\n",
    "\n",
    "When `cat_twice` terminates, the variable `cat` is destroyed. If we try to print it, we get an exception:\n",
    "\n",
    "    >>> print(cat)\n",
    "    NameError: name 'cat' is not defined\n",
    "\n",
    "Parameters are also local. For example, outside `print_twice`, there is no such thing as `bruce`."
   ]
  },
  {
   "cell_type": "markdown",
   "metadata": {
    "collapsed": false
   },
   "source": [
    "## 3.9 Stack diagrams\n",
    "\n",
    "To keep track of which variables can be used where, it is sometimes useful to draw a stack diagram. Like state diagrams, **stack diagrams** show the value of each variable, but they also show the function each variable belongs to.\n",
    "\n",
    "Each function is represented by a **frame**. A frame is a box with the name of a function beside it and the parameters and variables of the function inside it. The stack diagram for the previous example is shown in Figure 3.1.\n",
    "\n",
    "The frames are arranged in a stack that indicates which function called which, and so on. In this example, `print_twice` was called by `cat_twice`, and `cat_twice` was called by `__main__`, which is a special name for the topmost frame. When you create a variable outside of any function, it belongs to `__main__`.\n",
    "\n",
    "Each parameter refers to the same value as its corresponding argument. So, `part1` has the same value as `line1`, `part2` has the same value as `line2`, and `bruce` has the same value as `cat`.\n",
    "\n",
    "If an error occurs during a function call, Python prints the name of the function, the name of the function that called it, and the name of the function that called that, all the way back to `__main__`.\n",
    "\n",
    "For example, if you try to access `cat` from within `print_twice`, you get a `NameError:` \n",
    "\n",
    "    Traceback (innermost last):\n",
    "      File \"test.py\", line 13, in __main__\n",
    "        cat_twice(line1, line2) \n",
    "      File \"test.py\", line 5, in cat_twice\n",
    "        print_twice(cat)\n",
    "      File \"test.py\", line 9, in print_twice\n",
    "        print(cat)\n",
    "    NameError: name 'cat' is not defined\n",
    "\n",
    "This list of functions is called a **traceback**. It tells you what program ﬁle the error occurred in, and what line, and what functions were executing at the time. It also shows the line of code that caused the error.\n",
    "\n",
    "The order of the functions in the traceback is the same as the order of the frames in the stack diagram. The function that is currently running is at the bottom."
   ]
  },
  {
   "attachments": {
   },
   "cell_type": "markdown",
   "metadata": {
    "collapsed": false
   },
   "source": [
    "![stack.png](stack.png)\n",
    "\n",
    "\n",
    "Figure 3.1. Stack diagram"
   ]
  },
  {
   "cell_type": "markdown",
   "metadata": {
    "collapsed": false
   },
   "source": [
    "## 3.10 Fruitful functions and void functions\n",
    "\n",
    "Some of the functions we have used, such as the `math` functions, return results; for lack of a better name, I call them **fruitful functions**. Other functions, like `print_twice`, perform an action but don’t return a value. They are called **void functions**.\n",
    "\n",
    "When you call a fruitful function, you almost always want to do something with the result; for example, you might assign it to a variable or use it as part of an expression:\n",
    "\n",
    "    x = math.cos(radians)\n",
    "    golden = (math.sqrt(5) + 1) / 2\n",
    "\n",
    "When you call a function in interactive mode, Python displays the result:\n",
    "\n",
    "    >>> math.sqrt(5)\n",
    "    2.2360679774997898\n",
    "\n",
    "But in a script, if you call a fruitful function all by itself, the return value is lost forever!\n",
    "\n",
    "    math.sqrt(5)\n",
    "\n",
    "This script computes the square root of 5, but since it doesn’t store or display the result, it is not very useful.\n",
    "\n",
    "Void functions might display something on the screen or have some other effect, but they don’t have a return value. If you assign the result to a variable, you get a special value called `None`.\n",
    "\n",
    "    >>> result = print_twice('Bing') \n",
    "    Bing Bing\n",
    "    >>> print(result)\n",
    "    None\n",
    "\n",
    "The value `None` is not the same as the string `'None'`. It is a special value that has its own type:\n",
    "\n",
    "    >>> type(None)\n",
    "    <class 'NoneType'>\n",
    "\n",
    "The functions we have written so far are all void. We will start writing fruitful functions in a few chapters."
   ]
  },
  {
   "cell_type": "markdown",
   "metadata": {
    "collapsed": false
   },
   "source": [
    "## 3.11 Why functions?\n",
    "\n",
    "It may not be clear why it is worth the trouble to divide a program into functions. There are several reasons:\n",
    "\n",
    "Creating a new function gives you an opportunity to name a group of statements, which makes your program easier to read and debug.\n",
    "\n",
    "* Functions can make a program smaller by eliminating repetitive code. Later, if you make a change, you only have to make it in one place.\n",
    "\n",
    "* Dividing a long program into functions allows you to debug the parts one at a time and then assemble them into a working whole.\n",
    "\n",
    "* Well-designed functions are often useful for many programs. Once you write and debug one, you can reuse it."
   ]
  },
  {
   "cell_type": "markdown",
   "metadata": {
    "collapsed": false
   },
   "source": [
    "## 3.12 Debugging\n",
    "\n",
    "One of the most important skills you will acquire is **debugging**. Although it can be frustrating, debugging is one of the most intellectually rich, challenging, and interesting parts of programming.\n",
    "\n",
    "In some ways debugging is like detective work. You are confronted with clues and you have to infer the processes and events that led to the results you see.\n",
    "\n",
    "Debugging is also like an experimental science. Once you have an idea about what is going wrong, you modify your program and try again. If your hypothesis was correct, you can predict the result of the modiﬁcation, and you take a step closer to a working program. If your hypothesis was wrong, you have to come up with a new one. As Sherlock Holmes pointed out, “When you have eliminated the impossible, whatever remains, however improbable, must be the truth.” (A. Conan Doyle, *The Sign of Four*)\n",
    "\n",
    "For some people, programming and debugging are the same thing. That is, programming is the process of gradually debugging a program until it does what you want. The idea is that you should start with a working program and make small modiﬁcations, debugging them as you go.\n",
    "\n",
    "For example, Linux is an operating system that contains millions of lines of code, but it started out as a simple program Linus Torvalds used to explore the Intel 80386 chip. According to Larry Greenﬁeld, “One of Linus’s earlier projects was a program that would switch between printing AAAA and BBBB. This later evolved to Linux.” (*The Linux Users’ Guide* Beta Version 1)."
   ]
  },
  {
   "cell_type": "markdown",
   "metadata": {
    "collapsed": false
   },
   "source": [
    "## 3.13 Glossary\n",
    "\n",
    "**function:** A named sequence of statements that performs some useful operation. Functions may or may not take arguments and may or may not produce a result.\n",
    "\n",
    "**function deﬁnition:** A statement that creates a new function, specifying its name, parameters, and the statements it contains.\n",
    "\n",
    "**function object:** A value created by a function deﬁnition. The name of the function is a variable that refers to a function object.\n",
    "\n",
    "**header:** The ﬁrst line of a function deﬁnition.\n",
    "\n",
    "**body:** The sequence of statements inside a function deﬁnition.\n",
    "\n",
    "**parameter:** A name used inside a function to refer to the value passed as an argument.\n",
    "\n",
    "**function call:** A statement that runs a function. It consists of the function name followed by an argument list in parentheses.\n",
    "\n",
    "**argument:** A value provided to a function when the function is called. This value is assigned to the corresponding parameter in the function.\n",
    "\n",
    "**local variable:** A variable deﬁned inside a function. A local variable can only be used inside its function.\n",
    "\n",
    "**return value:** The result of a function. If a function call is used as an expression, the return value is the value of the expression.\n",
    "\n",
    "**fruitful function:** A function that returns a value.\n",
    "\n",
    "**void function:** A function that always returns `None`.\n",
    "\n",
    "**None:** A special value returned by void functions.\n",
    "\n",
    "**module:** A ﬁle that contains a collection of related functions and other deﬁnitions. \n",
    "\n",
    "**import statement:** A statement that reads a module ﬁle and creates a module object. \n",
    "\n",
    "**module object:** A value created by an import statement that provides access to the values deﬁned in a module.\n",
    "\n",
    "**dot notation:** The syntax for calling a function in another module by specifying the module name followed by a dot (period) and the function name.\n",
    "\n",
    "**composition:** Using an expression as part of a larger expression, or a statement as part of a larger statement.\n",
    "\n",
    "**ﬂow of execution:** The order statements run in.\n",
    "\n",
    "**stack diagram:** A graphical representation of a stack of functions, their variables, and the values they refer to.\n",
    "\n",
    "**frame:** A box in a stack diagram that represents a function call. It contains the local variables and parameters of the function.\n",
    "\n",
    "**traceback:** A list of the functions that are executing, printed when an exception occurs."
   ]
  },
  {
   "cell_type": "markdown",
   "metadata": {
    "collapsed": false
   },
   "source": [
    "## 3.14 Exercises\n",
    "\n",
    "**Exercise 3.1.** Write a function named `right_justify` that takes a string named `s` as a parameter and prints the string with enough leading spaces so that the last letter of the string is in column 70 of the display.\n",
    "\n",
    "    >>> right_justify('monty')\n",
    "                                                                         monty\n",
    "\n",
    "*Hint: Use string concatenation and repetition. Also, Python provides a built-in function called *`len`* that returns the length of a string, so the value of *`len('monty')`* is 5.*\n"
   ]
  },
  {
   "cell_type": "markdown",
   "metadata": {
    "collapsed": false
   },
   "source": [
    "*Use the following code cells to help answer question 3.1.*"
   ]
  },
  {
   "cell_type": "code",
   "execution_count": 0,
   "metadata": {
    "collapsed": false
   },
   "outputs": [
   ],
   "source": [
   ]
  },
  {
   "cell_type": "code",
   "execution_count": 0,
   "metadata": {
    "collapsed": false
   },
   "outputs": [
   ],
   "source": [
   ]
  },
  {
   "cell_type": "markdown",
   "metadata": {
    "collapsed": false
   },
   "source": [
    "**Exercise 3.2.** A function object is a value you can assign to a variable or pass as an argument. For example, `do_twice` is a function that takes a function object as an argument and calls it twice: \n",
    "\n",
    "    def do_twice(f):\n",
    "        f()\n",
    "        f()\n",
    "\n",
    "Here’s an example that uses `do_twice` to call a function named `print_spam` twice.\n",
    "\n",
    "    def print_spam():\n",
    "        print('spam')\n",
    "        do_twice(print_spam)\n",
    "\n",
    "1. Type this example into a script and test it.\n",
    "\n",
    "2. Modify `do_twice` so that it takes two arguments, a function object and a value, and calls the function twice, passing the value as an argument.\n",
    "\n",
    "3. Copy the deﬁnition of `print_twice` from earlier in this chapter to your script.\n",
    "\n",
    "4. Use the modiﬁed version of `do_twice` to call `print_twice` twice, passing `'spam'` as an argument.\n",
    "\n",
    "5. Deﬁne a new function called `do_four` that takes a function object and a value and calls the function four times, passing the value as a parameter. There should be only two statements in the body of this function, not four.\n",
    "\n",
    "*Solution: http://thinkpython2.com/code/do_four.py*"
   ]
  },
  {
   "cell_type": "markdown",
   "metadata": {
    "collapsed": false
   },
   "source": [
    "*Use the following code cells to help answer question 3.2.*"
   ]
  },
  {
   "cell_type": "code",
   "execution_count": 0,
   "metadata": {
    "collapsed": false
   },
   "outputs": [
   ],
   "source": [
   ]
  },
  {
   "cell_type": "code",
   "execution_count": 0,
   "metadata": {
    "collapsed": false
   },
   "outputs": [
   ],
   "source": [
   ]
  },
  {
   "cell_type": "code",
   "execution_count": 0,
   "metadata": {
    "collapsed": false
   },
   "outputs": [
   ],
   "source": [
   ]
  },
  {
   "cell_type": "code",
   "execution_count": 0,
   "metadata": {
    "collapsed": false
   },
   "outputs": [
   ],
   "source": [
   ]
  },
  {
   "cell_type": "code",
   "execution_count": 0,
   "metadata": {
    "collapsed": false
   },
   "outputs": [
   ],
   "source": [
   ]
  },
  {
   "cell_type": "markdown",
   "metadata": {
    "collapsed": false
   },
   "source": [
    "**Exercise 3.3.** Note: This exercise should be done using only the statements and other features we have learned so far.\n",
    "\n",
    "1\\. Write a function that draws a grid like the following:\n",
    "\n",
    "```\n",
    "+ - - - - + - - - - + \n",
    "|         |         | \n",
    "|         |         | \n",
    "|         |         | \n",
    "|         |         | \n",
    "+ - - - - + - - - - + \n",
    "|         |         | \n",
    "|         |         | \n",
    "|         |         | \n",
    "|         |         | \n",
    "+ - - - - + - - - - +\n",
    "```\n",
    "\n",
    "Hint: to print more than one value on a line, you can print a comma-separated sequence of values:\n",
    "\n",
    "    print('+', '-')\n",
    "\n",
    "By default, `print` advances to the next line, but you can override that behavior and put a space at the end, like this:\n",
    "\n",
    "    print('+', end=' ')\n",
    "    print('-')\n",
    "\n",
    "The output of these statements is `'+ -'`.\n",
    "\n",
    "A `print` statement with no argument ends the current line and goes to the next line.\n",
    "\n",
    "\n",
    "2\\. Write a function that draws a similar grid with four rows and four columns.\n",
    "\n",
    "Solution: http://thinkpython2.com/code/grid.py. \n",
    "\n",
    "*Credit: This exercise is based on an exercise in Oualline, *Practical C Programming*, Third Edition, O’Reilly Media, 1997.*"
   ]
  },
  {
   "cell_type": "markdown",
   "metadata": {
    "collapsed": false
   },
   "source": [
    "*Use the following code cells to help answer question 3.3.*"
   ]
  },
  {
   "cell_type": "code",
   "execution_count": 0,
   "metadata": {
    "collapsed": false
   },
   "outputs": [
   ],
   "source": [
   ]
  },
  {
   "cell_type": "code",
   "execution_count": 0,
   "metadata": {
    "collapsed": false
   },
   "outputs": [
   ],
   "source": [
   ]
  },
  {
   "cell_type": "code",
   "execution_count": 0,
   "metadata": {
    "collapsed": false
   },
   "outputs": [
   ],
   "source": [
   ]
  },
  {
   "cell_type": "code",
   "execution_count": 0,
   "metadata": {
    "collapsed": false
   },
   "outputs": [
   ],
   "source": [
   ]
  }
 ],
 "metadata": {
  "kernelspec": {
   "display_name": "Python 3 (Anaconda)",
   "language": "python",
   "name": "anaconda3"
  },
  "language_info": {
   "codemirror_mode": {
    "name": "ipython",
    "version": 3
   },
   "file_extension": ".py",
   "mimetype": "text/x-python",
   "name": "python",
   "nbconvert_exporter": "python",
   "pygments_lexer": "ipython3",
   "version": "3.5.5"
  }
 },
 "nbformat": 4,
 "nbformat_minor": 0
}