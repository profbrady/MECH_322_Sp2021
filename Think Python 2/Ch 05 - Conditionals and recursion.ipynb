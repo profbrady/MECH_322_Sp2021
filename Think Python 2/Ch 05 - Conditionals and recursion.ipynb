{
 "cells": [
  {
   "cell_type": "markdown",
   "metadata": {
    "collapsed": false
   },
   "source": [
    "#### The material in this document is copied from or based on the the book...\n",
    "\n",
    "# Think Python\n",
    "## How to Think Like a Computer Scientist\n",
    "Second edition, Version 2.2.20\n",
    "\n",
    "##### Allen Downey\n",
    "\n",
    "##### Green Tea Press\n",
    "\n",
    "Needham, Massachusetts\n",
    "\n",
    "\n",
    "\n",
    "\n"
   ]
  },
  {
   "cell_type": "markdown",
   "metadata": {
    "collapsed": false
   },
   "source": [
    "Copyright © 2015 Allen Downey.\n",
    "\n",
    "Green Tea Press 9 Washburn Ave Needham MA 02492\n",
    "\n",
    "Permission is granted to copy, distribute, and/or modify this document under the terms of the Creative Commons Attribution-NonCommercial 3.0 Unported License, which is available at http://creativecommons.org/licenses/by-nc/3.0/.\n",
    "\n",
    "The original form of this book is $\\LaTeX$ source code. Compiling this $\\LaTeX$ source has the effect of generating a device-independent representation of a textbook, which can be converted to other formats and printed.\n",
    "\n",
    "The $\\LaTeX$ source for this book is available from http://www.thinkpython2.com"
   ]
  },
  {
   "cell_type": "markdown",
   "metadata": {
    "collapsed": false
   },
   "source": [
    "# Chapter 5: Conditionals and recursion\n",
    "\n",
    "The main topic of this chapter is the `if` statement, which executes different code depending on the state of the program. But ﬁrst I want to introduce two new operators: ﬂoor division and modulus.\n"
   ]
  },
  {
   "cell_type": "markdown",
   "metadata": {
    "collapsed": false
   },
   "source": [
    "## 5.1 Floor division and modulus\n",
    "\n",
    "The ﬂoor division operator, `//`, divides two numbers and rounds down to an integer. For example, suppose the run time of a movie is 105 minutes. You might want to know how long that is in hours. Conventional division returns a ﬂoating-point number:\n",
    "\n",
    "    >>> minutes = 105\n",
    "    >>> minutes / 60\n",
    "    1.75\n",
    "\n",
    "But we don’t normally write hours with decimal points. Floor division returns the integer number of hours, dropping the fraction part:\n",
    "\n",
    "    >>> minutes = 105\n",
    "    >>> hours = minutes // 60\n",
    "    >>> hours 1\n",
    "\n",
    "To get the remainder, you could subtract off one hour in minutes:\n",
    "\n",
    "    >>> remainder = minutes - hours * 60\n",
    "    >>> remainder 45\n",
    "\n",
    "An alternative is to use the modulus operator, `%`, which divides two numbers and returns the remainder.\n",
    "\n",
    "    >>> remainder = minutes % 60\n",
    "    >>> remainder 45\n",
    "\n",
    "The modulus operator is more useful than it seems. For example, you can check whether one number is divisible by another--if `x % y` is zero, then `x` is divisible by `y`.\n",
    "\n",
    "Also, you can extract the right-most digit or digits from a number. For example, `x % 10` yields the right-most digit of `x` (in base 10). Similarly `x % 100` yields the last two digits.\n",
    "\n",
    "If you are using Python 2, division works differently. The division operator, `/`, performs ﬂoor division if both operands are integers, and ﬂoating-point division if either operand is a float."
   ]
  },
  {
   "cell_type": "markdown",
   "metadata": {
    "collapsed": false
   },
   "source": [
    "## 5.2 Boolean expressions\n",
    "\n",
    "A **boolean expression** is an expression that is either true or false. The following examples use the operator `==`, which compares two operands and produces `True` if they are equal and `False` otherwise:\n",
    "\n",
    "    >>> 5 == 5\n",
    "    True\n",
    "    >>> 5 == 6\n",
    "    False\n",
    "\n",
    "`True` and `False` are special values that belong to the type `bool`; they are not strings:\n",
    "\n",
    "    >>> type(True)\n",
    "    <class 'bool'>\n",
    "    \n",
    "    >>> type(False)\n",
    "    <class 'bool'>\n",
    "\n",
    "The `==` operator is one of the **relational operators**; the others are:\n",
    "\n",
    "| Operator   | Description    |\n",
    "| -- | -- |\n",
    "|`x == y`   |      `x` is equal to `y`|\n",
    "|`x != y`   |      `x` is not equal to `y`|\n",
    "|`x > y`   |       `x` is greater than `y`|\n",
    "|`x < y`   |       `x` is less than `y`|\n",
    "|`x >= y`  |       `x` is greater than or equal to `y`|\n",
    "|`x <= y`  |       `x` is less than or equal to `y`|\n",
    "\n",
    "\n",
    "Although these operations are probably familiar to you, the Python symbols are different from the mathematical symbols. A common error is to use a single equal sign (`=`) instead of a double equal sign (`==`). Remember that `=` is an assignment operator and `==` is a relational operator. There is no such thing as `=<` or `=>`."
   ]
  },
  {
   "cell_type": "markdown",
   "metadata": {
    "collapsed": false
   },
   "source": [
    "## 5.3 Logical operators\n",
    "\n",
    "There are three **logical operators**: `and`, `or`, and `not`. The semantics (meaning) of these operators is similar to their meaning in English. For example, `x > 0 and x < 10` is true only if `x` is greater than 0 and less than 10.\n",
    "\n",
    "`n%2 == 0 or n%3 == 0` is true if *either or both* of the conditions is true, that is, if the number is divisible by 2 or 3.\n",
    "\n",
    "Finally, the `not` operator negates a boolean expression, so `not (x > y)` is true if `x > y` is false, that is, if `x` is less than or equal to `y`.\n",
    "\n",
    "Strictly speaking, the operands of the logical operators should be boolean expressions, but Python is not very strict. Any nonzero number is interpreted as `True`:\n",
    "\n",
    "    >>> 42 and True\n",
    "    True\n",
    "\n",
    "This ﬂexibility can be useful, but there are some subtleties to it that might be confusing. You might want to avoid it (unless you know what you are doing)."
   ]
  },
  {
   "cell_type": "markdown",
   "metadata": {
    "collapsed": false
   },
   "source": [
    "## 5.4 Conditional execution\n",
    "\n",
    "In order to write useful programs, we almost always need the ability to check conditions and change the behavior of the program accordingly. **Conditional statements** give us this ability. The simplest form is the `if` statement:\n",
    "\n",
    "    if x > 0:\n",
    "        print('x is positive')\n",
    "\n",
    "The boolean expression after `if` is called the condition. If it is true, the indented statement runs. If not, nothing happens.\n",
    "\n",
    "`if` statements have the same structure as function deﬁnitions: a header followed by an indented body. Statements like this are called **compound statements**.\n",
    "\n",
    "There is no limit on the number of statements that can appear in the body, but there has to be at least one. Occasionally, it is useful to have a body with no statements (usually as a place keeper for code you haven’t written yet). In that case, you can use the `pass` statement, which does nothing.\n",
    "\n",
    "    if x < 0:\n",
    "        pass        # TODO: need to handle negative values!"
   ]
  },
  {
   "cell_type": "markdown",
   "metadata": {
    "collapsed": false
   },
   "source": [
    "## 5.5 Alternative execution\n",
    "\n",
    "A second form of the `if` statement is “alternative execution”, in which there are two possibilities and the condition determines which one runs. The syntax looks like this:\n",
    "\n",
    "    if x % 2 == 0:\n",
    "        print('x is even')\n",
    "    else:\n",
    "        print('x is odd')\n",
    "\n",
    "If the remainder when `x` is divided by 2 is 0, then we know that `x` is even, and the program displays an appropriate message. If the condition is false, the second set of statements runs. Since the condition must be true or false, exactly one of the alternatives will run. The alternatives are called **branches**, because they are branches in the ﬂow of execution."
   ]
  },
  {
   "cell_type": "markdown",
   "metadata": {
    "collapsed": false
   },
   "source": [
    "## 5.6 Chained conditionals\n",
    "\n",
    "Sometimes there are more than two possibilities and we need more than two branches. One way to express a computation like that is a chained conditional:\n",
    "\n",
    "    if x < y:\n",
    "        print('x is less than y')\n",
    "    elif x > y:\n",
    "        print('x is greater than y')\n",
    "    else:\n",
    "        print('x and y are equal')\n",
    "\n",
    "`elif` is an abbreviation of “else if”. Again, exactly one branch will run. There is no limit on the number of `elif` statements. If there is an `else` clause, it has to be at the end, but there doesn’t have to be one.\n",
    "\n",
    "    if choice == 'a':\n",
    "        draw_a()\n",
    "    elif choice == 'b':\n",
    "        draw_b()\n",
    "    elif choice == 'c':\n",
    "        `draw_c()`\n",
    "\n",
    "Each condition is checked in order. If the ﬁrst is false, the next is checked, and so on. If one of them is true, the corresponding branch runs and the statement ends. Even if more than one condition is true, only the ﬁrst true branch runs."
   ]
  },
  {
   "cell_type": "markdown",
   "metadata": {
    "collapsed": false
   },
   "source": [
    "## 5.7 Nested conditionals\n",
    "\n",
    "One conditional can also be nested within another. We could have written the example in the previous section like this:\n",
    "\n",
    "    if x == y:\n",
    "        print('x and y are equal')\n",
    "    else:\n",
    "        if x < y:\n",
    "            print('x is less than y')\n",
    "        else:\n",
    "            print('x is greater than y')\n",
    "\n",
    "The outer conditional contains two branches. The ﬁrst branch contains a simple statement. The second branch contains another if statement, which has two branches of its own. Those two branches are both simple statements, although they could have been conditional statements as well.\n",
    "\n",
    "Although the indentation of the statements makes the structure apparent, nested conditionals become difﬁcult to read very quickly. It is a good idea to avoid them when you can.\n",
    "\n",
    "Logical operators often provide a way to simplify nested conditional statements. For example, we can rewrite the following code using a single conditional:\n",
    "\n",
    "    if 0 < x:\n",
    "        if x < 10:\n",
    "            print('x is a positive single-digit number.')\n",
    "\n",
    "The print statement runs only if we make it past both conditionals, so we can get the same effect with the `and` operator:\n",
    "\n",
    "    if 0 < x and x < 10:\n",
    "        print('x is a positive single-digit number.')\n",
    "\n",
    "For this kind of condition, Python provides a more concise option: \n",
    "\n",
    "    if 0 < x < 10:\n",
    "        print('x is a positive single-digit number.')\n"
   ]
  },
  {
   "cell_type": "markdown",
   "metadata": {
    "collapsed": false
   },
   "source": [
    "## 5.8 Recursion\n",
    "\n",
    "It is legal for one function to call another; it is also legal for a function to call itself. It may not be obvious why that is a good thing, but it turns out to be one of the most magical things a program can do. For example, look at the following function:\n",
    "\n",
    "    def countdown(n):\n",
    "        if n <= 0:\n",
    "            print('Blastoff!')\n",
    "        else:\n",
    "            print(n)\n",
    "            countdown(n-1) \n",
    "\n",
    "If `n` is 0 or negative, it outputs the word, “Blastoff!” Otherwise, it outputs `n` and then calls a function named `countdown`--itself--passing `n-1` as an argument.\n",
    "\n",
    "What happens if we call this function like this?\n",
    "\n",
    "    >>> countdown(3) \n",
    "\n",
    "The execution of `countdown` begins with `n=3`, and since `n` is greater than 0, it outputs the value 3, and then calls itself...\n",
    "\n",
    "The execution of `countdown` begins with `n=2`, and since `n` is greater than 0, it outputs the value 2, and then calls itself...\n",
    "\n",
    "The execution of `countdown` begins with `n=1`, and since `n` is greater than 0, it outputs the value 1, and then calls itself...\n",
    "\n",
    "The execution of `countdown` begins with `n=0`, and since `n` is not greater than 0, it outputs the word, “Blastoff!” and then returns.\n",
    "\n",
    "The `countdown` that got `n=1` returns. The `countdown` that got `n=2` returns.\n",
    "\n",
    "The countdown that got `n=3` returns.\n",
    "\n",
    "And then you’re back in `__main__`. So, the total output looks like this:\n",
    "\n",
    "    3 2 1 Blastoff!\n",
    "\n",
    "A function that calls itself is **recursive**; the process of executing it is called **recursion**.\n",
    "\n",
    "As another example, we can write a function that prints a string `n` times. \n",
    "\n",
    "    def print_n(s, n):\n",
    "        if n <= 0:\n",
    "            return\n",
    "        print(s)\n",
    "        print_n(s, n-1)\n",
    "\n",
    "If `n <= 0` the **return statement** exits the function. The ﬂow of execution immediately returns to the caller, and the remaining lines of the function don’t run.\n",
    "\n",
    "The rest of the function is similar to `countdown`: it displays `s` and then calls itself to display `s` n − 1 additional times. So the number of lines of output is `1 + (n - 1)`, which adds up to `n`.\n",
    "\n",
    "For simple examples like this, it is probably easier to use a `for` loop. But we will see examples later that are hard to write with a `for` loop and easy to write with recursion, so it is good to start early."
   ]
  },
  {
   "cell_type": "markdown",
   "metadata": {
    "collapsed": false
   },
   "source": [
    "![stack2.png](stack2.png)\n",
    "\n",
    "Figure 5.1: Stack diagram"
   ]
  },
  {
   "cell_type": "markdown",
   "metadata": {
    "collapsed": false
   },
   "source": [
    "## 5.9 Stack diagrams for recursive functions\n",
    "\n",
    "In Section 3.9, we used a stack diagram to represent the state of a program during a function call. The same kind of diagram can help interpret a recursive function.\n",
    "\n",
    "Every time a function gets called, Python creates a frame to contain the function’s local variables and parameters. For a recursive function, there might be more than one frame on the stack at the same time.\n",
    "\n",
    "Figure 5.1 shows a stack diagram for `countdown` called with `n = 3`.\n",
    "\n",
    "As usual, the top of the stack is the frame for `__main__`. It is empty because we did not create any variables in `__main__` or pass any arguments to it.\n",
    "\n",
    "The four countdown frames have different values for the parameter `n`. The bottom of the stack, where `n=0`, is called the **base case**. It does not make a recursive call, so there are no more frames.\n",
    "\n",
    "As an exercise, draw a stack diagram for `print_n` called with `s = 'Hello'` and `n=2`. Then write a function called `do_n` that takes a function object and a number, `n`, as arguments, and that calls the given function `n` times."
   ]
  },
  {
   "cell_type": "markdown",
   "metadata": {
    "collapsed": false
   },
   "source": [
    "## 5.10 Inﬁnite recursion\n",
    "\n",
    "If a recursion never reaches a base case, it goes on making recursive calls forever, and the program never terminates. This is known as **inﬁnite recursion**, and it is generally not a good idea. Here is a minimal program with an inﬁnite recursion:\n",
    "\n",
    "    def recurse():\n",
    "        recurse()\n",
    "\n",
    "In most programming environments, a program with inﬁnite recursion does not really run forever. Python reports an error message when the maximum recursion depth is reached:\n",
    "\n",
    "    File \"<stdin>\", line 2, in recurse\n",
    "    File \"<stdin>\", line 2, in recurse\n",
    "    File \"<stdin>\", line 2, in recurse \n",
    "                    .\n",
    "                    .\n",
    "                    .\n",
    "    File \"<stdin>\", line 2, in recurse\n",
    "    RuntimeError: Maximum recursion depth exceeded\n",
    "\n",
    "This traceback is a little bigger than the one we saw in the previous chapter. When the error occurs, there are 1000 recurse frames on the stack!\n",
    "\n",
    "If you encounter an inﬁnite recursion by accident, review your function to conﬁrm that there is a base case that does not make a recursive call. And if there is a base case, check whether you are guaranteed to reach it."
   ]
  },
  {
   "cell_type": "markdown",
   "metadata": {
    "collapsed": false
   },
   "source": [
    "## 5.11 Keyboard input\n",
    "\n",
    "The programs we have written so far accept no input from the user. They just do the same thing every time.\n",
    "\n",
    "Python provides a built-in function called input that stops the program and waits for the user to type something. When the user presses `Return` or `Enter`, the program resumes and `input` returns what the user typed as a string. In Python 2, the same function is called `raw_input`.\n",
    "\n",
    "    >>> text = input()\n",
    "    What are you waiting for?\n",
    "    >>> text\n",
    "    'What are you waiting for?'\n",
    "\n",
    "Before getting input from the user, it is a good idea to print a prompt telling the user what to type. input can take a prompt as an argument:\n",
    "\n",
    "    >>> name = input('What...is your name?\\n')\n",
    "    What...is your name?\n",
    "    Arthur, King of the Britons!\n",
    "    >>> name\n",
    "    'Arthur, King of the Britons!'\n",
    "\n",
    "The sequence `\\n` at the end of the prompt represents a **newline**, which is a special character that causes a line break. That’s why the user’s input appears below the prompt.\n",
    "\n",
    "If you expect the user to type an integer, you can try to convert the return value to `int`:\n",
    "\n",
    "    >>> prompt = 'What...is the airspeed velocity of an unladen swallow?\\n'\n",
    "    >>> speed = input(prompt)\n",
    "    What...is the airspeed velocity of an unladen swallow?\n",
    "    42\n",
    "    >>> int(speed)\n",
    "    42\n",
    "\n",
    "But if the user types something other than a string of digits, you get an error:\n",
    "\n",
    "    >>> speed = input(prompt)\n",
    "    What...is the airspeed velocity of an unladen swallow?\n",
    "    What do you mean, an African or a European swallow?\n",
    "    >>> int(speed)\n",
    "    ValueError: invalid literal for int() with base 10\n",
    "\n",
    "We will see how to handle this kind of error later."
   ]
  },
  {
   "cell_type": "markdown",
   "metadata": {
    "collapsed": false
   },
   "source": [
    "## 5.12 Debugging\n",
    "\n",
    "When a syntax or runtime error occurs, the error message contains a lot of information, but it can be overwhelming. The most useful parts are usually:\n",
    "\n",
    "  * What kind of error it was, and\n",
    "\n",
    "  * Where it occurred.\n",
    "\n",
    "Syntax errors are usually easy to ﬁnd, but there are a few gotchas. Whitespace errors can be tricky because spaces and tabs are invisible and we are used to ignoring them.\n",
    "\n",
    "    >>> x = 5\n",
    "    >>>  y = 6\n",
    "      File \"<stdin>\", line 1\n",
    "        y = 6 \n",
    "        ^ \n",
    "    IndentationError: unexpected indent\n",
    "\n",
    "In this example, the problem is that the second line is indented by one space. But the error message points to `y`, which is misleading. In general, error messages indicate where the problem was discovered, but the actual error might be earlier in the code, sometimes on a previous line.\n",
    "\n",
    "The same is true of runtime errors. Suppose you are trying to compute a signal-to-noise ratio in decibels. The formula is $SNR_{db} = 10 \\log_{10} ( P_{signal} /P_{noise} )$. In Python, you might write something like this:\n",
    "\n",
    "    import math \n",
    "    signal_power = 9\n",
    "    noise_power = 10\n",
    "    ratio = signal_power // noise_power\n",
    "    decibels = 10 * math.log10(ratio)\n",
    "    print(decibels)\n",
    "\n",
    "When you run this program, you get an exception:\n",
    "\n",
    "    Traceback (most recent call last):\n",
    "      File \"snr.py\", line 5, in ?\n",
    "        decibels = 10 * math.log10(ratio)\n",
    "    ValueError: math domain error\n",
    "    \n",
    "The error message indicates line 5, but there is nothing wrong with that line. To ﬁnd the real error, it might be useful to print the value of `ratio`, which turns out to be 0. The problem is in line 4, which uses ﬂoor division instead of ﬂoating-point division.\n",
    "\n",
    "You should take the time to read error messages carefully, but don’t assume that everything they say is correct."
   ]
  },
  {
   "cell_type": "markdown",
   "metadata": {
    "collapsed": false
   },
   "source": [
    "## 5.13 Glossary\n",
    "\n",
    "**ﬂoor division:** An operator, denoted `//`, that divides two numbers and rounds down (toward negative inﬁnity) to an integer.\n",
    "\n",
    "**modulus operator:** An operator, denoted with a percent sign (`%`), that works on integers and returns the remainder when one number is divided by another.\n",
    "\n",
    "**boolean expression:** An expression whose value is either `True` or `False`.\n",
    "\n",
    "**relational operator:** One of the operators that compares its operands: `==`, `!=`, `>`, `<`, `>=`, and `<=`.\n",
    "\n",
    "**logical operator:** One of the operators that combines boolean expressions: `and`, `or`, and `not`.\n",
    "\n",
    "**conditional statement:** A statement that controls the ﬂow of execution depending on some condition.\n",
    "\n",
    "**condition:** The boolean expression in a conditional statement that determines which branch runs.\n",
    "\n",
    "**compound statement:** A statement that consists of a header and a body. The header ends with a colon (`:`). The body is indented relative to the header.\n",
    "\n",
    "**branch:** One of the alternative sequences of statements in a conditional statement.\n",
    "\n",
    "**chained conditional:** A conditional statement with a series of alternative branches. \n",
    "\n",
    "**nested conditional:** A conditional statement that appears in one of the branches of another conditional statement.\n",
    "\n",
    "**return statement:** A statement that causes a function to end immediately and return to the caller.\n",
    "\n",
    "**recursion:** The process of calling the function that is currently executing.\n",
    "\n",
    "**base case:** A conditional branch in a recursive function that does not make a recursive call.\n",
    "\n",
    "**inﬁnite recursion:** A recursion that doesn’t have a base case, or never reaches it. Eventually, an inﬁnite recursion causes a runtime error."
   ]
  },
  {
   "cell_type": "markdown",
   "metadata": {
    "collapsed": false
   },
   "source": [
    "## 5.14 Exercises\n",
    "\n",
    "**Exercise 5.1.** The `time` module provides a function, also named `time`, that returns the current Greenwich Mean Time in “the epoch”, which is an arbitrary time used as a reference point. On UNIX systems, the epoch is 1 January 1970.\n",
    "\n",
    "    >>> import time\n",
    "    >>> time.time()\n",
    "    1437746094.5735958\n",
    "\n",
    "Write a script that reads the current time and converts it to a time of day in hours, minutes, and seconds, plus the number of days since the epoch.\n",
    "\n",
    "**Exercise 5.2.** Fermat’s Last Theorem says that there are no positive integers $a$, $b$, and $c$ such that\n",
    "\n",
    "$$a^n + b^n = c^n$$\n",
    "\n",
    "for any values of $n$ greater than 2.\n",
    "\n",
    "  1. Write a function named check_fermat that takes four parameters--`a`, `b`, `c` and `n`--and checks to see if Fermat’s theorem holds. If n is greater than 2 and\n",
    "\n",
    "    $$a^n + b^n = c^n$$\n",
    "\n",
    "    the program should print, “Holy smokes, Fermat was wrong!” Otherwise the program should print, “No, that doesn’t work.”\n",
    "\n",
    "  2. Write a function that prompts the user to `input` values for `a`, `b`, `c` and `n`, converts them to integers, and uses `check_fermat` to check whether they violate Fermat’s theorem.\n",
    "\n",
    "**Exercise 5.3.** If you are given three sticks, you may or may not be able to arrange them in a triangle. For example, if one of the sticks is 12 inches long and the other two are one inch long, you will not be able to get the short sticks to meet in the middle. For any three lengths, there is a simple test to see if it is possible to form a triangle:\n",
    "\n",
    "> If any of the three lengths is greater than the sum of the other two, then you cannot form a triangle. Otherwise, you can. (If the sum of two lengths equals the third, they form what is called a “degenerate” triangle.)\n",
    "\n",
    "1. Write a function named `is_triangle` that takes three integers as arguments, and that prints either “Yes” or “No”, depending on whether you can or cannot form a triangle from sticks with the given lengths.\n",
    "\n",
    "2. Write a function that prompts the user to input three stick lengths, converts them to integers, and uses `is_triangle` to check whether sticks with the given lengths can form a triangle.\n",
    "\n",
    "**Exercise 5.4.** What is the output of the following program? Draw a stack diagram that shows the state of the program when it prints the result.\n",
    "\n",
    "    def recurse(n, s):\n",
    "        if n == 0:\n",
    "            print(s)\n",
    "        else:\n",
    "            recurse(n-1, n+s)\n",
    "\n",
    "    recurse(3, 0)\n",
    "\n",
    "1. What would happen if you called this function like this: `recurse(-1, 0)`?\n",
    "\n",
    "2. Write a docstring that explains everything someone would need to know in order to use this function (and nothing else).\n"
   ]
  },
  {
   "cell_type": "markdown",
   "metadata": {
    "collapsed": false
   },
   "source": [
    "**The following exercises use the turtle module, described in Chapter 4:**\n",
    "\n",
    "**Exercise 5.5.** Read the following function and see if you can ﬁgure out what it does (see the examples in Chapter 4). Then run it and see if you got it right.\n",
    "\n",
    "![koch.png](koch.png)\n",
    "\n",
    "Figure 5.2: A Koch curve\n",
    "\n",
    "    def draw(t, length, n):\n",
    "        if n == 0:\n",
    "            return\n",
    "        angle = 50\n",
    "        t.fd(length*n)\n",
    "        t.lt(angle)\n",
    "        draw(t, length, n-1)\n",
    "        t.rt(2*angle)\n",
    "        draw(t, length, n-1)\n",
    "        t.lt(angle)\n",
    "        t.bk(length*n)\n",
    "    \n",
    "Exercise 5.6. The Koch curve is a fractal that looks something like Figure 5.2. To draw a Koch curve with length x, all you have to do is\n",
    "\n",
    "1. Draw a Koch curve with length x/3.\n",
    "\n",
    "2. Turn left 60 degrees.\n",
    "\n",
    "3. Draw a Koch curve with length x/3.\n",
    "\n",
    "4. Turn right 120 degrees.\n",
    "\n",
    "5. Draw a Koch curve with length x/3.\n",
    "\n",
    "6. Turn left 60 degrees.\n",
    "\n",
    "7. Draw a Koch curve with length x/3.\n",
    "\n",
    "The exception is if x is less than 3: in that case, you can just draw a straight line with length x.\n",
    "\n",
    "1. Write a function called `koch` that takes a turtle and a length as parameters, and that uses the turtle to draw a Koch curve with the given length.\n",
    "\n",
    "2. Write a function called `snowflake` that draws three Koch curves to make the outline of a snowﬂake.\n",
    "\n",
    "    Solution: http://thinkpython2.com/code/koch.py.\n",
    "\n",
    "3. The Koch curve can be generalized in several ways. See http://en.wikipedia.org/wiki/Koch_snowflake for examples and implement your favorite.\n",
    "\n"
   ]
  },
  {
   "cell_type": "code",
   "execution_count": 0,
   "metadata": {
    "collapsed": false
   },
   "outputs": [
   ],
   "source": [
   ]
  },
  {
   "cell_type": "code",
   "execution_count": 0,
   "metadata": {
    "collapsed": false
   },
   "outputs": [
   ],
   "source": [
   ]
  },
  {
   "cell_type": "code",
   "execution_count": 0,
   "metadata": {
    "collapsed": false
   },
   "outputs": [
   ],
   "source": [
   ]
  },
  {
   "cell_type": "code",
   "execution_count": 0,
   "metadata": {
    "collapsed": false
   },
   "outputs": [
   ],
   "source": [
   ]
  },
  {
   "cell_type": "code",
   "execution_count": 0,
   "metadata": {
    "collapsed": false
   },
   "outputs": [
   ],
   "source": [
   ]
  },
  {
   "cell_type": "code",
   "execution_count": 0,
   "metadata": {
    "collapsed": false
   },
   "outputs": [
   ],
   "source": [
   ]
  },
  {
   "cell_type": "code",
   "execution_count": 0,
   "metadata": {
    "collapsed": false
   },
   "outputs": [
   ],
   "source": [
   ]
  },
  {
   "cell_type": "code",
   "execution_count": 0,
   "metadata": {
    "collapsed": false
   },
   "outputs": [
   ],
   "source": [
   ]
  }
 ],
 "metadata": {
  "kernelspec": {
   "display_name": "Python 3 (Anaconda)",
   "language": "python",
   "name": "anaconda3"
  },
  "language_info": {
   "codemirror_mode": {
    "name": "ipython",
    "version": 3
   },
   "file_extension": ".py",
   "mimetype": "text/x-python",
   "name": "python",
   "nbconvert_exporter": "python",
   "pygments_lexer": "ipython3",
   "version": "3.5.5"
  }
 },
 "nbformat": 4,
 "nbformat_minor": 0
}