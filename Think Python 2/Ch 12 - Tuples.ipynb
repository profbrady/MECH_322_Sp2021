{
 "cells": [
  {
   "cell_type": "markdown",
   "metadata": {
    "collapsed": false
   },
   "source": [
    "#### The material in this document is copied from or based on the the book...\n",
    "\n",
    "# Think Python\n",
    "## How to Think Like a Computer Scientist\n",
    "Second edition, Version 2.2.20\n",
    "\n",
    "##### Allen Downey\n",
    "\n",
    "##### Green Tea Press\n",
    "\n",
    "Needham, Massachusetts\n",
    "\n",
    "\n",
    "\n",
    "\n"
   ]
  },
  {
   "cell_type": "markdown",
   "metadata": {
    "collapsed": false
   },
   "source": [
    "Copyright © 2015 Allen Downey.\n",
    "\n",
    "Green Tea Press 9 Washburn Ave Needham MA 02492\n",
    "\n",
    "Permission is granted to copy, distribute, and/or modify this document under the terms of the Creative Commons Attribution-NonCommercial 3.0 Unported License, which is available at http://creativecommons.org/licenses/by-nc/3.0/.\n",
    "\n",
    "The original form of this book is $\\LaTeX$ source code. Compiling this $\\LaTeX$ source has the effect of generating a device-independent representation of a textbook, which can be converted to other formats and printed.\n",
    "\n",
    "The $\\LaTeX$ source for this book is available from http://www.thinkpython2.com"
   ]
  },
  {
   "cell_type": "markdown",
   "metadata": {
    "collapsed": false
   },
   "source": [
    "# Chapter 12: Tuples\n",
    "\n",
    "This chapter presents one more built-in type, the tuple, and then shows how lists, dictionaries, and tuples work together. I also present a useful feature for variable-length argument lists, the gather and scatter operators.\n",
    "\n",
    "One note: there is no consensus on how to pronounce “tuple”. Some people say “tuhple”, which rhymes with “supple”. But in the context of programming, most people say “too-ple”, which rhymes with “quadruple”.\n",
    "\n",
    "## 12.1 Tuples are immutable\n",
    "\n",
    "A **tuple** is a sequence of values. The values can be any type, and they are indexed by integers, so in that respect tuples are a lot like lists. The important difference is that tuples are immutable.\n",
    "\n",
    "Syntactically, a tuple is a comma-separated list of values:\n",
    "\n",
    "    >>> t = 'a', 'b', 'c', 'd', 'e'\n",
    "\n",
    "Although it is not necessary, it is common to enclose tuples in parentheses:\n",
    "\n",
    "    >>> t = ('a', 'b', 'c', 'd', 'e')\n",
    "\n",
    "To create a tuple with a single element, you have to include a ﬁnal comma:\n",
    "\n",
    "    >>> t1 = 'a',\n",
    "    >>> type(t1)\n",
    "    <class 'tuple'>\n",
    "\n",
    "A value in parentheses is not a tuple:\n",
    "\n",
    "    >>> t2 = ('a')\n",
    "    >>> type(t2)\n",
    "    <class 'str'>\n",
    "\n",
    "Another way to create a tuple is the built-in function `tuple`. With no argument, it creates an empty tuple:\n",
    "\n",
    "    >>> t = tuple()\n",
    "    >>> t\n",
    "    ()\n",
    "\n",
    "If the argument is a sequence (string, list or tuple), the result is a tuple with the elements of the sequence:\n",
    "\n",
    "    >>> t = tuple('lupins')\n",
    "    >>> t\n",
    "    ('l', 'u', 'p', 'i', 'n', 's')\n",
    "\n",
    "Because `tuple` is the name of a built-in function, you should avoid using it as a variable name.\n",
    "\n",
    "Most list operators also work on tuples. The bracket operator indexes an element:\n",
    "\n",
    "    >>> t = ('a', 'b', 'c', 'd', 'e')\n",
    "    >>> t[0]\n",
    "    'a'\n",
    "\n",
    "And the slice operator selects a range of elements.\n",
    "\n",
    "    >>> t[1:3]\n",
    "    ('b', 'c')\n",
    "\n",
    "But if you try to modify one of the elements of the tuple, you get an error:\n",
    "\n",
    "    >>> t[0] = 'A'\n",
    "    TypeError: object doesn't support item assignment\n",
    "\n",
    "Because tuples are immutable, you can’t modify the elements. But you can replace one tuple with another:\n",
    "\n",
    "    >>> t = ('A',) + t[1:]\n",
    "    >>> t\n",
    "    ('A', 'b', 'c', 'd', 'e')\n",
    "\n",
    "This statement makes a new tuple and then makes `t` refer to it.\n",
    "\n",
    "The relational operators work with tuples and other sequences; Python starts by comparing the ﬁrst element from each sequence. If they are equal, it goes on to the next elements, and so on, until it ﬁnds elements that differ. Subsequent elements are not considered (even if they are really big).\n",
    "\n",
    "    >>> (0, 1, 2) < (0, 3, 4)\n",
    "    True\n",
    "    >>> (0, 1, 2000000) < (0, 3, 4)\n",
    "    True"
   ]
  },
  {
   "cell_type": "markdown",
   "metadata": {
    "collapsed": false
   },
   "source": [
    "## 12.2 Tuple assignment\n",
    "\n",
    "It is often useful to swap the values of two variables. With conventional assignments, you have to use a temporary variable. For example, to swap `a` and `b`:\n",
    "\n",
    "    >>> temp = a\n",
    "    >>> a = b\n",
    "    >>> b = temp\n",
    "\n",
    "This solution is cumbersome; **tuple assignment** is more elegant:\n",
    "\n",
    "    >>> a, b = b, a\n",
    "\n",
    "The left side is a tuple of variables; the right side is a tuple of expressions. Each value is assigned to its respective variable. All the expressions on the right side are evaluated before any of the assignments.\n",
    "\n",
    "The number of variables on the left and the number of values on the right have to be the same:\n",
    "\n",
    "    >>> a, b = 1, 2, 3\n",
    "    ValueError: too many values to unpack\n",
    "\n",
    "More generally, the right side can be any kind of sequence (string, list or tuple). For example, to split an email address into a user name and a domain, you could write:\n",
    "\n",
    "    >>> addr = 'monty@python.org'\n",
    "    >>> uname, domain = addr.split('@')\n",
    "\n",
    "The return value from `split` is a list with two elements; the ﬁrst element is assigned to `uname`, the second to `domain`.\n",
    "\n",
    "    >>> uname\n",
    "    'monty'\n",
    "    >>> domain\n",
    "    'python.org'"
   ]
  },
  {
   "cell_type": "markdown",
   "metadata": {
    "collapsed": false
   },
   "source": [
    "## 12.3 Tuples as return values\n",
    "\n",
    "Strictly speaking, a function can only return one value, but if the value is a tuple, the effect is the same as returning multiple values. For example, if you want to divide two integers and compute the quotient and remainder, it is inefficient to compute `x/y` and then `x%y`. It is better to compute them both at the same time.\n",
    "\n",
    "The built-in function `divmod` takes two arguments and returns a tuple of two values, the quotient and remainder. You can store the result as a tuple:\n",
    "\n",
    "    >>> t = divmod(7, 3)\n",
    "    >>> t\n",
    "    (2, 1)\n",
    "\n",
    "Or use tuple assignment to store the elements separately:\n",
    "\n",
    "    >>> quot, rem = divmod(7, 3)\n",
    "    >>> quot 2\n",
    "    >>> rem 1\n",
    "\n",
    "Here is an example of a function that returns a tuple:\n",
    "\n",
    "    def min_max(t):\n",
    "        return min(t), max(t)\n",
    "\n",
    "`max` and `min` are built-in functions that ﬁnd the largest and smallest elements of a sequence. `min_max` computes both and returns a tuple of two values."
   ]
  },
  {
   "cell_type": "markdown",
   "metadata": {
    "collapsed": false
   },
   "source": [
    "## 12.4 Variable-length argument tuples\n",
    "\n",
    "Functions can take a variable number of arguments. A parameter name that begins with `*` **gathers** arguments into a tuple. For example, `printall` takes any number of arguments and prints them:\n",
    "\n",
    "    def printall(*args):\n",
    "        print(args)\n",
    "\n",
    "The gather parameter can have any name you like, but `args` is conventional. Here’s how the function works:\n",
    "\n",
    "    >>> printall(1, 2.0, '3')\n",
    "    (1, 2.0, '3')\n",
    "\n",
    "The complement of gather is **scatter**. If you have a sequence of values and you want to pass it to a function as multiple arguments, you can use the `*` operator. For example, `divmod` takes exactly two arguments; it doesn’t work with a tuple:\n",
    "\n",
    "    >>> t = (7, 3)\n",
    "    >>> divmod(t)\n",
    "    TypeError: divmod expected 2 arguments, got 1\n",
    "\n",
    "But if you scatter the tuple, it works:\n",
    "\n",
    "    >>> divmod(*t)\n",
    "    (2, 1)\n",
    "\n",
    "Many of the built-in functions use variable-length argument tuples. For example, `max` and `min` can take any number of arguments:\n",
    "\n",
    "    >>> max(1, 2, 3)\n",
    "    3\n",
    "\n",
    "But `sum` does not.\n",
    "\n",
    "    >>> sum(1, 2, 3)\n",
    "    TypeError: sum expected at most 2 arguments, got 3\n",
    "\n",
    "As an exercise, write a function called `sumall` that takes any number of arguments and returns their sum."
   ]
  },
  {
   "cell_type": "code",
   "execution_count": 0,
   "metadata": {
    "collapsed": false
   },
   "outputs": [
   ],
   "source": [
   ]
  },
  {
   "cell_type": "code",
   "execution_count": 0,
   "metadata": {
    "collapsed": false
   },
   "outputs": [
   ],
   "source": [
   ]
  },
  {
   "cell_type": "markdown",
   "metadata": {
    "collapsed": false
   },
   "source": [
    "## 12.5 Lists and tuples\n",
    "\n",
    "`zip` is a built-in function that takes two or more sequences and returns a list of tuples where each tuple contains one element from each sequence. The name of the function refers to a zipper, which joins and interleaves two rows of teeth.\n",
    "\n",
    "This example zips a string and a list:\n",
    "\n",
    "    >>> s = 'abc'\n",
    "    >>> t = [0, 1, 2]\n",
    "    >>> zip(s, t)\n",
    "    <zip object at 0x7f7d0a9e7c48>\n",
    "\n",
    "The result is a **zip object** that knows how to iterate through the pairs. The most common use of `zip` is in a `for` loop:\n",
    "\n",
    "    >>> for pair in zip(s, t):\n",
    "    ...     print(pair)\n",
    "    ...\n",
    "    ('a', 0)\n",
    "    ('b', 1)\n",
    "    ('c', 2)\n",
    "\n",
    "A zip object is a kind of **iterator**, which is any object that iterates through a sequence. Iterators are similar to lists in some ways, but unlike lists, you can’t use an index to select an element from an iterator.\n",
    "\n",
    "If you want to use list operators and methods, you can use a zip object to make a list:\n",
    "\n",
    "    >>> list(zip(s, t))\n",
    "    [('a', 0), ('b', 1), ('c', 2)]\n",
    "\n",
    "The result is a list of tuples; in this example, each tuple contains a character from the string and the corresponding element from the list.\n",
    "\n",
    "If the sequences are not the same length, the result has the length of the shorter one.\n",
    "\n",
    "    >>> list(zip('Anne', 'Elk'))\n",
    "    [('A', 'E'), ('n', 'l'), ('n', 'k')]\n",
    "\n",
    "You can use tuple assignment in a `for` loop to traverse a list of tuples:\n",
    "\n",
    "    t = [('a', 0), ('b', 1), ('c', 2)]\n",
    "    for letter, number in t:\n",
    "        print(number, letter)\n",
    "\n",
    "Each time through the loop, Python selects the next tuple in the list and assigns the elements to letter and number. The output of this loop is:\n",
    "\n",
    "    0 a\n",
    "    1 b\n",
    "    2 c\n",
    "\n",
    "If you combine `zip`, `for` and tuple assignment, you get a useful idiom for traversing two (or more) sequences at the same time. For example, `has_match` takes two sequences, `t1` and `t2`, and returns `True` if there is an index `i` such that `t1[i] == t2[i]`:\n",
    "\n",
    "    def has_match(t1, t2):\n",
    "        for x, y in zip(t1, t2):\n",
    "            if x == y:\n",
    "                return True\n",
    "        return False\n",
    "\n",
    "If you need to traverse the elements of a sequence and their indices, you can use the built-in function `enumerate`:\n",
    "\n",
    "    for index, element in enumerate('abc'):\n",
    "        print(index, element)\n",
    "\n",
    "The result from `enumerate` is an enumerate object, which iterates a sequence of pairs; each pair contains an index (starting from 0) and an element from the given sequence. In this example, the output is\n",
    "\n",
    "    0 a\n",
    "    1 b\n",
    "    2 c\n",
    "\n",
    "Again."
   ]
  },
  {
   "cell_type": "markdown",
   "metadata": {
    "collapsed": false
   },
   "source": [
    "## 12.6 Dictionaries and tuples\n",
    "\n",
    "Dictionaries have a method called `items` that returns a sequence of tuples, where each tuple is a key-value pair.\n",
    "\n",
    "    >>> d = {'a':0, 'b':1, 'c':2}\n",
    "    >>> t = d.items()\n",
    "    >>> t\n",
    "    dict_items([('c', 2), ('a', 0), ('b', 1)])\n",
    "\n",
    "The result is a `dict_items` object, which is an iterator that iterates the key-value pairs. You can use it in a `for` loop like this:\n",
    "\n",
    "    >>> for key, value in d.items():\n",
    "    ...     print(key, value)\n",
    "    ...\n",
    "    c 2\n",
    "    a 0\n",
    "    b 1\n",
    "\n",
    "As you should expect from a dictionary, the items are in no particular order.\n",
    "\n",
    "Going in the other direction, you can use a list of tuples to initialize a new dictionary:\n",
    "\n",
    "    >>> t = [('a', 0), ('c', 2), ('b', 1)]\n",
    "    >>> d = dict(t)\n",
    "    >>> d\n",
    "    {'a': 0, 'c': 2, 'b': 1}\n",
    "\n",
    "Combining `dict` with `zip` yields a concise way to create a dictionary:\n",
    "\n",
    "    >>> d = dict(zip('abc', range(3)))\n",
    "    >>> d\n",
    "    {'a': 0, 'c': 2, 'b': 1}\n",
    "\n",
    "The dictionary method `update` also takes a list of tuples and adds them, as key-value pairs, to an existing dictionary.\n",
    "\n",
    "It is common to use tuples as keys in dictionaries (primarily because you can’t use lists). For example, a telephone directory might map from last-name, ﬁrst-name pairs to telephone numbers. Assuming that we have deﬁned `last`, `first` and `number`, we could write:\n",
    "\n",
    "    directory[last, first] = number\n",
    "\n",
    "The expression in brackets is a tuple. We could use tuple assignment to traverse this dictionary.\n",
    "\n",
    "    for last, first in directory:\n",
    "        print(first, last, directory[last,first])\n",
    "\n",
    "This loop traverses the keys in `directory`, which are tuples. It assigns the elements of each tuple to `last` and `first`, then prints the name and corresponding telephone number.\n",
    "\n",
    "There are two ways to represent tuples in a state diagram. The more detailed version shows the indices and elements just as they appear in a list. For example, the tuple `('Cleese', 'John')` would appear as in Figure 12.1.\n",
    "\n",
    "But in a larger diagram you might want to leave out the details. For example, a diagram of the telephone directory might appear as in Figure 12.2.\n",
    "\n",
    "Here the tuples are shown using Python syntax as a graphical shorthand. The telephone number in the diagram is the complaints line for the BBC, so please don’t call it."
   ]
  },
  {
   "cell_type": "markdown",
   "metadata": {
    "collapsed": false
   },
   "source": [
    "![tuple1.png](tuple1.png)\n",
    "\n",
    "Figure 12.1: State diagram\n",
    "\n",
    "![dict2.png](dict2.png)\n",
    "\n",
    "Figure 12.2: State diagram"
   ]
  },
  {
   "cell_type": "markdown",
   "metadata": {
    "collapsed": false
   },
   "source": [
    "## 12.7 Sequences of sequences\n",
    "\n",
    "I have focused on lists of tuples, but almost all of the examples in this chapter also work with lists of lists, tuples of tuples, and tuples of lists. To avoid enumerating the possible combinations, it is sometimes easier to talk about sequences of sequences.\n",
    "\n",
    "In many contexts, the different kinds of sequences (strings, lists and tuples) can be used interchangeably. So how should you choose one over the others?\n",
    "\n",
    "To start with the obvious, strings are more limited than other sequences because the elements have to be characters. They are also immutable. If you need the ability to change the characters in a string (as opposed to creating a new string), you might want to use a list of characters instead.\n",
    "\n",
    "Lists are more common than tuples, mostly because they are mutable. But there are a few cases where you might prefer tuples:\n",
    "\n",
    "1. In some contexts, like a `return` statement, it is syntactically simpler to create a tuple than a list.\n",
    "\n",
    "2. If you want to use a sequence as a dictionary key, you have to use an immutable type like a tuple or string.\n",
    "\n",
    "3. If you are passing a sequence as an argument to a function, using tuples reduces the potential for unexpected behavior due to aliasing.\n",
    "\n",
    "Because tuples are immutable, they don’t provide methods like `sort` and `reverse`, which modify existing lists. But Python provides the built-in function `sorted`, which takes any sequence and returns a new list with the same elements in sorted order, and `reversed`, which takes a sequence and returns an iterator that traverses the list in reverse order."
   ]
  },
  {
   "cell_type": "markdown",
   "metadata": {
    "collapsed": false
   },
   "source": [
    "## 12.8 Debugging\n",
    "\n",
    "Lists, dictionaries and tuples are examples of **data structures**; in this chapter we are starting to see compound data structures, like lists of tuples, or dictionaries that contain tuples as keys and lists as values. Compound data structures are useful, but they are prone to what I call **shape errors**; that is, errors caused when a data structure has the wrong type, size, or structure. For example, if you are expecting a list with one integer and I give you a plain old integer (not in a list), it won’t work.\n",
    "\n",
    "To help debug these kinds of errors, I have written a module called `structshape` that provides a function, also called `structshape`, that takes any kind of data structure as an argument and returns a string that summarizes its shape. You can download it from http://thinkpython2.com/code/structshape.py\n",
    "\n",
    "Here’s the result for a simple list:\n",
    "\n",
    "    >>> from structshape import structshape\n",
    "    >>> t = [1, 2, 3]\n",
    "    >>> structshape(t)\n",
    "    'list of 3 int'\n",
    "\n",
    "A fancier program might write “list of 3 ints”, but it was easier not to deal with plurals. Here’s a list of lists:\n",
    "\n",
    "    >>> t2 = [[1,2], [3,4], [5,6]]\n",
    "    >>> structshape(t2)\n",
    "    'list of 3 list of 2 int'\n",
    "\n",
    "If the elements of the list are not the same type, `structshape` groups them, in order, by type:\n",
    "\n",
    "    >>> t3 = [1, 2, 3, 4.0, '5', '6', [7], [8], 9]\n",
    "    >>> structshape(t3)\n",
    "    'list of (3 int, float, 2 str, 2 list of int, int)'\n",
    "\n",
    "Here’s a list of tuples:\n",
    "\n",
    "    >>> s = 'abc'\n",
    "    >>> lt = list(zip(t, s))\n",
    "    >>> structshape(lt)\n",
    "    'list of 3 tuple of (int, str)'\n",
    "\n",
    "And here’s a dictionary with 3 items that map integers to strings.\n",
    "\n",
    "    >>> d = dict(lt)\n",
    "    >>> structshape(d)\n",
    "    'dict of 3 int->str'\n",
    "\n",
    "If you are having trouble keeping track of your data structures, `structshape` can help."
   ]
  },
  {
   "cell_type": "markdown",
   "metadata": {
    "collapsed": false
   },
   "source": [
    "## 12.9 Glossary\n",
    "\n",
    "**tuple:** An immutable sequence of elements.\n",
    "\n",
    "**tuple assignment:** An assignment with a sequence on the right side and a tuple of variables on the left. The right side is evaluated and then its elements are assigned to the variables on the left.\n",
    "\n",
    "**gather:** The operation of assembling a variable-length argument tuple.\n",
    "\n",
    "**scatter:** The operation of treating a sequence as a list of arguments.\n",
    "\n",
    "**zip object:** The result of calling a built-in function zip; an object that iterates through a sequence of tuples.\n",
    "\n",
    "**iterator:** An object that can iterate through a sequence, but which does not provide list operators and methods.\n",
    "\n",
    "**data structure:** A collection of related values, often organized in lists, dictionaries, tuples, etc.\n",
    "\n",
    "**shape error:** An error caused because a value has the wrong shape; that is, the wrong type or size."
   ]
  },
  {
   "cell_type": "markdown",
   "metadata": {
    "collapsed": false
   },
   "source": [
    "## 12.10 Exercises\n",
    "\n",
    "**Exercise 12.1.** Write a function called `most_frequent` that takes a string and prints the letters in decreasing order of frequency. Find text samples from several different languages and see how letter frequency varies between languages. Compare your results with the tables at http://en.wikipedia.org/wiki/Letter_frequencies. Solution: http://thinkpython2.com/code/most_frequent.py."
   ]
  },
  {
   "cell_type": "code",
   "execution_count": 0,
   "metadata": {
    "collapsed": false
   },
   "outputs": [
   ],
   "source": [
   ]
  },
  {
   "cell_type": "code",
   "execution_count": 0,
   "metadata": {
    "collapsed": false
   },
   "outputs": [
   ],
   "source": [
   ]
  },
  {
   "cell_type": "markdown",
   "metadata": {
    "collapsed": false
   },
   "source": [
    "**Exercise 12.2.** More anagrams!\n",
    "\n",
    "1. Write a program that reads a word list from a ﬁle (see Section 9.1) and prints all the sets of words that are anagrams.\n",
    "\n",
    "  Here is an example of what the output might look like:\n",
    "\n",
    "    ['deltas', 'desalt', 'lasted', 'salted', 'slated', 'staled']\n",
    "    ['retainers', 'ternaries']\n",
    "    ['generating', 'greatening']\n",
    "    ['resmelts', 'smelters', 'termless']\n",
    "\n",
    "  Hint: you might want to build a dictionary that maps from a collection of letters to a list of words that can be spelled with those letters. The question is, how can you represent the collection of letters in a way that can be used as a key?\n",
    "\n",
    "2. Modify the previous program so that it prints the longest list of anagrams ﬁrst, followed by the second longest, and so on.\n",
    "\n",
    "3. In Scrabble a “bingo” is when you play all seven tiles in your rack, along with a letter on the board, to form an eight-letter word. What collection of 8 letters forms the most possible bingos? Hint: there are seven.\n",
    "\n",
    "Solution: http://thinkpython2.com/code/anagram_sets.py."
   ]
  },
  {
   "cell_type": "code",
   "execution_count": 0,
   "metadata": {
    "collapsed": false
   },
   "outputs": [
   ],
   "source": [
   ]
  },
  {
   "cell_type": "code",
   "execution_count": 0,
   "metadata": {
    "collapsed": false
   },
   "outputs": [
   ],
   "source": [
   ]
  },
  {
   "cell_type": "markdown",
   "metadata": {
    "collapsed": false
   },
   "source": [
    "**Exercise 12.3.** Two words form a “metathesis pair” if you can transform one into the other by swapping two letters; for example, “converse” and “conserve”. Write a program that ﬁnds all of the metathesis pairs in the dictionary. Hint: don’t test all pairs of words, and don’t test all possible swaps. Solution: http://thinkpython2.com/code/metathesis.py. Credit: This exercise is inspired by an example at http://puzzlers.org."
   ]
  },
  {
   "cell_type": "code",
   "execution_count": 0,
   "metadata": {
    "collapsed": false
   },
   "outputs": [
   ],
   "source": [
   ]
  },
  {
   "cell_type": "code",
   "execution_count": 0,
   "metadata": {
    "collapsed": false
   },
   "outputs": [
   ],
   "source": [
   ]
  },
  {
   "cell_type": "markdown",
   "metadata": {
    "collapsed": false
   },
   "source": [
    "**Exercise 12.4.** Here’s another Car Talk Puzzler (http://www.cartalk.com/content/puzzlers):\n",
    "\n",
    ">What is the longest English word, that remains a valid English word, as you remove its letters one at a time?\n",
    "\n",
    ">Now, letters can be removed from either end, or the middle, but you can’t rearrange any of the letters. Every time you drop a letter, you wind up with another English word. If you do that, you’re eventually going to wind up with one letter and that too is going to be an English word—one that’s found in the dictionary. I want to know what’s the longest word and how many letters does it have?\n",
    "\n",
    ">I’m going to give you a little modest example: Sprite. Ok? You start off with sprite, you take a letter off, one from the interior of the word, take the r away, and we’re left with the word spite, then we take the e off the end, we’re left with spit, we take the s off, we’re left with pit, it, and I.\n",
    "\n",
    "Write a program to ﬁnd all words that can be reduced in this way, and then ﬁnd the longest one.\n",
    "\n",
    "This exercise is a little more challenging than most, so here are some suggestions:\n",
    "\n",
    "1. You might want to write a function that takes a word and computes a list of all the words that can be formed by removing one letter. These are the “children” of the word.\n",
    "\n",
    "2. Recursively, a word is reducible if any of its children are reducible. As a base case, you can consider the empty string reducible.\n",
    "\n",
    "3. The wordlist I provided, `words.txt`, doesn’t contain single letter words. So you might want to add “I”, “a”, and the empty string.\n",
    "\n",
    "4. To improve the performance of your program, you might want to memoize the words that are known to be reducible.\n",
    "\n",
    "Solution: http://thinkpython2.com/code/reducible.py."
   ]
  },
  {
   "cell_type": "code",
   "execution_count": 0,
   "metadata": {
    "collapsed": false
   },
   "outputs": [
   ],
   "source": [
   ]
  },
  {
   "cell_type": "code",
   "execution_count": 0,
   "metadata": {
    "collapsed": false
   },
   "outputs": [
   ],
   "source": [
   ]
  }
 ],
 "metadata": {
  "kernelspec": {
   "display_name": "Python 3 (Anaconda)",
   "language": "python",
   "name": "anaconda3"
  },
  "language_info": {
   "codemirror_mode": {
    "name": "ipython",
    "version": 3
   },
   "file_extension": ".py",
   "mimetype": "text/x-python",
   "name": "python",
   "nbconvert_exporter": "python",
   "pygments_lexer": "ipython3",
   "version": "3.5.4"
  }
 },
 "nbformat": 4,
 "nbformat_minor": 0
}