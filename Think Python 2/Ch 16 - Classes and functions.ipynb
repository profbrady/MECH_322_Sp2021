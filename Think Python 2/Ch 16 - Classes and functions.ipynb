{
 "cells": [
  {
   "cell_type": "markdown",
   "metadata": {
    "collapsed": false
   },
   "source": [
    "#### The material in this document is copied from or based on the the book...\n",
    "\n",
    "# Think Python\n",
    "## How to Think Like a Computer Scientist\n",
    "Second edition, Version 2.2.20\n",
    "\n",
    "##### Allen Downey\n",
    "\n",
    "##### Green Tea Press\n",
    "\n",
    "Needham, Massachusetts\n",
    "\n",
    "\n",
    "\n",
    "\n"
   ]
  },
  {
   "cell_type": "markdown",
   "metadata": {
    "collapsed": false
   },
   "source": [
    "Copyright © 2015 Allen Downey.\n",
    "\n",
    "Green Tea Press 9 Washburn Ave Needham MA 02492\n",
    "\n",
    "Permission is granted to copy, distribute, and/or modify this document under the terms of the Creative Commons Attribution-NonCommercial 3.0 Unported License, which is available at http://creativecommons.org/licenses/by-nc/3.0/.\n",
    "\n",
    "The original form of this book is $\\LaTeX$ source code. Compiling this $\\LaTeX$ source has the effect of generating a device-independent representation of a textbook, which can be converted to other formats and printed.\n",
    "\n",
    "The $\\LaTeX$ source for this book is available from http://www.thinkpython2.com"
   ]
  },
  {
   "cell_type": "markdown",
   "metadata": {
    "collapsed": false
   },
   "source": [
    "# Chapter 16: Classes and functions\n",
    "\n",
    "Now that we know how to create new types, the next step is to write functions that take programmer-deﬁned objects as parameters and return them as results. In this chapter I also present “functional programming style” and two new program development plans.\n",
    "\n",
    "Code examples from this chapter are available from http://thinkpython2.com/code/ Time1.py. Solutions to the exercises are at http://thinkpython2.com/code/Time1_soln. py.\n",
    "\n",
    "## 16.1 Time\n",
    "\n",
    "As another example of a programmer-deﬁned type, we’ll deﬁne a class called `Time` that records the time of day. The class deﬁnition looks like this:\n",
    "\n",
    "    class Time:\n",
    "        \"\"\"Represents the time of day.\n",
    "\n",
    "        attributes: hour, minute, second\n",
    "        \"\"\"\n",
    "\n",
    "We can create a new `Time` object and assign attributes for hours, minutes, and seconds:\n",
    "\n",
    "    time = Time()\n",
    "    time.hour = 11\n",
    "    time.minute = 59\n",
    "    time.second = 30\n",
    "\n",
    "The state diagram for the Time object looks like Figure 16.1.\n",
    "\n",
    "As an exercise, write a function called `print_time` that takes a Time object and prints it in the form `hour:minute:second`. Hint: the format sequence `'%.2d'` prints an integer using at least two digits, including a leading zero if necessary.\n",
    "\n",
    "Write a boolean function called `is_after` that takes two Time objects, `t1` and `t2`, and returns `True` if `t1` follows `t2` chronologically and `False` otherwise. Challenge: don’t use an `if` statement."
   ]
  },
  {
   "cell_type": "markdown",
   "metadata": {
    "collapsed": false
   },
   "source": [
    "![time.png](time.png)\n",
    "\n",
    "Figure 16.1: Object diagram"
   ]
  },
  {
   "cell_type": "code",
   "execution_count": 0,
   "metadata": {
    "collapsed": false
   },
   "outputs": [
   ],
   "source": [
   ]
  },
  {
   "cell_type": "code",
   "execution_count": 0,
   "metadata": {
    "collapsed": false
   },
   "outputs": [
   ],
   "source": [
   ]
  },
  {
   "cell_type": "markdown",
   "metadata": {
    "collapsed": false
   },
   "source": [
    "## 16.2 Pure functions\n",
    "\n",
    "In the next few sections, we’ll write two functions that add time values. They demonstrate two kinds of functions: pure functions and modiﬁers. They also demonstrate a development plan I’ll call **prototype and patch**, which is a way of tackling a complex problem by starting with a simple prototype and incrementally dealing with the complications.\n",
    "\n",
    "Here is a simple prototype of `add_time`:\n",
    "\n",
    "    def add_time(t1, t2):\n",
    "        sum = Time()\n",
    "        sum.hour = t1.hour + t2.hour\n",
    "        sum.minute = t1.minute + t2.minute\n",
    "        sum.second = t1.second + t2.second\n",
    "        return sum\n",
    "\n",
    "The function creates a new `Time` object, initializes its attributes, and returns a reference to the new object. This is called a **pure function** because it does not modify any of the objects passed to it as arguments and it has no effect, like displaying a value or getting user input, other than returning a value.\n",
    "\n",
    "To test this function, I’ll create two Time objects: `start` contains the start time of a movie, like *Monty Python and the Holy Grail*, and `duration` contains the run time of the movie, which is one hour 35 minutes.\n",
    "\n",
    "`add_time` ﬁgures out when the movie will be done.\n",
    "\n",
    "    >>> start = Time()\n",
    "    >>> start.hour = 9\n",
    "    >>> start.minute = 45\n",
    "    >>> start.second = 0\n",
    "\n",
    "    >>> duration = Time()\n",
    "    >>> duration.hour = 1\n",
    "    >>> duration.minute = 35\n",
    "    >>> duration.second = 0\n",
    "\n",
    "    >>> done = add_time(start, duration)\n",
    "    >>> print_time(done)\n",
    "    10:80:00\n",
    "\n",
    "The result, `10:80:00` might not be what you were hoping for. The problem is that this function does not deal with cases where the number of seconds or minutes adds up to more than sixty. When that happens, we have to “carry” the extra seconds into the minute column or the extra minutes into the hour column.\n",
    "\n",
    "Here’s an improved version:\n",
    "\n",
    "    def add_time(t1, t2):\n",
    "        sum = Time()\n",
    "        sum.hour = t1.hour + t2.hour\n",
    "        sum.minute = t1.minute + t2.minute\n",
    "        sum.second = t1.second + t2.second\n",
    "\n",
    "        if sum.second >= 60:\n",
    "            sum.second -= 60\n",
    "            sum.minute += 1\n",
    "\n",
    "        if sum.minute >= 60:\n",
    "            sum.minute -= 60\n",
    "            sum.hour += 1\n",
    "\n",
    "        return sum\n",
    "\n",
    "Although this function is correct, it is starting to get big. We will see a shorter alternative later."
   ]
  },
  {
   "cell_type": "markdown",
   "metadata": {
    "collapsed": false
   },
   "source": [
    "## 16.3 Modiﬁers\n",
    "\n",
    "Sometimes it is useful for a function to modify the objects it gets as parameters. In that case, the changes are visible to the caller. Functions that work this way are called **modiﬁers**.\n",
    "\n",
    "`increment`, which adds a given number of seconds to a `Time` object, can be written naturally as a modiﬁer. Here is a rough draft:\n",
    "\n",
    "    def increment(time, seconds):\n",
    "        time.second += seconds\n",
    "\n",
    "        if time.second >= 60:\n",
    "            time.second -= 60\n",
    "            time.minute += 1\n",
    "\n",
    "        if time.minute >= 60:\n",
    "            time.minute -= 60\n",
    "            time.hour += 1\n",
    "\n",
    "The ﬁrst line performs the basic operation; the remainder deals with the special cases we saw before.\n",
    "\n",
    "Is this function correct? What happens if `seconds` is much greater than sixty?\n",
    "\n",
    "In that case, it is not enough to carry once; we have to keep doing it until `time.second` is less than sixty. One solution is to replace the if statements with `while` statements. That would make the function correct, but not very efﬁcient. As an exercise, write a correct version of increment that doesn’t contain any loops.\n",
    "\n",
    "Anything that can be done with modiﬁers can also be done with pure functions. In fact, some programming languages only allow pure functions. There is some evidence that programs that use pure functions are faster to develop and less error-prone than programs that use modiﬁers. But modiﬁers are convenient at times, and functional programs tend to be less efﬁcient.\n",
    "\n",
    "In general, I recommend that you write pure functions whenever it is reasonable and resort to modiﬁers only if there is a compelling advantage. This approach might be called a **functional programming style**.\n",
    "\n",
    "As an exercise, write a “pure” version of `increment` that creates and returns a new Time object rather than modifying the parameter."
   ]
  },
  {
   "cell_type": "code",
   "execution_count": 0,
   "metadata": {
    "collapsed": false
   },
   "outputs": [
   ],
   "source": [
   ]
  },
  {
   "cell_type": "code",
   "execution_count": 0,
   "metadata": {
    "collapsed": false
   },
   "outputs": [
   ],
   "source": [
   ]
  },
  {
   "cell_type": "markdown",
   "metadata": {
    "collapsed": false
   },
   "source": [
    "## 16.4 Prototyping versus planning\n",
    "\n",
    "The development plan I am demonstrating is called “prototype and patch”. For each function, I wrote a prototype that performed the basic calculation and then tested it, patching errors along the way.\n",
    "\n",
    "This approach can be effective, especially if you don’t yet have a deep understanding of the problem. But incremental corrections can generate code that is unnecessarily complicated—since it deals with many special cases—and unreliable—since it is hard to know if you have found all the errors.\n",
    "\n",
    "An alternative is **designed development**, in which high-level insight into the problem can make the programming much easier. In this case, the insight is that a Time object is really a three-digit number in base 60 (see http://en.wikipedia.org/wiki/Sexagesimal.)! The `second` attribute is the “ones column”, the `minute` attribute is the “sixties column”, and the `hour` attribute is the “thirty-six hundreds column”.\n",
    "\n",
    "When we wrote `add_time` and `increment`, we were effectively doing addition in base 60, which is why we had to carry from one column to the next.\n",
    "\n",
    "This observation suggests another approach to the whole problem--we can convert Time objects to integers and take advantage of the fact that the computer knows how to do integer arithmetic.\n",
    "\n",
    "Here is a function that converts Times to integers:\n",
    "\n",
    "    def time_to_int(time):\n",
    "        minutes = time.hour * 60 + time.minute\n",
    "        seconds = minutes * 60 + time.second\n",
    "        return seconds\n",
    "\n",
    "And here is a function that converts an integer to a Time (recall that `divmod` divides the ﬁrst argument by the second and returns the quotient and remainder as a tuple).\n",
    "\n",
    "    def int_to_time(seconds):\n",
    "        time = Time()\n",
    "        minutes, time.second = divmod(seconds, 60)\n",
    "        time.hour, time.minute = divmod(minutes, 60)\n",
    "        return time\n",
    "\n",
    "You might have to think a bit, and run some tests, to convince yourself that these functions are correct. One way to test them is to check that `time_to_int(int_to_time(x)) == x` for many values of `x`. This is an example of a consistency check.\n",
    "\n",
    "Once you are convinced they are correct, you can use them to rewrite `add_time`:\n",
    "\n",
    "    def add_time(t1, t2):\n",
    "        seconds = time_to_int(t1) + time_to_int(t2)\n",
    "        return int_to_time(seconds)\n",
    "\n",
    "This version is shorter than the original, and easier to verify. As an exercise, rewrite `increment` using `time_to_int` and `int_to_time`.\n",
    "\n",
    "In some ways, converting from base 60 to base 10 and back is harder than just dealing with times. Base conversion is more abstract; our intuition for dealing with time values is better.\n",
    "\n",
    "But if we have the insight to treat times as base 60 numbers and make the investment of writing the conversion functions (`time_to_int` and `int_to_time`), we get a program that is shorter, easier to read and debug, and more reliable.\n",
    "\n",
    "It is also easier to add features later. For example, imagine subtracting two Times to ﬁnd the duration between them. The naive approach would be to implement subtraction with borrowing. Using the conversion functions would be easier and more likely to be correct.\n",
    "\n",
    "Ironically, sometimes making a problem harder (or more general) makes it easier (because there are fewer special cases and fewer opportunities for error)."
   ]
  },
  {
   "cell_type": "code",
   "execution_count": 0,
   "metadata": {
    "collapsed": false
   },
   "outputs": [
   ],
   "source": [
   ]
  },
  {
   "cell_type": "code",
   "execution_count": 0,
   "metadata": {
    "collapsed": false
   },
   "outputs": [
   ],
   "source": [
   ]
  },
  {
   "cell_type": "markdown",
   "metadata": {
    "collapsed": false
   },
   "source": [
    "## 16.5 Debugging\n",
    "\n",
    "A Time object is well-formed if the values of `minute` and `second` are between 0 and 60 (including 0 but not 60) and if `hour` is positive. `hour` and `minute` should be integral values, but we might allow `second` to have a fraction part.\n",
    "\n",
    "Requirements like these are called **invariants** because they should always be true. To put it a different way, if they are not true, something has gone wrong.\n",
    "\n",
    "Writing code to check invariants can help detect errors and ﬁnd their causes. For example, you might have a function like `valid_time` that takes a Time object and returns `False` if it violates an invariant:\n",
    "\n",
    "    def valid_time(time):\n",
    "        if time.hour < 0 or time.minute < 0 or time.second < 0:\n",
    "            return False\n",
    "        if time.minute >= 60 or time.second >= 60:\n",
    "            return False\n",
    "        return True\n",
    "\n",
    "At the beginning of each function you could check the arguments to make sure they are valid:\n",
    "\n",
    "    def add_time(t1, t2):\n",
    "        if not valid_time(t1) or not valid_time(t2):\n",
    "            raise ValueError('invalid Time object in add_time')\n",
    "        seconds = time_to_int(t1) + time_to_int(t2)\n",
    "        return int_to_time(seconds)\n",
    "\n",
    "Or you could use an **assert statement**, which checks a given invariant and raises an exception if it fails:\n",
    "\n",
    "    def add_time(t1, t2):\n",
    "        assert valid_time(t1) and valid_time(t2)\n",
    "        seconds = time_to_int(t1) + time_to_int(t2)\n",
    "        return int_to_time(seconds)\n",
    "\n",
    "`assert` statements are useful because they distinguish code that deals with normal conditions from code that checks for errors."
   ]
  },
  {
   "cell_type": "code",
   "execution_count": 0,
   "metadata": {
    "collapsed": false
   },
   "outputs": [
   ],
   "source": [
   ]
  },
  {
   "cell_type": "code",
   "execution_count": 0,
   "metadata": {
    "collapsed": false
   },
   "outputs": [
   ],
   "source": [
   ]
  },
  {
   "cell_type": "markdown",
   "metadata": {
    "collapsed": false
   },
   "source": [
    "## 16.6 Glossary\n",
    "\n",
    "**prototype and patch:** A development plan that involves writing a rough draft of a program, testing, and correcting errors as they are found.\n",
    "\n",
    "**designed development:** A development plan that involves high-level insight into the problem and more planning than incremental development or prototype development.\n",
    "\n",
    "**pure function:** A function that does not modify any of the objects it receives as arguments. Most pure functions are fruitful.\n",
    "\n",
    "**modiﬁer:** A function that changes one or more of the objects it receives as arguments. Most modiﬁers are void; that is, they return `None`.\n",
    "\n",
    "**functional programming style:** A style of program design in which the majority of functions are pure.\n",
    "\n",
    "**invariant:** A condition that should always be true during the execution of a program.\n",
    "\n",
    "**assert statement:** A statement that check a condition and raises an exception if it fails."
   ]
  },
  {
   "cell_type": "markdown",
   "metadata": {
    "collapsed": false
   },
   "source": [
    "## 16.7 Exercises\n",
    "\n",
    "Code examples from this chapter are available from http://thinkpython2.com/code/Time1.py; solutions to the exercises are available from http://thinkpython2.com/code/Time1_soln.py.\n",
    "\n",
    "**Exercise 16.1.** Write a function called `mul_time` that takes a Time object and a number and returns a new Time object that contains the product of the original Time and the number.\n",
    "\n",
    "Then use `mul_time` to write a function that takes a Time object that represents the ﬁnishing time in a race, and a number that represents the distance, and returns a Time object that represents the average pace (time per mile)."
   ]
  },
  {
   "cell_type": "code",
   "execution_count": 0,
   "metadata": {
    "collapsed": false
   },
   "outputs": [
   ],
   "source": [
   ]
  },
  {
   "cell_type": "code",
   "execution_count": 0,
   "metadata": {
    "collapsed": false
   },
   "outputs": [
   ],
   "source": [
   ]
  },
  {
   "cell_type": "markdown",
   "metadata": {
    "collapsed": false
   },
   "source": [
    "**Exercise 16.2.** The `datetime` module provides time objects that are similar to the Time objects in this chapter, but they provide a rich set of methods and operators. Read the documentation at http://docs.python.org/3/library/datetime.html.\n",
    "\n",
    "1. Use the `datetime` module to write a program that gets the current date and prints the day of the week.\n",
    "\n",
    "2. Write a program that takes a birthday as input and prints the user’s age and the number of days, hours, minutes and seconds until their next birthday.\n",
    "\n",
    "3. For two people born on different days, there is a day when one is twice as old as the other.\n",
    "\n",
    "  That’s their Double Day. Write a program that takes two birthdays and computes their Double Day.\n",
    "\n",
    "4. For a little more challenge, write the more general version that computes the day when one person is n times older than the other.\n",
    "\n",
    "Solution: http://thinkpython2.com/code/double.py"
   ]
  },
  {
   "cell_type": "code",
   "execution_count": 0,
   "metadata": {
    "collapsed": false
   },
   "outputs": [
   ],
   "source": [
   ]
  },
  {
   "cell_type": "code",
   "execution_count": 0,
   "metadata": {
    "collapsed": false
   },
   "outputs": [
   ],
   "source": [
   ]
  }
 ],
 "metadata": {
  "kernelspec": {
   "display_name": "Python 3 (Anaconda)",
   "language": "python",
   "name": "anaconda3"
  },
  "language_info": {
   "codemirror_mode": {
    "name": "ipython",
    "version": 3
   },
   "file_extension": ".py",
   "mimetype": "text/x-python",
   "name": "python",
   "nbconvert_exporter": "python",
   "pygments_lexer": "ipython3",
   "version": "3.5.4"
  }
 },
 "nbformat": 4,
 "nbformat_minor": 0
}