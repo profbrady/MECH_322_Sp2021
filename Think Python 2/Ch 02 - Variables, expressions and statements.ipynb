{
 "cells": [
  {
   "cell_type": "markdown",
   "metadata": {
    "collapsed": false
   },
   "source": [
    "#### The material in this document is copied from or based on the the book...\n",
    "\n",
    "# Think Python\n",
    "## How to Think Like a Computer Scientist\n",
    "Second edition, Version 2.2.20\n",
    "\n",
    "##### Allen Downey\n",
    "\n",
    "##### Green Tea Press\n",
    "\n",
    "Needham, Massachusetts\n",
    "\n",
    "\n",
    "\n",
    "\n"
   ]
  },
  {
   "cell_type": "markdown",
   "metadata": {
    "collapsed": false
   },
   "source": [
    "Copyright © 2015 Allen Downey.\n",
    "\n",
    "Green Tea Press 9 Washburn Ave Needham MA 02492\n",
    "\n",
    "Permission is granted to copy, distribute, and/or modify this document under the terms of the Creative Commons Attribution-NonCommercial 3.0 Unported License, which is available at http://creativecommons.org/licenses/by-nc/3.0/.\n",
    "\n",
    "The original form of this book is $\\LaTeX$ source code. Compiling this $\\LaTeX$ source has the effect of generating a device-independent representation of a textbook, which can be converted to other formats and printed.\n",
    "\n",
    "The $\\LaTeX$ source for this book is available from http://www.thinkpython2.com"
   ]
  },
  {
   "cell_type": "markdown",
   "metadata": {
    "collapsed": false
   },
   "source": [
    "# Chapter 2: Variables, expressions and statements\n",
    "\n",
    "One of the most powerful features of a programming language is the ability to manipulate **variables**. A variable is a name that refers to a value.\n"
   ]
  },
  {
   "cell_type": "markdown",
   "metadata": {
    "collapsed": false
   },
   "source": [
    "## 2.1 Assignment statements\n",
    "\n",
    "An **assignment statement** creates a new variable and gives it a value:\n",
    "```\n",
    ">>> message = 'And now for something completely different'\n",
    ">>> n = 17\n",
    ">>> pi = 3.141592653589793\n",
    "```\n",
    "This example makes three assignments. The ﬁrst assigns a string to a new variable named message; the second gives the integer 17 to n; the third assigns the (approximate) value of $\\pi$ to pi.\n",
    "\n",
    "A common way to represent variables on paper is to write the name with an arrow pointing to its value. This kind of ﬁgure is called a **state diagram** because it shows what state each of the variables is in (think of it as the variable’s state of mind). Figure 2.1 (below) shows the result of the previous example.\n"
   ]
  },
  {
   "attachments": {
   },
   "cell_type": "markdown",
   "metadata": {
    "collapsed": false
   },
   "source": [
    "![state2.png](state2.png)\n",
    "\n",
    "Figure 2.1: State diagram."
   ]
  },
  {
   "cell_type": "markdown",
   "metadata": {
    "collapsed": false
   },
   "source": [
    "## 2.1 Variable names\n",
    "\n",
    "Programmers generally choose names for their variables that are meaningful -- they document what the variable is used for.\n",
    "\n",
    "Variable names can be as long as you like. They can contain both letters and numbers, but they can’t begin with a number. It is legal to use uppercase letters, but it is conventional to use only lower case for variables names.\n",
    "\n",
    "The underscore character, `_`, can appear in a name. It is often used in names with multiple words, such as `your_name` or `airspeed_of_unladen_swallow`.\n",
    "\n",
    "If you give a variable an illegal name, you get a syntax error:\n",
    "```\n",
    ">>> 76trombones = 'big parade'\n",
    "SyntaxError: invalid syntax\n",
    "\n",
    ">>> more@ = 1000000\n",
    "SyntaxError: invalid syntax\n",
    "\n",
    ">>> class = 'Advanced Theoretical Zymurgy'\n",
    "SyntaxError: invalid syntax\n",
    "```\n",
    "`76trombones` is illegal because it begins with a number. `more@` is illegal because it contains an illegal character, `@`. But what’s wrong with `class`?\n",
    "\n",
    "It turns out that `class` is one of Python’s **keywords**. The interpreter uses keywords to recognize the structure of the program, and they cannot be used as variable names.\n",
    "\n",
    "Python 3 has these keywords:\n",
    "\n",
    "|         |            |          |           |          |\n",
    "|--       |--          |--        |--         |--        |\n",
    "|`False`  | `class`    | `finally`| `is`      | `return` |\n",
    "|`None`   | `continue` | `for`    | `lambda`  | `try`    |\n",
    "| `True`  | `def`      | `from`   | `nonlocal`| `while`  |\n",
    "|`and`    | `del`      |`global`  | `not`     | `with`   |\n",
    "| `as`    | `elif`     | `if`     | `or`      | `yield`  |\n",
    "| `assert`| `else`     | `import` | `pass`    |          |\n",
    "| `break` | `except`   | `in`     | `raise`   |          |\n",
    "\n",
    "\n",
    "You don’t have to memorize this list. In most development environments, keywords are displayed in a different color; if you try to use one as a variable name, you’ll know."
   ]
  },
  {
   "cell_type": "markdown",
   "metadata": {
    "collapsed": false
   },
   "source": [
    "## 2.3 Expressions and statements\n",
    "\n",
    "An **expression** is a combination of values, variables, and operators. A value all by itself is considered an expression, and so is a variable, so the following are all legal expressions:\n",
    "```\n",
    ">>> 42 \n",
    "42\n",
    ">>> n \n",
    "17\n",
    ">>> n + 25 \n",
    "42\n",
    "```\n",
    "When you type an expression at the prompt, the interpreter **evaluates** it, which means that it ﬁnds the value of the expression. In this example, n has the value 17 and n + 25 has the value 42.\n",
    "\n",
    "A **statement** is a unit of code that has an effect, like creating a variable or displaying a value.\n",
    "```\n",
    ">>> n = 17\n",
    ">>> print(n)\n",
    "```\n",
    "The ﬁrst line is an assignment statement that gives a value to n. The second line is a print statement that displays the value of n.\n",
    "\n",
    "When you type a statement, the interpreter **executes** it, which means that it does whatever the statement says. In general, statements don’t have values."
   ]
  },
  {
   "cell_type": "markdown",
   "metadata": {
    "collapsed": false
   },
   "source": [
    "## 2.4 Script mode\n",
    "\n",
    "So far we have run Python in **interactive mode**, which means that you interact directly with the interpreter. Interactive mode is a good way to get started, but if you are working with more than a few lines of code, it can be clumsy.\n",
    "\n",
    "The alternative is to save code in a ﬁle called a **script** and then run the interpreter in **script mode** to execute the script. By convention, Python scripts have names that end with .py.\n",
    "\n",
    "If you know how to create and run a script on your computer, you are ready to go. Otherwise I recommend using PythonAnywhere again. I have posted instructions for running in script mode at http://tinyurl.com/thinkpython2e.\n",
    "\n",
    "Because Python provides both modes, you can test bits of code in interactive mode before you put them in a script. But there are differences between interactive mode and script mode that can be confusing.\n",
    "\n",
    "For example, if you are using Python as a calculator, you might type\n",
    "```\n",
    ">>> miles = 26.2\n",
    ">>> miles * 1.61\n",
    "42.182\n",
    "```\n",
    "The ﬁrst line assigns a value to `miles`, but it has no visible effect. The second line is an expression, so the interpreter evaluates it and displays the result. It turns out that a marathon is about 42 kilometers.\n",
    "\n",
    "But if you type the same code into a script and run it, you get no output at all. In script mode an expression, all by itself, has no visible effect. Python actually evaluates the expression, but it doesn’t display the value unless you tell it to:\n",
    "```\n",
    "miles = 26.2 \n",
    "print(miles * 1.61)\n",
    "```\n",
    "This behavior can be confusing at ﬁrst.\n",
    "\n",
    "A script usually contains a sequence of statements. If there is more than one statement, the results appear one at a time as the statements execute.\n",
    "\n",
    "For example, the script\n",
    "```\n",
    "print(1) x = 2 \n",
    "print(x)\n",
    "```\n",
    "produces the output\n",
    "```\n",
    "1\n",
    "2\n",
    "```\n",
    "The assignment statement produces no output.\n",
    "\n",
    "To check your understanding, type the following statements in the Python interpreter and see what they do:\n",
    "```\n",
    "5 \n",
    "x = 5 \n",
    "x + 1 \n",
    "```\n",
    "Now put the same statements in a script and run it. What is the output? Modify the script by transforming each expression into a print statement and then run it again."
   ]
  },
  {
   "cell_type": "markdown",
   "metadata": {
    "collapsed": false
   },
   "source": [
    "## 2.5 Order of operations\n",
    "\n",
    "When an expression contains more than one operator, the order of evaluation depends on the **order of operations**. For mathematical operators, Python follows mathematical convention. The acronym **PEMDAS** is a useful way to remember the rules:\n",
    "\n",
    "• **P**arentheses have the highest precedence and can be used to force an expression to evaluate in the order you want. Since expressions in parentheses are evaluated ﬁrst, `2 * (3-1)` is `4`, and `(1+1)**(5-2)` is `8`. You can also use parentheses to make an expression easier to read, as in `(minute * 100) / 60`, even if it doesn’t change the result.\n",
    "\n",
    "• **E**xponentiation has the next highest precedence, so `1 + 2**3` is `9`, not `27`, and `2 * 3**2` is `18`, not `36`.\n",
    "\n",
    "• **M**ultiplication and **D**ivision have higher precedence than **A**ddition and **S**ubtraction.\n",
    "\n",
    "So `2*3-1` is `5`, not `4`, and `6+4/2` is `8`, not `5`.\n",
    "\n",
    "• Operators with the same precedence are evaluated from left to right (except exponentiation). So in the expression `degrees / 2 * pi`, the division happens ﬁrst and the result is multiplied by `pi`. To divide by 2$\\pi$, you can use parentheses or write `degrees / 2 / pi`.\n",
    "\n",
    "I don’t work very hard to remember the precedence of operators. If I can’t tell by looking at the expression, I use parentheses to make it obvious."
   ]
  },
  {
   "cell_type": "markdown",
   "metadata": {
    "collapsed": false
   },
   "source": [
    "## 2.6 String operations\n",
    "\n",
    "In general, you can’t perform mathematical operations on strings, even if the strings look like numbers, so the following are illegal:\n",
    "\n",
    "`'2'-'1' 'eggs'/'easy' 'third'*'a charm'`\n",
    "\n",
    "But there are two exceptions, `+` and `*`.\n",
    "\n",
    "The `+` operator performs **string concatenation**, which means it joins the strings by linking them end-to-end. For example:\n",
    "\n",
    "    >>> first = 'throat'\n",
    "    >>> second = 'warbler'\n",
    "    >>> first + second\n",
    "    throatwarbler\n",
    "\n",
    "The `*` operator also works on strings; it performs repetition. For example, `'Spam'*3` is `'SpamSpamSpam'`. If one of the values is a string, the other has to be an integer.\n",
    "\n",
    "This use of `+` and `*` makes sense by analogy with addition and multiplication. Just as `4*3` is equivalent to `4+4+4`, we expect `'Spam'*3` to be the same as `'Spam'+'Spam'+'Spam'`, and it is. On the other hand, there is a signiﬁcant way in which string concatenation and repetition are different from integer addition and multiplication. Can you think of a property that addition has that string concatenation does not?"
   ]
  },
  {
   "cell_type": "markdown",
   "metadata": {
    "collapsed": false
   },
   "source": [
    "## 2.7 Comments\n",
    "\n",
    "As programs get bigger and more complicated, they get more difﬁcult to read. Formal languages are dense, and it is often difﬁcult to look at a piece of code and ﬁgure out what it is doing, or why.\n",
    "\n",
    "For this reason, it is a good idea to add notes to your programs to explain in natural language what the program is doing. These notes are called **comments**, and they start with the `#` symbol:\n",
    "\n",
    "    # compute the percentage of the hour that has elapsed\n",
    "    percentage = (minute * 100) / 60\n",
    "\n",
    "In this case, the comment appears on a line by itself. You can also put comments at the end of a line:\n",
    "\n",
    "    percentage = (minute * 100) / 60      # percentage of an hour\n",
    "\n",
    "Everything from the `#` to the end of the line is ignored--it has no effect on the execution of the program.\n",
    "\n",
    "Comments are most useful when they document non-obvious features of the code. It is reasonable to assume that the reader can ﬁgure out *what* the code does; it is more useful to explain *why*.\n",
    "\n",
    "This comment is redundant with the code and useless:\n",
    "\n",
    "    v = 5     # assign 5 to v \n",
    "\n",
    "This comment contains useful information that is not in the code:\n",
    "\n",
    "    v = 5     # velocity in meters/second.\n",
    "\n",
    "Good variable names can reduce the need for comments, but long names can make complex expressions hard to read, so there is a tradeoff."
   ]
  },
  {
   "cell_type": "markdown",
   "metadata": {
    "collapsed": false
   },
   "source": [
    "## 2.8 Debugging\n",
    "\n",
    "Three kinds of errors can occur in a program: syntax errors, runtime errors, and semantic errors. It is useful to distinguish between them in order to track them down more quickly.\n",
    "\n",
    "**Syntax error:** “Syntax” refers to the structure of a program and the rules about that structure. For example, parentheses have to come in matching pairs, so `(1 + 2)` is legal, but `8)` is a **syntax error**.\n",
    "\n",
    "If there is a syntax error anywhere in your program, Python displays an error message and quits, and you will not be able to run the program. During the ﬁrst few weeks of your programming career, you might spend a lot of time tracking down syntax errors. As you gain experience, you will make fewer errors and ﬁnd them faster.\n",
    "\n",
    "**Runtime error:** The second type of error is a runtime error, so called because the error does not appear until after the program has started running. These errors are also called **exceptions** because they usually indicate that something exceptional (and bad) has happened.\n",
    "\n",
    "Runtime errors are rare in the simple programs you will see in the ﬁrst few chapters, so it might be a while before you encounter one.\n",
    "\n",
    "**Semantic error:** The third type of error is “semantic”, which means related to meaning. If there is a semantic error in your program, it will run without generating error messages, but it will not do the right thing. It will do something else. Speciﬁcally, it will do what you told it to do.\n",
    "\n",
    "Identifying semantic errors can be tricky because it requires you to work backward by looking at the output of the program and trying to ﬁgure out what it is doing."
   ]
  },
  {
   "cell_type": "markdown",
   "metadata": {
    "collapsed": false
   },
   "source": [
    "## 2.9 Glossary\n",
    "\n",
    "**variable:** A name that refers to a value.\n",
    "\n",
    "**assignment:** A statement that assigns a value to a variable.\n",
    "\n",
    "**state diagram:** A graphical representation of a set of variables and the values they refer to.\n",
    "\n",
    "**keyword:** A reserved word that is used to parse a program; you cannot use keywords like `if`, `def`, and `while` as variable names.\n",
    "\n",
    "**operand:** One of the values on which an operator operates.\n",
    "\n",
    "**expression:** A combination of variables, operators, and values that represents a single result.\n",
    "\n",
    "**evaluate:** To simplify an expression by performing the operations in order to yield a single value.\n",
    "\n",
    "**statement:** A section of code that represents a command or action. So far, the statements we have seen are assignments and print statements.\n",
    "\n",
    "**execute:** To run a statement and do what it says.\n",
    "\n",
    "**interactive mode:** A way of using the Python interpreter by typing code at the prompt.\n",
    "\n",
    "**script mode:** A way of using the Python interpreter to read code from a script and run it. script: A program stored in a ﬁle.\n",
    "\n",
    "**order of operations:** Rules governing the order in which expressions involving multiple operators and operands are evaluated.\n",
    "\n",
    "**concatenate:** To join two operands end-to-end.\n",
    "\n",
    "**comment:** Information in a program that is meant for other programmers (or anyone reading the source code) and has no effect on the execution of the program.\n",
    "\n",
    "**syntax error:** An error in a program that makes it impossible to parse (and therefore impossible to interpret).\n",
    "\n",
    "**exception:** An error that is detected while the program is running.\n",
    "\n",
    "**semantics:** The meaning of a program.\n",
    "\n",
    "**semantic error:** An error in a program that makes it do something other than what the programmer intended."
   ]
  },
  {
   "cell_type": "markdown",
   "metadata": {
    "collapsed": false
   },
   "source": [
    "## 2.10 Exercises\n",
    "\n",
    "**Exercise 2.1.** Repeating my advice from the previous chapter, whenever you learn a new feature, you should try it out in interactive mode and make errors on purpose to see what goes wrong.\n",
    "\n",
    "* We’ve seen that `n = 42` is legal. What about `42 = n`?\n",
    "\n",
    "* How about `x = y = 1`?\n",
    "\n",
    "* In some languages every statement ends with a semi-colon, `;`. What happens if you put a semi-colon at the end of a Python statement?\n",
    "\n",
    "* What if you put a period at the end of a statement?\n",
    "\n",
    "* In math notation you can multiply $x$ and $y$ like this: $xy$. What happens if you try that in Python?\n",
    "\n",
    "**Exercise 2.2.** Practice using the Python interpreter as a calculator:\n",
    "\n",
    "1. The volume of a sphere with radius $r$ is $\\frac{4}{3}\\pi r^3$ . What is the volume of a sphere with radius 5?\n",
    "\n",
    "2. Suppose the cover price of a book is \\$24.95, but bookstores get a 40% discount. Shipping costs \\$3 for the ﬁrst copy and 75 cents for each additional copy. What is the total wholesale cost for 60 copies?\n",
    "\n",
    "3. If I leave my house at 6:52 am and run 1 mile at an easy pace (8:15 per mile), then 3 miles at tempo (7:12 per mile) and 1 mile at easy pace again, what time do I get home for breakfast?"
   ]
  },
  {
   "cell_type": "markdown",
   "metadata": {
    "collapsed": false
   },
   "source": [
    "*Use the following code cells to help answer the above questions.*"
   ]
  },
  {
   "cell_type": "code",
   "execution_count": 0,
   "metadata": {
    "collapsed": false
   },
   "outputs": [
   ],
   "source": [
   ]
  },
  {
   "cell_type": "code",
   "execution_count": 0,
   "metadata": {
    "collapsed": false
   },
   "outputs": [
   ],
   "source": [
   ]
  },
  {
   "cell_type": "code",
   "execution_count": 0,
   "metadata": {
    "collapsed": false
   },
   "outputs": [
   ],
   "source": [
   ]
  },
  {
   "cell_type": "code",
   "execution_count": 0,
   "metadata": {
    "collapsed": false
   },
   "outputs": [
   ],
   "source": [
   ]
  },
  {
   "cell_type": "code",
   "execution_count": 0,
   "metadata": {
    "collapsed": false
   },
   "outputs": [
   ],
   "source": [
   ]
  },
  {
   "cell_type": "code",
   "execution_count": 0,
   "metadata": {
    "collapsed": false
   },
   "outputs": [
   ],
   "source": [
   ]
  },
  {
   "cell_type": "code",
   "execution_count": 0,
   "metadata": {
    "collapsed": false
   },
   "outputs": [
   ],
   "source": [
   ]
  },
  {
   "cell_type": "code",
   "execution_count": 0,
   "metadata": {
    "collapsed": false
   },
   "outputs": [
   ],
   "source": [
   ]
  }
 ],
 "metadata": {
  "kernelspec": {
   "display_name": "Python 3 (Anaconda)",
   "language": "python",
   "name": "anaconda3"
  },
  "language_info": {
   "codemirror_mode": {
    "name": "ipython",
    "version": 3
   },
   "file_extension": ".py",
   "mimetype": "text/x-python",
   "name": "python",
   "nbconvert_exporter": "python",
   "pygments_lexer": "ipython3",
   "version": "3.5.5"
  }
 },
 "nbformat": 4,
 "nbformat_minor": 0
}