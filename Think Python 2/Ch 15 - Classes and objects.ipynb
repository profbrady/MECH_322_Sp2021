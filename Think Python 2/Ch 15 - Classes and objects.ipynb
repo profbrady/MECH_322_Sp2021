{
 "cells": [
  {
   "cell_type": "markdown",
   "metadata": {
    "collapsed": false
   },
   "source": [
    "#### The material in this document is copied from or based on the the book...\n",
    "\n",
    "# Think Python\n",
    "## How to Think Like a Computer Scientist\n",
    "Second edition, Version 2.2.20\n",
    "\n",
    "##### Allen Downey\n",
    "\n",
    "##### Green Tea Press\n",
    "\n",
    "Needham, Massachusetts\n",
    "\n",
    "\n",
    "\n",
    "\n"
   ]
  },
  {
   "cell_type": "markdown",
   "metadata": {
    "collapsed": false
   },
   "source": [
    "Copyright © 2015 Allen Downey.\n",
    "\n",
    "Green Tea Press 9 Washburn Ave Needham MA 02492\n",
    "\n",
    "Permission is granted to copy, distribute, and/or modify this document under the terms of the Creative Commons Attribution-NonCommercial 3.0 Unported License, which is available at http://creativecommons.org/licenses/by-nc/3.0/.\n",
    "\n",
    "The original form of this book is $\\LaTeX$ source code. Compiling this $\\LaTeX$ source has the effect of generating a device-independent representation of a textbook, which can be converted to other formats and printed.\n",
    "\n",
    "The $\\LaTeX$ source for this book is available from http://www.thinkpython2.com"
   ]
  },
  {
   "cell_type": "markdown",
   "metadata": {
    "collapsed": false
   },
   "source": [
    "# Chapter 15: Classes and objects\n",
    "\n",
    "At this point you know how to use functions to organize code and built-in types to organize data. The next step is to learn “object-oriented programming”, which uses programmerdeﬁned types to organize both code and data. Object-oriented programming is a big topic; it will take a few chapters to get there.\n",
    "\n",
    "Code examples from this chapter are available from http://thinkpython2.com/code/Point1.py; solutions to the exercises are available from http://thinkpython2.com/code/Point1_soln.py.\n",
    "\n",
    "## 15.1 Programmer-deﬁned types\n",
    "\n",
    "We have used many of Python’s built-in types; now we are going to deﬁne a new type. As an example, we will create a type called `Point` that represents a point in two-dimensional space.\n",
    "\n",
    "In mathematical notation, points are often written in parentheses with a comma separating the coordinates. For example, $(0, 0)$ represents the origin, and $( x, y)$ represents the point $x$ units to the right and $y$ units up from the origin.\n",
    "\n",
    "There are several ways we might represent points in Python:\n",
    "\n",
    "* We could store the coordinates separately in two variables, `x` and `y`.\n",
    "\n",
    "* We could store the coordinates as elements in a list or tuple.\n",
    "\n",
    "* We could create a new type to represent points as objects.\n",
    "\n",
    "Creating a new type is more complicated than the other options, but it has advantages that will be apparent soon.\n",
    "\n",
    "A programmer-deﬁned type is also called a **class**. A class deﬁnition looks like this:\n",
    "\n",
    "    class Point:\n",
    "        \"\"\"Represents a point in 2-D space.\"\"\"\n",
    "\n",
    "The header indicates that the new class is called `Point`. The body is a docstring that explains what the class is for. You can deﬁne variables and methods inside a class deﬁnition, but we will get back to that later.\n",
    "\n",
    "Deﬁning a class named `Point` creates a **class object**.\n",
    "\n",
    "    >>> Point\n",
    "    <class '__main__.Point'>\n",
    "\n",
    "Because `Point` is deﬁned at the top level, its “full name” is `__main__.Point`.\n",
    "\n",
    "The class object is like a factory for creating objects. To create a Point, you call `Point` as if it were a function.\n",
    "\n",
    "    >>> blank = Point()\n",
    "    >>> blank\n",
    "    <__main__.Point object at 0xb7e9d3ac>\n",
    "\n",
    "The return value is a reference to a Point object, which we assign to `blank`.\n",
    "\n",
    "Creating a new object is called **instantiation**, and the object is an **instance** of the class.\n",
    "\n",
    "When you print an instance, Python tells you what class it belongs to and where it is stored in memory (the preﬁx `0x` means that the following number is in hexadecimal).\n",
    "\n",
    "Every object is an instance of some class, so “object” and “instance” are interchangeable. But in this chapter I use “instance” to indicate that I am talking about a programmerdeﬁned type."
   ]
  },
  {
   "cell_type": "markdown",
   "metadata": {
    "collapsed": false
   },
   "source": [
    "![point.png](point.png)\n",
    "\n",
    "Figure 15.1: Object diagram"
   ]
  },
  {
   "cell_type": "markdown",
   "metadata": {
    "collapsed": false
   },
   "source": [
    "## 15.2 Attributes\n",
    "\n",
    "You can assign values to an instance using dot notation:\n",
    "\n",
    "    >>> blank.x = 3.0\n",
    "    >>> blank.y = 4.0\n",
    "\n",
    "This syntax is similar to the syntax for selecting a variable from a module, such as `math.pi` or `string.whitespace`. In this case, though, we are assigning values to named elements of an object. These elements are called **attributes**.\n",
    "\n",
    "As a noun, “AT-trib-ute” is pronounced with emphasis on the ﬁrst syllable, as opposed to “a-TRIB-ute”, which is a verb.\n",
    "\n",
    "The following diagram shows the result of these assignments. A state diagram that shows an object and its attributes is called an **object diagram**; see Figure 15.1.\n",
    "\n",
    "The variable `blank` refers to a Point object, which contains two attributes. Each attribute refers to a ﬂoating-point number.\n",
    "\n",
    "You can read the value of an attribute using the same syntax:\n",
    "\n",
    "    >>> blank.y\n",
    "    4.0\n",
    "    >>> x = blank.x\n",
    "    >>> x\n",
    "    3.0\n",
    "\n",
    "The expression `blank.x` means, “Go to the object `blank` refers to and get the value of `x`.” In the example, we assign that value to a variable named `x`. There is no conﬂict between the variable `x` and the attribute `x`.\n",
    "\n",
    "You can use dot notation as part of any expression. For example:\n",
    "\n",
    "    >>> '(%g, %g)' % (blank.x, blank.y)\n",
    "    '(3.0, 4.0)'\n",
    "    >>> distance = math.sqrt(blank.x**2 + blank.y**2)\n",
    "    >>> distance\n",
    "    5.0\n",
    "\n",
    "You can pass an instance as an argument in the usual way. For example:\n",
    "\n",
    "    def print_point(p):\n",
    "        print('(%g, %g)' % (p.x, p.y))\n",
    "\n",
    "`print_point` takes a point as an argument and displays it in mathematical notation. To invoke it, you can pass `blank` as an argument:\n",
    "\n",
    "    >>> print_point(blank)\n",
    "    (3.0, 4.0)\n",
    "\n",
    "Inside the function, `p` is an alias for `blank`, so if the function modiﬁes `p`, `blank` changes.\n",
    "\n",
    "As an exercise, write a function called `distance_between_points` that takes two Points as arguments and returns the distance between them."
   ]
  },
  {
   "cell_type": "code",
   "execution_count": 0,
   "metadata": {
    "collapsed": false
   },
   "outputs": [
   ],
   "source": [
   ]
  },
  {
   "cell_type": "code",
   "execution_count": 0,
   "metadata": {
    "collapsed": false
   },
   "outputs": [
   ],
   "source": [
   ]
  },
  {
   "cell_type": "markdown",
   "metadata": {
    "collapsed": false
   },
   "source": [
    "## 15.3 Rectangles\n",
    "\n",
    "Sometimes it is obvious what the attributes of an object should be, but other times you have to make decisions. For example, imagine you are designing a class to represent rectangles. What attributes would you use to specify the location and size of a rectangle? You can ignore angle; to keep things simple, assume that the rectangle is either vertical or horizontal.\n",
    "\n",
    "There are at least two possibilities:\n",
    "\n",
    "* You could specify one corner of the rectangle (or the center), the width, and the height.\n",
    "\n",
    "* You could specify two opposing corners.\n",
    "\n",
    "At this point it is hard to say whether either is better than the other, so we’ll implement the ﬁrst one, just as an example.\n",
    "\n",
    "Here is the class deﬁnition:\n",
    "\n",
    "    class Rectangle:\n",
    "        \"\"\"Represents a rectangle.\n",
    "\n",
    "        attributes: width, height, corner.\n",
    "        \"\"\"\n",
    "\n",
    "The docstring lists the attributes: `width` and `height` are numbers; `corner` is a Point object that speciﬁes the lower-left corner.\n",
    "\n",
    "To represent a rectangle, you have to instantiate a Rectangle object and assign values to the attributes:\n",
    "\n",
    "    box = Rectangle()\n",
    "    box.width = 100.0\n",
    "    box.height = 200.0\n",
    "    box.corner = Point()\n",
    "    box.corner.x = 0.0\n",
    "    box.corner.y = 0.0\n",
    "\n",
    "The expression `box.corner.x` means, “Go to the object `box` refers to and select the attribute named `corner`; then go to that object and select the attribute named `x`.”\n",
    "\n",
    "Figure 15.2 shows the state of this object. An object that is an attribute of another object is **embedded**."
   ]
  },
  {
   "cell_type": "markdown",
   "metadata": {
    "collapsed": false
   },
   "source": [
    "![rectangle.png](rectangle.png)\n",
    "\n",
    "Figure 15.2: Object diagram"
   ]
  },
  {
   "cell_type": "markdown",
   "metadata": {
    "collapsed": false
   },
   "source": [
    "## 15.4 Instances as return values\n",
    "\n",
    "Functions can return instances. For example, `find_center` takes a `Rectangle` as an argument and returns a `Point` that contains the coordinates of the center of the `Rectangle`:\n",
    "\n",
    "    def find_center(rect):\n",
    "        p = Point()\n",
    "        p.x = rect.corner.x + rect.width/2\n",
    "        p.y = rect.corner.y + rect.height/2\n",
    "        return p\n",
    "\n",
    "Here is an example that passes `box` as an argument and assigns the resulting Point to `center`:\n",
    "\n",
    "    >>> center = find_center(box)\n",
    "    >>> print_point(center)\n",
    "    (50, 100)"
   ]
  },
  {
   "cell_type": "markdown",
   "metadata": {
    "collapsed": false
   },
   "source": [
    "## 15.5 Objects are mutable\n",
    "\n",
    "You can change the state of an object by making an assignment to one of its attributes. For example, to change the size of a rectangle without changing its position, you can modify the values of `width` and `height`:\n",
    "\n",
    "    box.width = box.width + 50\n",
    "    box.height = box.height + 100\n",
    "\n",
    "You can also write functions that modify objects. For example, `grow_rectangle` takes a Rectangle object and two numbers, `dwidth` and `dheight`, and adds the numbers to the width and height of the rectangle:\n",
    "\n",
    "    def grow_rectangle(rect, dwidth, dheight):\n",
    "        rect.width += dwidth\n",
    "        rect.height += dheight\n",
    "\n",
    "Here is an example that demonstrates the effect:\n",
    "\n",
    "    >>> box.width, box.height\n",
    "    (150.0, 300.0)\n",
    "    >>> grow_rectangle(box, 50, 100)\n",
    "    >>> box.width, box.height\n",
    "    (200.0, 400.0)\n",
    "\n",
    "Inside the function, `rect` is an alias for `box`, so when the function modiﬁes `rect`, `box` changes.\n",
    "\n",
    "As an exercise, write a function named `move_rectangle` that takes a Rectangle and two numbers named `dx` and `dy`. It should change the location of the rectangle by adding `dx` to the `x` coordinate of `corner` and adding `dy` to the `y` coordinate of `corner`."
   ]
  },
  {
   "cell_type": "code",
   "execution_count": 0,
   "metadata": {
    "collapsed": false
   },
   "outputs": [
   ],
   "source": [
   ]
  },
  {
   "cell_type": "code",
   "execution_count": 0,
   "metadata": {
    "collapsed": false
   },
   "outputs": [
   ],
   "source": [
   ]
  },
  {
   "cell_type": "markdown",
   "metadata": {
    "collapsed": false
   },
   "source": [
    "## 15.6 Copying\n",
    "\n",
    "Aliasing can make a program difﬁcult to read because changes in one place might have unexpected effects in another place. It is hard to keep track of all the variables that might refer to a given object.\n",
    "\n",
    "Copying an object is often an alternative to aliasing. The `copy` module contains a function called `copy` that can duplicate any object:\n",
    "\n",
    "    >>> p1 = Point()\n",
    "    >>> p1.x = 3.0\n",
    "    >>> p1.y = 4.0\n",
    "\n",
    "    >>> import copy\n",
    "    >>> p2 = copy.copy(p1)\n",
    "\n",
    "`p1` and `p2` contain the same data, but they are not the same Point.\n",
    "\n",
    "    >>> print_point(p1)\n",
    "    (3, 4)\n",
    "    >>> print_point(p2)\n",
    "    (3, 4)\n",
    "    >>> p1 is p2 False\n",
    "    >>> p1 == p2 False\n",
    "\n",
    "The `is` operator indicates that `p1` and `p2` are not the same object, which is what we expected. But you might have expected `==` to yield `True` because these points contain the same data. In that case, you will be disappointed to learn that for instances, the default behavior of the `==` operator is the same as the `is` operator; it checks object identity, not object equivalence. That’s because for programmer-deﬁned types, Python doesn’t know what should be considered equivalent. At least, not yet.\n",
    "\n",
    "If you use `copy.copy` to duplicate a Rectangle, you will ﬁnd that it copies the Rectangle object but not the embedded Point.\n",
    "\n",
    "    >>> box2 = copy.copy(box)\n",
    "    >>> box2 is box\n",
    "    False\n",
    "    >>> box2.corner is box.corner\n",
    "    True\n",
    "\n",
    "Figure 15.3 shows what the object diagram looks like. This operation is called a **shallow copy** because it copies the object and any references it contains, but not the embedded objects.\n",
    "\n",
    "For most applications, this is not what you want. In this example, invoking `grow_rectangle` on one of the Rectangles would not affect the other, but invoking `move_rectangle` on either would affect both! This behavior is confusing and error-prone.\n",
    "\n",
    "Fortunately, the copy module provides a method named `deepcopy` that copies not only the object but also the objects it refers to, and the objects they refer to, and so on. You will not be surprised to learn that this operation is called a **deep copy**.\n",
    "\n",
    "    >>> box3 = copy.deepcopy(box)\n",
    "    >>> box3 is box\n",
    "    False\n",
    "    >>> box3.corner is box.corner\n",
    "    False\n",
    "\n",
    "`box3` and `box` are completely separate objects.\n",
    "\n",
    "As an exercise, write a version of `move_rectangle` that creates and returns a new Rectangle instead of modifying the old one."
   ]
  },
  {
   "cell_type": "markdown",
   "metadata": {
    "collapsed": false
   },
   "source": [
    "![rectangle2.png](rectangle2.png)\n",
    "\n",
    "Figure 15.3: Object diagram"
   ]
  },
  {
   "cell_type": "code",
   "execution_count": 0,
   "metadata": {
    "collapsed": false
   },
   "outputs": [
   ],
   "source": [
   ]
  },
  {
   "cell_type": "code",
   "execution_count": 0,
   "metadata": {
    "collapsed": false
   },
   "outputs": [
   ],
   "source": [
   ]
  },
  {
   "cell_type": "markdown",
   "metadata": {
    "collapsed": false
   },
   "source": [
    "## 15.7 Debugging\n",
    "\n",
    "When you start working with objects, you are likely to encounter some new exceptions. If you try to access an attribute that doesn’t exist, you get an `AttributeError`:\n",
    "\n",
    "    >>> p = Point()\n",
    "    >>> p.x = 3\n",
    "    >>> p.y = 4\n",
    "    >>> p.z\n",
    "    AttributeError: Point instance has no attribute 'z'\n",
    "\n",
    "If you are not sure what type an object is, you can ask:\n",
    "\n",
    "    >>> type(p)\n",
    "    <class '__main__.Point'>\n",
    "\n",
    "You can also use `isinstance` to check whether an object is an instance of a class:\n",
    "\n",
    "    >>> isinstance(p, Point)\n",
    "    True\n",
    "\n",
    "If you are not sure whether an object has a particular attribute, you can use the built-in function `hasattr`:\n",
    "\n",
    "    >>> hasattr(p, 'x')\n",
    "    True\n",
    "    >>> hasattr(p, 'z')\n",
    "    False\n",
    "\n",
    "The ﬁrst argument can be any object; the second argument is a string that contains the name of the attribute.\n",
    "\n",
    "You can also use a `try` statement to see if the object has the attributes you need:\n",
    "\n",
    "    try:\n",
    "        x = p.x\n",
    "    except AttributeError:\n",
    "        x = 0\n",
    "\n",
    "This approach can make it easier to write functions that work with different types; more on that topic is coming up in Section 17.9."
   ]
  },
  {
   "cell_type": "markdown",
   "metadata": {
    "collapsed": false
   },
   "source": [
    "## 15.8 Glossary\n",
    "\n",
    "**class:** A programmer-deﬁned type. A class deﬁnition creates a new class object.\n",
    "\n",
    "**class object:** An object that contains information about a programmer-deﬁned type. The class object can be used to create instances of the type.\n",
    "\n",
    "**instance:** An object that belongs to a class.\n",
    "\n",
    "**instantiate:** To create a new object.\n",
    "\n",
    "**attribute:** One of the named values associated with an object.\n",
    "\n",
    "**embedded object:** An object that is stored as an attribute of another object.\n",
    "\n",
    "**shallow copy:** To copy the contents of an object, including any references to embedded objects; implemented by the `copy` function in the `copy` module.\n",
    "\n",
    "**deep copy:** To copy the contents of an object as well as any embedded objects, and any objects embedded in them, and so on; implemented by the `deepcopy` function in the `copy` module.\n",
    "\n",
    "**object diagram:** A diagram that shows objects, their attributes, and the values of the attributes."
   ]
  },
  {
   "cell_type": "markdown",
   "metadata": {
    "collapsed": false
   },
   "source": [
    "## 15.9 Exercises\n",
    "\n",
    "**Exercise 15.1.** Write a deﬁnition for a class named `Circle` with attributes `center` and `radius`, where `center` is a Point object and `radius` is a number.\n",
    "\n",
    "Instantiate a Circle object that represents a circle with its center at (150, 100) and radius 75. Write a function named `point_in_circle` that takes a Circle and a Point and returns `True` if the Point lies in or on the boundary of the circle.\n",
    "\n",
    "Write a function named `rect_in_circle` that takes a Circle and a Rectangle and returns `True` if the Rectangle lies entirely in or on the boundary of the circle.\n",
    "\n",
    "Write a function named `rect_circle_overlap` that takes a Circle and a Rectangle and returns `True` if any of the corners of the Rectangle fall inside the circle. Or as a more challenging version, return `True` if any part of the Rectangle falls inside the circle.\n",
    "\n",
    "Solution: http://thinkpython2.com/code/Circle.py."
   ]
  },
  {
   "cell_type": "code",
   "execution_count": 0,
   "metadata": {
    "collapsed": false
   },
   "outputs": [
   ],
   "source": [
   ]
  },
  {
   "cell_type": "code",
   "execution_count": 0,
   "metadata": {
    "collapsed": false
   },
   "outputs": [
   ],
   "source": [
   ]
  },
  {
   "cell_type": "markdown",
   "metadata": {
    "collapsed": false
   },
   "source": [
    "**Exercise 15.2.** Write a function called `draw_rect` that takes a Turtle object and a Rectangle and uses the Turtle to draw the Rectangle. See Chapter 4 for examples using Turtle objects.\n",
    "\n",
    "Write a function called `draw_circle` that takes a Turtle and a Circle and draws the Circle. Solution: http://thinkpython2.com/code/draw.py."
   ]
  },
  {
   "cell_type": "code",
   "execution_count": 0,
   "metadata": {
    "collapsed": false
   },
   "outputs": [
   ],
   "source": [
   ]
  },
  {
   "cell_type": "code",
   "execution_count": 0,
   "metadata": {
    "collapsed": false
   },
   "outputs": [
   ],
   "source": [
   ]
  }
 ],
 "metadata": {
  "kernelspec": {
   "display_name": "Python 3 (Anaconda)",
   "language": "python",
   "name": "anaconda3"
  },
  "language_info": {
   "codemirror_mode": {
    "name": "ipython",
    "version": 3
   },
   "file_extension": ".py",
   "mimetype": "text/x-python",
   "name": "python",
   "nbconvert_exporter": "python",
   "pygments_lexer": "ipython3",
   "version": "3.5.4"
  }
 },
 "nbformat": 4,
 "nbformat_minor": 0
}