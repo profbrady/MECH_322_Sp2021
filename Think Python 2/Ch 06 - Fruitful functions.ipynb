{
 "cells": [
  {
   "cell_type": "markdown",
   "metadata": {
    "collapsed": false
   },
   "source": [
    "#### The material in this document is copied from or based on the the book...\n",
    "\n",
    "# Think Python\n",
    "## How to Think Like a Computer Scientist\n",
    "Second edition, Version 2.2.20\n",
    "\n",
    "##### Allen Downey\n",
    "\n",
    "##### Green Tea Press\n",
    "\n",
    "Needham, Massachusetts\n",
    "\n",
    "\n",
    "\n",
    "\n"
   ]
  },
  {
   "cell_type": "markdown",
   "metadata": {
    "collapsed": false
   },
   "source": [
    "Copyright © 2015 Allen Downey.\n",
    "\n",
    "Green Tea Press 9 Washburn Ave Needham MA 02492\n",
    "\n",
    "Permission is granted to copy, distribute, and/or modify this document under the terms of the Creative Commons Attribution-NonCommercial 3.0 Unported License, which is available at http://creativecommons.org/licenses/by-nc/3.0/.\n",
    "\n",
    "The original form of this book is $\\LaTeX$ source code. Compiling this $\\LaTeX$ source has the effect of generating a device-independent representation of a textbook, which can be converted to other formats and printed.\n",
    "\n",
    "The $\\LaTeX$ source for this book is available from http://www.thinkpython2.com"
   ]
  },
  {
   "cell_type": "markdown",
   "metadata": {
    "collapsed": false
   },
   "source": [
    "# Chapter 6: Fruitful functions\n",
    "\n",
    "Many of the Python functions we have used, such as the math functions, produce return values. But the functions we’ve written are all void: they have an effect, like printing a value or moving a turtle, but they don’t have a return value. In this chapter you will learn to write fruitful functions.\n"
   ]
  },
  {
   "cell_type": "markdown",
   "metadata": {
    "collapsed": false
   },
   "source": [
    "## 6.1 Return values\n",
    "\n",
    "Calling the function generates a return value, which we usually assign to a variable or use as part of an expression.\n",
    "\n",
    "    e = math.exp(1.0)\n",
    "    height = radius * math.sin(radians)\n",
    "\n",
    "The functions we have written so far are void. Speaking casually, they have no return value; more precisely, their return value is `None`.\n",
    "\n",
    "In this chapter, we are (ﬁnally) going to write fruitful functions. The ﬁrst example is `area`, which returns the area of a circle with the given radius:\n",
    "\n",
    "    def area(radius):\n",
    "        a = math.pi * radius**2\n",
    "        return a\n",
    "\n",
    "We have seen the `return` statement before, but in a fruitful function the `return` statement includes an expression. This statement means: “Return immediately from this function and use the following expression as a return value.” The expression can be arbitrarily complicated, so we could have written this function more concisely:\n",
    "\n",
    "    def area(radius):\n",
    "        return math.pi * radius**2\n",
    "\n",
    "On the other hand, **temporary variables** like a can make debugging easier.\n",
    "\n",
    "Sometimes it is useful to have multiple return statements, one in each branch of a conditional:\n",
    "\n",
    "    def absolute_value(x):\n",
    "        if x < 0:\n",
    "            return -x\n",
    "        else:\n",
    "            return x\n",
    "\n",
    "Since these return statements are in an alternative conditional, only one runs.\n",
    "\n",
    "As soon as a return statement runs, the function terminates without executing any subsequent statements. Code that appears after a `return` statement, or any other place the ﬂow of execution can never reach, is called **dead code**.\n",
    "\n",
    "In a fruitful function, it is a good idea to ensure that every possible path through the program hits a `return` statement. For example:\n",
    "\n",
    "    def absolute_value(x):\n",
    "        if x < 0:\n",
    "            return -x\n",
    "        if x > 0:\n",
    "            return x\n",
    "        \n",
    "This function is incorrect because if x happens to be 0, neither condition is true, and the function ends without hitting a `return` statement. If the ﬂow of execution gets to the end of a function, the return value is `None`, which is not the absolute value of 0.\n",
    "\n",
    "    >>> print(absolute_value(0))\n",
    "    None\n",
    "\n",
    "\n",
    "By the way, Python provides a built-in function called `abs` that computes absolute values.\n",
    "\n",
    "As an exercise, write a `compare` function takes two values, `x` and `y`, and returns `1` if `x > y`, `0` if `x == y`, and `-1` if `x < y`."
   ]
  },
  {
   "cell_type": "code",
   "execution_count": 0,
   "metadata": {
    "collapsed": false
   },
   "outputs": [
   ],
   "source": [
   ]
  },
  {
   "cell_type": "markdown",
   "metadata": {
    "collapsed": false
   },
   "source": [
    "## 6.2 Incremental development\n",
    "\n",
    "As you write larger functions, you might ﬁnd yourself spending more time debugging. To deal with increasingly complex programs, you might want to try a process called **incremental development**. The goal of incremental development is to avoid long debugging sessions by adding and testing only a small amount of code at a time.\n",
    "\n",
    "As an example, suppose you want to ﬁnd the distance between two points, given by the coordinates $( x_1 , y_1 )$ and $( x_2 , y_2 )$. By the Pythagorean theorem, the distance is:\n",
    "\n",
    "$$ \\text{distance} = \\sqrt{( x_2 − x_1 )^2 + (y_2 − y_1 )^2}$$\n",
    "\n",
    "The ﬁrst step is to consider what a `distance` function should look like in Python. In other words, what are the inputs (parameters) and what is the output (return value)?\n",
    "\n",
    "In this case, the inputs are two points, which you can represent using four numbers. The return value is the distance represented by a ﬂoating-point value.\n",
    "\n",
    "Immediately you can write an outline of the function:\n",
    "\n",
    "    def distance(x1, y1, x2, y2):\n",
    "        return 0.0\n",
    "\n",
    "Obviously, this version doesn’t compute distances; it always returns zero. But it is syntactically correct, and it runs, which means that you can test it before you make it more complicated.\n",
    "\n",
    "To test the new function, call it with sample arguments:\n",
    "\n",
    "    >>> distance(1, 2, 4, 6)\n",
    "    0.0\n",
    "\n",
    "I chose these values so that the horizontal distance is 3 and the vertical distance is 4; that way, the result is 5, the hypotenuse of a 3-4-5 triangle. When testing a function, it is useful to know the right answer.\n",
    "\n",
    "At this point we have conﬁrmed that the function is syntactically correct, and we can start adding code to the body. A reasonable next step is to ﬁnd the differences $x_2 − x_1$ and $y_2 − y_1$ . The next version stores those values in temporary variables and prints them.\n",
    "\n",
    "    def distance(x1, y1, x2, y2):\n",
    "        dx = x2 - x1\n",
    "        dy = y2 - y1\n",
    "        print('dx is', dx)\n",
    "        print('dy is', dy)\n",
    "        return 0.0\n",
    "    \n",
    "If the function is working, it should display `dx` is 3 and `dy` is 4. If so, we know that the function is getting the right arguments and performing the ﬁrst computation correctly. If not, there are only a few lines to check.\n",
    "\n",
    "Next we compute the sum of squares of `dx` and `dy`:\n",
    "\n",
    "    def distance(x1, y1, x2, y2):\n",
    "        dx = x2 - x1\n",
    "        dy = y2 - y1\n",
    "        dsquared = dx**2 + dy**2\n",
    "        print('dsquared is: ', dsquared)\n",
    "        return 0.0\n",
    "    \n",
    "Again, you would run the program at this stage and check the output (which should be 25). Finally, you can use `math.sqrt` to compute and return the result:\n",
    "\n",
    "    def distance(x1, y1, x2, y2):\n",
    "        dx = x2 - x1\n",
    "        dy = y2 - y1\n",
    "        dsquared = dx**2 + dy**2\n",
    "        result = math.sqrt(dsquared)\n",
    "        return result\n",
    "\n",
    "If that works correctly, you are done. Otherwise, you might want to print the value of `result` before the `return` statement.\n",
    "\n",
    "The ﬁnal version of the function doesn’t display anything when it runs; it only returns a value. The `print` statements we wrote are useful for debugging, but once you get the function working, you should remove them. Code like that is called **scaffolding** because it is helpful for building the program but is not part of the ﬁnal product.\n",
    "\n",
    "When you start out, you should add only a line or two of code at a time. As you gain more experience, you might ﬁnd yourself writing and debugging bigger chunks. Either way, incremental development can save you a lot of debugging time.\n",
    "\n",
    "The key aspects of the process are:\n",
    "\n",
    "1. Start with a working program and make small incremental changes. At any point, if there is an error, you should have a good idea where it is.\n",
    "\n",
    "2. Use variables to hold intermediate values so you can display and check them.\n",
    "\n",
    "3. Once the program is working, you might want to remove some of the scaffolding or consolidate multiple statements into compound expressions, but only if it does not make the program difﬁcult to read.\n",
    "\n",
    "As an exercise, use incremental development to write a function called `hypotenuse` that returns the length of the hypotenuse of a right triangle given the lengths of the other two legs as arguments. Record each stage of the development process as you go."
   ]
  },
  {
   "cell_type": "code",
   "execution_count": 0,
   "metadata": {
    "collapsed": false
   },
   "outputs": [
   ],
   "source": [
   ]
  },
  {
   "cell_type": "code",
   "execution_count": 0,
   "metadata": {
    "collapsed": false
   },
   "outputs": [
   ],
   "source": [
   ]
  },
  {
   "cell_type": "code",
   "execution_count": 0,
   "metadata": {
    "collapsed": false
   },
   "outputs": [
   ],
   "source": [
   ]
  },
  {
   "cell_type": "code",
   "execution_count": 0,
   "metadata": {
    "collapsed": false
   },
   "outputs": [
   ],
   "source": [
   ]
  },
  {
   "cell_type": "markdown",
   "metadata": {
    "collapsed": false
   },
   "source": [
    "## 6.3 Composition\n",
    "\n",
    "As you should expect by now, you can call one function from within another. As an example, we’ll write a function that takes two points, the center of the circle and a point on the perimeter, and computes the area of the circle.\n",
    "\n",
    "Assume that the center point is stored in the variables `xc` and `yc`, and the perimeter point is in `xp` and `yp`. The ﬁrst step is to ﬁnd the radius of the circle, which is the distance between the two points. We just wrote a function, `distance`, that does that:\n",
    "\n",
    "    radius = distance(xc, yc, xp, yp)\n",
    "\n",
    "The next step is to ﬁnd the area of a circle with that radius; we just wrote that, too:\n",
    "\n",
    "    result = area(radius)\n",
    "\n",
    "Encapsulating these steps in a function, we get:\n",
    "\n",
    "    def circle_area(xc, yc, xp, yp):\n",
    "        radius = distance(xc, yc, xp, yp)\n",
    "        result = area(radius)\n",
    "        return result\n",
    "\n",
    "The temporary variables `radius` and `result` are useful for development and debugging, but once the program is working, we can make it more concise by composing the function calls:\n",
    "\n",
    "    def circle_area(xc, yc, xp, yp):\n",
    "        return area(distance(xc, yc, xp, yp))"
   ]
  },
  {
   "cell_type": "markdown",
   "metadata": {
    "collapsed": false
   },
   "source": [
    "## 6.4 Boolean functions\n",
    "\n",
    "Functions can return booleans, which is often convenient for hiding complicated tests inside functions. For example:\n",
    "\n",
    "    def is_divisible(x, y):\n",
    "        if x % y == 0:\n",
    "            return True\n",
    "        else:\n",
    "            return False\n",
    "\n",
    "It is common to give boolean functions names that sound like yes/no questions; `is_divisible` returns either `True` or `False` to indicate whether `x` is divisible by `y`.\n",
    "\n",
    "Here is an example:\n",
    "\n",
    "    >>> is_divisible(6, 4)\n",
    "    False\n",
    "    >>> is_divisible(6, 3)\n",
    "    True \n",
    "\n",
    "The result of the `==` operator is a boolean, so we can write the function more concisely by returning it directly:\n",
    "\n",
    "    def is_divisible(x, y):\n",
    "        return x % y == 0\n",
    "\n",
    "Boolean functions are often used in conditional statements:\n",
    "\n",
    "    if is_divisible(x, y):\n",
    "        print('x is divisible by y')\n",
    "\n",
    "It might be tempting to write something like:\n",
    "\n",
    "    if is_divisible(x, y) == True:\n",
    "        print('x is divisible by y')\n",
    "\n",
    "But the extra comparison is unnecessary.\n",
    "\n",
    "As an exercise, write a function `is_between(x, y, z)` that returns `True` if `x ≤ y ≤ z` or `False` otherwise."
   ]
  },
  {
   "cell_type": "code",
   "execution_count": 0,
   "metadata": {
    "collapsed": false
   },
   "outputs": [
   ],
   "source": [
   ]
  },
  {
   "cell_type": "code",
   "execution_count": 0,
   "metadata": {
    "collapsed": false
   },
   "outputs": [
   ],
   "source": [
   ]
  },
  {
   "cell_type": "code",
   "execution_count": 0,
   "metadata": {
    "collapsed": false
   },
   "outputs": [
   ],
   "source": [
   ]
  },
  {
   "cell_type": "markdown",
   "metadata": {
    "collapsed": false
   },
   "source": [
    "## 6.5 More recursion\n",
    "\n",
    "We have only covered a small subset of Python, but you might be interested to know that this subset is a *complete* programming language, which means that anything that can be computed can be expressed in this language. Any program ever written could be rewritten using only the language features you have learned so far (actually, you would need a few commands to control devices like the mouse, disks, etc., but that’s all).\n",
    "\n",
    "Proving that claim is a nontrivial exercise ﬁrst accomplished by Alan Turing, one of the ﬁrst computer scientists (some would argue that he was a mathematician, but a lot of early computer scientists started as mathematicians). Accordingly, it is known as the Turing Thesis. For a more complete (and accurate) discussion of the Turing Thesis, I recommend Michael Sipser’s book *Introduction to the Theory of Computation*.\n",
    "\n",
    "To give you an idea of what you can do with the tools you have learned so far, we’ll evaluate a few recursively deﬁned mathematical functions. A recursive deﬁnition is similar to a circular deﬁnition, in the sense that the deﬁnition contains a reference to the thing being deﬁned. A truly circular deﬁnition is not very useful:\n",
    "\n",
    "**vorpal:** An adjective used to describe something that is vorpal.\n",
    "\n",
    "If you saw that deﬁnition in the dictionary, you might be annoyed. On the other hand, if you looked up the deﬁnition of the factorial function, denoted with the symbol $!$, you might get something like this:\n",
    "\n",
    "$$\\begin{align}\n",
    "& 0! = 1 \\\\\n",
    "& n! = n(n − 1)!\n",
    "\\end{align}$$\n",
    "\n",
    "This deﬁnition says that the factorial of $0$ is $1$, and the factorial of any other value, $n$, is $n$ multiplied by the factorial of $n − 1$.\n",
    "\n",
    "So $3!$ is $3$ times $2!$, which is $2$ times $1!$, which is $1$ times $0!$. Putting it all together, $3!$ equals $3$ times $2$ times $1$ times $1$, which is $6$.\n",
    "\n",
    "If you can write a recursive deﬁnition of something, you can write a Python program to evaluate it. The ﬁrst step is to decide what the parameters should be. In this case it should be clear that factorial takes an integer:\n",
    "\n",
    "    def factorial(n):\n",
    "\n",
    "If the argument happens to be $0$, all we have to do is return $1$:\n",
    "\n",
    "    def factorial(n):\n",
    "        if n == 0:\n",
    "            return 1\n",
    "\n",
    "Otherwise, and this is the interesting part, we have to make a recursive call to ﬁnd the factorial of $n − 1$ and then multiply it by $n$:\n",
    "\n",
    "    def factorial(n):\n",
    "        if n == 0:\n",
    "            return 1 else:\n",
    "        recurse = factorial(n-1)\n",
    "        result = n * recurse\n",
    "        return result\n",
    "\n",
    "The ﬂow of execution for this program is similar to the ﬂow of `countdown` in Section 5.8. If we call `factorial` with the value 3:\n",
    "\n",
    "  >Since 3 is not 0, we take the second branch and calculate the factorial of `n-1`...\n",
    "\n",
    "  >>Since 2 is not 0, we take the second branch and calculate the factorial of `n-1`...\n",
    "\n",
    "  >>>Since 1 is not 0, we take the second branch and calculate the factorial of `n-1`...\n",
    "\n",
    "  >>>>Since 0 equals 0, we take the ﬁrst branch and return 1 without making any more recursive calls.\n",
    "\n",
    "  >>>The return value, 1, is multiplied by `n`, which is 1, and the result is returned.\n",
    "\n",
    "  >>The return value, 1, is multiplied by `n`, which is 2, and the result is returned.\n",
    "\n",
    "  >The return value (2) is multiplied by `n`, which is 3, and the result, 6, becomes the return value of the function call that started the whole process.\n",
    "\n",
    "Figure 6.1 shows what the stack diagram looks like for this sequence of function calls.\n",
    "\n",
    "The return values are shown being passed back up the stack. In each frame, the return value is the value of `result`, which is the product of `n` and `recurse`.\n",
    "\n",
    "In the last frame, the local variables `recurse` and `result` do not exist, because the branch that creates them does not run."
   ]
  },
  {
   "cell_type": "markdown",
   "metadata": {
    "collapsed": false
   },
   "source": [
    "![stack3.png](stack3.png)\n",
    "\n",
    "Figure 6.1: Stack diagram"
   ]
  },
  {
   "cell_type": "code",
   "execution_count": 0,
   "metadata": {
    "collapsed": false
   },
   "outputs": [
   ],
   "source": [
   ]
  },
  {
   "cell_type": "markdown",
   "metadata": {
    "collapsed": false
   },
   "source": [
    "## 6.6 Leap of faith\n",
    "\n",
    "Following the ﬂow of execution is one way to read programs, but it can quickly become overwhelming. An alternative is what I call the “leap of faith”. When you come to a function call, instead of following the ﬂow of execution, you *assume* that the function works correctly and returns the right result.\n",
    "\n",
    "In fact, you are already practicing this leap of faith when you use built-in functions. When you call `math.cos` or `math.exp`, you don’t examine the bodies of those functions. You just assume that they work because the people who wrote the built-in functions were good programmers.\n",
    "\n",
    "The same is true when you call one of your own functions. For example, in Section 6.4, we wrote a function called `is_divisible` that determines whether one number is divisible by another. Once we have convinced ourselves that this function is correct—by examining the code and testing--we can use the function without looking at the body again.\n",
    "\n",
    "The same is true of recursive programs. When you get to the recursive call, instead of following the ﬂow of execution, you should assume that the recursive call works (returns the correct result) and then ask yourself, “Assuming that I can ﬁnd the factorial of $n − 1$, can I compute the factorial of $n$?” It is clear that you can, by multiplying by $n$.\n",
    "\n",
    "Of course, it’s a bit strange to assume that the function works correctly when you haven’t ﬁnished writing it, but that’s why it’s called a leap of faith!"
   ]
  },
  {
   "cell_type": "markdown",
   "metadata": {
    "collapsed": false
   },
   "source": [
    "## 6.7 One more example\n",
    "\n",
    "After factorial, the most common example of a recursively deﬁned mathematical function is `fibonacci`, which has the following deﬁnition (see http://en.wikipedia.org/wiki/Fibonacci_number):\n",
    "\n",
    "$$\\begin{align}\n",
    "\\text{fibonacci}(0) &= 0 \\\\\n",
    "\\text{fibonacci}(1) &= 1 \\\\\n",
    "\\text{fibonacci}(n) &= \\text{fibonacci}(n − 1) + \\text{fibonacci}(n − 2) \\\\\n",
    "\\end{align}$$\n",
    "\n",
    "Translated into Python, it looks like this:\n",
    "\n",
    "    def fibonacci(n):\n",
    "        if n == 0:\n",
    "            return 0\n",
    "        elif n == 1:\n",
    "            return 1\n",
    "        else:\n",
    "            return fibonacci(n-1) + fibonacci(n-2)\n",
    "\n",
    "If you try to follow the ﬂow of execution here, even for fairly small values of $n$, your head explodes. But according to the leap of faith, if you assume that the two recursive calls work correctly, then it is clear that you get the right result by adding them together."
   ]
  },
  {
   "cell_type": "markdown",
   "metadata": {
    "collapsed": false
   },
   "source": [
    "## 6.8 Checking types\n",
    "\n",
    "What happens if we call `factorial` and give it 1.5 as an argument?\n",
    "\n",
    "    >>> factorial(1.5)\n",
    "    RuntimeError: Maximum recursion depth exceeded\n",
    "\n",
    "It looks like an inﬁnite recursion. How can that be? The function has a base case--when `n == 0`. But if `n` is not an integer, we can miss the base case and recurse forever.\n",
    "\n",
    "In the ﬁrst recursive call, the value of `n` is 0.5. In the next, it is -0.5. From there, it gets smaller (more negative), but it will never be 0.\n",
    "\n",
    "We have two choices. We can try to generalize the `factorial` function to work with ﬂoating-point numbers, or we can make `factorial` check the type of its argument. The ﬁrst option is called the gamma function and it’s a little beyond the scope of this book. So we’ll go for the second.\n",
    "\n",
    "We can use the built-in function `isinstance` to verify the type of the argument. While we’re at it, we can also make sure the argument is positive:\n",
    "\n",
    "    def factorial(n):\n",
    "        if not isinstance(n, int):\n",
    "            print('Factorial is only defined for integers.')\n",
    "            return None\n",
    "        elif n < 0:\n",
    "            print('Factorial is not defined for negative integers.')\n",
    "            return None\n",
    "        elif n == 0:\n",
    "            return 1\n",
    "        else:\n",
    "            return n * factorial(n-1)\n",
    "\n",
    "The ﬁrst base case handles nonintegers; the second handles negative integers. In both cases, the program prints an error message and returns `None` to indicate that something went wrong:\n",
    "\n",
    "    >>> print(factorial('fred'))\n",
    "    Factorial is only defined for integers.\n",
    "    None\n",
    "    >>> print(factorial(-2))\n",
    "    Factorial is not defined for negative integers.\n",
    "    None\n",
    "\n",
    "If we get past both checks, we know that `n` is positive or zero, so we can prove that the recursion terminates.\n",
    "\n",
    "This program demonstrates a pattern sometimes called a **guardian**. The ﬁrst two conditionals act as guardians, protecting the code that follows from values that might cause an error. The guardians make it possible to prove the correctness of the code.\n",
    "\n",
    "In Section 11.4 we will see a more ﬂexible alternative to printing an error message: raising an exception."
   ]
  },
  {
   "cell_type": "code",
   "execution_count": 0,
   "metadata": {
    "collapsed": false
   },
   "outputs": [
   ],
   "source": [
   ]
  },
  {
   "cell_type": "code",
   "execution_count": 0,
   "metadata": {
    "collapsed": false
   },
   "outputs": [
   ],
   "source": [
   ]
  },
  {
   "cell_type": "markdown",
   "metadata": {
    "collapsed": false
   },
   "source": [
    "## 6.9 Debugging\n",
    "\n",
    "Breaking a large program into smaller functions creates natural checkpoints for debugging. If a function is not working, there are three possibilities to consider:\n",
    "\n",
    "  * There is something wrong with the arguments the function is getting; a precondition is violated.\n",
    "\n",
    "  * There is something wrong with the function; a postcondition is violated.\n",
    "\n",
    "  * There is something wrong with the return value or the way it is being used.\n",
    "\n",
    "To rule out the ﬁrst possibility, you can add a `print` statement at the beginning of the function and display the values of the parameters (and maybe their types). Or you can write code that checks the preconditions explicitly.\n",
    "\n",
    "If the parameters look good, add a `print` statement before each `return` statement and display the return value. If possible, check the result by hand. Consider calling the function with values that make it easy to check the result (as in Section 6.2).\n",
    "\n",
    "If the function seems to be working, look at the function call to make sure the return value is being used correctly (or used at all!).\n",
    "\n",
    "Adding `print` statements at the beginning and end of a function can help make the ﬂow of execution more visible. For example, here is a version of `factorial` with `print` statements:\n",
    "\n",
    "    def factorial(n):\n",
    "        space = ' ' * (4 * n)\n",
    "        print(space, 'factorial', n)\n",
    "        if n == 0:\n",
    "            print(space, 'returning 1')\n",
    "            return 1\n",
    "        else:\n",
    "            recurse = factorial(n-1)\n",
    "            result = n * recurse\n",
    "            print(space, 'returning', result)\n",
    "            return result\n",
    "\n",
    "`space` is a string of space characters that controls the indentation of the output. Here is the result of `factorial(4)`:\n",
    "\n",
    "                    factorial 4\n",
    "                factorial 3\n",
    "            factorial 2\n",
    "        factorial 1\n",
    "    factorial 0\n",
    "    returning 1\n",
    "        returning 1\n",
    "            returning 2\n",
    "                returning 6\n",
    "                    returning 24\n",
    "\n",
    "If you are confused about the ﬂow of execution, this kind of output can be helpful. It takes some time to develop effective scaffolding, but a little bit of scaffolding can save a lot of debugging."
   ]
  },
  {
   "cell_type": "markdown",
   "metadata": {
    "collapsed": false
   },
   "source": [
    "## 6.10 Glossary\n",
    "\n",
    "**temporary variable:** A variable used to store an intermediate value in a complex calculation.\n",
    "\n",
    "**dead code:** Part of a program that can never run, often because it appears after a return statement.\n",
    "\n",
    "**incremental development:** A program development plan intended to avoid debugging by adding and testing only a small amount of code at a time.\n",
    "\n",
    "**scaffolding:** Code that is used during program development but is not part of the ﬁnal version.\n",
    "\n",
    "**guardian:** A programming pattern that uses a conditional statement to check for and handle circumstances that might cause an error."
   ]
  },
  {
   "cell_type": "markdown",
   "metadata": {
    "collapsed": false
   },
   "source": [
    "## 6.11 Exercises\n",
    "\n",
    "**Exercise 6.1.** Draw a stack diagram for the following program. What does the program print?\n",
    "\n",
    "    def b(z):\n",
    "        prod = a(z, z) \n",
    "        print(z, prod)\n",
    "        return prod\n",
    "\n",
    "    def a(x, y):\n",
    "        x = x + 1\n",
    "        return x * y\n",
    "\n",
    "    def c(x, y, z):\n",
    "        total = x + y + z\n",
    "        square = b(total)**2\n",
    "        return square\n",
    "\n",
    "    x = 1\n",
    "    y = x + 1\n",
    "    print(c(x, y+3, x+y))\n",
    "\n"
   ]
  },
  {
   "cell_type": "code",
   "execution_count": 0,
   "metadata": {
    "collapsed": false
   },
   "outputs": [
   ],
   "source": [
   ]
  },
  {
   "cell_type": "markdown",
   "metadata": {
    "collapsed": false
   },
   "source": [
    "**Exercise 6.2.** The Ackermann function, $A(m, n)$, is deﬁned:\n",
    "\n",
    "\n",
    "$$A(m,n) = \\begin{cases} n+1 & \\mbox{if } m = 0 \\\\\n",
    "A(m-1,1) & \\mbox{if } m>0 \\text{ and } n=0\n",
    "\\\\ A(m-1,A(m,n-1) & \\mbox{if } m>0 \\mbox{ and } n>0  \\end{cases}$$\n",
    "\n",
    "See http://en.wikipedia.org/wiki/Ackermann_function. Write a function named `ack` that evaluates the Ackermann function. Use your function to evaluate `ack(3, 4)`, which should be 125. What happens for larger values of `m` and `n`? Solution: http://thinkpython2.com/code/ackermann.py."
   ]
  },
  {
   "cell_type": "code",
   "execution_count": 0,
   "metadata": {
    "collapsed": false
   },
   "outputs": [
   ],
   "source": [
   ]
  },
  {
   "cell_type": "markdown",
   "metadata": {
    "collapsed": false
   },
   "source": [
    "**Exercise 6.3.** A palindrome is a word that is spelled the same backward and forward, like “noon” and “redivider”. Recursively, a word is a palindrome if the ﬁrst and last letters are the same and the middle is a palindrome.\n",
    "\n",
    "The following are functions that take a string argument and return the ﬁrst, last, and middle letters:\n",
    "\n",
    "    def first(word):\n",
    "        return word[0]\n",
    "\n",
    "    def last(word):\n",
    "        return word[-1]\n",
    "\n",
    "    def middle(word):\n",
    "        return word[1:-1]\n",
    "\n",
    "We’ll see how they work in Chapter 8.\n",
    "\n",
    "1. Type these functions into a ﬁle named `palindrome.py` and test them out. What happens if you call `middle` with a string with two letters? One letter? What about the empty string, which is written `''` and contains no letters?\n",
    "\n",
    "2. Write a function called `is_palindrome` that takes a string argument and returns `True` if it is a palindrome and `False` otherwise. Remember that you can use the built-in function `len` to check the length of a string.\n",
    "\n",
    "Solution: http://thinkpython2.com/code/palindrome_soln.py."
   ]
  },
  {
   "cell_type": "code",
   "execution_count": 0,
   "metadata": {
    "collapsed": false
   },
   "outputs": [
   ],
   "source": [
   ]
  },
  {
   "cell_type": "markdown",
   "metadata": {
    "collapsed": false
   },
   "source": [
    "**Exercise 6.4.** A number, `a`, is a power of `b` if it is divisible by `b` and `a/b` is a power of `b`. Write a function called `is_power` that takes parameters `a` and `b` and returns `True` if `a` is a power of `b`. Note: you will have to think about the base case."
   ]
  },
  {
   "cell_type": "code",
   "execution_count": 0,
   "metadata": {
    "collapsed": false
   },
   "outputs": [
   ],
   "source": [
   ]
  },
  {
   "cell_type": "markdown",
   "metadata": {
    "collapsed": false
   },
   "source": [
    "**Exercise 6.5.** The greatest common divisor (GCD) of `a` and `b` is the largest number that divides both of them with no remainder.\n",
    "\n",
    "One way to ﬁnd the GCD of two numbers is based on the observation that if `r` is the remainder when `a` is divided by `b`, then `gcd(a,b)=gcd(b,r)`. As a base case, we can use `gcd(a,0)=a`.\n",
    "\n",
    "Write a function called `gcd` that takes parameters `a` and `b` and returns their greatest common divisor.\n",
    "\n",
    "Credit: This exercise is based on an example from Abelson and Sussman’s *Structure and Interpretation of Computer Programs*."
   ]
  },
  {
   "cell_type": "code",
   "execution_count": 0,
   "metadata": {
    "collapsed": false
   },
   "outputs": [
   ],
   "source": [
   ]
  }
 ],
 "metadata": {
  "kernelspec": {
   "display_name": "Python 3 (Anaconda)",
   "language": "python",
   "name": "anaconda3"
  },
  "language_info": {
   "codemirror_mode": {
    "name": "ipython",
    "version": 3
   },
   "file_extension": ".py",
   "mimetype": "text/x-python",
   "name": "python",
   "nbconvert_exporter": "python",
   "pygments_lexer": "ipython3",
   "version": "3.5.5"
  }
 },
 "nbformat": 4,
 "nbformat_minor": 0
}