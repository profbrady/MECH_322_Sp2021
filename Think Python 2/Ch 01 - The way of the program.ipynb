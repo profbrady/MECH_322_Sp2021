{
 "cells": [
  {
   "cell_type": "markdown",
   "metadata": {
    "collapsed": false
   },
   "source": [
    "#### The material in this document is copied from or based on the the book...\n",
    "\n",
    "# Think Python\n",
    "## How to Think Like a Computer Scientist\n",
    "Second edition, Version 2.2.20\n",
    "\n",
    "##### Allen Downey\n",
    "\n",
    "##### Green Tea Press\n",
    "\n",
    "Needham, Massachusetts\n",
    "\n",
    "\n",
    "\n",
    "\n"
   ]
  },
  {
   "cell_type": "markdown",
   "metadata": {
    "collapsed": false
   },
   "source": [
    "Copyright © 2015 Allen Downey.\n",
    "\n",
    "Green Tea Press 9 Washburn Ave Needham MA 02492\n",
    "\n",
    "Permission is granted to copy, distribute, and/or modify this document under the terms of the Creative Commons Attribution-NonCommercial 3.0 Unported License, which is available at http://creativecommons.org/licenses/by-nc/3.0/.\n",
    "\n",
    "The original form of this book is $\\LaTeX$ source code. Compiling this $\\LaTeX$ source has the effect of generating a device-independent representation of a textbook, which can be converted to other formats and printed.\n",
    "\n",
    "The $\\LaTeX$ source for this book is available from http://www.thinkpython2.com"
   ]
  },
  {
   "cell_type": "markdown",
   "metadata": {
    "collapsed": false
   },
   "source": [
    "# Chapter 1: The Way of the Program\n",
    "\n",
    "The goal of this book is to teach you to think like a computer scientist. This way of thinking combines some of the best features of mathematics, engineering, and natural science. Like mathematicians, computer scientists use formal languages to denote ideas (speciﬁcally computations). Like engineers, they design things, assembling components into systems and evaluating tradeoffs among alternatives. Like scientists, they observe the behavior of complex systems, form hypotheses, and test predictions.\n",
    "\n",
    "The single most important skill for a computer scientist is problem solving. Problem solving means the ability to formulate problems, think creatively about solutions, and express a solution clearly and accurately. As it turns out, the process of learning to program is an excellent opportunity to practice problem-solving skills. That’s why this chapter is called, “The way of the program”.\n",
    "\n",
    "On one level, you will be learning to program, a useful skill by itself. On another level, you will use programming as a means to an end. As we go along, that end will become clearer."
   ]
  },
  {
   "cell_type": "markdown",
   "metadata": {
    "collapsed": false
   },
   "source": [
    "## 1.1 What is a program?\n",
    "\n",
    "A program is a sequence of instructions that speciﬁes how to perform a computation. The computation might be something mathematical, such as solving a system of equations or ﬁnding the roots of a polynomial, but it can also be a symbolic computation, such as searching and replacing text in a document or something graphical, like processing an image or playing a video.\n",
    "\n",
    "The details look different in different languages, but a few basic instructions appear in just about every language:\n",
    "\n",
    "**input:** Get data from the keyboard, a ﬁle, the network, or some other device.\n",
    "\n",
    "**output:** Display data on the screen, save it in a ﬁle, send it over the network, etc.\n",
    "\n",
    "**math:** Perform basic mathematical operations like addition and multiplication. \n",
    "\n",
    "**conditional execution:** Check for certain conditions and run the appropriate code.\n",
    "\n",
    "**repetition:** Perform some action repeatedly, usually with some variation.\n",
    "\n",
    "Believe it or not, that’s pretty much all there is to it. Every program you’ve ever used, no matter how complicated, is made up of instructions that look pretty much like these. So you can think of programming as the process of breaking a large, complex task into smaller and smaller subtasks until the subtasks are simple enough to be performed with one of these basic instructions."
   ]
  },
  {
   "cell_type": "markdown",
   "metadata": {
    "collapsed": false
   },
   "source": [
    "## 1.2 Running Python\n",
    "\n",
    "One of the challenges of getting started with Python is that you might have to install Python and related software on your computer. If you are familiar with your operating system, and especially if you are comfortable with the command-line interface, you will have no trouble installing Python. But for beginners, it can be painful to learn about system administration and programming at the same time.\n",
    "\n",
    "To avoid that problem, I recommend that you start out running Python in a browser. Later, when you are comfortable with Python, I’ll make suggestions for installing Python on your computer.\n",
    "\n",
    "There are a number of web pages you can use to run Python. If you already have a favorite, go ahead and use it. Otherwise I recommend PythonAnywhere. I provide detailed instructions for getting started at http://tinyurl.com/thinkpython2e.\n",
    "\n",
    "There are two versions of Python, called Python 2 and Python 3. They are very similar, so if you learn one, it is easy to switch to the other. In fact, there are only a few differences you will encounter as a beginner. This book is written for Python 3, but I include some notes about Python 2.\n",
    "\n",
    "The Python **interpreter** is a program that reads and executes Python code. Depending on your environment, you might start the interpreter by clicking on an icon, or by typing python on a command line. When it starts, you should see output like this:\n",
    "\n",
    "\n",
    "    Python 3.4.0 (default, Jun 19 2015, 14:20:21)\n",
    "    [GCC 4.8.2] on linux\n",
    "    Type \"help\", \"copyright\", \"credits\" or \"license\" for more information.\n",
    "    >>>\n",
    "\n",
    "\n",
    "The ﬁrst three lines contain information about the interpreter and the operating system it’s running on, so it might be different for you. But you should check that the version number, which is 3.4.0 in this example, begins with 3, which indicates that you are running Python 3. If it begins with 2, you are running (you guessed it) Python 2.\n",
    "\n",
    "The last line is a **prompt** that indicates that the interpreter is ready for you to enter code. If you type a line of code and hit Enter, the interpreter displays the result:\n",
    "\n",
    "\n",
    "    >>> 1 + 1 \n",
    "    2\n",
    "\n",
    "\n",
    "Now you’re ready to get started. From here on, I assume that you know how to start the Python interpreter and run code."
   ]
  },
  {
   "cell_type": "markdown",
   "metadata": {
    "collapsed": false
   },
   "source": [
    "## 1.3 The ﬁrst program\n",
    "\n",
    "Traditionally, the ﬁrst program you write in a new language is called “Hello, World!” because all it does is display the words “Hello, World!”. In Python, it looks like this:\n",
    "\n",
    "    >>> print('Hello, World!')\n",
    "\n",
    "This is an example of a **print statement**, although it doesn’t actually print anything on paper. It displays a result on the screen. In this case, the result is the words\n",
    "\n",
    "    Hello, World!\n",
    "\n",
    "The quotation marks in the program mark the beginning and end of the text to be displayed; they don’t appear in the result.\n",
    "\n",
    "The parentheses indicate that print is a function. We’ll get to functions in Chapter 3.\n",
    "\n",
    "In Python 2, the print statement is slightly different; it is not a function, so it doesn’t use parentheses.\n",
    "\n",
    "    >>> print 'Hello, World!'\n",
    "\n",
    "This distinction will make more sense soon, but that’s enough to get started."
   ]
  },
  {
   "cell_type": "markdown",
   "metadata": {
    "collapsed": false
   },
   "source": [
    "### 1.3.1 Try it yourself\n",
    "\n",
    "We will be using Python 3. Edit the **print** statement in the following code block that displays your first and last name instead of the instructor's. Press the **[shift]** and **[return]** keys at the same time to execute your code."
   ]
  },
  {
   "cell_type": "code",
   "execution_count": 1,
   "metadata": {
    "collapsed": false
   },
   "outputs": [
    {
     "name": "stdout",
     "output_type": "stream",
     "text": [
      "brian brady\n"
     ]
    }
   ],
   "source": [
    "print(\"brian brady\")"
   ]
  },
  {
   "cell_type": "markdown",
   "metadata": {
    "collapsed": false
   },
   "source": [
    "## 1.4 Arithmetic operators\n",
    "\n",
    "After “Hello, World”, the next step is arithmetic. Python provides operators, which are special symbols that represent computations like addition and multiplication.\n",
    "\n",
    "The operators `+`, `-`, and `*` perform addition, subtraction, and multiplication, as in the following examples:\n",
    "\n",
    "    >>> 40 + 2 \n",
    "    42\n",
    "\n",
    "    >>> 43 - 1 \n",
    "    42\n",
    "\n",
    "    >>> 6 * 7 \n",
    "    42\n",
    "\n",
    "The operator `/` performs division:\n",
    "\n",
    "    >>> 84 / 2\n",
    "    42.0\n",
    "\n",
    "You might wonder why the result is `42.0` instead of `42`. I’ll explain in the next section.\n",
    "\n",
    "Finally, the operator `**` performs exponentiation; that is, it raises a number to a power:\n",
    "\n",
    "    >>> 6**2 + 6\n",
    "    42\n",
    "\n",
    "In some other languages, `^` is used for exponentiation, but in Python it is a bitwise operator called XOR. If you are not familiar with bitwise operators, the result will surprise you:\n",
    "\n",
    "    >>> 6 ^ 2\n",
    "    4\n",
    "\n",
    "I won’t cover bitwise operators in this book, but you can read about them at http://wiki.python.org/moin/BitwiseOperators."
   ]
  },
  {
   "cell_type": "markdown",
   "metadata": {
    "collapsed": false
   },
   "source": [
    "### 1.4.1 Try it yourself\n",
    "\n",
    "Edit any of the values in the following code blocks and press the **[shift]** and **[return]** keys at the same time to execute the code in a particular block and see the result. \n",
    "\n",
    "*Notice that the space between objects (numbers and mathematical symbols) does not affect the results.*"
   ]
  },
  {
   "cell_type": "code",
   "execution_count": 1,
   "metadata": {
    "collapsed": false
   },
   "outputs": [
    {
     "data": {
      "text/plain": [
       "42"
      ]
     },
     "execution_count": 1,
     "metadata": {
     },
     "output_type": "execute_result"
    }
   ],
   "source": [
    "40+2"
   ]
  },
  {
   "cell_type": "code",
   "execution_count": 5,
   "metadata": {
    "collapsed": false
   },
   "outputs": [
    {
     "data": {
      "text/plain": [
       "42"
      ]
     },
     "execution_count": 5,
     "metadata": {
     },
     "output_type": "execute_result"
    }
   ],
   "source": [
    "43     -    1"
   ]
  },
  {
   "cell_type": "code",
   "execution_count": 4,
   "metadata": {
    "collapsed": false
   },
   "outputs": [
    {
     "data": {
      "text/plain": [
       "42"
      ]
     },
     "execution_count": 4,
     "metadata": {
     },
     "output_type": "execute_result"
    }
   ],
   "source": [
    "6 * 7"
   ]
  },
  {
   "cell_type": "code",
   "execution_count": 6,
   "metadata": {
    "collapsed": false
   },
   "outputs": [
    {
     "data": {
      "text/plain": [
       "42.0"
      ]
     },
     "execution_count": 6,
     "metadata": {
     },
     "output_type": "execute_result"
    }
   ],
   "source": [
    "84/2"
   ]
  },
  {
   "cell_type": "code",
   "execution_count": 7,
   "metadata": {
    "collapsed": false
   },
   "outputs": [
    {
     "data": {
      "text/plain": [
       "42"
      ]
     },
     "execution_count": 7,
     "metadata": {
     },
     "output_type": "execute_result"
    }
   ],
   "source": [
    "6**2 + 6"
   ]
  },
  {
   "cell_type": "code",
   "execution_count": 8,
   "metadata": {
    "collapsed": false
   },
   "outputs": [
    {
     "data": {
      "text/plain": [
       "4"
      ]
     },
     "execution_count": 8,
     "metadata": {
     },
     "output_type": "execute_result"
    }
   ],
   "source": [
    "6^2"
   ]
  },
  {
   "cell_type": "markdown",
   "metadata": {
    "collapsed": false
   },
   "source": [
    "## 1.5 Values and types\n",
    "\n",
    "A value is one of the basic things a program works with, like a letter or a number. Some values we have seen so far are `2`, `42.0`, and `'Hello, World!'`.\n",
    "\n",
    "These values belong to different **types**: `2` is an **integer**, `42.0` is a **ﬂoating-point number**, and `'Hello, World!'` is a **string**, so-called because the letters it contains are strung together.\n",
    "\n",
    "If you are not sure what type a value has, the interpreter can tell you:\n",
    "\n",
    "    >>> type(2)\n",
    "    <class 'int'>\n",
    "\n",
    "    >>> type(42.0) \n",
    "    <class 'float'>\n",
    "\n",
    "    >>> type('Hello, World!') \n",
    "    <class 'str'>\n",
    "\n",
    "In these results, the word “class” is used in the sense of a category; a type is a category of values.\n",
    "\n",
    "Not surprisingly, integers belong to the type `int`, strings belong to `str` and ﬂoating-point numbers belong to `float`.\n",
    "\n",
    "What about values like `'2'` and `'42.0'`? They look like numbers, but they are in quotation marks like strings.\n",
    "\n",
    "    >>> type('2') \n",
    "    <class 'str'>\n",
    "\n",
    "    >>> type('42.0') \n",
    "    <class 'str'>\n",
    "\n",
    "They’re strings.\n",
    "\n",
    "When you type a large integer, you might be tempted to use commas between groups of digits, as in `1,000,000`. This is not a legal *integer* in Python, but it is legal:\n",
    "\n",
    "    >>> 1,000,000 \n",
    "    (1, 0, 0)\n",
    "\n",
    "That’s not what we expected at all! Python interprets `1,000,000` as a comma-separated sequence of integers. We’ll learn more about this kind of sequence later."
   ]
  },
  {
   "cell_type": "markdown",
   "metadata": {
    "collapsed": false
   },
   "source": [
    "## 1.6 Formal and natural languages\n",
    "\n",
    "**Natural languages** are the languages people speak, such as English, Spanish, and French. They were not designed by people (although people try to impose some order on them); they evolved naturally.\n",
    "\n",
    "**Formal languages** are languages that are designed by people for speciﬁc applications. For example, the notation that mathematicians use is a formal language that is particularly good at denoting relationships among numbers and symbols. Chemists use a formal language to represent the chemical structure of molecules. And most importantly:\n",
    "\n",
    "> *Programming languages are formal languages that have been designed to express computations.*\n",
    "\n",
    "Formal languages tend to have strict **syntax** rules that govern the structure of statements. For example, in mathematics the statement $3 + 3 = 6$ has correct syntax, but $3+ = 3\\$6$ does not. In chemistry $H_2 O$ is a syntactically correct formula, but $_2 Zz$ is not.\n",
    "\n",
    "Syntax rules come in two ﬂavors, pertaining to **tokens** and structure. Tokens are the basic elements of the language, such as words, numbers, and chemical elements. One of the problems with $3+ = 3\\$6$ is that $\\$$ is not a legal token in mathematics (at least as far as I know). Similarly, $_2 Zz$ is not legal because there is no element with the abbreviation $Zz$.\n",
    "\n",
    "The second type of syntax rule pertains to the way tokens are combined. The equation $3+ = 3$ is illegal because even though $+$ and $=$ are legal tokens, you can’t have one right after the other. Similarly, in a chemical formula the subscript comes after the element name, not before.\n",
    "\n",
    "This is @ well-structured Engli\\$h sentence with invalid t\\*kens in it. This sentence all valid tokens has, but invalid structure with.\n",
    "\n",
    "When you read a sentence in English or a statement in a formal language, you have to ﬁgure out the structure (although in a natural language you do this subconsciously). This process is called **parsing**.\n",
    "Although formal and natural languages have many features in common---tokens, structure, and syntax---there are some differences:\n",
    "\n",
    "**ambiguity**: Natural languages are full of ambiguity, which people deal with by using contextual clues and other information. Formal languages are designed to be nearly or completely unambiguous, which means that any statement has exactly one meaning, regardless of context.\n",
    "\n",
    "**redundancy**: In order to make up for ambiguity and reduce misunderstandings, natural languages employ lots of redundancy. As a result, they are often verbose. Formal languages are less redundant and more concise.\n",
    "\n",
    "**literalness**: Natural languages are full of idiom and metaphor. If I say, “The penny dropped”, there is probably no penny and nothing dropping (this idiom means that someone understood something after a period of confusion). Formal languages mean exactly what they say.\n",
    "\n",
    "Because we all grow up speaking natural languages, it is sometimes hard to adjust to formal languages. The difference between formal and natural language is like the difference between poetry and prose, but more so:\n",
    "\n",
    "**Poetry**: Words are used for their sounds as well as for their meaning, and the whole poem together creates an effect or emotional response. Ambiguity is not only common but often deliberate.\n",
    "\n",
    "**Prose**: The literal meaning of words is more important, and the structure contributes more meaning. Prose is more amenable to analysis than poetry but still often ambiguous.\n",
    "\n",
    "**Programs**: The meaning of a computer program is unambiguous and literal, and can be understood entirely by analysis of the tokens and structure.\n",
    "\n",
    "Formal languages are more dense than natural languages, so it takes longer to read them. Also, the structure is important, so it is not always best to read from top to bottom, left to right. Instead, learn to parse the program in your head, identifying the tokens and interpreting the structure. Finally, the details matter. Small errors in spelling and punctuation, which you can get away with in natural languages, can make a big difference in a formal language."
   ]
  },
  {
   "cell_type": "markdown",
   "metadata": {
    "collapsed": false
   },
   "source": [
    "## 1.7 Debugging\n",
    "\n",
    "Programmers make mistakes. For whimsical reasons, programming errors are called **bugs** and the process of tracking them down is called **debugging**.\n",
    "\n",
    "Programming, and especially debugging, sometimes brings out strong emotions. If you are struggling with a difﬁcult bug, you might feel angry, despondent, or embarrassed.\n",
    "\n",
    "There is evidence that people naturally respond to computers as if they were people. When they work well, we think of them as teammates, and when they are obstinate or rude, we respond to them the same way we respond to rude, obstinate people (Reeves and Nass, *The Media Equation: How People Treat Computers, Television, and New Media Like Real People and Places*).\n",
    "\n",
    "Preparing for these reactions might help you deal with them. One approach is to think of the computer as an employee with certain strengths, like speed and precision, and particular weaknesses, like lack of empathy and inability to grasp the big picture.\n",
    "\n",
    "Your job is to be a good manager: ﬁnd ways to take advantage of the strengths and mitigate the weaknesses. And ﬁnd ways to use your emotions to engage with the problem, without letting your reactions interfere with your ability to work effectively.\n",
    "\n",
    "Learning to debug can be frustrating, but it is a valuable skill that is useful for many activities beyond programming. At the end of each chapter there is a section, like this one, with my suggestions for debugging. I hope they help!"
   ]
  },
  {
   "cell_type": "markdown",
   "metadata": {
    "collapsed": false
   },
   "source": [
    "## 1.8 Glossary\n",
    "\n",
    "**problem solving**: The process of formulating a problem, ﬁnding a solution, and expressing it.\n",
    "\n",
    "**high-level language**: A programming language like Python that is designed to be easy for humans to read and write.\n",
    "\n",
    "**low-level language**: A programming language that is designed to be easy for a computer to run; also called “machine language” or “assembly language”.\n",
    "\n",
    "**portability**: A property of a program that can run on more than one kind of computer. \n",
    "\n",
    "**interpreter:** A program that reads another program and executes it\n",
    "\n",
    "**prompt**: Characters displayed by the interpreter to indicate that it is ready to take input from the user.\n",
    "\n",
    "**program**: A set of instructions that speciﬁes a computation.\n",
    "\n",
    "**print statement**: An instruction that causes the Python interpreter to display a value on the screen.\n",
    "\n",
    "**operator**: A special symbol that represents a simple computation like addition, multiplication, or string concatenation.\n",
    "\n",
    "**value**: One of the basic units of data, like a number or string, that a program manipulates.\n",
    "\n",
    "**type**: A category of values. The types we have seen so far are integers (type `int`), ﬂoating-point numbers (type `float`), and strings (type `str`).\n",
    "\n",
    "**integer**: A type that represents whole numbers.\n",
    "\n",
    "**floating-point**: A type that represents numbers with fractional parts.\n",
    "\n",
    "**string**: A type that represents sequences of characters.\n",
    "\n",
    "**natural language**: Any one of the languages that people speak that evolved naturally. \n",
    "\n",
    "**formal language**: Any one of the languages that people have designed for speciﬁc purposes, such as representing mathematical ideas or computer programs; all programming languages are formal languages.\n",
    "\n",
    "**token**: One of the basic elements of the syntactic structure of a program, analogous to a word in a natural language.\n",
    "\n",
    "**syntax**: The rules that govern the structure of a program.\n",
    "\n",
    "**parse**: To examine a program and analyze the syntactic structure. \n",
    "\n",
    "**bug**: An error in a program.\n",
    "\n",
    "**debugging**: The process of ﬁnding and correcting bugs."
   ]
  },
  {
   "cell_type": "markdown",
   "metadata": {
    "collapsed": false
   },
   "source": [
    "## 1.9 Exercises\n",
    "\n",
    "**Exercise 1.1.** It is a good idea to read this book in front of a computer so you can try out the examples as you go.\n",
    "\n",
    "Whenever you are experimenting with a new feature, you should try to make mistakes. For example, in the “Hello, world!” program, what happens if you leave out one of the quotation marks? What if you leave out both? What if you spell `print` wrong?\n",
    "\n",
    "This kind of experiment helps you remember what you read; it also helps when you are programming, because you get to know what the error messages mean. It is better to make mistakes now and on purpose than later and accidentally.\n",
    "\n",
    "1. In a print statement, what happens if you leave out one of the parentheses, or both?\n",
    "\n",
    "2. If you are trying to print a string, what happens if you leave out one of the quotation marks, or both?\n",
    "\n",
    "3. You can use a minus sign to make a negative number like `-2`. What happens if you put a plus sign before a number? What about `2++2`?\n",
    "\n",
    "4. In math notation, leading zeros are ok, as in `02`. What happens if you try this in Python?\n",
    "\n",
    "5. What happens if you have two values with no operator between them?"
   ]
  },
  {
   "cell_type": "code",
   "execution_count": 0,
   "metadata": {
    "collapsed": false
   },
   "outputs": [
   ],
   "source": [
   ]
  },
  {
   "cell_type": "code",
   "execution_count": 0,
   "metadata": {
    "collapsed": false
   },
   "outputs": [
   ],
   "source": [
   ]
  },
  {
   "cell_type": "code",
   "execution_count": 0,
   "metadata": {
    "collapsed": false
   },
   "outputs": [
   ],
   "source": [
   ]
  },
  {
   "cell_type": "code",
   "execution_count": 0,
   "metadata": {
    "collapsed": false
   },
   "outputs": [
   ],
   "source": [
   ]
  },
  {
   "cell_type": "code",
   "execution_count": 0,
   "metadata": {
    "collapsed": false
   },
   "outputs": [
   ],
   "source": [
   ]
  },
  {
   "cell_type": "markdown",
   "metadata": {
    "collapsed": false
   },
   "source": [
    "\n",
    "**Exercise 1.2.** Start the Python interpreter and use it as a calculator.\n",
    "\n",
    "1. How many seconds are there in 42 minutes 42 seconds?\n",
    "\n",
    "2. How many miles are there in 10 kilometers? *Hint: there are 1.61 kilometers in a mile.*\n",
    "\n",
    "3. If you run a 10 kilometer race in 42 minutes 42 seconds, what is your average pace (time per mile in minutes and seconds)? What is your average speed in miles per hour?"
   ]
  },
  {
   "cell_type": "code",
   "execution_count": 0,
   "metadata": {
    "collapsed": false
   },
   "outputs": [
   ],
   "source": [
   ]
  },
  {
   "cell_type": "code",
   "execution_count": 0,
   "metadata": {
    "collapsed": false
   },
   "outputs": [
   ],
   "source": [
   ]
  },
  {
   "cell_type": "code",
   "execution_count": 0,
   "metadata": {
    "collapsed": false
   },
   "outputs": [
   ],
   "source": [
   ]
  }
 ],
 "metadata": {
  "kernelspec": {
   "display_name": "Python 3 (old Anaconda 3)",
   "language": "python",
   "name": "anaconda3"
  },
  "language_info": {
   "codemirror_mode": {
    "name": "ipython",
    "version": 3
   },
   "file_extension": ".py",
   "mimetype": "text/x-python",
   "name": "python",
   "nbconvert_exporter": "python",
   "pygments_lexer": "ipython3",
   "version": "3.5.5"
  }
 },
 "nbformat": 4,
 "nbformat_minor": 0
}