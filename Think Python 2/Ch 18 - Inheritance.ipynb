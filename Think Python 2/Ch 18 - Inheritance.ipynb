{
 "cells": [
  {
   "cell_type": "markdown",
   "metadata": {
    "collapsed": false
   },
   "source": [
    "#### The material in this document is copied from or based on the the book...\n",
    "\n",
    "# Think Python\n",
    "## How to Think Like a Computer Scientist\n",
    "Second edition, Version 2.2.20\n",
    "\n",
    "##### Allen Downey\n",
    "\n",
    "##### Green Tea Press\n",
    "\n",
    "Needham, Massachusetts\n",
    "\n",
    "\n",
    "\n",
    "\n"
   ]
  },
  {
   "cell_type": "markdown",
   "metadata": {
    "collapsed": false
   },
   "source": [
    "Copyright © 2015 Allen Downey.\n",
    "\n",
    "Green Tea Press 9 Washburn Ave Needham MA 02492\n",
    "\n",
    "Permission is granted to copy, distribute, and/or modify this document under the terms of the Creative Commons Attribution-NonCommercial 3.0 Unported License, which is available at http://creativecommons.org/licenses/by-nc/3.0/.\n",
    "\n",
    "The original form of this book is $\\LaTeX$ source code. Compiling this $\\LaTeX$ source has the effect of generating a device-independent representation of a textbook, which can be converted to other formats and printed.\n",
    "\n",
    "The $\\LaTeX$ source for this book is available from http://www.thinkpython2.com"
   ]
  },
  {
   "cell_type": "markdown",
   "metadata": {
    "collapsed": false
   },
   "source": [
    "# Chapter 18: Inheritance\n",
    "\n",
    "The language feature most often associated with object-oriented programming is **inheritance**. Inheritance is the ability to deﬁne a new class that is a modiﬁed version of an existing class. In this chapter I demonstrate inheritance using classes that represent playing cards, decks of cards, and poker hands.\n",
    "\n",
    "If you don’t play poker, you can read about it at http://en.wikipedia.org/wiki/Poker, but you don’t have to; I’ll tell you what you need to know for the exercises.\n",
    "\n",
    "Code examples from this chapter are available from http://thinkpython2.com/code/ Card.py.\n",
    "\n",
    "18.1 Card objects\n",
    "\n",
    "There are ﬁfty-two cards in a deck, each of which belongs to one of four suits and one of thirteen ranks. The suits are Spades, Hearts, Diamonds, and Clubs (in descending order in bridge). The ranks are Ace, 2, 3, 4, 5, 6, 7, 8, 9, 10, Jack, Queen, and King. Depending on the game that you are playing, an Ace may be higher than King or lower than 2.\n",
    "\n",
    "If we want to deﬁne a new object to represent a playing card, it is obvious what the attributes should be: rank and suit. It is not as obvious what type the attributes should be. One possibility is to use strings containing words like 'Spade' for suits and 'Queen' for ranks. One problem with this implementation is that it would not be easy to compare cards to see which had a higher rank or suit.\n",
    "\n",
    "An alternative is to use integers to encode the ranks and suits. In this context, “encode” means that we are going to deﬁne a mapping between numbers and suits, or between numbers and ranks. This kind of encoding is not meant to be a secret (that would be “encryption”).\n",
    "\n",
    "For example, this table shows the suits and the corresponding integer codes:\n",
    "\n",
    "|      |            |  |\n",
    "|------|------------|--|\n",
    "|Spades| $\\mapsto{}$| 3|\n",
    "|Hearts| $\\mapsto{}$| 2|\n",
    "|Diamonds| $\\mapsto{}$| 1|\n",
    "|Clubs |$\\mapsto{}$| 0|\n",
    "\n",
    "This code makes it easy to compare cards; because higher suits map to higher numbers, we can compare suits by comparing their codes.\n",
    "\n",
    "The mapping for ranks is fairly obvious; each of the numerical ranks maps to the corresponding integer, and for face cards:\n",
    "\n",
    "|      |            |  |\n",
    "|------|------------|--|\n",
    "|Jack| $\\mapsto{}$| 11|\n",
    "|Queen| $\\mapsto{}$| 12|\n",
    "|King| $\\mapsto{}$| 13|\n",
    "\n",
    "I am using the $\\mapsto{}$ symbol to make it clear that these mappings are not part of the Python program. They are part of the program design, but they don’t appear explicitly in the code.\n",
    "\n",
    "The class deﬁnition for Card looks like this:\n",
    "\n",
    "    class Card:\n",
    "        \"\"\"Represents a standard playing card.\"\"\"\n",
    "\n",
    "        def __init__(self, suit=0, rank=2):\n",
    "            self.suit = suit\n",
    "            self.rank = rank\n",
    "\n",
    "As usual, the init method takes an optional parameter for each attribute. The default card is the 2 of Clubs.\n",
    "\n",
    "To create a Card, you call `Card` with the suit and rank of the card you want.\n",
    "\n",
    "    queen_of_diamonds = Card(1, 12)"
   ]
  },
  {
   "cell_type": "markdown",
   "metadata": {
    "collapsed": false
   },
   "source": [
    "## 18.2 Class attributes\n",
    "\n",
    "In order to print Card objects in a way that people can easily read, we need a mapping from the integer codes to the corresponding ranks and suits. A natural way to do that is with lists of strings. We assign these lists to class attributes:\n",
    "\n",
    "    # inside class Card:\n",
    "\n",
    "        suit_names = ['Clubs', 'Diamonds', 'Hearts', 'Spades']\n",
    "        rank_names = [None, 'Ace', '2', '3', '4', '5', '6', '7',\n",
    "                  '8', '9', '10', 'Jack', 'Queen', 'King']\n",
    "\n",
    "    def __str__(self):\n",
    "        return '%s of %s' % (Card.rank_names[self.rank],\n",
    "                             Card.suit_names[self.suit])\n",
    "\n",
    "Variables like `suit_names` and `rank_names`, which are deﬁned inside a class but outside of any method, are called class attributes because they are associated with the class object Card.\n",
    "\n",
    "This term distinguishes them from variables like `suit` and `rank`, which are called **instance attributes** because they are associated with a particular instance.\n",
    "\n",
    "Both kinds of attribute are accessed using dot notation. For example, in `__str__`, self is a Card object, and `self.rank` is its rank. Similarly, `Card` is a class object, and `Card.rank_names` is a list of strings associated with the class.\n",
    "\n",
    "Every card has its own `suit` and `rank`, but there is only one copy of `suit_names` and `rank_names`.\n",
    "\n",
    "Putting it all together, the expression `Card.rank_names[self.rank]` means “use the attribute `rank` from the object `self` as an index into the list `rank_names` from the class `Card`, and select the appropriate string.”\n",
    "\n",
    "The ﬁrst element of `rank_names` is `None` because there is no card with rank zero. By including `None` as a place-keeper, we get a mapping with the nice property that the index 2 maps to the string `'2'`, and so on. To avoid this tweak, we could have used a dictionary instead of a list.\n",
    "\n",
    "With the methods we have so far, we can create and print cards:\n",
    "\n",
    "    >>> card1 = Card(2, 11)\n",
    "    >>> print(card1)\n",
    "    Jack of Hearts\n",
    "\n",
    "Figure 18.1 is a diagram of the `Card` class object and one Card instance. `Card` is a class object; its type is type. `card1` is an instance of `Card`, so its type is `Card`. To save space, I didn’t draw the contents of `suit_names` and `rank_names`."
   ]
  },
  {
   "cell_type": "markdown",
   "metadata": {
    "collapsed": false
   },
   "source": [
    "![card1.png](card1.png)\n",
    "\n",
    "Figure 18.1: Object diagram"
   ]
  },
  {
   "cell_type": "markdown",
   "metadata": {
    "collapsed": false
   },
   "source": [
    "## 18.3 Comparing cards\n",
    "\n",
    "For built-in types, there are relational operators (`<`, `>`, `==`, etc.) that compare values and determine when one is greater than, less than, or equal to another. For programmer-deﬁned types, we can override the behavior of the built-in operators by providing a method named `__lt__`, which stands for “less than”.\n",
    "\n",
    "`__lt__` takes two parameters, `self` and `other`, and returns `True` if `self` is strictly less than `other`.\n",
    "\n",
    "The correct ordering for cards is not obvious. For example, which is better, the 3 of Clubs or the 2 of Diamonds? One has a higher rank, but the other has a higher suit. In order to compare cards, you have to decide whether rank or suit is more important.\n",
    "\n",
    "The answer might depend on what game you are playing, but to keep things simple, we’ll make the arbitrary choice that suit is more important, so all of the Spades outrank all of the Diamonds, and so on.\n",
    "\n",
    "With that decided, we can write `__lt__`:\n",
    "\n",
    "    # inside class Card:\n",
    "\n",
    "        def __lt__(self, other):\n",
    "\n",
    "        # check the suits\n",
    "        if self.suit < other.suit: return True\n",
    "        if self.suit > other.suit: return False\n",
    "\n",
    "        # suits are the same... check ranks\n",
    "        return self.rank < other.rank\n",
    "\n",
    "You can write this more concisely using tuple comparison:\n",
    "\n",
    "    # inside class Card:\n",
    "\n",
    "        def __lt__(self, other):\n",
    "            t1 = self.suit, self.rank\n",
    "            t2 = other.suit, other.rank\n",
    "            return t1 < t2\n",
    "\n",
    "As an exercise, write an `__lt__` method for Time objects. You can use tuple comparison, but you also might consider comparing integers."
   ]
  },
  {
   "cell_type": "markdown",
   "metadata": {
    "collapsed": false
   },
   "source": [
    "## 18.4 Decks\n",
    "\n",
    "Now that we have Cards, the next step is to deﬁne Decks. Since a deck is made up of cards, it is natural for each Deck to contain a list of cards as an attribute.\n",
    "\n",
    "The following is a class deﬁnition for `Deck`. The init method creates the attribute cards and generates the standard set of ﬁfty-two cards:\n",
    "\n",
    "    class Deck:\n",
    "\n",
    "        def __init__(self):\n",
    "            self.cards = []\n",
    "            for suit in range(4):\n",
    "                for rank in range(1, 14):\n",
    "                    card = Card(suit, rank)\n",
    "                    self.cards.append(card)\n",
    "\n",
    "The easiest way to populate the deck is with a nested loop. The outer loop enumerates the suits from 0 to 3. The inner loop enumerates the ranks from 1 to 13. Each iteration creates a new Card with the current suit and rank, and appends it to `self.cards`."
   ]
  },
  {
   "cell_type": "markdown",
   "metadata": {
    "collapsed": false
   },
   "source": [
    "## 18.5 Printing the deck\n",
    "\n",
    "Here is a `__str__` method for `Deck`:\n",
    "\n",
    "    #inside class Deck:\n",
    "\n",
    "        def __str__(self):\n",
    "            res = []\n",
    "            for card in self.cards:\n",
    "                res.append(str(card))\n",
    "            return '\\n'.join(res)\n",
    "\n",
    "This method demonstrates an efﬁcient way to accumulate a large string: building a list of strings and then using the string method `join`. The built-in function `str` invokes the `__str__` method on each card and returns the string representation.\n",
    "\n",
    "Since we invoke `join` on a newline character, the cards are separated by newlines. Here’s what the result looks like:\n",
    "\n",
    "    >>> deck = Deck()\n",
    "    >>> print(deck)\n",
    "    Ace of Clubs\n",
    "    2 of Clubs\n",
    "    3 of Clubs\n",
    "    ...\n",
    "    10 of Spades\n",
    "    Jack of Spades\n",
    "    Queen of Spades\n",
    "    King of Spades\n",
    "\n",
    "Even though the result appears on 52 lines, it is one long string that contains newlines."
   ]
  },
  {
   "cell_type": "markdown",
   "metadata": {
    "collapsed": false
   },
   "source": [
    "## 18.6 Add, remove, shufﬂe and sort\n",
    "\n",
    "To deal cards, we would like a method that removes a card from the deck and returns it. The list method `pop` provides a convenient way to do that:\n",
    "\n",
    "    #inside class Deck:\n",
    "\n",
    "        def pop_card(self):\n",
    "            return self.cards.pop()\n",
    "\n",
    "Since `pop` removes the last card in the list, we are dealing from the bottom of the deck.\n",
    "\n",
    "To add a card, we can use the list method `append`: \n",
    "\n",
    "    #inside class Deck:\n",
    "\n",
    "        def add_card(self, card):\n",
    "            self.cards.append(card)\n",
    "\n",
    "A method like this that uses another method without doing much work is sometimes called a **veneer**. The metaphor comes from woodworking, where a veneer is a thin layer of good quality wood glued to the surface of a cheaper piece of wood to improve the appearance.\n",
    "\n",
    "In this case `add_card` is a “thin” method that expresses a list operation in terms appropriate for decks. It improves the appearance, or interface, of the implementation.\n",
    "\n",
    "As another example, we can write a Deck method named `shuffle` using the function `shuffle` from the `random` module:\n",
    "\n",
    "    # inside class Deck:\n",
    "\n",
    "        def shuffle(self):\n",
    "            random.shuffle(self.cards)\n",
    "\n",
    "Don’t forget to import `random`.\n",
    "\n",
    "As an exercise, write a Deck method named `sort` that uses the list method `sort` to sort the cards in a `Deck`. `sort` uses the `__lt__` method we deﬁned to determine the order."
   ]
  },
  {
   "cell_type": "code",
   "execution_count": 0,
   "metadata": {
    "collapsed": false
   },
   "outputs": [
   ],
   "source": [
   ]
  },
  {
   "cell_type": "code",
   "execution_count": 0,
   "metadata": {
    "collapsed": false
   },
   "outputs": [
   ],
   "source": [
   ]
  },
  {
   "cell_type": "markdown",
   "metadata": {
    "collapsed": false
   },
   "source": [
    "## 18.7 Inheritance\n",
    "\n",
    "Inheritance is the ability to deﬁne a new class that is a modiﬁed version of an existing class. As an example, let’s say we want a class to represent a “hand”, that is, the cards held by one player. A hand is similar to a deck: both are made up of a collection of cards, and both require operations like adding and removing cards.\n",
    "\n",
    "A hand is also different from a deck; there are operations we want for hands that don’t make sense for a deck. For example, in poker we might compare two hands to see which one wins. In bridge, we might compute a score for a hand in order to make a bid.\n",
    "\n",
    "This relationship between classes--similar, but different--lends itself to inheritance. To deﬁne a new class that inherits from an existing class, you put the name of the existing class in parentheses:\n",
    "\n",
    "    class Hand(Deck):\n",
    "        \"\"\"Represents a hand of playing cards.\"\"\"\n",
    "\n",
    "This deﬁnition indicates that `Hand` inherits from `Deck`; that means we can use methods like `pop_card` and `add_card` for Hands as well as Decks.\n",
    "\n",
    "When a new class inherits from an existing one, the existing one is called the **parent** and the new class is called the **child**.\n",
    "\n",
    "In this example, `Hand` inherits `__init__` from `Deck`, but it doesn’t really do what we want: instead of populating the hand with 52 new cards, the init method for Hands should initialize `cards` with an empty list.\n",
    "\n",
    "If we provide an init method in the `Hand` class, it overrides the one in the `Deck` class:\n",
    "\n",
    "    # inside class Hand:\n",
    "\n",
    "        def __init__(self, label=''):\n",
    "            self.cards = []\n",
    "            self.label = label\n",
    "\n",
    "When you create a Hand, Python invokes this init method, not the one in `Deck`.\n",
    "\n",
    "    >>> hand = Hand('new hand')\n",
    "    >>> hand.cards\n",
    "    []\n",
    "    >>> hand.label\n",
    "    'new hand'\n",
    "\n",
    "The other methods are inherited from `Deck`, so we can use `pop_card` and `add_card` to deal a card:\n",
    "\n",
    "    >>> deck = Deck()\n",
    "    >>> card = deck.pop_card()\n",
    "    >>> hand.add_card(card)\n",
    "    >>> print(hand)\n",
    "    King of Spades\n",
    "\n",
    "A natural next step is to encapsulate this code in a method called `move_cards`:\n",
    "\n",
    "    #inside class Deck:\n",
    "\n",
    "        def move_cards(self, hand, num):\n",
    "            for i in range(num):\n",
    "                hand.add_card(self.pop_card())\n",
    "\n",
    "`move_cards` takes two arguments, a Hand object and the number of cards to deal. It modiﬁes both `self` and `hand`, and returns `None`.\n",
    "\n",
    "In some games, cards are moved from one hand to another, or from a hand back to the deck. You can use `move_cards` for any of these operations: `self` can be either a Deck or a Hand, and `hand`, despite the name, can also be a `Deck`.\n",
    "\n",
    "Inheritance is a useful feature. Some programs that would be repetitive without inheritance can be written more elegantly with it. Inheritance can facilitate code reuse, since you can customize the behavior of parent classes without having to modify them. In some cases, the inheritance structure reﬂects the natural structure of the problem, which makes the design easier to understand.\n",
    "\n",
    "On the other hand, inheritance can make programs difﬁcult to read. When a method is invoked, it is sometimes not clear where to ﬁnd its deﬁnition. The relevant code may be spread across several modules. Also, many of the things that can be done using inheritance can be done as well or better without it."
   ]
  },
  {
   "cell_type": "markdown",
   "metadata": {
    "collapsed": false
   },
   "source": [
    "## 18.8 Class diagrams\n",
    "\n",
    "So far we have seen stack diagrams, which show the state of a program, and object diagrams, which show the attributes of an object and their values. These diagrams represent a snapshot in the execution of a program, so they change as the program runs.\n",
    "\n",
    "They are also highly detailed; for some purposes, too detailed. A class diagram is a more abstract representation of the structure of a program. Instead of showing individual objects, it shows classes and the relationships between them.\n",
    "\n",
    "There are several kinds of relationship between classes:\n",
    "\n",
    "* Objects in one class might contain references to objects in another class. For example, each Rectangle contains a reference to a Point, and each Deck contains references to many Cards. This kind of relationship is called **HAS-A**, as in, “a Rectangle has a Point.”\n",
    "\n",
    "* One class might inherit from another. This relationship is called **IS-A**, as in, “a Hand is a kind of a Deck.”\n",
    "\n",
    "* One class might depend on another in the sense that objects in one class take objects in the second class as parameters, or use objects in the second class as part of a computation. This kind of relationship is called a **dependency**.\n",
    "\n",
    "A **class diagram** is a graphical representation of these relationships. For example, Figure 18.2 shows the relationships between `Card`, `Deck` and `Hand`.\n",
    "\n",
    "The arrow with a hollow triangle head represents an IS-A relationship; in this case it indicates that Hand inherits from Deck.\n",
    "\n",
    "The standard arrow head represents a HAS-A relationship; in this case a Deck has references to Card objects.\n",
    "\n",
    "The star (`*`) near the arrow head is a **multiplicity**; it indicates how many Cards a Deck has. A multiplicity can be a simple number, like `52`, a range, like `5..7` or a star, which indicates that a Deck can have any number of Cards.\n",
    "\n",
    "There are no dependencies in this diagram. They would normally be shown with a dashed arrow. Or if there are a lot of dependencies, they are sometimes omitted.\n",
    "\n",
    "A more detailed diagram might show that a Deck actually contains a list of Cards, but built-in types like list and dict are usually not included in class diagrams."
   ]
  },
  {
   "cell_type": "markdown",
   "metadata": {
    "collapsed": false
   },
   "source": [
    "![class1.png](class1.png)\n",
    "\n",
    "Figure 18.2: Class diagram"
   ]
  },
  {
   "cell_type": "markdown",
   "metadata": {
    "collapsed": false
   },
   "source": [
    "## 18.9 Debugging\n",
    "\n",
    "Inheritance can make debugging difﬁcult because when you invoke a method on an object, it might be hard to ﬁgure out which method will be invoked.\n",
    "\n",
    "Suppose you are writing a function that works with Hand objects. You would like it to work with all kinds of Hands, like PokerHands, BridgeHands, etc. If you invoke a method like `shuffle`, you might get the one deﬁned in `Deck`, but if any of the subclasses override this method, you’ll get that version instead. This behavior is usually a good thing, but it can be confusing.\n",
    "\n",
    "Any time you are unsure about the ﬂow of execution through your program, the simplest solution is to add print statements at the beginning of the relevant methods. If `Deck.shuffle` prints a message that says something like `Running Deck.shuffle`, then as the program runs it traces the ﬂow of execution.\n",
    "\n",
    "As an alternative, you could use this function, which takes an object and a method name (as a string) and returns the class that provides the deﬁnition of the method:\n",
    "\n",
    "    def find_defining_class(obj, meth_name):\n",
    "        for ty in type(obj).mro():\n",
    "            if meth_name in ty.__dict__:\n",
    "                return ty\n",
    "\n",
    "Here’s an example:\n",
    "\n",
    "    >>> hand = Hand()\n",
    "    >>> find_defining_class(hand, 'shuffle')\n",
    "    <class 'Card.Deck'>\n",
    "\n",
    "So the `shuffle` method for this Hand is the one in Deck.\n",
    "\n",
    "`find_defining_class` uses the mro method to get the list of class objects (types) that will be searched for methods. “MRO” stands for “method resolution order”, which is the sequence of classes Python searches to “resolve” a method name.\n",
    "\n",
    "Here’s a design suggestion: when you override a method, the interface of the new method should be the same as the old. It should take the same parameters, return the same type, and obey the same preconditions and postconditions. If you follow this rule, you will ﬁnd that any function designed to work with an instance of a parent class, like a Deck, will also work with instances of child classes like a Hand and PokerHand.\n",
    "\n",
    "If you violate this rule, which is called the “Liskov substitution principle”, your code will collapse like (sorry) a house of cards."
   ]
  },
  {
   "cell_type": "markdown",
   "metadata": {
    "collapsed": false
   },
   "source": [
    "## 18.10 Data encapsulation\n",
    "\n",
    "The previous chapters demonstrate a development plan we might call “object-oriented design”. We identiﬁed objects we needed--like `Point`, `Rectangle` and `Time`--and deﬁned classes to represent them. In each case there is an obvious correspondence between the object and some entity in the real world (or at least a mathematical world).\n",
    "\n",
    "But sometimes it is less obvious what objects you need and how they should interact. In that case you need a different development plan. In the same way that we discovered function interfaces by encapsulation and generalization, we can discover class interfaces by **data encapsulation**.\n",
    "\n",
    "Markov analysis, from Section 13.8, provides a good example. If you download my code from http://thinkpython2.com/code/markov.py, you’ll see that it uses two global variables--`suffix_map` and `prefix`--that are read and written from several functions.\n",
    "\n",
    "    suffix_map = {}\n",
    "    prefix = ()\n",
    "\n",
    "Because these variables are global, we can only run one analysis at a time. If we read two texts, their preﬁxes and sufﬁxes would be added to the same data structures (which makes for some interesting generated text).\n",
    "\n",
    "To run multiple analyses, and keep them separate, we can encapsulate the state of each analysis in an object. Here’s what that looks like:\n",
    "\n",
    "    class Markov:\n",
    "\n",
    "        def __init__(self):\n",
    "            self.suffix_map = {}\n",
    "            self.prefix = ()\n",
    "\n",
    "Next, we transform the functions into methods. For example, here’s `process_word`:\n",
    "\n",
    "    def process_word(self, word, order=2):\n",
    "        if len(self.prefix) < order:\n",
    "            self.prefix += (word,)\n",
    "            return\n",
    "\n",
    "        try:\n",
    "            self.suffix_map[self.prefix].append(word)\n",
    "        except KeyError:\n",
    "            # if there is no entry for this prefix, make one\n",
    "            self.suffix_map[self.prefix] = [word]\n",
    "\n",
    "        self.prefix = shift(self.prefix, word)\n",
    "\n",
    "Transforming a program like this--changing the design without changing the behavior--is another example of refactoring (see Section 4.7).\n",
    "\n",
    "This example suggests a development plan for designing objects and methods:\n",
    "\n",
    "1. Start by writing functions that read and write global variables (when necessary).\n",
    "\n",
    "2. Once you get the program working, look for associations between global variables and the functions that use them.\n",
    "\n",
    "3. Encapsulate related variables as attributes of an object.\n",
    "\n",
    "4. Transform the associated functions into methods of the new class.\n",
    "\n",
    "As an exercise, download my Markov code from http://thinkpython2.com/code/markov.py, and follow the steps described above to encapsulate the global variables as attributes of a new class called `Markov`. Solution: http://thinkpython2.com/code/Markov.py (note the capital M)."
   ]
  },
  {
   "cell_type": "markdown",
   "metadata": {
    "collapsed": false
   },
   "source": [
    "## 18.11 Glossary\n",
    "\n",
    "**encode:** To represent one set of values using another set of values by constructing a mapping between them.\n",
    "\n",
    "**class attribute:** An attribute associated with a class object. Class attributes are deﬁned inside a class deﬁnition but outside any method.\n",
    "\n",
    "instance attribute: An attribute associated with an instance of a class.\n",
    "\n",
    "**veneer:** A method or function that provides a different interface to another function without doing much computation.\n",
    "\n",
    "**inheritance:** The ability to deﬁne a new class that is a modiﬁed version of a previously deﬁned class.\n",
    "\n",
    "**parent class:** The class from which a child class inherits.\n",
    "\n",
    "**child class:** A new class created by inheriting from an existing class; also called a “sub-class”.\n",
    "\n",
    "**IS-A relationship:** A relationship between a child class and its parent class.\n",
    "\n",
    "**HAS-A relationship:** A relationship between two classes where instances of one class contain references to instances of the other.\n",
    "\n",
    "**dependency:** A relationship between two classes where instances of one class use instances of the other class, but do not store them as attributes.\n",
    "\n",
    "**class diagram:** A diagram that shows the classes in a program and the relationships between them.\n",
    "\n",
    "**multiplicity:** A notation in a class diagram that shows, for a HAS-A relationship, how many references there are to instances of another class.\n",
    "\n",
    "**data encapsulation:** A program development plan that involves a prototype using global variables and a ﬁnal version that makes the global variables into instance attributes."
   ]
  },
  {
   "cell_type": "markdown",
   "metadata": {
    "collapsed": false
   },
   "source": [
    "## 18.12 Exercises\n",
    "\n",
    "**Exercise 18.1.** For the following program, draw a UML class diagram that shows these classes and the relationships among them.\n",
    "\n",
    "    class PingPongParent:\n",
    "        pass\n",
    "\n",
    "    class Ping(PingPongParent):\n",
    "        def __init__(self, pong):\n",
    "            self.pong = pong\n",
    "\n",
    "    class Pong(PingPongParent):\n",
    "        def __init__(self, pings=None):\n",
    "            if pings is None:\n",
    "                self.pings = []\n",
    "            else:\n",
    "                self.pings = pings\n",
    "\n",
    "    def add_ping(self, ping):\n",
    "        self.pings.append(ping)\n",
    "\n",
    "    pong = Pong()\n",
    "    ping = Ping(pong)\n",
    "    pong.add_ping(ping)"
   ]
  },
  {
   "cell_type": "code",
   "execution_count": 0,
   "metadata": {
    "collapsed": false
   },
   "outputs": [
   ],
   "source": [
   ]
  },
  {
   "cell_type": "code",
   "execution_count": 0,
   "metadata": {
    "collapsed": false
   },
   "outputs": [
   ],
   "source": [
   ]
  },
  {
   "cell_type": "markdown",
   "metadata": {
    "collapsed": false
   },
   "source": [
    "**Exercise 18.2.** Write a Deck method called `deal_hands` that takes two parameters, the number of hands and the number of cards per hand. It should create the appropriate number of Hand objects, deal the appropriate number of cards per hand, and return a list of Hands."
   ]
  },
  {
   "cell_type": "code",
   "execution_count": 0,
   "metadata": {
    "collapsed": false
   },
   "outputs": [
   ],
   "source": [
   ]
  },
  {
   "cell_type": "code",
   "execution_count": 0,
   "metadata": {
    "collapsed": false
   },
   "outputs": [
   ],
   "source": [
   ]
  },
  {
   "cell_type": "markdown",
   "metadata": {
    "collapsed": false
   },
   "source": [
    "**Exercise 18.3.** The following are the possible hands in poker, in increasing order of value and decreasing order of probability:\n",
    "\n",
    "**pair:** two cards with the same rank two pair: two pairs of cards with the same rank\n",
    "\n",
    "**three of a kind:** three cards with the same rank straight: ﬁve cards with ranks in sequence (aces can be high or low, so `Ace-2-3-4-5` is a straight and so is `10-Jack-Queen-King-Ace`, but `Queen-King-Ace-2-3` is not.)\n",
    "\n",
    "**ﬂush:** ﬁve cards with the same suit\n",
    "\n",
    "**full house:** three cards with one rank, two cards with another\n",
    "\n",
    "**four of a kind:** four cards with the same rank\n",
    "\n",
    "**straight ﬂush:** ﬁve cards in sequence (as deﬁned above) and with the same suit\n",
    "\n",
    "The goal of these exercises is to estimate the probability of drawing these various hands.\n",
    "\n",
    "1. Download the following ﬁles from http://thinkpython2.com/code:\n",
    "\n",
    "  `Card.py` : A complete version of the `Card`, `Deck` and `Hand` classes in this chapter.\n",
    "  \n",
    "  `PokerHand.py` : An incomplete implementation of a class that represents a poker hand, and some code that tests it.\n",
    "\n",
    "2. If you run `PokerHand.py`, it deals seven 7-card poker hands and checks to see if any of them contains a ﬂush. Read this code carefully before you go on.\n",
    "\n",
    "3. Add methods to `PokerHand.py` named `has_pair`, `has_twopair`, etc. that return `True` or `False` according to whether or not the hand meets the relevant criteria. Your code should work correctly for “hands” that contain any number of cards (although 5 and 7 are the most common sizes).\n",
    "\n",
    "4. Write a method named `classify` that ﬁgures out the highest-value classiﬁcation for a hand and sets the `label` attribute accordingly. For example, a 7-card hand might contain a ﬂush and a pair; it should be labeled “ﬂush”.\n",
    "\n",
    "5. When you are convinced that your classiﬁcation methods are working, the next step is to estimate the probabilities of the various hands. Write a function in `PokerHand.py` that shufﬂes a deck of cards, divides it into hands, classiﬁes the hands, and counts the number of times various classiﬁcations appear.\n",
    "\n",
    "6. Print a table of the classiﬁcations and their probabilities. Run your program with larger and larger numbers of hands until the output values converge to a reasonable degree of accuracy. Compare your results to the values at http://en.wikipedia.org/wiki/Hand_rankings.\n",
    "\n",
    "Solution: http://thinkpython2.com/code/PokerHandSoln.py."
   ]
  },
  {
   "cell_type": "code",
   "execution_count": 0,
   "metadata": {
    "collapsed": false
   },
   "outputs": [
   ],
   "source": [
   ]
  },
  {
   "cell_type": "code",
   "execution_count": 0,
   "metadata": {
    "collapsed": false
   },
   "outputs": [
   ],
   "source": [
   ]
  }
 ],
 "metadata": {
  "kernelspec": {
   "display_name": "Python 3 (Anaconda)",
   "language": "python",
   "name": "anaconda3"
  },
  "language_info": {
   "codemirror_mode": {
    "name": "ipython",
    "version": 3
   },
   "file_extension": ".py",
   "mimetype": "text/x-python",
   "name": "python",
   "nbconvert_exporter": "python",
   "pygments_lexer": "ipython3",
   "version": "3.5.4"
  }
 },
 "nbformat": 4,
 "nbformat_minor": 0
}