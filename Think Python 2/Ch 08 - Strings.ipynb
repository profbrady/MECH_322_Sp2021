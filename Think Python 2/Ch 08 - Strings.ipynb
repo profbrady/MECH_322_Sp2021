{
 "cells": [
  {
   "cell_type": "markdown",
   "metadata": {
    "collapsed": false
   },
   "source": [
    "#### The material in this document is copied from or based on the the book...\n",
    "\n",
    "# Think Python\n",
    "## How to Think Like a Computer Scientist\n",
    "Second edition, Version 2.2.20\n",
    "\n",
    "##### Allen Downey\n",
    "\n",
    "##### Green Tea Press\n",
    "\n",
    "Needham, Massachusetts\n",
    "\n",
    "\n",
    "\n",
    "\n"
   ]
  },
  {
   "cell_type": "markdown",
   "metadata": {
    "collapsed": false
   },
   "source": [
    "Copyright © 2015 Allen Downey.\n",
    "\n",
    "Green Tea Press 9 Washburn Ave Needham MA 02492\n",
    "\n",
    "Permission is granted to copy, distribute, and/or modify this document under the terms of the Creative Commons Attribution-NonCommercial 3.0 Unported License, which is available at http://creativecommons.org/licenses/by-nc/3.0/.\n",
    "\n",
    "The original form of this book is $\\LaTeX$ source code. Compiling this $\\LaTeX$ source has the effect of generating a device-independent representation of a textbook, which can be converted to other formats and printed.\n",
    "\n",
    "The $\\LaTeX$ source for this book is available from http://www.thinkpython2.com"
   ]
  },
  {
   "cell_type": "markdown",
   "metadata": {
    "collapsed": false
   },
   "source": [
    "# Chapter 8: Strings\n",
    "\n",
    "Strings are not like integers, ﬂoats, and booleans. A string is a **sequence**, which means it is an ordered collection of other values. In this chapter you’ll see how to access the characters that make up a string, and you’ll learn about some of the methods strings provide.\n"
   ]
  },
  {
   "cell_type": "markdown",
   "metadata": {
    "collapsed": false
   },
   "source": [
    "## 8.1 A string is a sequence\n",
    "\n",
    "A string is a sequence of characters. You can access the characters one at a time with the bracket operator:\n",
    "\n",
    "    >>> fruit = 'banana'\n",
    "    >>> letter = fruit[1]\n",
    "\n",
    "The second statement selects character number 1 from `fruit` and assigns it to `letter`.\n",
    "\n",
    "The expression in brackets is called an **index**. The index indicates which character in the sequence you want (hence the name).\n",
    "\n",
    "But you might not get what you expect:\n",
    "\n",
    "    >>> letter\n",
    "    'a'\n",
    "\n",
    "For most people, the ﬁrst letter of `'banana'` is `b`, not `a`. But for computer scientists, the index is an offset from the beginning of the string, and the offset of the ﬁrst letter is zero.\n",
    "\n",
    "    >>> letter = fruit[0]\n",
    "    >>> letter\n",
    "    'b'\n",
    "\n",
    "So `b` is the 0th letter (“zero-eth”) of `'banana'`, `a` is the 1th letter (“one-eth”), and `n` is the 2th letter (“two-eth”).\n",
    "\n",
    "As an index you can use an expression that contains variables and operators:\n",
    "\n",
    "    >>> i = 1\n",
    "    >>> fruit[i]\n",
    "    'a'\n",
    "    >>> fruit[i+1]\n",
    "    'n'\n",
    "\n",
    "But the value of the index has to be an integer. Otherwise you get:\n",
    "\n",
    "    >>> letter = fruit[1.5]\n",
    "    TypeError: string indices must be integers"
   ]
  },
  {
   "cell_type": "markdown",
   "metadata": {
    "collapsed": false
   },
   "source": [
    "*Create a variable called *'name'* and assign your name to it. Then use indexing to find the 3th letter.*"
   ]
  },
  {
   "cell_type": "code",
   "execution_count": 0,
   "metadata": {
    "collapsed": false
   },
   "outputs": [
   ],
   "source": [
   ]
  },
  {
   "cell_type": "markdown",
   "metadata": {
    "collapsed": false
   },
   "source": [
    "## 8.2 `len`\n",
    "\n",
    "`len` is a built-in function that returns the number of characters in a string:\n",
    "\n",
    "    >>> fruit = 'banana'\n",
    "    >>> len(fruit)\n",
    "    6\n",
    "\n",
    "To get the last letter of a string, you might be tempted to try something like this:\n",
    "\n",
    "    >>> length = len(fruit)\n",
    "    >>> last = fruit[length]\n",
    "    IndexError: string index out of range\n",
    "\n",
    "The reason for the `IndexError` is that there is no letter in `'banana'` with the index 6. Since we started counting at zero, the six letters are numbered 0 to 5. To get the last character, you have to subtract 1 from `length`:\n",
    "\n",
    "    >>> last = fruit[length-1]\n",
    "    >>> last\n",
    "    'a'\n",
    "\n",
    "Or you can use negative indices, which count backward from the end of the string. The expression `fruit[-1]` yields the last letter, `fruit[-2]` yields the second to last, and so on."
   ]
  },
  {
   "cell_type": "markdown",
   "metadata": {
    "collapsed": false
   },
   "source": [
    "## 8.3 Traversal with a `for` loop\n",
    "\n",
    "A lot of computations involve processing a string one character at a time. Often they start at the beginning, select each character in turn, do something to it, and continue until the end. This pattern of processing is called a **traversal**. One way to write a traversal is with a `while` loop:\n",
    "\n",
    "    index = 0 while index < len(fruit):\n",
    "        letter = fruit[index]\n",
    "        print(letter)\n",
    "        index = index + 1\n",
    "\n",
    "This loop traverses the string and displays each letter on a line by itself. The loop condition is `index < len(fruit)`, so when `index` is equal to the length of the string, the condition is false, and the body of the loop doesn’t run. The last character accessed is the one with the index `len(fruit)-1`, which is the last character in the string.\n",
    "\n",
    "As an exercise, write a function that takes a string as an argument and displays the letters backward, one per line.\n",
    "\n",
    "Another way to write a traversal is with a `for` loop:\n",
    "\n",
    "    for letter in fruit:\n",
    "        print(letter)\n",
    "\n",
    "Each time through the loop, the next character in the string is assigned to the variable `letter`. The loop continues until no characters are left.\n",
    "\n",
    "The following example shows how to use concatenation (string addition) and a `for` loop to generate an abecedarian series (that is, in alphabetical order). In Robert McCloskey’s book *Make Way for Ducklings*, the names of the ducklings are Jack, Kack, Lack, Mack, Nack, Ouack, Pack, and Quack. This loop outputs these names in order:\n",
    "\n",
    "    prefixes = 'JKLMNOPQ'\n",
    "    suffix = 'ack'\n",
    "    for letter in prefixes:\n",
    "        print(letter + suffix)\n",
    "\n",
    "The output is:\n",
    "\n",
    "    Jack\n",
    "    Kack\n",
    "    Lack\n",
    "    Mack\n",
    "    Nack\n",
    "    Oack\n",
    "    Pack\n",
    "    Qack\n",
    "\n",
    "Of course, that’s not quite right because “Ouack” and “Quack” are misspelled. As an exercise, modify the program to ﬁx this error."
   ]
  },
  {
   "cell_type": "code",
   "execution_count": 0,
   "metadata": {
    "collapsed": false
   },
   "outputs": [
   ],
   "source": [
   ]
  },
  {
   "cell_type": "markdown",
   "metadata": {
    "collapsed": false
   },
   "source": [
    "## 8.4 String slices\n",
    "\n",
    "A segment of a string is called a **slice**. Selecting a slice is similar to selecting a character:\n",
    "\n",
    "    >>> s = 'Monty Python'\n",
    "    >>> s[0:5] 'Monty'\n",
    "    >>> s[6:12] 'Python'\n",
    "\n",
    "The operator `[n:m]` returns the part of the string from the “n-eth” character to the “m-eth” character, including the ﬁrst but excluding the last. This behavior is counterintuitive, but it might help to imagine the indices pointing between the characters, as in Figure 8.1.\n",
    "\n",
    "![banana.png](banana.png)\n",
    "\n",
    "Figure 8.1: Slice indexes\n",
    "\n",
    "If you omit the ﬁrst index (before the colon), the slice starts at the beginning of the string. If you omit the second index, the slice goes to the end of the string:\n",
    "\n",
    "    >>> fruit = 'banana'\n",
    "    >>> fruit[:3]\n",
    "    'ban'\n",
    "    >>> fruit[3:]\n",
    "    'ana'\n",
    "\n",
    "If the ﬁrst index is greater than or equal to the second the result is an empty string, represented by two quotation marks:\n",
    "\n",
    "    >>> fruit = 'banana'\n",
    "    >>> fruit[3:3]\n",
    "    ''\n",
    "\n",
    "An empty string contains no characters and has length 0, but other than that, it is the same as any other string.\n",
    "\n",
    "Continuing this example, what do you think `fruit[:]` means? Try it and see."
   ]
  },
  {
   "cell_type": "code",
   "execution_count": 0,
   "metadata": {
    "collapsed": false
   },
   "outputs": [
   ],
   "source": [
   ]
  },
  {
   "cell_type": "markdown",
   "metadata": {
    "collapsed": false
   },
   "source": [
    "## 8.5 Strings are immutable\n",
    "\n",
    "It is tempting to use the `[]` operator on the left side of an assignment, with the intention of changing a character in a string. For example:\n",
    "\n",
    "    >>> greeting = 'Hello, world!'\n",
    "    >>> greeting[0] = 'J'\n",
    "    TypeError: 'str' object does not support item assignment\n",
    "\n",
    "The “object” in this case is the string and the “item” is the character you tried to assign. For now, an object is the same thing as a value, but we will reﬁne that deﬁnition later (Section 10.10).\n",
    "\n",
    "The reason for the error is that strings are **immutable**, which means you can’t change an existing string. The best you can do is create a new string that is a variation on the original:\n",
    "\n",
    "    >>> greeting = 'Hello, world!'\n",
    "    >>> new_greeting = 'J' + greeting[1:]\n",
    "    >>> new_greeting 'Jello, world!'\n",
    "\n",
    "This example concatenates a new ﬁrst letter onto a slice of `greeting`. It has no effect on the original string."
   ]
  },
  {
   "cell_type": "code",
   "execution_count": 0,
   "metadata": {
    "collapsed": false
   },
   "outputs": [
   ],
   "source": [
   ]
  },
  {
   "cell_type": "markdown",
   "metadata": {
    "collapsed": false
   },
   "source": [
    "## 8.6 Searching\n",
    "\n",
    "What does the following function do?\n",
    "\n",
    "    def find(word, letter):\n",
    "        index = 0\n",
    "        while index < len(word):\n",
    "            if word[index] == letter:\n",
    "                return index\n",
    "            index = index + 1\n",
    "        return -1\n",
    "\n",
    "In a sense, find is the inverse of the `[]` operator. Instead of taking an index and extracting the corresponding character, it takes a character and ﬁnds the index where that character appears. If the character is not found, the function returns `-1`.\n",
    "\n",
    "This is the ﬁrst example we have seen of a return statement inside a loop. If `word[index] == letter`, the function breaks out of the loop and returns immediately.\n",
    "\n",
    "If the character doesn’t appear in the string, the program exits the loop normally and returns `-1`.\n",
    "\n",
    "This pattern of computation--traversing a sequence and returning when we ﬁnd what we are looking for--is called a **search**.\n",
    "\n",
    "As an exercise, modify `find` so that it has a third parameter, the index in `word` where it should start looking."
   ]
  },
  {
   "cell_type": "code",
   "execution_count": 0,
   "metadata": {
    "collapsed": false
   },
   "outputs": [
   ],
   "source": [
   ]
  },
  {
   "cell_type": "markdown",
   "metadata": {
    "collapsed": false
   },
   "source": [
    "## 8.7 Looping and counting\n",
    "\n",
    "The following program counts the number of times the letter `a` appears in a string:\n",
    "\n",
    "    word = 'banana'\n",
    "    count = 0 \n",
    "    for letter in word:\n",
    "        if letter == 'a':\n",
    "            count = count + 1\n",
    "    print(count)\n",
    "\n",
    "This program demonstrates another pattern of computation called a **counter**. The variable `count` is initialized to `0` and then incremented each time an `a` is found. When the loop exits, `count` contains the result--the total number of `a`’s.\n",
    "\n",
    "As an exercise, encapsulate this code in a function named `count`, and generalize it so that it accepts the string and the letter as arguments.\n",
    "\n",
    "Then rewrite the function so that instead of traversing the string, it uses the three-parameter version of `find` from the previous section."
   ]
  },
  {
   "cell_type": "code",
   "execution_count": 0,
   "metadata": {
    "collapsed": false
   },
   "outputs": [
   ],
   "source": [
   ]
  },
  {
   "cell_type": "code",
   "execution_count": 0,
   "metadata": {
    "collapsed": false
   },
   "outputs": [
   ],
   "source": [
   ]
  },
  {
   "cell_type": "markdown",
   "metadata": {
    "collapsed": false
   },
   "source": [
    "## 8.8 String methods\n",
    "\n",
    "Strings provide methods that perform a variety of useful operations. A method is similar to a function--it takes arguments and returns a value--but the syntax is different. For example, the method `upper` takes a string and returns a new string with all uppercase letters.\n",
    "\n",
    "Instead of the function syntax `upper(word)`, it uses the method syntax `word.upper()`.\n",
    "\n",
    "    >>> word = 'banana'\n",
    "    >>> new_word = word.upper()\n",
    "    >>> new_word\n",
    "    'BANANA'\n",
    "\n",
    "This form of dot notation speciﬁes the name of the method, `upper`, and the name of the string to apply the method to, `word`. The empty parentheses indicate that this method takes no arguments.\n",
    "\n",
    "A method call is called an **invocation**; in this case, we would say that we are invoking `upper` on `word`.\n",
    "\n",
    "As it turns out, there is a string method named `find` that is remarkably similar to the function we wrote:\n",
    "\n",
    "    >>> word = 'banana'\n",
    "    >>> index = word.find('a')\n",
    "    >>> index\n",
    "    1\n",
    "\n",
    "In this example, we invoke find on `word` and pass the letter we are looking for as a parameter.\n",
    "\n",
    "Actually, the `find` method is more general than our function; it can ﬁnd substrings, not just characters:\n",
    "\n",
    "    >>> word.find('na')\n",
    "    2\n",
    "\n",
    "By default, `find` starts at the beginning of the string, but it can take a second argument, the index where it should start:\n",
    "\n",
    "    >>> word.find('na', 3)\n",
    "    4\n",
    "\n",
    "This is an example of an **optional argument**; find can also take a third argument, the index where it should stop:\n",
    "\n",
    "    >>> name = 'bob'\n",
    "    >>> name.find('b', 1, 2)\n",
    "    -1\n",
    "\n",
    "This search fails because `b` does not appear in the index range from 1 to 2, not including 2. Searching up to, but not including, the second index makes `find` consistent with the `slice` operator."
   ]
  },
  {
   "cell_type": "markdown",
   "metadata": {
    "collapsed": false
   },
   "source": [
    "## 8.9 The `in` operator\n",
    "\n",
    "The word `in` is a boolean operator that takes two strings and returns `True` if the ﬁrst appears as a substring in the second:\n",
    "\n",
    "    >>> 'a' in 'banana'\n",
    "    True\n",
    "    >>> 'seed' in 'banana'\n",
    "    False\n",
    "\n",
    "For example, the following function prints all the letters from `word1` that also appear in `word2`:\n",
    "\n",
    "    def in_both(word1, word2):\n",
    "        for letter in word1:\n",
    "            if letter in word2:\n",
    "                print(letter)\n",
    "\n",
    "With well-chosen variable names, Python sometimes reads like English. You could read this loop, “for (each) letter in (the ﬁrst) word, if (the) letter (appears) in (the second) word, print (the) letter.”\n",
    "\n",
    "Here’s what you get if you compare `apples` and `oranges`:\n",
    "\n",
    "    >>> in_both('apples', 'oranges')\n",
    "    a\n",
    "    e\n",
    "    s"
   ]
  },
  {
   "cell_type": "markdown",
   "metadata": {
    "collapsed": false
   },
   "source": [
    "*Use the *`in` *operator to prove the old saying...\"There is no I in team.\"*"
   ]
  },
  {
   "cell_type": "code",
   "execution_count": 0,
   "metadata": {
    "collapsed": false
   },
   "outputs": [
   ],
   "source": [
   ]
  },
  {
   "cell_type": "markdown",
   "metadata": {
    "collapsed": false
   },
   "source": [
    "## 8.10 String comparison\n",
    "\n",
    "The relational operators work on strings. To see if two strings are equal:\n",
    "\n",
    "    if word == 'banana':\n",
    "        print('All right, bananas.')\n",
    "\n",
    "Other relational operations are useful for putting words in alphabetical order:\n",
    "\n",
    "    if word < 'banana':\n",
    "        print('Your word, ' + word + ', comes before banana.')\n",
    "    elif word > 'banana':\n",
    "        print('Your word, ' + word + ', comes after banana.')\n",
    "    else:\n",
    "        print('All right, bananas.')\n",
    "\n",
    "Python does not handle uppercase and lowercase letters the same way people do. All the uppercase letters come before all the lowercase letters, so:\n",
    "\n",
    "    Your word, Pineapple, comes before banana.\n",
    "\n",
    "A common way to address this problem is to convert strings to a standard format, such as all lowercase, before performing the comparison. Keep that in mind in case you have to defend yourself against a man armed with a Pineapple."
   ]
  },
  {
   "cell_type": "markdown",
   "metadata": {
    "collapsed": false
   },
   "source": [
    "## 8.11 Debugging\n",
    "\n",
    "When you use indices to traverse the values in a sequence, it is tricky to get the beginning and end of the traversal right. Here is a function that is supposed to compare two words and return `True` if one of the words is the reverse of the other, but it contains two errors:\n",
    "\n",
    "    def is_reverse(word1, word2):\n",
    "        if len(word1) != len(word2):\n",
    "            return False\n",
    "        i = 0\n",
    "        j = len(word2)\n",
    "        while j > 0:\n",
    "            if word1[i] != word2[j]:\n",
    "                return False\n",
    "            i = i+1\n",
    "            j = j-1\n",
    "            \n",
    "        return True\n",
    "\n",
    "The ﬁrst `if` statement checks whether the words are the same length. If not, we can return `False` immediately. Otherwise, for the rest of the function, we can assume that the words are the same length. This is an example of the guardian pattern in Section 6.8.\n",
    "\n",
    "`i` and `j` are indices: `i` traverses `word1` forward while `j` traverses `word2` backward. If we ﬁnd two letters that don’t match, we can return `False` immediately. If we get through the whole loop and all the letters match, we return `True`.\n",
    "\n",
    "If we test this function with the words `“pots”` and `“stop”`, we expect the return value `True`, but we get an `IndexError`:\n",
    "\n",
    "    >>> is_reverse('pots', 'stop')\n",
    "    ...\n",
    "      File \"reverse.py\", line 15, in is_reverse\n",
    "        if word1[i] != word2[j]:\n",
    "    IndexError: string index out of range\n",
    "\n",
    "For debugging this kind of error, my ﬁrst move is to print the values of the indices immediately before the line where the error appears.\n",
    "\n",
    "    while j > 0:\n",
    "        print(i, j) # print here\n",
    "        if word1[i] != word2[j]:\n",
    "            return False\n",
    "        i = i+1\n",
    "        j = j-1\n",
    "    \n",
    "Now when I run the program again, I get more information:\n",
    "\n",
    "    >>> is_reverse('pots', 'stop')\n",
    "    0\n",
    "    4\n",
    "    ...\n",
    "    IndexError: string index out of range\n",
    "\n",
    "The ﬁrst time through the loop, the value of `j` is 4, which is out of range for the string `'pots'`. The index of the last character is 3, so the initial value for `j` should be `len(word2)-1`.\n",
    "\n",
    "If I ﬁx that error and run the program again, I get:\n",
    "\n",
    "    >>> is_reverse('pots', 'stop')\n",
    "    0\n",
    "    3\n",
    "    1\n",
    "    2\n",
    "    2\n",
    "    1\n",
    "    True\n",
    "\n",
    "This time we get the right answer, but it looks like the loop only ran three times, which is suspicious. To get a better idea of what is happening, it is useful to draw a state diagram. During the ﬁrst iteration, the frame for `is_reverse` is shown in Figure 8.2.\n",
    "\n",
    "I took some license by arranging the variables in the frame and adding dotted lines to show that the values of `i` and `j` indicate characters in `word1` and `word2`.\n",
    "\n",
    "Starting with this diagram, run the program on paper, changing the values of `i` and `j` during each iteration. Find and ﬁx the second error in this function."
   ]
  },
  {
   "cell_type": "markdown",
   "metadata": {
    "collapsed": false
   },
   "source": [
    "![state4.png](state4.png)\n",
    "\n",
    "Figure 8.1: State diagram"
   ]
  },
  {
   "cell_type": "code",
   "execution_count": 0,
   "metadata": {
    "collapsed": false
   },
   "outputs": [
   ],
   "source": [
   ]
  },
  {
   "cell_type": "markdown",
   "metadata": {
    "collapsed": false
   },
   "source": [
    "## 8.12 Glossary\n",
    "\n",
    "**object:** Something a variable can refer to. For now, you can use “object” and “value” interchangeably.\n",
    "\n",
    "**sequence:** An ordered collection of values where each value is identiﬁed by an integer index.\n",
    "\n",
    "**item:** One of the values in a sequence.\n",
    "\n",
    "**index:** An integer value used to select an item in a sequence, such as a character in a string. In Python indices start from 0.\n",
    "\n",
    "**slice:** A part of a string speciﬁed by a range of indices.\n",
    "\n",
    "**empty string:** A string with no characters and length 0, represented by two quotation marks.\n",
    "\n",
    "**immutable:** The property of a sequence whose items cannot be changed.\n",
    "\n",
    "**traverse:** To iterate through the items in a sequence, performing a similar operation on each.\n",
    "\n",
    "**search:** A pattern of traversal that stops when it ﬁnds what it is looking for.\n",
    "\n",
    "**counter:** A variable used to count something, usually initialized to zero and then incremented.\n",
    "\n",
    "**invocation:** A statement that calls a method.\n",
    "\n",
    "**optional argument:** A function or method argument that is not required."
   ]
  },
  {
   "cell_type": "markdown",
   "metadata": {
    "collapsed": false
   },
   "source": [
    "## 8.13 Exercises\n",
    "\n",
    "**Exercise 8.1.** Read the documentation of the string methods at http://docs.python.org/3/library/stdtypes.html#string-methods. You might want to experiment with some of them to make sure you understand how they work. `strip` and `replace` are particularly useful.\n",
    "\n",
    "The documentation uses a syntax that might be confusing. For example, in `find(sub[, start[, end]])`, the brackets indicate optional arguments. So `sub` is required, but `start` is optional, and if you include `start`, then `end` is optional."
   ]
  },
  {
   "cell_type": "code",
   "execution_count": 0,
   "metadata": {
    "collapsed": false
   },
   "outputs": [
   ],
   "source": [
   ]
  },
  {
   "cell_type": "code",
   "execution_count": 0,
   "metadata": {
    "collapsed": false
   },
   "outputs": [
   ],
   "source": [
   ]
  },
  {
   "cell_type": "markdown",
   "metadata": {
    "collapsed": false
   },
   "source": [
    "**Exercise 8.2.** There is a string method called `count` that is similar to the function in Section 8.7. Read the documentation of this method and write an invocation that counts the number of `a`’s in `'banana'`."
   ]
  },
  {
   "cell_type": "code",
   "execution_count": 0,
   "metadata": {
    "collapsed": false
   },
   "outputs": [
   ],
   "source": [
   ]
  },
  {
   "cell_type": "markdown",
   "metadata": {
    "collapsed": false
   },
   "source": [
    "**Exercise 8.3.** A string slice can take a third index that speciﬁes the “step size”; that is, the number of spaces between successive characters. A step size of 2 means every other character; 3 means every third, etc.\n",
    "\n",
    "    >>> fruit = 'banana'\n",
    "    >>> fruit[0:5:2]\n",
    "    'bnn'\n",
    "\n",
    "A step size of `-1` goes through the word backwards, so the slice `[::-1]` generates a reversed string.\n",
    "\n",
    "Use this idiom to write a one-line version of `is_palindrome` from Exercise 6.3."
   ]
  },
  {
   "cell_type": "code",
   "execution_count": 0,
   "metadata": {
    "collapsed": false
   },
   "outputs": [
   ],
   "source": [
   ]
  },
  {
   "cell_type": "markdown",
   "metadata": {
    "collapsed": false
   },
   "source": [
    "**Exercise 8.4.** The following functions are all intended to check whether a string contains any lowercase letters, but at least some of them are wrong. For each function, describe what the function actually does (assuming that the parameter is a string).\n",
    "\n",
    "    def any_lowercase1(s):\n",
    "        for c in s:\n",
    "            if c.islower():\n",
    "                return True\n",
    "            else:\n",
    "                return False\n",
    "\n",
    "    def any_lowercase2(s):\n",
    "        for c in s:\n",
    "            if 'c'.islower():\n",
    "                return 'True'\n",
    "            else:\n",
    "                return 'False'\n",
    "\n",
    "    def any_lowercase3(s):\n",
    "        for c in s:\n",
    "            flag = c.islower()\n",
    "        return flag\n",
    "\n",
    "    def any_lowercase4(s):\n",
    "        flag = False\n",
    "        for c in s:\n",
    "            flag = flag or c.islower()\n",
    "        return flag\n",
    "\n",
    "    def any_lowercase5(s):\n",
    "        for c in s:\n",
    "            if not c.islower():\n",
    "                return False\n",
    "        return True\n",
    "    "
   ]
  },
  {
   "cell_type": "code",
   "execution_count": 0,
   "metadata": {
    "collapsed": false
   },
   "outputs": [
   ],
   "source": [
   ]
  },
  {
   "cell_type": "code",
   "execution_count": 0,
   "metadata": {
    "collapsed": false
   },
   "outputs": [
   ],
   "source": [
   ]
  },
  {
   "cell_type": "code",
   "execution_count": 0,
   "metadata": {
    "collapsed": false
   },
   "outputs": [
   ],
   "source": [
   ]
  },
  {
   "cell_type": "code",
   "execution_count": 0,
   "metadata": {
    "collapsed": false
   },
   "outputs": [
   ],
   "source": [
   ]
  },
  {
   "cell_type": "code",
   "execution_count": 0,
   "metadata": {
    "collapsed": false
   },
   "outputs": [
   ],
   "source": [
   ]
  },
  {
   "cell_type": "markdown",
   "metadata": {
    "collapsed": false
   },
   "source": [
    "**Exercise 8.5.** A Caesar cypher is a weak form of encryption that involves “rotating” each letter by a ﬁxed number of places. To rotate a letter means to shift it through the alphabet, wrapping around to the beginning if necessary, so ’A’ rotated by 3 is ’D’ and ’Z’ rotated by 1 is ’A’.\n",
    "\n",
    "To rotate a word, rotate each letter by the same amount. For example, “cheer” rotated by 7 is “jolly” and “melon” rotated by -10 is “cubed”. In the movie *2001: A Space Odyssey*, the ship computer is called HAL, which is IBM rotated by -1.\n",
    "\n",
    "Write a function called `rotate_word` that takes a string and an integer as parameters, and returns a new string that contains the letters from the original string rotated by the given amount.\n",
    "\n",
    "You might want to use the built-in function `ord`, which converts a character to a numeric code, and `chr`, which converts numeric codes to characters. Letters of the alphabet are encoded in alphabetical order, so for example:\n",
    "\n",
    "    >>> ord('c') - ord('a')\n",
    "    2\n",
    "\n",
    "Because `'c'` is the two-eth letter of the alphabet. But beware: the numeric codes for upper case letters are different.\n"
   ]
  },
  {
   "cell_type": "code",
   "execution_count": 0,
   "metadata": {
    "collapsed": false
   },
   "outputs": [
   ],
   "source": [
   ]
  },
  {
   "cell_type": "code",
   "execution_count": 0,
   "metadata": {
    "collapsed": false
   },
   "outputs": [
   ],
   "source": [
   ]
  }
 ],
 "metadata": {
  "kernelspec": {
   "display_name": "Python 3 (Anaconda)",
   "language": "python",
   "name": "anaconda3"
  },
  "language_info": {
   "codemirror_mode": {
    "name": "ipython",
    "version": 3
   },
   "file_extension": ".py",
   "mimetype": "text/x-python",
   "name": "python",
   "nbconvert_exporter": "python",
   "pygments_lexer": "ipython3",
   "version": "3.5.5"
  }
 },
 "nbformat": 4,
 "nbformat_minor": 0
}