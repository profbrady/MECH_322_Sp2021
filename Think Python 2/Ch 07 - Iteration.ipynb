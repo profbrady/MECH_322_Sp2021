{
 "cells": [
  {
   "cell_type": "markdown",
   "metadata": {
    "collapsed": false
   },
   "source": [
    "#### The material in this document is copied from or based on the the book...\n",
    "\n",
    "# Think Python\n",
    "## How to Think Like a Computer Scientist\n",
    "Second edition, Version 2.2.20\n",
    "\n",
    "##### Allen Downey\n",
    "\n",
    "##### Green Tea Press\n",
    "\n",
    "Needham, Massachusetts\n",
    "\n",
    "\n",
    "\n",
    "\n"
   ]
  },
  {
   "cell_type": "markdown",
   "metadata": {
    "collapsed": false
   },
   "source": [
    "Copyright © 2015 Allen Downey.\n",
    "\n",
    "Green Tea Press 9 Washburn Ave Needham MA 02492\n",
    "\n",
    "Permission is granted to copy, distribute, and/or modify this document under the terms of the Creative Commons Attribution-NonCommercial 3.0 Unported License, which is available at http://creativecommons.org/licenses/by-nc/3.0/.\n",
    "\n",
    "The original form of this book is $\\LaTeX$ source code. Compiling this $\\LaTeX$ source has the effect of generating a device-independent representation of a textbook, which can be converted to other formats and printed.\n",
    "\n",
    "The $\\LaTeX$ source for this book is available from http://www.thinkpython2.com"
   ]
  },
  {
   "cell_type": "markdown",
   "metadata": {
    "collapsed": false
   },
   "source": [
    "# Chapter 7: Iteration\n",
    "\n",
    "This chapter is about iteration, which is the ability to run a block of statements repeatedly. We saw a kind of iteration, using recursion, in Section 5.8. We saw another kind, using a `for` loop, in Section 4.2. In this chapter we’ll see yet another kind, using a `while` statement. But ﬁrst I want to say a little more about variable assignment.\n",
    "\n",
    "## 7.1 Reassignment\n",
    "\n",
    "As you may have discovered, it is legal to make more than one assignment to the same variable. A new assignment makes an existing variable refer to a new value (and stop referring to the old value).\n",
    "\n",
    "    >>> x = 5\n",
    "    >>> x\n",
    "    5\n",
    "    >>> x = 7\n",
    "    >>> x\n",
    "    7\n",
    "\n",
    "The ﬁrst time we display `x`, its value is 5; the second time, its value is 7.\n",
    "\n",
    "Figure 7.1 shows what **reassignment** looks like in a state diagram.\n",
    "\n",
    "At this point I want to address a common source of confusion. Because Python uses the equal sign (`=`) for assignment, it is tempting to interpret a statement like `a = b` as a mathematical proposition of equality; that is, the claim that `a` and `b` are equal. But this interpretation is wrong.\n",
    "\n",
    "First, equality is a symmetric relationship and assignment is not. For example, in mathematics, if `a = 7` then `7 = a`. But in Python, the statement `a = 7` is legal and `7 = a` is not.\n",
    "\n",
    "Also, in mathematics, a proposition of equality is either true or false for all time. If `a = b` now, then a will always equal `b`. In Python, an assignment statement can make two variables equal, but they don’t have to stay that way:\n",
    "\n",
    "    >>> a = 5\n",
    "    >>> b = a     # a and b are now equal\n",
    "    >>> a = 3     # a and b are no longer equal\n",
    "    >>> b\n",
    "    5\n",
    "\n",
    "The third line changes the value of `a` but does not change the value of `b`, so they are no longer equal.\n",
    "\n",
    "Reassigning variables is often useful, but you should use it with caution. If the values of variables change frequently, it can make the code difﬁcult to read and debug."
   ]
  },
  {
   "cell_type": "markdown",
   "metadata": {
    "collapsed": false
   },
   "source": [
    "![assign2.png](assign2.png)\n",
    "\n",
    "Figure 7.1: State diagram"
   ]
  },
  {
   "cell_type": "markdown",
   "metadata": {
    "collapsed": false
   },
   "source": [
    "*Try some of your own variable reassignments in the following code cell.*"
   ]
  },
  {
   "cell_type": "code",
   "execution_count": 0,
   "metadata": {
    "collapsed": false
   },
   "outputs": [
   ],
   "source": [
   ]
  },
  {
   "cell_type": "markdown",
   "metadata": {
    "collapsed": false
   },
   "source": [
    "## 7.2 Updating variables\n",
    "\n",
    "A common kind of reassignment is an **update**, where the new value of the variable depends on the old.\n",
    "\n",
    "    >>> x = x + 1\n",
    "\n",
    "This means “get the current value of `x`, add one, and then update `x` with the new value.”\n",
    "\n",
    "If you try to update a variable that doesn’t exist, you get an error, because Python evaluates the right side before it assigns a value to `x`:\n",
    "\n",
    "    >>> x = x + 1\n",
    "    NameError: name 'x' is not defined\n",
    "\n",
    "Before you can update a variable, you have to **initialize** it, usually with a simple assignment:\n",
    "\n",
    "    >>> x = 0\n",
    "    >>> x = x + 1\n",
    "\n",
    "Updating a variable by adding 1 is called an **increment**; subtracting 1 is called a **decrement**."
   ]
  },
  {
   "cell_type": "markdown",
   "metadata": {
    "collapsed": false
   },
   "source": [
    "## 7.3 The `while` statement\n",
    "\n",
    "Computers are often used to automate repetitive tasks. Repeating identical or similar tasks without making errors is something that computers do well and people do poorly. In a computer program, repetition is also called **iteration**.\n",
    "\n",
    "We have already seen two functions, `countdown` and `print_n`, that iterate using recursion. Because iteration is so common, Python provides language features to make it easier. One is the `for` statement we saw in Section 4.2. We’ll get back to that later.\n",
    "\n",
    "Another is the `while` statement. Here is a version of `countdown` that uses a `while` statement:\n",
    "\n",
    "    def countdown(n):\n",
    "        while n > 0:\n",
    "            print(n)\n",
    "            n = n - 1\n",
    "        print('Blastoff!')\n",
    "\n",
    "You can almost read the `while` statement as if it were English. It means, “While `n` is greater than 0, display the value of `n` and then decrement `n`. When you get to 0, display the word Blastoff!”\n",
    "\n",
    "More formally, here is the ﬂow of execution for a while statement:\n",
    "\n",
    "1. Determine whether the condition is true or false.\n",
    "\n",
    "2. If false, exit the while statement and continue execution at the next statement.\n",
    "\n",
    "3. If the condition is true, run the body and then go back to step 1.\n",
    "\n",
    "This type of ﬂow is called a loop because the third step loops back around to the top.\n",
    "\n",
    "The body of the loop should change the value of one or more variables so that the condition becomes false eventually and the loop terminates. Otherwise the loop will repeat forever, which is called an **inﬁnite loop**. An endless source of amusement for computer scientists is the observation that the directions on shampoo, “Lather, rinse, repeat”, are an inﬁnite loop.\n",
    "\n",
    "In the case of `countdown`, we can prove that the loop terminates: if `n` is zero or negative, the loop never runs. Otherwise, `n` gets smaller each time through the loop, so eventually we have to get to 0.\n",
    "\n",
    "For some other loops, it is not so easy to tell. For example: \n",
    "\n",
    "    def sequence(n):\n",
    "        while n != 1:\n",
    "            print(n)\n",
    "            if n % 2 == 0: # n is even\n",
    "                n = n / 2\n",
    "            else: # n is odd\n",
    "                n = n*3 + 1\n",
    "            \n",
    "The condition for this loop is `n != 1`, so the loop will continue until `n` is 1, which makes the condition false.\n",
    "\n",
    "Each time through the loop, the program outputs the value of `n` and then checks whether it is even or odd. If it is even, `n` is divided by 2. If it is odd, the value of `n` is replaced with `n*3 + 1`. For example, if the argument passed to sequence is 3, the resulting values of `n` are 3, 10, 5, 16, 8, 4, 2, 1.\n",
    "\n",
    "Since `n` sometimes increases and sometimes decreases, there is no obvious proof that `n` will ever reach 1, or that the program terminates. For some particular values of `n`, we can prove termination. For example, if the starting value is a power of two, `n` will be even every time through the loop until it reaches 1. The previous example ends with such a sequence, starting with 16.\n",
    "\n",
    "The hard question is whether we can prove that this program terminates for all positive values of `n`. So far, no one has been able to prove it or disprove it! (See http://en.wikipedia.org/wiki/Collatz_conjecture.)\n",
    "\n",
    "As an exercise, rewrite the function `print_n` from Section 5.8 using iteration instead of recursion."
   ]
  },
  {
   "cell_type": "code",
   "execution_count": 0,
   "metadata": {
    "collapsed": false
   },
   "outputs": [
   ],
   "source": [
   ]
  },
  {
   "cell_type": "markdown",
   "metadata": {
    "collapsed": false
   },
   "source": [
    "## 7.4 `break`\n",
    "\n",
    "Sometimes you don’t know it’s time to end a loop until you get half way through the body. In that case you can use the `break` statement to jump out of the loop.\n",
    "\n",
    "For example, suppose you want to take input from the user until they type `done`. You could write:\n",
    "\n",
    "    while True:\n",
    "        line = input('> ')\n",
    "        if line == 'done':\n",
    "            break\n",
    "        print(line)\n",
    "\n",
    "    print('Done!')\n",
    "\n",
    "The loop condition is `True`, which is always true, so the loop runs until it hits the break statement.\n",
    "\n",
    "Each time through, it prompts the user with an angle bracket. If the user types `done`, the `break` statement exits the loop. Otherwise the program echoes whatever the user types and goes back to the top of the loop. Here’s a sample run:\n",
    "\n",
    "    > not done\n",
    "    not done\n",
    "    > done\n",
    "    Done!\n",
    "\n",
    "This way of writing `while` loops is common because you can check the condition anywhere in the loop (not just at the top) and you can express the stop condition afﬁrmatively (“stop when this happens”) rather than negatively (“keep going until that happens”)."
   ]
  },
  {
   "cell_type": "markdown",
   "metadata": {
    "collapsed": false
   },
   "source": [
    "## 7.5 Square roots\n",
    "\n",
    "Loops are often used in programs that compute numerical results by starting with an approximate answer and iteratively improving it.\n",
    "\n",
    "For example, one way of computing square roots is Newton’s method. Suppose that you want to know the square root of $a$. If you start with almost any estimate, $x$, you can compute a better estimate with the following formula:\n",
    "\n",
    "\n",
    "$$ y = \\frac{x+a/x}{2}$$\n",
    "\n",
    "\n",
    "For example, if $a$ is 4 and $x$ is 3:\n",
    "\n",
    "    >>> a = 4\n",
    "    >>> x = 3\n",
    "    >>> y = (x + a/x) / 2\n",
    "    >>> y\n",
    "    2.16666666667\n",
    "\n",
    "The result is closer to the correct answer ($\\sqrt{4}=2$). If we repeat the process with the new estimate, it gets even closer:\n",
    "\n",
    "    >>> x = y\n",
    "    >>> y = (x + a/x) / 2\n",
    "    >>> y\n",
    "    2.00641025641\n",
    "\n",
    "After a few more updates, the estimate is almost exact:\n",
    "\n",
    "    >>> x = y\n",
    "    >>> y = (x + a/x) / 2\n",
    "    >>> y\n",
    "    2.00001024003\n",
    "    >>> x = y\n",
    "    >>> y = (x + a/x) / 2\n",
    "    >>> y\n",
    "    2.00000000003\n",
    "\n",
    "In general we don’t know ahead of time how many steps it takes to get to the right answer, but we know when we get there because the estimate stops changing:\n",
    "\n",
    "    >>> x = y\n",
    "    >>> y = (x + a/x) / 2\n",
    "    >>> y\n",
    "    2.0\n",
    "    >>> x = y\n",
    "    >>> y = (x + a/x) / 2\n",
    "    >>> y\n",
    "    2.0\n",
    "\n",
    "When `y == x`, we can stop. Here is a loop that starts with an initial estimate, x, and improves it until it stops changing:\n",
    "\n",
    "    while True:\n",
    "        print(x)\n",
    "        y = (x + a/x) / 2\n",
    "        if y == x:\n",
    "            break\n",
    "        x = y\n",
    "\n",
    "For most values of a this works ﬁne, but in general it is dangerous to test float equality. Floating-point values are only approximately right: most rational numbers, like $1/3$, and irrational numbers, like $\\sqrt{2}$, can’t be represented exactly with a float.\n",
    "\n",
    "Rather than checking whether `x` and `y` are exactly equal, it is safer to use the built-in function `abs` to compute the absolute value, or magnitude, of the difference between them:\n",
    "\n",
    "    if abs(y-x) < epsilon:\n",
    "        break\n",
    "\n",
    "Where `epsilon` has a value like `0.0000001` that determines how close is close enough."
   ]
  },
  {
   "cell_type": "code",
   "execution_count": 0,
   "metadata": {
    "collapsed": false
   },
   "outputs": [
   ],
   "source": [
   ]
  },
  {
   "cell_type": "markdown",
   "metadata": {
    "collapsed": false
   },
   "source": [
    "## 7.6 Algorithms\n",
    "\n",
    "Newton’s method is an example of an **algorithm**: it is a mechanical process for solving a category of problems (in this case, computing square roots).\n",
    "\n",
    "To understand what an algorithm is, it might help to start with something that is not an algorithm. When you learned to multiply single-digit numbers, you probably memorized the multiplication table. In effect, you memorized 100 speciﬁc solutions. That kind of knowledge is not algorithmic.\n",
    "\n",
    "But if you were “lazy”, you might have learned a few tricks. For example, to ﬁnd the product of $n$ and $9$, you can write $n − 1$ as the ﬁrst digit and $10 − n$ as the second digit. This trick is a general solution for multiplying any single-digit number by $9$. That’s an algorithm!\n",
    "\n",
    "Similarly, the techniques you learned for addition with carrying, subtraction with borrowing, and long division are all algorithms. One of the characteristics of algorithms is that they do not require any intelligence to carry out. They are mechanical processes where each step follows from the last according to a simple set of rules.\n",
    "\n",
    "Executing algorithms is boring, but designing them is interesting, intellectually challenging, and a central part of computer science.\n",
    "\n",
    "Some of the things that people do naturally, without difﬁculty or conscious thought, are the hardest to express algorithmically. Understanding natural language is a good example. We all do it, but so far no one has been able to explain *how* we do it, at least not in the form of an algorithm."
   ]
  },
  {
   "cell_type": "markdown",
   "metadata": {
    "collapsed": false
   },
   "source": [
    "## 7.7 Debugging\n",
    "\n",
    "As you start writing bigger programs, you might ﬁnd yourself spending more time debugging. More code means more chances to make an error and more places for bugs to hide.\n",
    "\n",
    "One way to cut your debugging time is “debugging by bisection”. For example, if there are 100 lines in your program and you check them one at a time, it would take 100 steps.\n",
    "\n",
    "Instead, try to break the problem in half. Look at the middle of the program, or near it, for an intermediate value you can check. Add a `print` statement (or something else that has a veriﬁable effect) and run the program.\n",
    "\n",
    "If the mid-point check is incorrect, there must be a problem in the ﬁrst half of the program. If it is correct, the problem is in the second half.\n",
    "\n",
    "Every time you perform a check like this, you halve the number of lines you have to search. After six steps (which is fewer than 100), you would be down to one or two lines of code, at least in theory.\n",
    "\n",
    "In practice it is not always clear what the “middle of the program” is and not always possible to check it. It doesn’t make sense to count lines and ﬁnd the exact midpoint. Instead, think about places in the program where there might be errors and places where it is easy to put a check. Then choose a spot where you think the chances are about the same that the bug is before or after the check."
   ]
  },
  {
   "cell_type": "markdown",
   "metadata": {
    "collapsed": false
   },
   "source": [
    "## 7.8 Glossary\n",
    "\n",
    "**reassignment:** Assigning a new value to a variable that already exists.\n",
    "\n",
    "**update:** An assignment where the new value of the variable depends on the old. \n",
    "\n",
    "**initialization:** An assignment that gives an initial value to a variable that will be updated.\n",
    "\n",
    "**increment:** An update that increases the value of a variable (often by one).\n",
    "\n",
    "**decrement:** An update that decreases the value of a variable.\n",
    "\n",
    "**iteration:** Repeated execution of a set of statements using either a recursive function call or a loop.\n",
    "\n",
    "**inﬁnite loop:** A loop in which the terminating condition is never satisﬁed.\n",
    "\n",
    "**algorithm:** A general process for solving a category of problems."
   ]
  },
  {
   "cell_type": "markdown",
   "metadata": {
    "collapsed": false
   },
   "source": [
    "## 7.9 Exercises\n",
    "\n",
    "**Exercise 7.1.** Copy the loop from Section 7.5 and encapsulate it in a function called `mysqrt` that takes `a` as a parameter, chooses a reasonable value of `x`, and returns an estimate of the square root of `a`.\n",
    "\n",
    "To test it, write a function named `test_square_root` that prints a table like this:\n",
    "\n",
    "     a   mysqrt(a)      math.sqrt(a)   diff\n",
    "     -   ---------      ------------   ----\n",
    "    1.0  1.0            1.0            0.0\n",
    "    2.0  1.41421356237  1.41421356237  2.22044604925e-16\n",
    "    3.0  1.73205080757  1.73205080757  0.0\n",
    "    4.0  2.0            2.0            0.0\n",
    "    5.0  2.2360679775   2.2360679775   0.0\n",
    "    6.0  2.44948974278  2.44948974278  0.0\n",
    "    7.0  2.64575131106  2.64575131106  0.0\n",
    "    8.0  2.82842712475  2.82842712475  4.4408920985e-16\n",
    "    9.0  3.0            3.0            0.0\n",
    "\n",
    "The ﬁrst column is a number, `a`; the second column is the square root of `a` computed with `mysqrt`; the third column is the square root computed by `math.sqrt`; the fourth column is the absolute value of the difference between the two estimates."
   ]
  },
  {
   "cell_type": "code",
   "execution_count": 0,
   "metadata": {
    "collapsed": false
   },
   "outputs": [
   ],
   "source": [
   ]
  },
  {
   "cell_type": "code",
   "execution_count": 0,
   "metadata": {
    "collapsed": false
   },
   "outputs": [
   ],
   "source": [
   ]
  },
  {
   "cell_type": "markdown",
   "metadata": {
    "collapsed": false
   },
   "source": [
    "**Exercise 7.2.** The built-in function `eval` takes a string and evaluates it using the Python interpreter. For example:\n",
    "\n",
    "    >>> eval('1 + 2 * 3')\n",
    "    7\n",
    "    >>> import math\n",
    "    >>> eval('math.sqrt(5)')\n",
    "    2.2360679774997898\n",
    "    >>> eval('type(math.pi)')\n",
    "    <class 'float'>\n",
    "\n",
    "Write a function called `eval_loop` that iteratively prompts the user, takes the resulting input and evaluates it using `eval`, and prints the result.\n",
    "\n",
    "It should continue until the user enters `'done'`, and then return the value of the last expression it evaluated."
   ]
  },
  {
   "cell_type": "code",
   "execution_count": 0,
   "metadata": {
    "collapsed": false
   },
   "outputs": [
   ],
   "source": [
   ]
  },
  {
   "cell_type": "code",
   "execution_count": 0,
   "metadata": {
    "collapsed": false
   },
   "outputs": [
   ],
   "source": [
   ]
  },
  {
   "cell_type": "markdown",
   "metadata": {
    "collapsed": false
   },
   "source": [
    "**Exercise 7.3.** The mathematician Srinivasa Ramanujan found an inﬁnite series that can be used to generate a numerical approximation of $1/\\pi$:\n",
    "\n",
    "$$\\frac{1}{\\pi} = \\frac{2\\sqrt{2}}{9801}\\sum_{k=0}^{\\infty}{\\frac{(4k)!(1103 + 26390k)}{(k!)^4 396^{4k}}} $$\n",
    "\n",
    "Write a function called `estimate_pi` that uses this formula to compute and return an estimate of $\\pi$. It should use a `while` loop to compute terms of the summation until the last term is smaller than `1e-15` (which is Python notation for $10^ {−15}$ ). You can check the result by comparing it to `math.pi`.\n",
    "\n",
    "Solution: http://thinkpython2.com/code/pi.py."
   ]
  },
  {
   "cell_type": "code",
   "execution_count": 0,
   "metadata": {
    "collapsed": false
   },
   "outputs": [
   ],
   "source": [
   ]
  },
  {
   "cell_type": "code",
   "execution_count": 0,
   "metadata": {
    "collapsed": false
   },
   "outputs": [
   ],
   "source": [
   ]
  }
 ],
 "metadata": {
  "kernelspec": {
   "display_name": "Python 3 (old Anaconda 3)",
   "language": "python",
   "name": "anaconda3"
  },
  "language_info": {
   "codemirror_mode": {
    "name": "ipython",
    "version": 3
   },
   "file_extension": ".py",
   "mimetype": "text/x-python",
   "name": "python",
   "nbconvert_exporter": "python",
   "pygments_lexer": "ipython3",
   "version": "3.5.5"
  }
 },
 "nbformat": 4,
 "nbformat_minor": 0
}