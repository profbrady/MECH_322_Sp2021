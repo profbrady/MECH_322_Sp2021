{
 "cells": [
  {
   "cell_type": "markdown",
   "metadata": {
    "collapsed": false
   },
   "source": [
    "#### The material in this document is copied from or based on the the book...\n",
    "\n",
    "# Think Python\n",
    "## How to Think Like a Computer Scientist\n",
    "Second edition, Version 2.2.20\n",
    "\n",
    "##### Allen Downey\n",
    "\n",
    "##### Green Tea Press\n",
    "\n",
    "Needham, Massachusetts\n",
    "\n",
    "\n",
    "\n",
    "\n"
   ]
  },
  {
   "cell_type": "markdown",
   "metadata": {
    "collapsed": false
   },
   "source": [
    "Copyright © 2015 Allen Downey.\n",
    "\n",
    "Green Tea Press 9 Washburn Ave Needham MA 02492\n",
    "\n",
    "Permission is granted to copy, distribute, and/or modify this document under the terms of the Creative Commons Attribution-NonCommercial 3.0 Unported License, which is available at http://creativecommons.org/licenses/by-nc/3.0/.\n",
    "\n",
    "The original form of this book is $\\LaTeX$ source code. Compiling this $\\LaTeX$ source has the effect of generating a device-independent representation of a textbook, which can be converted to other formats and printed.\n",
    "\n",
    "The $\\LaTeX$ source for this book is available from http://www.thinkpython2.com"
   ]
  },
  {
   "cell_type": "markdown",
   "metadata": {
    "collapsed": false
   },
   "source": [
    "# Chapter 9: Case study: word play\n",
    "\n",
    "This chapter presents the second case study, which involves solving word puzzles by searching for words that have certain properties. For example, we’ll ﬁnd the longest palindromes in English and search for words whose letters appear in alphabetical order. And I will present another program development plan: reduction to a previously solved problem.\n"
   ]
  },
  {
   "cell_type": "markdown",
   "metadata": {
    "collapsed": false
   },
   "source": [
    "## 9.1 Reading word lists\n",
    "\n",
    "For the exercises in this chapter we need a list of English words. There are lots of word lists available on the Web, but the one most suitable for our purpose is one of the word lists collected and contributed to the public domain by Grady Ward as part of the Moby lexicon project (see http://wikipedia.org/wiki/Moby_Project). It is a list of 113,809 ofﬁcial crosswords; that is, words that are considered valid in crossword puzzles and other word games. In the Moby collection, the ﬁlename is `113809of.fic`; you can download a copy, with the simpler name `words.txt`, from http://thinkpython2.com/code/words.txt.\n",
    "\n",
    "This ﬁle is in plain text, so you can open it with a text editor, but you can also read it from Python. The built-in function `open` takes the name of the ﬁle as a parameter and returns a **file object** you can use to read the ﬁle.\n",
    "\n",
    "    >>> fin = open('words.txt')\n",
    "\n",
    "`fin` is a common name for a ﬁle object used for input. The ﬁle object provides several methods for reading, including `readline`, which reads characters from the ﬁle until it gets to a newline and returns the result as a string:\n",
    "\n",
    "    >>> fin.readline()\n",
    "    'aa\\r\\n'\n",
    "\n",
    "The ﬁrst word in this particular list is “aa”, which is a kind of lava. The sequence `\\r\\n` represents two whitespace characters, a carriage return and a newline, that separate this word from the next.\n",
    "\n",
    "The ﬁle object keeps track of where it is in the ﬁle, so if you call readline again, you get the next word:\n",
    "\n",
    "    >>> fin.readline()\n",
    "    'aah\\r\\n'\n",
    "\n",
    "The next word is “aah”, which is a perfectly legitimate word, so stop looking at me like that. Or, if it’s the whitespace that’s bothering you, we can get rid of it with the string method `strip`:\n",
    "\n",
    "    >>> line = fin.readline()\n",
    "    >>> word = line.strip()\n",
    "    >>> word\n",
    "    'aahed'\n",
    "\n",
    "You can also use a file object as part of a for `loop`. This program reads `words.txt` and prints each word, one per line:\n",
    "\n",
    "    fin = open('words.txt')\n",
    "    for line in fin:\n",
    "        word = line.strip()\n",
    "        print(word)"
   ]
  },
  {
   "cell_type": "markdown",
   "metadata": {
    "collapsed": false
   },
   "source": [
    "## 9.2 Exercises\n",
    "\n",
    "There are solutions to these exercises in the next section. You should at least attempt each one before you read the solutions.\n",
    "\n",
    "**Exercise 9.1.** Write a program that reads `words.txt` and prints only the words with more than 20 characters (not counting whitespace)."
   ]
  },
  {
   "cell_type": "code",
   "execution_count": 0,
   "metadata": {
    "collapsed": false
   },
   "outputs": [
   ],
   "source": [
   ]
  },
  {
   "cell_type": "code",
   "execution_count": 0,
   "metadata": {
    "collapsed": false
   },
   "outputs": [
   ],
   "source": [
   ]
  },
  {
   "cell_type": "markdown",
   "metadata": {
    "collapsed": false
   },
   "source": [
    "**Exercise 9.2.** In 1939 Ernest Vincent Wright published a 50,000 word novel called *Gadsby* that does not contain the letter “e”. Since “e” is the most common letter in English, that’s not easy to do.\n",
    "\n",
    "In fact, it is difﬁcult to construct a solitary thought without using that most common symbol. It is slow going at ﬁrst, but with caution and hours of training you can gradually gain facility.\n",
    "\n",
    "All right, I’ll stop now.\n",
    "\n",
    "Write a function called `has_no_e` that returns `True` if the given word doesn’t have the letter “e” in it.\n",
    "\n",
    "Modify your program from the previous section to print only the words that have no “e” and compute the percentage of the words in the list that have no “e”."
   ]
  },
  {
   "cell_type": "code",
   "execution_count": 0,
   "metadata": {
    "collapsed": false
   },
   "outputs": [
   ],
   "source": [
   ]
  },
  {
   "cell_type": "code",
   "execution_count": 0,
   "metadata": {
    "collapsed": false
   },
   "outputs": [
   ],
   "source": [
   ]
  },
  {
   "cell_type": "markdown",
   "metadata": {
    "collapsed": false
   },
   "source": [
    "**Exercise 9.3.** Write a function named `avoids` that takes a word and a string of forbidden letters, and that returns `True` if the word doesn’t use any of the forbidden letters.\n",
    "\n",
    "Modify your program to prompt the user to enter a string of forbidden letters and then print the number of words that don’t contain any of them. Can you ﬁnd a combination of 5 forbidden letters that excludes the smallest number of words?"
   ]
  },
  {
   "cell_type": "code",
   "execution_count": 0,
   "metadata": {
    "collapsed": false
   },
   "outputs": [
   ],
   "source": [
   ]
  },
  {
   "cell_type": "code",
   "execution_count": 0,
   "metadata": {
    "collapsed": false
   },
   "outputs": [
   ],
   "source": [
   ]
  },
  {
   "cell_type": "markdown",
   "metadata": {
    "collapsed": false
   },
   "source": [
    "**Exercise 9.4.** Write a function named `uses_only` that takes a word and a string of letters, and that returns `True` if the word contains only letters in the list. Can you make a sentence using only the letters `acefhlo`? Other than “Hoe alfalfa?”"
   ]
  },
  {
   "cell_type": "code",
   "execution_count": 0,
   "metadata": {
    "collapsed": false
   },
   "outputs": [
   ],
   "source": [
   ]
  },
  {
   "cell_type": "code",
   "execution_count": 0,
   "metadata": {
    "collapsed": false
   },
   "outputs": [
   ],
   "source": [
   ]
  },
  {
   "cell_type": "markdown",
   "metadata": {
    "collapsed": false
   },
   "source": [
    "**Exercise 9.5.** Write a function named `uses_all` that takes a word and a string of required letters, and that returns `True` if the word uses all the required letters at least once. How many words are there that use all the vowels aeiou? How about `aeiouy`?"
   ]
  },
  {
   "cell_type": "code",
   "execution_count": 0,
   "metadata": {
    "collapsed": false
   },
   "outputs": [
   ],
   "source": [
   ]
  },
  {
   "cell_type": "code",
   "execution_count": 0,
   "metadata": {
    "collapsed": false
   },
   "outputs": [
   ],
   "source": [
   ]
  },
  {
   "cell_type": "markdown",
   "metadata": {
    "collapsed": false
   },
   "source": [
    "**Exercise 9.6.** Write a function called `is_abecedarian` that returns `True` if the letters in a word appear in alphabetical order (double letters are ok). How many abecedarian words are there?"
   ]
  },
  {
   "cell_type": "code",
   "execution_count": 0,
   "metadata": {
    "collapsed": false
   },
   "outputs": [
   ],
   "source": [
   ]
  },
  {
   "cell_type": "code",
   "execution_count": 0,
   "metadata": {
    "collapsed": false
   },
   "outputs": [
   ],
   "source": [
   ]
  },
  {
   "cell_type": "markdown",
   "metadata": {
    "collapsed": false
   },
   "source": [
    "## 9.3 Search\n",
    "\n",
    "All of the exercises in the previous section have something in common; they can be solved with the search pattern we saw in Section 8.6. The simplest example is:\n",
    "\n",
    "    def has_no_e(word):\n",
    "        for letter in word:\n",
    "            if letter == 'e':\n",
    "                return False\n",
    "        return True\n",
    "\n",
    "The `for` loop traverses the characters in `word`. If we ﬁnd the letter “e”, we can immediately return `False`; otherwise we have to go to the next letter. If we exit the loop normally, that means we didn’t ﬁnd an “e”, so we return `True`.\n",
    "\n",
    "You could write this function more concisely using the in operator, but I started with this version because it demonstrates the logic of the search pattern.\n",
    "\n",
    "`avoids` is a more general version of `has_no_e` but it has the same structure:\n",
    "\n",
    "    def avoids(word, forbidden):\n",
    "        for letter in word:\n",
    "            if letter in forbidden:\n",
    "                return False\n",
    "        return True\n",
    "\n",
    "We can return `False` as soon as we ﬁnd a forbidden letter; if we get to the end of the loop, we return `True`.\n",
    "\n",
    "`uses_only` is similar except that the sense of the condition is reversed:\n",
    "\n",
    "    def uses_only(word, available):\n",
    "        for letter in word:\n",
    "            if letter not in available:\n",
    "                return False\n",
    "        return True\n",
    "\n",
    "Instead of a list of forbidden letters, we have a list of available letters. If we ﬁnd a letter in word that is not in `available`, we can return `False`.\n",
    "\n",
    "`uses_all` is similar except that we reverse the role of the word and the string of letters:\n",
    "\n",
    "    def uses_all(word, required):\n",
    "        for letter in required:\n",
    "            if letter not in word:\n",
    "                return False\n",
    "        return True\n",
    "\n",
    "Instead of traversing the letters in `word`, the loop traverses the required letters. If any of the required letters do not appear in the word, we can return `False`.\n",
    "\n",
    "If you were really thinking like a computer scientist, you would have recognized that `uses_all` was an instance of a previously solved problem, and you would have written:\n",
    "\n",
    "    def uses_all(word, required):\n",
    "        return uses_only(required, word)\n",
    "\n",
    "This is an example of a program development plan called **reduction to a previously solved problem**, which means that you recognize the problem you are working on as an instance of a solved problem and apply an existing solution."
   ]
  },
  {
   "cell_type": "markdown",
   "metadata": {
    "collapsed": false
   },
   "source": [
    "## 9.4 Looping with indices\n",
    "\n",
    "I wrote the functions in the previous section with for loops because I only needed the characters in the strings; I didn’t have to do anything with the indices.\n",
    "\n",
    "For `is_abecedarian` we have to compare adjacent letters, which is a little tricky with a `for` loop:\n",
    "\n",
    "    def is_abecedarian(word):\n",
    "        previous = word[0]\n",
    "        for c in word:\n",
    "            if c < previous:\n",
    "                return False\n",
    "            previous = c\n",
    "        return True\n",
    "\n",
    "An alternative is to use recursion:\n",
    "\n",
    "    def is_abecedarian(word):\n",
    "        if len(word) <= 1:\n",
    "            return True\n",
    "        if word[0] > word[1]:\n",
    "            return False\n",
    "        return is_abecedarian(word[1:])\n",
    "\n",
    "Another option is to use a `while` loop:\n",
    "\n",
    "    def is_abecedarian(word):\n",
    "        i = 0\n",
    "        while i < len(word)-1:\n",
    "            if word[i+1] < word[i]:\n",
    "                return False\n",
    "            i = i+1\n",
    "        return True\n",
    "\n",
    "The loop starts at `i=0` and ends when `i=len(word)-1`. Each time through the loop, it compares the $i$th character (which you can think of as the current character) to the $i$ + 1th character (which you can think of as the next).\n",
    "\n",
    "If the next character is less than (alphabetically before) the current one, then we have discovered a break in the abecedarian trend, and we return `False`.\n",
    "\n",
    "If we get to the end of the loop without ﬁnding a fault, then the word passes the test. To convince yourself that the loop ends correctly, consider an example like `'flossy'`. The length of the word is 6, so the last time the loop runs is when i is 4, which is the index of the second-to-last character. On the last iteration, it compares the second-to-last character to the last, which is what we want.\n",
    "\n",
    "Here is a version of `is_palindrome` (see Exercise 6.3) that uses two indices; one starts at the beginning and goes up; the other starts at the end and goes down.\n",
    "\n",
    "    def is_palindrome(word):\n",
    "        i = 0\n",
    "        j = len(word)-1\n",
    "        while i<j:\n",
    "            if word[i] != word[j]:\n",
    "                return False\n",
    "            i = i+1\n",
    "            j = j-1\n",
    "        return True\n",
    "\n",
    "Or we could reduce to a previously solved problem and write:\n",
    "\n",
    "    def is_palindrome(word):\n",
    "        return is_reverse(word, word)\n",
    "\n",
    "Using `is_reverse` from Section 8.11."
   ]
  },
  {
   "cell_type": "markdown",
   "metadata": {
    "collapsed": false
   },
   "source": [
    "## 9.5 Debugging\n",
    "\n",
    "Testing programs is hard. The functions in this chapter are relatively easy to test because you can check the results by hand. Even so, it is somewhere between difﬁcult and impossible to choose a set of words that test for all possible errors.\n",
    "\n",
    "Taking `has_no_e` as an example, there are two obvious cases to check: words that have an ‘e’ should return `False`, and words that don’t should return `True`. You should have no trouble coming up with one of each.\n",
    "\n",
    "Within each case, there are some less obvious subcases. Among the words that have an “e”, you should test words with an “e” at the beginning, the end, and somewhere in the middle. You should test long words, short words, and very short words, like the empty string. The empty string is an example of a **special case**, which is one of the non-obvious cases where errors often lurk.\n",
    "\n",
    "In addition to the test cases you generate, you can also test your program with a word list like `words.txt`. By scanning the output, you might be able to catch errors, but be careful: you might catch one kind of error (words that should not be included, but are) and not another (words that should be included, but aren’t).\n",
    "\n",
    "In general, testing can help you ﬁnd bugs, but it is not easy to generate a good set of test cases, and even if you do, you can’t be sure your program is correct. According to a legendary computer scientist:\n",
    "\n",
    "> Program testing can be used to show the presence of bugs, but never to show their absence!\n",
    ">\n",
    "> -- Edsger W. Dijkstra"
   ]
  },
  {
   "cell_type": "markdown",
   "metadata": {
    "collapsed": false
   },
   "source": [
    "## 9.6 Glossary\n",
    "\n",
    "**file object:** A value that represents an open ﬁle.\n",
    "\n",
    "**reduction to a previously solved problem:** A way of solving a problem by expressing it as an instance of a previously solved problem.\n",
    "\n",
    "**special case:** A test case that is atypical or non-obvious (and less likely to be handled correctly)."
   ]
  },
  {
   "cell_type": "markdown",
   "metadata": {
    "collapsed": false
   },
   "source": [
    "## 9.7 Exercises\n",
    "\n",
    "**Exercise 9.7.** This question is based on a Puzzler that was broadcast on the radio program *Car Talk* (http://www.cartalk.com/content/puzzlers):\n",
    "\n",
    "Give me a word with three consecutive double letters. I’ll give you a couple of words that almost qualify, but don’t. For example, the word committee, c-o-m-m-i-t-t-e-e. It would be great except for the ‘i’ that sneaks in there. Or Mississippi: M-i-s-s-i-s-s-ip-p-i. If you could take out those i’s it would work. But there is a word that has three consecutive pairs of letters and to the best of my knowledge this may be the only word. Of course there are probably 500 more but I can only think of one. What is the word?\n",
    "\n",
    "Write a program to ﬁnd it. Solution: http://thinkpython2.com/code/cartalk1.py."
   ]
  },
  {
   "cell_type": "code",
   "execution_count": 0,
   "metadata": {
    "collapsed": false
   },
   "outputs": [
   ],
   "source": [
   ]
  },
  {
   "cell_type": "markdown",
   "metadata": {
    "collapsed": false
   },
   "source": [
    "**Exercise 9.8.** Here’s another *Car Talk* Puzzler (http://www.cartalk.com/content/puzzlers):\n",
    "\n",
    "“I was driving on the highway the other day and I happened to notice my odometer. Like most odometers, it shows six digits, in whole miles only. So, if my car had 300,000 miles, for example, I’d see 3-0-0-0-0-0.\n",
    "\n",
    "“Now, what I saw that day was very interesting. I noticed that the last 4 digits were palindromic; that is, they read the same forward as backward. For example, 5-4-4-5 is a palindrome, so my odometer could have read 3-1-5-4-4-5.\n",
    "\n",
    "“One mile later, the last 5 numbers were palindromic. For example, it could have read 3-6-5-4-5-6. One mile after that, the middle 4 out of 6 numbers were palindromic. And you ready for this? One mile later, all 6 were palindromic!\n",
    "\n",
    "“The question is, what was on the odometer when I ﬁrst looked?”\n",
    "\n",
    "Write a Python program that tests all the six-digit numbers and prints any numbers that satisfy these requirements. Solution: http://thinkpython2.com/code/cartalk2.py."
   ]
  },
  {
   "cell_type": "code",
   "execution_count": 0,
   "metadata": {
    "collapsed": false
   },
   "outputs": [
   ],
   "source": [
   ]
  },
  {
   "cell_type": "markdown",
   "metadata": {
    "collapsed": false
   },
   "source": [
    "**Exercise 9.9.** Here’s another *Car Talk* Puzzler you can solve with a search (http://www.cartalk.com/content/puzzlers):\n",
    "\n",
    "“Recently I had a visit with my mom and we realized that the two digits that make up my age when reversed resulted in her age. For example, if she’s 73, I’m 37. We wondered how often this has happened over the years but we got sidetracked with other topics and we never came up with an answer.\n",
    "\n",
    "“When I got home I ﬁgured out that the digits of our ages have been reversible six times so far. I also ﬁgured out that if we’re lucky it would happen again in a few years, and if we’re really lucky it would happen one more time after that. In other words, it would have happened 8 times over all. So the question is, how old am I now?”\n",
    "\n",
    "Write a Python program that searches for solutions to this Puzzler. Hint: you might ﬁnd the string method `zfill` useful.\n",
    "\n",
    "Solution: http://thinkpython2.com/code/cartalk3.py."
   ]
  },
  {
   "cell_type": "code",
   "execution_count": 0,
   "metadata": {
    "collapsed": false
   },
   "outputs": [
   ],
   "source": [
   ]
  }
 ],
 "metadata": {
  "kernelspec": {
   "display_name": "Python 3 (Anaconda)",
   "language": "python",
   "name": "anaconda3"
  },
  "language_info": {
   "codemirror_mode": {
    "name": "ipython",
    "version": 3
   },
   "file_extension": ".py",
   "mimetype": "text/x-python",
   "name": "python",
   "nbconvert_exporter": "python",
   "pygments_lexer": "ipython3",
   "version": "3.5.5"
  }
 },
 "nbformat": 4,
 "nbformat_minor": 0
}