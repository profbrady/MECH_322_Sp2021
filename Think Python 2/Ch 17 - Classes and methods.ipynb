{
 "cells": [
  {
   "cell_type": "markdown",
   "metadata": {
    "collapsed": false
   },
   "source": [
    "#### The material in this document is copied from or based on the the book...\n",
    "\n",
    "# Think Python\n",
    "## How to Think Like a Computer Scientist\n",
    "Second edition, Version 2.2.20\n",
    "\n",
    "##### Allen Downey\n",
    "\n",
    "##### Green Tea Press\n",
    "\n",
    "Needham, Massachusetts\n",
    "\n",
    "\n",
    "\n",
    "\n"
   ]
  },
  {
   "cell_type": "markdown",
   "metadata": {
    "collapsed": false
   },
   "source": [
    "Copyright © 2015 Allen Downey.\n",
    "\n",
    "Green Tea Press 9 Washburn Ave Needham MA 02492\n",
    "\n",
    "Permission is granted to copy, distribute, and/or modify this document under the terms of the Creative Commons Attribution-NonCommercial 3.0 Unported License, which is available at http://creativecommons.org/licenses/by-nc/3.0/.\n",
    "\n",
    "The original form of this book is $\\LaTeX$ source code. Compiling this $\\LaTeX$ source has the effect of generating a device-independent representation of a textbook, which can be converted to other formats and printed.\n",
    "\n",
    "The $\\LaTeX$ source for this book is available from http://www.thinkpython2.com"
   ]
  },
  {
   "cell_type": "markdown",
   "metadata": {
    "collapsed": false
   },
   "source": [
    "# Chapter 17: Classes and methods\n",
    "\n",
    "Although we are using some of Python’s object-oriented features, the programs from the last two chapters are not really object-oriented because they don’t represent the relationships between programmer-deﬁned types and the functions that operate on them. The next step is to transform those functions into methods that make the relationships explicit.\n",
    "\n",
    "Code examples from this chapter are available from http://thinkpython2.com/code/Time2.py, and solutions to the exercises are in http://thinkpython2.com/code/Point2_soln.py.\n",
    "\n",
    "## 17.1 Object-oriented features\n",
    "\n",
    "Python is an **object-oriented programming language**, which means that it provides features that support object-oriented programming, which has these deﬁning characteristics:\n",
    "\n",
    "* Programs include class and method deﬁnitions.\n",
    "\n",
    "* Most of the computation is expressed in terms of operations on objects.\n",
    "\n",
    "* Objects often represent things in the real world, and methods often correspond to the ways things in the real world interact.\n",
    "\n",
    "For example, the `Time` class deﬁned in Chapter 16 corresponds to the way people record the time of day, and the functions we deﬁned correspond to the kinds of things people do with times. Similarly, the `Point` and `Rectangle` classes in Chapter 15 correspond to the mathematical concepts of a point and a rectangle.\n",
    "\n",
    "So far, we have not taken advantage of the features Python provides to support object-oriented programming. These features are not strictly necessary; most of them provide alternative syntax for things we have already done. But in many cases, the alternative is more concise and more accurately conveys the structure of the program.\n",
    "\n",
    "For example, in `Time1.py` there is no obvious connection between the class deﬁnition and the function deﬁnitions that follow. With some examination, it is apparent that every function takes at least one `Time` object as an argument.\n",
    "\n",
    "This observation is the motivation for **methods**; a method is a function that is associated with a particular class. We have seen methods for strings, lists, dictionaries and tuples. In this chapter, we will deﬁne methods for programmer-deﬁned types.\n",
    "\n",
    "Methods are semantically the same as functions, but there are two syntactic differences:\n",
    "\n",
    "* Methods are deﬁned inside a class deﬁnition in order to make the relationship between the class and the method explicit.\n",
    "\n",
    "* The syntax for invoking a method is different from the syntax for calling a function.\n",
    "\n",
    "In the next few sections, we will take the functions from the previous two chapters and transform them into methods. This transformation is purely mechanical; you can do it by following a sequence of steps. If you are comfortable converting from one form to another, you will be able to choose the best form for whatever you are doing."
   ]
  },
  {
   "cell_type": "markdown",
   "metadata": {
    "collapsed": false
   },
   "source": [
    "## 17.2 Printing objects\n",
    "\n",
    "In Chapter 16, we deﬁned a class named Time and in Section 16.1, you wrote a function named `print_time`:\n",
    "\n",
    "    class Time:\n",
    "        \"\"\"Represents the time of day.\"\"\"\n",
    "\n",
    "    def print_time(time):\n",
    "        print('%.2d:%.2d:%.2d' % (time.hour, time.minute, time.second))\n",
    "\n",
    "To call this function, you have to pass a Time object as an argument:\n",
    "\n",
    "    >>> start = Time()\n",
    "    >>> start.hour = 9\n",
    "    >>> start.minute = 45\n",
    "    >>> start.second = 00\n",
    "    >>> print_time(start)\n",
    "    09:45:00\n",
    "\n",
    "To make `print_time` a method, all we have to do is move the function deﬁnition inside the class deﬁnition. Notice the change in indentation.\n",
    "\n",
    "    class Time:\n",
    "        def print_time(time):\n",
    "            print('%.2d:%.2d:%.2d' % (time.hour, time.minute, time.second))\n",
    "\n",
    "Now there are two ways to call `print_time`. The ﬁrst (and less common) way is to use function syntax:\n",
    "\n",
    "    >>> Time.print_time(start)\n",
    "    09:45:00\n",
    "\n",
    "In this use of dot notation, `Time` is the name of the class, and `print_time` is the name of the method. `start` is passed as a parameter.\n",
    "\n",
    "The second (and more concise) way is to use method syntax:\n",
    "\n",
    "    >>> start.print_time()\n",
    "    09:45:00\n",
    "\n",
    "In this use of dot notation, `print_time` is the name of the method (again), and `start` is the object the method is invoked on, which is called the **subject**. Just as the subject of a sentence is what the sentence is about, the subject of a method invocation is what the method is about.\n",
    "\n",
    "Inside the method, the subject is assigned to the ﬁrst parameter, so in this case start is assigned to `time`.\n",
    "\n",
    "By convention, the ﬁrst parameter of a method is called `self`, so it would be more common to write `print_time` like this:\n",
    "\n",
    "    class Time:\n",
    "        def print_time(self):\n",
    "            print('%.2d:%.2d:%.2d' % (self.hour, self.minute, self.second))\n",
    "\n",
    "The reason for this convention is an implicit metaphor:\n",
    "\n",
    "* The syntax for a function call, `print_time(start)`, suggests that the function is the active agent. It says something like, “Hey `print_time`! Here’s an object for you to print.”\n",
    "\n",
    "* In object-oriented programming, the objects are the active agents. A method invocation like `start.print_time()` says “Hey `start`! Please print yourself.”\n",
    "\n",
    "This change in perspective might be more polite, but it is not obvious that it is useful. In the examples we have seen so far, it may not be. But sometimes shifting responsibility from the functions onto the objects makes it possible to write more versatile functions (or methods), and makes it easier to maintain and reuse code.\n",
    "\n",
    "As an exercise, rewrite `time_to_int` (from Section 16.4) as a method. You might be tempted to rewrite `int_to_time` as a method, too, but that doesn’t really make sense because there would be no object to invoke it on."
   ]
  },
  {
   "cell_type": "code",
   "execution_count": 0,
   "metadata": {
    "collapsed": false
   },
   "outputs": [
   ],
   "source": [
   ]
  },
  {
   "cell_type": "code",
   "execution_count": 0,
   "metadata": {
    "collapsed": false
   },
   "outputs": [
   ],
   "source": [
   ]
  },
  {
   "cell_type": "markdown",
   "metadata": {
    "collapsed": false
   },
   "source": [
    "## 17.3 Another example\n",
    "\n",
    "Here’s a version of `increment` (from Section 16.3) rewritten as a method:\n",
    "\n",
    "    # inside class Time:\n",
    "\n",
    "        def increment(self, seconds):\n",
    "            seconds += self.time_to_int()\n",
    "            return int_to_time(seconds)\n",
    "\n",
    "This version assumes that `time_to_int` is written as a method. Also, note that it is a pure function, not a modiﬁer.\n",
    "\n",
    "Here’s how you would invoke `increment`:\n",
    "\n",
    "    >>> start.print_time()\n",
    "    09:45:00\n",
    "    >>> end = start.increment(1337)\n",
    "    >>> end.print_time()\n",
    "    10:07:17\n",
    "\n",
    "The subject, `start`, gets assigned to the ﬁrst parameter, `self`. The argument, `1337`, gets assigned to the second parameter, `seconds`.\n",
    "\n",
    "This mechanism can be confusing, especially if you make an error. For example, if you invoke `increment` with two arguments, you get:\n",
    "\n",
    "    >>> end = start.increment(1337, 460)\n",
    "    TypeError: increment() takes 2 positional arguments but 3 were given\n",
    "\n",
    "The error message is initially confusing, because there are only two arguments in parentheses. But the subject is also considered an argument, so all together that’s three.\n",
    "\n",
    "By the way, a **positional argument** is an argument that doesn’t have a parameter name; that is, it is not a keyword argument. In this function call:\n",
    "\n",
    "    sketch(parrot, cage, dead=True)\n",
    "\n",
    "`parrot` and `cage` are positional, and `dead` is a keyword argument."
   ]
  },
  {
   "cell_type": "markdown",
   "metadata": {
    "collapsed": false
   },
   "source": [
    "## 17.4 A more complicated example\n",
    "\n",
    "Rewriting `is_after` (from Section 16.1) is slightly more complicated because it takes two Time objects as parameters. In this case it is conventional to name the ﬁrst parameter `self` and the second parameter `other`:\n",
    "\n",
    "    # inside class Time:\n",
    "\n",
    "        def is_after(self, other):\n",
    "            return self.time_to_int() > other.time_to_int()\n",
    "\n",
    "To use this method, you have to invoke it on one object and pass the other as an argument:\n",
    "\n",
    "    >>> end.is_after(start)\n",
    "    True\n",
    "\n",
    "One nice thing about this syntax is that it almost reads like English: “end is after start?”"
   ]
  },
  {
   "cell_type": "markdown",
   "metadata": {
    "collapsed": false
   },
   "source": [
    "## 17.5 The init method\n",
    "\n",
    "The `init` method (short for “initialization”) is a special method that gets invoked when an object is instantiated. Its full name is `__init__` (two underscore characters, followed by `init`, and then two more underscores). An init method for the `Time` class might look like this:\n",
    "\n",
    "    # inside class Time:\n",
    "\n",
    "        def __init__(self, hour=0, minute=0, second=0):\n",
    "            self.hour = hour\n",
    "            self.minute = minute\n",
    "            self.second = second\n",
    "\n",
    "It is common for the parameters of `__init__` to have the same names as the attributes. The statement\n",
    "\n",
    "    self.hour = hour\n",
    "\n",
    "stores the value of the parameter hour as an attribute of `self`.\n",
    "\n",
    "The parameters are optional, so if you call `Time` with no arguments, you get the default values.\n",
    "\n",
    "    >>> time = Time()\n",
    "    >>> time.print_time()\n",
    "    00:00:00\n",
    "\n",
    "If you provide one argument, it overrides `hour`:\n",
    "\n",
    "    >>> time = Time (9)\n",
    "    >>> time.print_time()\n",
    "    09:00:00\n",
    "\n",
    "If you provide two arguments, they override `hour` and `minute`.\n",
    "\n",
    "    >>> time = Time(9, 45)\n",
    "    >>> time.print_time()\n",
    "    09:45:00\n",
    "\n",
    "And if you provide three arguments, they override all three default values.\n",
    "\n",
    "As an exercise, write an init method for the `Point` class that takes `x` and `y` as optional parameters and assigns them to the corresponding attributes."
   ]
  },
  {
   "cell_type": "markdown",
   "metadata": {
    "collapsed": false
   },
   "source": [
    "## 17.6 The __str__ method\n",
    "\n",
    "`__str__` is a special method, like `__init__`, that is supposed to return a string representation of an object.\n",
    "\n",
    "For example, here is a `str` method for Time objects:\n",
    "\n",
    "    # inside class Time:\n",
    "\n",
    "        def __str__(self):\n",
    "            return '%.2d:%.2d:%.2d' % (self.hour, self.minute, self.second)\n",
    "\n",
    "When you print an object, Python invokes the `str` method:\n",
    "\n",
    "    >>> time = Time(9, 45)\n",
    "    >>> print(time)\n",
    "    09:45:00\n",
    "\n",
    "When I write a new class, I almost always start by writing `__init__`, which makes it easier to instantiate objects, and `__str__`, which is useful for debugging.\n",
    "\n",
    "As an exercise, write a `str` method for the `Point` class. Create a Point object and print it."
   ]
  },
  {
   "cell_type": "markdown",
   "metadata": {
    "collapsed": false
   },
   "source": [
    "## 17.7 Operator overloading\n",
    "\n",
    "By deﬁning other special methods, you can specify the behavior of operators on programmer-deﬁned types. For example, if you deﬁne a method named `__add__` for the `Time` class, you can use the `+` operator on Time objects.\n",
    "\n",
    "Here is what the deﬁnition might look like:\n",
    "\n",
    "    # inside class Time:\n",
    "\n",
    "        def __add__(self, other):\n",
    "            seconds = self.time_to_int() + other.time_to_int()\n",
    "            return int_to_time(seconds)\n",
    "\n",
    "And here is how you could use it:\n",
    "\n",
    "    >>> start = Time(9, 45)\n",
    "    >>> duration = Time(1, 35)\n",
    "    >>> print(start + duration)\n",
    "    11:20:00\n",
    "\n",
    "When you apply the `+` operator to Time objects, Python invokes `__add__`. When you print the result, Python invokes `__str__`. So there is a lot happening behind the scenes!\n",
    "\n",
    "Changing the behavior of an operator so that it works with programmer-deﬁned types is called **operator overloading**. For every operator in Python there is a corresponding special method, like `__add__`. For more details, see http://docs.python.org/3/reference/datamodel.html#specialnames.\n",
    "\n",
    "As an exercise, write an `add` method for the Point class."
   ]
  },
  {
   "cell_type": "code",
   "execution_count": 0,
   "metadata": {
    "collapsed": false
   },
   "outputs": [
   ],
   "source": [
   ]
  },
  {
   "cell_type": "code",
   "execution_count": 0,
   "metadata": {
    "collapsed": false
   },
   "outputs": [
   ],
   "source": [
   ]
  },
  {
   "cell_type": "markdown",
   "metadata": {
    "collapsed": false
   },
   "source": [
    "## 17.8 Type-based dispatch\n",
    "\n",
    "In the previous section we added two Time objects, but you also might want to add an integer to a Time object. The following is a version of `__add__` that checks the type of other and invokes either `add_time` or `increment`:\n",
    "\n",
    "    # inside class Time:\n",
    "\n",
    "        def __add__(self, other):\n",
    "            if isinstance(other, Time):\n",
    "                return self.add_time(other)\n",
    "            else:\n",
    "                return self.increment(other)\n",
    "\n",
    "        def add_time(self, other):\n",
    "            seconds = self.time_to_int() + other.time_to_int()\n",
    "            return int_to_time(seconds)\n",
    "\n",
    "        def increment(self, seconds):\n",
    "            seconds += self.time_to_int()\n",
    "            return int_to_time(seconds)\n",
    "\n",
    "The built-in function `isinstance` takes a value and a class object, and returns `True` if the value is an instance of the class.\n",
    "\n",
    "If `other` is a Time object, `__add__` invokes `add_time`. Otherwise it assumes that the parameter is a number and invokes `increment`. This operation is called a **type-based dispatch** because it dispatches the computation to different methods based on the type of the arguments.\n",
    "\n",
    "Here are examples that use the `+` operator with different types:\n",
    "\n",
    "    >>> start = Time(9, 45)\n",
    "    >>> duration = Time(1, 35)\n",
    "    >>> print(start + duration)\n",
    "    11:20:00\n",
    "    >>> print(start + 1337)\n",
    "    10:07:17\n",
    "\n",
    "Unfortunately, this implementation of addition is not commutative. If the integer is the ﬁrst operand, you get\n",
    "\n",
    "    >>> print(1337 + start)\n",
    "    TypeError: unsupported operand type(s) for +: 'int' and 'instance'\n",
    "\n",
    "The problem is, instead of asking the Time object to add an integer, Python is asking an integer to add a Time object, and it doesn’t know how. But there is a clever solution for this problem: the special method `__radd__`, which stands for “right-side add”. This method is invoked when a Time object appears on the right side of the `+` operator. Here’s the deﬁnition:\n",
    "\n",
    "    # inside class Time:\n",
    "\n",
    "        def __radd__(self, other):\n",
    "            return self.__add__(other)\n",
    "\n",
    "And here’s how it’s used:\n",
    "\n",
    "    >>> print(1337 + start)\n",
    "    10:07:17\n",
    "\n",
    "As an exercise, write an `add` method for Points that works with either a Point object or a tuple:\n",
    "\n",
    "* If the second operand is a Point, the method should return a new Point whose x coordinate is the sum of the x coordinates of the operands, and likewise for the y coordinates.\n",
    "\n",
    "* If the second operand is a tuple, the method should add the ﬁrst element of the tuple to the x coordinate and the second element to the y coordinate, and return a new Point with the result."
   ]
  },
  {
   "cell_type": "code",
   "execution_count": 0,
   "metadata": {
    "collapsed": false
   },
   "outputs": [
   ],
   "source": [
   ]
  },
  {
   "cell_type": "code",
   "execution_count": 0,
   "metadata": {
    "collapsed": false
   },
   "outputs": [
   ],
   "source": [
   ]
  },
  {
   "cell_type": "markdown",
   "metadata": {
    "collapsed": false
   },
   "source": [
    "## 17.9 Polymorphism\n",
    "\n",
    "Type-based dispatch is useful when it is necessary, but (fortunately) it is not always necessary. Often you can avoid it by writing functions that work correctly for arguments with different types.\n",
    "\n",
    "Many of the functions we wrote for strings also work for other sequence types. For example, in Section 11.2 we used `histogram` to count the number of times each letter appears in a word.\n",
    "\n",
    "    def histogram(s):\n",
    "        d = dict() for c in s:\n",
    "            if c not in d:\n",
    "                d[c] = 1\n",
    "            else:\n",
    "                d[c] = d[c]+1\n",
    "        return d\n",
    "\n",
    "This function also works for lists, tuples, and even dictionaries, as long as the elements of `s` are hashable, so they can be used as keys in `d`.\n",
    "\n",
    "    >>> t = ['spam', 'egg', 'spam', 'spam', 'bacon', 'spam']\n",
    "    >>> histogram(t)\n",
    "    {'bacon': 1, 'egg': 1, 'spam': 4}\n",
    "\n",
    "Functions that work with several types are called **polymorphic**. Polymorphism can facilitate code reuse. For example, the built-in function `sum`, which adds the elements of a sequence, works as long as the elements of the sequence support addition.\n",
    "\n",
    "Since Time objects provide an `add` method, they work with `sum`:\n",
    "\n",
    "    >>> t1 = Time(7, 43)\n",
    "    >>> t2 = Time(7, 41)\n",
    "    >>> t3 = Time(7, 37)\n",
    "    >>> total = sum([t1, t2, t3])\n",
    "    >>> print(total)\n",
    "    23:01:00\n",
    "\n",
    "In general, if all of the operations inside a function work with a given type, the function works with that type.\n",
    "\n",
    "The best kind of polymorphism is the unintentional kind, where you discover that a function you already wrote can be applied to a type you never planned for."
   ]
  },
  {
   "cell_type": "markdown",
   "metadata": {
    "collapsed": false
   },
   "source": [
    "## 17.10 Debugging\n",
    "\n",
    "It is legal to add attributes to objects at any point in the execution of a program, but if you have objects with the same type that don’t have the same attributes, it is easy to make mistakes. It is considered a good idea to initialize all of an object’s attributes in the init method.\n",
    "\n",
    "If you are not sure whether an object has a particular attribute, you can use the built-in function `hasattr` (see Section 15.7).\n",
    "\n",
    "Another way to access attributes is the built-in function `vars`, which takes an object and returns a dictionary that maps from attribute names (as strings) to their values:\n",
    "\n",
    "    >>> p = Point(3, 4)\n",
    "    >>> vars(p)\n",
    "    {'y': 4, 'x': 3}\n",
    "\n",
    "For purposes of debugging, you might ﬁnd it useful to keep this function handy:\n",
    "\n",
    "    def print_attributes(obj):\n",
    "        for attr in vars(obj):\n",
    "        print(attr, getattr(obj, attr))\n",
    "\n",
    "`print_attributes` traverses the dictionary and prints each attribute name and its corresponding value.\n",
    "\n",
    "The built-in function `getattr` takes an object and an attribute name (as a string) and returns the attribute’s value."
   ]
  },
  {
   "cell_type": "markdown",
   "metadata": {
    "collapsed": false
   },
   "source": [
    "## 17.11 Interface and implementation\n",
    "\n",
    "One of the goals of object-oriented design is to make software more maintainable, which means that you can keep the program working when other parts of the system change, and modify the program to meet new requirements.\n",
    "\n",
    "A design principle that helps achieve that goal is to keep interfaces separate from implementations. For objects, that means that the methods a class provides should not depend on how the attributes are represented.\n",
    "\n",
    "For example, in this chapter we developed a class that represents a time of day. Methods provided by this class include `time_to_int`, `is_after`, and `add_time`.\n",
    "\n",
    "We could implement those methods in several ways. The details of the implementation depend on how we represent time. In this chapter, the attributes of a `Time` object are `hour`, `minute`, and `second`.\n",
    "\n",
    "As an alternative, we could replace these attributes with a single integer representing the number of seconds since midnight. This implementation would make some methods, like `is_after`, easier to write, but it makes other methods harder.\n",
    "\n",
    "After you deploy a new class, you might discover a better implementation. If other parts of the program are using your class, it might be time-consuming and error-prone to change the interface.\n",
    "\n",
    "But if you designed the interface carefully, you can change the implementation without changing the interface, which means that other parts of the program don’t have to change."
   ]
  },
  {
   "cell_type": "markdown",
   "metadata": {
    "collapsed": false
   },
   "source": [
    "## 17.12 Glossary\n",
    "\n",
    "**object-oriented language:** A language that provides features, such as programmer-deﬁned types and methods, that facilitate object-oriented programming.\n",
    "\n",
    "**object-oriented programming:** A style of programming in which data and the operations that manipulate it are organized into classes and methods.\n",
    "\n",
    "**method:** A function that is deﬁned inside a class deﬁnition and is invoked on instances of that class.\n",
    "\n",
    "**subject:** The object a method is invoked on.\n",
    "\n",
    "**positional argument:** An argument that does not include a parameter name, so it is not a keyword argument.\n",
    "\n",
    "**operator overloading:** Changing the behavior of an operator like `+` so it works with a programmer-deﬁned type.\n",
    "\n",
    "**type-based dispatch:** A programming pattern that checks the type of an operand and invokes different functions for different types.\n",
    "\n",
    "**polymorphic:** Pertaining to a function that can work with more than one type.\n",
    "\n",
    "**information hiding:** The principle that the interface provided by an object should not depend on its implementation, in particular the representation of its attributes."
   ]
  },
  {
   "cell_type": "markdown",
   "metadata": {
    "collapsed": false
   },
   "source": [
    "## 17.13 Exercises\n",
    "\n",
    "**Exercise 17.1.** Download the code from this chapter from http://thinkpython2.com/code/Time2.py. Change the attributes of `Time` to be a single integer representing seconds since midnight. Then modify the methods (and the function `int_to_time`) to work with the new implementation. You should not have to modify the test code in `main`. When you are done, the output should be the same as before. Solution: http://thinkpython2.com/code/Time2_soln.py."
   ]
  },
  {
   "cell_type": "code",
   "execution_count": 0,
   "metadata": {
    "collapsed": false
   },
   "outputs": [
   ],
   "source": [
   ]
  },
  {
   "cell_type": "code",
   "execution_count": 0,
   "metadata": {
    "collapsed": false
   },
   "outputs": [
   ],
   "source": [
   ]
  },
  {
   "cell_type": "markdown",
   "metadata": {
    "collapsed": false
   },
   "source": [
    "**Exercise 17.2.** This exercise is a cautionary tale about one of the most common, and difﬁcult to ﬁnd, errors in Python. Write a deﬁnition for a class named `Kangaroo` with the following methods:\n",
    "\n",
    "1. An `__init__` method that initializes an attribute named `pouch_contents` to an empty list.\n",
    "\n",
    "2. A method named `put_in_pouch` that takes an object of any type and adds it to `pouch_contents`.\n",
    "\n",
    "3. A `__str__` method that returns a string representation of the Kangaroo object and the contents of the pouch.\n",
    "\n",
    "Test your code by creating two `Kangaroo` objects, assigning them to variables named `kanga` and `roo`, and then adding `roo` to the contents of `kanga`’s pouch.\n",
    "\n",
    "Download http://thinkpython2.com/code/BadKangaroo.py. It contains a solution to the previous problem with one big, nasty bug. Find and ﬁx the bug.\n",
    "\n",
    "If you get stuck, you can download http://thinkpython2.com/code/GoodKangaroo.py, which explains the problem and demonstrates a solution."
   ]
  },
  {
   "cell_type": "code",
   "execution_count": 0,
   "metadata": {
    "collapsed": false
   },
   "outputs": [
   ],
   "source": [
   ]
  },
  {
   "cell_type": "code",
   "execution_count": 0,
   "metadata": {
    "collapsed": false
   },
   "outputs": [
   ],
   "source": [
   ]
  }
 ],
 "metadata": {
  "kernelspec": {
   "display_name": "Python 3 (Anaconda)",
   "language": "python",
   "name": "anaconda3"
  },
  "language_info": {
   "codemirror_mode": {
    "name": "ipython",
    "version": 3
   },
   "file_extension": ".py",
   "mimetype": "text/x-python",
   "name": "python",
   "nbconvert_exporter": "python",
   "pygments_lexer": "ipython3",
   "version": "3.5.4"
  }
 },
 "nbformat": 4,
 "nbformat_minor": 0
}